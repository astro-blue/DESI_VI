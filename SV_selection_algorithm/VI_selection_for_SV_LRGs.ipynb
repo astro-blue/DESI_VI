{
 "cells": [
  {
   "cell_type": "code",
   "execution_count": 1,
   "metadata": {},
   "outputs": [],
   "source": [
    "import numpy as np\n",
    "import seaborn as sb\n",
    "import matplotlib.pyplot as plt\n",
    "import pandas as pd\n",
    "import astropy.io.fits as pf\n",
    "import warnings\n",
    "from astropy.table import Table, vstack\n",
    "warnings.filterwarnings('ignore')"
   ]
  },
  {
   "cell_type": "markdown",
   "metadata": {},
   "source": [
    "1. Reading the cascades LRG catalog"
   ]
  },
  {
   "cell_type": "code",
   "execution_count": 2,
   "metadata": {},
   "outputs": [],
   "source": [
    "diretory = '/global/cfs/cdirs/desi/survey/catalogs/SV1/redshift_comps/cascades/3.1/LRG/'\n",
    "dataname = 'alltiles_LRGzinfo.fits'\n",
    "catalog = Table.read(diretory+dataname,hdu='ZBEST')\n",
    "#zmag = -2.5*np.log10(catalog['FIBERFLUX_Z'])+22.5-1.211*catalog['EBV']"
   ]
  },
  {
   "cell_type": "markdown",
   "metadata": {},
   "source": [
    "2. Selecting the deep coadds with EFFTIME_dark>3000 & removing LRG targets observed in BGS+MWS observation"
   ]
  },
  {
   "cell_type": "code",
   "execution_count": 3,
   "metadata": {},
   "outputs": [
    {
     "name": "stdout",
     "output_type": "stream",
     "text": [
      "Number of deep coadds LRGs: 24973\n"
     ]
    }
   ],
   "source": [
    "search_LRG = np.where((catalog['subset']=='deep') & (catalog['TARGETS']!='BGS+MWS') & (catalog['EFFTIME_DARK']>3000))\n",
    "catalog_LRG = catalog[search_LRG[0]].copy()\n",
    "print('Number of deep coadds LRGs:',len(search_LRG[0]))"
   ]
  },
  {
   "cell_type": "markdown",
   "metadata": {},
   "source": [
    "3. Selecting the short exposures coadds with EFFTIME_dark>700 (not deep or all) & removing LRG targets observed in BGS+MWS observation"
   ]
  },
  {
   "cell_type": "code",
   "execution_count": 4,
   "metadata": {},
   "outputs": [
    {
     "name": "stdout",
     "output_type": "stream",
     "text": [
      "Number of short exposures: 210368\n"
     ]
    }
   ],
   "source": [
    "search_LRG_short = np.where((catalog['subset']!='all') & (catalog['TARGETS']!='BGS+MWS') & (catalog['EFFTIME_DARK']>700))\n",
    "catalog_LRG_short = catalog[search_LRG_short[0]].copy()\n",
    "print('Number of short exposures:', len(catalog_LRG_short))"
   ]
  },
  {
   "cell_type": "markdown",
   "metadata": {},
   "source": [
    "Just checking the EFFTIME_DARK distribution"
   ]
  },
  {
   "cell_type": "code",
   "execution_count": 5,
   "metadata": {},
   "outputs": [
    {
     "data": {
      "text/plain": [
       "<matplotlib.legend.Legend at 0x2aab15611f10>"
      ]
     },
     "execution_count": 5,
     "metadata": {},
     "output_type": "execute_result"
    },
    {
     "data": {
      "image/png": "[encoded data removed]",
      "text/plain": [
       "<Figure size 432x288 with 1 Axes>"
      ]
     },
     "metadata": {
      "needs_background": "light"
     },
     "output_type": "display_data"
    }
   ],
   "source": [
    "plt.hist(catalog_LRG['EFFTIME_DARK'],bins=20,range=(0,10000),label='Deep coadds')\n",
    "plt.hist(catalog_LRG_short['EFFTIME_DARK'],bins=20,range=(0,10000),alpha=0.5,label='short exposure coadds')\n",
    "plt.xlabel('EFFTIME_DARK')\n",
    "plt.yscale('log')\n",
    "plt.legend()"
   ]
  },
  {
   "cell_type": "markdown",
   "metadata": {},
   "source": [
    "4. Creating pandas tables from fit formats"
   ]
  },
  {
   "cell_type": "code",
   "execution_count": 6,
   "metadata": {},
   "outputs": [],
   "source": [
    "new_catalog_LRG_short = catalog_LRG_short[['TARGETID','Z','subset','TILEID','EFFTIME_DARK','DELTACHI2','ZWARN']].to_pandas()\n",
    "new_catalog_LRG = catalog_LRG['TARGETID','Z','subset','TILEID','DELTACHI2','EFFTIME_DARK','FIBERFLUX_Z','EBV','ZWARN'].to_pandas()"
   ]
  },
  {
   "cell_type": "markdown",
   "metadata": {},
   "source": [
    "5. Matching the two catalogs with targetid. The redrock information from the deep coadds has suffixes _deep and short coadds with _short"
   ]
  },
  {
   "cell_type": "code",
   "execution_count": 7,
   "metadata": {},
   "outputs": [],
   "source": [
    "catalog_LRG_match = new_catalog_LRG.merge(new_catalog_LRG_short,on='TARGETID',how='left',suffixes=(\"_deep\",\"_short\"))"
   ]
  },
  {
   "cell_type": "markdown",
   "metadata": {},
   "source": [
    "6. Removing same objects but observe in different tiles. and create redshift difference and zfibermag information"
   ]
  },
  {
   "cell_type": "code",
   "execution_count": 8,
   "metadata": {},
   "outputs": [],
   "source": [
    "final_match_catalog = catalog_LRG_match[catalog_LRG_match['TILEID_deep']==catalog_LRG_match['TILEID_short']]\n",
    "final_match_catalog['dz']=abs(final_match_catalog['Z_deep']-final_match_catalog['Z_short'])/(1.+final_match_catalog['Z_deep'])\n",
    "final_match_catalog['zfibermag']=-2.5*np.log10(final_match_catalog['FIBERFLUX_Z'])+22.5-1.211*final_match_catalog['EBV']"
   ]
  },
  {
   "cell_type": "markdown",
   "metadata": {},
   "source": [
    "7. Selecting targets with non repeatable redshifts.\n",
    "\n",
    "\n",
    "Selection:\n",
    "    a. |z_deep-z_short|/(1+z_deep)>0.0033\n",
    "    \n",
    "    b. DELTACHI2_deep>40\n",
    "    \n",
    "    c. Z_deep<1.4\n",
    "    \n",
    "    d. DELTACHI2_short>10\n",
    "    \n",
    "    e. zfibermag<21.7\n",
    "    \n",
    "    f. ZWARN_deep<=4\n",
    "    \n",
    "    g. ZWARN_short<=4\n",
    "    \n"
   ]
  },
  {
   "cell_type": "code",
   "execution_count": 9,
   "metadata": {},
   "outputs": [],
   "source": [
    "dz_not_good_catalog = final_match_catalog[(final_match_catalog['dz']>0.0033) & \n",
    "                                          (final_match_catalog['DELTACHI2_deep']>40) & \n",
    "                                          (final_match_catalog['Z_deep']<1.4) &\n",
    "                                          (final_match_catalog['DELTACHI2_short']>10) &\n",
    "                                          (final_match_catalog['zfibermag']<=21.7) & \n",
    "                                          (final_match_catalog['ZWARN_deep']<=4) & \n",
    "                                          (final_match_catalog['ZWARN_short']<=4)]"
   ]
  },
  {
   "cell_type": "markdown",
   "metadata": {},
   "source": [
    "8. Looking at the DELTACHI2_deep distribution with non-repeatable redshifts. What is interesting is that  there are many objects with high Deltachi2 but non-repeatable redshifts."
   ]
  },
  {
   "cell_type": "code",
   "execution_count": 10,
   "metadata": {},
   "outputs": [
    {
     "data": {
      "text/plain": [
       "(1.0, 5.0)"
      ]
     },
     "execution_count": 10,
     "metadata": {},
     "output_type": "execute_result"
    },
    {
     "data": {
      "image/png": "[encoded data removed]",
      "text/plain": [
       "<Figure size 432x288 with 1 Axes>"
      ]
     },
     "metadata": {
      "needs_background": "light"
     },
     "output_type": "display_data"
    }
   ],
   "source": [
    "plt.hist(np.log10(dz_not_good_catalog['DELTACHI2_deep']),bins=200,range=(0,5),alpha=0.5)\n",
    "plt.xlabel('log10 DELTACHI2 deep')\n",
    "plt.xlim(1,5)\n",
    "#plt.axvline(2.55)\n",
    "#plt.axvline(2.525)"
   ]
  },
  {
   "cell_type": "code",
   "execution_count": 11,
   "metadata": {},
   "outputs": [],
   "source": [
    "#dz_not_good_catalog[(np.log10(dz_not_good_catalog['DELTACHI2_deep'])>2.525) & (np.log10(dz_not_good_catalog['DELTACHI2_deep'])<2.55)]"
   ]
  },
  {
   "cell_type": "code",
   "execution_count": 12,
   "metadata": {},
   "outputs": [
    {
     "name": "stdout",
     "output_type": "stream",
     "text": [
      "Number of unique targets in the selection: 891\n"
     ]
    }
   ],
   "source": [
    "print('Number of unique targets in the selection:',len(set(dz_not_good_catalog['TARGETID'])))"
   ]
  },
  {
   "cell_type": "code",
   "execution_count": 13,
   "metadata": {},
   "outputs": [
    {
     "data": {
      "text/html": [
       "<div>\n",
       "<style scoped>\n",
       "    .dataframe tbody tr th:only-of-type {\n",
       "        vertical-align: middle;\n",
       "    }\n",
       "\n",
       "    .dataframe tbody tr th {\n",
       "        vertical-align: top;\n",
       "    }\n",
       "\n",
       "    .dataframe thead th {\n",
       "        text-align: right;\n",
       "    }\n",
       "</style>\n",
       "<table border=\"1\" class=\"dataframe\">\n",
       "  <thead>\n",
       "    <tr style=\"text-align: right;\">\n",
       "      <th></th>\n",
       "      <th>TARGETID</th>\n",
       "      <th>Z_deep</th>\n",
       "      <th>subset_deep</th>\n",
       "      <th>TILEID_deep</th>\n",
       "      <th>DELTACHI2_deep</th>\n",
       "      <th>EFFTIME_DARK_deep</th>\n",
       "      <th>FIBERFLUX_Z</th>\n",
       "      <th>EBV</th>\n",
       "      <th>ZWARN_deep</th>\n",
       "      <th>Z_short</th>\n",
       "      <th>subset_short</th>\n",
       "      <th>TILEID_short</th>\n",
       "      <th>EFFTIME_DARK_short</th>\n",
       "      <th>DELTACHI2_short</th>\n",
       "      <th>ZWARN_short</th>\n",
       "      <th>dz</th>\n",
       "      <th>zfibermag</th>\n",
       "    </tr>\n",
       "  </thead>\n",
       "  <tbody>\n",
       "    <tr>\n",
       "      <th>207</th>\n",
       "      <td>39627318032863357</td>\n",
       "      <td>-0.000004</td>\n",
       "      <td>b'deep'</td>\n",
       "      <td>80673</td>\n",
       "      <td>204.318520</td>\n",
       "      <td>3544.111450</td>\n",
       "      <td>2.174916</td>\n",
       "      <td>0.055251</td>\n",
       "      <td>0</td>\n",
       "      <td>1.473488</td>\n",
       "      <td>b'20210106'</td>\n",
       "      <td>80673</td>\n",
       "      <td>889.031998</td>\n",
       "      <td>10.476604</td>\n",
       "      <td>0</td>\n",
       "      <td>1.473497</td>\n",
       "      <td>21.589487</td>\n",
       "    </tr>\n",
       "    <tr>\n",
       "      <th>230</th>\n",
       "      <td>39627335120459931</td>\n",
       "      <td>0.883099</td>\n",
       "      <td>b'deep'</td>\n",
       "      <td>80673</td>\n",
       "      <td>8996.778588</td>\n",
       "      <td>3544.111450</td>\n",
       "      <td>10.405060</td>\n",
       "      <td>0.060735</td>\n",
       "      <td>0</td>\n",
       "      <td>-0.000056</td>\n",
       "      <td>b'20210116'</td>\n",
       "      <td>80673</td>\n",
       "      <td>879.886536</td>\n",
       "      <td>3417.710293</td>\n",
       "      <td>0</td>\n",
       "      <td>0.468990</td>\n",
       "      <td>19.883339</td>\n",
       "    </tr>\n",
       "    <tr>\n",
       "      <th>269</th>\n",
       "      <td>39627634556014086</td>\n",
       "      <td>0.655570</td>\n",
       "      <td>b'deep'</td>\n",
       "      <td>80605</td>\n",
       "      <td>376.503856</td>\n",
       "      <td>7018.350250</td>\n",
       "      <td>3.035687</td>\n",
       "      <td>0.032858</td>\n",
       "      <td>0</td>\n",
       "      <td>0.011039</td>\n",
       "      <td>b'20210130'</td>\n",
       "      <td>80605</td>\n",
       "      <td>791.298080</td>\n",
       "      <td>14.515690</td>\n",
       "      <td>0</td>\n",
       "      <td>0.389311</td>\n",
       "      <td>21.254566</td>\n",
       "    </tr>\n",
       "    <tr>\n",
       "      <th>299</th>\n",
       "      <td>39627634556017139</td>\n",
       "      <td>0.488257</td>\n",
       "      <td>b'deep'</td>\n",
       "      <td>80605</td>\n",
       "      <td>1661.693810</td>\n",
       "      <td>7018.350250</td>\n",
       "      <td>11.751681</td>\n",
       "      <td>0.033071</td>\n",
       "      <td>0</td>\n",
       "      <td>1.621111</td>\n",
       "      <td>b'20210130'</td>\n",
       "      <td>80605</td>\n",
       "      <td>791.298080</td>\n",
       "      <td>105.393718</td>\n",
       "      <td>0</td>\n",
       "      <td>0.761195</td>\n",
       "      <td>19.784700</td>\n",
       "    </tr>\n",
       "    <tr>\n",
       "      <th>412</th>\n",
       "      <td>39627634564401948</td>\n",
       "      <td>0.956663</td>\n",
       "      <td>b'deep'</td>\n",
       "      <td>80605</td>\n",
       "      <td>500.091498</td>\n",
       "      <td>7018.350250</td>\n",
       "      <td>2.053915</td>\n",
       "      <td>0.034651</td>\n",
       "      <td>0</td>\n",
       "      <td>0.461678</td>\n",
       "      <td>b'20210130'</td>\n",
       "      <td>80605</td>\n",
       "      <td>791.298080</td>\n",
       "      <td>19.061116</td>\n",
       "      <td>0</td>\n",
       "      <td>0.252974</td>\n",
       "      <td>21.676580</td>\n",
       "    </tr>\n",
       "    <tr>\n",
       "      <th>...</th>\n",
       "      <td>...</td>\n",
       "      <td>...</td>\n",
       "      <td>...</td>\n",
       "      <td>...</td>\n",
       "      <td>...</td>\n",
       "      <td>...</td>\n",
       "      <td>...</td>\n",
       "      <td>...</td>\n",
       "      <td>...</td>\n",
       "      <td>...</td>\n",
       "      <td>...</td>\n",
       "      <td>...</td>\n",
       "      <td>...</td>\n",
       "      <td>...</td>\n",
       "      <td>...</td>\n",
       "      <td>...</td>\n",
       "      <td>...</td>\n",
       "    </tr>\n",
       "    <tr>\n",
       "      <th>197611</th>\n",
       "      <td>39633567696815224</td>\n",
       "      <td>1.308183</td>\n",
       "      <td>b'deep'</td>\n",
       "      <td>80694</td>\n",
       "      <td>83.146021</td>\n",
       "      <td>3645.791595</td>\n",
       "      <td>3.192952</td>\n",
       "      <td>0.197145</td>\n",
       "      <td>0</td>\n",
       "      <td>1.193570</td>\n",
       "      <td>b'20210109'</td>\n",
       "      <td>80694</td>\n",
       "      <td>1651.603180</td>\n",
       "      <td>14.438922</td>\n",
       "      <td>0</td>\n",
       "      <td>0.049655</td>\n",
       "      <td>21.000776</td>\n",
       "    </tr>\n",
       "    <tr>\n",
       "      <th>197624</th>\n",
       "      <td>39633567701008493</td>\n",
       "      <td>1.289115</td>\n",
       "      <td>b'deep'</td>\n",
       "      <td>80694</td>\n",
       "      <td>193.026811</td>\n",
       "      <td>3645.791595</td>\n",
       "      <td>2.943339</td>\n",
       "      <td>0.247157</td>\n",
       "      <td>0</td>\n",
       "      <td>0.965193</td>\n",
       "      <td>b'20210116'</td>\n",
       "      <td>80694</td>\n",
       "      <td>774.684982</td>\n",
       "      <td>64.701088</td>\n",
       "      <td>0</td>\n",
       "      <td>0.141505</td>\n",
       "      <td>21.028593</td>\n",
       "    </tr>\n",
       "    <tr>\n",
       "      <th>197625</th>\n",
       "      <td>39633567701008493</td>\n",
       "      <td>1.289115</td>\n",
       "      <td>b'deep'</td>\n",
       "      <td>80694</td>\n",
       "      <td>193.026811</td>\n",
       "      <td>3645.791595</td>\n",
       "      <td>2.943339</td>\n",
       "      <td>0.247157</td>\n",
       "      <td>0</td>\n",
       "      <td>0.974355</td>\n",
       "      <td>b'20210109'</td>\n",
       "      <td>80694</td>\n",
       "      <td>1651.603180</td>\n",
       "      <td>322.210292</td>\n",
       "      <td>0</td>\n",
       "      <td>0.137503</td>\n",
       "      <td>21.028593</td>\n",
       "    </tr>\n",
       "    <tr>\n",
       "      <th>197627</th>\n",
       "      <td>39633567701008493</td>\n",
       "      <td>1.289115</td>\n",
       "      <td>b'deep'</td>\n",
       "      <td>80694</td>\n",
       "      <td>193.026811</td>\n",
       "      <td>3645.791595</td>\n",
       "      <td>2.943339</td>\n",
       "      <td>0.247157</td>\n",
       "      <td>0</td>\n",
       "      <td>5.186864</td>\n",
       "      <td>b'20210214'</td>\n",
       "      <td>80694</td>\n",
       "      <td>1069.921860</td>\n",
       "      <td>961.263084</td>\n",
       "      <td>0</td>\n",
       "      <td>1.702732</td>\n",
       "      <td>21.028593</td>\n",
       "    </tr>\n",
       "    <tr>\n",
       "      <th>197663</th>\n",
       "      <td>39633567709397266</td>\n",
       "      <td>0.922055</td>\n",
       "      <td>b'deep'</td>\n",
       "      <td>80694</td>\n",
       "      <td>3218.304354</td>\n",
       "      <td>3645.791595</td>\n",
       "      <td>28.012384</td>\n",
       "      <td>0.198947</td>\n",
       "      <td>0</td>\n",
       "      <td>1.510322</td>\n",
       "      <td>b'20210214'</td>\n",
       "      <td>80694</td>\n",
       "      <td>914.463531</td>\n",
       "      <td>104.529446</td>\n",
       "      <td>0</td>\n",
       "      <td>0.306062</td>\n",
       "      <td>18.640699</td>\n",
       "    </tr>\n",
       "  </tbody>\n",
       "</table>\n",
       "<p>1417 rows × 17 columns</p>\n",
       "</div>"
      ],
      "text/plain": [
       "                 TARGETID    Z_deep subset_deep  TILEID_deep  DELTACHI2_deep  \\\n",
       "207     39627318032863357 -0.000004     b'deep'        80673      204.318520   \n",
       "230     39627335120459931  0.883099     b'deep'        80673     8996.778588   \n",
       "269     39627634556014086  0.655570     b'deep'        80605      376.503856   \n",
       "299     39627634556017139  0.488257     b'deep'        80605     1661.693810   \n",
       "412     39627634564401948  0.956663     b'deep'        80605      500.091498   \n",
       "...                   ...       ...         ...          ...             ...   \n",
       "197611  39633567696815224  1.308183     b'deep'        80694       83.146021   \n",
       "197624  39633567701008493  1.289115     b'deep'        80694      193.026811   \n",
       "197625  39633567701008493  1.289115     b'deep'        80694      193.026811   \n",
       "197627  39633567701008493  1.289115     b'deep'        80694      193.026811   \n",
       "197663  39633567709397266  0.922055     b'deep'        80694     3218.304354   \n",
       "\n",
       "        EFFTIME_DARK_deep  FIBERFLUX_Z       EBV  ZWARN_deep   Z_short  \\\n",
       "207           3544.111450     2.174916  0.055251           0  1.473488   \n",
       "230           3544.111450    10.405060  0.060735           0 -0.000056   \n",
       "269           7018.350250     3.035687  0.032858           0  0.011039   \n",
       "299           7018.350250    11.751681  0.033071           0  1.621111   \n",
       "412           7018.350250     2.053915  0.034651           0  0.461678   \n",
       "...                   ...          ...       ...         ...       ...   \n",
       "197611        3645.791595     3.192952  0.197145           0  1.193570   \n",
       "197624        3645.791595     2.943339  0.247157           0  0.965193   \n",
       "197625        3645.791595     2.943339  0.247157           0  0.974355   \n",
       "197627        3645.791595     2.943339  0.247157           0  5.186864   \n",
       "197663        3645.791595    28.012384  0.198947           0  1.510322   \n",
       "\n",
       "       subset_short  TILEID_short  EFFTIME_DARK_short  DELTACHI2_short  \\\n",
       "207     b'20210106'         80673          889.031998        10.476604   \n",
       "230     b'20210116'         80673          879.886536      3417.710293   \n",
       "269     b'20210130'         80605          791.298080        14.515690   \n",
       "299     b'20210130'         80605          791.298080       105.393718   \n",
       "412     b'20210130'         80605          791.298080        19.061116   \n",
       "...             ...           ...                 ...              ...   \n",
       "197611  b'20210109'         80694         1651.603180        14.438922   \n",
       "197624  b'20210116'         80694          774.684982        64.701088   \n",
       "197625  b'20210109'         80694         1651.603180       322.210292   \n",
       "197627  b'20210214'         80694         1069.921860       961.263084   \n",
       "197663  b'20210214'         80694          914.463531       104.529446   \n",
       "\n",
       "        ZWARN_short        dz  zfibermag  \n",
       "207               0  1.473497  21.589487  \n",
       "230               0  0.468990  19.883339  \n",
       "269               0  0.389311  21.254566  \n",
       "299               0  0.761195  19.784700  \n",
       "412               0  0.252974  21.676580  \n",
       "...             ...       ...        ...  \n",
       "197611            0  0.049655  21.000776  \n",
       "197624            0  0.141505  21.028593  \n",
       "197625            0  0.137503  21.028593  \n",
       "197627            0  1.702732  21.028593  \n",
       "197663            0  0.306062  18.640699  \n",
       "\n",
       "[1417 rows x 17 columns]"
      ]
     },
     "execution_count": 13,
     "metadata": {},
     "output_type": "execute_result"
    }
   ],
   "source": [
    "dz_not_good_catalog"
   ]
  },
  {
   "cell_type": "markdown",
   "metadata": {},
   "source": [
    "9. Another selection\n",
    "\n",
    "a. DELTACHI2_deep>20\n",
    "\n",
    "b. Z_deep>1.4\n",
    "\n",
    "c. zfibermag<21.7"
   ]
  },
  {
   "cell_type": "code",
   "execution_count": 14,
   "metadata": {},
   "outputs": [],
   "source": [
    "new_catalog_LRG['zfibermag']=-2.5*np.log10(new_catalog_LRG['FIBERFLUX_Z'])+22.5-1.211*new_catalog_LRG['EBV']\n",
    "high_z_strange_object = new_catalog_LRG[(new_catalog_LRG['DELTACHI2']>20) & \n",
    "                                        (new_catalog_LRG['Z']>=1.4) & \n",
    "                                        (new_catalog_LRG['zfibermag']<21.7)]"
   ]
  },
  {
   "cell_type": "code",
   "execution_count": 15,
   "metadata": {},
   "outputs": [
    {
     "data": {
      "text/plain": [
       "(array([ 0.,  0.,  0.,  0.,  0., 11., 25., 20., 14.,  9., 11.,  7.,  7.,\n",
       "        11.,  6.,  8.,  7.,  5.,  2.,  2.]),\n",
       " array([0.  , 0.25, 0.5 , 0.75, 1.  , 1.25, 1.5 , 1.75, 2.  , 2.25, 2.5 ,\n",
       "        2.75, 3.  , 3.25, 3.5 , 3.75, 4.  , 4.25, 4.5 , 4.75, 5.  ]),\n",
       " <a list of 20 Patch objects>)"
      ]
     },
     "execution_count": 15,
     "metadata": {},
     "output_type": "execute_result"
    },
    {
     "data": {
      "image/png": "[encoded data removed]",
      "text/plain": [
       "<Figure size 432x288 with 1 Axes>"
      ]
     },
     "metadata": {
      "needs_background": "light"
     },
     "output_type": "display_data"
    }
   ],
   "source": [
    "plt.hist(np.log10(high_z_strange_object['DELTACHI2']),bins=20,range=(0,5))\n"
   ]
  },
  {
   "cell_type": "markdown",
   "metadata": {},
   "source": [
    "10. Combining the two catalogs and producing a list with \n",
    "TILEID, TARGETID, ID_FOR_selection"
   ]
  },
  {
   "cell_type": "code",
   "execution_count": 16,
   "metadata": {},
   "outputs": [],
   "source": [
    "all_tileid = np.append(dz_not_good_catalog['TILEID_deep'].to_numpy(),high_z_strange_object['TILEID'].to_numpy())\n",
    "all_targetid = np.append(dz_not_good_catalog['TARGETID'].to_numpy(),high_z_strange_object['TARGETID'].to_numpy())\n",
    "all_VI_selection = np.append(np.arange(0,len(dz_not_good_catalog['TARGETID'].to_numpy()))*0.,\n",
    "                             np.arange(0,len(high_z_strange_object['TARGETID'].to_numpy()))*0.+1)"
   ]
  },
  {
   "cell_type": "markdown",
   "metadata": {},
   "source": [
    "11. Creating an unique target list with no repetition "
   ]
  },
  {
   "cell_type": "code",
   "execution_count": 17,
   "metadata": {},
   "outputs": [],
   "source": [
    "TILEID = []\n",
    "FINAL_TARGETID = []\n",
    "FINAL_selection = []\n",
    "unique_tileid = np.array(list(set(all_tileid)))\n",
    "Number_of_object_per_tile = {}\n",
    "for i_tile in range(0,len(unique_tileid)):\n",
    "    search = np.where(all_tileid==unique_tileid[i_tile])\n",
    "    tmp_targetid = all_targetid[search[0]]\n",
    "    \n",
    "    unique_targetid = np.array(list(set(tmp_targetid)))\n",
    "    Number_of_object_per_tile[unique_tileid[i_tile]]=len(unique_targetid)\n",
    "    for i_td in range(0,len(unique_targetid)):\n",
    "        TILEID.append(unique_tileid[i_tile])\n",
    "        FINAL_TARGETID.append(unique_targetid[i_td])\n",
    "        search_selection = np.where((all_tileid==unique_tileid[i_tile]) & (all_targetid==unique_targetid[i_td]))\n",
    "        FINAL_selection.append(int(all_VI_selection[search_selection[0][0]]))"
   ]
  },
  {
   "cell_type": "code",
   "execution_count": 19,
   "metadata": {},
   "outputs": [
    {
     "name": "stdout",
     "output_type": "stream",
     "text": [
      "1039\n"
     ]
    },
    {
     "data": {
      "text/plain": [
       "{80669: 5,\n",
       " 80673: 5,\n",
       " 80675: 5,\n",
       " 80676: 88,\n",
       " 80677: 10,\n",
       " 80678: 73,\n",
       " 80679: 5,\n",
       " 80680: 71,\n",
       " 80681: 5,\n",
       " 80682: 66,\n",
       " 80683: 5,\n",
       " 80684: 25,\n",
       " 80685: 3,\n",
       " 80686: 22,\n",
       " 80688: 39,\n",
       " 80689: 1,\n",
       " 80690: 56,\n",
       " 80692: 34,\n",
       " 80693: 6,\n",
       " 80694: 56,\n",
       " 80699: 5,\n",
       " 80700: 46,\n",
       " 80705: 2,\n",
       " 80707: 3,\n",
       " 80711: 3,\n",
       " 80712: 13,\n",
       " 80605: 133,\n",
       " 80607: 96,\n",
       " 80609: 86,\n",
       " 80610: 2,\n",
       " 80620: 47,\n",
       " 80622: 22,\n",
       " 80623: 1}"
      ]
     },
     "execution_count": 19,
     "metadata": {},
     "output_type": "execute_result"
    }
   ],
   "source": [
    "print(len(FINAL_selection))\n",
    "Number_of_object_per_tile"
   ]
  },
  {
   "cell_type": "code",
   "execution_count": 20,
   "metadata": {},
   "outputs": [],
   "source": [
    "d = {'TILEID':TILEID,'TARGETID':FINAL_TARGETID,'VI_selection':FINAL_selection}\n",
    "df = pd.DataFrame(data=d)"
   ]
  },
  {
   "cell_type": "code",
   "execution_count": 21,
   "metadata": {},
   "outputs": [],
   "source": [
    "df.to_csv('SV_cascades_LRG_VI_target_list.v1.csv',index=False)"
   ]
  },
  {
   "cell_type": "code",
   "execution_count": 22,
   "metadata": {},
   "outputs": [],
   "source": [
    "new_data = pd.read_csv('SV_cascades_LRG_VI_target_list.v1.csv')"
   ]
  },
  {
   "cell_type": "code",
   "execution_count": 23,
   "metadata": {},
   "outputs": [
    {
     "name": "stdout",
     "output_type": "stream",
     "text": [
      "TOTAL selected spectra for VI: 1039\n"
     ]
    }
   ],
   "source": [
    "print('TOTAL selected spectra for VI:',len(TILEID))"
   ]
  },
  {
   "cell_type": "code",
   "execution_count": null,
   "metadata": {},
   "outputs": [],
   "source": []
  }
 ],
 "metadata": {
  "kernelspec": {
   "display_name": "DESI master",
   "language": "python",
   "name": "desi-master"
  },
  "language_info": {
   "codemirror_mode": {
    "name": "ipython",
    "version": 3
   },
   "file_extension": ".py",
   "mimetype": "text/x-python",
   "name": "python",
   "nbconvert_exporter": "python",
   "pygments_lexer": "ipython3",
   "version": "3.8.3"
  }
 },
 "nbformat": 4,
 "nbformat_minor": 4
}
