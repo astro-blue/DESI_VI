{
 "cells": [
  {
   "cell_type": "code",
   "execution_count": 676,
   "metadata": {},
   "outputs": [],
   "source": [
    "import numpy as np\n",
    "import seaborn as sb\n",
    "import matplotlib.pyplot as plt\n",
    "import pandas as pd\n",
    "import astropy.io.fits as pf\n",
    "import warnings\n",
    "from astropy.table import Table, vstack\n",
    "warnings.filterwarnings('ignore')"
   ]
  },
  {
   "cell_type": "markdown",
   "metadata": {},
   "source": [
    "1. Reading the cascades ELG catalog"
   ]
  },
  {
   "cell_type": "code",
   "execution_count": 677,
   "metadata": {},
   "outputs": [],
   "source": [
    "diretory = '/global/cfs/cdirs/desi/survey/catalogs/SV1/redshift_comps/cascades/3.2/ELG/'\n",
    "dataname = 'alltiles_ELGzinfo.fits'\n",
    "catalog = Table.read('/global/homes/r/raichoor/sv1/sv1-elg-cascades-3.1.fits')\n",
    "\n",
    "#catalog = Table.read(diretory+dataname,hdu='ZBEST')\n",
    "#zmag = -2.5*np.log10(catalog['FIBERFLUX_Z'])+22.5-1.211*catalog['EBV']"
   ]
  },
  {
   "cell_type": "markdown",
   "metadata": {},
   "source": [
    "2. Selecting the deep coadds with EFFTIME_dark>3000"
   ]
  },
  {
   "cell_type": "code",
   "execution_count": 678,
   "metadata": {},
   "outputs": [
    {
     "name": "stdout",
     "output_type": "stream",
     "text": [
      "Number of deep coadds ELGs: 70044\n"
     ]
    }
   ],
   "source": [
    "search_ELG = np.where((catalog['subset']=='deep')  & (catalog['EFFTIME_DARK']>3000))\n",
    "catalog_ELG = catalog[search_ELG[0]].copy()\n",
    "\n",
    "#search_ELG_oii = np.where((oii_catalog['subset']=='deep')  & (oii_catalog['EFFTIME_DARK']>3000))\n",
    "#oii_catalog_ELG = oii_catalog[search_ELG_oii[0]].copy()\n",
    "print('Number of deep coadds ELGs:',len(search_ELG[0]))\n",
    "#print(len(set(catalog_ELG['TARGETID']*catalog_ELG['TILEID'])))\n",
    "#print(len(oii_catalog_ELG))"
   ]
  },
  {
   "cell_type": "markdown",
   "metadata": {},
   "source": [
    "3. Selecting the short exposures coadds with EFFTIME_dark>700 (not deep or all)"
   ]
  },
  {
   "cell_type": "code",
   "execution_count": 679,
   "metadata": {},
   "outputs": [
    {
     "name": "stdout",
     "output_type": "stream",
     "text": [
      "Number of short exposures: 480977\n"
     ]
    }
   ],
   "source": [
    "search_ELG_short = np.where((catalog['subset']!='all') & (catalog['subset']!='deep') & (catalog['EFFTIME_DARK']>700))\n",
    "catalog_ELG_short = catalog[search_ELG_short[0]].copy()\n",
    "print('Number of short exposures:', len(catalog_ELG_short))"
   ]
  },
  {
   "cell_type": "markdown",
   "metadata": {},
   "source": [
    "Just checking the EFFTIME_DARK distribution"
   ]
  },
  {
   "cell_type": "code",
   "execution_count": 680,
   "metadata": {},
   "outputs": [
    {
     "data": {
      "text/plain": [
       "<matplotlib.legend.Legend at 0x2aab768411f0>"
      ]
     },
     "execution_count": 680,
     "metadata": {},
     "output_type": "execute_result"
    },
    {
     "data": {
      "image/png": "[encoded data removed]",
      "text/plain": [
       "<Figure size 432x288 with 1 Axes>"
      ]
     },
     "metadata": {
      "needs_background": "light"
     },
     "output_type": "display_data"
    }
   ],
   "source": [
    "plt.hist(catalog_ELG['EFFTIME_DARK'],bins=20,range=(0,10000),label='Deep coadds')\n",
    "plt.hist(catalog_ELG_short['EFFTIME_DARK'],bins=20,range=(0,10000),alpha=0.5,label='short exposure coadds')\n",
    "plt.xlabel('EFFTIME_DARK')\n",
    "plt.yscale('log')\n",
    "plt.legend()"
   ]
  },
  {
   "cell_type": "markdown",
   "metadata": {},
   "source": [
    "4. Creating pandas tables from fit formats"
   ]
  },
  {
   "cell_type": "code",
   "execution_count": 681,
   "metadata": {},
   "outputs": [],
   "source": [
    "new_catalog_ELG_short = catalog_ELG_short[['TARGETID','Z','subset','TILEID','EFFTIME_DARK','DELTACHI2','ZWARN','FOII','FOII_ERR']].to_pandas()\n",
    "new_catalog_ELG = catalog_ELG['TARGETID','Z','subset','TILEID','DELTACHI2','EFFTIME_DARK','FIBERFLUX_R','FIBERFLUX_Z','EBV','ZWARN','FOII','FOII_ERR','SPECTYPE'].to_pandas()\n"
   ]
  },
  {
   "cell_type": "markdown",
   "metadata": {},
   "source": [
    "5. Matching the two catalogs with targetid. The redrock information from the deep coadds has suffixes _deep and short coadds with _short"
   ]
  },
  {
   "cell_type": "code",
   "execution_count": 682,
   "metadata": {},
   "outputs": [],
   "source": [
    "catalog_ELG_match = new_catalog_ELG.merge(new_catalog_ELG_short,on='TARGETID',how='left',suffixes=(\"_deep\",\"_short\"))"
   ]
  },
  {
   "cell_type": "markdown",
   "metadata": {},
   "source": [
    "6. Removing same objects but observe in different tiles. and create redshift difference and zfibermag information"
   ]
  },
  {
   "cell_type": "code",
   "execution_count": 683,
   "metadata": {},
   "outputs": [
    {
     "name": "stdout",
     "output_type": "stream",
     "text": [
      "451345\n"
     ]
    }
   ],
   "source": [
    "final_match_catalog = catalog_ELG_match[catalog_ELG_match['TILEID_deep']==catalog_ELG_match['TILEID_short']]\n",
    "print(len(final_match_catalog))\n",
    "final_match_catalog['dz']=abs(final_match_catalog['Z_deep']-final_match_catalog['Z_short'])/(1.+final_match_catalog['Z_deep'])\n",
    "final_match_catalog['zfibermag']=-2.5*np.log10(final_match_catalog['FIBERFLUX_Z'])+22.5-1.211*final_match_catalog['EBV']\n",
    "final_match_catalog['rfibermag']=-2.5*np.log10(final_match_catalog['FIBERFLUX_R'])+22.5-2.165*final_match_catalog['EBV']\n",
    "final_match_catalog['OII_SN_deep']=final_match_catalog['FOII_deep']/final_match_catalog['FOII_ERR_deep']\n",
    "final_match_catalog['OII_SN_short']=final_match_catalog['FOII_short']/final_match_catalog['FOII_ERR_short']"
   ]
  },
  {
   "cell_type": "markdown",
   "metadata": {},
   "source": [
    "# 7. Selecting targets with [OII] from Anand with non repeatable redshifts.\n",
    "\n",
    "\n",
    "Selection:\n",
    "\n",
    "    a. |z_deep-z_short|/(1+z_deep)>0.0033\n",
    "    \n",
    "    b. 0.6<z_deep<1.58\n",
    "    \n",
    "    c. FOII_deep>0\n",
    "    \n",
    "    d. FOII_short>0\n",
    "    \n",
    "    e. ELG_deep satisfies Anand's selection\n",
    "    \n",
    "    f. ELG_short satisfies Anand's selection\n",
    "    \n",
    "    g. ZWARN_short<=4 & ZWARN_deep<=4\n",
    "    \n"
   ]
  },
  {
   "cell_type": "code",
   "execution_count": 684,
   "metadata": {},
   "outputs": [],
   "source": [
    "dz_not_good_catalog = final_match_catalog[(final_match_catalog['dz']>0.0033) & \n",
    "                                          (final_match_catalog['Z_deep']>=0.6) & \n",
    "                                          (final_match_catalog['Z_deep']<=1.58) &\n",
    "                                          (final_match_catalog['FOII_deep']>0) & \n",
    "                                          (final_match_catalog['FOII_short']>0) & \n",
    "                                          (np.log10(final_match_catalog['OII_SN_deep'])>(0.9-0.2*np.log10(final_match_catalog['DELTACHI2_deep']))) &                                           \n",
    "                                          (np.log10(final_match_catalog['OII_SN_short'])>(0.9-0.2*np.log10(final_match_catalog['DELTACHI2_short']))) &                                           \n",
    "                                          (final_match_catalog['ZWARN_deep']<=4) &\n",
    "                                          (final_match_catalog['ZWARN_short']<=4)]\n",
    "\n",
    "\n",
    "dz_not_good_catalog['VI_selection']=0"
   ]
  },
  {
   "cell_type": "markdown",
   "metadata": {},
   "source": [
    "8. Looking at the DELTACHI2_deep distribution with non-repeatable redshifts. What is interesting is that  there are many objects with high Deltachi2 but non-repeatable redshifts."
   ]
  },
  {
   "cell_type": "code",
   "execution_count": 685,
   "metadata": {},
   "outputs": [
    {
     "data": {
      "text/plain": [
       "(1.0, 5.0)"
      ]
     },
     "execution_count": 685,
     "metadata": {},
     "output_type": "execute_result"
    },
    {
     "data": {
      "image/png": "[encoded data removed]",
      "text/plain": [
       "<Figure size 432x288 with 1 Axes>"
      ]
     },
     "metadata": {
      "needs_background": "light"
     },
     "output_type": "display_data"
    }
   ],
   "source": [
    "plt.hist(np.log10(dz_not_good_catalog['DELTACHI2_deep']),bins=200,range=(0,5),alpha=0.5)\n",
    "plt.xlabel('log10 DELTACHI2 deep')\n",
    "plt.xlim(1,5)\n",
    "#plt.axvline(2.55)\n",
    "#plt.axvline(2.525)"
   ]
  },
  {
   "cell_type": "code",
   "execution_count": 686,
   "metadata": {},
   "outputs": [
    {
     "name": "stdout",
     "output_type": "stream",
     "text": [
      "Number of unique targets in the selection: 351\n"
     ]
    }
   ],
   "source": [
    "print('Number of unique targets in the selection:',len(set(dz_not_good_catalog['TARGETID']*dz_not_good_catalog['TILEID_deep'])))\n",
    "total_unique_sources = len(set(dz_not_good_catalog['TARGETID']*dz_not_good_catalog['TILEID_deep']))"
   ]
  },
  {
   "cell_type": "markdown",
   "metadata": {},
   "source": [
    "# 9. low redshift selection \n",
    "\n",
    "a. |Z_deep-Z_short|/(1+Z_deep)>0.0033\n",
    "\n",
    "b. Z_deep<0.6\n",
    "\n",
    "c. DELTACHI2_short>10\n",
    "\n",
    "d. DELTATCHI2_deep>50\n",
    "\n",
    "f ZWARN_deep and ZWARN_short<=4"
   ]
  },
  {
   "cell_type": "code",
   "execution_count": 687,
   "metadata": {},
   "outputs": [
    {
     "name": "stdout",
     "output_type": "stream",
     "text": [
      "485\n"
     ]
    }
   ],
   "source": [
    "low_z_object = final_match_catalog[(final_match_catalog['Z_deep']<0.6) & \n",
    "                                   (final_match_catalog['dz']>0.0033) & \n",
    "                                   (final_match_catalog['DELTACHI2_short']>20) & \n",
    "                                   (final_match_catalog['DELTACHI2_deep']>40) & \n",
    "                                   (final_match_catalog['ZWARN_deep']<=4) &\n",
    "                                   (final_match_catalog['ZWARN_short']<=4) \n",
    "                                  # (final_match_catalog['SPECTYPE']==b'GALAXY')\n",
    "                                  ]\n",
    "low_z_object['VI_selection']=1\n",
    "print(len(set(low_z_object['TARGETID']*low_z_object['TILEID_deep'])))\n",
    "total_unique_sources+=len(set(low_z_object['TARGETID']*low_z_object['TILEID_deep']))"
   ]
  },
  {
   "cell_type": "code",
   "execution_count": 701,
   "metadata": {},
   "outputs": [
    {
     "data": {
      "text/plain": [
       "\"\\nhigh_z_object = final_match_catalog[(final_match_catalog['dz']>0.0033) & \\n                                    (final_match_catalog['DELTACHI2_deep']<100) & \\n                                    (final_match_catalog['DELTACHI2_deep']>20) & \\n                                    (final_match_catalog['Z_deep']>1.501) & \\n                                    (final_match_catalog['Z_deep']<1.635)]\\nhigh_z_object['VI_selection']=2\\nprint(len(set(high_z_object['TARGETID']*high_z_object['TILEID_deep'])))\\ntotal_unique_sources+=len(set(high_z_object['TARGETID']*high_z_object['TILEID_deep']))\\n\""
      ]
     },
     "execution_count": 701,
     "metadata": {},
     "output_type": "execute_result"
    }
   ],
   "source": [
    "'''\n",
    "high_z_object = final_match_catalog[(final_match_catalog['dz']>0.0033) & \n",
    "                                    (final_match_catalog['DELTACHI2_deep']<100) & \n",
    "                                    (final_match_catalog['DELTACHI2_deep']>20) & \n",
    "                                    (final_match_catalog['Z_deep']>1.501) & \n",
    "                                    (final_match_catalog['Z_deep']<1.635)]\n",
    "high_z_object['VI_selection']=2\n",
    "print(len(set(high_z_object['TARGETID']*high_z_object['TILEID_deep'])))\n",
    "total_unique_sources+=len(set(high_z_object['TARGETID']*high_z_object['TILEID_deep']))\n",
    "'''"
   ]
  },
  {
   "cell_type": "markdown",
   "metadata": {},
   "source": [
    "Using Ashley's catalog and extracting the first 3 best redrock fits"
   ]
  },
  {
   "cell_type": "code",
   "execution_count": 689,
   "metadata": {},
   "outputs": [],
   "source": [
    "catalog_Ashley = Table.read('/global/cscratch1/sd/ajross/SV1/redshift_comps/cascades/test/ELG/alltiles_ELGzinfo_wh5.fits')\n",
    "search_ELG_high_z = np.where((catalog_Ashley['subset']=='deep')  & (catalog_Ashley['EFFTIME_DARK']>3000) & \n",
    "                             (catalog_Ashley['Z']>1.497) & (catalog_Ashley['Z']<1.635))\n",
    "catalog_Ashley_high_z = catalog_Ashley[search_ELG_high_z[0]].copy()\n",
    "\n",
    "search_ELG_Ashley_short = np.where((catalog_Ashley['subset']!='all') & (catalog_Ashley['subset']!='deep') & (catalog_Ashley['EFFTIME_DARK']>700))\n",
    "catalog_Ashley_short = catalog_Ashley[search_ELG_Ashley_short[0]].copy()\n",
    "\n",
    "new_catalog_ELG_Ashley_short = catalog_Ashley_short[['TARGETID','Z','subset','TILEID','EFFTIME_DARK','DELTACHI2','ZWARN','zwarn_1','zwarn_2','zwarn_3','z_1','z_2','z_3','deltachi2_1','deltachi2_2','deltachi2_3']].to_pandas()\n",
    "new_catalog_ELG_Ashley_highz = catalog_Ashley_high_z[['TARGETID','Z','subset','TILEID','DELTACHI2','EFFTIME_DARK','FIBERFLUX_R','FIBERFLUX_Z','EBV','ZWARN','zwarn_1','zwarn_2','zwarn_3','z_1','z_2','z_3','deltachi2_1','deltachi2_2','deltachi2_3']].to_pandas()\n",
    "catalog_ELG_match_high_z = new_catalog_ELG_Ashley_highz.merge(new_catalog_ELG_Ashley_short,on='TARGETID',how='left',suffixes=(\"_deep\",\"_short\"))\n",
    "\n",
    "final_match_catalog_high_z = catalog_ELG_match_high_z[catalog_ELG_match_high_z['TILEID_deep']==catalog_ELG_match_high_z['TILEID_short']]"
   ]
  },
  {
   "cell_type": "markdown",
   "metadata": {},
   "source": [
    "# 10. High z selection 1\n",
    "\n",
    "a. dz>0.0033\n",
    "\n",
    "b. 1.497<Z_deep<1.635\n",
    "\n",
    "c. DELTACHI2_deep>40\n",
    "\n",
    "d. DELTACHI2_short>20\n",
    "\n",
    "e. ZWARN_deep & ZWARN_short<=4"
   ]
  },
  {
   "cell_type": "code",
   "execution_count": 690,
   "metadata": {},
   "outputs": [
    {
     "name": "stdout",
     "output_type": "stream",
     "text": [
      "233\n"
     ]
    }
   ],
   "source": [
    "final_match_catalog_high_z['combine_deltachi2_deep']=final_match_catalog_high_z['DELTACHI2_deep']+final_match_catalog_high_z['deltachi2_1_deep']+final_match_catalog_high_z['deltachi2_2_deep']\n",
    "final_match_catalog_high_z['combine_deltachi2_short']=final_match_catalog_high_z['DELTACHI2_short']+final_match_catalog_high_z['deltachi2_1_short']+final_match_catalog_high_z['deltachi2_2_short']\n",
    "final_match_catalog_high_z['dz']=abs(final_match_catalog_high_z['Z_deep']-final_match_catalog_high_z['Z_short'])/(1+final_match_catalog_high_z['Z_deep'])\n",
    "\n",
    "high_z_object_simple_cut = final_match_catalog_high_z[(final_match_catalog_high_z['dz']>0.0033) & \n",
    "                                    (final_match_catalog_high_z['DELTACHI2_deep']>40) &\n",
    "                                    (final_match_catalog_high_z['DELTACHI2_short']>20) &\n",
    "                                    (final_match_catalog_high_z['ZWARN_deep']<=4) & \n",
    "                                    (final_match_catalog_high_z['ZWARN_short']<=4)]\n",
    "high_z_object_simple_cut['VI_selection']=2                                  \n",
    "print(len(set(high_z_object_simple_cut['TARGETID']*high_z_object_simple_cut['TILEID_deep'])))\n",
    "total_unique_sources+=len(set(high_z_object_simple_cut['TARGETID']*high_z_object_simple_cut['TILEID_deep']))"
   ]
  },
  {
   "cell_type": "markdown",
   "metadata": {},
   "source": [
    "# 10. High z selection 2\n",
    "\n",
    "a. dz>0.0033\n",
    "\n",
    "b. 1.497<Z_deep<1.635\n",
    "\n",
    "c. Z_1 as [OIII] or Ha line\n",
    "\n",
    "d. DELTACHI2_combine_deep<100"
   ]
  },
  {
   "cell_type": "code",
   "execution_count": 691,
   "metadata": {},
   "outputs": [
    {
     "name": "stdout",
     "output_type": "stream",
     "text": [
      "392\n"
     ]
    }
   ],
   "source": [
    "redshift_selection = (((final_match_catalog_high_z['z_1_deep']>=3710.*(1+final_match_catalog_high_z['Z_deep'])/5007.-1) &\n",
    "                    (final_match_catalog_high_z['z_1_deep']<3770.*(1+final_match_catalog_high_z['Z_deep'])/5007.-1)) | \n",
    "                    ((final_match_catalog_high_z['z_1_deep']>=3720.*(1+final_match_catalog_high_z['Z_deep'])/6563.-1) &\n",
    "                    (final_match_catalog_high_z['z_1_deep']<3740.*(1+final_match_catalog_high_z['Z_deep'])/6563.-1)))\n",
    "\n",
    "deep_good_highz_catalog = final_match_catalog_high_z[redshift_selection]\n",
    "\n",
    "high_z_sample_Ha_OIII = deep_good_highz_catalog[(deep_good_highz_catalog['combine_deltachi2_deep']<100)]\n",
    "print(len(set(high_z_sample_Ha_OIII['TARGETID']*high_z_sample_Ha_OIII['TILEID_deep'])))\n",
    "total_unique_sources+=len(set(high_z_sample_Ha_OIII['TARGETID']*high_z_sample_Ha_OIII['TILEID_deep']))\n",
    "\n",
    "high_z_sample_Ha_OIII['VI_selection']=3\n",
    "#redshift_selection_short = (((deep_good_highz_catalog['z_1_short']>=3710.*(1+deep_good_highz_catalog['Z_short'])/5007-1) &\n",
    "#                    (deep_good_highz_catalog['z_1_short']<3770.*(1+deep_good_highz_catalog['Z_short'])/5007.-1)) | \n",
    "#                    ((deep_good_highz_catalog['z_1_short']>=3720.*(1+deep_good_highz_catalog['Z_short'])/6563.-1) &\n",
    "#                    (deep_good_highz_catalog['z_1_short']<3740.*(1+deep_good_highz_catalog['Z_short'])/6563.-1)))\n",
    "\n",
    "\n",
    "#deep_good_short_good_highz_catalog = deep_good_highz_catalog#[redshift_selection_short]\n",
    "#final_high_z_sample = deep_good_short_good_highz_catalog[\n",
    "#                                             #(deep_good_short_good_highz_catalog['dz']>0.0033) &\n",
    "#                                             (deep_good_short_good_highz_catalog['combine_deltachi2_deep']<100) & \n",
    "#                                             (deep_good_short_good_highz_catalog['ZWARN_deep']<=4) & \n",
    "#                                             (deep_good_short_good_highz_catalog['ZWARN_short']<=4)]\n",
    "\n",
    "#plt.hist(np.log10(deep_good_short_good_highz_catalog['combine_deltachi2_deep']),bins=20,range=(0,5))\n",
    "#plt.hist(np.log10(deep_good_highz_catalog['combine_deltachi2_deep']),bins=20,range=(0,5),alpha=0.5)\n",
    "\n",
    "#print(len(set(final_high_z_sample['TARGETID'])))\n",
    "#print(len(set(deep_good_highz_catalog['TARGETID'])))\n",
    "\n",
    "#final_match_catalog_high_z['DELTACHI2']\n",
    "#len(deep_good_highz_catalog[redshift_selection_short])\n",
    "#((z_1>=3710.*(1+best_z)/5007-1) & (z_1<3770.*(1+best_z)/5007-1)) | ((z_1>=3720.*(1+best_z)/6563-1) & (z_1<3740.*(1+best_z)/6563-1)))\n",
    "#final_match_catalog_high_z[]\n",
    "\n",
    "#plt.scatter(final_match_catalog_high_z['Z_deep'][redshift_selection],final_match_catalog_high_z['z_1_deep'][redshift_selection])"
   ]
  },
  {
   "cell_type": "markdown",
   "metadata": {},
   "source": [
    "# 11. High redshift sources\n",
    "\n",
    "a. |z_deep-z_short|/(1+z_deep)>0.0033\n",
    "\n",
    "b. z_deep>1.635\n",
    "\n",
    "c. DELTACHI2_short>20\n",
    "\n",
    "d. DELTACHI2_deep>40\n",
    "\n",
    "f ZWARN_deep<=4 & ZWARN_short<=4\n"
   ]
  },
  {
   "cell_type": "code",
   "execution_count": 692,
   "metadata": {},
   "outputs": [
    {
     "name": "stdout",
     "output_type": "stream",
     "text": [
      "372\n"
     ]
    }
   ],
   "source": [
    "extreme_high_z_object = final_match_catalog[(final_match_catalog['Z_deep']>1.635) & \n",
    "                                   (final_match_catalog['dz']>0.0033) & \n",
    "                                   (final_match_catalog['DELTACHI2_short']>20) & \n",
    "                                   (final_match_catalog['DELTACHI2_deep']>40) & \n",
    "                                   #(final_match_catalog['DELTACHI2_deep']<100) & \n",
    "                                   (final_match_catalog['ZWARN_deep']<=4) &\n",
    "                                   (final_match_catalog['ZWARN_short']<=4)\n",
    "                                  ]\n",
    "extreme_high_z_object['VI_selection']=4\n",
    "print(len(set(extreme_high_z_object['TARGETID']*extreme_high_z_object['TILEID_deep'])))\n",
    "total_unique_sources+=len(set(extreme_high_z_object['TARGETID']*extreme_high_z_object['TILEID_deep']))"
   ]
  },
  {
   "cell_type": "code",
   "execution_count": 693,
   "metadata": {},
   "outputs": [],
   "source": [
    "combined_catalog  = dz_not_good_catalog\n",
    "combined_catalog = combined_catalog.append(extreme_high_z_object,ignore_index=True)\n",
    "combined_catalog = combined_catalog.append(low_z_object,ignore_index=True)\n",
    "combined_catalog = combined_catalog.append(high_z_object_simple_cut,ignore_index=True)\n",
    "combined_catalog = combined_catalog.append(high_z_sample_Ha_OIII,ignore_index=True)"
   ]
  },
  {
   "cell_type": "code",
   "execution_count": 697,
   "metadata": {},
   "outputs": [
    {
     "name": "stdout",
     "output_type": "stream",
     "text": [
      "1833\n",
      "1802\n"
     ]
    }
   ],
   "source": [
    "print(total_unique_sources)\n",
    "print(len(set(combined_catalog['TARGETID']*combined_catalog['TILEID_deep'])))"
   ]
  },
  {
   "cell_type": "markdown",
   "metadata": {},
   "source": [
    "10. Combining the two catalogs and producing a list with \n",
    "TILEID, TARGETID, ID_FOR_selection"
   ]
  },
  {
   "cell_type": "code",
   "execution_count": 708,
   "metadata": {},
   "outputs": [],
   "source": [
    "all_tileid = combined_catalog['TILEID_deep']\n",
    "all_targetid = combined_catalog['TARGETID']\n",
    "all_VI_selection = combined_catalog['VI_selection']\n",
    "#all_tileid = np.append(dz_not_good_catalog['TILEID_deep'].to_numpy(),high_z_strange_object['TILEID'].to_numpy())\n",
    "#all_targetid = np.append(dz_not_good_catalog['TARGETID'].to_numpy(),high_z_strange_object['TARGETID'].to_numpy())\n",
    "#all_VI_selection = np.append(np.arange(0,len(dz_not_good_catalog['TARGETID'].to_numpy()))*0.,\n",
    "#                             np.arange(0,len(high_z_strange_object['TARGETID'].to_numpy()))*0.+1)"
   ]
  },
  {
   "cell_type": "markdown",
   "metadata": {},
   "source": [
    "11. Creating an unique target list with no repetition "
   ]
  },
  {
   "cell_type": "code",
   "execution_count": 715,
   "metadata": {},
   "outputs": [],
   "source": [
    "TILEID = []\n",
    "FINAL_TARGETID = []\n",
    "FINAL_selection = []\n",
    "unique_tileid = np.array(list(set(all_tileid)))\n",
    "Number_of_object_per_tile = {}\n",
    "for i_tile in range(0,len(unique_tileid)):\n",
    "    if (unique_tileid[i_tile]!=80606) & (unique_tileid[i_tile]!=80608) & (unique_tileid[i_tile]!=80610):\n",
    "        search = np.where(all_tileid==unique_tileid[i_tile])\n",
    "        tmp_targetid = all_targetid[search[0]]\n",
    "\n",
    "        unique_targetid = np.array(list(set(tmp_targetid)))\n",
    "        Number_of_object_per_tile[unique_tileid[i_tile]]=len(unique_targetid)\n",
    "        for i_td in range(0,len(unique_targetid)):\n",
    "            TILEID.append(unique_tileid[i_tile])\n",
    "            FINAL_TARGETID.append(unique_targetid[i_td])\n",
    "            search_selection = np.where((all_tileid==unique_tileid[i_tile]) & (all_targetid==unique_targetid[i_td]))\n",
    "            FINAL_selection.append(int(all_VI_selection[search_selection[0][0]]))"
   ]
  },
  {
   "cell_type": "code",
   "execution_count": 716,
   "metadata": {},
   "outputs": [
    {
     "name": "stdout",
     "output_type": "stream",
     "text": [
      "1417\n"
     ]
    },
    {
     "data": {
      "text/plain": [
       "{80669: 49,\n",
       " 80673: 82,\n",
       " 80675: 57,\n",
       " 80676: 26,\n",
       " 80677: 43,\n",
       " 80678: 24,\n",
       " 80679: 32,\n",
       " 80680: 24,\n",
       " 80681: 83,\n",
       " 80682: 30,\n",
       " 80683: 35,\n",
       " 80684: 12,\n",
       " 80685: 48,\n",
       " 80686: 15,\n",
       " 80688: 23,\n",
       " 80689: 41,\n",
       " 80690: 25,\n",
       " 80692: 25,\n",
       " 80693: 64,\n",
       " 80694: 24,\n",
       " 80699: 41,\n",
       " 80700: 19,\n",
       " 80701: 81,\n",
       " 80705: 79,\n",
       " 80707: 63,\n",
       " 80709: 36,\n",
       " 80711: 41,\n",
       " 80712: 19,\n",
       " 80605: 66,\n",
       " 80607: 39,\n",
       " 80609: 39,\n",
       " 80620: 23,\n",
       " 80621: 50,\n",
       " 80622: 17,\n",
       " 80623: 42}"
      ]
     },
     "execution_count": 716,
     "metadata": {},
     "output_type": "execute_result"
    }
   ],
   "source": [
    "print(len(FINAL_selection))\n",
    "Number_of_object_per_tile"
   ]
  },
  {
   "cell_type": "code",
   "execution_count": 49,
   "metadata": {},
   "outputs": [],
   "source": [
    "d = {'TILEID':TILEID,'TARGETID':FINAL_TARGETID,'VI_selection':FINAL_selection}\n",
    "df = pd.DataFrame(data=d)"
   ]
  },
  {
   "cell_type": "code",
   "execution_count": 178,
   "metadata": {},
   "outputs": [],
   "source": [
    "df.to_csv('SV_cascades_ELG_VI_target_list.v1.csv',index=False)"
   ]
  },
  {
   "cell_type": "code",
   "execution_count": 179,
   "metadata": {},
   "outputs": [],
   "source": [
    "new_data = pd.read_csv('SV_cascades_ELG_VI_target_list.v1.csv')"
   ]
  },
  {
   "cell_type": "code",
   "execution_count": 180,
   "metadata": {},
   "outputs": [
    {
     "name": "stdout",
     "output_type": "stream",
     "text": [
      "TOTAL selected spectra for VI: 2318\n"
     ]
    }
   ],
   "source": [
    "print('TOTAL selected spectra for VI:',len(TILEID))"
   ]
  },
  {
   "cell_type": "code",
   "execution_count": null,
   "metadata": {},
   "outputs": [],
   "source": []
  }
 ],
 "metadata": {
  "kernelspec": {
   "display_name": "DESI master",
   "language": "python",
   "name": "desi-master"
  },
  "language_info": {
   "codemirror_mode": {
    "name": "ipython",
    "version": 3
   },
   "file_extension": ".py",
   "mimetype": "text/x-python",
   "name": "python",
   "nbconvert_exporter": "python",
   "pygments_lexer": "ipython3",
   "version": "3.8.3"
  }
 },
 "nbformat": 4,
 "nbformat_minor": 4
}
