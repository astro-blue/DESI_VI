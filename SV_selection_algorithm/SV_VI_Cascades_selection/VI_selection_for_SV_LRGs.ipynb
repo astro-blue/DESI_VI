{
 "cells": [
  {
   "cell_type": "code",
   "execution_count": 1,
   "metadata": {},
   "outputs": [],
   "source": [
    "import numpy as np\n",
    "import seaborn as sb\n",
    "import matplotlib.pyplot as plt\n",
    "import pandas as pd\n",
    "import astropy.io.fits as pf\n",
    "import warnings\n",
    "from astropy.table import Table, vstack\n",
    "from scipy.ndimage.filters import median_filter as median_filter\n",
    "import desispec.io\n",
    "import desispec.coaddition\n",
    "warnings.filterwarnings('ignore')"
   ]
  },
  {
   "cell_type": "code",
   "execution_count": 2,
   "metadata": {},
   "outputs": [],
   "source": [
    "def extracting_spectrum(targetid, tileid, paddleid,subset):\n",
    "    directory = '/global/cfs/cdirs/desi/spectro/redux/cascades/tiles/'+str(tileid)+'/'+str(subset)+'/'\n",
    "    filename = 'coadd-'+str(paddleid)+'-'+str(tileid)+'-'+str(subset)+'.fits'\n",
    "    coadd = desispec.io.read_spectra(directory+filename)\n",
    "    combine = desispec.coaddition.coadd_cameras(coadd)\n",
    "    index = []\n",
    "    for i in range(0,len(targetid)):\n",
    "        index.append(np.where(np.array(coadd.fibermap['TARGETID'])==targetid[i])[0][0])\n",
    "    print(index)\n",
    "    return combine.wave,combine.flux['brz'][np.array(index)],combine.ivar['brz'][np.array(index)]"
   ]
  },
  {
   "cell_type": "markdown",
   "metadata": {},
   "source": [
    "1. Reading the cascades LRG catalog"
   ]
  },
  {
   "cell_type": "code",
   "execution_count": 3,
   "metadata": {},
   "outputs": [],
   "source": [
    "diretory = '/global/cfs/cdirs/desi/survey/catalogs/SV1/redshift_comps/cascades/3.1/LRG/'\n",
    "dataname = 'alltiles_LRGzinfo.fits'\n",
    "catalog = Table.read(diretory+dataname,hdu='ZBEST')\n",
    "#zmag = -2.5*np.log10(catalog['FIBERFLUX_Z'])+22.5-1.211*catalog['EBV']"
   ]
  },
  {
   "cell_type": "markdown",
   "metadata": {},
   "source": [
    "2. Selecting the deep coadds with EFFTIME_dark>3000 & removing LRG targets observed in BGS+MWS observation"
   ]
  },
  {
   "cell_type": "code",
   "execution_count": 4,
   "metadata": {},
   "outputs": [
    {
     "name": "stdout",
     "output_type": "stream",
     "text": [
      "Number of deep coadds LRGs: 24973\n"
     ]
    }
   ],
   "source": [
    "search_LRG = np.where((catalog['subset']=='deep') & (catalog['TARGETS']!='BGS+MWS') & (catalog['EFFTIME_DARK']>3000))\n",
    "catalog_LRG = catalog[search_LRG[0]].copy()\n",
    "print('Number of deep coadds LRGs:',len(search_LRG[0]))"
   ]
  },
  {
   "cell_type": "markdown",
   "metadata": {},
   "source": [
    "3. Selecting the short exposures coadds with EFFTIME_dark>700 (not deep or all) & removing LRG targets observed in BGS+MWS observation"
   ]
  },
  {
   "cell_type": "code",
   "execution_count": 5,
   "metadata": {},
   "outputs": [
    {
     "name": "stdout",
     "output_type": "stream",
     "text": [
      "Number of short exposures: 180272\n"
     ]
    }
   ],
   "source": [
    "search_LRG_short = np.where((catalog['subset']!='all') & (catalog['subset']!='deep') & (catalog['TARGETS']!='BGS+MWS') & (catalog['EFFTIME_DARK']>700))\n",
    "catalog_LRG_short = catalog[search_LRG_short[0]].copy()\n",
    "print('Number of short exposures:', len(catalog_LRG_short))"
   ]
  },
  {
   "cell_type": "markdown",
   "metadata": {},
   "source": [
    "Just checking the EFFTIME_DARK distribution"
   ]
  },
  {
   "cell_type": "code",
   "execution_count": 6,
   "metadata": {},
   "outputs": [
    {
     "data": {
      "text/plain": [
       "<matplotlib.legend.Legend at 0x2aab1c18b6d0>"
      ]
     },
     "execution_count": 6,
     "metadata": {},
     "output_type": "execute_result"
    },
    {
     "data": {
      "image/png": "[encoded data removed]",
      "text/plain": [
       "<Figure size 432x288 with 1 Axes>"
      ]
     },
     "metadata": {
      "needs_background": "light"
     },
     "output_type": "display_data"
    }
   ],
   "source": [
    "plt.hist(catalog_LRG['EFFTIME_DARK'],bins=20,range=(0,10000),label='Deep coadds')\n",
    "plt.hist(catalog_LRG_short['EFFTIME_DARK'],bins=20,range=(0,10000),alpha=0.5,label='short exposure coadds')\n",
    "plt.xlabel('EFFTIME_DARK')\n",
    "plt.yscale('log')\n",
    "plt.legend()"
   ]
  },
  {
   "cell_type": "markdown",
   "metadata": {},
   "source": [
    "4. Creating pandas tables from fit formats"
   ]
  },
  {
   "cell_type": "code",
   "execution_count": 7,
   "metadata": {},
   "outputs": [],
   "source": [
    "new_catalog_LRG_short = catalog_LRG_short[['TARGETID','Z','subset','TILEID','EFFTIME_DARK','DELTACHI2','ZWARN','FIBER','RZR']].to_pandas()\n",
    "new_catalog_LRG = catalog_LRG['TARGETID','Z','subset','TILEID','DELTACHI2','EFFTIME_DARK','FIBERFLUX_Z','EBV','ZWARN','FIBER','RZR'].to_pandas()"
   ]
  },
  {
   "cell_type": "code",
   "execution_count": 8,
   "metadata": {},
   "outputs": [],
   "source": [
    "#plt.scatter(new_catalog_LRG['Z'],np.log10(new_catalog_LRG['DELTACHI2']),s=1)"
   ]
  },
  {
   "cell_type": "markdown",
   "metadata": {},
   "source": [
    "5. Matching the two catalogs with targetid. The redrock information from the deep coadds has suffixes _deep and short coadds with _short"
   ]
  },
  {
   "cell_type": "code",
   "execution_count": 9,
   "metadata": {},
   "outputs": [],
   "source": [
    "catalog_LRG_match = new_catalog_LRG.merge(new_catalog_LRG_short,on='TARGETID',how='left',suffixes=(\"_deep\",\"_short\"))"
   ]
  },
  {
   "cell_type": "markdown",
   "metadata": {},
   "source": [
    "6. Removing same objects but observe in different tiles. and create redshift difference and zfibermag information"
   ]
  },
  {
   "cell_type": "code",
   "execution_count": 10,
   "metadata": {},
   "outputs": [],
   "source": [
    "final_match_catalog = catalog_LRG_match[catalog_LRG_match['TILEID_deep']==catalog_LRG_match['TILEID_short']]\n",
    "final_match_catalog['dz']=abs(final_match_catalog['Z_deep']-final_match_catalog['Z_short'])/(1.+final_match_catalog['Z_deep'])\n",
    "final_match_catalog['zfibermag']=-2.5*np.log10(final_match_catalog['FIBERFLUX_Z'])+22.5-1.211*final_match_catalog['EBV']"
   ]
  },
  {
   "cell_type": "markdown",
   "metadata": {},
   "source": [
    "7. Selecting targets with non repeatable redshifts.\n",
    "\n",
    "\n",
    "Selection:\n",
    "    a. |z_deep-z_short|/(1+z_deep)>0.0033\n",
    "    \n",
    "    b. DELTACHI2_deep>15\n",
    "    \n",
    "    c. Z_deep<1.4\n",
    "    \n",
    "    d. DELTACHI2_short>10\n",
    "    \n",
    "    e. zfibermag<21.72\n",
    "    \n",
    "    f. ZWARN_deep<=4\n",
    "    \n",
    "    g. ZWARN_short<=4\n",
    "    \n"
   ]
  },
  {
   "cell_type": "code",
   "execution_count": 11,
   "metadata": {},
   "outputs": [],
   "source": [
    "dz_not_good_catalog = final_match_catalog[(final_match_catalog['dz']>0.0033) & \n",
    "                                          #(final_match_catalog['dz']>0.01) & \n",
    "                                          (final_match_catalog['DELTACHI2_deep']>15) & \n",
    "                                          (final_match_catalog['Z_deep']<1.4) & \n",
    "                                          #(final_match_catalog['Z_deep']>0.3) & \n",
    "                                          (final_match_catalog['DELTACHI2_short']>10) &\n",
    "                                          (final_match_catalog['zfibermag']<=21.72) & \n",
    "                                          (final_match_catalog['ZWARN_deep']<=4) & \n",
    "                                          (final_match_catalog['ZWARN_short']<=4)]"
   ]
  },
  {
   "cell_type": "code",
   "execution_count": 12,
   "metadata": {},
   "outputs": [],
   "source": [
    "#dz_not_good_catalog.to_csv('LRG_dz_not_good_catalog.csv')"
   ]
  },
  {
   "cell_type": "markdown",
   "metadata": {},
   "source": [
    "8. Looking at the DELTACHI2_deep distribution with non-repeatable redshifts. What is interesting is that  there are many objects with high Deltachi2 but non-repeatable redshifts."
   ]
  },
  {
   "cell_type": "code",
   "execution_count": 13,
   "metadata": {},
   "outputs": [
    {
     "data": {
      "text/plain": [
       "(1.0, 5.0)"
      ]
     },
     "execution_count": 13,
     "metadata": {},
     "output_type": "execute_result"
    },
    {
     "data": {
      "image/png": "[encoded data removed]",
      "text/plain": [
       "<Figure size 432x288 with 1 Axes>"
      ]
     },
     "metadata": {
      "needs_background": "light"
     },
     "output_type": "display_data"
    }
   ],
   "source": [
    "plt.hist(np.log10(dz_not_good_catalog['DELTACHI2_deep']),bins=200,range=(0,5),alpha=0.5)\n",
    "plt.xlabel('log10 DELTACHI2 deep')\n",
    "plt.xlim(1,5)\n",
    "#plt.axvline(2.55)\n",
    "#plt.axvline(2.525)"
   ]
  },
  {
   "cell_type": "code",
   "execution_count": 14,
   "metadata": {},
   "outputs": [],
   "source": [
    "#dz_not_good_catalog[(np.log10(dz_not_good_catalog['DELTACHI2_deep'])>2.525) & (np.log10(dz_not_good_catalog['DELTACHI2_deep'])<2.55)]"
   ]
  },
  {
   "cell_type": "code",
   "execution_count": 15,
   "metadata": {},
   "outputs": [
    {
     "name": "stdout",
     "output_type": "stream",
     "text": [
      "Number of unique targets in the selection: 1031\n"
     ]
    }
   ],
   "source": [
    "print('Number of unique targets in the selection:',len(set(dz_not_good_catalog['TARGETID']*dz_not_good_catalog['TILEID_deep'])))"
   ]
  },
  {
   "cell_type": "code",
   "execution_count": 16,
   "metadata": {},
   "outputs": [
    {
     "data": {
      "text/html": [
       "<div>\n",
       "<style scoped>\n",
       "    .dataframe tbody tr th:only-of-type {\n",
       "        vertical-align: middle;\n",
       "    }\n",
       "\n",
       "    .dataframe tbody tr th {\n",
       "        vertical-align: top;\n",
       "    }\n",
       "\n",
       "    .dataframe thead th {\n",
       "        text-align: right;\n",
       "    }\n",
       "</style>\n",
       "<table border=\"1\" class=\"dataframe\">\n",
       "  <thead>\n",
       "    <tr style=\"text-align: right;\">\n",
       "      <th></th>\n",
       "      <th>TARGETID</th>\n",
       "      <th>Z_deep</th>\n",
       "      <th>subset_deep</th>\n",
       "      <th>TILEID_deep</th>\n",
       "      <th>DELTACHI2_deep</th>\n",
       "      <th>EFFTIME_DARK_deep</th>\n",
       "      <th>FIBERFLUX_Z</th>\n",
       "      <th>EBV</th>\n",
       "      <th>ZWARN_deep</th>\n",
       "      <th>FIBER_deep</th>\n",
       "      <th>...</th>\n",
       "      <th>Z_short</th>\n",
       "      <th>subset_short</th>\n",
       "      <th>TILEID_short</th>\n",
       "      <th>EFFTIME_DARK_short</th>\n",
       "      <th>DELTACHI2_short</th>\n",
       "      <th>ZWARN_short</th>\n",
       "      <th>FIBER_short</th>\n",
       "      <th>RZR_short</th>\n",
       "      <th>dz</th>\n",
       "      <th>zfibermag</th>\n",
       "    </tr>\n",
       "  </thead>\n",
       "  <tbody>\n",
       "    <tr>\n",
       "      <th>111</th>\n",
       "      <td>39627300953659693</td>\n",
       "      <td>1.144237</td>\n",
       "      <td>b'deep'</td>\n",
       "      <td>80673</td>\n",
       "      <td>32.697725</td>\n",
       "      <td>3544.111450</td>\n",
       "      <td>3.598842</td>\n",
       "      <td>0.036490</td>\n",
       "      <td>0</td>\n",
       "      <td>1319</td>\n",
       "      <td>...</td>\n",
       "      <td>1.153200</td>\n",
       "      <td>b'20210206'</td>\n",
       "      <td>80673</td>\n",
       "      <td>1765.163574</td>\n",
       "      <td>25.215568</td>\n",
       "      <td>0</td>\n",
       "      <td>1319</td>\n",
       "      <td>b'N'</td>\n",
       "      <td>0.004180</td>\n",
       "      <td>21.065403</td>\n",
       "    </tr>\n",
       "    <tr>\n",
       "      <th>112</th>\n",
       "      <td>39627300953659693</td>\n",
       "      <td>1.144237</td>\n",
       "      <td>b'deep'</td>\n",
       "      <td>80673</td>\n",
       "      <td>32.697725</td>\n",
       "      <td>3544.111450</td>\n",
       "      <td>3.598842</td>\n",
       "      <td>0.036490</td>\n",
       "      <td>0</td>\n",
       "      <td>1319</td>\n",
       "      <td>...</td>\n",
       "      <td>1.498865</td>\n",
       "      <td>b'20210106'</td>\n",
       "      <td>80673</td>\n",
       "      <td>889.031998</td>\n",
       "      <td>24.625697</td>\n",
       "      <td>0</td>\n",
       "      <td>1319</td>\n",
       "      <td>b'N'</td>\n",
       "      <td>0.165387</td>\n",
       "      <td>21.065403</td>\n",
       "    </tr>\n",
       "    <tr>\n",
       "      <th>129</th>\n",
       "      <td>39627306632741746</td>\n",
       "      <td>1.071907</td>\n",
       "      <td>b'deep'</td>\n",
       "      <td>80673</td>\n",
       "      <td>38.999907</td>\n",
       "      <td>3544.111450</td>\n",
       "      <td>3.978052</td>\n",
       "      <td>0.039553</td>\n",
       "      <td>0</td>\n",
       "      <td>1160</td>\n",
       "      <td>...</td>\n",
       "      <td>1.177329</td>\n",
       "      <td>b'20210206'</td>\n",
       "      <td>80673</td>\n",
       "      <td>1765.163574</td>\n",
       "      <td>48.399835</td>\n",
       "      <td>0</td>\n",
       "      <td>1160</td>\n",
       "      <td>b'N'</td>\n",
       "      <td>0.050882</td>\n",
       "      <td>20.952927</td>\n",
       "    </tr>\n",
       "    <tr>\n",
       "      <th>130</th>\n",
       "      <td>39627306632741746</td>\n",
       "      <td>1.071907</td>\n",
       "      <td>b'deep'</td>\n",
       "      <td>80673</td>\n",
       "      <td>38.999907</td>\n",
       "      <td>3544.111450</td>\n",
       "      <td>3.978052</td>\n",
       "      <td>0.039553</td>\n",
       "      <td>0</td>\n",
       "      <td>1160</td>\n",
       "      <td>...</td>\n",
       "      <td>1.669977</td>\n",
       "      <td>b'20210116'</td>\n",
       "      <td>80673</td>\n",
       "      <td>879.886536</td>\n",
       "      <td>34.025930</td>\n",
       "      <td>0</td>\n",
       "      <td>1160</td>\n",
       "      <td>b'N'</td>\n",
       "      <td>0.288657</td>\n",
       "      <td>20.952927</td>\n",
       "    </tr>\n",
       "    <tr>\n",
       "      <th>131</th>\n",
       "      <td>39627306632741746</td>\n",
       "      <td>1.071907</td>\n",
       "      <td>b'deep'</td>\n",
       "      <td>80673</td>\n",
       "      <td>38.999907</td>\n",
       "      <td>3544.111450</td>\n",
       "      <td>3.978052</td>\n",
       "      <td>0.039553</td>\n",
       "      <td>0</td>\n",
       "      <td>1160</td>\n",
       "      <td>...</td>\n",
       "      <td>1.173941</td>\n",
       "      <td>b'20210106'</td>\n",
       "      <td>80673</td>\n",
       "      <td>889.031998</td>\n",
       "      <td>12.930748</td>\n",
       "      <td>0</td>\n",
       "      <td>1160</td>\n",
       "      <td>b'N'</td>\n",
       "      <td>0.049247</td>\n",
       "      <td>20.952927</td>\n",
       "    </tr>\n",
       "    <tr>\n",
       "      <th>...</th>\n",
       "      <td>...</td>\n",
       "      <td>...</td>\n",
       "      <td>...</td>\n",
       "      <td>...</td>\n",
       "      <td>...</td>\n",
       "      <td>...</td>\n",
       "      <td>...</td>\n",
       "      <td>...</td>\n",
       "      <td>...</td>\n",
       "      <td>...</td>\n",
       "      <td>...</td>\n",
       "      <td>...</td>\n",
       "      <td>...</td>\n",
       "      <td>...</td>\n",
       "      <td>...</td>\n",
       "      <td>...</td>\n",
       "      <td>...</td>\n",
       "      <td>...</td>\n",
       "      <td>...</td>\n",
       "      <td>...</td>\n",
       "      <td>...</td>\n",
       "    </tr>\n",
       "    <tr>\n",
       "      <th>172444</th>\n",
       "      <td>39633567696815224</td>\n",
       "      <td>1.308183</td>\n",
       "      <td>b'deep'</td>\n",
       "      <td>80694</td>\n",
       "      <td>83.146021</td>\n",
       "      <td>3645.791595</td>\n",
       "      <td>3.192952</td>\n",
       "      <td>0.197145</td>\n",
       "      <td>0</td>\n",
       "      <td>2684</td>\n",
       "      <td>...</td>\n",
       "      <td>1.193570</td>\n",
       "      <td>b'20210109'</td>\n",
       "      <td>80694</td>\n",
       "      <td>1651.603180</td>\n",
       "      <td>14.438922</td>\n",
       "      <td>0</td>\n",
       "      <td>2684</td>\n",
       "      <td>b'N'</td>\n",
       "      <td>0.049655</td>\n",
       "      <td>21.000776</td>\n",
       "    </tr>\n",
       "    <tr>\n",
       "      <th>172454</th>\n",
       "      <td>39633567701008493</td>\n",
       "      <td>1.289115</td>\n",
       "      <td>b'deep'</td>\n",
       "      <td>80694</td>\n",
       "      <td>193.026811</td>\n",
       "      <td>3645.791595</td>\n",
       "      <td>2.943339</td>\n",
       "      <td>0.247157</td>\n",
       "      <td>0</td>\n",
       "      <td>2671</td>\n",
       "      <td>...</td>\n",
       "      <td>0.965193</td>\n",
       "      <td>b'20210116'</td>\n",
       "      <td>80694</td>\n",
       "      <td>774.684982</td>\n",
       "      <td>64.701088</td>\n",
       "      <td>0</td>\n",
       "      <td>2671</td>\n",
       "      <td>b'N'</td>\n",
       "      <td>0.141505</td>\n",
       "      <td>21.028593</td>\n",
       "    </tr>\n",
       "    <tr>\n",
       "      <th>172455</th>\n",
       "      <td>39633567701008493</td>\n",
       "      <td>1.289115</td>\n",
       "      <td>b'deep'</td>\n",
       "      <td>80694</td>\n",
       "      <td>193.026811</td>\n",
       "      <td>3645.791595</td>\n",
       "      <td>2.943339</td>\n",
       "      <td>0.247157</td>\n",
       "      <td>0</td>\n",
       "      <td>2671</td>\n",
       "      <td>...</td>\n",
       "      <td>0.974355</td>\n",
       "      <td>b'20210109'</td>\n",
       "      <td>80694</td>\n",
       "      <td>1651.603180</td>\n",
       "      <td>322.210292</td>\n",
       "      <td>0</td>\n",
       "      <td>2671</td>\n",
       "      <td>b'N'</td>\n",
       "      <td>0.137503</td>\n",
       "      <td>21.028593</td>\n",
       "    </tr>\n",
       "    <tr>\n",
       "      <th>172456</th>\n",
       "      <td>39633567701008493</td>\n",
       "      <td>1.289115</td>\n",
       "      <td>b'deep'</td>\n",
       "      <td>80694</td>\n",
       "      <td>193.026811</td>\n",
       "      <td>3645.791595</td>\n",
       "      <td>2.943339</td>\n",
       "      <td>0.247157</td>\n",
       "      <td>0</td>\n",
       "      <td>2671</td>\n",
       "      <td>...</td>\n",
       "      <td>5.186864</td>\n",
       "      <td>b'20210214'</td>\n",
       "      <td>80694</td>\n",
       "      <td>1069.921860</td>\n",
       "      <td>961.263084</td>\n",
       "      <td>0</td>\n",
       "      <td>2671</td>\n",
       "      <td>b'N'</td>\n",
       "      <td>1.702732</td>\n",
       "      <td>21.028593</td>\n",
       "    </tr>\n",
       "    <tr>\n",
       "      <th>172483</th>\n",
       "      <td>39633567709397266</td>\n",
       "      <td>0.922055</td>\n",
       "      <td>b'deep'</td>\n",
       "      <td>80694</td>\n",
       "      <td>3218.304354</td>\n",
       "      <td>3645.791595</td>\n",
       "      <td>28.012384</td>\n",
       "      <td>0.198947</td>\n",
       "      <td>0</td>\n",
       "      <td>3081</td>\n",
       "      <td>...</td>\n",
       "      <td>1.510322</td>\n",
       "      <td>b'20210214'</td>\n",
       "      <td>80694</td>\n",
       "      <td>914.463531</td>\n",
       "      <td>104.529446</td>\n",
       "      <td>0</td>\n",
       "      <td>3081</td>\n",
       "      <td>b'N'</td>\n",
       "      <td>0.306062</td>\n",
       "      <td>18.640699</td>\n",
       "    </tr>\n",
       "  </tbody>\n",
       "</table>\n",
       "<p>1688 rows × 21 columns</p>\n",
       "</div>"
      ],
      "text/plain": [
       "                 TARGETID    Z_deep subset_deep  TILEID_deep  DELTACHI2_deep  \\\n",
       "111     39627300953659693  1.144237     b'deep'        80673       32.697725   \n",
       "112     39627300953659693  1.144237     b'deep'        80673       32.697725   \n",
       "129     39627306632741746  1.071907     b'deep'        80673       38.999907   \n",
       "130     39627306632741746  1.071907     b'deep'        80673       38.999907   \n",
       "131     39627306632741746  1.071907     b'deep'        80673       38.999907   \n",
       "...                   ...       ...         ...          ...             ...   \n",
       "172444  39633567696815224  1.308183     b'deep'        80694       83.146021   \n",
       "172454  39633567701008493  1.289115     b'deep'        80694      193.026811   \n",
       "172455  39633567701008493  1.289115     b'deep'        80694      193.026811   \n",
       "172456  39633567701008493  1.289115     b'deep'        80694      193.026811   \n",
       "172483  39633567709397266  0.922055     b'deep'        80694     3218.304354   \n",
       "\n",
       "        EFFTIME_DARK_deep  FIBERFLUX_Z       EBV  ZWARN_deep  FIBER_deep  ...  \\\n",
       "111           3544.111450     3.598842  0.036490           0        1319  ...   \n",
       "112           3544.111450     3.598842  0.036490           0        1319  ...   \n",
       "129           3544.111450     3.978052  0.039553           0        1160  ...   \n",
       "130           3544.111450     3.978052  0.039553           0        1160  ...   \n",
       "131           3544.111450     3.978052  0.039553           0        1160  ...   \n",
       "...                   ...          ...       ...         ...         ...  ...   \n",
       "172444        3645.791595     3.192952  0.197145           0        2684  ...   \n",
       "172454        3645.791595     2.943339  0.247157           0        2671  ...   \n",
       "172455        3645.791595     2.943339  0.247157           0        2671  ...   \n",
       "172456        3645.791595     2.943339  0.247157           0        2671  ...   \n",
       "172483        3645.791595    28.012384  0.198947           0        3081  ...   \n",
       "\n",
       "         Z_short  subset_short TILEID_short  EFFTIME_DARK_short  \\\n",
       "111     1.153200   b'20210206'        80673         1765.163574   \n",
       "112     1.498865   b'20210106'        80673          889.031998   \n",
       "129     1.177329   b'20210206'        80673         1765.163574   \n",
       "130     1.669977   b'20210116'        80673          879.886536   \n",
       "131     1.173941   b'20210106'        80673          889.031998   \n",
       "...          ...           ...          ...                 ...   \n",
       "172444  1.193570   b'20210109'        80694         1651.603180   \n",
       "172454  0.965193   b'20210116'        80694          774.684982   \n",
       "172455  0.974355   b'20210109'        80694         1651.603180   \n",
       "172456  5.186864   b'20210214'        80694         1069.921860   \n",
       "172483  1.510322   b'20210214'        80694          914.463531   \n",
       "\n",
       "        DELTACHI2_short  ZWARN_short  FIBER_short  RZR_short        dz  \\\n",
       "111           25.215568            0         1319       b'N'  0.004180   \n",
       "112           24.625697            0         1319       b'N'  0.165387   \n",
       "129           48.399835            0         1160       b'N'  0.050882   \n",
       "130           34.025930            0         1160       b'N'  0.288657   \n",
       "131           12.930748            0         1160       b'N'  0.049247   \n",
       "...                 ...          ...          ...        ...       ...   \n",
       "172444        14.438922            0         2684       b'N'  0.049655   \n",
       "172454        64.701088            0         2671       b'N'  0.141505   \n",
       "172455       322.210292            0         2671       b'N'  0.137503   \n",
       "172456       961.263084            0         2671       b'N'  1.702732   \n",
       "172483       104.529446            0         3081       b'N'  0.306062   \n",
       "\n",
       "        zfibermag  \n",
       "111     21.065403  \n",
       "112     21.065403  \n",
       "129     20.952927  \n",
       "130     20.952927  \n",
       "131     20.952927  \n",
       "...           ...  \n",
       "172444  21.000776  \n",
       "172454  21.028593  \n",
       "172455  21.028593  \n",
       "172456  21.028593  \n",
       "172483  18.640699  \n",
       "\n",
       "[1688 rows x 21 columns]"
      ]
     },
     "execution_count": 16,
     "metadata": {},
     "output_type": "execute_result"
    }
   ],
   "source": [
    "dz_not_good_catalog"
   ]
  },
  {
   "cell_type": "markdown",
   "metadata": {},
   "source": [
    "9. Another selection\n",
    "\n",
    "a. DELTACHI2_deep>15\n",
    "\n",
    "b. Z_deep>1.4\n",
    "\n",
    "c. zfibermag<21.72"
   ]
  },
  {
   "cell_type": "code",
   "execution_count": 17,
   "metadata": {},
   "outputs": [
    {
     "name": "stdout",
     "output_type": "stream",
     "text": [
      "166\n"
     ]
    }
   ],
   "source": [
    "new_catalog_LRG['zfibermag']=-2.5*np.log10(new_catalog_LRG['FIBERFLUX_Z'])+22.5-1.211*new_catalog_LRG['EBV']\n",
    "high_z_strange_object = new_catalog_LRG[(new_catalog_LRG['DELTACHI2']>15) & \n",
    "                                        (new_catalog_LRG['Z']>=1.4) & \n",
    "                                        (new_catalog_LRG['zfibermag']<21.72)]\n",
    "print(len(set(high_z_strange_object['TARGETID']*high_z_strange_object['TILEID'])))"
   ]
  },
  {
   "cell_type": "code",
   "execution_count": 18,
   "metadata": {},
   "outputs": [
    {
     "data": {
      "text/plain": [
       "(array([ 0.,  0.,  0.,  0.,  4., 18., 25., 24., 15., 10., 11.,  8.,  7.,\n",
       "        11.,  6.,  8.,  7.,  5.,  2.,  2.]),\n",
       " array([0.  , 0.25, 0.5 , 0.75, 1.  , 1.25, 1.5 , 1.75, 2.  , 2.25, 2.5 ,\n",
       "        2.75, 3.  , 3.25, 3.5 , 3.75, 4.  , 4.25, 4.5 , 4.75, 5.  ]),\n",
       " <a list of 20 Patch objects>)"
      ]
     },
     "execution_count": 18,
     "metadata": {},
     "output_type": "execute_result"
    },
    {
     "data": {
      "image/png": "[encoded data removed]",
      "text/plain": [
       "<Figure size 432x288 with 1 Axes>"
      ]
     },
     "metadata": {
      "needs_background": "light"
     },
     "output_type": "display_data"
    }
   ],
   "source": [
    "plt.hist(np.log10(high_z_strange_object['DELTACHI2']),bins=20,range=(0,5))\n"
   ]
  },
  {
   "cell_type": "markdown",
   "metadata": {},
   "source": [
    "10. Combining the two catalogs and producing a list with \n",
    "TILEID, TARGETID, ID_FOR_selection"
   ]
  },
  {
   "cell_type": "code",
   "execution_count": 19,
   "metadata": {},
   "outputs": [],
   "source": [
    "all_tileid = np.append(dz_not_good_catalog['TILEID_deep'].to_numpy(),high_z_strange_object['TILEID'].to_numpy())\n",
    "all_targetid = np.append(dz_not_good_catalog['TARGETID'].to_numpy(),high_z_strange_object['TARGETID'].to_numpy())\n",
    "all_VI_selection = np.append(np.arange(0,len(dz_not_good_catalog['TARGETID'].to_numpy()))*0.,\n",
    "                             np.arange(0,len(high_z_strange_object['TARGETID'].to_numpy()))*0.+1)\n",
    "all_deltachi2_deep = np.append(dz_not_good_catalog['DELTACHI2_deep'].to_numpy(),high_z_strange_object['DELTACHI2'].to_numpy())\n",
    "all_z = np.append(dz_not_good_catalog['Z_deep'].to_numpy(),high_z_strange_object['Z'].to_numpy())"
   ]
  },
  {
   "cell_type": "markdown",
   "metadata": {},
   "source": [
    "11. Creating an unique target list with no repetition "
   ]
  },
  {
   "cell_type": "code",
   "execution_count": 20,
   "metadata": {},
   "outputs": [],
   "source": [
    "TILEID = []\n",
    "FINAL_TARGETID = []\n",
    "FINAL_selection = []\n",
    "unique_tileid = np.array(list(set(all_tileid)))\n",
    "Number_of_object_per_tile = {}\n",
    "deltachi2_deep = []\n",
    "z_deep = []\n",
    "for i_tile in range(0,len(unique_tileid)):\n",
    "    if (unique_tileid[i_tile]!=80605) & (unique_tileid[i_tile]!=80609):\n",
    "        search = np.where(all_tileid==unique_tileid[i_tile])\n",
    "        tmp_targetid = all_targetid[search[0]]\n",
    "\n",
    "        unique_targetid = np.array(list(set(tmp_targetid)))\n",
    "        Number_of_object_per_tile[unique_tileid[i_tile]]=len(unique_targetid)\n",
    "        for i_td in range(0,len(unique_targetid)):\n",
    "            TILEID.append(unique_tileid[i_tile])\n",
    "            FINAL_TARGETID.append(unique_targetid[i_td])\n",
    "            search_selection = np.where((all_tileid==unique_tileid[i_tile]) & (all_targetid==unique_targetid[i_td]))\n",
    "            FINAL_selection.append(int(all_VI_selection[search_selection[0][0]]))\n",
    "            deltachi2_deep.append(all_deltachi2_deep[search_selection[0][0]])\n",
    "            z_deep.append(all_z[search_selection[0][0]])"
   ]
  },
  {
   "cell_type": "code",
   "execution_count": 21,
   "metadata": {},
   "outputs": [
    {
     "name": "stdout",
     "output_type": "stream",
     "text": [
      "948\n"
     ]
    },
    {
     "data": {
      "text/plain": [
       "{80669: 6,\n",
       " 80673: 8,\n",
       " 80675: 5,\n",
       " 80676: 99,\n",
       " 80677: 10,\n",
       " 80678: 81,\n",
       " 80679: 5,\n",
       " 80680: 78,\n",
       " 80681: 6,\n",
       " 80682: 70,\n",
       " 80683: 5,\n",
       " 80684: 33,\n",
       " 80685: 3,\n",
       " 80686: 28,\n",
       " 80688: 43,\n",
       " 80689: 1,\n",
       " 80690: 65,\n",
       " 80692: 39,\n",
       " 80693: 7,\n",
       " 80694: 73,\n",
       " 80699: 5,\n",
       " 80700: 53,\n",
       " 80705: 2,\n",
       " 80707: 5,\n",
       " 80711: 3,\n",
       " 80712: 14,\n",
       " 80607: 108,\n",
       " 80610: 2,\n",
       " 80620: 59,\n",
       " 80622: 31,\n",
       " 80623: 1}"
      ]
     },
     "execution_count": 21,
     "metadata": {},
     "output_type": "execute_result"
    }
   ],
   "source": [
    "print(len(FINAL_selection))\n",
    "Number_of_object_per_tile"
   ]
  },
  {
   "cell_type": "code",
   "execution_count": 22,
   "metadata": {},
   "outputs": [],
   "source": [
    "d = {'TILEID':TILEID,'TARGETID':FINAL_TARGETID,'VI_selection':FINAL_selection,'DELTACHI2':deltachi2_deep,'Z':z_deep}\n",
    "df = pd.DataFrame(data=d)\n",
    "df.sort_values(\"VI_selection\",inplace=True)"
   ]
  },
  {
   "cell_type": "code",
   "execution_count": 23,
   "metadata": {},
   "outputs": [],
   "source": [
    "df.to_csv('210402_SV_cascades_LRG_VI_target_list.v1.csv',index=False)"
   ]
  },
  {
   "cell_type": "code",
   "execution_count": 24,
   "metadata": {},
   "outputs": [],
   "source": [
    "new_data = pd.read_csv('210402_SV_cascades_LRG_VI_target_list.v1.csv')"
   ]
  },
  {
   "cell_type": "code",
   "execution_count": 25,
   "metadata": {},
   "outputs": [
    {
     "name": "stdout",
     "output_type": "stream",
     "text": [
      "TOTAL selected spectra for VI: 948\n"
     ]
    }
   ],
   "source": [
    "print('TOTAL selected spectra for VI:',len(TILEID))"
   ]
  },
  {
   "cell_type": "code",
   "execution_count": 26,
   "metadata": {},
   "outputs": [],
   "source": [
    "match_new_data = new_data.merge(new_catalog_LRG,on='TARGETID',how='left')"
   ]
  },
  {
   "cell_type": "code",
   "execution_count": 27,
   "metadata": {},
   "outputs": [],
   "source": [
    "match_new_data = match_new_data[match_new_data['TILEID_x']==match_new_data['TILEID_y']]"
   ]
  },
  {
   "cell_type": "code",
   "execution_count": 28,
   "metadata": {},
   "outputs": [
    {
     "data": {
      "text/plain": [
       "(-0.1, 2.0)"
      ]
     },
     "execution_count": 28,
     "metadata": {},
     "output_type": "execute_result"
    },
    {
     "data": {
      "image/png": "[encoded data removed]",
      "text/plain": [
       "<Figure size 720x432 with 1 Axes>"
      ]
     },
     "metadata": {
      "needs_background": "light"
     },
     "output_type": "display_data"
    }
   ],
   "source": [
    "plt.figure(figsize=(10,6))\n",
    "plt.scatter(match_new_data['Z_x'],np.log10(match_new_data['DELTACHI2_x']),s=3)\n",
    "plt.ylabel('log Deltachi2',fontsize=15)\n",
    "plt.xlabel('Redshift',fontsize=15)\n",
    "plt.xlim(-0.1,2)"
   ]
  },
  {
   "cell_type": "code",
   "execution_count": 29,
   "metadata": {},
   "outputs": [
    {
     "data": {
      "text/plain": [
       "<matplotlib.collections.PathCollection at 0x2aab1da47790>"
      ]
     },
     "execution_count": 29,
     "metadata": {},
     "output_type": "execute_result"
    },
    {
     "data": {
      "image/png": "[encoded data removed]",
      "text/plain": [
       "<Figure size 432x288 with 1 Axes>"
      ]
     },
     "metadata": {
      "needs_background": "light"
     },
     "output_type": "display_data"
    }
   ],
   "source": [
    "plt.scatter(match_new_data['Z_x'],match_new_data['Z_y'])"
   ]
  },
  {
   "cell_type": "code",
   "execution_count": null,
   "metadata": {},
   "outputs": [],
   "source": []
  },
  {
   "cell_type": "code",
   "execution_count": null,
   "metadata": {},
   "outputs": [],
   "source": []
  }
 ],
 "metadata": {
  "kernelspec": {
   "display_name": "DESI master",
   "language": "python",
   "name": "desi-master"
  },
  "language_info": {
   "codemirror_mode": {
    "name": "ipython",
    "version": 3
   },
   "file_extension": ".py",
   "mimetype": "text/x-python",
   "name": "python",
   "nbconvert_exporter": "python",
   "pygments_lexer": "ipython3",
   "version": "3.8.3"
  }
 },
 "nbformat": 4,
 "nbformat_minor": 4
}
