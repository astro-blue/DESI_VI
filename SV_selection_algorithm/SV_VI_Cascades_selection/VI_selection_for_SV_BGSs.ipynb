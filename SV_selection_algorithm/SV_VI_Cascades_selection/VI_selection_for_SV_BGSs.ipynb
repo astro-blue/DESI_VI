{
 "cells": [
  {
   "cell_type": "code",
   "execution_count": 1,
   "metadata": {},
   "outputs": [],
   "source": [
    "import numpy as np\n",
    "import seaborn as sb\n",
    "import matplotlib.pyplot as plt\n",
    "import pandas as pd\n",
    "import astropy.io.fits as pf\n",
    "import warnings\n",
    "from astropy.table import Table, vstack\n",
    "warnings.filterwarnings('ignore')"
   ]
  },
  {
   "cell_type": "markdown",
   "metadata": {},
   "source": [
    "1. Reading the cascades BGS catalog"
   ]
  },
  {
   "cell_type": "code",
   "execution_count": 2,
   "metadata": {},
   "outputs": [],
   "source": [
    "diretory = '/global/cfs/cdirs/desi/survey/catalogs/SV1/redshift_comps/cascades/3.1/BGS_ANY/'\n",
    "dataname = 'alltiles_BGS_ANYzinfo.fits'\n",
    "catalog = Table.read(diretory+dataname,hdu='ZBEST')\n",
    "#zmag = -2.5*np.log10(catalog['FIBERFLUX_Z'])+22.5-1.211*catalog['EBV']"
   ]
  },
  {
   "cell_type": "code",
   "execution_count": 3,
   "metadata": {},
   "outputs": [],
   "source": [
    "#search = np.where(catalog['subset']=='deep')"
   ]
  },
  {
   "cell_type": "code",
   "execution_count": 4,
   "metadata": {},
   "outputs": [],
   "source": [
    "#np.median(catalog['EFFTIME_BRIGHT'][search[0]])"
   ]
  },
  {
   "cell_type": "markdown",
   "metadata": {},
   "source": [
    "2. Selecting the deep coadds with EFFTIME_dark>600"
   ]
  },
  {
   "cell_type": "code",
   "execution_count": 5,
   "metadata": {},
   "outputs": [
    {
     "name": "stdout",
     "output_type": "stream",
     "text": [
      "Number of deep coadds BGS: 62967\n"
     ]
    }
   ],
   "source": [
    "search_BGS = np.where((catalog['subset']=='deep')  & (catalog['EFFTIME_BRIGHT']>600))\n",
    "catalog_BGS = catalog[search_BGS[0]].copy()\n",
    "print('Number of deep coadds BGS:',len(search_BGS[0]))"
   ]
  },
  {
   "cell_type": "markdown",
   "metadata": {},
   "source": [
    "3. Selecting the short exposures coadds with EFFTIME_dark>150 (not deep or all)"
   ]
  },
  {
   "cell_type": "code",
   "execution_count": 6,
   "metadata": {},
   "outputs": [
    {
     "name": "stdout",
     "output_type": "stream",
     "text": [
      "Number of short exposures: 686599\n"
     ]
    }
   ],
   "source": [
    "search_BGS_short = np.where((catalog['subset']!='all') & (catalog['subset']!='deep') & (catalog['EFFTIME_BRIGHT']>150))\n",
    "catalog_BGS_short = catalog[search_BGS_short[0]].copy()\n",
    "print('Number of short exposures:', len(catalog_BGS_short))"
   ]
  },
  {
   "cell_type": "markdown",
   "metadata": {},
   "source": [
    "Just checking the EFFTIME_BRIGHT distribution"
   ]
  },
  {
   "cell_type": "code",
   "execution_count": 7,
   "metadata": {},
   "outputs": [
    {
     "data": {
      "text/plain": [
       "<matplotlib.legend.Legend at 0x2aaad9626520>"
      ]
     },
     "execution_count": 7,
     "metadata": {},
     "output_type": "execute_result"
    },
    {
     "data": {
      "image/png": "[encoded data removed]",
      "text/plain": [
       "<Figure size 432x288 with 1 Axes>"
      ]
     },
     "metadata": {
      "needs_background": "light"
     },
     "output_type": "display_data"
    }
   ],
   "source": [
    "plt.hist(np.log10(catalog_BGS['EFFTIME_BRIGHT']),bins=20,range=(2,4),label='Deep coadds')\n",
    "plt.hist(np.log10(catalog_BGS_short['EFFTIME_BRIGHT']),bins=20,range=(2,4),alpha=0.5,label='short exposure coadds')\n",
    "plt.xlabel('EFFTIME_BRIGHT')\n",
    "plt.yscale('log')\n",
    "plt.legend()"
   ]
  },
  {
   "cell_type": "markdown",
   "metadata": {},
   "source": [
    "4. Creating pandas tables from fit formats"
   ]
  },
  {
   "cell_type": "code",
   "execution_count": 8,
   "metadata": {},
   "outputs": [],
   "source": [
    "new_catalog_BGS_short = catalog_BGS_short[['TARGETID','Z','subset','TILEID','EFFTIME_BRIGHT','DELTACHI2','ZWARN','RZR']].to_pandas()\n",
    "new_catalog_BGS = catalog_BGS['TARGETID','Z','subset','TILEID','DELTACHI2',\n",
    "                              'EFFTIME_BRIGHT','FIBERFLUX_R','FLUX_R','FIBERFLUX_Z','FLUX_W1','FLUX_G','FLUX_Z','EBV','ZWARN','FIBER','RZR'].to_pandas()\n",
    "\n",
    "\n"
   ]
  },
  {
   "cell_type": "markdown",
   "metadata": {},
   "source": [
    "5. Matching the two catalogs with targetid. The redrock information from the deep coadds has suffixes _deep and short coadds with _short"
   ]
  },
  {
   "cell_type": "code",
   "execution_count": 9,
   "metadata": {},
   "outputs": [],
   "source": [
    "catalog_BGS_match = new_catalog_BGS.merge(new_catalog_BGS_short,on='TARGETID',how='left',suffixes=(\"_deep\",\"_short\"))"
   ]
  },
  {
   "cell_type": "markdown",
   "metadata": {},
   "source": [
    "6. Removing same objects but observe in different tiles. and create redshift difference and zfibermag information"
   ]
  },
  {
   "cell_type": "code",
   "execution_count": 10,
   "metadata": {},
   "outputs": [],
   "source": [
    "final_match_catalog = catalog_BGS_match[catalog_BGS_match['TILEID_deep']==catalog_BGS_match['TILEID_short']]\n",
    "final_match_catalog['dz']=abs(final_match_catalog['Z_deep']-final_match_catalog['Z_short'])/(1.+final_match_catalog['Z_deep'])\n",
    "final_match_catalog['zfibermag']=-2.5*np.log10(final_match_catalog['FIBERFLUX_Z'])+22.5-1.211*final_match_catalog['EBV']\n",
    "final_match_catalog['rfibermag']=-2.5*np.log10(final_match_catalog['FIBERFLUX_R'])+22.5-2.165*final_match_catalog['EBV']\n",
    "final_match_catalog['rmag']=-2.5*np.log10(final_match_catalog['FLUX_R'])+22.5-2.165*final_match_catalog['EBV']\n",
    "final_match_catalog['zmag']=-2.5*np.log10(final_match_catalog['FLUX_Z'])+22.5-1.211*final_match_catalog['EBV']\n",
    "final_match_catalog['gmag']=-2.5*np.log10(final_match_catalog['FLUX_G'])+22.5-3.214*final_match_catalog['EBV']\n",
    "final_match_catalog['w1mag']=-2.5*np.log10(final_match_catalog['FLUX_W1'])+22.5-0.184*final_match_catalog['EBV']\n",
    "final_match_catalog['color']=(final_match_catalog['zmag']-final_match_catalog['w1mag'])-1.2*(final_match_catalog['gmag']-final_match_catalog['rmag'])+1.2"
   ]
  },
  {
   "cell_type": "markdown",
   "metadata": {},
   "source": [
    "7. Selecting targets with non repeatable redshifts.\n",
    "\n",
    "\n",
    "Selection:\n",
    "    a. |z_deep-z_short|/(1+z_deep)>0.0033\n",
    "    \n",
    "    b. DELTACHI2_deep>15\n",
    "    \n",
    "    c. Z_deep<0.9\n",
    "    \n",
    "    d. DELTACHI2_short>10\n",
    "    \n",
    "    e. zfibermag<20.75 & (z-W1)-1.2*(g-r)+1.2<0\n",
    "    \n",
    "    f. ZWARN_deep<=4\n",
    "    \n",
    "    g. ZWARN_short<=4\n",
    "    \n"
   ]
  },
  {
   "cell_type": "code",
   "execution_count": 11,
   "metadata": {},
   "outputs": [
    {
     "name": "stdout",
     "output_type": "stream",
     "text": [
      "588\n"
     ]
    }
   ],
   "source": [
    "dz_not_good_catalog_color_l = final_match_catalog[(final_match_catalog['dz']>0.0033) & \n",
    "                                          (final_match_catalog['DELTACHI2_deep']>15) & \n",
    "                                          (final_match_catalog['Z_deep']<0.9) & \n",
    "                                          (final_match_catalog['DELTACHI2_short']>10) &\n",
    "                                          (final_match_catalog['rfibermag']<=20.75) &\n",
    "                                          (final_match_catalog['color']<0) & \n",
    "                                          (final_match_catalog['ZWARN_deep']<=4) & \n",
    "                                          (final_match_catalog['ZWARN_short']<=4)]\n",
    "print(len(set(dz_not_good_catalog_color_l['TARGETID'])))\n",
    "#print(len(final_match_catalog))"
   ]
  },
  {
   "cell_type": "markdown",
   "metadata": {},
   "source": [
    "Selection:\n",
    "    a. |z_deep-z_short|/(1+z_deep)>0.0033\n",
    "    \n",
    "    b. DELTACHI2_deep>15\n",
    "    \n",
    "    c. Z_deep<0.9\n",
    "    \n",
    "    d. DELTACHI2_short>10\n",
    "    \n",
    "    e. zfibermag<21.5 & (z-W1)-1.2*(g-r)+1.2>0\n",
    "    \n",
    "    f. ZWARN_deep<=4\n",
    "    \n",
    "    g. ZWARN_short<=4\n",
    "    "
   ]
  },
  {
   "cell_type": "code",
   "execution_count": 12,
   "metadata": {},
   "outputs": [
    {
     "name": "stdout",
     "output_type": "stream",
     "text": [
      "872\n"
     ]
    }
   ],
   "source": [
    "dz_not_good_catalog_color_h = final_match_catalog[(final_match_catalog['dz']>0.0033) & \n",
    "                                          (final_match_catalog['DELTACHI2_deep']>15) & \n",
    "                                          (final_match_catalog['Z_deep']<0.9) & \n",
    "                                          (final_match_catalog['DELTACHI2_short']>10) &\n",
    "                                          (final_match_catalog['rfibermag']<=21.5) &\n",
    "                                          (final_match_catalog['color']>=0) & \n",
    "                                          (final_match_catalog['ZWARN_deep']<=4) & \n",
    "                                          (final_match_catalog['ZWARN_short']<=4)]\n",
    "print(len(set(dz_not_good_catalog_color_h['TARGETID'])))\n",
    "#print(len(final_match_catalog))"
   ]
  },
  {
   "cell_type": "code",
   "execution_count": 13,
   "metadata": {},
   "outputs": [
    {
     "data": {
      "text/plain": [
       "(-1.0, 1.0)"
      ]
     },
     "execution_count": 13,
     "metadata": {},
     "output_type": "execute_result"
    },
    {
     "data": {
      "image/png": "[encoded data removed]",
      "text/plain": [
       "<Figure size 432x288 with 1 Axes>"
      ]
     },
     "metadata": {
      "needs_background": "light"
     },
     "output_type": "display_data"
    }
   ],
   "source": [
    "plt.scatter(dz_not_good_catalog_color_h['rfibermag'],dz_not_good_catalog_color_h['color'],s=1)\n",
    "plt.scatter(dz_not_good_catalog_color_l['rfibermag'],dz_not_good_catalog_color_l['color'],s=1)\n",
    "plt.xlim(18,22)\n",
    "plt.ylim(-1,1)"
   ]
  },
  {
   "cell_type": "code",
   "execution_count": 14,
   "metadata": {},
   "outputs": [],
   "source": [
    "dz_not_good_catalog = dz_not_good_catalog_color_l.append(dz_not_good_catalog_color_h)"
   ]
  },
  {
   "cell_type": "code",
   "execution_count": 15,
   "metadata": {},
   "outputs": [],
   "source": [
    "dz_not_good_catalog.to_csv('BGS_dz_not_good_catalog.csv')"
   ]
  },
  {
   "cell_type": "markdown",
   "metadata": {},
   "source": [
    "8. Looking at the DELTACHI2_deep distribution with non-repeatable redshifts. What is interesting is that  there are many objects with high Deltachi2 but non-repeatable redshifts."
   ]
  },
  {
   "cell_type": "code",
   "execution_count": 16,
   "metadata": {},
   "outputs": [
    {
     "data": {
      "text/plain": [
       "(1.0, 5.0)"
      ]
     },
     "execution_count": 16,
     "metadata": {},
     "output_type": "execute_result"
    },
    {
     "data": {
      "image/png": "[encoded data removed]",
      "text/plain": [
       "<Figure size 432x288 with 1 Axes>"
      ]
     },
     "metadata": {
      "needs_background": "light"
     },
     "output_type": "display_data"
    }
   ],
   "source": [
    "plt.hist(np.log10(dz_not_good_catalog['DELTACHI2_deep']),bins=200,range=(0,5),alpha=0.5)\n",
    "plt.xlabel('log10 DELTACHI2 deep')\n",
    "plt.xlim(1,5)\n",
    "#plt.axvline(2.55)\n",
    "#plt.axvline(2.525)"
   ]
  },
  {
   "cell_type": "code",
   "execution_count": 17,
   "metadata": {},
   "outputs": [],
   "source": [
    "#dz_not_good_catalog[(np.log10(dz_not_good_catalog['DELTACHI2_deep'])>2.525) & (np.log10(dz_not_good_catalog['DELTACHI2_deep'])<2.55)]"
   ]
  },
  {
   "cell_type": "code",
   "execution_count": 18,
   "metadata": {},
   "outputs": [
    {
     "name": "stdout",
     "output_type": "stream",
     "text": [
      "Number of unique targets in the selection: 1464\n"
     ]
    }
   ],
   "source": [
    "print('Number of unique targets in the selection:',len(set(dz_not_good_catalog['TARGETID']*dz_not_good_catalog['TILEID_deep'])))"
   ]
  },
  {
   "cell_type": "code",
   "execution_count": 19,
   "metadata": {},
   "outputs": [
    {
     "data": {
      "text/html": [
       "<div>\n",
       "<style scoped>\n",
       "    .dataframe tbody tr th:only-of-type {\n",
       "        vertical-align: middle;\n",
       "    }\n",
       "\n",
       "    .dataframe tbody tr th {\n",
       "        vertical-align: top;\n",
       "    }\n",
       "\n",
       "    .dataframe thead th {\n",
       "        text-align: right;\n",
       "    }\n",
       "</style>\n",
       "<table border=\"1\" class=\"dataframe\">\n",
       "  <thead>\n",
       "    <tr style=\"text-align: right;\">\n",
       "      <th></th>\n",
       "      <th>TARGETID</th>\n",
       "      <th>Z_deep</th>\n",
       "      <th>subset_deep</th>\n",
       "      <th>TILEID_deep</th>\n",
       "      <th>DELTACHI2_deep</th>\n",
       "      <th>EFFTIME_BRIGHT_deep</th>\n",
       "      <th>FIBERFLUX_R</th>\n",
       "      <th>FLUX_R</th>\n",
       "      <th>FIBERFLUX_Z</th>\n",
       "      <th>FLUX_W1</th>\n",
       "      <th>...</th>\n",
       "      <th>ZWARN_short</th>\n",
       "      <th>RZR_short</th>\n",
       "      <th>dz</th>\n",
       "      <th>zfibermag</th>\n",
       "      <th>rfibermag</th>\n",
       "      <th>rmag</th>\n",
       "      <th>zmag</th>\n",
       "      <th>gmag</th>\n",
       "      <th>w1mag</th>\n",
       "      <th>color</th>\n",
       "    </tr>\n",
       "  </thead>\n",
       "  <tbody>\n",
       "    <tr>\n",
       "      <th>1703</th>\n",
       "      <td>39627222650196713</td>\n",
       "      <td>0.306351</td>\n",
       "      <td>b'deep'</td>\n",
       "      <td>80674</td>\n",
       "      <td>1779.480305</td>\n",
       "      <td>2775.008194</td>\n",
       "      <td>8.058004</td>\n",
       "      <td>24.772594</td>\n",
       "      <td>16.948225</td>\n",
       "      <td>67.703888</td>\n",
       "      <td>...</td>\n",
       "      <td>0</td>\n",
       "      <td>b'N'</td>\n",
       "      <td>0.065181</td>\n",
       "      <td>19.393660</td>\n",
       "      <td>20.174490</td>\n",
       "      <td>18.955130</td>\n",
       "      <td>18.174299</td>\n",
       "      <td>20.502573</td>\n",
       "      <td>17.918371</td>\n",
       "      <td>-0.401004</td>\n",
       "    </tr>\n",
       "    <tr>\n",
       "      <th>1704</th>\n",
       "      <td>39627222650196713</td>\n",
       "      <td>0.306351</td>\n",
       "      <td>b'deep'</td>\n",
       "      <td>80674</td>\n",
       "      <td>1779.480305</td>\n",
       "      <td>2775.008194</td>\n",
       "      <td>8.058004</td>\n",
       "      <td>24.772594</td>\n",
       "      <td>16.948225</td>\n",
       "      <td>67.703888</td>\n",
       "      <td>...</td>\n",
       "      <td>0</td>\n",
       "      <td>b'N'</td>\n",
       "      <td>0.517209</td>\n",
       "      <td>19.393660</td>\n",
       "      <td>20.174490</td>\n",
       "      <td>18.955130</td>\n",
       "      <td>18.174299</td>\n",
       "      <td>20.502573</td>\n",
       "      <td>17.918371</td>\n",
       "      <td>-0.401004</td>\n",
       "    </tr>\n",
       "    <tr>\n",
       "      <th>1705</th>\n",
       "      <td>39627222650196713</td>\n",
       "      <td>0.306351</td>\n",
       "      <td>b'deep'</td>\n",
       "      <td>80674</td>\n",
       "      <td>1779.480305</td>\n",
       "      <td>2775.008194</td>\n",
       "      <td>8.058004</td>\n",
       "      <td>24.772594</td>\n",
       "      <td>16.948225</td>\n",
       "      <td>67.703888</td>\n",
       "      <td>...</td>\n",
       "      <td>0</td>\n",
       "      <td>b'N'</td>\n",
       "      <td>0.065430</td>\n",
       "      <td>19.393660</td>\n",
       "      <td>20.174490</td>\n",
       "      <td>18.955130</td>\n",
       "      <td>18.174299</td>\n",
       "      <td>20.502573</td>\n",
       "      <td>17.918371</td>\n",
       "      <td>-0.401004</td>\n",
       "    </tr>\n",
       "    <tr>\n",
       "      <th>1706</th>\n",
       "      <td>39627222650196713</td>\n",
       "      <td>0.306351</td>\n",
       "      <td>b'deep'</td>\n",
       "      <td>80674</td>\n",
       "      <td>1779.480305</td>\n",
       "      <td>2775.008194</td>\n",
       "      <td>8.058004</td>\n",
       "      <td>24.772594</td>\n",
       "      <td>16.948225</td>\n",
       "      <td>67.703888</td>\n",
       "      <td>...</td>\n",
       "      <td>0</td>\n",
       "      <td>b'N'</td>\n",
       "      <td>0.065455</td>\n",
       "      <td>19.393660</td>\n",
       "      <td>20.174490</td>\n",
       "      <td>18.955130</td>\n",
       "      <td>18.174299</td>\n",
       "      <td>20.502573</td>\n",
       "      <td>17.918371</td>\n",
       "      <td>-0.401004</td>\n",
       "    </tr>\n",
       "    <tr>\n",
       "      <th>1711</th>\n",
       "      <td>39627222650196713</td>\n",
       "      <td>0.306351</td>\n",
       "      <td>b'deep'</td>\n",
       "      <td>80674</td>\n",
       "      <td>1779.480305</td>\n",
       "      <td>2775.008194</td>\n",
       "      <td>8.058004</td>\n",
       "      <td>24.772594</td>\n",
       "      <td>16.948225</td>\n",
       "      <td>67.703888</td>\n",
       "      <td>...</td>\n",
       "      <td>0</td>\n",
       "      <td>b'single_exposures'</td>\n",
       "      <td>0.060733</td>\n",
       "      <td>19.393660</td>\n",
       "      <td>20.174490</td>\n",
       "      <td>18.955130</td>\n",
       "      <td>18.174299</td>\n",
       "      <td>20.502573</td>\n",
       "      <td>17.918371</td>\n",
       "      <td>-0.401004</td>\n",
       "    </tr>\n",
       "    <tr>\n",
       "      <th>...</th>\n",
       "      <td>...</td>\n",
       "      <td>...</td>\n",
       "      <td>...</td>\n",
       "      <td>...</td>\n",
       "      <td>...</td>\n",
       "      <td>...</td>\n",
       "      <td>...</td>\n",
       "      <td>...</td>\n",
       "      <td>...</td>\n",
       "      <td>...</td>\n",
       "      <td>...</td>\n",
       "      <td>...</td>\n",
       "      <td>...</td>\n",
       "      <td>...</td>\n",
       "      <td>...</td>\n",
       "      <td>...</td>\n",
       "      <td>...</td>\n",
       "      <td>...</td>\n",
       "      <td>...</td>\n",
       "      <td>...</td>\n",
       "      <td>...</td>\n",
       "    </tr>\n",
       "    <tr>\n",
       "      <th>510478</th>\n",
       "      <td>39633567696815353</td>\n",
       "      <td>0.245931</td>\n",
       "      <td>b'deep'</td>\n",
       "      <td>80694</td>\n",
       "      <td>1413.332849</td>\n",
       "      <td>3862.463150</td>\n",
       "      <td>8.841469</td>\n",
       "      <td>34.034264</td>\n",
       "      <td>23.142029</td>\n",
       "      <td>168.291519</td>\n",
       "      <td>...</td>\n",
       "      <td>0</td>\n",
       "      <td>b'single_exposures'</td>\n",
       "      <td>1.131424</td>\n",
       "      <td>18.876051</td>\n",
       "      <td>19.752989</td>\n",
       "      <td>18.289507</td>\n",
       "      <td>17.412571</td>\n",
       "      <td>19.673004</td>\n",
       "      <td>16.902491</td>\n",
       "      <td>0.049884</td>\n",
       "    </tr>\n",
       "    <tr>\n",
       "      <th>510480</th>\n",
       "      <td>39633567696815353</td>\n",
       "      <td>0.245931</td>\n",
       "      <td>b'deep'</td>\n",
       "      <td>80694</td>\n",
       "      <td>1413.332849</td>\n",
       "      <td>3862.463150</td>\n",
       "      <td>8.841469</td>\n",
       "      <td>34.034264</td>\n",
       "      <td>23.142029</td>\n",
       "      <td>168.291519</td>\n",
       "      <td>...</td>\n",
       "      <td>0</td>\n",
       "      <td>b'single_exposures'</td>\n",
       "      <td>1.131494</td>\n",
       "      <td>18.876051</td>\n",
       "      <td>19.752989</td>\n",
       "      <td>18.289507</td>\n",
       "      <td>17.412571</td>\n",
       "      <td>19.673004</td>\n",
       "      <td>16.902491</td>\n",
       "      <td>0.049884</td>\n",
       "    </tr>\n",
       "    <tr>\n",
       "      <th>510483</th>\n",
       "      <td>39633567696815353</td>\n",
       "      <td>0.245931</td>\n",
       "      <td>b'deep'</td>\n",
       "      <td>80694</td>\n",
       "      <td>1413.332849</td>\n",
       "      <td>3862.463150</td>\n",
       "      <td>8.841469</td>\n",
       "      <td>34.034264</td>\n",
       "      <td>23.142029</td>\n",
       "      <td>168.291519</td>\n",
       "      <td>...</td>\n",
       "      <td>0</td>\n",
       "      <td>b'single_exposures'</td>\n",
       "      <td>1.107131</td>\n",
       "      <td>18.876051</td>\n",
       "      <td>19.752989</td>\n",
       "      <td>18.289507</td>\n",
       "      <td>17.412571</td>\n",
       "      <td>19.673004</td>\n",
       "      <td>16.902491</td>\n",
       "      <td>0.049884</td>\n",
       "    </tr>\n",
       "    <tr>\n",
       "      <th>510532</th>\n",
       "      <td>39633567701008631</td>\n",
       "      <td>0.243449</td>\n",
       "      <td>b'deep'</td>\n",
       "      <td>80694</td>\n",
       "      <td>2691.752282</td>\n",
       "      <td>3862.463150</td>\n",
       "      <td>2.943855</td>\n",
       "      <td>12.171077</td>\n",
       "      <td>8.332371</td>\n",
       "      <td>81.156052</td>\n",
       "      <td>...</td>\n",
       "      <td>0</td>\n",
       "      <td>b'single_exposures'</td>\n",
       "      <td>0.760619</td>\n",
       "      <td>19.915648</td>\n",
       "      <td>20.822786</td>\n",
       "      <td>19.281755</td>\n",
       "      <td>18.374617</td>\n",
       "      <td>20.536592</td>\n",
       "      <td>17.683784</td>\n",
       "      <td>0.385028</td>\n",
       "    </tr>\n",
       "    <tr>\n",
       "      <th>510537</th>\n",
       "      <td>39633567701008631</td>\n",
       "      <td>0.243449</td>\n",
       "      <td>b'deep'</td>\n",
       "      <td>80694</td>\n",
       "      <td>2691.752282</td>\n",
       "      <td>3862.463150</td>\n",
       "      <td>2.943855</td>\n",
       "      <td>12.171077</td>\n",
       "      <td>8.332371</td>\n",
       "      <td>81.156052</td>\n",
       "      <td>...</td>\n",
       "      <td>0</td>\n",
       "      <td>b'single_exposures'</td>\n",
       "      <td>0.736330</td>\n",
       "      <td>19.915648</td>\n",
       "      <td>20.822786</td>\n",
       "      <td>19.281755</td>\n",
       "      <td>18.374617</td>\n",
       "      <td>20.536592</td>\n",
       "      <td>17.683784</td>\n",
       "      <td>0.385028</td>\n",
       "    </tr>\n",
       "  </tbody>\n",
       "</table>\n",
       "<p>2217 rows × 31 columns</p>\n",
       "</div>"
      ],
      "text/plain": [
       "                 TARGETID    Z_deep subset_deep  TILEID_deep  DELTACHI2_deep  \\\n",
       "1703    39627222650196713  0.306351     b'deep'        80674     1779.480305   \n",
       "1704    39627222650196713  0.306351     b'deep'        80674     1779.480305   \n",
       "1705    39627222650196713  0.306351     b'deep'        80674     1779.480305   \n",
       "1706    39627222650196713  0.306351     b'deep'        80674     1779.480305   \n",
       "1711    39627222650196713  0.306351     b'deep'        80674     1779.480305   \n",
       "...                   ...       ...         ...          ...             ...   \n",
       "510478  39633567696815353  0.245931     b'deep'        80694     1413.332849   \n",
       "510480  39633567696815353  0.245931     b'deep'        80694     1413.332849   \n",
       "510483  39633567696815353  0.245931     b'deep'        80694     1413.332849   \n",
       "510532  39633567701008631  0.243449     b'deep'        80694     2691.752282   \n",
       "510537  39633567701008631  0.243449     b'deep'        80694     2691.752282   \n",
       "\n",
       "        EFFTIME_BRIGHT_deep  FIBERFLUX_R     FLUX_R  FIBERFLUX_Z     FLUX_W1  \\\n",
       "1703            2775.008194     8.058004  24.772594    16.948225   67.703888   \n",
       "1704            2775.008194     8.058004  24.772594    16.948225   67.703888   \n",
       "1705            2775.008194     8.058004  24.772594    16.948225   67.703888   \n",
       "1706            2775.008194     8.058004  24.772594    16.948225   67.703888   \n",
       "1711            2775.008194     8.058004  24.772594    16.948225   67.703888   \n",
       "...                     ...          ...        ...          ...         ...   \n",
       "510478          3862.463150     8.841469  34.034264    23.142029  168.291519   \n",
       "510480          3862.463150     8.841469  34.034264    23.142029  168.291519   \n",
       "510483          3862.463150     8.841469  34.034264    23.142029  168.291519   \n",
       "510532          3862.463150     2.943855  12.171077     8.332371   81.156052   \n",
       "510537          3862.463150     2.943855  12.171077     8.332371   81.156052   \n",
       "\n",
       "        ...  ZWARN_short            RZR_short        dz  zfibermag  rfibermag  \\\n",
       "1703    ...            0                 b'N'  0.065181  19.393660  20.174490   \n",
       "1704    ...            0                 b'N'  0.517209  19.393660  20.174490   \n",
       "1705    ...            0                 b'N'  0.065430  19.393660  20.174490   \n",
       "1706    ...            0                 b'N'  0.065455  19.393660  20.174490   \n",
       "1711    ...            0  b'single_exposures'  0.060733  19.393660  20.174490   \n",
       "...     ...          ...                  ...       ...        ...        ...   \n",
       "510478  ...            0  b'single_exposures'  1.131424  18.876051  19.752989   \n",
       "510480  ...            0  b'single_exposures'  1.131494  18.876051  19.752989   \n",
       "510483  ...            0  b'single_exposures'  1.107131  18.876051  19.752989   \n",
       "510532  ...            0  b'single_exposures'  0.760619  19.915648  20.822786   \n",
       "510537  ...            0  b'single_exposures'  0.736330  19.915648  20.822786   \n",
       "\n",
       "             rmag       zmag       gmag      w1mag     color  \n",
       "1703    18.955130  18.174299  20.502573  17.918371 -0.401004  \n",
       "1704    18.955130  18.174299  20.502573  17.918371 -0.401004  \n",
       "1705    18.955130  18.174299  20.502573  17.918371 -0.401004  \n",
       "1706    18.955130  18.174299  20.502573  17.918371 -0.401004  \n",
       "1711    18.955130  18.174299  20.502573  17.918371 -0.401004  \n",
       "...           ...        ...        ...        ...       ...  \n",
       "510478  18.289507  17.412571  19.673004  16.902491  0.049884  \n",
       "510480  18.289507  17.412571  19.673004  16.902491  0.049884  \n",
       "510483  18.289507  17.412571  19.673004  16.902491  0.049884  \n",
       "510532  19.281755  18.374617  20.536592  17.683784  0.385028  \n",
       "510537  19.281755  18.374617  20.536592  17.683784  0.385028  \n",
       "\n",
       "[2217 rows x 31 columns]"
      ]
     },
     "execution_count": 19,
     "metadata": {},
     "output_type": "execute_result"
    }
   ],
   "source": [
    "dz_not_good_catalog"
   ]
  },
  {
   "cell_type": "markdown",
   "metadata": {},
   "source": [
    "9. Another selection\n",
    "\n",
    "a. DELTACHI2_deep>15\n",
    "\n",
    "b. Z_deep>0.9\n",
    "\n",
    "c. rfibermag<21.5 & color>0\n",
    "\n",
    "---------------------------------\n",
    "\n",
    "a. DELTACHI2_deep>15\n",
    "\n",
    "b. Z_deep>0.9\n",
    "\n",
    "c. rfibermag<20.75 & color<0\n"
   ]
  },
  {
   "cell_type": "code",
   "execution_count": 20,
   "metadata": {},
   "outputs": [
    {
     "name": "stdout",
     "output_type": "stream",
     "text": [
      "460\n"
     ]
    }
   ],
   "source": [
    "#new_catalog_BGS['rfibermag']=-2.5*np.log10(new_catalog_BGS['FIBERFLUX_R'])+22.5-2.165*new_catalog_BGS['EBV']\n",
    "high_z_strange_object_color_h = final_match_catalog[(final_match_catalog['DELTACHI2_deep']>15) & \n",
    "                                            (final_match_catalog['Z_deep']>0.9) & \n",
    "                                            (final_match_catalog['rfibermag']<21.5) &\n",
    "                                            (final_match_catalog['color']>0) &\n",
    "                                            (final_match_catalog['ZWARN_deep']<=4)]\n",
    "\n",
    "high_z_strange_object_color_l = final_match_catalog[(final_match_catalog['DELTACHI2_deep']>15) & \n",
    "                                            (final_match_catalog['Z_deep']>0.9) & \n",
    "                                            (final_match_catalog['rfibermag']<20.75) &\n",
    "                                            (final_match_catalog['color']<0) &\n",
    "                                            (final_match_catalog['ZWARN_deep']<=4)]\n",
    "high_z_strange_object = high_z_strange_object_color_h.append(high_z_strange_object_color_l)\n",
    "print(len(set(high_z_strange_object['TARGETID']*high_z_strange_object['TILEID_deep'])))"
   ]
  },
  {
   "cell_type": "code",
   "execution_count": 21,
   "metadata": {},
   "outputs": [
    {
     "data": {
      "text/plain": [
       "(-2.0, 2.0)"
      ]
     },
     "execution_count": 21,
     "metadata": {},
     "output_type": "execute_result"
    },
    {
     "data": {
      "image/png": "[encoded data removed]",
      "text/plain": [
       "<Figure size 432x288 with 1 Axes>"
      ]
     },
     "metadata": {
      "needs_background": "light"
     },
     "output_type": "display_data"
    }
   ],
   "source": [
    "plt.scatter(high_z_strange_object_color_l['rfibermag'],high_z_strange_object_color_l['color'])\n",
    "plt.scatter(high_z_strange_object_color_h['rfibermag'],high_z_strange_object_color_h['color'])\n",
    "plt.xlim(18,22)\n",
    "plt.ylim(-2,2)"
   ]
  },
  {
   "cell_type": "markdown",
   "metadata": {},
   "source": [
    "10. Combining the two catalogs and producing a list with \n",
    "TILEID, TARGETID, ID_FOR_selection"
   ]
  },
  {
   "cell_type": "code",
   "execution_count": 22,
   "metadata": {},
   "outputs": [],
   "source": [
    "all_tileid = np.append(dz_not_good_catalog['TILEID_deep'].to_numpy(),high_z_strange_object['TILEID_deep'].to_numpy())\n",
    "all_targetid = np.append(dz_not_good_catalog['TARGETID'].to_numpy(),high_z_strange_object['TARGETID'].to_numpy())\n",
    "all_deltachi2_deep = np.append(dz_not_good_catalog['DELTACHI2_deep'].to_numpy(),high_z_strange_object['DELTACHI2_deep'].to_numpy())\n",
    "all_z = np.append(dz_not_good_catalog['Z_deep'].to_numpy(),high_z_strange_object['Z_deep'].to_numpy())\n",
    "all_VI_selection = np.append(np.arange(0,len(dz_not_good_catalog['TARGETID'].to_numpy()))*0.,\n",
    "                             np.arange(0,len(high_z_strange_object['TARGETID'].to_numpy()))*0.+1)"
   ]
  },
  {
   "cell_type": "markdown",
   "metadata": {},
   "source": [
    "11. Creating an unique target list with no repetition "
   ]
  },
  {
   "cell_type": "code",
   "execution_count": 23,
   "metadata": {},
   "outputs": [],
   "source": [
    "TILEID = []\n",
    "FINAL_TARGETID = []\n",
    "FINAL_selection = []\n",
    "deltachi2_deep = []\n",
    "z_deep = []\n",
    "unique_tileid = np.array(list(set(all_tileid)))\n",
    "Number_of_object_per_tile = {}\n",
    "for i_tile in range(0,len(unique_tileid)):\n",
    "    if unique_tileid[i_tile]!=80613:\n",
    "        search = np.where(all_tileid==unique_tileid[i_tile])\n",
    "        tmp_targetid = all_targetid[search[0]]\n",
    "\n",
    "        unique_targetid = np.array(list(set(tmp_targetid)))\n",
    "        Number_of_object_per_tile[unique_tileid[i_tile]]=len(unique_targetid)\n",
    "        for i_td in range(0,len(unique_targetid)):\n",
    "            TILEID.append(unique_tileid[i_tile])\n",
    "            FINAL_TARGETID.append(unique_targetid[i_td])\n",
    "            search_selection = np.where((all_tileid==unique_tileid[i_tile]) & (all_targetid==unique_targetid[i_td]))\n",
    "            FINAL_selection.append(int(all_VI_selection[search_selection[0][0]]))\n",
    "            deltachi2_deep.append(all_deltachi2_deep[search_selection[0][0]])\n",
    "            z_deep.append(all_z[search_selection[0][0]])"
   ]
  },
  {
   "cell_type": "code",
   "execution_count": 24,
   "metadata": {},
   "outputs": [
    {
     "name": "stdout",
     "output_type": "stream",
     "text": [
      "1857\n"
     ]
    },
    {
     "data": {
      "text/plain": [
       "{80641: 112,\n",
       " 80642: 113,\n",
       " 80643: 165,\n",
       " 80644: 43,\n",
       " 80645: 51,\n",
       " 80646: 40,\n",
       " 80650: 57,\n",
       " 80651: 24,\n",
       " 80653: 31,\n",
       " 80654: 302,\n",
       " 80655: 59,\n",
       " 80656: 16,\n",
       " 80660: 204,\n",
       " 80664: 176,\n",
       " 80669: 1,\n",
       " 80670: 50,\n",
       " 80674: 13,\n",
       " 80675: 4,\n",
       " 80676: 12,\n",
       " 80677: 3,\n",
       " 80678: 23,\n",
       " 80680: 7,\n",
       " 80681: 5,\n",
       " 80682: 4,\n",
       " 80684: 1,\n",
       " 80685: 2,\n",
       " 80686: 3,\n",
       " 80687: 1,\n",
       " 80688: 5,\n",
       " 80690: 11,\n",
       " 80692: 1,\n",
       " 80693: 3,\n",
       " 80694: 18,\n",
       " 80700: 14,\n",
       " 80701: 1,\n",
       " 80707: 4,\n",
       " 80708: 3,\n",
       " 80711: 2,\n",
       " 80712: 2,\n",
       " 80605: 16,\n",
       " 80607: 4,\n",
       " 80735: 1,\n",
       " 80609: 7,\n",
       " 80738: 1,\n",
       " 80612: 38,\n",
       " 80616: 23,\n",
       " 80617: 45,\n",
       " 80618: 45,\n",
       " 80619: 27,\n",
       " 80620: 5,\n",
       " 80622: 2,\n",
       " 80629: 21,\n",
       " 80632: 9,\n",
       " 80633: 27}"
      ]
     },
     "execution_count": 24,
     "metadata": {},
     "output_type": "execute_result"
    }
   ],
   "source": [
    "print(len(FINAL_selection))\n",
    "Number_of_object_per_tile"
   ]
  },
  {
   "cell_type": "code",
   "execution_count": 25,
   "metadata": {},
   "outputs": [
    {
     "data": {
      "text/plain": [
       "(-0.1, 2.0)"
      ]
     },
     "execution_count": 25,
     "metadata": {},
     "output_type": "execute_result"
    },
    {
     "data": {
      "image/png": "[encoded data removed]",
      "text/plain": [
       "<Figure size 720x432 with 1 Axes>"
      ]
     },
     "metadata": {
      "needs_background": "light"
     },
     "output_type": "display_data"
    }
   ],
   "source": [
    "plt.figure(figsize=(10,6))\n",
    "plt.scatter(z_deep,np.log10(deltachi2_deep),s=3)\n",
    "plt.ylabel('log Deltachi2',fontsize=15)\n",
    "plt.xlabel('Redshift',fontsize=15)\n",
    "plt.xlim(-0.1,2)\n"
   ]
  },
  {
   "cell_type": "code",
   "execution_count": 26,
   "metadata": {},
   "outputs": [],
   "source": [
    "d = {'TILEID':TILEID,'TARGETID':FINAL_TARGETID,'VI_selection':FINAL_selection,'DELTACHI2':deltachi2_deep,'Z':z_deep}\n",
    "df = pd.DataFrame(data=d)\n",
    "df.sort_values(\"VI_selection\",inplace=True)"
   ]
  },
  {
   "cell_type": "code",
   "execution_count": 27,
   "metadata": {},
   "outputs": [],
   "source": [
    "df.to_csv('210402_SV_cascades_BGS_VI_target_list.v1.csv',index=False)"
   ]
  },
  {
   "cell_type": "code",
   "execution_count": 28,
   "metadata": {},
   "outputs": [],
   "source": [
    "new_data = pd.read_csv('210402_SV_cascades_BGS_VI_target_list.v1.csv')"
   ]
  },
  {
   "cell_type": "code",
   "execution_count": 29,
   "metadata": {},
   "outputs": [
    {
     "name": "stdout",
     "output_type": "stream",
     "text": [
      "TOTAL selected spectra for VI: 1857\n"
     ]
    }
   ],
   "source": [
    "print('TOTAL selected spectra for VI:',len(TILEID))"
   ]
  },
  {
   "cell_type": "code",
   "execution_count": 30,
   "metadata": {},
   "outputs": [],
   "source": [
    "match_new_data = new_data.merge(new_catalog_BGS,on='TARGETID',how='left')"
   ]
  },
  {
   "cell_type": "code",
   "execution_count": 31,
   "metadata": {},
   "outputs": [],
   "source": [
    "match_new_data = match_new_data[match_new_data['TILEID_x']==match_new_data['TILEID_y']]"
   ]
  },
  {
   "cell_type": "code",
   "execution_count": 32,
   "metadata": {},
   "outputs": [
    {
     "data": {
      "text/plain": [
       "432"
      ]
     },
     "execution_count": 32,
     "metadata": {},
     "output_type": "execute_result"
    }
   ],
   "source": [
    "len(np.where(np.array(FINAL_selection)==1)[0])"
   ]
  },
  {
   "cell_type": "code",
   "execution_count": 33,
   "metadata": {},
   "outputs": [],
   "source": [
    "#len(FINAL_selection[FINAL_selection==0])"
   ]
  },
  {
   "cell_type": "code",
   "execution_count": 34,
   "metadata": {},
   "outputs": [
    {
     "data": {
      "text/plain": [
       "<matplotlib.collections.PathCollection at 0x2aab66b446a0>"
      ]
     },
     "execution_count": 34,
     "metadata": {},
     "output_type": "execute_result"
    },
    {
     "data": {
      "image/png": "[encoded data removed]",
      "text/plain": [
       "<Figure size 432x288 with 1 Axes>"
      ]
     },
     "metadata": {
      "needs_background": "light"
     },
     "output_type": "display_data"
    }
   ],
   "source": [
    "plt.scatter(match_new_data['Z_x'],match_new_data['Z_y'])"
   ]
  },
  {
   "cell_type": "code",
   "execution_count": null,
   "metadata": {},
   "outputs": [],
   "source": []
  }
 ],
 "metadata": {
  "kernelspec": {
   "display_name": "DESI master",
   "language": "python",
   "name": "desi-master"
  },
  "language_info": {
   "codemirror_mode": {
    "name": "ipython",
    "version": 3
   },
   "file_extension": ".py",
   "mimetype": "text/x-python",
   "name": "python",
   "nbconvert_exporter": "python",
   "pygments_lexer": "ipython3",
   "version": "3.8.3"
  }
 },
 "nbformat": 4,
 "nbformat_minor": 4
}
