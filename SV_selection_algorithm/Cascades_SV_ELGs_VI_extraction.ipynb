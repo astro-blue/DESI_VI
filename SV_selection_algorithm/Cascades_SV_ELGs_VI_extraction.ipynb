{
 "cells": [
  {
   "cell_type": "code",
   "execution_count": 3,
   "metadata": {},
   "outputs": [],
   "source": [
    "import astropy.io.fits as pf\n",
    "import numpy as np\n",
    "import matplotlib.pyplot as plt"
   ]
  },
  {
   "cell_type": "code",
   "execution_count": 64,
   "metadata": {},
   "outputs": [],
   "source": [
    "data = pf.open('/global/homes/r/raichoor/sv1/sv1-elg-cascades-3.1.fits')[1].data"
   ]
  },
  {
   "cell_type": "code",
   "execution_count": 27,
   "metadata": {},
   "outputs": [],
   "source": [
    "search = np.where((data['subset']=='subset-1') | (data['subset']=='subset-2'))"
   ]
  },
  {
   "cell_type": "code",
   "execution_count": 29,
   "metadata": {},
   "outputs": [],
   "source": [
    "hdu_spectra = pf.PrimaryHDU(np.array([0,1,2]))\n",
    "info = pf.BinTableHDU(data[search[0]])"
   ]
  },
  {
   "cell_type": "code",
   "execution_count": 30,
   "metadata": {},
   "outputs": [],
   "source": [
    "hdulist = pf.HDUList([hdu_spectra,info])\n",
    "hdulist.writeto('sv1-elg-cascades-3.1_subset_1_2.fits')"
   ]
  },
  {
   "cell_type": "code",
   "execution_count": 39,
   "metadata": {},
   "outputs": [
    {
     "data": {
      "text/plain": [
       "chararray(['/global/cfs/cdirs/desi/users/rongpu/redux/cascades/single_exposures/80605/zbest-0-80605-00067710.fits',\n",
       "           '/global/cfs/cdirs/desi/users/rongpu/redux/cascades/single_exposures/80605/zbest-0-80605-00067710.fits',\n",
       "           '/global/cfs/cdirs/desi/users/rongpu/redux/cascades/single_exposures/80605/zbest-0-80605-00067710.fits',\n",
       "           ...,\n",
       "           '/global/cfs/cdirs/desi/spectro/redux/cascades/tiles/80712/deep/zbest-9-80712-deep.fits',\n",
       "           '/global/cfs/cdirs/desi/spectro/redux/cascades/tiles/80712/deep/zbest-9-80712-deep.fits',\n",
       "           '/global/cfs/cdirs/desi/spectro/redux/cascades/tiles/80712/deep/zbest-9-80712-deep.fits'],\n",
       "          dtype='<U200')"
      ]
     },
     "execution_count": 39,
     "metadata": {},
     "output_type": "execute_result"
    }
   ],
   "source": [
    "data['FN']"
   ]
  },
  {
   "cell_type": "code",
   "execution_count": 40,
   "metadata": {},
   "outputs": [],
   "source": [
    "data = pf.open('/global/cfs/cdirs/desi/spectro/redux/cascades/tiles/80641/deep/zbest-0-80641-deep.fits')"
   ]
  },
  {
   "cell_type": "code",
   "execution_count": 47,
   "metadata": {},
   "outputs": [],
   "source": [
    "search = np.where(data[2].data['OBJTYPE']=='SKY')"
   ]
  },
  {
   "cell_type": "code",
   "execution_count": 53,
   "metadata": {},
   "outputs": [
    {
     "data": {
      "text/plain": [
       "[616093887059985410,\n",
       " 616093882639188999,\n",
       " 616093887055791120,\n",
       " 616093887051596312,\n",
       " 616093895855439899,\n",
       " 616093891464004643,\n",
       " 616093887059985451,\n",
       " 616093891459809331,\n",
       " 616093891464004148,\n",
       " 616093887055790644,\n",
       " 616093882639188544,\n",
       " 616093887059984450,\n",
       " 616093882630799938,\n",
       " 616093895851245650,\n",
       " 616093904583786578,\n",
       " 616093887064179803,\n",
       " 616093887051595868,\n",
       " 616093887051596388,\n",
       " 616093900230099048,\n",
       " 616093887059985002,\n",
       " 616093895855441004,\n",
       " 616093891464004208,\n",
       " 616093891468199029,\n",
       " 616093882630799996,\n",
       " 616093900230099588,\n",
       " 616093891468198021,\n",
       " 616093882630800016,\n",
       " 616093887059985566,\n",
       " 616093887059984546,\n",
       " 616093882639189155,\n",
       " 616093891472392361,\n",
       " 616093891468199085,\n",
       " 616093887055790256,\n",
       " 616093882634994354,\n",
       " 616093895855440051,\n",
       " 616093882639189171,\n",
       " 616093904583787202,\n",
       " 616093891459809508,\n",
       " 616093887064178921,\n",
       " 616093887059985131,\n",
       " 616093895855440112,\n",
       " 616093887064179444,\n",
       " 616093895851245815,\n",
       " 616093895855440636,\n",
       " 616093895851245820,\n",
       " 616093887059984654,\n",
       " 616093882634993934,\n",
       " 616093882630800151,\n",
       " 616093891464004384,\n",
       " 616093891464003876,\n",
       " 616093882634993958,\n",
       " 616093882630800178,\n",
       " 616093891464004406,\n",
       " 616093882630799672,\n",
       " 616093882634994509,\n",
       " 616093900234293590,\n",
       " 616093887059985238,\n",
       " 616093891468198241,\n",
       " 616093891464004452,\n",
       " 616093887059984741,\n",
       " 616093891464004460,\n",
       " 616093904583786883,\n",
       " 616093895859635083,\n",
       " 616093895855440787,\n",
       " 616093891468198292,\n",
       " 616093887059985305,\n",
       " 616093882634994074,\n",
       " 616093882639188897,\n",
       " 616093882630800294,\n",
       " 616093900230099369,\n",
       " 616093891464004011,\n",
       " 616093887055790512,\n",
       " 616093882630800307,\n",
       " 616093882630800314,\n",
       " 616093891464004541,\n",
       " 616093891464004038,\n",
       " 616093891464004058,\n",
       " 616093891459809776,\n",
       " 616093882630799857,\n",
       " 616093887055791100]"
      ]
     },
     "execution_count": 53,
     "metadata": {},
     "output_type": "execute_result"
    }
   ],
   "source": [
    "list(set(data[2].data['TARGETID'][search[0]]))"
   ]
  },
  {
   "cell_type": "code",
   "execution_count": 60,
   "metadata": {},
   "outputs": [],
   "source": [
    "search2 = np.where(data[1].data['TARGETID']==616093882630799857)"
   ]
  },
  {
   "cell_type": "code",
   "execution_count": 61,
   "metadata": {},
   "outputs": [
    {
     "data": {
      "text/plain": [
       "(array([421]),)"
      ]
     },
     "execution_count": 61,
     "metadata": {},
     "output_type": "execute_result"
    }
   ],
   "source": [
    "search2"
   ]
  },
  {
   "cell_type": "code",
   "execution_count": 63,
   "metadata": {},
   "outputs": [
    {
     "data": {
      "text/plain": [
       "0.49412831815621516"
      ]
     },
     "execution_count": 63,
     "metadata": {},
     "output_type": "execute_result"
    }
   ],
   "source": [
    "data[1].data['Z'][421]"
   ]
  },
  {
   "cell_type": "code",
   "execution_count": 59,
   "metadata": {},
   "outputs": [
    {
     "data": {
      "text/plain": [
       "['TARGETID',\n",
       " 'PETAL_LOC',\n",
       " 'DEVICE_LOC',\n",
       " 'LOCATION',\n",
       " 'FIBER',\n",
       " 'FIBERSTATUS',\n",
       " 'TARGET_RA',\n",
       " 'TARGET_DEC',\n",
       " 'PMRA',\n",
       " 'PMDEC',\n",
       " 'REF_EPOCH',\n",
       " 'LAMBDA_REF',\n",
       " 'FA_TARGET',\n",
       " 'FA_TYPE',\n",
       " 'OBJTYPE',\n",
       " 'FIBERASSIGN_X',\n",
       " 'FIBERASSIGN_Y',\n",
       " 'PRIORITY',\n",
       " 'SUBPRIORITY',\n",
       " 'OBSCONDITIONS',\n",
       " 'RELEASE',\n",
       " 'BRICKID',\n",
       " 'BRICK_OBJID',\n",
       " 'MORPHTYPE',\n",
       " 'FLUX_G',\n",
       " 'FLUX_R',\n",
       " 'FLUX_Z',\n",
       " 'FLUX_IVAR_G',\n",
       " 'FLUX_IVAR_R',\n",
       " 'FLUX_IVAR_Z',\n",
       " 'REF_ID',\n",
       " 'REF_CAT',\n",
       " 'GAIA_PHOT_G_MEAN_MAG',\n",
       " 'GAIA_PHOT_BP_MEAN_MAG',\n",
       " 'GAIA_PHOT_RP_MEAN_MAG',\n",
       " 'PARALLAX',\n",
       " 'BRICKNAME',\n",
       " 'EBV',\n",
       " 'FLUX_W1',\n",
       " 'FLUX_W2',\n",
       " 'FIBERFLUX_G',\n",
       " 'FIBERFLUX_R',\n",
       " 'FIBERFLUX_Z',\n",
       " 'FIBERTOTFLUX_G',\n",
       " 'FIBERTOTFLUX_R',\n",
       " 'FIBERTOTFLUX_Z',\n",
       " 'MASKBITS',\n",
       " 'SERSIC',\n",
       " 'SHAPE_R',\n",
       " 'SHAPE_E1',\n",
       " 'SHAPE_E2',\n",
       " 'PHOTSYS',\n",
       " 'PRIORITY_INIT',\n",
       " 'NUMOBS_INIT',\n",
       " 'SV1_DESI_TARGET',\n",
       " 'SV1_BGS_TARGET',\n",
       " 'SV1_MWS_TARGET',\n",
       " 'DESI_TARGET',\n",
       " 'BGS_TARGET',\n",
       " 'MWS_TARGET',\n",
       " 'NUM_ITER',\n",
       " 'FIBER_X',\n",
       " 'FIBER_Y',\n",
       " 'DELTA_X',\n",
       " 'DELTA_Y',\n",
       " 'FIBER_RA',\n",
       " 'FIBER_DEC',\n",
       " 'EXPTIME',\n",
       " 'NIGHT',\n",
       " 'EXPID',\n",
       " 'MJD',\n",
       " 'TILEID']"
      ]
     },
     "execution_count": 59,
     "metadata": {},
     "output_type": "execute_result"
    }
   ],
   "source": [
    "data[2].data.names"
   ]
  },
  {
   "cell_type": "code",
   "execution_count": null,
   "metadata": {},
   "outputs": [],
   "source": []
  }
 ],
 "metadata": {
  "kernelspec": {
   "display_name": "DESI master",
   "language": "python",
   "name": "desi-master"
  },
  "language_info": {
   "codemirror_mode": {
    "name": "ipython",
    "version": 3
   },
   "file_extension": ".py",
   "mimetype": "text/x-python",
   "name": "python",
   "nbconvert_exporter": "python",
   "pygments_lexer": "ipython3",
   "version": "3.8.3"
  }
 },
 "nbformat": 4,
 "nbformat_minor": 4
}
