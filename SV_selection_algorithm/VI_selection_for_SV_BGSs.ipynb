{
 "cells": [
  {
   "cell_type": "code",
   "execution_count": 21,
   "metadata": {},
   "outputs": [],
   "source": [
    "import numpy as np\n",
    "import seaborn as sb\n",
    "import matplotlib.pyplot as plt\n",
    "import pandas as pd\n",
    "import astropy.io.fits as pf\n",
    "import warnings\n",
    "from astropy.table import Table, vstack\n",
    "warnings.filterwarnings('ignore')"
   ]
  },
  {
   "cell_type": "markdown",
   "metadata": {},
   "source": [
    "1. Reading the cascades BGS catalog"
   ]
  },
  {
   "cell_type": "code",
   "execution_count": 22,
   "metadata": {},
   "outputs": [],
   "source": [
    "diretory = '/global/cfs/cdirs/desi/survey/catalogs/SV1/redshift_comps/cascades/3.1/BGS_ANY/'\n",
    "dataname = 'alltiles_BGS_ANYzinfo.fits'\n",
    "catalog = Table.read(diretory+dataname,hdu='ZBEST')\n",
    "#zmag = -2.5*np.log10(catalog['FIBERFLUX_Z'])+22.5-1.211*catalog['EBV']"
   ]
  },
  {
   "cell_type": "markdown",
   "metadata": {},
   "source": [
    "2. Selecting the deep coadds with EFFTIME_dark>400"
   ]
  },
  {
   "cell_type": "code",
   "execution_count": 23,
   "metadata": {},
   "outputs": [
    {
     "name": "stdout",
     "output_type": "stream",
     "text": [
      "Number of deep coadds BGS: 80604\n"
     ]
    }
   ],
   "source": [
    "search_BGS = np.where((catalog['subset']=='deep')  & (catalog['EFFTIME_BRIGHT']>400))\n",
    "catalog_BGS = catalog[search_BGS[0]].copy()\n",
    "print('Number of deep coadds BGS:',len(search_BGS[0]))"
   ]
  },
  {
   "cell_type": "markdown",
   "metadata": {},
   "source": [
    "3. Selecting the short exposures coadds with EFFTIME_dark>100 (not deep or all)"
   ]
  },
  {
   "cell_type": "code",
   "execution_count": 24,
   "metadata": {},
   "outputs": [
    {
     "name": "stdout",
     "output_type": "stream",
     "text": [
      "Number of short exposures: 1014339\n"
     ]
    }
   ],
   "source": [
    "search_BGS_short = np.where((catalog['subset']!='all') & (catalog['subset']!='deep') & (catalog['EFFTIME_BRIGHT']>100))\n",
    "catalog_BGS_short = catalog[search_BGS_short[0]].copy()\n",
    "print('Number of short exposures:', len(catalog_BGS_short))"
   ]
  },
  {
   "cell_type": "markdown",
   "metadata": {},
   "source": [
    "Just checking the EFFTIME_BRIGHT distribution"
   ]
  },
  {
   "cell_type": "code",
   "execution_count": 25,
   "metadata": {},
   "outputs": [
    {
     "data": {
      "text/plain": [
       "<matplotlib.legend.Legend at 0x2aab663e9550>"
      ]
     },
     "execution_count": 25,
     "metadata": {},
     "output_type": "execute_result"
    },
    {
     "data": {
      "image/png": "[encoded data removed]",
      "text/plain": [
       "<Figure size 432x288 with 1 Axes>"
      ]
     },
     "metadata": {
      "needs_background": "light"
     },
     "output_type": "display_data"
    }
   ],
   "source": [
    "plt.hist(catalog_BGS['EFFTIME_BRIGHT'],bins=20,range=(0,10000),label='Deep coadds')\n",
    "plt.hist(catalog_BGS_short['EFFTIME_BRIGHT'],bins=20,range=(0,10000),alpha=0.5,label='short exposure coadds')\n",
    "plt.xlabel('EFFTIME_BRIGHT')\n",
    "plt.yscale('log')\n",
    "plt.legend()"
   ]
  },
  {
   "cell_type": "markdown",
   "metadata": {},
   "source": [
    "4. Creating pandas tables from fit formats"
   ]
  },
  {
   "cell_type": "code",
   "execution_count": 26,
   "metadata": {},
   "outputs": [],
   "source": [
    "new_catalog_BGS_short = catalog_BGS_short[['TARGETID','Z','subset','TILEID','EFFTIME_BRIGHT','DELTACHI2','ZWARN']].to_pandas()\n",
    "new_catalog_BGS = catalog_BGS['TARGETID','Z','subset','TILEID','DELTACHI2','EFFTIME_BRIGHT','FIBERFLUX_R','FIBERFLUX_Z','EBV','ZWARN'].to_pandas()"
   ]
  },
  {
   "cell_type": "markdown",
   "metadata": {},
   "source": [
    "5. Matching the two catalogs with targetid. The redrock information from the deep coadds has suffixes _deep and short coadds with _short"
   ]
  },
  {
   "cell_type": "code",
   "execution_count": 27,
   "metadata": {},
   "outputs": [],
   "source": [
    "catalog_BGS_match = new_catalog_BGS.merge(new_catalog_BGS_short,on='TARGETID',how='left',suffixes=(\"_deep\",\"_short\"))"
   ]
  },
  {
   "cell_type": "markdown",
   "metadata": {},
   "source": [
    "6. Removing same objects but observe in different tiles. and create redshift difference and zfibermag information"
   ]
  },
  {
   "cell_type": "code",
   "execution_count": 28,
   "metadata": {},
   "outputs": [],
   "source": [
    "final_match_catalog = catalog_BGS_match[catalog_BGS_match['TILEID_deep']==catalog_BGS_match['TILEID_short']]\n",
    "final_match_catalog['dz']=abs(final_match_catalog['Z_deep']-final_match_catalog['Z_short'])/(1.+final_match_catalog['Z_deep'])\n",
    "final_match_catalog['zfibermag']=-2.5*np.log10(final_match_catalog['FIBERFLUX_Z'])+22.5-1.211*final_match_catalog['EBV']\n",
    "final_match_catalog['rfibermag']=-2.5*np.log10(final_match_catalog['FIBERFLUX_R'])+22.5-2.165*final_match_catalog['EBV']"
   ]
  },
  {
   "cell_type": "markdown",
   "metadata": {},
   "source": [
    "7. Selecting targets with non repeatable redshifts.\n",
    "\n",
    "\n",
    "Selection:\n",
    "    a. |z_deep-z_short|/(1+z_deep)>0.0033\n",
    "    \n",
    "    b. DELTACHI2_deep>15\n",
    "    \n",
    "    c. Z_deep<0.9\n",
    "    \n",
    "    d. DELTACHI2_short>10\n",
    "    \n",
    "    e. zfibermag<20.3\n",
    "    \n",
    "    f. ZWARN_deep<=4\n",
    "    \n",
    "    g. ZWARN_short<=4\n",
    "    \n"
   ]
  },
  {
   "cell_type": "code",
   "execution_count": 40,
   "metadata": {},
   "outputs": [],
   "source": [
    "dz_not_good_catalog = final_match_catalog[(final_match_catalog['dz']>0.0033) & \n",
    "                                          (final_match_catalog['DELTACHI2_deep']>15) & \n",
    "                                          (final_match_catalog['Z_deep']<0.9) & \n",
    "                                          (final_match_catalog['DELTACHI2_short']>10) &\n",
    "                                          (final_match_catalog['rfibermag']<=20.3) & \n",
    "                                          (final_match_catalog['ZWARN_deep']<=4) & \n",
    "                                          (final_match_catalog['ZWARN_short']<=4)]"
   ]
  },
  {
   "cell_type": "markdown",
   "metadata": {},
   "source": [
    "8. Looking at the DELTACHI2_deep distribution with non-repeatable redshifts. What is interesting is that  there are many objects with high Deltachi2 but non-repeatable redshifts."
   ]
  },
  {
   "cell_type": "code",
   "execution_count": 41,
   "metadata": {},
   "outputs": [
    {
     "data": {
      "text/plain": [
       "(1.0, 5.0)"
      ]
     },
     "execution_count": 41,
     "metadata": {},
     "output_type": "execute_result"
    },
    {
     "data": {
      "image/png": "[encoded data removed]",
      "text/plain": [
       "<Figure size 432x288 with 1 Axes>"
      ]
     },
     "metadata": {
      "needs_background": "light"
     },
     "output_type": "display_data"
    }
   ],
   "source": [
    "plt.hist(np.log10(dz_not_good_catalog['DELTACHI2_deep']),bins=200,range=(0,5),alpha=0.5)\n",
    "plt.xlabel('log10 DELTACHI2 deep')\n",
    "plt.xlim(1,5)\n",
    "#plt.axvline(2.55)\n",
    "#plt.axvline(2.525)"
   ]
  },
  {
   "cell_type": "code",
   "execution_count": 42,
   "metadata": {},
   "outputs": [],
   "source": [
    "#dz_not_good_catalog[(np.log10(dz_not_good_catalog['DELTACHI2_deep'])>2.525) & (np.log10(dz_not_good_catalog['DELTACHI2_deep'])<2.55)]"
   ]
  },
  {
   "cell_type": "code",
   "execution_count": 43,
   "metadata": {},
   "outputs": [
    {
     "name": "stdout",
     "output_type": "stream",
     "text": [
      "Number of unique targets in the selection: 564\n"
     ]
    }
   ],
   "source": [
    "print('Number of unique targets in the selection:',len(set(dz_not_good_catalog['TARGETID'])))"
   ]
  },
  {
   "cell_type": "code",
   "execution_count": 44,
   "metadata": {},
   "outputs": [
    {
     "data": {
      "text/html": [
       "<div>\n",
       "<style scoped>\n",
       "    .dataframe tbody tr th:only-of-type {\n",
       "        vertical-align: middle;\n",
       "    }\n",
       "\n",
       "    .dataframe tbody tr th {\n",
       "        vertical-align: top;\n",
       "    }\n",
       "\n",
       "    .dataframe thead th {\n",
       "        text-align: right;\n",
       "    }\n",
       "</style>\n",
       "<table border=\"1\" class=\"dataframe\">\n",
       "  <thead>\n",
       "    <tr style=\"text-align: right;\">\n",
       "      <th></th>\n",
       "      <th>TARGETID</th>\n",
       "      <th>Z_deep</th>\n",
       "      <th>subset_deep</th>\n",
       "      <th>TILEID_deep</th>\n",
       "      <th>DELTACHI2_deep</th>\n",
       "      <th>EFFTIME_BRIGHT_deep</th>\n",
       "      <th>FIBERFLUX_R</th>\n",
       "      <th>FIBERFLUX_Z</th>\n",
       "      <th>EBV</th>\n",
       "      <th>ZWARN_deep</th>\n",
       "      <th>Z_short</th>\n",
       "      <th>subset_short</th>\n",
       "      <th>TILEID_short</th>\n",
       "      <th>EFFTIME_BRIGHT_short</th>\n",
       "      <th>DELTACHI2_short</th>\n",
       "      <th>ZWARN_short</th>\n",
       "      <th>dz</th>\n",
       "      <th>zfibermag</th>\n",
       "      <th>rfibermag</th>\n",
       "    </tr>\n",
       "  </thead>\n",
       "  <tbody>\n",
       "    <tr>\n",
       "      <th>1866</th>\n",
       "      <td>39627222650196713</td>\n",
       "      <td>0.306351</td>\n",
       "      <td>b'deep'</td>\n",
       "      <td>80674</td>\n",
       "      <td>1779.480305</td>\n",
       "      <td>2775.008194</td>\n",
       "      <td>8.058004</td>\n",
       "      <td>16.948225</td>\n",
       "      <td>0.027687</td>\n",
       "      <td>0</td>\n",
       "      <td>0.391501</td>\n",
       "      <td>b'20210109'</td>\n",
       "      <td>80674</td>\n",
       "      <td>807.210037</td>\n",
       "      <td>120.497871</td>\n",
       "      <td>0</td>\n",
       "      <td>0.065181</td>\n",
       "      <td>19.393660</td>\n",
       "      <td>20.174490</td>\n",
       "    </tr>\n",
       "    <tr>\n",
       "      <th>1867</th>\n",
       "      <td>39627222650196713</td>\n",
       "      <td>0.306351</td>\n",
       "      <td>b'deep'</td>\n",
       "      <td>80674</td>\n",
       "      <td>1779.480305</td>\n",
       "      <td>2775.008194</td>\n",
       "      <td>8.058004</td>\n",
       "      <td>16.948225</td>\n",
       "      <td>0.027687</td>\n",
       "      <td>0</td>\n",
       "      <td>0.982008</td>\n",
       "      <td>b'20210116'</td>\n",
       "      <td>80674</td>\n",
       "      <td>408.062119</td>\n",
       "      <td>87.259342</td>\n",
       "      <td>0</td>\n",
       "      <td>0.517209</td>\n",
       "      <td>19.393660</td>\n",
       "      <td>20.174490</td>\n",
       "    </tr>\n",
       "    <tr>\n",
       "      <th>1868</th>\n",
       "      <td>39627222650196713</td>\n",
       "      <td>0.306351</td>\n",
       "      <td>b'deep'</td>\n",
       "      <td>80674</td>\n",
       "      <td>1779.480305</td>\n",
       "      <td>2775.008194</td>\n",
       "      <td>8.058004</td>\n",
       "      <td>16.948225</td>\n",
       "      <td>0.027687</td>\n",
       "      <td>0</td>\n",
       "      <td>0.391826</td>\n",
       "      <td>b'20210105'</td>\n",
       "      <td>80674</td>\n",
       "      <td>374.864014</td>\n",
       "      <td>117.655208</td>\n",
       "      <td>0</td>\n",
       "      <td>0.065430</td>\n",
       "      <td>19.393660</td>\n",
       "      <td>20.174490</td>\n",
       "    </tr>\n",
       "    <tr>\n",
       "      <th>1869</th>\n",
       "      <td>39627222650196713</td>\n",
       "      <td>0.306351</td>\n",
       "      <td>b'deep'</td>\n",
       "      <td>80674</td>\n",
       "      <td>1779.480305</td>\n",
       "      <td>2775.008194</td>\n",
       "      <td>8.058004</td>\n",
       "      <td>16.948225</td>\n",
       "      <td>0.027687</td>\n",
       "      <td>0</td>\n",
       "      <td>0.391858</td>\n",
       "      <td>b'20210106'</td>\n",
       "      <td>80674</td>\n",
       "      <td>487.999817</td>\n",
       "      <td>38.713246</td>\n",
       "      <td>0</td>\n",
       "      <td>0.065455</td>\n",
       "      <td>19.393660</td>\n",
       "      <td>20.174490</td>\n",
       "    </tr>\n",
       "    <tr>\n",
       "      <th>1873</th>\n",
       "      <td>39627222650196713</td>\n",
       "      <td>0.306351</td>\n",
       "      <td>b'deep'</td>\n",
       "      <td>80674</td>\n",
       "      <td>1779.480305</td>\n",
       "      <td>2775.008194</td>\n",
       "      <td>8.058004</td>\n",
       "      <td>16.948225</td>\n",
       "      <td>0.027687</td>\n",
       "      <td>0</td>\n",
       "      <td>0.977279</td>\n",
       "      <td>b'00072684'</td>\n",
       "      <td>80674</td>\n",
       "      <td>124.459465</td>\n",
       "      <td>46.557366</td>\n",
       "      <td>0</td>\n",
       "      <td>0.513589</td>\n",
       "      <td>19.393660</td>\n",
       "      <td>20.174490</td>\n",
       "    </tr>\n",
       "    <tr>\n",
       "      <th>...</th>\n",
       "      <td>...</td>\n",
       "      <td>...</td>\n",
       "      <td>...</td>\n",
       "      <td>...</td>\n",
       "      <td>...</td>\n",
       "      <td>...</td>\n",
       "      <td>...</td>\n",
       "      <td>...</td>\n",
       "      <td>...</td>\n",
       "      <td>...</td>\n",
       "      <td>...</td>\n",
       "      <td>...</td>\n",
       "      <td>...</td>\n",
       "      <td>...</td>\n",
       "      <td>...</td>\n",
       "      <td>...</td>\n",
       "      <td>...</td>\n",
       "      <td>...</td>\n",
       "      <td>...</td>\n",
       "    </tr>\n",
       "    <tr>\n",
       "      <th>825183</th>\n",
       "      <td>39633567696815733</td>\n",
       "      <td>0.284010</td>\n",
       "      <td>b'deep'</td>\n",
       "      <td>80694</td>\n",
       "      <td>5232.447023</td>\n",
       "      <td>3862.463150</td>\n",
       "      <td>7.097050</td>\n",
       "      <td>18.265144</td>\n",
       "      <td>0.224691</td>\n",
       "      <td>0</td>\n",
       "      <td>1.675282</td>\n",
       "      <td>b'00071480'</td>\n",
       "      <td>80694</td>\n",
       "      <td>164.184677</td>\n",
       "      <td>26.589900</td>\n",
       "      <td>0</td>\n",
       "      <td>1.083537</td>\n",
       "      <td>19.073841</td>\n",
       "      <td>19.885849</td>\n",
       "    </tr>\n",
       "    <tr>\n",
       "      <th>825187</th>\n",
       "      <td>39633567696815733</td>\n",
       "      <td>0.284010</td>\n",
       "      <td>b'deep'</td>\n",
       "      <td>80694</td>\n",
       "      <td>5232.447023</td>\n",
       "      <td>3862.463150</td>\n",
       "      <td>7.097050</td>\n",
       "      <td>18.265144</td>\n",
       "      <td>0.224691</td>\n",
       "      <td>0</td>\n",
       "      <td>1.687326</td>\n",
       "      <td>b'00072705'</td>\n",
       "      <td>80694</td>\n",
       "      <td>202.887772</td>\n",
       "      <td>30.545552</td>\n",
       "      <td>0</td>\n",
       "      <td>1.092917</td>\n",
       "      <td>19.073841</td>\n",
       "      <td>19.885849</td>\n",
       "    </tr>\n",
       "    <tr>\n",
       "      <th>825191</th>\n",
       "      <td>39633567696815733</td>\n",
       "      <td>0.284010</td>\n",
       "      <td>b'deep'</td>\n",
       "      <td>80694</td>\n",
       "      <td>5232.447023</td>\n",
       "      <td>3862.463150</td>\n",
       "      <td>7.097050</td>\n",
       "      <td>18.265144</td>\n",
       "      <td>0.224691</td>\n",
       "      <td>0</td>\n",
       "      <td>0.491402</td>\n",
       "      <td>b'00071478'</td>\n",
       "      <td>80694</td>\n",
       "      <td>273.753204</td>\n",
       "      <td>112.272536</td>\n",
       "      <td>0</td>\n",
       "      <td>0.161519</td>\n",
       "      <td>19.073841</td>\n",
       "      <td>19.885849</td>\n",
       "    </tr>\n",
       "    <tr>\n",
       "      <th>825192</th>\n",
       "      <td>39633567696815733</td>\n",
       "      <td>0.284010</td>\n",
       "      <td>b'deep'</td>\n",
       "      <td>80694</td>\n",
       "      <td>5232.447023</td>\n",
       "      <td>3862.463150</td>\n",
       "      <td>7.097050</td>\n",
       "      <td>18.265144</td>\n",
       "      <td>0.224691</td>\n",
       "      <td>0</td>\n",
       "      <td>1.680830</td>\n",
       "      <td>b'00070967'</td>\n",
       "      <td>80694</td>\n",
       "      <td>336.326477</td>\n",
       "      <td>35.975824</td>\n",
       "      <td>0</td>\n",
       "      <td>1.087858</td>\n",
       "      <td>19.073841</td>\n",
       "      <td>19.885849</td>\n",
       "    </tr>\n",
       "    <tr>\n",
       "      <th>825197</th>\n",
       "      <td>39633567696815733</td>\n",
       "      <td>0.284010</td>\n",
       "      <td>b'deep'</td>\n",
       "      <td>80694</td>\n",
       "      <td>5232.447023</td>\n",
       "      <td>3862.463150</td>\n",
       "      <td>7.097050</td>\n",
       "      <td>18.265144</td>\n",
       "      <td>0.224691</td>\n",
       "      <td>0</td>\n",
       "      <td>1.673763</td>\n",
       "      <td>b'00072706'</td>\n",
       "      <td>80694</td>\n",
       "      <td>138.234909</td>\n",
       "      <td>16.406497</td>\n",
       "      <td>0</td>\n",
       "      <td>1.082354</td>\n",
       "      <td>19.073841</td>\n",
       "      <td>19.885849</td>\n",
       "    </tr>\n",
       "  </tbody>\n",
       "</table>\n",
       "<p>1078 rows × 19 columns</p>\n",
       "</div>"
      ],
      "text/plain": [
       "                 TARGETID    Z_deep subset_deep  TILEID_deep  DELTACHI2_deep  \\\n",
       "1866    39627222650196713  0.306351     b'deep'        80674     1779.480305   \n",
       "1867    39627222650196713  0.306351     b'deep'        80674     1779.480305   \n",
       "1868    39627222650196713  0.306351     b'deep'        80674     1779.480305   \n",
       "1869    39627222650196713  0.306351     b'deep'        80674     1779.480305   \n",
       "1873    39627222650196713  0.306351     b'deep'        80674     1779.480305   \n",
       "...                   ...       ...         ...          ...             ...   \n",
       "825183  39633567696815733  0.284010     b'deep'        80694     5232.447023   \n",
       "825187  39633567696815733  0.284010     b'deep'        80694     5232.447023   \n",
       "825191  39633567696815733  0.284010     b'deep'        80694     5232.447023   \n",
       "825192  39633567696815733  0.284010     b'deep'        80694     5232.447023   \n",
       "825197  39633567696815733  0.284010     b'deep'        80694     5232.447023   \n",
       "\n",
       "        EFFTIME_BRIGHT_deep  FIBERFLUX_R  FIBERFLUX_Z       EBV  ZWARN_deep  \\\n",
       "1866            2775.008194     8.058004    16.948225  0.027687           0   \n",
       "1867            2775.008194     8.058004    16.948225  0.027687           0   \n",
       "1868            2775.008194     8.058004    16.948225  0.027687           0   \n",
       "1869            2775.008194     8.058004    16.948225  0.027687           0   \n",
       "1873            2775.008194     8.058004    16.948225  0.027687           0   \n",
       "...                     ...          ...          ...       ...         ...   \n",
       "825183          3862.463150     7.097050    18.265144  0.224691           0   \n",
       "825187          3862.463150     7.097050    18.265144  0.224691           0   \n",
       "825191          3862.463150     7.097050    18.265144  0.224691           0   \n",
       "825192          3862.463150     7.097050    18.265144  0.224691           0   \n",
       "825197          3862.463150     7.097050    18.265144  0.224691           0   \n",
       "\n",
       "         Z_short subset_short  TILEID_short  EFFTIME_BRIGHT_short  \\\n",
       "1866    0.391501  b'20210109'         80674            807.210037   \n",
       "1867    0.982008  b'20210116'         80674            408.062119   \n",
       "1868    0.391826  b'20210105'         80674            374.864014   \n",
       "1869    0.391858  b'20210106'         80674            487.999817   \n",
       "1873    0.977279  b'00072684'         80674            124.459465   \n",
       "...          ...          ...           ...                   ...   \n",
       "825183  1.675282  b'00071480'         80694            164.184677   \n",
       "825187  1.687326  b'00072705'         80694            202.887772   \n",
       "825191  0.491402  b'00071478'         80694            273.753204   \n",
       "825192  1.680830  b'00070967'         80694            336.326477   \n",
       "825197  1.673763  b'00072706'         80694            138.234909   \n",
       "\n",
       "        DELTACHI2_short  ZWARN_short        dz  zfibermag  rfibermag  \n",
       "1866         120.497871            0  0.065181  19.393660  20.174490  \n",
       "1867          87.259342            0  0.517209  19.393660  20.174490  \n",
       "1868         117.655208            0  0.065430  19.393660  20.174490  \n",
       "1869          38.713246            0  0.065455  19.393660  20.174490  \n",
       "1873          46.557366            0  0.513589  19.393660  20.174490  \n",
       "...                 ...          ...       ...        ...        ...  \n",
       "825183        26.589900            0  1.083537  19.073841  19.885849  \n",
       "825187        30.545552            0  1.092917  19.073841  19.885849  \n",
       "825191       112.272536            0  0.161519  19.073841  19.885849  \n",
       "825192        35.975824            0  1.087858  19.073841  19.885849  \n",
       "825197        16.406497            0  1.082354  19.073841  19.885849  \n",
       "\n",
       "[1078 rows x 19 columns]"
      ]
     },
     "execution_count": 44,
     "metadata": {},
     "output_type": "execute_result"
    }
   ],
   "source": [
    "dz_not_good_catalog"
   ]
  },
  {
   "cell_type": "markdown",
   "metadata": {},
   "source": [
    "9. Another selection\n",
    "\n",
    "a. DELTACHI2_deep>15\n",
    "\n",
    "b. Z_deep>0.9\n",
    "\n",
    "c. rfibermag<20.3"
   ]
  },
  {
   "cell_type": "code",
   "execution_count": 45,
   "metadata": {},
   "outputs": [
    {
     "name": "stdout",
     "output_type": "stream",
     "text": [
      "162\n"
     ]
    }
   ],
   "source": [
    "new_catalog_BGS['rfibermag']=-2.5*np.log10(new_catalog_BGS['FIBERFLUX_R'])+22.5-2.165*new_catalog_BGS['EBV']\n",
    "high_z_strange_object = new_catalog_BGS[(new_catalog_BGS['DELTACHI2']>15) & (new_catalog_BGS['Z']>0.9) & (new_catalog_BGS['rfibermag']<20.3)]\n",
    "print(len(high_z_strange_object))"
   ]
  },
  {
   "cell_type": "markdown",
   "metadata": {},
   "source": [
    "10. Combining the two catalogs and producing a list with \n",
    "TILEID, TARGETID, ID_FOR_selection"
   ]
  },
  {
   "cell_type": "code",
   "execution_count": 46,
   "metadata": {},
   "outputs": [],
   "source": [
    "all_tileid = np.append(dz_not_good_catalog['TILEID_deep'].to_numpy(),high_z_strange_object['TILEID'].to_numpy())\n",
    "all_targetid = np.append(dz_not_good_catalog['TARGETID'].to_numpy(),high_z_strange_object['TARGETID'].to_numpy())\n",
    "all_VI_selection = np.append(np.arange(0,len(dz_not_good_catalog['TARGETID'].to_numpy()))*0.,\n",
    "                             np.arange(0,len(high_z_strange_object['TARGETID'].to_numpy()))*0.+1)"
   ]
  },
  {
   "cell_type": "markdown",
   "metadata": {},
   "source": [
    "11. Creating an unique target list with no repetition "
   ]
  },
  {
   "cell_type": "code",
   "execution_count": 47,
   "metadata": {},
   "outputs": [],
   "source": [
    "TILEID = []\n",
    "FINAL_TARGETID = []\n",
    "FINAL_selection = []\n",
    "unique_tileid = np.array(list(set(all_tileid)))\n",
    "Number_of_object_per_tile = {}\n",
    "for i_tile in range(0,len(unique_tileid)):\n",
    "    search = np.where(all_tileid==unique_tileid[i_tile])\n",
    "    tmp_targetid = all_targetid[search[0]]\n",
    "    \n",
    "    unique_targetid = np.array(list(set(tmp_targetid)))\n",
    "    Number_of_object_per_tile[unique_tileid[i_tile]]=len(unique_targetid)\n",
    "    for i_td in range(0,len(unique_targetid)):\n",
    "        TILEID.append(unique_tileid[i_tile])\n",
    "        FINAL_TARGETID.append(unique_targetid[i_td])\n",
    "        search_selection = np.where((all_tileid==unique_tileid[i_tile]) & (all_targetid==unique_targetid[i_td]))\n",
    "        FINAL_selection.append(int(all_VI_selection[search_selection[0][0]]))"
   ]
  },
  {
   "cell_type": "code",
   "execution_count": 48,
   "metadata": {},
   "outputs": [
    {
     "name": "stdout",
     "output_type": "stream",
     "text": [
      "727\n"
     ]
    },
    {
     "data": {
      "text/plain": [
       "{80641: 50,\n",
       " 80642: 41,\n",
       " 80643: 65,\n",
       " 80644: 10,\n",
       " 80645: 17,\n",
       " 80646: 36,\n",
       " 80647: 12,\n",
       " 80649: 14,\n",
       " 80650: 30,\n",
       " 80651: 8,\n",
       " 80653: 49,\n",
       " 80654: 71,\n",
       " 80655: 25,\n",
       " 80656: 17,\n",
       " 80660: 29,\n",
       " 80663: 5,\n",
       " 80664: 46,\n",
       " 80669: 1,\n",
       " 80670: 20,\n",
       " 80674: 3,\n",
       " 80675: 1,\n",
       " 80676: 1,\n",
       " 80678: 4,\n",
       " 80680: 2,\n",
       " 80682: 1,\n",
       " 80685: 1,\n",
       " 80688: 1,\n",
       " 80690: 6,\n",
       " 80692: 1,\n",
       " 80693: 1,\n",
       " 80694: 9,\n",
       " 80700: 3,\n",
       " 80701: 1,\n",
       " 80707: 3,\n",
       " 80711: 2,\n",
       " 80722: 1,\n",
       " 80605: 2,\n",
       " 80607: 1,\n",
       " 80609: 1,\n",
       " 80738: 1,\n",
       " 80611: 8,\n",
       " 80612: 3,\n",
       " 80613: 20,\n",
       " 80614: 2,\n",
       " 80616: 50,\n",
       " 80617: 6,\n",
       " 80618: 17,\n",
       " 80619: 7,\n",
       " 80620: 1,\n",
       " 80622: 2,\n",
       " 80624: 6,\n",
       " 80628: 4,\n",
       " 80629: 8,\n",
       " 80632: 1}"
      ]
     },
     "execution_count": 48,
     "metadata": {},
     "output_type": "execute_result"
    }
   ],
   "source": [
    "print(len(FINAL_selection))\n",
    "Number_of_object_per_tile"
   ]
  },
  {
   "cell_type": "code",
   "execution_count": 49,
   "metadata": {},
   "outputs": [],
   "source": [
    "d = {'TILEID':TILEID,'TARGETID':FINAL_TARGETID,'VI_selection':FINAL_selection}\n",
    "df = pd.DataFrame(data=d)"
   ]
  },
  {
   "cell_type": "code",
   "execution_count": 178,
   "metadata": {},
   "outputs": [],
   "source": [
    "df.to_csv('SV_cascades_BGS_VI_target_list.v05.csv',index=False)"
   ]
  },
  {
   "cell_type": "code",
   "execution_count": 179,
   "metadata": {},
   "outputs": [],
   "source": [
    "new_data = pd.read_csv('SV_cascades_BGS_VI_target_list.v05.csv')"
   ]
  },
  {
   "cell_type": "code",
   "execution_count": 180,
   "metadata": {},
   "outputs": [
    {
     "name": "stdout",
     "output_type": "stream",
     "text": [
      "TOTAL selected spectra for VI: 2318\n"
     ]
    }
   ],
   "source": [
    "print('TOTAL selected spectra for VI:',len(TILEID))"
   ]
  },
  {
   "cell_type": "code",
   "execution_count": null,
   "metadata": {},
   "outputs": [],
   "source": []
  }
 ],
 "metadata": {
  "kernelspec": {
   "display_name": "DESI master",
   "language": "python",
   "name": "desi-master"
  },
  "language_info": {
   "codemirror_mode": {
    "name": "ipython",
    "version": 3
   },
   "file_extension": ".py",
   "mimetype": "text/x-python",
   "name": "python",
   "nbconvert_exporter": "python",
   "pygments_lexer": "ipython3",
   "version": "3.8.3"
  }
 },
 "nbformat": 4,
 "nbformat_minor": 4
}
