{
 "cells": [
  {
   "cell_type": "code",
   "execution_count": 32,
   "metadata": {},
   "outputs": [],
   "source": [
    "def extract_cascades_info_subsample(vi,tiledir,tiles,nights,petals,subset_id):\n",
    "  dataname = tiledir+'/'+tiles[0] + '/zbest-'+str(petals[0])+'-'+str(tiles[0])+'-subset-'+str(subset_id)+'.fits'\n",
    "  \n",
    "  line_information = Table.read('/global/homes/r/raichoor/sv1/sv1-elg-cascades-allspec-vi.fits')\n",
    "  print(dataname)\n",
    "  line_info_qq = line_information[line_information['FN']==dataname]\n",
    "  print(len(line_info_qq))\n",
    "    #tf = Table.read(dataname,hdu='FIBERMAP')\n",
    "  tspec = Table.read(dataname,hdu='ZBEST')\n",
    "  for i in range(1,len(petals)):\n",
    "      #tfn = Table.read(tiledir+'/'+tiles[0] + '/deep/zbest-'+str(petals[i])+'-'+str(tiles[0])+'-deep.fits',hdu='FIBERMAP')\n",
    "      #tf = vstack([tf,tfn])\n",
    "      line_info_qq2 = line_information[line_information['FN']==tiledir+'/'+tiles[0] + '/zbest-'+str(petals[i])+'-'+str(tiles[0])+'-subset-'+str(subset_id)+'.fits']\n",
    "      tspecn = Table.read(tiledir+'/'+tiles[0] + '/zbest-'+str(petals[i])+'-'+str(tiles[0])+'-subset-'+str(subset_id)+'.fits',hdu='ZBEST')\n",
    "      tspec = vstack([tspec,tspecn])\n",
    "      line_info_qq = vstack([line_info_qq,line_info_qq2])\n",
    "      print(len(line_info_qq))\n",
    "  #EXPID = list(set(tf['EXPID']))[-1] \n",
    "  #'''This was 0 before but  '''\n",
    "  #tf = tf[tf['EXPID']==EXPID]\n",
    "  #tf_df = tf['TARGETID','TARGET_RA','TARGET_DEC','FIBER','FLUX_G','FLUX_R','FLUX_Z','FIBERFLUX_G','FIBERFLUX_R','FIBERFLUX_Z','EBV'].to_pandas()\n",
    "  #tf_df = tf.to_pandas()\n",
    "  tspec_df = tspec['TARGETID','DELTACHI2','Z','ZWARN','ZERR','CHI2','NPIXELS','SPECTYPE'].to_pandas()\n",
    "  line_info_qq_df = line_info_qq['TARGETID','DELTACHI2','FOII','FOII_ERR'].to_pandas()\n",
    "  vi = vi.merge(tspec_df, how='left', on='TARGETID',suffixes=('', '_cas'))\n",
    "  vi = vi.merge(line_info_qq_df,how='left',on='TARGETID',suffixes=('','_anand'))  \n",
    "  #print(len(vi.columns))\n",
    "  return vi"
   ]
  },
  {
   "cell_type": "code",
   "execution_count": 8,
   "metadata": {},
   "outputs": [],
   "source": [
    "def return_truth_table_name(type_name, tileid):\n",
    "    truth_table_filename = {'ELG':{'80608':'desi-vi_ELG_tile80608_nightdeep_merged_all_210208.csv','80606':'desi-vi_ELG_tile80606_nightdeep_merged_all_210218.csv'},\n",
    "                           'LRG':{'80605':'desi-vi_LRG_tile80605_nightdeep_merged_all_210224.csv','80609':'desi-vi_LRG_tile80609_nightdeep_merged_all_21030.csv'},\n",
    "                           'BGS':{'80613':'desi-vi_BGS_tile80613_nightdeep_merged_all_210202.csv'},\n",
    "                           'QSO':{'80605':'desi-vi_QSO_tile80605_nightdeep_merged_all_210223_ADDING_object_info.csv','80607':'desi-vi_QSO_tile80607_nightdeep_merged_all_210214_ADDING_object_info.csv',\n",
    "                                 '80609':'desi-vi_QSO_tile80609_nightdeep_merged_all_210210_ADDING_object_info.csv'}}\n",
    "    VI_dir ='/global/cfs/cdirs/desi/sv/vi/TruthTables/Blanc/'+type_name+'/'\n",
    "    return VI_dir+truth_table_filename[type_name][tileid]"
   ]
  },
  {
   "cell_type": "code",
   "execution_count": 9,
   "metadata": {},
   "outputs": [],
   "source": [
    "def return_blanc_and_cascades_info(type_name,tileid,tiledir,subset_id):\n",
    "    \n",
    "    #tiledir   = '/global/cfs/cdirs/desi/spectro/redux/cascades/tiles/'\n",
    "    file_name = return_truth_table_name(type_name,tileid)\n",
    "    vi_old = pd.read_csv(file_name, delimiter = \",\", engine='python', keep_default_na=False)\n",
    "    #print(len(vi_old))\n",
    "    nights = ['20201223']\n",
    "    petals = ['0','1','2','3','4', '5', '6' ,'7', '8', '9']\n",
    "    \n",
    "    vi = extract_cascades_info_subsample(vi_old,tiledir,[tileid],nights,petals,subset_id)  \n",
    "    \n",
    "    vi['delta_delta']=vi['DELTACHI2']-vi['DELTACHI2_cas']\n",
    "    vi['dz']=abs(vi['Redrock_z']-vi['best_z'])/(1.+vi['best_z'])\n",
    "    vi['dz_cas']=abs(vi['Z']-vi['best_z'])/(1.+vi['best_z'])\n",
    "    vi['subset_id']=subset_id\n",
    "    return vi    "
   ]
  },
  {
   "cell_type": "code",
   "execution_count": 10,
   "metadata": {},
   "outputs": [],
   "source": [
    "import pandas as pd\n",
    "import os, sys, glob\n",
    "import fnmatch\n",
    "import matplotlib.pyplot as plt\n",
    "import re\n",
    "import numpy as np\n",
    "from astropy.table import Table, join, vstack\n",
    "import astropy.io.fits as pf\n",
    "import pandas as pd\n",
    "plt.rcParams['figure.figsize'] = [12, 8]"
   ]
  },
  {
   "cell_type": "code",
   "execution_count": 40,
   "metadata": {},
   "outputs": [
    {
     "name": "stdout",
     "output_type": "stream",
     "text": [
      "/global/cfs/cdirs/desi/users/rongpu/redux/cascades/3x_depth/80606/zbest-0-80606-subset-1.fits\n",
      "412\n",
      "821\n",
      "1226\n",
      "1624\n",
      "2025\n",
      "2431\n",
      "2830\n",
      "3237\n",
      "3647\n",
      "4060\n",
      "/global/cfs/cdirs/desi/users/rongpu/redux/cascades/3x_depth/80606/zbest-0-80606-subset-2.fits\n",
      "412\n",
      "821\n",
      "1226\n",
      "1624\n",
      "2025\n",
      "2431\n",
      "2830\n",
      "3237\n",
      "3647\n",
      "4060\n",
      "/global/cfs/cdirs/desi/users/rongpu/redux/cascades/4x_depth/80608/zbest-0-80608-subset-1.fits\n",
      "403\n",
      "801\n",
      "1210\n",
      "1616\n",
      "2022\n",
      "2436\n",
      "2839\n",
      "3247\n",
      "3662\n",
      "4070\n",
      "/global/cfs/cdirs/desi/users/rongpu/redux/cascades/4x_depth/80608/zbest-0-80608-subset-2.fits\n",
      "403\n",
      "801\n",
      "1210\n",
      "1616\n",
      "2022\n",
      "2436\n",
      "2839\n",
      "3247\n",
      "3662\n",
      "4070\n"
     ]
    }
   ],
   "source": [
    "type_name_list = ['ELG','ELG','LRG','LRG','BGS','QSO','QSO','QSO']\n",
    "tileid_list = ['80606','80608','80605','80609','80613','80605','80607','80609']\n",
    "type_name_list = ['ELG','ELG']\n",
    "tileid_list = ['80606','80608']\n",
    "for i in range(0,len(type_name_list)):\n",
    "    if (tileid_list[i]=='80606') | (tileid_list[i]=='80605'):\n",
    "        dir_depth = '/global/cfs/cdirs/desi/users/rongpu/redux/cascades/3x_depth'\n",
    "    else:\n",
    "        dir_depth = '/global/cfs/cdirs/desi/users/rongpu/redux/cascades/4x_depth'\n",
    "    data1 = return_blanc_and_cascades_info(type_name_list[i],tileid_list[i],dir_depth,'1')\n",
    "    data2 = return_blanc_and_cascades_info(type_name_list[i],tileid_list[i],dir_depth,'2')\n",
    "    #sub_catalog = line_information[line_information['FN']==]\n",
    "    #data3 = return_blanc_and_cascades_info(type_name_list[i],tileid_list[i],dir_depth,'3')\n",
    "    #data4 = return_blanc_and_cascades_info(type_name_list[i],tileid_list[i],dir_depth,'4')\n",
    "\n",
    "    total_data = data1.append(data2)\n",
    "    #total_data = total_data.append(data3)\n",
    "    #total_data = total_data.append(data4)\n",
    "    total_data.to_csv(type_name_list[i]+'_'+tileid_list[i]+'_Cascades_subsamples_OII.csv',index=False)\n",
    "    \n",
    "    #total_merge = data1.merge(data2, how='left', on='TARGETID',suffixes=('_1', '_2'))"
   ]
  },
  {
   "cell_type": "code",
   "execution_count": 39,
   "metadata": {},
   "outputs": [
    {
     "data": {
      "text/plain": [
       "(0.0, 10000.0)"
      ]
     },
     "execution_count": 39,
     "metadata": {},
     "output_type": "execute_result"
    },
    {
     "data": {
      "image/png": "[encoded data removed]",
      "text/plain": [
       "<Figure size 864x576 with 1 Axes>"
      ]
     },
     "metadata": {
      "needs_background": "light"
     },
     "output_type": "display_data"
    }
   ],
   "source": [
    "plt.scatter(total_data['DELTACHI2_cas'],total_data['DELTACHI2_anand'])\n",
    "#plt.xlim(0,10000)\n",
    "#plt.ylim(0,10000)"
   ]
  },
  {
   "cell_type": "code",
   "execution_count": 38,
   "metadata": {},
   "outputs": [],
   "source": [
    "line_information = Table.read('/global/homes/r/raichoor/sv1/sv1-elg-cascades-allspec-vi.fits')"
   ]
  },
  {
   "cell_type": "code",
   "execution_count": 17,
   "metadata": {},
   "outputs": [
    {
     "ename": "SyntaxError",
     "evalue": "unexpected EOF while parsing (<ipython-input-17-1d28e3aee054>, line 1)",
     "output_type": "error",
     "traceback": [
      "\u001b[0;36m  File \u001b[0;32m\"<ipython-input-17-1d28e3aee054>\"\u001b[0;36m, line \u001b[0;32m1\u001b[0m\n\u001b[0;31m    line_information[line_information['FN']=='/global/cfs/cdirs/desi/users/rongpu/redux/cascades/3x_depth/80605/zbest-0-80605-subset-1.fits'\u001b[0m\n\u001b[0m                                                                                                                                            ^\u001b[0m\n\u001b[0;31mSyntaxError\u001b[0m\u001b[0;31m:\u001b[0m unexpected EOF while parsing\n"
     ]
    }
   ],
   "source": [
    "line_information[line_information['FN']=='/global/cfs/cdirs/desi/users/rongpu/redux/cascades/3x_depth/80605/zbest-0-80605-subset-1.fits'"
   ]
  },
  {
   "cell_type": "code",
   "execution_count": 21,
   "metadata": {},
   "outputs": [
    {
     "data": {
      "text/plain": [
       "<TableColumns names=('TARGETID','CHI2','Z','ZERR','ZWARN','NPIXELS','SPECTYPE','SUBTYPE','NCOEFF','DELTACHI2','PETAL_LOC','DEVICE_LOC','LOCATION','FIBER','FIBERSTATUS','TARGET_RA','TARGET_DEC','LAMBDA_REF','FA_TARGET','FA_TYPE','OBJTYPE','FIBERASSIGN_X','FIBERASSIGN_Y','PRIORITY','SUBPRIORITY','OBSCONDITIONS','MORPHTYPE','FLUX_G','FLUX_R','FLUX_Z','FLUX_IVAR_G','FLUX_IVAR_R','FLUX_IVAR_Z','EBV','FLUX_W1','FLUX_W2','FIBERFLUX_G','FIBERFLUX_R','FIBERFLUX_Z','FIBERTOTFLUX_G','FIBERTOTFLUX_R','FIBERTOTFLUX_Z','MASKBITS','SERSIC','SHAPE_R','SHAPE_E1','SHAPE_E2','PHOTSYS','SV1_DESI_TARGET','SV1_BGS_TARGET','SV1_MWS_TARGET','PRIORITY_INIT','NUMOBS_INIT','RELEASE','BRICKNAME','BRICK_OBJID','DESI_TARGET','BGS_TARGET','MWS_TARGET','FIBER_X','FIBER_Y','FIBER_RA','FIBER_DEC','TILEID','FN','HASCOADD','WEIGHT','FOII','FOII_ERR','TARGETS','NEXP','EXPIDS','NIGHTS','EXPTIME','B_DEPTH','R_DEPTH','Z_DEPTH','B_DEPTH_EBVAIR','R_DEPTH_EBVAIR','Z_DEPTH_EBVAIR','GTOT','GFIB','GR','RZ','BLUE','RED','FDRBOX','LOWZ','vi_best_z','vi_best_quality','vi_best_spectype','vi_hasvi','vi_zok')>"
      ]
     },
     "execution_count": 21,
     "metadata": {},
     "output_type": "execute_result"
    }
   ],
   "source": [
    "line_information.columns"
   ]
  },
  {
   "cell_type": "code",
   "execution_count": null,
   "metadata": {},
   "outputs": [],
   "source": []
  }
 ],
 "metadata": {
  "kernelspec": {
   "display_name": "DESI master",
   "language": "python",
   "name": "desi-master"
  },
  "language_info": {
   "codemirror_mode": {
    "name": "ipython",
    "version": 3
   },
   "file_extension": ".py",
   "mimetype": "text/x-python",
   "name": "python",
   "nbconvert_exporter": "python",
   "pygments_lexer": "ipython3",
   "version": "3.8.3"
  }
 },
 "nbformat": 4,
 "nbformat_minor": 4
}
