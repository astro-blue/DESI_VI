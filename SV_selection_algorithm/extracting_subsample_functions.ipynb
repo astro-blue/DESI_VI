{
 "cells": [
  {
   "cell_type": "code",
   "execution_count": 40,
   "metadata": {},
   "outputs": [],
   "source": [
    "def extract_cascades_info_subsample(vi,tiledir,tiles,nights,petals,subset_id):\n",
    "  dataname = tiledir+'/'+tiles[0] + '/zbest-'+str(petals[0])+'-'+str(tiles[0])+'-subset-'+str(subset_id)+'.fits'\n",
    "  #tf = Table.read(dataname,hdu='FIBERMAP')\n",
    "  tspec = Table.read(dataname,hdu='ZBEST')\n",
    "  for i in range(1,len(petals)):\n",
    "      #tfn = Table.read(tiledir+'/'+tiles[0] + '/deep/zbest-'+str(petals[i])+'-'+str(tiles[0])+'-deep.fits',hdu='FIBERMAP')\n",
    "      #tf = vstack([tf,tfn])\n",
    "      tspecn = Table.read(tiledir+'/'+tiles[0] + '/zbest-'+str(petals[i])+'-'+str(tiles[0])+'-subset-'+str(subset_id)+'.fits',hdu='ZBEST')\n",
    "      tspec = vstack([tspec,tspecn])\n",
    "            \n",
    "  #EXPID = list(set(tf['EXPID']))[-1] \n",
    "  #'''This was 0 before but  '''\n",
    "  #tf = tf[tf['EXPID']==EXPID]\n",
    "  #tf_df = tf['TARGETID','TARGET_RA','TARGET_DEC','FIBER','FLUX_G','FLUX_R','FLUX_Z','FIBERFLUX_G','FIBERFLUX_R','FIBERFLUX_Z','EBV'].to_pandas()\n",
    "  #tf_df = tf.to_pandas()\n",
    "  tspec_df = tspec['TARGETID','DELTACHI2','Z','ZWARN','ZERR','CHI2','NPIXELS','SPECTYPE'].to_pandas()\n",
    "  vi = vi.merge(tspec_df, how='left', on='TARGETID',suffixes=('', '_cas'))\n",
    "  #print(len(vi.columns))\n",
    "  return vi"
   ]
  },
  {
   "cell_type": "code",
   "execution_count": 41,
   "metadata": {},
   "outputs": [],
   "source": [
    "def return_truth_table_name(type_name, tileid):\n",
    "    truth_table_filename = {'ELG':{'80608':'desi-vi_ELG_tile80608_nightdeep_merged_all_210208.csv','80606':'desi-vi_ELG_tile80606_nightdeep_merged_all_210218.csv'},\n",
    "                           'LRG':{'80605':'desi-vi_LRG_tile80605_nightdeep_merged_all_210224.csv','80609':'desi-vi_LRG_tile80609_nightdeep_merged_all_21030.csv'},\n",
    "                           'BGS':{'80613':'desi-vi_BGS_tile80613_nightdeep_merged_all_210202.csv'},\n",
    "                           'QSO':{'80605':'desi-vi_QSO_tile80605_nightdeep_merged_all_210223_ADDING_object_info.csv','80607':'desi-vi_QSO_tile80607_nightdeep_merged_all_210214_ADDING_object_info.csv',\n",
    "                                 '80609':'desi-vi_QSO_tile80609_nightdeep_merged_all_210210_ADDING_object_info.csv'}}\n",
    "    VI_dir ='/global/cfs/cdirs/desi/sv/vi/TruthTables/Blanc/'+type_name+'/'\n",
    "    return VI_dir+truth_table_filename[type_name][tileid]"
   ]
  },
  {
   "cell_type": "code",
   "execution_count": 42,
   "metadata": {},
   "outputs": [],
   "source": [
    "def return_blanc_and_cascades_info(type_name,tileid,tiledir,subset_id):\n",
    "    \n",
    "    #tiledir   = '/global/cfs/cdirs/desi/spectro/redux/cascades/tiles/'\n",
    "    file_name = return_truth_table_name(type_name,tileid)\n",
    "    vi_old = pd.read_csv(file_name, delimiter = \",\", engine='python', keep_default_na=False)\n",
    "    #print(len(vi_old))\n",
    "    nights = ['20201223']\n",
    "    petals = ['0','1','2','3','4', '5', '6' ,'7', '8', '9']\n",
    "    \n",
    "    vi = extract_cascades_info_subsample(vi_old,tiledir,[tileid],nights,petals,subset_id)  \n",
    "    \n",
    "    vi['delta_delta']=vi['DELTACHI2']-vi['DELTACHI2_cas']\n",
    "    vi['dz']=abs(vi['Redrock_z']-vi['best_z'])/(1.+vi['best_z'])\n",
    "    vi['dz_cas']=abs(vi['Z']-vi['best_z'])/(1.+vi['best_z'])\n",
    "    vi['subset_id']=subset_id\n",
    "    return vi    "
   ]
  },
  {
   "cell_type": "code",
   "execution_count": 43,
   "metadata": {},
   "outputs": [],
   "source": [
    "import pandas as pd\n",
    "import os, sys, glob\n",
    "import fnmatch\n",
    "import matplotlib.pyplot as plt\n",
    "import re\n",
    "import numpy as np\n",
    "from astropy.table import Table, join, vstack\n",
    "import astropy.io.fits as pf\n",
    "import pandas as pd\n",
    "plt.rcParams['figure.figsize'] = [12, 8]"
   ]
  },
  {
   "cell_type": "code",
   "execution_count": 50,
   "metadata": {},
   "outputs": [],
   "source": [
    "type_name_list = ['ELG','ELG','LRG','LRG','BGS','QSO','QSO','QSO']\n",
    "tileid_list = ['80606','80608','80605','80609','80613','80605','80607','80609']\n",
    "for i in range(0,len(type_name_list)):\n",
    "    if (tileid_list[i]=='80606') | (tileid_list[i]=='80605'):\n",
    "        dir_depth = '/global/cfs/cdirs/desi/users/rongpu/redux/cascades/3x_depth/'\n",
    "    else:\n",
    "        dir_depth = '/global/cfs/cdirs/desi/users/rongpu/redux/cascades/4x_depth/'\n",
    "    data1 = return_blanc_and_cascades_info(type_name_list[i],tileid_list[i],dir_depth,'1')\n",
    "    data2 = return_blanc_and_cascades_info(type_name_list[i],tileid_list[i],dir_depth,'2')\n",
    "\n",
    "    total_data = data1.append(data2)\n",
    "    total_data.to_csv(type_name_list[i]+'_'+tileid_list[i]+'_Cascades_subsamples.csv',index=False)\n",
    "    \n",
    "    #total_merge = data1.merge(data2, how='left', on='TARGETID',suffixes=('_1', '_2'))"
   ]
  }
 ],
 "metadata": {
  "kernelspec": {
   "display_name": "DESI master",
   "language": "python",
   "name": "desi-master"
  },
  "language_info": {
   "codemirror_mode": {
    "name": "ipython",
    "version": 3
   },
   "file_extension": ".py",
   "mimetype": "text/x-python",
   "name": "python",
   "nbconvert_exporter": "python",
   "pygments_lexer": "ipython3",
   "version": "3.8.3"
  }
 },
 "nbformat": 4,
 "nbformat_minor": 4
}
