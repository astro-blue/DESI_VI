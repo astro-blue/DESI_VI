{
 "cells": [
  {
   "cell_type": "markdown",
   "metadata": {},
   "source": [
    "## Targetselect for VI\n",
    "Make list of targetids from a set of masks/cuts, to be used in VI.\n",
    "\n",
    "E. Armengaud - first created 12/03/2021"
   ]
  },
  {
   "cell_type": "code",
   "execution_count": 1,
   "metadata": {},
   "outputs": [
    {
     "name": "stdout",
     "output_type": "stream",
     "text": [
      "Populating the interactive namespace from numpy and matplotlib\n"
     ]
    }
   ],
   "source": [
    "%pylab inline\n",
    "import os\n",
    "from astropy.table import Table\n",
    "\n",
    "import desispec.io\n",
    "import desispec.spectra\n",
    "from desitarget.targetmask import desi_mask, bgs_mask, mws_mask, scnd_mask\n",
    "from desitarget.cmx.cmx_targetmask import cmx_mask\n",
    "from desitarget.sv1.sv1_targetmask import desi_mask as sv1_desi_mask\n",
    "from desitarget.sv1.sv1_targetmask import bgs_mask as sv1_bgs_mask\n",
    "from desitarget.sv1.sv1_targetmask import mws_mask as sv1_mws_mask\n",
    "from desitarget.sv1.sv1_targetmask import scnd_mask as sv1_scnd_mask\n",
    "supported_desitarget_masks = {\n",
    "    'DESI_TARGET': desi_mask,\n",
    "    'BGS_TARGET': bgs_mask,\n",
    "    'MWS_TARGET': mws_mask,\n",
    "    'SECONDARY_TARGET': scnd_mask,\n",
    "    'CMX_TARGET': cmx_mask,\n",
    "    'SV1_DESI_TARGET': sv1_desi_mask,\n",
    "    'SV1_BGS_TARGET': sv1_bgs_mask,\n",
    "    'SV1_MWS_TARGET': sv1_mws_mask,\n",
    "    'SV1_SECONDARY_TARGET': sv1_scnd_mask,\n",
    "    }"
   ]
  },
  {
   "cell_type": "code",
   "execution_count": 2,
   "metadata": {},
   "outputs": [],
   "source": [
    "def _mask_range(array, selection_range):\n",
    "    # handles selection range [a,b] or ['-',b] or [a,'-']\n",
    "    if selection_range[0]=='-':\n",
    "        m1 = ( array <= selection_range[1] )\n",
    "    elif selection_range[1]=='-':\n",
    "        m1 = ( array >= selection_range[0] )\n",
    "    else:\n",
    "        m1 = ( (array >= selection_range[0]) & (array <= selection_range[1]) )\n",
    "    return m1\n",
    "\n",
    "def select_targets(tileid, night, selection_criteria, targetmask_type='DESI_TARGET', with_meta=False):\n",
    "    # EA - 03/2021. Small script to select a list of targetids from a selection in a given tile.\n",
    "    tids_selected = []\n",
    "    if with_meta: \n",
    "        meta = {'Z':[], 'DELTACHI2':[], 'ZWARN':[], 'mag_G':[], 'mag_R':[], 'mag_Z':[]}\n",
    "    targetmask_used = supported_desitarget_masks[targetmask_type]\n",
    "    tiledir = os.path.join(os.environ['DESI_SPECTRO_REDUX'],'cascades','tiles',tileid,night)\n",
    "    petals = [str(i) for i in range(10)]\n",
    "\n",
    "    for petal_num in petals:\n",
    "        fname = os.path.join(tiledir, \"coadd-\"+petal_num+\"-\"+tileid+\"-\"+night+\".fits\")\n",
    "        if not os.path.isfile(fname): continue\n",
    "        spectra = desispec.io.read_spectra(fname)\n",
    "        fname = fname.replace(\"coadd\", \"zbest\")\n",
    "        ztable = Table.read(fname, 'ZBEST')\n",
    "        assert( np.all(ztable['TARGETID'] == spectra.fibermap['TARGETID']) )\n",
    "        mask_sel = np.ones(len(spectra.fibermap), dtype=bool)\n",
    "        # Targeting\n",
    "        if 'targetmask' in selection_criteria.keys():\n",
    "            m1 = ((spectra.fibermap[selection_criteria['targetmask_type']] & \n",
    "                   targetmask_used[selection_criteria['targetmask']])>0)\n",
    "            mask_sel =  (m1 & mask_sel)\n",
    "        # ZWARN\n",
    "        if 'zwarn_value' in selection_criteria.keys():\n",
    "            m1 = ( ztable['ZWARN'] == selection_criteria['zwarn_value'] )\n",
    "            mask_sel =  (m1 & mask_sel)\n",
    "        # DELTACHI2\n",
    "        if 'deltachi2_range' in selection_criteria.keys():\n",
    "            m1 = _mask_range(ztable['DELTACHI2'], selection_criteria['deltachi2_range'])\n",
    "            mask_sel =  (m1 & mask_sel)\n",
    "        # Z\n",
    "        if 'z_range' in selection_criteria.keys():\n",
    "            m1 = _mask_range(ztable['Z'], selection_criteria['z_range'])\n",
    "            mask_sel =  (m1 & mask_sel)\n",
    "        # Magnitudes\n",
    "        for bandname in ['G', 'R', 'Z']:\n",
    "            mag = np.zeros(len(spectra.fibermap))\n",
    "            flux = spectra.fibermap['FLUX_'+bandname]\n",
    "            extinction = np.ones(len(flux))\n",
    "            if ('MW_TRANSMISSION_'+bandname) in spectra.fibermap.keys() :\n",
    "                extinction = spectra.fibermap['MW_TRANSMISSION_'+bandname]\n",
    "            w, = np.where( (flux>0) & (extinction>0) )\n",
    "            mag[w] = -2.5*np.log10(flux[w]/extinction[w])+22.5\n",
    "            vars()['mag_'+bandname] = mag\n",
    "            if 'mag_'+bandname+'_range' in selection_criteria.keys():\n",
    "                m1 = _mask_range(mag, selection_criteria['mag_'+bandname+'_range'])\n",
    "                mask_sel =  (m1 & mask_sel)\n",
    "        # Full selection except random\n",
    "        wall, = np.where( mask_sel )\n",
    "        tids_selected.extend(list(spectra.fibermap['TARGETID'][wall]))\n",
    "        if with_meta:\n",
    "            for key in ['Z', 'ZWARN', 'DELTACHI2']:\n",
    "                meta[key].extend(list(ztable[key][wall]))\n",
    "            for bandname in ['G', 'R', 'Z']:\n",
    "                meta['mag_'+bandname].extend(list(vars()['mag_'+bandname][wall]))\n",
    "    bb = ' (before rndm cut)' if 'random_number' in selection_criteria.keys() else ''\n",
    "    print(\"Total targets filtered\" + bb + \":\",len(tids_selected))\n",
    "    \n",
    "    # Random cut\n",
    "    if 'random_number' in selection_criteria.keys():\n",
    "        if 'random_seed' in selection_criteria.keys():\n",
    "            np.random.seed(selection_criteria['random_seed'])\n",
    "        shuffled_tids = np.random.permutation(tids_selected)\n",
    "        tids_meta = np.copy(tids_selected)\n",
    "        tids_selected = shuffled_tids[0:selection_criteria['random_number']]\n",
    "        if with_meta:\n",
    "            new_meta = {'Z':[], 'DELTACHI2':[], 'ZWARN':[], 'mag_G':[], 'mag_R':[], 'mag_Z':[]}\n",
    "            for tid in tids_selected:\n",
    "                w, = np.where( (tids_meta==tid) )\n",
    "                assert(len(w)==1)\n",
    "                for key in new_meta.keys():\n",
    "                    new_meta[key].append(meta[key][w[0]])\n",
    "            meta = new_meta\n",
    "    \n",
    "    if not with_meta:\n",
    "        return np.asarray(tids_selected, dtype=np.int64)\n",
    "    else:\n",
    "        return (np.asarray(tids_selected, dtype=np.int64), meta)\n",
    "    "
   ]
  },
  {
   "cell_type": "markdown",
   "metadata": {},
   "source": [
    "#### TILE 80646, BGS \n"
   ]
  },
  {
   "cell_type": "code",
   "execution_count": 3,
   "metadata": {},
   "outputs": [
    {
     "name": "stdout",
     "output_type": "stream",
     "text": [
      "INFO:spectra.py:253:read_spectra: iotime 0.570 sec to read coadd-0-80646-deep.fits at 2021-03-15T04:11:22.548687\n",
      "INFO:spectra.py:253:read_spectra: iotime 0.538 sec to read coadd-1-80646-deep.fits at 2021-03-15T04:11:23.656154\n",
      "INFO:spectra.py:253:read_spectra: iotime 0.487 sec to read coadd-2-80646-deep.fits at 2021-03-15T04:11:24.591178\n",
      "INFO:spectra.py:253:read_spectra: iotime 0.473 sec to read coadd-4-80646-deep.fits at 2021-03-15T04:11:25.490912\n",
      "INFO:spectra.py:253:read_spectra: iotime 0.597 sec to read coadd-5-80646-deep.fits at 2021-03-15T04:11:26.591052\n",
      "INFO:spectra.py:253:read_spectra: iotime 0.508 sec to read coadd-6-80646-deep.fits at 2021-03-15T04:11:27.545973\n",
      "INFO:spectra.py:253:read_spectra: iotime 0.456 sec to read coadd-7-80646-deep.fits at 2021-03-15T04:11:28.460421\n",
      "INFO:spectra.py:253:read_spectra: iotime 0.475 sec to read coadd-8-80646-deep.fits at 2021-03-15T04:11:29.421901\n",
      "INFO:spectra.py:253:read_spectra: iotime 0.480 sec to read coadd-9-80646-deep.fits at 2021-03-15T04:11:30.372973\n",
      "Total targets filtered: 20\n",
      "INFO:spectra.py:253:read_spectra: iotime 0.479 sec to read coadd-0-80646-deep.fits at 2021-03-15T04:11:31.398889\n",
      "INFO:spectra.py:253:read_spectra: iotime 0.467 sec to read coadd-1-80646-deep.fits at 2021-03-15T04:11:32.259973\n",
      "INFO:spectra.py:253:read_spectra: iotime 0.432 sec to read coadd-2-80646-deep.fits at 2021-03-15T04:11:33.150518\n",
      "INFO:spectra.py:253:read_spectra: iotime 0.481 sec to read coadd-4-80646-deep.fits at 2021-03-15T04:11:34.069442\n",
      "INFO:spectra.py:253:read_spectra: iotime 0.490 sec to read coadd-5-80646-deep.fits at 2021-03-15T04:11:35.153666\n",
      "INFO:spectra.py:253:read_spectra: iotime 0.419 sec to read coadd-6-80646-deep.fits at 2021-03-15T04:11:35.989016\n",
      "INFO:spectra.py:253:read_spectra: iotime 0.428 sec to read coadd-7-80646-deep.fits at 2021-03-15T04:11:36.842215\n",
      "INFO:spectra.py:253:read_spectra: iotime 0.471 sec to read coadd-8-80646-deep.fits at 2021-03-15T04:11:37.765749\n",
      "INFO:spectra.py:253:read_spectra: iotime 0.417 sec to read coadd-9-80646-deep.fits at 2021-03-15T04:11:38.590671\n",
      "Total targets filtered (before rndm cut): 2442\n"
     ]
    }
   ],
   "source": [
    "tileid = '80646'\n",
    "night = 'deep'\n",
    "\n",
    "selection_criteria_a = dict(    \n",
    "    targetmask = 'BGS_ANY',\n",
    "    targetmask_type = 'SV1_DESI_TARGET',\n",
    "    zwarn_value = 0,\n",
    "    deltachi2_range = [15, 80],\n",
    "    z_range = ['-', 0.9],\n",
    "    )\n",
    "tids_selected_cut_a, meta_cut_a = select_targets(tileid, night, selection_criteria_a, with_meta=True)\n",
    "np.savetxt(os.environ['HOME']+\"/VI_pages/cascades/tids_\"+tileid+\"_BGS_cut_a.txt\",tids_selected_cut_a,fmt='%.i')\n",
    "\n",
    "selection_criteria_b = dict(    \n",
    "    targetmask = 'BGS_ANY',\n",
    "    targetmask_type = 'SV1_DESI_TARGET',\n",
    "    zwarn_value = 0,\n",
    "    deltachi2_range = [80, '-'],\n",
    "    z_range = ['-', 0.9],\n",
    "    random_number = 100,\n",
    "    random_seed = 8064,\n",
    "    )\n",
    "tids_selected_cut_b, meta_cut_b = select_targets(tileid, night, selection_criteria_b, with_meta=True)\n",
    "np.savetxt(os.environ['HOME']+\"/VI_pages/cascades/tids_\"+tileid+\"_BGS_cut_b.txt\",tids_selected_cut_b,fmt='%.i')"
   ]
  },
  {
   "cell_type": "code",
   "execution_count": 4,
   "metadata": {},
   "outputs": [
    {
     "data": {
      "image/png": "[encoded data removed]",
      "text/plain": [
       "<Figure size 720x432 with 1 Axes>"
      ]
     },
     "metadata": {
      "needs_background": "light"
     },
     "output_type": "display_data"
    }
   ],
   "source": [
    "plt.rcParams[\"figure.figsize\"]=10,6\n",
    "plt.scatter(meta_cut_a['Z'], meta_cut_a['DELTACHI2'], c='r')\n",
    "plt.scatter(meta_cut_b['Z'], meta_cut_b['DELTACHI2'], c='b')\n",
    "plt.yscale('log')\n",
    "plt.xlabel('Z')\n",
    "plt.title('VI targets: '+tileid+' - BGS')\n",
    "p = plt.ylabel('DELTACHI2')"
   ]
  },
  {
   "cell_type": "markdown",
   "metadata": {},
   "source": [
    "#### TILES 80686 and 80674, LRG"
   ]
  },
  {
   "cell_type": "code",
   "execution_count": 5,
   "metadata": {},
   "outputs": [
    {
     "name": "stdout",
     "output_type": "stream",
     "text": [
      "INFO:spectra.py:253:read_spectra: iotime 0.622 sec to read coadd-0-80686-deep.fits at 2021-03-15T04:12:25.102080\n",
      "INFO:spectra.py:253:read_spectra: iotime 0.523 sec to read coadd-1-80686-deep.fits at 2021-03-15T04:12:26.031359\n",
      "INFO:spectra.py:253:read_spectra: iotime 0.464 sec to read coadd-2-80686-deep.fits at 2021-03-15T04:12:26.940150\n",
      "INFO:spectra.py:253:read_spectra: iotime 0.552 sec to read coadd-4-80686-deep.fits at 2021-03-15T04:12:27.955614\n",
      "INFO:spectra.py:253:read_spectra: iotime 0.514 sec to read coadd-5-80686-deep.fits at 2021-03-15T04:12:28.930673\n",
      "INFO:spectra.py:253:read_spectra: iotime 0.495 sec to read coadd-6-80686-deep.fits at 2021-03-15T04:12:29.870949\n",
      "INFO:spectra.py:253:read_spectra: iotime 0.462 sec to read coadd-7-80686-deep.fits at 2021-03-15T04:12:30.769725\n",
      "INFO:spectra.py:253:read_spectra: iotime 0.506 sec to read coadd-8-80686-deep.fits at 2021-03-15T04:12:31.718247\n",
      "INFO:spectra.py:253:read_spectra: iotime 0.557 sec to read coadd-9-80686-deep.fits at 2021-03-15T04:12:32.703168\n",
      "Total targets filtered: 50\n",
      "INFO:spectra.py:253:read_spectra: iotime 0.394 sec to read coadd-0-80686-deep.fits at 2021-03-15T04:12:33.650873\n",
      "INFO:spectra.py:253:read_spectra: iotime 0.446 sec to read coadd-1-80686-deep.fits at 2021-03-15T04:12:34.450865\n",
      "INFO:spectra.py:253:read_spectra: iotime 0.430 sec to read coadd-2-80686-deep.fits at 2021-03-15T04:12:35.282399\n",
      "INFO:spectra.py:253:read_spectra: iotime 0.477 sec to read coadd-4-80686-deep.fits at 2021-03-15T04:12:36.149217\n",
      "INFO:spectra.py:253:read_spectra: iotime 0.386 sec to read coadd-5-80686-deep.fits at 2021-03-15T04:12:36.952110\n",
      "INFO:spectra.py:253:read_spectra: iotime 0.448 sec to read coadd-6-80686-deep.fits at 2021-03-15T04:12:37.846177\n",
      "INFO:spectra.py:253:read_spectra: iotime 0.370 sec to read coadd-7-80686-deep.fits at 2021-03-15T04:12:38.663219\n",
      "INFO:spectra.py:253:read_spectra: iotime 0.474 sec to read coadd-8-80686-deep.fits at 2021-03-15T04:12:39.603955\n",
      "INFO:spectra.py:253:read_spectra: iotime 0.406 sec to read coadd-9-80686-deep.fits at 2021-03-15T04:12:40.501225\n",
      "Total targets filtered (before rndm cut): 1441\n",
      "INFO:spectra.py:253:read_spectra: iotime 0.410 sec to read coadd-0-80674-deep.fits at 2021-03-15T04:12:41.401360\n",
      "INFO:spectra.py:253:read_spectra: iotime 0.511 sec to read coadd-1-80674-deep.fits at 2021-03-15T04:12:42.301483\n",
      "INFO:spectra.py:253:read_spectra: iotime 0.456 sec to read coadd-2-80674-deep.fits at 2021-03-15T04:12:43.181240\n",
      "INFO:spectra.py:253:read_spectra: iotime 0.490 sec to read coadd-4-80674-deep.fits at 2021-03-15T04:12:44.136597\n",
      "INFO:spectra.py:253:read_spectra: iotime 0.405 sec to read coadd-5-80674-deep.fits at 2021-03-15T04:12:44.965590\n",
      "INFO:spectra.py:253:read_spectra: iotime 0.477 sec to read coadd-6-80674-deep.fits at 2021-03-15T04:12:45.857888\n",
      "INFO:spectra.py:253:read_spectra: iotime 0.438 sec to read coadd-7-80674-deep.fits at 2021-03-15T04:12:46.766491\n",
      "INFO:spectra.py:253:read_spectra: iotime 0.539 sec to read coadd-8-80674-deep.fits at 2021-03-15T04:12:47.713622\n",
      "INFO:spectra.py:253:read_spectra: iotime 0.568 sec to read coadd-9-80674-deep.fits at 2021-03-15T04:12:48.682240\n",
      "Total targets filtered: 85\n",
      "INFO:spectra.py:253:read_spectra: iotime 0.360 sec to read coadd-0-80674-deep.fits at 2021-03-15T04:12:49.513735\n",
      "INFO:spectra.py:253:read_spectra: iotime 0.473 sec to read coadd-1-80674-deep.fits at 2021-03-15T04:12:50.380609\n",
      "INFO:spectra.py:253:read_spectra: iotime 0.435 sec to read coadd-2-80674-deep.fits at 2021-03-15T04:12:51.280865\n",
      "INFO:spectra.py:253:read_spectra: iotime 0.445 sec to read coadd-4-80674-deep.fits at 2021-03-15T04:12:52.132656\n",
      "INFO:spectra.py:253:read_spectra: iotime 0.360 sec to read coadd-5-80674-deep.fits at 2021-03-15T04:12:52.921892\n",
      "INFO:spectra.py:253:read_spectra: iotime 0.447 sec to read coadd-6-80674-deep.fits at 2021-03-15T04:12:53.772674\n",
      "INFO:spectra.py:253:read_spectra: iotime 0.351 sec to read coadd-7-80674-deep.fits at 2021-03-15T04:12:54.571928\n",
      "INFO:spectra.py:253:read_spectra: iotime 0.463 sec to read coadd-8-80674-deep.fits at 2021-03-15T04:12:55.440326\n",
      "INFO:spectra.py:253:read_spectra: iotime 0.381 sec to read coadd-9-80674-deep.fits at 2021-03-15T04:12:56.230724\n",
      "Total targets filtered (before rndm cut): 1264\n"
     ]
    }
   ],
   "source": [
    "tileid = ['80686', '80674']\n",
    "night = 'deep'\n",
    "\n",
    "tids_selected_cut_a, meta_cut_a, tids_selected_cut_b, meta_cut_b = [0,0],[0,0],[0,0],[0,0]\n",
    "for i_tile in [0,1]:\n",
    "\n",
    "    selection_criteria_a = dict(    \n",
    "        targetmask = 'LRG',\n",
    "        targetmask_type = 'SV1_DESI_TARGET',\n",
    "        zwarn_value = 0,\n",
    "        deltachi2_range = [20, 60],\n",
    "        z_range = ['-', 1.4],\n",
    "        )\n",
    "    tids_selected_cut_a[i_tile], meta_cut_a[i_tile] = select_targets(tileid[i_tile], night, selection_criteria_a, with_meta=True)\n",
    "    np.savetxt(os.environ['HOME']+\"/VI_pages/cascades/tids_\"+tileid[i_tile]+\"_LRG_cut_a.txt\",tids_selected_cut_a[i_tile],fmt='%.i')\n",
    "\n",
    "    selection_criteria_b = dict(    \n",
    "        targetmask = 'LRG',\n",
    "        targetmask_type = 'SV1_DESI_TARGET',\n",
    "        zwarn_value = 0,\n",
    "        deltachi2_range = [60, '-'],\n",
    "        z_range = ['-', 1.4],\n",
    "        random_number = 100,\n",
    "        random_seed = 8068,\n",
    "        )\n",
    "    tids_selected_cut_b[i_tile], meta_cut_b[i_tile] = select_targets(tileid[i_tile], night, selection_criteria_b, with_meta=True)\n",
    "    np.savetxt(os.environ['HOME']+\"/VI_pages/cascades/tids_\"+tileid[i_tile]+\"_LRG_cut_b.txt\",tids_selected_cut_b[i_tile],fmt='%.i')"
   ]
  },
  {
   "cell_type": "code",
   "execution_count": 6,
   "metadata": {},
   "outputs": [
    {
     "data": {
      "image/png": "[encoded data removed]",
      "text/plain": [
       "<Figure size 1080x432 with 2 Axes>"
      ]
     },
     "metadata": {
      "needs_background": "light"
     },
     "output_type": "display_data"
    }
   ],
   "source": [
    "plt.rcParams[\"figure.figsize\"]=15,6\n",
    "fig, axs = plt.subplots(nrows=1, ncols=2)\n",
    "axs[0].scatter(meta_cut_a[0]['Z'], meta_cut_a[0]['DELTACHI2'], c='r')\n",
    "axs[0].scatter(meta_cut_b[0]['Z'], meta_cut_b[0]['DELTACHI2'], c='b')\n",
    "axs[0].set_yscale('log')\n",
    "axs[0].set_xlabel('Z')\n",
    "axs[0].set_title('VI targets: '+tileid[0]+' - LRG')\n",
    "axs[0].set_ylabel('DELTACHI2')\n",
    "axs[1].scatter(meta_cut_a[1]['Z'], meta_cut_a[1]['DELTACHI2'], c='r')\n",
    "axs[1].scatter(meta_cut_b[1]['Z'], meta_cut_b[1]['DELTACHI2'], c='b')\n",
    "axs[1].set_yscale('log')\n",
    "axs[1].set_xlabel('Z')\n",
    "axs[1].set_title('VI targets: '+tileid[1]+' - LRG')\n",
    "p = axs[1].set_ylabel('DELTACHI2')"
   ]
  },
  {
   "cell_type": "markdown",
   "metadata": {},
   "source": [
    "#### TILES 80686 and 80674, QSO"
   ]
  },
  {
   "cell_type": "code",
   "execution_count": 7,
   "metadata": {},
   "outputs": [
    {
     "name": "stdout",
     "output_type": "stream",
     "text": [
      "INFO:spectra.py:253:read_spectra: iotime 0.448 sec to read coadd-0-80686-deep.fits at 2021-03-15T04:13:08.910785\n",
      "INFO:spectra.py:253:read_spectra: iotime 0.502 sec to read coadd-1-80686-deep.fits at 2021-03-15T04:13:09.797190\n",
      "INFO:spectra.py:253:read_spectra: iotime 0.442 sec to read coadd-2-80686-deep.fits at 2021-03-15T04:13:10.649311\n",
      "INFO:spectra.py:253:read_spectra: iotime 0.493 sec to read coadd-4-80686-deep.fits at 2021-03-15T04:13:11.546864\n",
      "INFO:spectra.py:253:read_spectra: iotime 0.423 sec to read coadd-5-80686-deep.fits at 2021-03-15T04:13:12.344655\n",
      "INFO:spectra.py:253:read_spectra: iotime 0.485 sec to read coadd-6-80686-deep.fits at 2021-03-15T04:13:13.226682\n",
      "INFO:spectra.py:253:read_spectra: iotime 0.429 sec to read coadd-7-80686-deep.fits at 2021-03-15T04:13:14.166578\n",
      "INFO:spectra.py:253:read_spectra: iotime 0.499 sec to read coadd-8-80686-deep.fits at 2021-03-15T04:13:15.080788\n",
      "INFO:spectra.py:253:read_spectra: iotime 0.431 sec to read coadd-9-80686-deep.fits at 2021-03-15T04:13:15.911672\n",
      "Total targets filtered: 76\n",
      "INFO:spectra.py:253:read_spectra: iotime 0.365 sec to read coadd-0-80686-deep.fits at 2021-03-15T04:13:16.718024\n",
      "INFO:spectra.py:253:read_spectra: iotime 0.460 sec to read coadd-1-80686-deep.fits at 2021-03-15T04:13:17.573268\n",
      "INFO:spectra.py:253:read_spectra: iotime 0.375 sec to read coadd-2-80686-deep.fits at 2021-03-15T04:13:18.449832\n",
      "INFO:spectra.py:253:read_spectra: iotime 0.432 sec to read coadd-4-80686-deep.fits at 2021-03-15T04:13:19.267392\n",
      "INFO:spectra.py:253:read_spectra: iotime 0.431 sec to read coadd-5-80686-deep.fits at 2021-03-15T04:13:20.085038\n",
      "INFO:spectra.py:253:read_spectra: iotime 0.626 sec to read coadd-6-80686-deep.fits at 2021-03-15T04:13:21.144800\n",
      "INFO:spectra.py:253:read_spectra: iotime 0.400 sec to read coadd-7-80686-deep.fits at 2021-03-15T04:13:21.964179\n",
      "INFO:spectra.py:253:read_spectra: iotime 0.426 sec to read coadd-8-80686-deep.fits at 2021-03-15T04:13:22.814650\n",
      "INFO:spectra.py:253:read_spectra: iotime 0.423 sec to read coadd-9-80686-deep.fits at 2021-03-15T04:13:23.627278\n",
      "Total targets filtered (before rndm cut): 918\n",
      "INFO:spectra.py:253:read_spectra: iotime 0.379 sec to read coadd-0-80674-deep.fits at 2021-03-15T04:13:24.489372\n",
      "INFO:spectra.py:253:read_spectra: iotime 0.476 sec to read coadd-1-80674-deep.fits at 2021-03-15T04:13:25.338616\n",
      "INFO:spectra.py:253:read_spectra: iotime 0.443 sec to read coadd-2-80674-deep.fits at 2021-03-15T04:13:26.195609\n",
      "INFO:spectra.py:253:read_spectra: iotime 0.506 sec to read coadd-4-80674-deep.fits at 2021-03-15T04:13:27.093593\n",
      "INFO:spectra.py:253:read_spectra: iotime 0.399 sec to read coadd-5-80674-deep.fits at 2021-03-15T04:13:27.862934\n",
      "INFO:spectra.py:253:read_spectra: iotime 0.468 sec to read coadd-6-80674-deep.fits at 2021-03-15T04:13:28.731892\n",
      "INFO:spectra.py:253:read_spectra: iotime 0.482 sec to read coadd-7-80674-deep.fits at 2021-03-15T04:13:29.578075\n",
      "INFO:spectra.py:253:read_spectra: iotime 0.550 sec to read coadd-8-80674-deep.fits at 2021-03-15T04:13:30.543230\n",
      "INFO:spectra.py:253:read_spectra: iotime 0.539 sec to read coadd-9-80674-deep.fits at 2021-03-15T04:13:31.459926\n",
      "Total targets filtered: 127\n",
      "INFO:spectra.py:253:read_spectra: iotime 0.407 sec to read coadd-0-80674-deep.fits at 2021-03-15T04:13:32.316645\n",
      "INFO:spectra.py:253:read_spectra: iotime 0.451 sec to read coadd-1-80674-deep.fits at 2021-03-15T04:13:33.139884\n",
      "INFO:spectra.py:253:read_spectra: iotime 0.356 sec to read coadd-2-80674-deep.fits at 2021-03-15T04:13:33.899818\n",
      "INFO:spectra.py:253:read_spectra: iotime 0.434 sec to read coadd-4-80674-deep.fits at 2021-03-15T04:13:34.736410\n",
      "INFO:spectra.py:253:read_spectra: iotime 0.389 sec to read coadd-5-80674-deep.fits at 2021-03-15T04:13:35.496622\n",
      "INFO:spectra.py:253:read_spectra: iotime 0.511 sec to read coadd-6-80674-deep.fits at 2021-03-15T04:13:36.405520\n",
      "INFO:spectra.py:253:read_spectra: iotime 0.353 sec to read coadd-7-80674-deep.fits at 2021-03-15T04:13:37.180045\n",
      "INFO:spectra.py:253:read_spectra: iotime 0.427 sec to read coadd-8-80674-deep.fits at 2021-03-15T04:13:38.083259\n",
      "INFO:spectra.py:253:read_spectra: iotime 0.362 sec to read coadd-9-80674-deep.fits at 2021-03-15T04:13:38.831012\n",
      "Total targets filtered (before rndm cut): 860\n"
     ]
    }
   ],
   "source": [
    "tileid = ['80686', '80674']\n",
    "night = 'deep'\n",
    "\n",
    "tids_selected_cut_a, meta_cut_a, tids_selected_cut_b, meta_cut_b = [0,0],[0,0],[0,0],[0,0]\n",
    "for i_tile in [0,1]:\n",
    "    \n",
    "    selection_criteria_a = dict(    \n",
    "        targetmask = 'QSO',\n",
    "        targetmask_type = 'SV1_DESI_TARGET',\n",
    "        deltachi2_range = [20, 100],\n",
    "        mag_R_range = ['-', 23.2],\n",
    "        )\n",
    "    tids_selected_cut_a[i_tile], meta_cut_a[i_tile] = select_targets(tileid[i_tile], night, selection_criteria_a, with_meta=True)\n",
    "    np.savetxt(os.environ['HOME']+\"/VI_pages/cascades/tids_\"+tileid[i_tile]+\"_QSO_cut_a.txt\",tids_selected_cut_a[i_tile],fmt='%.i')\n",
    "\n",
    "    selection_criteria_b = dict(    \n",
    "        targetmask = 'QSO',\n",
    "        targetmask_type = 'SV1_DESI_TARGET',\n",
    "        deltachi2_range = [100, '-'],\n",
    "        mag_R_range = ['-', 23.2],\n",
    "        random_number = 100,\n",
    "        random_seed = 8067,\n",
    "        )\n",
    "    tids_selected_cut_b[i_tile], meta_cut_b[i_tile] = select_targets(tileid[i_tile], night, selection_criteria_b, with_meta=True)\n",
    "    np.savetxt(os.environ['HOME']+\"/VI_pages/cascades/tids_\"+tileid[i_tile]+\"_QSO_cut_b.txt\",tids_selected_cut_b[i_tile],fmt='%.i')"
   ]
  },
  {
   "cell_type": "code",
   "execution_count": 8,
   "metadata": {},
   "outputs": [
    {
     "data": {
      "image/png": "[encoded data removed]",
      "text/plain": [
       "<Figure size 1080x432 with 2 Axes>"
      ]
     },
     "metadata": {
      "needs_background": "light"
     },
     "output_type": "display_data"
    }
   ],
   "source": [
    "plt.rcParams[\"figure.figsize\"]=15,6\n",
    "fig, axs = plt.subplots(nrows=1, ncols=2)\n",
    "axs[0].scatter(meta_cut_a[0]['mag_R'], meta_cut_a[0]['DELTACHI2'], c='r')\n",
    "axs[0].scatter(meta_cut_b[0]['mag_R'], meta_cut_b[0]['DELTACHI2'], c='b')\n",
    "axs[0].set_yscale('log')\n",
    "axs[0].set_xlabel('mag_R')\n",
    "axs[0].set_title('VI targets: '+tileid[0]+' - QSO')\n",
    "axs[0].set_ylabel('DELTACHI2')\n",
    "axs[0].set_ylim((1,1.e8)) # Hide outliers\n",
    "axs[1].scatter(meta_cut_a[1]['mag_R'], meta_cut_a[1]['DELTACHI2'], c='r')\n",
    "axs[1].scatter(meta_cut_b[1]['mag_R'], meta_cut_b[1]['DELTACHI2'], c='b')\n",
    "axs[1].set_yscale('log')\n",
    "axs[1].set_xlabel('mag_R')\n",
    "axs[1].set_title('VI targets: '+tileid[1]+' - QSO')\n",
    "axs[1].set_ylim((1,1.e8)) # Hide outliers\n",
    "p = axs[1].set_ylabel('DELTACHI2')"
   ]
  },
  {
   "cell_type": "code",
   "execution_count": 9,
   "metadata": {},
   "outputs": [],
   "source": [
    "# Outliers (no ZWARN cut)\n",
    "w,=np.where(np.log10(meta_cut_b[1]['DELTACHI2']) > 80)"
   ]
  },
  {
   "cell_type": "code",
   "execution_count": 10,
   "metadata": {},
   "outputs": [
    {
     "data": {
      "text/plain": [
       "array([1570, 1570, 1570, 1570, 1570, 1570, 1570, 1570, 1570, 1570, 1570,\n",
       "       1570, 1570, 1570, 1570, 1570, 1570, 1570])"
      ]
     },
     "execution_count": 10,
     "metadata": {},
     "output_type": "execute_result"
    }
   ],
   "source": [
    "np.asarray(meta_cut_b[1]['ZWARN'])[w]"
   ]
  },
  {
   "cell_type": "code",
   "execution_count": 11,
   "metadata": {},
   "outputs": [
    {
     "data": {
      "text/plain": [
       "array([-0.0019957, -0.0019957, -0.0019957, -0.0019957, -0.0019957,\n",
       "       -0.0019957, -0.0019957, -0.0019957, -0.0019957, -0.0019957,\n",
       "       -0.0019957, -0.0019957, -0.0019957, -0.0019957, -0.0019957,\n",
       "       -0.0019957, -0.0019957, -0.0019957])"
      ]
     },
     "execution_count": 11,
     "metadata": {},
     "output_type": "execute_result"
    }
   ],
   "source": [
    "np.asarray(meta_cut_b[1]['Z'])[w]"
   ]
  },
  {
   "cell_type": "code",
   "execution_count": 12,
   "metadata": {},
   "outputs": [],
   "source": [
    "w,=np.where( np.asarray(meta_cut_b[1]['Z']) < 0)"
   ]
  },
  {
   "cell_type": "code",
   "execution_count": 13,
   "metadata": {},
   "outputs": [
    {
     "data": {
      "text/plain": [
       "array([84.28839879, 84.28839879, 84.28839879, 84.28839879, 84.28839879,\n",
       "       84.28839879, 84.28839879, 84.28839879, 84.28839879, 84.28839879,\n",
       "       84.28839879, 84.28839879, 84.28839879, 84.28839879, 84.28839879,\n",
       "       84.28839879, 84.28839879, 84.28839879])"
      ]
     },
     "execution_count": 13,
     "metadata": {},
     "output_type": "execute_result"
    }
   ],
   "source": [
    "np.log10(meta_cut_b[1]['DELTACHI2'])[w]"
   ]
  }
 ],
 "metadata": {
  "kernelspec": {
   "display_name": "DESI master",
   "language": "python",
   "name": "desi-master"
  },
  "language_info": {
   "codemirror_mode": {
    "name": "ipython",
    "version": 3
   },
   "file_extension": ".py",
   "mimetype": "text/x-python",
   "name": "python",
   "nbconvert_exporter": "python",
   "pygments_lexer": "ipython3",
   "version": "3.8.3"
  }
 },
 "nbformat": 4,
 "nbformat_minor": 4
}
