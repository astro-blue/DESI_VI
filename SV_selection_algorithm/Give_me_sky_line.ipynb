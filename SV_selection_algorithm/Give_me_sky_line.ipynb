{
 "cells": [
  {
   "cell_type": "code",
   "execution_count": 9,
   "metadata": {},
   "outputs": [],
   "source": [
    "import astropy.io.fits as pf\n",
    "import numpy as np\n",
    "from astropy.table import Table, join, vstack\n",
    "import pandas as pd"
   ]
  },
  {
   "cell_type": "code",
   "execution_count": 2,
   "metadata": {},
   "outputs": [],
   "source": [
    "dir_1 = '/global/cfs/cdirs/desi/users/rongpu/redux/cascades/4x_depth/'"
   ]
  },
  {
   "cell_type": "code",
   "execution_count": 6,
   "metadata": {},
   "outputs": [],
   "source": [
    "tileid = ['80605','80606']\n",
    "petals = [0,1,2,3,4,5,6,7,8,9]"
   ]
  },
  {
   "cell_type": "code",
   "execution_count": 41,
   "metadata": {},
   "outputs": [],
   "source": [
    "dir_path = '/global/cfs/cdirs/desi/users/rongpu/redux/cascades/3x_depth/'\n",
    "tileid = ['80605','80606','80608','80609','80610']\n",
    "dataname = dir_path+'/'+tileid[0] + '/zbest-'+str(petals[0])+'-'+str(tileid[0])+'-subset-2.fits'\n",
    "tf = Table.read(dataname,hdu='FIBERMAP')\n",
    "tspec = Table.read(dataname,hdu='ZBEST')\n",
    "counting_index = 0\n",
    "for id_tile in range(0,len(tileid)):\n",
    "    if (tileid[id_tile]=='80605') | (tileid[id_tile]=='80606'):\n",
    "        dir_path = '/global/cfs/cdirs/desi/users/rongpu/redux/cascades/3x_depth/'\n",
    "    else:\n",
    "        dir_path = '/global/cfs/cdirs/desi/users/rongpu/redux/cascades/4x_depth/'\n",
    "        \n",
    "    for i in range(0,len(petals)):\n",
    "        if counting_index==0:\n",
    "            tfn = Table.read(dir_path+'/'+tileid[id_tile] + '/zbest-'+str(petals[i])+'-'+str(tileid[id_tile])+'-subset-2.fits',hdu='FIBERMAP')\n",
    "            tf = tfn\n",
    "            tspecn = Table.read(dir_path+'/'+tileid[id_tile] + '/zbest-'+str(petals[i])+'-'+str(tileid[id_tile])+'-subset-2.fits',hdu='ZBEST')\n",
    "            tspec = tspecn\n",
    "        else:\n",
    "            tfn = Table.read(dir_path+'/'+tileid[id_tile] + '/zbest-'+str(petals[i])+'-'+str(tileid[id_tile])+'-subset-2.fits',hdu='FIBERMAP')\n",
    "            tspecn = Table.read(dir_path+'/'+tileid[id_tile] + '/zbest-'+str(petals[i])+'-'+str(tileid[id_tile])+'-subset-2.fits',hdu='ZBEST')\n",
    "            tf = vstack([tf,tfn])\n",
    "            tspec = vstack([tspec,tspecn])    \n",
    "        counting_index = counting_index+1\n",
    "    \n",
    "    \n",
    "    \n",
    "    \n",
    "search = np.where(tf['OBJTYPE']=='SKY')\n",
    "targetid = np.array(list(set(tf['TARGETID'][search[0]])))\n",
    "index = []\n",
    "for i_id in range(0,len(targetid)):\n",
    "    index.append(np.where(tspec['TARGETID']==targetid[i_id])[0][0])\n",
    "    \n",
    "tspec_df = tspec['TARGETID','DELTACHI2','Z','ZWARN','ZERR','CHI2','NPIXELS','SPECTYPE'][np.array(index)].to_pandas()    \n",
    "tspec_df.to_csv('sky_line_subset_2.csv')\n",
    "#for i_id in range(0,len(tileid)):\n",
    "\n"
   ]
  },
  {
   "cell_type": "code",
   "execution_count": 39,
   "metadata": {},
   "outputs": [],
   "source": []
  },
  {
   "cell_type": "code",
   "execution_count": 25,
   "metadata": {},
   "outputs": [],
   "source": []
  },
  {
   "cell_type": "code",
   "execution_count": 30,
   "metadata": {},
   "outputs": [
    {
     "data": {
      "text/html": [
       "&lt;Column name=&apos;DELTACHI2&apos; dtype=&apos;float64&apos; length=800&gt;\n",
       "<table>\n",
       "<tr><td>2.7672303542494774</td></tr>\n",
       "<tr><td>1.942668892225729e+84</td></tr>\n",
       "<tr><td>0.1711847521364689</td></tr>\n",
       "<tr><td>7.760738622397184</td></tr>\n",
       "<tr><td>1.942668892225729e+84</td></tr>\n",
       "<tr><td>1.942668892225729e+84</td></tr>\n",
       "<tr><td>1.942668892225729e+84</td></tr>\n",
       "<tr><td>2.637406200170517</td></tr>\n",
       "<tr><td>8.569238431751728</td></tr>\n",
       "<tr><td>9.970769945532084</td></tr>\n",
       "<tr><td>15.653096616268158</td></tr>\n",
       "<tr><td>0.7718678526580334</td></tr>\n",
       "<tr><td>...</td></tr>\n",
       "<tr><td>14.29317482188344</td></tr>\n",
       "<tr><td>11.20303013920784</td></tr>\n",
       "<tr><td>3.9240897446870804</td></tr>\n",
       "<tr><td>0.3677556961774826</td></tr>\n",
       "<tr><td>1.8729186244308949</td></tr>\n",
       "<tr><td>0.07746713608503342</td></tr>\n",
       "<tr><td>1.942668892225729e+84</td></tr>\n",
       "<tr><td>0.7988034039735794</td></tr>\n",
       "<tr><td>1.8276103511452675</td></tr>\n",
       "<tr><td>1.942668892225729e+84</td></tr>\n",
       "<tr><td>1.942668892225729e+84</td></tr>\n",
       "<tr><td>6.149195367395805</td></tr>\n",
       "</table>"
      ],
      "text/plain": [
       "<Column name='DELTACHI2' dtype='float64' length=800>\n",
       "   2.7672303542494774\n",
       "1.942668892225729e+84\n",
       "   0.1711847521364689\n",
       "    7.760738622397184\n",
       "1.942668892225729e+84\n",
       "1.942668892225729e+84\n",
       "1.942668892225729e+84\n",
       "    2.637406200170517\n",
       "    8.569238431751728\n",
       "    9.970769945532084\n",
       "   15.653096616268158\n",
       "   0.7718678526580334\n",
       "                  ...\n",
       "    14.29317482188344\n",
       "    11.20303013920784\n",
       "   3.9240897446870804\n",
       "   0.3677556961774826\n",
       "   1.8729186244308949\n",
       "  0.07746713608503342\n",
       "1.942668892225729e+84\n",
       "   0.7988034039735794\n",
       "   1.8276103511452675\n",
       "1.942668892225729e+84\n",
       "1.942668892225729e+84\n",
       "    6.149195367395805"
      ]
     },
     "execution_count": 30,
     "metadata": {},
     "output_type": "execute_result"
    }
   ],
   "source": []
  },
  {
   "cell_type": "code",
   "execution_count": null,
   "metadata": {},
   "outputs": [],
   "source": []
  }
 ],
 "metadata": {
  "kernelspec": {
   "display_name": "DESI master",
   "language": "python",
   "name": "desi-master"
  },
  "language_info": {
   "codemirror_mode": {
    "name": "ipython",
    "version": 3
   },
   "file_extension": ".py",
   "mimetype": "text/x-python",
   "name": "python",
   "nbconvert_exporter": "python",
   "pygments_lexer": "ipython3",
   "version": "3.8.3"
  }
 },
 "nbformat": 4,
 "nbformat_minor": 4
}
