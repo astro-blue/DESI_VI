{
 "cells": [
  {
   "cell_type": "markdown",
   "metadata": {},
   "source": [
    "This code is to used to extract more information about redrock fits."
   ]
  },
  {
   "cell_type": "code",
   "execution_count": 1,
   "metadata": {},
   "outputs": [],
   "source": [
    "import os, sys, glob\n",
    "import fnmatch\n",
    "import re\n",
    "from astropy.table import Table, join, vstack\n",
    "import astropy.io.fits as pf\n",
    "import pandas as pd\n",
    "from VI_merge_functions_v2 import *"
   ]
  },
  {
   "cell_type": "code",
   "execution_count": 7,
   "metadata": {},
   "outputs": [
    {
     "name": "stdout",
     "output_type": "stream",
     "text": [
      "115\n",
      "101\n"
     ]
    }
   ],
   "source": [
    "on_nersc=True\n",
    "VI_dir = os.environ['HOME']+'/projects/VI_files/SV1/ELG/output/'\n",
    "tiledir   = '/global/cfs/cdirs/desi/spectro/redux/blanc/tiles/'\n",
    "tiles = ['80608']\n",
    "nights = ['20201223']\n",
    "petals = ['0','1','2','3','4', '5', '6' ,'7', '8', '9']\n",
    "#subset = \"_15_\"  # YOU WANT TO CHANGE THIS EACH TIME, it defines \"pattern\" below.  Set to \"\" to use all.\n",
    "#output_name = \"desi-vi_BGS_tile\"+tiles[0]+\"_nightdeep\"+subset+\"merged\"\n",
    "file_name = 'desi-vi_ELG_tile80608_nightdeep_merged_all_210208'\n",
    "vi_old = pd.read_csv(VI_dir+file_name+'.csv', delimiter = \",\", engine='python', keep_default_na=False)\n",
    "vi_old['TILEID']=tiles[0]\n",
    "if on_nersc:\n",
    "  vi = add_auxiliary_data(vi_old,tiledir,tiles,nights,petals)\n",
    "vi = vi[['TARGETID','Redrock_z', 'best_z', 'best_quality', 'Redrock_spectype', 'best_spectype', 'all_VI_issues', 'all_VI_comments', 'merger_comment','N_VI','DELTACHI2','CHI2','NPIXELS', 'ZWARN', 'ZERR','TARGET_RA','TARGET_DEC','FIBER','FLUX_G', 'FLUX_R', 'FLUX_Z','FIBERFLUX_G', 'FIBERFLUX_R', 'FIBERFLUX_Z', 'EBV','TILEID',\n",
    "           'COEFF_0','COEFF_1','COEFF_2','COEFF_3','COEFF_4','COEFF_5','COEFF_6','COEFF_7','COEFF_8','COEFF_9']]\n",
    "\n",
    "output_filename = file_name+'_ADDING_many_info.csv'\n",
    "vi.to_csv(VI_dir+output_filename,index=False)"
   ]
  },
  {
   "cell_type": "code",
   "execution_count": 10,
   "metadata": {},
   "outputs": [
    {
     "name": "stdout",
     "output_type": "stream",
     "text": [
      "109\n",
      "95\n"
     ]
    }
   ],
   "source": [
    "VI_dir = os.environ['HOME']+'/projects/VI_files/SV1/BGS/output/'\n",
    "tiledir   = '/global/cfs/cdirs/desi/spectro/redux/blanc/tiles/'\n",
    "tiles = ['80613']\n",
    "nights = ['20201223']\n",
    "petals = ['0','1','2','3','4', '5', '6' ,'7', '8', '9']\n",
    "#subset = \"_15_\"  # YOU WANT TO CHANGE THIS EACH TIME, it defines \"pattern\" below.  Set to \"\" to use all.\n",
    "#output_name = \"desi-vi_BGS_tile\"+tiles[0]+\"_nightdeep\"+subset+\"merged\"\n",
    "file_name = 'desi-vi_BGS_tile80613_nightdeep_merged_all_210202'\n",
    "vi_old = pd.read_csv(VI_dir+file_name+'.csv', delimiter = \",\", engine='python', keep_default_na=False)\n",
    "vi_old['TILEID']=tiles[0]\n",
    "if on_nersc:\n",
    "  vi = add_auxiliary_data(vi_old,tiledir,tiles,nights,petals)\n",
    "vi = vi[['TARGETID','Redrock_z', 'best_z', 'best_quality', 'Redrock_spectype', 'best_spectype', 'all_VI_issues', 'all_VI_comments', 'merger_comment','N_VI','DELTACHI2','CHI2','NPIXELS', 'ZWARN', 'ZERR','TARGET_RA','TARGET_DEC','FIBER','FLUX_G', 'FLUX_R', 'FLUX_Z','FIBERFLUX_G', 'FIBERFLUX_R', 'FIBERFLUX_Z', 'EBV','TILEID',\n",
    "           'COEFF_0','COEFF_1','COEFF_2','COEFF_3','COEFF_4','COEFF_5','COEFF_6','COEFF_7','COEFF_8','COEFF_9']]\n",
    "\n",
    "output_filename = file_name+'_ADDING_many_info.csv'\n",
    "vi.to_csv(VI_dir+output_filename,index=False)"
   ]
  },
  {
   "cell_type": "code",
   "execution_count": 9,
   "metadata": {},
   "outputs": [
    {
     "name": "stdout",
     "output_type": "stream",
     "text": [
      "115\n",
      "101\n"
     ]
    }
   ],
   "source": [
    "VI_dir = os.environ['HOME']+'/projects/VI_files/SV1/LRG/output/'\n",
    "tiledir   = '/global/cfs/cdirs/desi/spectro/redux/blanc/tiles/'\n",
    "tiles = ['80609']\n",
    "nights = ['20201223']\n",
    "petals = ['0','1','2','3','4', '5', '6' ,'7', '8', '9']\n",
    "#subset = \"_15_\"  # YOU WANT TO CHANGE THIS EACH TIME, it defines \"pattern\" below.  Set to \"\" to use all.\n",
    "#output_name = \"desi-vi_BGS_tile\"+tiles[0]+\"_nightdeep\"+subset+\"merged\"\n",
    "file_name = 'desi-vi_LRG_tile80609_nightdeep_merged_all_21030'\n",
    "vi_old = pd.read_csv(VI_dir+file_name+'.csv', delimiter = \",\", engine='python', keep_default_na=False)\n",
    "vi_old['TILEID']=tiles[0]\n",
    "if on_nersc:\n",
    "  vi = add_auxiliary_data(vi_old,tiledir,tiles,nights,petals)\n",
    "vi = vi[['TARGETID','Redrock_z', 'best_z', 'best_quality', 'Redrock_spectype', 'best_spectype', 'all_VI_issues', 'all_VI_comments', 'merger_comment','N_VI','DELTACHI2','CHI2','NPIXELS', 'ZWARN', 'ZERR','TARGET_RA','TARGET_DEC','FIBER','FLUX_G', 'FLUX_R', 'FLUX_Z','FIBERFLUX_G', 'FIBERFLUX_R', 'FIBERFLUX_Z', 'EBV','TILEID',\n",
    "           'COEFF_0','COEFF_1','COEFF_2','COEFF_3','COEFF_4','COEFF_5','COEFF_6','COEFF_7','COEFF_8','COEFF_9']]\n",
    "\n",
    "output_filename = file_name+'_ADDING_many_info.csv'\n",
    "vi.to_csv(VI_dir+output_filename,index=False)"
   ]
  },
  {
   "cell_type": "code",
   "execution_count": 13,
   "metadata": {},
   "outputs": [
    {
     "name": "stdout",
     "output_type": "stream",
     "text": [
      "102\n",
      "101\n"
     ]
    }
   ],
   "source": [
    "VI_dir = os.environ['HOME']+'/projects/VI_files/SV1/QSO/'\n",
    "tiledir   = '/global/cfs/cdirs/desi/spectro/redux/blanc/tiles/'\n",
    "tiles = ['80607']\n",
    "nights = ['20201223']\n",
    "petals = ['0','1','2','3','4', '5', '6' ,'7', '8', '9']\n",
    "#subset = \"_15_\"  # YOU WANT TO CHANGE THIS EACH TIME, it defines \"pattern\" below.  Set to \"\" to use all.\n",
    "#output_name = \"desi-vi_BGS_tile\"+tiles[0]+\"_nightdeep\"+subset+\"merged\"\n",
    "file_name = 'desi-vi_QSO_tile80607_nightdeep_merged_all_210214'\n",
    "vi_old = pd.read_csv(VI_dir+file_name+'.csv', delimiter = \",\", engine='python', keep_default_na=False)\n",
    "vi_old['TILEID']=tiles[0]\n",
    "if on_nersc:\n",
    "  vi = add_auxiliary_data(vi_old,tiledir,tiles,nights,petals)\n",
    "vi = vi[['TARGETID','Redrock_z', 'best_z', 'best_quality', 'Redrock_spectype', 'best_spectype', 'all_VI_issues', 'all_VI_comments', 'merger_comment','N_VI','DELTACHI2','CHI2','NPIXELS', 'ZWARN', 'ZERR','TARGET_RA','TARGET_DEC','FIBER','FLUX_G', 'FLUX_R', 'FLUX_Z','FIBERFLUX_G', 'FIBERFLUX_R', 'FIBERFLUX_Z', 'EBV','TILEID',\n",
    "           'COEFF_0','COEFF_1','COEFF_2','COEFF_3','COEFF_4','COEFF_5','COEFF_6','COEFF_7','COEFF_8','COEFF_9']]\n",
    "\n",
    "output_filename = file_name+'_ADDING_many_info.csv'\n",
    "vi.to_csv(VI_dir+output_filename,index=False)"
   ]
  },
  {
   "cell_type": "code",
   "execution_count": null,
   "metadata": {},
   "outputs": [],
   "source": []
  }
 ],
 "metadata": {
  "kernelspec": {
   "display_name": "DESI master",
   "language": "python",
   "name": "desi-master"
  },
  "language_info": {
   "codemirror_mode": {
    "name": "ipython",
    "version": 3
   },
   "file_extension": ".py",
   "mimetype": "text/x-python",
   "name": "python",
   "nbconvert_exporter": "python",
   "pygments_lexer": "ipython3",
   "version": "3.8.3"
  }
 },
 "nbformat": 4,
 "nbformat_minor": 4
}
