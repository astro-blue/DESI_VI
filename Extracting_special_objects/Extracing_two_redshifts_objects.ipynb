{
 "cells": [
  {
   "cell_type": "code",
   "execution_count": 8,
   "metadata": {},
   "outputs": [],
   "source": [
    "import pandas as pd\n",
    "import numpy as np\n",
    "import re"
   ]
  },
  {
   "cell_type": "code",
   "execution_count": 2,
   "metadata": {},
   "outputs": [],
   "source": [
    "directory = '/global/cfs/cdirs/desi/sv/vi/TruthTables/Blanc/'"
   ]
  },
  {
   "cell_type": "code",
   "execution_count": 60,
   "metadata": {},
   "outputs": [],
   "source": [
    "Truth_table_name = ['ELG/desi-vi_ELG_tile80606_nightdeep_merged_all_210218.csv',\n",
    "                    'ELG/desi-vi_ELG_tile80608_nightdeep_merged_all_210208.csv',\n",
    "                    'ELG/desi-vi_ELG_tile80610_nightdeep_merged_all_210308.csv',\n",
    "                    'LRG/desi-vi_LRG_tile80605_nightdeep_merged_all_210224.csv',\n",
    "                    'LRG/desi-vi_LRG_tile80609_nightdeep_merged_all_21030.csv',\n",
    "                    'BGS/desi-vi_BGS_tile80613_nightdeep_merged_all_210202.csv',\n",
    "                    'QSO/desi-vi_QSO_tile80605_nightdeep_merged_all_210223_ADDING_object_info.csv',\n",
    "                    'QSO/desi-vi_QSO_tile80607_nightdeep_merged_all_210214_ADDING_object_info.csv',\n",
    "                    'QSO/desi-vi_QSO_tile80609_nightdeep_merged_all_210210_ADDING_object_info.csv']                              "
   ]
  },
  {
   "cell_type": "markdown",
   "metadata": {},
   "source": [
    "### Two redshift catalog"
   ]
  },
  {
   "cell_type": "code",
   "execution_count": 61,
   "metadata": {},
   "outputs": [],
   "source": [
    "for i_data in range(0,len(Truth_table_name)):\n",
    "    data = pd.read_csv(directory+Truth_table_name[i_data],delimiter=',',engine='python',keep_default_na=False)\n",
    "    match_index = []\n",
    "\n",
    "    phrase = ['two obj','Two obj','Two reds','two reds','Another red','another red','Second red']\n",
    "\n",
    "    for i in range(0,len(data['TARGETID'])):\n",
    "        match_list = []\n",
    "        for i_phrase in range(0,len(phrase)):\n",
    "            match = re.search(phrase[i_phrase],data['all_VI_comments'][i])\n",
    "            match_r = re.search(phrase[i_phrase],data['merger_comment'][i])\n",
    "            if match or match_r:\n",
    "                match_index.append(i)\n",
    "\n",
    "    new_table = data.loc[set(match_index)]\n",
    "    if i_data==0:\n",
    "        all_data = new_table\n",
    "    else:\n",
    "        all_data = all_data.append(new_table)\n",
    "    \n",
    "    #print(len(new_table))"
   ]
  },
  {
   "cell_type": "code",
   "execution_count": 63,
   "metadata": {},
   "outputs": [],
   "source": [
    "all_data.to_csv('Two_redshift_catalog.csv',index=False)"
   ]
  },
  {
   "cell_type": "code",
   "execution_count": 91,
   "metadata": {},
   "outputs": [],
   "source": [
    "new_data = pd.read_csv('Two_redshift_catalog.csv')"
   ]
  },
  {
   "cell_type": "markdown",
   "metadata": {},
   "source": [
    "### Lyman alpha emitter"
   ]
  },
  {
   "cell_type": "code",
   "execution_count": 87,
   "metadata": {},
   "outputs": [],
   "source": [
    "for i_data in range(0,len(Truth_table_name)):\n",
    "    data = pd.read_csv(directory+Truth_table_name[i_data],delimiter=',',engine='python',keep_default_na=False)\n",
    "    match_index = []\n",
    "\n",
    "    phrase = ['Lyman alpha emitter','lyman alpha emitter']\n",
    "\n",
    "    for i in range(0,len(data['TARGETID'])):\n",
    "        match_list = []\n",
    "        for i_phrase in range(0,len(phrase)):\n",
    "            match = re.search(phrase[i_phrase],data['all_VI_comments'][i])\n",
    "            match_r = re.search(phrase[i_phrase],data['merger_comment'][i])\n",
    "            if match or match_r:\n",
    "                match_index.append(i)\n",
    "\n",
    "    new_table = data.loc[set(match_index)]\n",
    "    if i_data==0:\n",
    "        all_data = new_table\n",
    "    else:\n",
    "        all_data = all_data.append(new_table)\n",
    "    \n",
    "    #print(len(new_table))"
   ]
  },
  {
   "cell_type": "code",
   "execution_count": 88,
   "metadata": {},
   "outputs": [],
   "source": [
    "all_data.to_csv('Lyman_alpha_emitter.csv',index=False)"
   ]
  },
  {
   "cell_type": "code",
   "execution_count": 89,
   "metadata": {},
   "outputs": [],
   "source": [
    "new_data = pd.read_csv('Lyman_alpha_emitter.csv')"
   ]
  }
 ],
 "metadata": {
  "kernelspec": {
   "display_name": "DESI master",
   "language": "python",
   "name": "desi-master"
  },
  "language_info": {
   "codemirror_mode": {
    "name": "ipython",
    "version": 3
   },
   "file_extension": ".py",
   "mimetype": "text/x-python",
   "name": "python",
   "nbconvert_exporter": "python",
   "pygments_lexer": "ipython3",
   "version": "3.8.3"
  }
 },
 "nbformat": 4,
 "nbformat_minor": 4
}
