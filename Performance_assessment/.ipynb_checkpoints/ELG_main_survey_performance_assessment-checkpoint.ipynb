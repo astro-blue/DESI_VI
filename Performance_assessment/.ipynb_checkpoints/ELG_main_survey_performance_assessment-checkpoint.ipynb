{
 "cells": [
  {
   "cell_type": "code",
   "execution_count": 148,
   "metadata": {},
   "outputs": [],
   "source": [
    "import numpy as np\n",
    "import seaborn as sb\n",
    "import matplotlib.pyplot as plt\n",
    "import pandas as pd\n",
    "import astropy.io.fits as pf\n",
    "import warnings\n",
    "from astropy.table import Table, vstack\n",
    "warnings.filterwarnings('ignore')"
   ]
  },
  {
   "cell_type": "markdown",
   "metadata": {},
   "source": [
    "1. Reading the cascades ELG catalog"
   ]
  },
  {
   "cell_type": "code",
   "execution_count": 149,
   "metadata": {},
   "outputs": [],
   "source": [
    "diretory = '/global/cfs/cdirs/desi/survey/catalogs/SV1/redshift_comps/cascades/3.2/ELG/'\n",
    "dataname = 'alltiles_ELGzinfo.fits'\n",
    "catalog = Table.read('/global/homes/r/raichoor/sv1/sv1-elg-cascades-3.1.fits')"
   ]
  },
  {
   "cell_type": "code",
   "execution_count": 150,
   "metadata": {},
   "outputs": [
    {
     "data": {
      "text/plain": [
       "10315"
      ]
     },
     "execution_count": 150,
     "metadata": {},
     "output_type": "execute_result"
    }
   ],
   "source": [
    "vi_catalog = catalog[catalog['vi_hasvi']==True]\n",
    "len(set(vi_catalog['TARGETID']))"
   ]
  },
  {
   "cell_type": "code",
   "execution_count": 151,
   "metadata": {},
   "outputs": [],
   "source": [
    "vi_catalog  = vi_catalog[(vi_catalog['GTOT']>20) &\n",
    "                                          (vi_catalog['GFIB']<24.1) &\n",
    "                                          (vi_catalog['RZ']>0.15) & \n",
    "                                          (vi_catalog['GR']<0.1+0.5*vi_catalog['RZ']) &\n",
    "                                          (vi_catalog['GR']<-1.2*vi_catalog['RZ']+1.6)\n",
    "                                        ]"
   ]
  },
  {
   "cell_type": "code",
   "execution_count": 153,
   "metadata": {},
   "outputs": [
    {
     "data": {
      "text/plain": [
       "3565"
      ]
     },
     "execution_count": 153,
     "metadata": {},
     "output_type": "execute_result"
    }
   ],
   "source": [
    "len(set(vi_catalog['TARGETID']))"
   ]
  },
  {
   "cell_type": "markdown",
   "metadata": {},
   "source": [
    "2. Selecting the short exposures coadds with EFFTIME_dark>700 (not deep or all)"
   ]
  },
  {
   "cell_type": "code",
   "execution_count": 177,
   "metadata": {},
   "outputs": [
    {
     "name": "stdout",
     "output_type": "stream",
     "text": [
      "Number of short exposures: 3252\n"
     ]
    }
   ],
   "source": [
    "search_ELG_short = np.where((vi_catalog['subset']!='all') & \n",
    "                            (vi_catalog['subset']!='deep') & \n",
    "                            (vi_catalog['EFFTIME_DARK']>550) & (vi_catalog['EFFTIME_DARK']<650))\n",
    "catalog_ELG_short = vi_catalog[search_ELG_short[0]].copy()\n",
    "print('Number of short exposures:', len(catalog_ELG_short))"
   ]
  },
  {
   "cell_type": "code",
   "execution_count": 178,
   "metadata": {},
   "outputs": [
    {
     "data": {
      "text/plain": [
       "2232"
      ]
     },
     "execution_count": 178,
     "metadata": {},
     "output_type": "execute_result"
    }
   ],
   "source": [
    "len(set(catalog_ELG_short['TARGETID']))"
   ]
  },
  {
   "cell_type": "code",
   "execution_count": 179,
   "metadata": {},
   "outputs": [],
   "source": [
    "dz = abs(catalog_ELG_short['Z']-catalog_ELG_short['vi_best_z'])/(1+catalog_ELG_short['vi_best_z'])"
   ]
  },
  {
   "cell_type": "code",
   "execution_count": 180,
   "metadata": {},
   "outputs": [
    {
     "name": "stdout",
     "output_type": "stream",
     "text": [
      "0.7626076260762608\n"
     ]
    }
   ],
   "source": [
    "search = np.where((catalog_ELG_short['vi_best_quality']>=2.5) & (dz<0.0033))\n",
    "print(len(search[0])/len(dz))"
   ]
  },
  {
   "cell_type": "code",
   "execution_count": 97,
   "metadata": {},
   "outputs": [
    {
     "data": {
      "text/plain": [
       "[<matplotlib.lines.Line2D at 0x2aab6dc4de20>]"
      ]
     },
     "execution_count": 97,
     "metadata": {},
     "output_type": "execute_result"
    },
    {
     "data": {
      "image/png": "[encoded data removed]",
      "text/plain": [
       "<Figure size 432x288 with 1 Axes>"
      ]
     },
     "metadata": {
      "needs_background": "light"
     },
     "output_type": "display_data"
    }
   ],
   "source": [
    "plt.scatter(np.log10(catalog_ELG_short['DELTACHI2']),np.log10(catalog_ELG_short['FOII']/catalog_ELG_short['FOII_ERR']),s=1)\n",
    "plt.ylim(-0.5,2)\n",
    "plt.xlim(-0.5,5)\n",
    "plt.scatter(np.log10(catalog_ELG_short['DELTACHI2'][search[0]]),np.log10(catalog_ELG_short['FOII'][search[0]]/catalog_ELG_short['FOII_ERR'][search[0]]),s=1,c='r')\n",
    "x = np.arange(0,5)\n",
    "plt.plot(x,0.9-0.2*x)"
   ]
  },
  {
   "cell_type": "markdown",
   "metadata": {},
   "source": [
    "4. Creating pandas tables from fit formats"
   ]
  },
  {
   "cell_type": "code",
   "execution_count": 127,
   "metadata": {},
   "outputs": [],
   "source": [
    "new_catalog_ELG_short = catalog_ELG_short[['TARGETID','Z','subset','TILEID','EFFTIME_DARK','DELTACHI2','ZWARN','FOII','FOII_ERR','FIBER','RZR']].to_pandas()\n",
    "new_catalog_ELG = catalog_ELG['TARGETID','Z','subset','TILEID','DELTACHI2','EFFTIME_DARK','FIBERFLUX_R','FIBERFLUX_Z','EBV','ZWARN','FOII','FOII_ERR','SPECTYPE','FIBER','RZR','GTOT','GFIB','GR','RZ'].to_pandas()"
   ]
  },
  {
   "cell_type": "markdown",
   "metadata": {},
   "source": [
    "5. Matching the two catalogs with targetid. The redrock information from the deep coadds has suffixes _deep and short coadds with _short"
   ]
  },
  {
   "cell_type": "code",
   "execution_count": 128,
   "metadata": {},
   "outputs": [],
   "source": [
    "catalog_ELG_match = new_catalog_ELG.merge(new_catalog_ELG_short,on='TARGETID',how='left',suffixes=(\"_deep\",\"_short\"))"
   ]
  },
  {
   "cell_type": "markdown",
   "metadata": {},
   "source": [
    "6. Removing same objects but observe in different tiles. and create redshift difference and zfibermag information"
   ]
  },
  {
   "cell_type": "code",
   "execution_count": 129,
   "metadata": {},
   "outputs": [
    {
     "name": "stdout",
     "output_type": "stream",
     "text": [
      "451345\n"
     ]
    }
   ],
   "source": [
    "final_match_catalog = catalog_ELG_match[catalog_ELG_match['TILEID_deep']==catalog_ELG_match['TILEID_short']]\n",
    "print(len(final_match_catalog))\n",
    "final_match_catalog['dz']=abs(final_match_catalog['Z_deep']-final_match_catalog['Z_short'])/(1.+final_match_catalog['Z_deep'])\n",
    "final_match_catalog['OII_SN_deep']=final_match_catalog['FOII_deep']/final_match_catalog['FOII_ERR_deep']\n",
    "final_match_catalog['OII_SN_short']=final_match_catalog['FOII_short']/final_match_catalog['FOII_ERR_short']"
   ]
  },
  {
   "cell_type": "markdown",
   "metadata": {},
   "source": [
    "Adding 1% selection\n",
    "\n",
    "gtot > 20.0\n",
    "     \n",
    "gfib < 24.1\n",
    "     \n",
    "rz > 0.15\n",
    "    \n",
    "gr < 0.1+0.5*rz\n",
    "\n",
    "gr < -1.20*rz+1.6"
   ]
  },
  {
   "cell_type": "code",
   "execution_count": 201,
   "metadata": {},
   "outputs": [],
   "source": [
    "final_match_catalog = final_match_catalog[(final_match_catalog['GTOT']>20) &\n",
    "                                          (final_match_catalog['GFIB']<24.1) &\n",
    "                                          (final_match_catalog['RZ']>0.15) & \n",
    "                                          (final_match_catalog['GR']<0.1+0.5*final_match_catalog['RZ']) &\n",
    "                                          (final_match_catalog['GR']<-1.2*final_match_catalog['RZ']+1.6)\n",
    "                                         ]"
   ]
  },
  {
   "cell_type": "markdown",
   "metadata": {},
   "source": [
    "# 7. Selecting targets with [OII] from Anand with non repeatable redshifts.\n",
    "\n",
    "\n",
    "Selection:\n",
    "\n",
    "    a. |z_deep-z_short|/(1+z_deep)>0.0033\n",
    "    \n",
    "    b. 0.6<z_deep<1.58\n",
    "    \n",
    "    c. FOII_deep>0\n",
    "    \n",
    "    d. FOII_short>0\n",
    "    \n",
    "    e. ELG_deep satisfies Anand's selection\n",
    "    \n",
    "# log10(OII S/N)>0.9-0.2*log10(Deltachi2)\n",
    "    \n",
    "    f. ELG_short satisfies Anand's selection\n",
    "    \n",
    "    g. ZWARN_short<=4 & ZWARN_deep<=4\n",
    "    \n"
   ]
  },
  {
   "cell_type": "code",
   "execution_count": 202,
   "metadata": {},
   "outputs": [],
   "source": [
    "dz_not_good_catalog = final_match_catalog[(final_match_catalog['dz']>0.0033) & \n",
    "                                          (final_match_catalog['Z_deep']>=0.6) & \n",
    "                                          (final_match_catalog['Z_deep']<=1.58) &\n",
    "                                          (final_match_catalog['FOII_deep']>0) & \n",
    "                                          (final_match_catalog['FOII_short']>0) & \n",
    "                                          (np.log10(final_match_catalog['OII_SN_deep'])>(0.9-0.2*np.log10(final_match_catalog['DELTACHI2_deep']))) &                                           \n",
    "                                          (np.log10(final_match_catalog['OII_SN_short'])>(0.9-0.2*np.log10(final_match_catalog['DELTACHI2_short']))) &                                           \n",
    "                                          (final_match_catalog['ZWARN_deep']<=4) &\n",
    "                                          (final_match_catalog['ZWARN_short']<=4)]\n",
    "\n",
    "\n",
    "dz_not_good_catalog['VI_selection']=0"
   ]
  },
  {
   "cell_type": "code",
   "execution_count": 203,
   "metadata": {},
   "outputs": [],
   "source": [
    "#dz_not_good_catalog.to_csv('ELG_dz_not_good_catalog.csv')"
   ]
  },
  {
   "cell_type": "markdown",
   "metadata": {},
   "source": [
    "8. Looking at the DELTACHI2_deep distribution with non-repeatable redshifts. What is interesting is that  there are many objects with high Deltachi2 but non-repeatable redshifts."
   ]
  },
  {
   "cell_type": "code",
   "execution_count": 204,
   "metadata": {},
   "outputs": [
    {
     "data": {
      "text/plain": [
       "(1.0, 5.0)"
      ]
     },
     "execution_count": 204,
     "metadata": {},
     "output_type": "execute_result"
    },
    {
     "data": {
      "image/png": "[encoded data removed]",
      "text/plain": [
       "<Figure size 432x288 with 1 Axes>"
      ]
     },
     "metadata": {
      "needs_background": "light"
     },
     "output_type": "display_data"
    }
   ],
   "source": [
    "plt.hist(np.log10(dz_not_good_catalog['DELTACHI2_deep']),bins=200,range=(0,5),alpha=0.5)\n",
    "plt.xlabel('log10 DELTACHI2 deep')\n",
    "plt.xlim(1,5)\n",
    "#plt.axvline(2.55)\n",
    "#plt.axvline(2.525)"
   ]
  },
  {
   "cell_type": "code",
   "execution_count": 205,
   "metadata": {},
   "outputs": [
    {
     "name": "stdout",
     "output_type": "stream",
     "text": [
      "Number of unique targets in the selection: 98\n"
     ]
    }
   ],
   "source": [
    "print('Number of unique targets in the selection:',len(set(dz_not_good_catalog['TARGETID']*dz_not_good_catalog['TILEID_deep'])))\n",
    "total_unique_sources = len(set(dz_not_good_catalog['TARGETID']*dz_not_good_catalog['TILEID_deep']))"
   ]
  },
  {
   "cell_type": "markdown",
   "metadata": {},
   "source": [
    "# 9. low redshift selection z<0.6\n",
    "\n",
    "a. |Z_deep-Z_short|/(1+Z_deep)>0.0033\n",
    "\n",
    "b. Z_deep<0.6\n",
    "\n",
    "c. DELTACHI2_short>20\n",
    "\n",
    "d. DELTATCHI2_deep>40\n",
    "\n",
    "f ZWARN_deep and ZWARN_short<=4"
   ]
  },
  {
   "cell_type": "code",
   "execution_count": 208,
   "metadata": {},
   "outputs": [
    {
     "name": "stdout",
     "output_type": "stream",
     "text": [
      "372\n"
     ]
    }
   ],
   "source": [
    "low_z_object = final_match_catalog[(final_match_catalog['Z_deep']<0.6) & \n",
    "                                   (final_match_catalog['dz']>0.0033) & \n",
    "                                   (final_match_catalog['DELTACHI2_short']>10) & \n",
    "                                   (final_match_catalog['DELTACHI2_deep']>15) & \n",
    "                                   (final_match_catalog['ZWARN_deep']<=4) &\n",
    "                                   (final_match_catalog['ZWARN_short']<=4) \n",
    "                                  # (final_match_catalog['SPECTYPE']==b'GALAXY')\n",
    "                                  ]\n",
    "low_z_object['VI_selection']=1\n",
    "print(len(set(low_z_object['TARGETID']*low_z_object['TILEID_deep'])))\n",
    "total_unique_sources+=len(set(low_z_object['TARGETID']*low_z_object['TILEID_deep']))"
   ]
  },
  {
   "cell_type": "markdown",
   "metadata": {},
   "source": [
    "# 10. High redshift sources z>1.635\n",
    "\n",
    "a. |z_deep-z_short|/(1+z_deep)>0.0033\n",
    "\n",
    "b. z_deep>1.635\n",
    "\n",
    "c. DELTACHI2_short>20\n",
    "\n",
    "d. DELTACHI2_deep>40\n",
    "\n",
    "f ZWARN_deep<=4 & ZWARN_short<=4\n"
   ]
  },
  {
   "cell_type": "code",
   "execution_count": 209,
   "metadata": {},
   "outputs": [
    {
     "name": "stdout",
     "output_type": "stream",
     "text": [
      "424\n"
     ]
    }
   ],
   "source": [
    "extreme_high_z_object = final_match_catalog[(final_match_catalog['Z_deep']>1.635) & \n",
    "                                   (final_match_catalog['dz']>0.0033) & \n",
    "                                   (final_match_catalog['DELTACHI2_short']>10) & \n",
    "                                   (final_match_catalog['DELTACHI2_deep']>15) & \n",
    "                                   (final_match_catalog['ZWARN_deep']<=4) &\n",
    "                                   (final_match_catalog['ZWARN_short']<=4)\n",
    "                                  ]\n",
    "extreme_high_z_object['VI_selection']=2\n",
    "print(len(set(extreme_high_z_object['TARGETID']*extreme_high_z_object['TILEID_deep'])))\n",
    "total_unique_sources+=len(set(extreme_high_z_object['TARGETID']*extreme_high_z_object['TILEID_deep']))"
   ]
  },
  {
   "cell_type": "markdown",
   "metadata": {},
   "source": [
    "# Using Ashley's catalog and extracting the first 3 best redrock fits"
   ]
  },
  {
   "cell_type": "code",
   "execution_count": 210,
   "metadata": {},
   "outputs": [],
   "source": [
    "catalog_Ashley = Table.read('/global/cscratch1/sd/ajross/SV1/redshift_comps/cascades/test/ELG/alltiles_ELGzinfo_wh5.fits')\n",
    "search_ELG_high_z = np.where((catalog_Ashley['subset']=='deep')  & (catalog_Ashley['EFFTIME_DARK']>3000) & \n",
    "                             (catalog_Ashley['Z']>1.497) & (catalog_Ashley['Z']<1.635))\n",
    "catalog_Ashley_high_z = catalog_Ashley[search_ELG_high_z[0]].copy()\n",
    "\n",
    "search_ELG_Ashley_short = np.where((catalog_Ashley['subset']!='all') & (catalog_Ashley['subset']!='deep') & (catalog_Ashley['EFFTIME_DARK']>700))\n",
    "catalog_Ashley_short = catalog_Ashley[search_ELG_Ashley_short[0]].copy()\n",
    "\n",
    "new_catalog_ELG_Ashley_short = catalog_Ashley_short[['TARGETID','Z','subset','TILEID','EFFTIME_DARK','DELTACHI2','ZWARN','zwarn_1','zwarn_2','zwarn_3','z_1','z_2','z_3','deltachi2_1','deltachi2_2','deltachi2_3']].to_pandas()\n",
    "new_catalog_ELG_Ashley_highz = catalog_Ashley_high_z[['TARGETID','Z','subset','TILEID','DELTACHI2','EFFTIME_DARK','FIBERFLUX_G','FIBERFLUX_R','FIBERFLUX_Z','EBV','ZWARN','zwarn_1','zwarn_2','zwarn_3','z_1','z_2','z_3','deltachi2_1','deltachi2_2','deltachi2_3','FLUX_R','FLUX_G','FLUX_Z']].to_pandas()\n",
    "catalog_ELG_match_high_z = new_catalog_ELG_Ashley_highz.merge(new_catalog_ELG_Ashley_short,on='TARGETID',how='left',suffixes=(\"_deep\",\"_short\"))\n",
    "\n",
    "final_match_catalog_high_z = catalog_ELG_match_high_z[catalog_ELG_match_high_z['TILEID_deep']==catalog_ELG_match_high_z['TILEID_short']]"
   ]
  },
  {
   "cell_type": "code",
   "execution_count": 211,
   "metadata": {},
   "outputs": [],
   "source": [
    "final_match_catalog_high_z['GTOT']=-2.5*np.log10(final_match_catalog_high_z['FLUX_G'])+22.5-3.214*(final_match_catalog_high_z['EBV'])\n",
    "final_match_catalog_high_z['GFIB']=-2.5*np.log10(final_match_catalog_high_z['FIBERFLUX_G'])+22.5-3.214*(final_match_catalog_high_z['EBV'])\n",
    "final_match_catalog_high_z['RTOT']=-2.5*np.log10(final_match_catalog_high_z['FLUX_R'])+22.5-2.165*(final_match_catalog_high_z['EBV'])\n",
    "final_match_catalog_high_z['ZTOT']=-2.5*np.log10(final_match_catalog_high_z['FLUX_Z'])+22.5-1.211*(final_match_catalog_high_z['EBV'])\n",
    "final_match_catalog_high_z['RZ']=final_match_catalog_high_z['RTOT']-final_match_catalog_high_z['ZTOT']\n",
    "final_match_catalog_high_z['GR']=final_match_catalog_high_z['GTOT']-final_match_catalog_high_z['RTOT']\n",
    "\n",
    "final_match_catalog_high_z['combine_deltachi2_deep']=final_match_catalog_high_z['DELTACHI2_deep']+final_match_catalog_high_z['deltachi2_1_deep']+final_match_catalog_high_z['deltachi2_2_deep']\n",
    "final_match_catalog_high_z['combine_deltachi2_short']=final_match_catalog_high_z['DELTACHI2_short']+final_match_catalog_high_z['deltachi2_1_short']+final_match_catalog_high_z['deltachi2_2_short']\n",
    "final_match_catalog_high_z['dz']=abs(final_match_catalog_high_z['Z_deep']-final_match_catalog_high_z['Z_short'])/(1+final_match_catalog_high_z['Z_deep'])"
   ]
  },
  {
   "cell_type": "code",
   "execution_count": 212,
   "metadata": {},
   "outputs": [
    {
     "data": {
      "text/plain": [
       "(-1.0, 1.0)"
      ]
     },
     "execution_count": 212,
     "metadata": {},
     "output_type": "execute_result"
    },
    {
     "data": {
      "image/png": "[encoded data removed]",
      "text/plain": [
       "<Figure size 432x288 with 1 Axes>"
      ]
     },
     "metadata": {
      "needs_background": "light"
     },
     "output_type": "display_data"
    }
   ],
   "source": [
    "plt.scatter(final_match_catalog_high_z['RZ'],final_match_catalog_high_z['GR'])\n",
    "plt.xlim(-1,2)\n",
    "plt.ylim(-1,1)"
   ]
  },
  {
   "cell_type": "markdown",
   "metadata": {},
   "source": [
    "Adding 1% selection\n",
    "\n",
    "gtot > 20.0\n",
    "     \n",
    "gfib < 24.1\n",
    "     \n",
    "rz > 0.15\n",
    "    \n",
    "gr < 0.1+0.5*rz\n",
    "\n",
    "gr < -1.20*rz+1.6"
   ]
  },
  {
   "cell_type": "code",
   "execution_count": 213,
   "metadata": {},
   "outputs": [],
   "source": [
    "final_match_catalog_high_z = final_match_catalog_high_z[(final_match_catalog_high_z['GTOT']>20) &\n",
    "                                          (final_match_catalog_high_z['GFIB']<24.1) &\n",
    "                                          (final_match_catalog_high_z['RZ']>0.15) & \n",
    "                                          (final_match_catalog_high_z['GR']<0.1+0.5*final_match_catalog_high_z['RZ']) &\n",
    "                                          (final_match_catalog_high_z['GR']<-1.2*final_match_catalog_high_z['RZ']+1.6)\n",
    "                                         ]"
   ]
  },
  {
   "cell_type": "markdown",
   "metadata": {},
   "source": [
    "# 10. High z selection 1\n",
    "\n",
    "a. dz>0.0033\n",
    "\n",
    "b. 1.497<Z_deep<1.635\n",
    "\n",
    "c. DELTACHI2_deep>40\n",
    "\n",
    "d. DELTACHI2_short>20\n",
    "\n",
    "e. ZWARN_deep & ZWARN_short<=4"
   ]
  },
  {
   "cell_type": "code",
   "execution_count": 214,
   "metadata": {},
   "outputs": [
    {
     "name": "stdout",
     "output_type": "stream",
     "text": [
      "357\n"
     ]
    }
   ],
   "source": [
    "high_z_object_simple_cut = final_match_catalog_high_z[(final_match_catalog_high_z['dz']>0.0033) & \n",
    "                                    (final_match_catalog_high_z['DELTACHI2_deep']>15) &\n",
    "                                    (final_match_catalog_high_z['DELTACHI2_short']>10) &\n",
    "                                    (final_match_catalog_high_z['ZWARN_deep']<=4) & \n",
    "                                    (final_match_catalog_high_z['ZWARN_short']<=4)]\n",
    "high_z_object_simple_cut['VI_selection']=3                                  \n",
    "print(len(set(high_z_object_simple_cut['TARGETID']*high_z_object_simple_cut['TILEID_deep'])))\n",
    "total_unique_sources+=len(set(high_z_object_simple_cut['TARGETID']*high_z_object_simple_cut['TILEID_deep']))"
   ]
  },
  {
   "cell_type": "markdown",
   "metadata": {},
   "source": [
    "# 11. High z selection 2 1.497<Z_deep<1.635\n",
    "\n",
    "a. Z_1 as [OIII] or Ha line\n",
    "\n",
    "b. DELTACHI2_combine_deep>50\n",
    "\n",
    "Only selecting ~500 random objects"
   ]
  },
  {
   "cell_type": "code",
   "execution_count": 215,
   "metadata": {},
   "outputs": [
    {
     "name": "stdout",
     "output_type": "stream",
     "text": [
      "514\n"
     ]
    }
   ],
   "source": [
    "redshift_selection = (((final_match_catalog_high_z['z_1_deep']>=3710.*(1+final_match_catalog_high_z['Z_deep'])/5007.-1) &\n",
    "                    (final_match_catalog_high_z['z_1_deep']<3770.*(1+final_match_catalog_high_z['Z_deep'])/5007.-1)) | \n",
    "                    ((final_match_catalog_high_z['z_1_deep']>=3720.*(1+final_match_catalog_high_z['Z_deep'])/6563.-1) &\n",
    "                    (final_match_catalog_high_z['z_1_deep']<3740.*(1+final_match_catalog_high_z['Z_deep'])/6563.-1)))\n",
    "\n",
    "deep_good_short_good_highz_catalog = final_match_catalog_high_z[redshift_selection]\n",
    "high_z_sample_Ha_OIII = deep_good_short_good_highz_catalog[\n",
    "                                                (deep_good_short_good_highz_catalog['combine_deltachi2_deep']>50) & \n",
    "                                                (deep_good_short_good_highz_catalog['ZWARN_deep']<=4) & \n",
    "                                               (deep_good_short_good_highz_catalog['ZWARN_short']<=4)]\n",
    "\n",
    "\n",
    "high_z_sample_Ha_OIII = high_z_sample_Ha_OIII.sample(n=600,replace=False, random_state=0)\n",
    "print(len(set(high_z_sample_Ha_OIII['TARGETID']*high_z_sample_Ha_OIII['TILEID_deep'])))\n",
    "total_unique_sources+=len(set(high_z_sample_Ha_OIII['TARGETID']*high_z_sample_Ha_OIII['TILEID_deep']))\n",
    "high_z_sample_Ha_OIII['VI_selection']=4"
   ]
  },
  {
   "cell_type": "code",
   "execution_count": 216,
   "metadata": {},
   "outputs": [],
   "source": [
    "combined_catalog  = dz_not_good_catalog\n",
    "combined_catalog = combined_catalog.append(extreme_high_z_object,ignore_index=True)\n",
    "combined_catalog = combined_catalog.append(low_z_object,ignore_index=True)\n",
    "combined_catalog = combined_catalog.append(high_z_object_simple_cut,ignore_index=True)\n",
    "combined_catalog = combined_catalog.append(high_z_sample_Ha_OIII,ignore_index=True)"
   ]
  },
  {
   "cell_type": "code",
   "execution_count": 218,
   "metadata": {},
   "outputs": [
    {
     "data": {
      "text/plain": [
       "0       0\n",
       "1       0\n",
       "2       0\n",
       "3       0\n",
       "4       0\n",
       "       ..\n",
       "2492    4\n",
       "2493    4\n",
       "2494    4\n",
       "2495    4\n",
       "2496    4\n",
       "Name: VI_selection, Length: 2497, dtype: int64"
      ]
     },
     "execution_count": 218,
     "metadata": {},
     "output_type": "execute_result"
    }
   ],
   "source": [
    "combined_catalog['VI_selection']"
   ]
  },
  {
   "cell_type": "markdown",
   "metadata": {},
   "source": [
    "10. Combining the two catalogs and producing a list with \n",
    "TILEID, TARGETID, ID_FOR_selection"
   ]
  },
  {
   "cell_type": "code",
   "execution_count": 219,
   "metadata": {},
   "outputs": [],
   "source": [
    "all_tileid = combined_catalog['TILEID_deep']\n",
    "all_targetid = combined_catalog['TARGETID']\n",
    "all_VI_selection = combined_catalog['VI_selection']\n",
    "all_DELTACHI2 = combined_catalog['DELTACHI2_deep']"
   ]
  },
  {
   "cell_type": "markdown",
   "metadata": {},
   "source": [
    "11. Creating an unique target list with no repetition "
   ]
  },
  {
   "cell_type": "code",
   "execution_count": 226,
   "metadata": {},
   "outputs": [],
   "source": [
    "TILEID = []\n",
    "FINAL_TARGETID = []\n",
    "FINAL_selection = []\n",
    "unique_tileid = np.array(list(set(all_tileid)))\n",
    "Number_of_object_per_tile = {}\n",
    "FINAL_deltachi2 = []\n",
    "for i_tile in range(0,len(unique_tileid)):\n",
    "    if (unique_tileid[i_tile]!=80606) & (unique_tileid[i_tile]!=80608) & (unique_tileid[i_tile]!=80610):\n",
    "        search = np.where(all_tileid==unique_tileid[i_tile])\n",
    "        tmp_targetid = all_targetid[search[0]]\n",
    "\n",
    "        unique_targetid = np.array(list(set(tmp_targetid)))\n",
    "        Number_of_object_per_tile[unique_tileid[i_tile]]=len(unique_targetid)\n",
    "        for i_td in range(0,len(unique_targetid)):\n",
    "            TILEID.append(unique_tileid[i_tile])\n",
    "            FINAL_TARGETID.append(unique_targetid[i_td])\n",
    "            search_selection = np.where((all_tileid==unique_tileid[i_tile]) & (all_targetid==unique_targetid[i_td]))\n",
    "            FINAL_selection.append(int(all_VI_selection[search_selection[0][0]]))\n",
    "            FINAL_deltachi2.append(all_DELTACHI2[search_selection[0][0]])"
   ]
  },
  {
   "cell_type": "code",
   "execution_count": 227,
   "metadata": {},
   "outputs": [
    {
     "name": "stdout",
     "output_type": "stream",
     "text": [
      "1375\n"
     ]
    },
    {
     "data": {
      "text/plain": [
       "{80669: 44,\n",
       " 80673: 55,\n",
       " 80675: 41,\n",
       " 80676: 35,\n",
       " 80677: 38,\n",
       " 80678: 34,\n",
       " 80679: 35,\n",
       " 80680: 29,\n",
       " 80681: 79,\n",
       " 80682: 38,\n",
       " 80683: 33,\n",
       " 80684: 12,\n",
       " 80685: 47,\n",
       " 80686: 20,\n",
       " 80688: 19,\n",
       " 80689: 24,\n",
       " 80690: 44,\n",
       " 80692: 32,\n",
       " 80693: 55,\n",
       " 80694: 37,\n",
       " 80699: 46,\n",
       " 80700: 33,\n",
       " 80701: 56,\n",
       " 80705: 52,\n",
       " 80707: 69,\n",
       " 80709: 29,\n",
       " 80711: 42,\n",
       " 80712: 30,\n",
       " 80605: 64,\n",
       " 80607: 45,\n",
       " 80609: 46,\n",
       " 80620: 20,\n",
       " 80621: 38,\n",
       " 80622: 25,\n",
       " 80623: 29}"
      ]
     },
     "execution_count": 227,
     "metadata": {},
     "output_type": "execute_result"
    }
   ],
   "source": [
    "print(len(FINAL_selection))\n",
    "Number_of_object_per_tile"
   ]
  },
  {
   "cell_type": "code",
   "execution_count": 228,
   "metadata": {},
   "outputs": [],
   "source": [
    "d = {'TILEID':TILEID,'TARGETID':FINAL_TARGETID,'VI_selection':FINAL_selection,'DELTACHI2':FINAL_deltachi2}\n",
    "df = pd.DataFrame(data=d)\n",
    "df.sort_values(\"VI_selection\",inplace=True)"
   ]
  },
  {
   "cell_type": "code",
   "execution_count": 229,
   "metadata": {},
   "outputs": [],
   "source": [
    "df.to_csv('210402_SV_cascades_ELG_VI_target_list.v1.csv',index=False)"
   ]
  },
  {
   "cell_type": "code",
   "execution_count": 230,
   "metadata": {},
   "outputs": [],
   "source": [
    "new_data = pd.read_csv('210402_SV_cascades_ELG_VI_target_list.v1.csv')"
   ]
  },
  {
   "cell_type": "code",
   "execution_count": 231,
   "metadata": {},
   "outputs": [
    {
     "name": "stdout",
     "output_type": "stream",
     "text": [
      "TOTAL selected spectra for VI: 1375\n"
     ]
    }
   ],
   "source": [
    "print('TOTAL selected spectra for VI:',len(TILEID))"
   ]
  },
  {
   "cell_type": "code",
   "execution_count": 232,
   "metadata": {},
   "outputs": [
    {
     "data": {
      "text/html": [
       "<div>\n",
       "<style scoped>\n",
       "    .dataframe tbody tr th:only-of-type {\n",
       "        vertical-align: middle;\n",
       "    }\n",
       "\n",
       "    .dataframe tbody tr th {\n",
       "        vertical-align: top;\n",
       "    }\n",
       "\n",
       "    .dataframe thead th {\n",
       "        text-align: right;\n",
       "    }\n",
       "</style>\n",
       "<table border=\"1\" class=\"dataframe\">\n",
       "  <thead>\n",
       "    <tr style=\"text-align: right;\">\n",
       "      <th></th>\n",
       "      <th>TILEID</th>\n",
       "      <th>TARGETID</th>\n",
       "      <th>VI_selection</th>\n",
       "      <th>DELTACHI2</th>\n",
       "    </tr>\n",
       "  </thead>\n",
       "  <tbody>\n",
       "    <tr>\n",
       "      <th>0</th>\n",
       "      <td>80623</td>\n",
       "      <td>39628521894578936</td>\n",
       "      <td>0</td>\n",
       "      <td>91.465275</td>\n",
       "    </tr>\n",
       "    <tr>\n",
       "      <th>1</th>\n",
       "      <td>80675</td>\n",
       "      <td>39633169510564162</td>\n",
       "      <td>0</td>\n",
       "      <td>20.556023</td>\n",
       "    </tr>\n",
       "    <tr>\n",
       "      <th>2</th>\n",
       "      <td>80681</td>\n",
       "      <td>39628521311570112</td>\n",
       "      <td>0</td>\n",
       "      <td>20.491311</td>\n",
       "    </tr>\n",
       "    <tr>\n",
       "      <th>3</th>\n",
       "      <td>80605</td>\n",
       "      <td>39627700788270180</td>\n",
       "      <td>0</td>\n",
       "      <td>215.109571</td>\n",
       "    </tr>\n",
       "    <tr>\n",
       "      <th>4</th>\n",
       "      <td>80681</td>\n",
       "      <td>39628500646232791</td>\n",
       "      <td>0</td>\n",
       "      <td>36.029195</td>\n",
       "    </tr>\n",
       "    <tr>\n",
       "      <th>...</th>\n",
       "      <td>...</td>\n",
       "      <td>...</td>\n",
       "      <td>...</td>\n",
       "      <td>...</td>\n",
       "    </tr>\n",
       "    <tr>\n",
       "      <th>1370</th>\n",
       "      <td>80712</td>\n",
       "      <td>39633293720683211</td>\n",
       "      <td>4</td>\n",
       "      <td>71.563704</td>\n",
       "    </tr>\n",
       "    <tr>\n",
       "      <th>1371</th>\n",
       "      <td>80693</td>\n",
       "      <td>39633561204035371</td>\n",
       "      <td>4</td>\n",
       "      <td>102.957221</td>\n",
       "    </tr>\n",
       "    <tr>\n",
       "      <th>1372</th>\n",
       "      <td>80684</td>\n",
       "      <td>39628214879915295</td>\n",
       "      <td>4</td>\n",
       "      <td>436.749169</td>\n",
       "    </tr>\n",
       "    <tr>\n",
       "      <th>1373</th>\n",
       "      <td>80685</td>\n",
       "      <td>39632949972307208</td>\n",
       "      <td>4</td>\n",
       "      <td>88.553547</td>\n",
       "    </tr>\n",
       "    <tr>\n",
       "      <th>1374</th>\n",
       "      <td>80701</td>\n",
       "      <td>39627169118293521</td>\n",
       "      <td>4</td>\n",
       "      <td>147.192973</td>\n",
       "    </tr>\n",
       "  </tbody>\n",
       "</table>\n",
       "<p>1375 rows × 4 columns</p>\n",
       "</div>"
      ],
      "text/plain": [
       "      TILEID           TARGETID  VI_selection   DELTACHI2\n",
       "0      80623  39628521894578936             0   91.465275\n",
       "1      80675  39633169510564162             0   20.556023\n",
       "2      80681  39628521311570112             0   20.491311\n",
       "3      80605  39627700788270180             0  215.109571\n",
       "4      80681  39628500646232791             0   36.029195\n",
       "...      ...                ...           ...         ...\n",
       "1370   80712  39633293720683211             4   71.563704\n",
       "1371   80693  39633561204035371             4  102.957221\n",
       "1372   80684  39628214879915295             4  436.749169\n",
       "1373   80685  39632949972307208             4   88.553547\n",
       "1374   80701  39627169118293521             4  147.192973\n",
       "\n",
       "[1375 rows x 4 columns]"
      ]
     },
     "execution_count": 232,
     "metadata": {},
     "output_type": "execute_result"
    }
   ],
   "source": [
    "new_data"
   ]
  },
  {
   "cell_type": "code",
   "execution_count": 233,
   "metadata": {},
   "outputs": [],
   "source": [
    "match_new_data = new_data.merge(new_catalog_ELG,on='TARGETID',how='left')"
   ]
  },
  {
   "cell_type": "code",
   "execution_count": 234,
   "metadata": {},
   "outputs": [],
   "source": [
    "match_new_data = match_new_data[match_new_data['TILEID_x']==match_new_data['TILEID_y']]"
   ]
  },
  {
   "cell_type": "code",
   "execution_count": 235,
   "metadata": {},
   "outputs": [
    {
     "data": {
      "text/plain": [
       "(-0.1, 3.0)"
      ]
     },
     "execution_count": 235,
     "metadata": {},
     "output_type": "execute_result"
    },
    {
     "data": {
      "image/png": "[encoded data removed]",
      "text/plain": [
       "<Figure size 720x432 with 1 Axes>"
      ]
     },
     "metadata": {
      "needs_background": "light"
     },
     "output_type": "display_data"
    }
   ],
   "source": [
    "plt.figure(figsize=(10,6))\n",
    "plt.scatter(match_new_data['Z'],np.log10(match_new_data['DELTACHI2_x']),s=3)\n",
    "plt.ylabel('log Deltachi2',fontsize=15)\n",
    "plt.xlabel('Redshift',fontsize=15)\n",
    "plt.xlim(-0.1,3)"
   ]
  },
  {
   "cell_type": "code",
   "execution_count": null,
   "metadata": {},
   "outputs": [],
   "source": []
  }
 ],
 "metadata": {
  "kernelspec": {
   "display_name": "DESI master",
   "language": "python",
   "name": "desi-master"
  },
  "language_info": {
   "codemirror_mode": {
    "name": "ipython",
    "version": 3
   },
   "file_extension": ".py",
   "mimetype": "text/x-python",
   "name": "python",
   "nbconvert_exporter": "python",
   "pygments_lexer": "ipython3",
   "version": "3.8.3"
  }
 },
 "nbformat": 4,
 "nbformat_minor": 4
}
