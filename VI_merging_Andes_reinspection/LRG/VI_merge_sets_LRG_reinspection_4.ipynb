{
 "cells": [
  {
   "cell_type": "markdown",
   "metadata": {},
   "source": [
    "## Identifying and resolving conflicts in a batch of VI files"
   ]
  },
  {
   "cell_type": "markdown",
   "metadata": {},
   "source": [
    "Andes Reinspection \n",
    "LRG\n",
    "Data information can be found at https://data.desi.lbl.gov/desi/spectro/prospect/target-reinspection-andes/\n",
    "\n",
    "/global/cfs/cdirs/desi/spectro/redux/andes\n",
    "\n",
    "\n",
    "448 visual inspections of a total of 150 unique objects\n",
    "\n",
    "32 conflicts"
   ]
  },
  {
   "cell_type": "code",
   "execution_count": 57,
   "metadata": {},
   "outputs": [],
   "source": [
    "save_filename='truth_table_Andes_reinspection_LRG_68001_20200315_4.csv'"
   ]
  },
  {
   "cell_type": "code",
   "execution_count": 58,
   "metadata": {},
   "outputs": [],
   "source": [
    "import os, sys, glob\n",
    "import numpy as np\n",
    "\n",
    "from astropy.io import fits\n",
    "from astropy.table import Table, join, vstack\n",
    "from astropy.io import fits\n",
    "\n",
    "import pandas as pd\n",
    "import fnmatch\n",
    "\n",
    "import desispec.io\n",
    "\n",
    "import VI_utils as VI\n",
    "sys.path.append(\"/global/homes/r/tlan/prospect/prospect/py\")\n",
    "\n",
    "from prospect import utils_specviewer,plotframes\n",
    "#import desispec\n",
    "# library location will change ..\n",
    "sys.path.append(\"/global/u2/t/tlan/python/prospect/py\")\n",
    "from prospect import utils_specviewer,plotframes\n",
    "import matplotlib.pyplot as plt "
   ]
  },
  {
   "cell_type": "code",
   "execution_count": 59,
   "metadata": {},
   "outputs": [],
   "source": [
    "tiledir   = '/global/cfs/cdirs/desi/spectro/redux/andes/tiles/'\n",
    "tiles = ['68001']\n",
    "nights = ['20200315']\n",
    "petals = ['0','1', '2', '3', '4', '5', '6' ,'7', '8', '9']\n",
    "#petals = ['0','3','6','7']\n",
    "obs_db = utils_specviewer.make_targetdict(tiledir, petals=petals, tiles=tiles) # tiles = optional \n",
    "#del obs_db['67230-20200314']\n",
    "#obs_db.keys()"
   ]
  },
  {
   "cell_type": "code",
   "execution_count": 60,
   "metadata": {},
   "outputs": [],
   "source": [
    "pd.set_option('display.max_rows', 10)"
   ]
  },
  {
   "cell_type": "code",
   "execution_count": 61,
   "metadata": {},
   "outputs": [],
   "source": [
    "#set to directory with all the VI files to merge\n",
    "VI_dir = os.environ['HOME']+'/projects/VI_files/Andes_reinspection/LRG/'"
   ]
  },
  {
   "cell_type": "code",
   "execution_count": 62,
   "metadata": {},
   "outputs": [
    {
     "name": "stdout",
     "output_type": "stream",
     "text": [
      "desi*_68001_10_*.csv\n",
      "desi*_68001_11_*.csv\n",
      "desi*_68001_12_*.csv\n",
      "['desi-vi_LRG_reinspection_68001_10_PNT.csv', 'desi-vi_LRG_reinspection_68001_10_KSD.csv', 'desi-vi_LRG_reinspection_68001_11_PNT.csv', 'desi-vi_LRG_reinspection_68001_11_KSD.csv', 'desi-vi_LRG_reinspection_68001_12_KSD.csv', 'desi-vi_LRG_reinspection_68001_12_PNT.csv']\n"
     ]
    }
   ],
   "source": [
    "#read a set of files \n",
    "all_files = os.listdir(VI_dir)\n",
    "vi_files=[]\n",
    "\n",
    "for i in range(10,13):\n",
    "    pattern = \"desi*_\"+str(68001)+\"_\"+str(i)+\"_*.csv\"\n",
    "    print(pattern)\n",
    "    for entry in all_files:\n",
    "        if fnmatch.fnmatch(entry, pattern):\n",
    "            vi_files.append(entry)\n",
    "\n",
    "print(vi_files)"
   ]
  },
  {
   "cell_type": "code",
   "execution_count": null,
   "metadata": {},
   "outputs": [],
   "source": []
  },
  {
   "cell_type": "code",
   "execution_count": 63,
   "metadata": {},
   "outputs": [
    {
     "name": "stdout",
     "output_type": "stream",
     "text": [
      "desi-vi_LRG_reinspection_68001_10_PNT.csv\n",
      "desi-vi_LRG_reinspection_68001_10_KSD.csv\n",
      "desi-vi_LRG_reinspection_68001_11_PNT.csv\n",
      "desi-vi_LRG_reinspection_68001_11_KSD.csv\n",
      "desi-vi_LRG_reinspection_68001_12_KSD.csv\n",
      "desi-vi_LRG_reinspection_68001_12_PNT.csv\n",
      "There are 244 visual inspections of a total of 122 unique objects\n",
      "That gives 2.0 inspections per object.\n"
     ]
    }
   ],
   "source": [
    "vi = pd.read_csv(VI_dir + vi_files[0], delimiter = \",\", engine='python')\n",
    "print(vi_files[0])\n",
    "for i in range(1,len(vi_files)):\n",
    "    print(vi_files[i])\n",
    "    vi2 = pd.read_csv(VI_dir + vi_files[i], delimiter = \",\", engine='python')\n",
    "    vi = vi.append(vi2, ignore_index=True)\n",
    "#print(vi)    \n",
    "#make groups of visual inspections, grouped by unique objects, and state number of single and multiple VIs\n",
    "vi_gp = vi.groupby(['TARGETID'])\n",
    "\n",
    "print('There are ' + str(len(vi)) + ' visual inspections of a total of ' + str(len(vi_gp)) + ' unique objects')\n",
    "print('That gives ' + str(len(vi)/len(vi_gp)) + ' inspections per object.')"
   ]
  },
  {
   "cell_type": "code",
   "execution_count": 64,
   "metadata": {},
   "outputs": [],
   "source": [
    "#vi is a dataframe\n",
    "#display(vi)"
   ]
  },
  {
   "cell_type": "code",
   "execution_count": 65,
   "metadata": {},
   "outputs": [
    {
     "data": {
      "text/plain": [
       "244"
      ]
     },
     "execution_count": 65,
     "metadata": {},
     "output_type": "execute_result"
    }
   ],
   "source": [
    "#vi.keys()\n",
    "len(vi)"
   ]
  },
  {
   "cell_type": "markdown",
   "metadata": {},
   "source": [
    "# Merge with zbest files\n",
    "#Add: fiberID, delta_chi2, flux information,.. anything else?\n"
   ]
  },
  {
   "cell_type": "code",
   "execution_count": 66,
   "metadata": {},
   "outputs": [
    {
     "name": "stdout",
     "output_type": "stream",
     "text": [
      "5000\n",
      "5000\n",
      "244\n"
     ]
    }
   ],
   "source": [
    "\n",
    "#read in fibermap info, loop over the files for all the petals\n",
    "tf = Table.read(tiledir+'/'+tiles[0] + '/'+nights[0]+'/zbest-'+str(petals[0])+'-'+str(tiles[0])+'-'+nights[0]+'.fits',hdu='FIBERMAP')\n",
    "tspec = Table.read(tiledir+'/'+tiles[0] + '/'+nights[0]+'/zbest-'+str(petals[0])+'-'+str(tiles[0])+'-'+nights[0]+'.fits',hdu='ZBEST')\n",
    "\n",
    "for i in range(1,len(petals)):\n",
    "    tn = Table.read(tiledir+'/'+tiles[0] + '/'+nights[0]+'/zbest-'+str(petals[i])+'-'+str(tiles[0])+'-'+nights[0]+'.fits',hdu='ZBEST')\n",
    "    tnf = Table.read(tiledir+'/'+tiles[0] + '/'+nights[0]+'/zbest-'+str(petals[i])+'-'+str(tiles[0])+'-'+nights[0]+'.fits',hdu='FIBERMAP')\n",
    "    tspec = vstack([tspec,tn])\n",
    "    tf = vstack([tf,tnf])\n",
    "\n",
    "#tf['TARGETID','FIBER','FLUX_G','FLUX_R','FLUX_Z','FIBERFLUX_G','FIBERFLUX_R','FIBERFLUX_Z'].to_panda()    \n",
    "EXPID = list(set(tf['EXPID']))[0]\n",
    "tf = tf[tf['EXPID']==EXPID]\n",
    "tspec_df = tspec['TARGETID','DELTACHI2' ].to_pandas()\n",
    "tf_df = tf['TARGETID','FIBER','FLUX_G','FLUX_R','FLUX_Z','FIBERFLUX_G','FIBERFLUX_R','FIBERFLUX_Z'].to_pandas()\n",
    "print(len(tspec_df))\n",
    "print(len(tf_df))\n",
    "#tf_df = tf_df.rename(columns={\"TargetID\": \"TARGETID\"})\n",
    "#tspec_df = tspec_df.rename(columns={\"TargetID\": \"TARGETID\"})\n",
    "#print(len(vi))\n",
    "vi = vi.merge(tf_df, how='left', on='TARGETID')\n",
    "vi = vi.merge(tspec_df, how='left', on='TARGETID')\n",
    "print(len(vi))"
   ]
  },
  {
   "cell_type": "code",
   "execution_count": null,
   "metadata": {},
   "outputs": [],
   "source": []
  },
  {
   "cell_type": "code",
   "execution_count": 67,
   "metadata": {},
   "outputs": [
    {
     "name": "stdout",
     "output_type": "stream",
     "text": [
      "Index(['TARGETID', 'EXPID', 'NIGHT', 'TILEID', 'Spec_version',\n",
      "       'Redrock_version', 'Template_version', 'Redrock_spectype', 'Redrock_z',\n",
      "       'VI_scanner', 'VI_quality', 'VI_issue', 'VI_z', 'VI_spectype',\n",
      "       'VI_comment', 'FIBER', 'FLUX_G', 'FLUX_R', 'FLUX_Z', 'FIBERFLUX_G',\n",
      "       'FIBERFLUX_R', 'FIBERFLUX_Z', 'DELTACHI2'],\n",
      "      dtype='object')\n"
     ]
    }
   ],
   "source": [
    "print(vi.keys())\n",
    "#print(len(vi))\n",
    "#vi['best redshift']=vi['VI_z']"
   ]
  },
  {
   "cell_type": "markdown",
   "metadata": {},
   "source": [
    "### Adding a bunch of useful columns"
   ]
  },
  {
   "cell_type": "code",
   "execution_count": 68,
   "metadata": {},
   "outputs": [],
   "source": [
    "#vi['VI_z']\n",
    "import VI_utils as VI\n",
    "#vi['VI_z']\n",
    "#bad_str = [s is None for s in vi['VI_comment']]\n",
    "#vi['VI_comment'].isnull()\n",
    "#bad_str = [s is None for s in vi['VI_comment']]\n",
    "#print(bad_str)\n",
    "#vi.loc[vi['VI_comment'].isnull(),'VI_comment']='--'\n",
    "#vi['VI_comment']\n",
    "#vi['all VI comments'] = vi.groupby('TARGETID')['VI_comment'].transform(lambda x: '|'.join(x))\n",
    "#print(vi['all VI comments'])\n",
    "vi = VI.prep_new_columns(vi)\n",
    "#vi['best redshift'] = vi['VI_z']\n",
    "#test = vi['VI_z']\n",
    "#vi['best redshift'].isnull()\n",
    "#vi.loc[vi['best redshift'].isnull(), 'best redshift'] = vi.loc[vi['best redshift'].isnull(), 'Redrock_z']\n",
    "#vi['best redshift']"
   ]
  },
  {
   "cell_type": "code",
   "execution_count": 69,
   "metadata": {},
   "outputs": [
    {
     "data": {
      "text/html": [
       "<div>\n",
       "<style scoped>\n",
       "    .dataframe tbody tr th:only-of-type {\n",
       "        vertical-align: middle;\n",
       "    }\n",
       "\n",
       "    .dataframe tbody tr th {\n",
       "        vertical-align: top;\n",
       "    }\n",
       "\n",
       "    .dataframe thead th {\n",
       "        text-align: right;\n",
       "    }\n",
       "</style>\n",
       "<table border=\"1\" class=\"dataframe\">\n",
       "  <thead>\n",
       "    <tr style=\"text-align: right;\">\n",
       "      <th></th>\n",
       "      <th>TARGETID</th>\n",
       "      <th>EXPID</th>\n",
       "      <th>NIGHT</th>\n",
       "      <th>TILEID</th>\n",
       "      <th>Spec_version</th>\n",
       "      <th>Redrock_version</th>\n",
       "      <th>Template_version</th>\n",
       "      <th>Redrock_spectype</th>\n",
       "      <th>Redrock_z</th>\n",
       "      <th>VI_scanner</th>\n",
       "      <th>...</th>\n",
       "      <th>DELTACHI2</th>\n",
       "      <th>best redshift</th>\n",
       "      <th>best spectype</th>\n",
       "      <th>vi_combined_flag</th>\n",
       "      <th>vi_diff</th>\n",
       "      <th>dz</th>\n",
       "      <th>vi_combined_z</th>\n",
       "      <th>all VI comments</th>\n",
       "      <th>N_VI</th>\n",
       "      <th>merger comment</th>\n",
       "    </tr>\n",
       "  </thead>\n",
       "  <tbody>\n",
       "    <tr>\n",
       "      <th>0</th>\n",
       "      <td>35191284696091368</td>\n",
       "      <td>55611</td>\n",
       "      <td>20200315</td>\n",
       "      <td>68001</td>\n",
       "      <td>0.34.4</td>\n",
       "      <td>-1</td>\n",
       "      <td>-1</td>\n",
       "      <td>QSO</td>\n",
       "      <td>0.7329</td>\n",
       "      <td>PNT</td>\n",
       "      <td>...</td>\n",
       "      <td>90.962333</td>\n",
       "      <td>0.7329</td>\n",
       "      <td>GALAXY</td>\n",
       "      <td>4.0</td>\n",
       "      <td>0</td>\n",
       "      <td>0.0</td>\n",
       "      <td>0.7329</td>\n",
       "      <td>--|possibly a blend with z=0.68 galaxy; 4000 A...</td>\n",
       "      <td>2</td>\n",
       "      <td>none</td>\n",
       "    </tr>\n",
       "    <tr>\n",
       "      <th>1</th>\n",
       "      <td>35191284696091900</td>\n",
       "      <td>55611</td>\n",
       "      <td>20200315</td>\n",
       "      <td>68001</td>\n",
       "      <td>0.34.4</td>\n",
       "      <td>-1</td>\n",
       "      <td>-1</td>\n",
       "      <td>GALAXY</td>\n",
       "      <td>1.0359</td>\n",
       "      <td>PNT</td>\n",
       "      <td>...</td>\n",
       "      <td>147.907878</td>\n",
       "      <td>1.0359</td>\n",
       "      <td>GALAXY</td>\n",
       "      <td>4.0</td>\n",
       "      <td>0</td>\n",
       "      <td>0.0</td>\n",
       "      <td>1.0359</td>\n",
       "      <td>--|--</td>\n",
       "      <td>2</td>\n",
       "      <td>none</td>\n",
       "    </tr>\n",
       "    <tr>\n",
       "      <th>2</th>\n",
       "      <td>35191288219304133</td>\n",
       "      <td>55611</td>\n",
       "      <td>20200315</td>\n",
       "      <td>68001</td>\n",
       "      <td>0.34.4</td>\n",
       "      <td>-1</td>\n",
       "      <td>-1</td>\n",
       "      <td>GALAXY</td>\n",
       "      <td>0.9491</td>\n",
       "      <td>PNT</td>\n",
       "      <td>...</td>\n",
       "      <td>125.337507</td>\n",
       "      <td>0.9491</td>\n",
       "      <td>GALAXY</td>\n",
       "      <td>4.0</td>\n",
       "      <td>0</td>\n",
       "      <td>0.0</td>\n",
       "      <td>0.9491</td>\n",
       "      <td>--|--</td>\n",
       "      <td>2</td>\n",
       "      <td>none</td>\n",
       "    </tr>\n",
       "    <tr>\n",
       "      <th>3</th>\n",
       "      <td>35191288219304177</td>\n",
       "      <td>55611</td>\n",
       "      <td>20200315</td>\n",
       "      <td>68001</td>\n",
       "      <td>0.34.4</td>\n",
       "      <td>-1</td>\n",
       "      <td>-1</td>\n",
       "      <td>GALAXY</td>\n",
       "      <td>0.9480</td>\n",
       "      <td>PNT</td>\n",
       "      <td>...</td>\n",
       "      <td>115.874757</td>\n",
       "      <td>0.9480</td>\n",
       "      <td>GALAXY</td>\n",
       "      <td>3.5</td>\n",
       "      <td>1</td>\n",
       "      <td>0.0</td>\n",
       "      <td>0.9480</td>\n",
       "      <td>--|--</td>\n",
       "      <td>2</td>\n",
       "      <td>none</td>\n",
       "    </tr>\n",
       "    <tr>\n",
       "      <th>4</th>\n",
       "      <td>35191288219304552</td>\n",
       "      <td>55611</td>\n",
       "      <td>20200315</td>\n",
       "      <td>68001</td>\n",
       "      <td>0.34.4</td>\n",
       "      <td>-1</td>\n",
       "      <td>-1</td>\n",
       "      <td>GALAXY</td>\n",
       "      <td>0.6211</td>\n",
       "      <td>PNT</td>\n",
       "      <td>...</td>\n",
       "      <td>114.558437</td>\n",
       "      <td>0.6211</td>\n",
       "      <td>GALAXY</td>\n",
       "      <td>4.0</td>\n",
       "      <td>0</td>\n",
       "      <td>0.0</td>\n",
       "      <td>0.6211</td>\n",
       "      <td>--|--</td>\n",
       "      <td>2</td>\n",
       "      <td>none</td>\n",
       "    </tr>\n",
       "    <tr>\n",
       "      <th>...</th>\n",
       "      <td>...</td>\n",
       "      <td>...</td>\n",
       "      <td>...</td>\n",
       "      <td>...</td>\n",
       "      <td>...</td>\n",
       "      <td>...</td>\n",
       "      <td>...</td>\n",
       "      <td>...</td>\n",
       "      <td>...</td>\n",
       "      <td>...</td>\n",
       "      <td>...</td>\n",
       "      <td>...</td>\n",
       "      <td>...</td>\n",
       "      <td>...</td>\n",
       "      <td>...</td>\n",
       "      <td>...</td>\n",
       "      <td>...</td>\n",
       "      <td>...</td>\n",
       "      <td>...</td>\n",
       "      <td>...</td>\n",
       "      <td>...</td>\n",
       "    </tr>\n",
       "    <tr>\n",
       "      <th>239</th>\n",
       "      <td>35191291759297482</td>\n",
       "      <td>55611</td>\n",
       "      <td>20200315</td>\n",
       "      <td>68001</td>\n",
       "      <td>0.34.4</td>\n",
       "      <td>-1</td>\n",
       "      <td>-1</td>\n",
       "      <td>GALAXY</td>\n",
       "      <td>1.1232</td>\n",
       "      <td>PNT</td>\n",
       "      <td>...</td>\n",
       "      <td>62.786036</td>\n",
       "      <td>1.1232</td>\n",
       "      <td>GALAXY</td>\n",
       "      <td>3.5</td>\n",
       "      <td>1</td>\n",
       "      <td>0.0</td>\n",
       "      <td>1.1232</td>\n",
       "      <td>--|--</td>\n",
       "      <td>2</td>\n",
       "      <td>none</td>\n",
       "    </tr>\n",
       "    <tr>\n",
       "      <th>240</th>\n",
       "      <td>35191291759297857</td>\n",
       "      <td>55611</td>\n",
       "      <td>20200315</td>\n",
       "      <td>68001</td>\n",
       "      <td>0.34.4</td>\n",
       "      <td>-1</td>\n",
       "      <td>-1</td>\n",
       "      <td>GALAXY</td>\n",
       "      <td>1.0529</td>\n",
       "      <td>PNT</td>\n",
       "      <td>...</td>\n",
       "      <td>113.909822</td>\n",
       "      <td>1.0529</td>\n",
       "      <td>GALAXY</td>\n",
       "      <td>3.5</td>\n",
       "      <td>1</td>\n",
       "      <td>0.0</td>\n",
       "      <td>1.0529</td>\n",
       "      <td>--|--</td>\n",
       "      <td>2</td>\n",
       "      <td>none</td>\n",
       "    </tr>\n",
       "    <tr>\n",
       "      <th>241</th>\n",
       "      <td>35191291759297906</td>\n",
       "      <td>55611</td>\n",
       "      <td>20200315</td>\n",
       "      <td>68001</td>\n",
       "      <td>0.34.4</td>\n",
       "      <td>-1</td>\n",
       "      <td>-1</td>\n",
       "      <td>GALAXY</td>\n",
       "      <td>0.6336</td>\n",
       "      <td>PNT</td>\n",
       "      <td>...</td>\n",
       "      <td>42.824737</td>\n",
       "      <td>0.6336</td>\n",
       "      <td>GALAXY</td>\n",
       "      <td>3.5</td>\n",
       "      <td>1</td>\n",
       "      <td>0.0</td>\n",
       "      <td>0.6336</td>\n",
       "      <td>--|--</td>\n",
       "      <td>2</td>\n",
       "      <td>none</td>\n",
       "    </tr>\n",
       "    <tr>\n",
       "      <th>242</th>\n",
       "      <td>35191291763491700</td>\n",
       "      <td>55611</td>\n",
       "      <td>20200315</td>\n",
       "      <td>68001</td>\n",
       "      <td>0.34.4</td>\n",
       "      <td>-1</td>\n",
       "      <td>-1</td>\n",
       "      <td>GALAXY</td>\n",
       "      <td>0.9641</td>\n",
       "      <td>PNT</td>\n",
       "      <td>...</td>\n",
       "      <td>155.192079</td>\n",
       "      <td>0.9641</td>\n",
       "      <td>GALAXY</td>\n",
       "      <td>3.5</td>\n",
       "      <td>1</td>\n",
       "      <td>0.0</td>\n",
       "      <td>0.9641</td>\n",
       "      <td>--|--</td>\n",
       "      <td>2</td>\n",
       "      <td>none</td>\n",
       "    </tr>\n",
       "    <tr>\n",
       "      <th>243</th>\n",
       "      <td>35191291763492016</td>\n",
       "      <td>55611</td>\n",
       "      <td>20200315</td>\n",
       "      <td>68001</td>\n",
       "      <td>0.34.4</td>\n",
       "      <td>-1</td>\n",
       "      <td>-1</td>\n",
       "      <td>GALAXY</td>\n",
       "      <td>0.9595</td>\n",
       "      <td>PNT</td>\n",
       "      <td>...</td>\n",
       "      <td>32.585105</td>\n",
       "      <td>0.9595</td>\n",
       "      <td>GALAXY</td>\n",
       "      <td>3.0</td>\n",
       "      <td>2</td>\n",
       "      <td>0.0</td>\n",
       "      <td>0.9595</td>\n",
       "      <td>--|--</td>\n",
       "      <td>2</td>\n",
       "      <td>none</td>\n",
       "    </tr>\n",
       "  </tbody>\n",
       "</table>\n",
       "<p>244 rows × 32 columns</p>\n",
       "</div>"
      ],
      "text/plain": [
       "              TARGETID  EXPID     NIGHT  TILEID Spec_version  Redrock_version  \\\n",
       "0    35191284696091368  55611  20200315   68001       0.34.4               -1   \n",
       "1    35191284696091900  55611  20200315   68001       0.34.4               -1   \n",
       "2    35191288219304133  55611  20200315   68001       0.34.4               -1   \n",
       "3    35191288219304177  55611  20200315   68001       0.34.4               -1   \n",
       "4    35191288219304552  55611  20200315   68001       0.34.4               -1   \n",
       "..                 ...    ...       ...     ...          ...              ...   \n",
       "239  35191291759297482  55611  20200315   68001       0.34.4               -1   \n",
       "240  35191291759297857  55611  20200315   68001       0.34.4               -1   \n",
       "241  35191291759297906  55611  20200315   68001       0.34.4               -1   \n",
       "242  35191291763491700  55611  20200315   68001       0.34.4               -1   \n",
       "243  35191291763492016  55611  20200315   68001       0.34.4               -1   \n",
       "\n",
       "     Template_version Redrock_spectype  Redrock_z VI_scanner  ...   DELTACHI2  \\\n",
       "0                  -1              QSO     0.7329        PNT  ...   90.962333   \n",
       "1                  -1           GALAXY     1.0359        PNT  ...  147.907878   \n",
       "2                  -1           GALAXY     0.9491        PNT  ...  125.337507   \n",
       "3                  -1           GALAXY     0.9480        PNT  ...  115.874757   \n",
       "4                  -1           GALAXY     0.6211        PNT  ...  114.558437   \n",
       "..                ...              ...        ...        ...  ...         ...   \n",
       "239                -1           GALAXY     1.1232        PNT  ...   62.786036   \n",
       "240                -1           GALAXY     1.0529        PNT  ...  113.909822   \n",
       "241                -1           GALAXY     0.6336        PNT  ...   42.824737   \n",
       "242                -1           GALAXY     0.9641        PNT  ...  155.192079   \n",
       "243                -1           GALAXY     0.9595        PNT  ...   32.585105   \n",
       "\n",
       "    best redshift  best spectype vi_combined_flag vi_diff   dz  vi_combined_z  \\\n",
       "0          0.7329         GALAXY              4.0       0  0.0         0.7329   \n",
       "1          1.0359         GALAXY              4.0       0  0.0         1.0359   \n",
       "2          0.9491         GALAXY              4.0       0  0.0         0.9491   \n",
       "3          0.9480         GALAXY              3.5       1  0.0         0.9480   \n",
       "4          0.6211         GALAXY              4.0       0  0.0         0.6211   \n",
       "..            ...            ...              ...     ...  ...            ...   \n",
       "239        1.1232         GALAXY              3.5       1  0.0         1.1232   \n",
       "240        1.0529         GALAXY              3.5       1  0.0         1.0529   \n",
       "241        0.6336         GALAXY              3.5       1  0.0         0.6336   \n",
       "242        0.9641         GALAXY              3.5       1  0.0         0.9641   \n",
       "243        0.9595         GALAXY              3.0       2  0.0         0.9595   \n",
       "\n",
       "                                       all VI comments  N_VI  merger comment  \n",
       "0    --|possibly a blend with z=0.68 galaxy; 4000 A...     2            none  \n",
       "1                                                --|--     2            none  \n",
       "2                                                --|--     2            none  \n",
       "3                                                --|--     2            none  \n",
       "4                                                --|--     2            none  \n",
       "..                                                 ...   ...             ...  \n",
       "239                                              --|--     2            none  \n",
       "240                                              --|--     2            none  \n",
       "241                                              --|--     2            none  \n",
       "242                                              --|--     2            none  \n",
       "243                                              --|--     2            none  \n",
       "\n",
       "[244 rows x 32 columns]"
      ]
     },
     "metadata": {},
     "output_type": "display_data"
    }
   ],
   "source": [
    "#check all the new columns (keys) have been added correctly\n",
    "display(vi)\n",
    "#print(vi.keys())"
   ]
  },
  {
   "cell_type": "markdown",
   "metadata": {},
   "source": [
    "Get a table that holds only the objects that have been inspected more than once, and for which the individual VI classifications differ by 2 or more, or delta z / (1 + z) > 0.0033, or there is disagreement in best spectype (these are the conflicts to resolve)"
   ]
  },
  {
   "cell_type": "code",
   "execution_count": 70,
   "metadata": {},
   "outputs": [],
   "source": [
    "vi_gp = vi.groupby(['TARGETID'])\n",
    "vi_conflict = VI.find_conflicts(vi_gp)"
   ]
  },
  {
   "cell_type": "code",
   "execution_count": 71,
   "metadata": {},
   "outputs": [
    {
     "data": {
      "text/plain": [
       "122"
      ]
     },
     "execution_count": 71,
     "metadata": {},
     "output_type": "execute_result"
    }
   ],
   "source": [
    "len(vi_gp)"
   ]
  },
  {
   "cell_type": "markdown",
   "metadata": {},
   "source": [
    "Get the target IDs of the problematic objects and display in table form for a quick summary:"
   ]
  },
  {
   "cell_type": "code",
   "execution_count": 72,
   "metadata": {},
   "outputs": [
    {
     "name": "stdout",
     "output_type": "stream",
     "text": [
      "Targets with problematic VI:  [35191284712866707 35191284712869404 35191284717062295 35191284717063245\n",
      " 35191284729645604 35191288219305221 35191288240276813 35191291742519598\n",
      " 35191291746717610 35191291750909449 35191291763492016 35191295232180973\n",
      " 35191295232181877]\n",
      "Total number of conflicts to resolve:  13\n"
     ]
    }
   ],
   "source": [
    "unique_targets = np.unique(vi_conflict['TARGETID'].tolist())\n",
    "print('Targets with problematic VI: ', unique_targets)\n",
    "print('Total number of conflicts to resolve: ', len(unique_targets))"
   ]
  },
  {
   "cell_type": "code",
   "execution_count": 73,
   "metadata": {},
   "outputs": [
    {
     "data": {
      "text/plain": [
       "35191284712866707"
      ]
     },
     "execution_count": 73,
     "metadata": {},
     "output_type": "execute_result"
    }
   ],
   "source": [
    "unique_targets[0]"
   ]
  },
  {
   "cell_type": "raw",
   "metadata": {},
   "source": [
    "for i in range(len(unique_targets)): \n",
    "    display(vi[vi.TargetID==unique_targets[i].astype(float)])"
   ]
  },
  {
   "cell_type": "markdown",
   "metadata": {},
   "source": [
    "## This is where I resolve things manually - with care!!\n",
    "### I think it's better to keep it in a notebook, as typos can be backtracked rather than a single manual edit of a text file\n",
    "\n",
    "We edit either 'VI class', or 'best redshift' to resolve conflict. At the end, we look for conflicts again and we should find none.\n"
   ]
  },
  {
   "cell_type": "code",
   "execution_count": 74,
   "metadata": {},
   "outputs": [],
   "source": [
    "#function to display the conflict in table format and open a prospect window\n",
    "def display_conflict(conflict_id, show_spectra=None):\n",
    "    \n",
    "    #first, remind myself of the problem:\n",
    "    display(vi[vi.TARGETID==unique_targets[conflict_id]][['TARGETID', \n",
    "       'Redrock_spectype', 'Redrock_z', 'VI_scanner', 'VI_quality', 'VI_issue',\n",
    "       'VI_z', 'VI_spectype', 'VI_comment',\n",
    "       'best redshift', 'best spectype', 'vi_combined_flag', 'vi_diff',\n",
    "       'vi_combined_z', 'dz', 'all VI comments', 'N_VI', 'merger comment']])\n",
    "\n",
    "    spectra, zcat= utils_specviewer.load_spectra_zcat_from_targets([unique_targets[conflict_id]], tiledir, obs_db)\n",
    "    # VI interface in notebook\n",
    "    if show_spectra:\n",
    "        plotframes.plotspectra(spectra, zcatalog=zcat, title='Target_select', notebook=True, mask_type='CMX_TARGET',with_vi_widgets=False)"
   ]
  },
  {
   "cell_type": "code",
   "execution_count": 75,
   "metadata": {},
   "outputs": [],
   "source": [
    "#first, keep a safe copy of the original dataframe\n",
    "vi_safe = vi.copy()"
   ]
  },
  {
   "cell_type": "markdown",
   "metadata": {},
   "source": [
    "We will inspect each conflict on a prospect window, and resolve each conflict in turn"
   ]
  },
  {
   "cell_type": "raw",
   "metadata": {},
   "source": [
    "#copy this text to a new cell to display the conflict\n",
    "conflict_id=\n",
    "display_conflict(conflict_id)\n",
    "\n",
    "========\n",
    "#copy this text to a new cell to resolve the conflict\n",
    "vi.loc[vi.TargetID==unique_targets[conflict_id], 'best redshift'] = \n",
    "vi.loc[vi.TargetID==unique_targets[conflict_id], 'VI class'] = \n",
    "vi.loc[vi.TargetID==unique_targets[conflict_id], 'best spectype'] = \n",
    "\n",
    "#add a comment\n",
    "vi.loc[vi.TargetID==unique_targets[conflict_id], 'merger comment'] = \n",
    "\n",
    "#look at the values agbain to make sure all is well\n",
    "print('conflict ID = ', conflict_id)\n",
    "display(vi[vi.TargetID==unique_targets[conflict_id]])"
   ]
  },
  {
   "cell_type": "code",
   "execution_count": 76,
   "metadata": {},
   "outputs": [],
   "source": [
    "show_spectra = False"
   ]
  },
  {
   "cell_type": "code",
   "execution_count": 77,
   "metadata": {},
   "outputs": [
    {
     "data": {
      "text/html": [
       "<div>\n",
       "<style scoped>\n",
       "    .dataframe tbody tr th:only-of-type {\n",
       "        vertical-align: middle;\n",
       "    }\n",
       "\n",
       "    .dataframe tbody tr th {\n",
       "        vertical-align: top;\n",
       "    }\n",
       "\n",
       "    .dataframe thead th {\n",
       "        text-align: right;\n",
       "    }\n",
       "</style>\n",
       "<table border=\"1\" class=\"dataframe\">\n",
       "  <thead>\n",
       "    <tr style=\"text-align: right;\">\n",
       "      <th></th>\n",
       "      <th>TARGETID</th>\n",
       "      <th>Redrock_spectype</th>\n",
       "      <th>Redrock_z</th>\n",
       "      <th>VI_scanner</th>\n",
       "      <th>VI_quality</th>\n",
       "      <th>VI_issue</th>\n",
       "      <th>VI_z</th>\n",
       "      <th>VI_spectype</th>\n",
       "      <th>VI_comment</th>\n",
       "      <th>best redshift</th>\n",
       "      <th>best spectype</th>\n",
       "      <th>vi_combined_flag</th>\n",
       "      <th>vi_diff</th>\n",
       "      <th>vi_combined_z</th>\n",
       "      <th>dz</th>\n",
       "      <th>all VI comments</th>\n",
       "      <th>N_VI</th>\n",
       "      <th>merger comment</th>\n",
       "    </tr>\n",
       "  </thead>\n",
       "  <tbody>\n",
       "    <tr>\n",
       "      <th>20</th>\n",
       "      <td>35191284712866707</td>\n",
       "      <td>GALAXY</td>\n",
       "      <td>0.9032</td>\n",
       "      <td>PNT</td>\n",
       "      <td>4</td>\n",
       "      <td>NaN</td>\n",
       "      <td>0.9032</td>\n",
       "      <td>NaN</td>\n",
       "      <td>--</td>\n",
       "      <td>0.9032</td>\n",
       "      <td>GALAXY</td>\n",
       "      <td>2.5</td>\n",
       "      <td>3</td>\n",
       "      <td>0.9032</td>\n",
       "      <td>0.0</td>\n",
       "      <td>--|--</td>\n",
       "      <td>2</td>\n",
       "      <td>none</td>\n",
       "    </tr>\n",
       "    <tr>\n",
       "      <th>70</th>\n",
       "      <td>35191284712866707</td>\n",
       "      <td>GALAXY</td>\n",
       "      <td>0.9032</td>\n",
       "      <td>KSD</td>\n",
       "      <td>1</td>\n",
       "      <td>NaN</td>\n",
       "      <td>0.9032</td>\n",
       "      <td>NaN</td>\n",
       "      <td>--</td>\n",
       "      <td>0.9032</td>\n",
       "      <td>GALAXY</td>\n",
       "      <td>2.5</td>\n",
       "      <td>3</td>\n",
       "      <td>0.9032</td>\n",
       "      <td>0.0</td>\n",
       "      <td>--|--</td>\n",
       "      <td>2</td>\n",
       "      <td>none</td>\n",
       "    </tr>\n",
       "  </tbody>\n",
       "</table>\n",
       "</div>"
      ],
      "text/plain": [
       "             TARGETID Redrock_spectype  Redrock_z VI_scanner  VI_quality  \\\n",
       "20  35191284712866707           GALAXY     0.9032        PNT           4   \n",
       "70  35191284712866707           GALAXY     0.9032        KSD           1   \n",
       "\n",
       "   VI_issue    VI_z VI_spectype VI_comment  best redshift best spectype  \\\n",
       "20      NaN  0.9032         NaN         --         0.9032        GALAXY   \n",
       "70      NaN  0.9032         NaN         --         0.9032        GALAXY   \n",
       "\n",
       "    vi_combined_flag  vi_diff  vi_combined_z   dz all VI comments  N_VI  \\\n",
       "20               2.5        3         0.9032  0.0           --|--     2   \n",
       "70               2.5        3         0.9032  0.0           --|--     2   \n",
       "\n",
       "   merger comment  \n",
       "20           none  \n",
       "70           none  "
      ]
     },
     "metadata": {},
     "output_type": "display_data"
    }
   ],
   "source": [
    "#Keep track of the conflicts by conflict_id\n",
    "\n",
    "#copy this text to a new cell to display the conflict\n",
    "conflict_id=0\n",
    "display_conflict(conflict_id, show_spectra=show_spectra)"
   ]
  },
  {
   "cell_type": "code",
   "execution_count": 78,
   "metadata": {},
   "outputs": [
    {
     "name": "stdout",
     "output_type": "stream",
     "text": [
      "20    1\n",
      "70    1\n",
      "Name: VI_quality, dtype: int64\n",
      "conflict ID =  0\n"
     ]
    }
   ],
   "source": [
    "#copy this text to a new cell to resolve the conflict\n",
    "#vi.loc[vi.TARGETID==unique_targets[conflict_id], 'best redshift'] = 0.0885\n",
    "vi.loc[vi.TARGETID==unique_targets[conflict_id], 'VI_quality'] = 1\n",
    "#vi.loc[vi.TARGETID==unique_targets[conflict_id], 'best spectype'] = 'GALAXY'\n",
    "\n",
    "#add a comment\n",
    "vi.loc[vi.TARGETID==unique_targets[conflict_id], 'merger comment'] = 'disagreement in quality. very low S/N'\n",
    "\n",
    "#look at the values again to make sure all is well\n",
    "#display(vi[vi.TARGETID==unique_targets[conflict_id]])\n",
    "print(vi[vi.TARGETID==unique_targets[conflict_id]]['VI_quality'])\n",
    "print('conflict ID = ', conflict_id)"
   ]
  },
  {
   "cell_type": "code",
   "execution_count": 79,
   "metadata": {},
   "outputs": [
    {
     "data": {
      "text/html": [
       "<div>\n",
       "<style scoped>\n",
       "    .dataframe tbody tr th:only-of-type {\n",
       "        vertical-align: middle;\n",
       "    }\n",
       "\n",
       "    .dataframe tbody tr th {\n",
       "        vertical-align: top;\n",
       "    }\n",
       "\n",
       "    .dataframe thead th {\n",
       "        text-align: right;\n",
       "    }\n",
       "</style>\n",
       "<table border=\"1\" class=\"dataframe\">\n",
       "  <thead>\n",
       "    <tr style=\"text-align: right;\">\n",
       "      <th></th>\n",
       "      <th>TARGETID</th>\n",
       "      <th>Redrock_spectype</th>\n",
       "      <th>Redrock_z</th>\n",
       "      <th>VI_scanner</th>\n",
       "      <th>VI_quality</th>\n",
       "      <th>VI_issue</th>\n",
       "      <th>VI_z</th>\n",
       "      <th>VI_spectype</th>\n",
       "      <th>VI_comment</th>\n",
       "      <th>best redshift</th>\n",
       "      <th>best spectype</th>\n",
       "      <th>vi_combined_flag</th>\n",
       "      <th>vi_diff</th>\n",
       "      <th>vi_combined_z</th>\n",
       "      <th>dz</th>\n",
       "      <th>all VI comments</th>\n",
       "      <th>N_VI</th>\n",
       "      <th>merger comment</th>\n",
       "    </tr>\n",
       "  </thead>\n",
       "  <tbody>\n",
       "    <tr>\n",
       "      <th>21</th>\n",
       "      <td>35191284712869404</td>\n",
       "      <td>GALAXY</td>\n",
       "      <td>0.9042</td>\n",
       "      <td>PNT</td>\n",
       "      <td>4</td>\n",
       "      <td>NaN</td>\n",
       "      <td>0.9042</td>\n",
       "      <td>NaN</td>\n",
       "      <td>--</td>\n",
       "      <td>0.9042</td>\n",
       "      <td>GALAXY</td>\n",
       "      <td>2.5</td>\n",
       "      <td>3</td>\n",
       "      <td>0.9042</td>\n",
       "      <td>0.0</td>\n",
       "      <td>--|--</td>\n",
       "      <td>2</td>\n",
       "      <td>none</td>\n",
       "    </tr>\n",
       "    <tr>\n",
       "      <th>71</th>\n",
       "      <td>35191284712869404</td>\n",
       "      <td>GALAXY</td>\n",
       "      <td>0.9042</td>\n",
       "      <td>KSD</td>\n",
       "      <td>1</td>\n",
       "      <td>NaN</td>\n",
       "      <td>0.9042</td>\n",
       "      <td>NaN</td>\n",
       "      <td>--</td>\n",
       "      <td>0.9042</td>\n",
       "      <td>GALAXY</td>\n",
       "      <td>2.5</td>\n",
       "      <td>3</td>\n",
       "      <td>0.9042</td>\n",
       "      <td>0.0</td>\n",
       "      <td>--|--</td>\n",
       "      <td>2</td>\n",
       "      <td>none</td>\n",
       "    </tr>\n",
       "  </tbody>\n",
       "</table>\n",
       "</div>"
      ],
      "text/plain": [
       "             TARGETID Redrock_spectype  Redrock_z VI_scanner  VI_quality  \\\n",
       "21  35191284712869404           GALAXY     0.9042        PNT           4   \n",
       "71  35191284712869404           GALAXY     0.9042        KSD           1   \n",
       "\n",
       "   VI_issue    VI_z VI_spectype VI_comment  best redshift best spectype  \\\n",
       "21      NaN  0.9042         NaN         --         0.9042        GALAXY   \n",
       "71      NaN  0.9042         NaN         --         0.9042        GALAXY   \n",
       "\n",
       "    vi_combined_flag  vi_diff  vi_combined_z   dz all VI comments  N_VI  \\\n",
       "21               2.5        3         0.9042  0.0           --|--     2   \n",
       "71               2.5        3         0.9042  0.0           --|--     2   \n",
       "\n",
       "   merger comment  \n",
       "21           none  \n",
       "71           none  "
      ]
     },
     "metadata": {},
     "output_type": "display_data"
    }
   ],
   "source": [
    "#copy this text to a new cell to display the conflict\n",
    "conflict_id=1\n",
    "display_conflict(conflict_id, show_spectra=show_spectra)"
   ]
  },
  {
   "cell_type": "code",
   "execution_count": 80,
   "metadata": {},
   "outputs": [
    {
     "name": "stdout",
     "output_type": "stream",
     "text": [
      "conflict ID =  1\n"
     ]
    }
   ],
   "source": [
    "#copy this text to a new cell to resolve the conflict\n",
    "#vi.loc[vi.TARGETID==unique_targets[conflict_id], 'best redshift'] = 0.8101\n",
    "vi.loc[vi.TARGETID==unique_targets[conflict_id], 'VI_quality'] =1\n",
    "#vi.loc[vi.TargetID==unique_targets[conflict_id], 'best spectype'] = \n",
    "\n",
    "#add a comment\n",
    "vi.loc[vi.TARGETID==unique_targets[conflict_id], 'merger comment'] = 'Low S/N. Be conservative'\n",
    "##look at the values again to make sure all is well\n",
    "#display(vi[vi.TARGETID==unique_targets[conflict_id]])\n",
    "#print(vi[vi.TARGETID==unique_targets[conflict_id]]['VI_quality'])\n",
    "print('conflict ID = ', conflict_id)\n",
    "\n"
   ]
  },
  {
   "cell_type": "code",
   "execution_count": 81,
   "metadata": {},
   "outputs": [
    {
     "data": {
      "text/html": [
       "<div>\n",
       "<style scoped>\n",
       "    .dataframe tbody tr th:only-of-type {\n",
       "        vertical-align: middle;\n",
       "    }\n",
       "\n",
       "    .dataframe tbody tr th {\n",
       "        vertical-align: top;\n",
       "    }\n",
       "\n",
       "    .dataframe thead th {\n",
       "        text-align: right;\n",
       "    }\n",
       "</style>\n",
       "<table border=\"1\" class=\"dataframe\">\n",
       "  <thead>\n",
       "    <tr style=\"text-align: right;\">\n",
       "      <th></th>\n",
       "      <th>TARGETID</th>\n",
       "      <th>Redrock_spectype</th>\n",
       "      <th>Redrock_z</th>\n",
       "      <th>VI_scanner</th>\n",
       "      <th>VI_quality</th>\n",
       "      <th>VI_issue</th>\n",
       "      <th>VI_z</th>\n",
       "      <th>VI_spectype</th>\n",
       "      <th>VI_comment</th>\n",
       "      <th>best redshift</th>\n",
       "      <th>best spectype</th>\n",
       "      <th>vi_combined_flag</th>\n",
       "      <th>vi_diff</th>\n",
       "      <th>vi_combined_z</th>\n",
       "      <th>dz</th>\n",
       "      <th>all VI comments</th>\n",
       "      <th>N_VI</th>\n",
       "      <th>merger comment</th>\n",
       "    </tr>\n",
       "  </thead>\n",
       "  <tbody>\n",
       "    <tr>\n",
       "      <th>39</th>\n",
       "      <td>35191284717062295</td>\n",
       "      <td>GALAXY</td>\n",
       "      <td>0.7809</td>\n",
       "      <td>PNT</td>\n",
       "      <td>4</td>\n",
       "      <td>NaN</td>\n",
       "      <td>0.7809</td>\n",
       "      <td>GALAXY</td>\n",
       "      <td>--</td>\n",
       "      <td>0.7809</td>\n",
       "      <td>GALAXY</td>\n",
       "      <td>3.0</td>\n",
       "      <td>2</td>\n",
       "      <td>0.7809</td>\n",
       "      <td>0.0</td>\n",
       "      <td>--|--</td>\n",
       "      <td>2</td>\n",
       "      <td>none</td>\n",
       "    </tr>\n",
       "    <tr>\n",
       "      <th>89</th>\n",
       "      <td>35191284717062295</td>\n",
       "      <td>GALAXY</td>\n",
       "      <td>0.7809</td>\n",
       "      <td>KSD</td>\n",
       "      <td>2</td>\n",
       "      <td>NaN</td>\n",
       "      <td>0.7809</td>\n",
       "      <td>GALAXY</td>\n",
       "      <td>--</td>\n",
       "      <td>0.7809</td>\n",
       "      <td>GALAXY</td>\n",
       "      <td>3.0</td>\n",
       "      <td>2</td>\n",
       "      <td>0.7809</td>\n",
       "      <td>0.0</td>\n",
       "      <td>--|--</td>\n",
       "      <td>2</td>\n",
       "      <td>none</td>\n",
       "    </tr>\n",
       "  </tbody>\n",
       "</table>\n",
       "</div>"
      ],
      "text/plain": [
       "             TARGETID Redrock_spectype  Redrock_z VI_scanner  VI_quality  \\\n",
       "39  35191284717062295           GALAXY     0.7809        PNT           4   \n",
       "89  35191284717062295           GALAXY     0.7809        KSD           2   \n",
       "\n",
       "   VI_issue    VI_z VI_spectype VI_comment  best redshift best spectype  \\\n",
       "39      NaN  0.7809      GALAXY         --         0.7809        GALAXY   \n",
       "89      NaN  0.7809      GALAXY         --         0.7809        GALAXY   \n",
       "\n",
       "    vi_combined_flag  vi_diff  vi_combined_z   dz all VI comments  N_VI  \\\n",
       "39               3.0        2         0.7809  0.0           --|--     2   \n",
       "89               3.0        2         0.7809  0.0           --|--     2   \n",
       "\n",
       "   merger comment  \n",
       "39           none  \n",
       "89           none  "
      ]
     },
     "metadata": {},
     "output_type": "display_data"
    }
   ],
   "source": [
    "#copy this text to a new cell to display the conflict\n",
    "conflict_id=2\n",
    "display_conflict(conflict_id, show_spectra=show_spectra)"
   ]
  },
  {
   "cell_type": "code",
   "execution_count": 82,
   "metadata": {},
   "outputs": [
    {
     "name": "stdout",
     "output_type": "stream",
     "text": [
      "conflict ID =  2\n"
     ]
    }
   ],
   "source": [
    "#copy this text to a new cell to resolve the conflict\n",
    "#vi.loc[vi.TARGETID==unique_targets[conflict_id], 'best redshift'] = 0.2320\n",
    "vi.loc[vi.TARGETID==unique_targets[conflict_id], 'VI_quality'] = 2\n",
    "#vi.loc[vi.TargetID==unique_targets[conflict_id], 'best spectype'] = \n",
    "\n",
    "#add a comment\n",
    "vi.loc[vi.TARGETID==unique_targets[conflict_id], 'merger comment'] = 'disagreement in quality. Absorption lines may be robust. But be conservative'\n",
    "\n",
    "#look at the values again to make sure all is well\n",
    "#display(vi[vi.TARGETID==unique_targets[conflict_id]])\n",
    "print('conflict ID = ', conflict_id)\n"
   ]
  },
  {
   "cell_type": "code",
   "execution_count": 83,
   "metadata": {},
   "outputs": [
    {
     "data": {
      "text/html": [
       "<div>\n",
       "<style scoped>\n",
       "    .dataframe tbody tr th:only-of-type {\n",
       "        vertical-align: middle;\n",
       "    }\n",
       "\n",
       "    .dataframe tbody tr th {\n",
       "        vertical-align: top;\n",
       "    }\n",
       "\n",
       "    .dataframe thead th {\n",
       "        text-align: right;\n",
       "    }\n",
       "</style>\n",
       "<table border=\"1\" class=\"dataframe\">\n",
       "  <thead>\n",
       "    <tr style=\"text-align: right;\">\n",
       "      <th></th>\n",
       "      <th>TARGETID</th>\n",
       "      <th>Redrock_spectype</th>\n",
       "      <th>Redrock_z</th>\n",
       "      <th>VI_scanner</th>\n",
       "      <th>VI_quality</th>\n",
       "      <th>VI_issue</th>\n",
       "      <th>VI_z</th>\n",
       "      <th>VI_spectype</th>\n",
       "      <th>VI_comment</th>\n",
       "      <th>best redshift</th>\n",
       "      <th>best spectype</th>\n",
       "      <th>vi_combined_flag</th>\n",
       "      <th>vi_diff</th>\n",
       "      <th>vi_combined_z</th>\n",
       "      <th>dz</th>\n",
       "      <th>all VI comments</th>\n",
       "      <th>N_VI</th>\n",
       "      <th>merger comment</th>\n",
       "    </tr>\n",
       "  </thead>\n",
       "  <tbody>\n",
       "    <tr>\n",
       "      <th>41</th>\n",
       "      <td>35191284717063245</td>\n",
       "      <td>GALAXY</td>\n",
       "      <td>0.623</td>\n",
       "      <td>PNT</td>\n",
       "      <td>4</td>\n",
       "      <td>NaN</td>\n",
       "      <td>0.623</td>\n",
       "      <td>NaN</td>\n",
       "      <td>--</td>\n",
       "      <td>0.623</td>\n",
       "      <td>GALAXY</td>\n",
       "      <td>3.0</td>\n",
       "      <td>2</td>\n",
       "      <td>0.623</td>\n",
       "      <td>0.0</td>\n",
       "      <td>--|--</td>\n",
       "      <td>2</td>\n",
       "      <td>none</td>\n",
       "    </tr>\n",
       "    <tr>\n",
       "      <th>91</th>\n",
       "      <td>35191284717063245</td>\n",
       "      <td>GALAXY</td>\n",
       "      <td>0.623</td>\n",
       "      <td>KSD</td>\n",
       "      <td>2</td>\n",
       "      <td>NaN</td>\n",
       "      <td>0.623</td>\n",
       "      <td>NaN</td>\n",
       "      <td>--</td>\n",
       "      <td>0.623</td>\n",
       "      <td>GALAXY</td>\n",
       "      <td>3.0</td>\n",
       "      <td>2</td>\n",
       "      <td>0.623</td>\n",
       "      <td>0.0</td>\n",
       "      <td>--|--</td>\n",
       "      <td>2</td>\n",
       "      <td>none</td>\n",
       "    </tr>\n",
       "  </tbody>\n",
       "</table>\n",
       "</div>"
      ],
      "text/plain": [
       "             TARGETID Redrock_spectype  Redrock_z VI_scanner  VI_quality  \\\n",
       "41  35191284717063245           GALAXY      0.623        PNT           4   \n",
       "91  35191284717063245           GALAXY      0.623        KSD           2   \n",
       "\n",
       "   VI_issue   VI_z VI_spectype VI_comment  best redshift best spectype  \\\n",
       "41      NaN  0.623         NaN         --          0.623        GALAXY   \n",
       "91      NaN  0.623         NaN         --          0.623        GALAXY   \n",
       "\n",
       "    vi_combined_flag  vi_diff  vi_combined_z   dz all VI comments  N_VI  \\\n",
       "41               3.0        2          0.623  0.0           --|--     2   \n",
       "91               3.0        2          0.623  0.0           --|--     2   \n",
       "\n",
       "   merger comment  \n",
       "41           none  \n",
       "91           none  "
      ]
     },
     "metadata": {},
     "output_type": "display_data"
    }
   ],
   "source": [
    "#copy this text to a new cell to display the conflict\n",
    "conflict_id=3\n",
    "display_conflict(conflict_id, show_spectra=show_spectra)\n"
   ]
  },
  {
   "cell_type": "code",
   "execution_count": 84,
   "metadata": {},
   "outputs": [
    {
     "name": "stdout",
     "output_type": "stream",
     "text": [
      "conflict ID =  3\n"
     ]
    }
   ],
   "source": [
    "#copy this text to a new cell to resolve the conflict\n",
    "#vi.loc[vi.TargetID==unique_targets[conflict_id], 'best redshift'] = 0.5128\n",
    "vi.loc[vi.TARGETID==unique_targets[conflict_id], 'VI_quality'] = 4\n",
    "#vi.loc[vi.TargetID==unique_targets[conflict_id], 'best spectype'] = 'GALAXY' \n",
    "\n",
    "#add a comment\n",
    "vi.loc[vi.TARGETID==unique_targets[conflict_id], 'merger comment'] = 'disagreement in quality. Redshift should be robust'\n",
    "\n",
    "#look at the values again to make sure all is well\n",
    "#display(vi[vi.TARGETID==unique_targets[conflict_id]])\n",
    "#print(vi[vi.TARGETID==unique_targets[conflict_id]]['VI_quality'])\n",
    "print('conflict ID = ', conflict_id)\n"
   ]
  },
  {
   "cell_type": "code",
   "execution_count": 85,
   "metadata": {},
   "outputs": [
    {
     "data": {
      "text/html": [
       "<div>\n",
       "<style scoped>\n",
       "    .dataframe tbody tr th:only-of-type {\n",
       "        vertical-align: middle;\n",
       "    }\n",
       "\n",
       "    .dataframe tbody tr th {\n",
       "        vertical-align: top;\n",
       "    }\n",
       "\n",
       "    .dataframe thead th {\n",
       "        text-align: right;\n",
       "    }\n",
       "</style>\n",
       "<table border=\"1\" class=\"dataframe\">\n",
       "  <thead>\n",
       "    <tr style=\"text-align: right;\">\n",
       "      <th></th>\n",
       "      <th>TARGETID</th>\n",
       "      <th>Redrock_spectype</th>\n",
       "      <th>Redrock_z</th>\n",
       "      <th>VI_scanner</th>\n",
       "      <th>VI_quality</th>\n",
       "      <th>VI_issue</th>\n",
       "      <th>VI_z</th>\n",
       "      <th>VI_spectype</th>\n",
       "      <th>VI_comment</th>\n",
       "      <th>best redshift</th>\n",
       "      <th>best spectype</th>\n",
       "      <th>vi_combined_flag</th>\n",
       "      <th>vi_diff</th>\n",
       "      <th>vi_combined_z</th>\n",
       "      <th>dz</th>\n",
       "      <th>all VI comments</th>\n",
       "      <th>N_VI</th>\n",
       "      <th>merger comment</th>\n",
       "    </tr>\n",
       "  </thead>\n",
       "  <tbody>\n",
       "    <tr>\n",
       "      <th>49</th>\n",
       "      <td>35191284729645604</td>\n",
       "      <td>GALAXY</td>\n",
       "      <td>1.6427</td>\n",
       "      <td>PNT</td>\n",
       "      <td>2</td>\n",
       "      <td>S</td>\n",
       "      <td>1.6427</td>\n",
       "      <td>NaN</td>\n",
       "      <td>low SNR Mg II is resolved and detected as an a...</td>\n",
       "      <td>1.6427</td>\n",
       "      <td>GALAXY</td>\n",
       "      <td>2.5</td>\n",
       "      <td>1</td>\n",
       "      <td>1.6427</td>\n",
       "      <td>0.374473</td>\n",
       "      <td>low SNR Mg II is resolved and detected as an a...</td>\n",
       "      <td>2</td>\n",
       "      <td>none</td>\n",
       "    </tr>\n",
       "    <tr>\n",
       "      <th>99</th>\n",
       "      <td>35191284729645604</td>\n",
       "      <td>GALAXY</td>\n",
       "      <td>1.6427</td>\n",
       "      <td>KSD</td>\n",
       "      <td>3</td>\n",
       "      <td>S</td>\n",
       "      <td>0.9227</td>\n",
       "      <td>NaN</td>\n",
       "      <td>break around 6650</td>\n",
       "      <td>0.9227</td>\n",
       "      <td>GALAXY</td>\n",
       "      <td>2.5</td>\n",
       "      <td>1</td>\n",
       "      <td>1.6427</td>\n",
       "      <td>0.374473</td>\n",
       "      <td>low SNR Mg II is resolved and detected as an a...</td>\n",
       "      <td>2</td>\n",
       "      <td>none</td>\n",
       "    </tr>\n",
       "  </tbody>\n",
       "</table>\n",
       "</div>"
      ],
      "text/plain": [
       "             TARGETID Redrock_spectype  Redrock_z VI_scanner  VI_quality  \\\n",
       "49  35191284729645604           GALAXY     1.6427        PNT           2   \n",
       "99  35191284729645604           GALAXY     1.6427        KSD           3   \n",
       "\n",
       "   VI_issue    VI_z VI_spectype  \\\n",
       "49        S  1.6427         NaN   \n",
       "99        S  0.9227         NaN   \n",
       "\n",
       "                                           VI_comment  best redshift  \\\n",
       "49  low SNR Mg II is resolved and detected as an a...         1.6427   \n",
       "99                                  break around 6650         0.9227   \n",
       "\n",
       "   best spectype  vi_combined_flag  vi_diff  vi_combined_z        dz  \\\n",
       "49        GALAXY               2.5        1         1.6427  0.374473   \n",
       "99        GALAXY               2.5        1         1.6427  0.374473   \n",
       "\n",
       "                                      all VI comments  N_VI merger comment  \n",
       "49  low SNR Mg II is resolved and detected as an a...     2           none  \n",
       "99  low SNR Mg II is resolved and detected as an a...     2           none  "
      ]
     },
     "metadata": {},
     "output_type": "display_data"
    }
   ],
   "source": [
    "#copy this text to a new cell to display the conflict\n",
    "conflict_id=4\n",
    "display_conflict(conflict_id, show_spectra=show_spectra)\n"
   ]
  },
  {
   "cell_type": "code",
   "execution_count": 86,
   "metadata": {},
   "outputs": [
    {
     "name": "stdout",
     "output_type": "stream",
     "text": [
      "conflict ID =  4\n"
     ]
    }
   ],
   "source": [
    "#copy this text to a new cell to resolve the conflict\n",
    "vi.loc[vi.TARGETID==unique_targets[conflict_id], 'best redshift'] = 0.9227\n",
    "vi.loc[vi.TARGETID==unique_targets[conflict_id], 'VI_quality'] = 4\n",
    "#vi.loc[vi.TargetID==unique_targets[conflict_id], 'best spectype'] = \n",
    "\n",
    "#add a comment\n",
    "vi.loc[vi.TARGETID==unique_targets[conflict_id], 'merger comment'] = 'Bad calibration. Redshift is robust.'\n",
    "#look at the values again to make sure all is well\n",
    "#display(vi[vi.TARGETID==unique_targets[conflict_id]])\n",
    "#print(vi[vi.TARGETID==unique_targets[conflict_id]]['VI_quality'])\n",
    "print('conflict ID = ', conflict_id)"
   ]
  },
  {
   "cell_type": "code",
   "execution_count": 87,
   "metadata": {},
   "outputs": [
    {
     "data": {
      "text/html": [
       "<div>\n",
       "<style scoped>\n",
       "    .dataframe tbody tr th:only-of-type {\n",
       "        vertical-align: middle;\n",
       "    }\n",
       "\n",
       "    .dataframe tbody tr th {\n",
       "        vertical-align: top;\n",
       "    }\n",
       "\n",
       "    .dataframe thead th {\n",
       "        text-align: right;\n",
       "    }\n",
       "</style>\n",
       "<table border=\"1\" class=\"dataframe\">\n",
       "  <thead>\n",
       "    <tr style=\"text-align: right;\">\n",
       "      <th></th>\n",
       "      <th>TARGETID</th>\n",
       "      <th>Redrock_spectype</th>\n",
       "      <th>Redrock_z</th>\n",
       "      <th>VI_scanner</th>\n",
       "      <th>VI_quality</th>\n",
       "      <th>VI_issue</th>\n",
       "      <th>VI_z</th>\n",
       "      <th>VI_spectype</th>\n",
       "      <th>VI_comment</th>\n",
       "      <th>best redshift</th>\n",
       "      <th>best spectype</th>\n",
       "      <th>vi_combined_flag</th>\n",
       "      <th>vi_diff</th>\n",
       "      <th>vi_combined_z</th>\n",
       "      <th>dz</th>\n",
       "      <th>all VI comments</th>\n",
       "      <th>N_VI</th>\n",
       "      <th>merger comment</th>\n",
       "    </tr>\n",
       "  </thead>\n",
       "  <tbody>\n",
       "    <tr>\n",
       "      <th>5</th>\n",
       "      <td>35191288219305221</td>\n",
       "      <td>GALAXY</td>\n",
       "      <td>1.043</td>\n",
       "      <td>PNT</td>\n",
       "      <td>4</td>\n",
       "      <td>NaN</td>\n",
       "      <td>1.0430</td>\n",
       "      <td>NaN</td>\n",
       "      <td>--</td>\n",
       "      <td>1.0430</td>\n",
       "      <td>GALAXY</td>\n",
       "      <td>3.0</td>\n",
       "      <td>2</td>\n",
       "      <td>1.043</td>\n",
       "      <td>0.059537</td>\n",
       "      <td>--|artifact mistaken for OII</td>\n",
       "      <td>2</td>\n",
       "      <td>none</td>\n",
       "    </tr>\n",
       "    <tr>\n",
       "      <th>55</th>\n",
       "      <td>35191288219305221</td>\n",
       "      <td>GALAXY</td>\n",
       "      <td>1.043</td>\n",
       "      <td>KSD</td>\n",
       "      <td>2</td>\n",
       "      <td>R</td>\n",
       "      <td>0.9282</td>\n",
       "      <td>NaN</td>\n",
       "      <td>artifact mistaken for OII</td>\n",
       "      <td>0.9282</td>\n",
       "      <td>GALAXY</td>\n",
       "      <td>3.0</td>\n",
       "      <td>2</td>\n",
       "      <td>1.043</td>\n",
       "      <td>0.059537</td>\n",
       "      <td>--|artifact mistaken for OII</td>\n",
       "      <td>2</td>\n",
       "      <td>none</td>\n",
       "    </tr>\n",
       "  </tbody>\n",
       "</table>\n",
       "</div>"
      ],
      "text/plain": [
       "             TARGETID Redrock_spectype  Redrock_z VI_scanner  VI_quality  \\\n",
       "5   35191288219305221           GALAXY      1.043        PNT           4   \n",
       "55  35191288219305221           GALAXY      1.043        KSD           2   \n",
       "\n",
       "   VI_issue    VI_z VI_spectype                 VI_comment  best redshift  \\\n",
       "5       NaN  1.0430         NaN                         --         1.0430   \n",
       "55        R  0.9282         NaN  artifact mistaken for OII         0.9282   \n",
       "\n",
       "   best spectype  vi_combined_flag  vi_diff  vi_combined_z        dz  \\\n",
       "5         GALAXY               3.0        2          1.043  0.059537   \n",
       "55        GALAXY               3.0        2          1.043  0.059537   \n",
       "\n",
       "                 all VI comments  N_VI merger comment  \n",
       "5   --|artifact mistaken for OII     2           none  \n",
       "55  --|artifact mistaken for OII     2           none  "
      ]
     },
     "metadata": {},
     "output_type": "display_data"
    }
   ],
   "source": [
    "#copy this text to a new cell to display the conflict\n",
    "conflict_id=5\n",
    "display_conflict(conflict_id, show_spectra=show_spectra)"
   ]
  },
  {
   "cell_type": "code",
   "execution_count": 88,
   "metadata": {},
   "outputs": [
    {
     "name": "stdout",
     "output_type": "stream",
     "text": [
      "conflict ID =  5\n"
     ]
    }
   ],
   "source": [
    "#copy this text to a new cell to resolve the conflict\n",
    "vi.loc[vi.TARGETID==unique_targets[conflict_id], 'best redshift'] = 0.9282\n",
    "vi.loc[vi.TARGETID==unique_targets[conflict_id], 'VI_quality'] = 2\n",
    "#vi.loc[vi.TARGETID==unique_targets[conflict_id], 'best spectype'] = 'GALAXY'\n",
    "\n",
    "#add a comment\n",
    "vi.loc[vi.TARGETID==unique_targets[conflict_id], 'merger comment'] = 'disagreement in flag. Possible CaII on bad spectral region. Be conservative'\n",
    "\n",
    "#look at the values again to make sure all is well\n",
    "#display(vi[vi.TARGETID==unique_targets[conflict_id]])\n",
    "print('conflict ID = ', conflict_id)\n",
    "\n"
   ]
  },
  {
   "cell_type": "code",
   "execution_count": 89,
   "metadata": {},
   "outputs": [
    {
     "data": {
      "text/html": [
       "<div>\n",
       "<style scoped>\n",
       "    .dataframe tbody tr th:only-of-type {\n",
       "        vertical-align: middle;\n",
       "    }\n",
       "\n",
       "    .dataframe tbody tr th {\n",
       "        vertical-align: top;\n",
       "    }\n",
       "\n",
       "    .dataframe thead th {\n",
       "        text-align: right;\n",
       "    }\n",
       "</style>\n",
       "<table border=\"1\" class=\"dataframe\">\n",
       "  <thead>\n",
       "    <tr style=\"text-align: right;\">\n",
       "      <th></th>\n",
       "      <th>TARGETID</th>\n",
       "      <th>Redrock_spectype</th>\n",
       "      <th>Redrock_z</th>\n",
       "      <th>VI_scanner</th>\n",
       "      <th>VI_quality</th>\n",
       "      <th>VI_issue</th>\n",
       "      <th>VI_z</th>\n",
       "      <th>VI_spectype</th>\n",
       "      <th>VI_comment</th>\n",
       "      <th>best redshift</th>\n",
       "      <th>best spectype</th>\n",
       "      <th>vi_combined_flag</th>\n",
       "      <th>vi_diff</th>\n",
       "      <th>vi_combined_z</th>\n",
       "      <th>dz</th>\n",
       "      <th>all VI comments</th>\n",
       "      <th>N_VI</th>\n",
       "      <th>merger comment</th>\n",
       "    </tr>\n",
       "  </thead>\n",
       "  <tbody>\n",
       "    <tr>\n",
       "      <th>106</th>\n",
       "      <td>35191288240276813</td>\n",
       "      <td>GALAXY</td>\n",
       "      <td>0.5651</td>\n",
       "      <td>PNT</td>\n",
       "      <td>4</td>\n",
       "      <td>NaN</td>\n",
       "      <td>0.5651</td>\n",
       "      <td>NaN</td>\n",
       "      <td>--</td>\n",
       "      <td>0.5651</td>\n",
       "      <td>GALAXY</td>\n",
       "      <td>3.0</td>\n",
       "      <td>2</td>\n",
       "      <td>0.5651</td>\n",
       "      <td>0.0</td>\n",
       "      <td>--|--</td>\n",
       "      <td>2</td>\n",
       "      <td>none</td>\n",
       "    </tr>\n",
       "    <tr>\n",
       "      <th>156</th>\n",
       "      <td>35191288240276813</td>\n",
       "      <td>GALAXY</td>\n",
       "      <td>0.5651</td>\n",
       "      <td>KSD</td>\n",
       "      <td>2</td>\n",
       "      <td>NaN</td>\n",
       "      <td>0.5651</td>\n",
       "      <td>NaN</td>\n",
       "      <td>--</td>\n",
       "      <td>0.5651</td>\n",
       "      <td>GALAXY</td>\n",
       "      <td>3.0</td>\n",
       "      <td>2</td>\n",
       "      <td>0.5651</td>\n",
       "      <td>0.0</td>\n",
       "      <td>--|--</td>\n",
       "      <td>2</td>\n",
       "      <td>none</td>\n",
       "    </tr>\n",
       "  </tbody>\n",
       "</table>\n",
       "</div>"
      ],
      "text/plain": [
       "              TARGETID Redrock_spectype  Redrock_z VI_scanner  VI_quality  \\\n",
       "106  35191288240276813           GALAXY     0.5651        PNT           4   \n",
       "156  35191288240276813           GALAXY     0.5651        KSD           2   \n",
       "\n",
       "    VI_issue    VI_z VI_spectype VI_comment  best redshift best spectype  \\\n",
       "106      NaN  0.5651         NaN         --         0.5651        GALAXY   \n",
       "156      NaN  0.5651         NaN         --         0.5651        GALAXY   \n",
       "\n",
       "     vi_combined_flag  vi_diff  vi_combined_z   dz all VI comments  N_VI  \\\n",
       "106               3.0        2         0.5651  0.0           --|--     2   \n",
       "156               3.0        2         0.5651  0.0           --|--     2   \n",
       "\n",
       "    merger comment  \n",
       "106           none  \n",
       "156           none  "
      ]
     },
     "metadata": {},
     "output_type": "display_data"
    }
   ],
   "source": [
    "#copy this text to a new cell to display the conflict\n",
    "conflict_id=6\n",
    "display_conflict(conflict_id, show_spectra=show_spectra)\n"
   ]
  },
  {
   "cell_type": "code",
   "execution_count": 90,
   "metadata": {},
   "outputs": [
    {
     "name": "stdout",
     "output_type": "stream",
     "text": [
      "conflict ID =  6\n"
     ]
    }
   ],
   "source": [
    "#copy this text to a new cell to resolve the conflict\n",
    "#vi.loc[vi.TARGETID==unique_targets[conflict_id], 'best redshift'] = 1.5\n",
    "vi.loc[vi.TARGETID==unique_targets[conflict_id], 'VI_quality'] = 3\n",
    "vi.loc[vi.TARGETID==unique_targets[conflict_id], 'best spectype'] = 'GALAXY'\n",
    "\n",
    "#add a comment\n",
    "vi.loc[vi.TARGETID==unique_targets[conflict_id], 'merger comment'] = 'Redshift is robust. CaII and NaD'\n",
    "\n",
    "#look at the values again to make sure all is well\n",
    "#display(vi[vi.TARGETID==unique_targets[conflict_id]])\n",
    "print('conflict ID = ', conflict_id)\n"
   ]
  },
  {
   "cell_type": "code",
   "execution_count": 91,
   "metadata": {},
   "outputs": [
    {
     "data": {
      "text/html": [
       "<div>\n",
       "<style scoped>\n",
       "    .dataframe tbody tr th:only-of-type {\n",
       "        vertical-align: middle;\n",
       "    }\n",
       "\n",
       "    .dataframe tbody tr th {\n",
       "        vertical-align: top;\n",
       "    }\n",
       "\n",
       "    .dataframe thead th {\n",
       "        text-align: right;\n",
       "    }\n",
       "</style>\n",
       "<table border=\"1\" class=\"dataframe\">\n",
       "  <thead>\n",
       "    <tr style=\"text-align: right;\">\n",
       "      <th></th>\n",
       "      <th>TARGETID</th>\n",
       "      <th>Redrock_spectype</th>\n",
       "      <th>Redrock_z</th>\n",
       "      <th>VI_scanner</th>\n",
       "      <th>VI_quality</th>\n",
       "      <th>VI_issue</th>\n",
       "      <th>VI_z</th>\n",
       "      <th>VI_spectype</th>\n",
       "      <th>VI_comment</th>\n",
       "      <th>best redshift</th>\n",
       "      <th>best spectype</th>\n",
       "      <th>vi_combined_flag</th>\n",
       "      <th>vi_diff</th>\n",
       "      <th>vi_combined_z</th>\n",
       "      <th>dz</th>\n",
       "      <th>all VI comments</th>\n",
       "      <th>N_VI</th>\n",
       "      <th>merger comment</th>\n",
       "    </tr>\n",
       "  </thead>\n",
       "  <tbody>\n",
       "    <tr>\n",
       "      <th>116</th>\n",
       "      <td>35191291742519598</td>\n",
       "      <td>GALAXY</td>\n",
       "      <td>1.6991</td>\n",
       "      <td>PNT</td>\n",
       "      <td>3</td>\n",
       "      <td>S</td>\n",
       "      <td>1.6991</td>\n",
       "      <td>NaN</td>\n",
       "      <td>bad resolution Bad subtraction at lambda=8600A...</td>\n",
       "      <td>1.6991</td>\n",
       "      <td>GALAXY</td>\n",
       "      <td>2.0</td>\n",
       "      <td>2</td>\n",
       "      <td>1.6991</td>\n",
       "      <td>0.682206</td>\n",
       "      <td>bad resolution Bad subtraction at lambda=8600A...</td>\n",
       "      <td>2</td>\n",
       "      <td>none</td>\n",
       "    </tr>\n",
       "    <tr>\n",
       "      <th>166</th>\n",
       "      <td>35191291742519598</td>\n",
       "      <td>GALAXY</td>\n",
       "      <td>1.6991</td>\n",
       "      <td>KSD</td>\n",
       "      <td>1</td>\n",
       "      <td>S</td>\n",
       "      <td>0.6045</td>\n",
       "      <td>NaN</td>\n",
       "      <td>--</td>\n",
       "      <td>0.6045</td>\n",
       "      <td>GALAXY</td>\n",
       "      <td>2.0</td>\n",
       "      <td>2</td>\n",
       "      <td>1.6991</td>\n",
       "      <td>0.682206</td>\n",
       "      <td>bad resolution Bad subtraction at lambda=8600A...</td>\n",
       "      <td>2</td>\n",
       "      <td>none</td>\n",
       "    </tr>\n",
       "  </tbody>\n",
       "</table>\n",
       "</div>"
      ],
      "text/plain": [
       "              TARGETID Redrock_spectype  Redrock_z VI_scanner  VI_quality  \\\n",
       "116  35191291742519598           GALAXY     1.6991        PNT           3   \n",
       "166  35191291742519598           GALAXY     1.6991        KSD           1   \n",
       "\n",
       "    VI_issue    VI_z VI_spectype  \\\n",
       "116        S  1.6991         NaN   \n",
       "166        S  0.6045         NaN   \n",
       "\n",
       "                                            VI_comment  best redshift  \\\n",
       "116  bad resolution Bad subtraction at lambda=8600A...         1.6991   \n",
       "166                                                 --         0.6045   \n",
       "\n",
       "    best spectype  vi_combined_flag  vi_diff  vi_combined_z        dz  \\\n",
       "116        GALAXY               2.0        2         1.6991  0.682206   \n",
       "166        GALAXY               2.0        2         1.6991  0.682206   \n",
       "\n",
       "                                       all VI comments  N_VI merger comment  \n",
       "116  bad resolution Bad subtraction at lambda=8600A...     2           none  \n",
       "166  bad resolution Bad subtraction at lambda=8600A...     2           none  "
      ]
     },
     "metadata": {},
     "output_type": "display_data"
    }
   ],
   "source": [
    "#copy this text to a new cell to display the conflict\n",
    "conflict_id=7\n",
    "display_conflict(conflict_id, show_spectra=show_spectra)"
   ]
  },
  {
   "cell_type": "code",
   "execution_count": 92,
   "metadata": {},
   "outputs": [
    {
     "name": "stdout",
     "output_type": "stream",
     "text": [
      "conflict ID =  7\n"
     ]
    }
   ],
   "source": [
    "#copy this text to a new cell to resolve the conflict\n",
    "vi.loc[vi.TARGETID==unique_targets[conflict_id], 'best redshift'] = 0.6045\n",
    "vi.loc[vi.TARGETID==unique_targets[conflict_id], 'VI_quality'] = 1\n",
    "#vi.loc[vi.TargetID==unique_targets[conflict_id], 'best spectype'] = 'GALAXY'\n",
    "\n",
    "#add a comment\n",
    "vi.loc[vi.TARGETID==unique_targets[conflict_id], 'merger comment'] = 'Bad calibration around 8600 A. Redshift is not secure.'\n",
    "\n",
    "#look at the values again to make sure all is well\n",
    "#display(vi[vi.TARGETID==unique_targets[conflict_id]])\n",
    "print('conflict ID = ', conflict_id)\n"
   ]
  },
  {
   "cell_type": "code",
   "execution_count": 93,
   "metadata": {},
   "outputs": [
    {
     "data": {
      "text/html": [
       "<div>\n",
       "<style scoped>\n",
       "    .dataframe tbody tr th:only-of-type {\n",
       "        vertical-align: middle;\n",
       "    }\n",
       "\n",
       "    .dataframe tbody tr th {\n",
       "        vertical-align: top;\n",
       "    }\n",
       "\n",
       "    .dataframe thead th {\n",
       "        text-align: right;\n",
       "    }\n",
       "</style>\n",
       "<table border=\"1\" class=\"dataframe\">\n",
       "  <thead>\n",
       "    <tr style=\"text-align: right;\">\n",
       "      <th></th>\n",
       "      <th>TARGETID</th>\n",
       "      <th>Redrock_spectype</th>\n",
       "      <th>Redrock_z</th>\n",
       "      <th>VI_scanner</th>\n",
       "      <th>VI_quality</th>\n",
       "      <th>VI_issue</th>\n",
       "      <th>VI_z</th>\n",
       "      <th>VI_spectype</th>\n",
       "      <th>VI_comment</th>\n",
       "      <th>best redshift</th>\n",
       "      <th>best spectype</th>\n",
       "      <th>vi_combined_flag</th>\n",
       "      <th>vi_diff</th>\n",
       "      <th>vi_combined_z</th>\n",
       "      <th>dz</th>\n",
       "      <th>all VI comments</th>\n",
       "      <th>N_VI</th>\n",
       "      <th>merger comment</th>\n",
       "    </tr>\n",
       "  </thead>\n",
       "  <tbody>\n",
       "    <tr>\n",
       "      <th>128</th>\n",
       "      <td>35191291746717610</td>\n",
       "      <td>GALAXY</td>\n",
       "      <td>1.3058</td>\n",
       "      <td>PNT</td>\n",
       "      <td>3</td>\n",
       "      <td>RS</td>\n",
       "      <td>1.0000</td>\n",
       "      <td>NaN</td>\n",
       "      <td>Bad subtraction at lambda=8600A Splash in uppe...</td>\n",
       "      <td>1.0000</td>\n",
       "      <td>GALAXY</td>\n",
       "      <td>2.5</td>\n",
       "      <td>1</td>\n",
       "      <td>1.3058</td>\n",
       "      <td>0.0929</td>\n",
       "      <td>Bad subtraction at lambda=8600A Splash in uppe...</td>\n",
       "      <td>2</td>\n",
       "      <td>none</td>\n",
       "    </tr>\n",
       "    <tr>\n",
       "      <th>178</th>\n",
       "      <td>35191291746717610</td>\n",
       "      <td>GALAXY</td>\n",
       "      <td>1.3058</td>\n",
       "      <td>KSD</td>\n",
       "      <td>2</td>\n",
       "      <td>R</td>\n",
       "      <td>1.1858</td>\n",
       "      <td>NaN</td>\n",
       "      <td>negative OII line</td>\n",
       "      <td>1.1858</td>\n",
       "      <td>GALAXY</td>\n",
       "      <td>2.5</td>\n",
       "      <td>1</td>\n",
       "      <td>1.3058</td>\n",
       "      <td>0.0929</td>\n",
       "      <td>Bad subtraction at lambda=8600A Splash in uppe...</td>\n",
       "      <td>2</td>\n",
       "      <td>none</td>\n",
       "    </tr>\n",
       "  </tbody>\n",
       "</table>\n",
       "</div>"
      ],
      "text/plain": [
       "              TARGETID Redrock_spectype  Redrock_z VI_scanner  VI_quality  \\\n",
       "128  35191291746717610           GALAXY     1.3058        PNT           3   \n",
       "178  35191291746717610           GALAXY     1.3058        KSD           2   \n",
       "\n",
       "    VI_issue    VI_z VI_spectype  \\\n",
       "128       RS  1.0000         NaN   \n",
       "178        R  1.1858         NaN   \n",
       "\n",
       "                                            VI_comment  best redshift  \\\n",
       "128  Bad subtraction at lambda=8600A Splash in uppe...         1.0000   \n",
       "178                                  negative OII line         1.1858   \n",
       "\n",
       "    best spectype  vi_combined_flag  vi_diff  vi_combined_z      dz  \\\n",
       "128        GALAXY               2.5        1         1.3058  0.0929   \n",
       "178        GALAXY               2.5        1         1.3058  0.0929   \n",
       "\n",
       "                                       all VI comments  N_VI merger comment  \n",
       "128  Bad subtraction at lambda=8600A Splash in uppe...     2           none  \n",
       "178  Bad subtraction at lambda=8600A Splash in uppe...     2           none  "
      ]
     },
     "metadata": {},
     "output_type": "display_data"
    }
   ],
   "source": [
    "#copy this text to a new cell to display the conflict\n",
    "conflict_id=8\n",
    "display_conflict(conflict_id, show_spectra=show_spectra)\n"
   ]
  },
  {
   "cell_type": "code",
   "execution_count": 94,
   "metadata": {},
   "outputs": [
    {
     "name": "stdout",
     "output_type": "stream",
     "text": [
      "conflict ID =  8\n"
     ]
    }
   ],
   "source": [
    "#copy this text to a new cell to resolve the conflict\n",
    "vi.loc[vi.TARGETID==unique_targets[conflict_id], 'best redshift'] = 1.1858\n",
    "vi.loc[vi.TARGETID==unique_targets[conflict_id], 'VI_quality'] = 1\n",
    "#vi.loc[vi.TargetID==unique_targets[conflict_id], 'best spectype'] = \n",
    "\n",
    "#add a comment\n",
    "vi.loc[vi.TARGETID==unique_targets[conflict_id], 'merger comment'] = \"Bad calibration at 8600 A. Redshift is not secure.\"\n",
    "\n",
    "#look at the values again to make sure all is well\n",
    "#display(vi[vi.TARGETID==unique_targets[conflict_id]])\n",
    "print('conflict ID = ', conflict_id)\n",
    "\n"
   ]
  },
  {
   "cell_type": "code",
   "execution_count": 95,
   "metadata": {},
   "outputs": [
    {
     "data": {
      "text/html": [
       "<div>\n",
       "<style scoped>\n",
       "    .dataframe tbody tr th:only-of-type {\n",
       "        vertical-align: middle;\n",
       "    }\n",
       "\n",
       "    .dataframe tbody tr th {\n",
       "        vertical-align: top;\n",
       "    }\n",
       "\n",
       "    .dataframe thead th {\n",
       "        text-align: right;\n",
       "    }\n",
       "</style>\n",
       "<table border=\"1\" class=\"dataframe\">\n",
       "  <thead>\n",
       "    <tr style=\"text-align: right;\">\n",
       "      <th></th>\n",
       "      <th>TARGETID</th>\n",
       "      <th>Redrock_spectype</th>\n",
       "      <th>Redrock_z</th>\n",
       "      <th>VI_scanner</th>\n",
       "      <th>VI_quality</th>\n",
       "      <th>VI_issue</th>\n",
       "      <th>VI_z</th>\n",
       "      <th>VI_spectype</th>\n",
       "      <th>VI_comment</th>\n",
       "      <th>best redshift</th>\n",
       "      <th>best spectype</th>\n",
       "      <th>vi_combined_flag</th>\n",
       "      <th>vi_diff</th>\n",
       "      <th>vi_combined_z</th>\n",
       "      <th>dz</th>\n",
       "      <th>all VI comments</th>\n",
       "      <th>N_VI</th>\n",
       "      <th>merger comment</th>\n",
       "    </tr>\n",
       "  </thead>\n",
       "  <tbody>\n",
       "    <tr>\n",
       "      <th>132</th>\n",
       "      <td>35191291750909449</td>\n",
       "      <td>GALAXY</td>\n",
       "      <td>0.8147</td>\n",
       "      <td>PNT</td>\n",
       "      <td>3</td>\n",
       "      <td>NaN</td>\n",
       "      <td>0.8247</td>\n",
       "      <td>NaN</td>\n",
       "      <td>Ca(K and H) detected Emission lines detected a...</td>\n",
       "      <td>0.8247</td>\n",
       "      <td>GALAXY</td>\n",
       "      <td>3.0</td>\n",
       "      <td>0</td>\n",
       "      <td>0.8147</td>\n",
       "      <td>0.005511</td>\n",
       "      <td>Ca(K and H) detected Emission lines detected a...</td>\n",
       "      <td>2</td>\n",
       "      <td>none</td>\n",
       "    </tr>\n",
       "    <tr>\n",
       "      <th>182</th>\n",
       "      <td>35191291750909449</td>\n",
       "      <td>GALAXY</td>\n",
       "      <td>0.8147</td>\n",
       "      <td>KSD</td>\n",
       "      <td>3</td>\n",
       "      <td>NaN</td>\n",
       "      <td>0.8147</td>\n",
       "      <td>NaN</td>\n",
       "      <td>--</td>\n",
       "      <td>0.8147</td>\n",
       "      <td>GALAXY</td>\n",
       "      <td>3.0</td>\n",
       "      <td>0</td>\n",
       "      <td>0.8147</td>\n",
       "      <td>0.005511</td>\n",
       "      <td>Ca(K and H) detected Emission lines detected a...</td>\n",
       "      <td>2</td>\n",
       "      <td>none</td>\n",
       "    </tr>\n",
       "  </tbody>\n",
       "</table>\n",
       "</div>"
      ],
      "text/plain": [
       "              TARGETID Redrock_spectype  Redrock_z VI_scanner  VI_quality  \\\n",
       "132  35191291750909449           GALAXY     0.8147        PNT           3   \n",
       "182  35191291750909449           GALAXY     0.8147        KSD           3   \n",
       "\n",
       "    VI_issue    VI_z VI_spectype  \\\n",
       "132      NaN  0.8247         NaN   \n",
       "182      NaN  0.8147         NaN   \n",
       "\n",
       "                                            VI_comment  best redshift  \\\n",
       "132  Ca(K and H) detected Emission lines detected a...         0.8247   \n",
       "182                                                 --         0.8147   \n",
       "\n",
       "    best spectype  vi_combined_flag  vi_diff  vi_combined_z        dz  \\\n",
       "132        GALAXY               3.0        0         0.8147  0.005511   \n",
       "182        GALAXY               3.0        0         0.8147  0.005511   \n",
       "\n",
       "                                       all VI comments  N_VI merger comment  \n",
       "132  Ca(K and H) detected Emission lines detected a...     2           none  \n",
       "182  Ca(K and H) detected Emission lines detected a...     2           none  "
      ]
     },
     "metadata": {},
     "output_type": "display_data"
    }
   ],
   "source": [
    "#copy this text to a new cell to display the conflict\n",
    "conflict_id=9\n",
    "display_conflict(conflict_id, show_spectra=show_spectra)\n"
   ]
  },
  {
   "cell_type": "code",
   "execution_count": 96,
   "metadata": {},
   "outputs": [
    {
     "name": "stdout",
     "output_type": "stream",
     "text": [
      "conflict ID =  9\n"
     ]
    }
   ],
   "source": [
    "#copy this text to a new cell to resolve the conflict\n",
    "vi.loc[vi.TARGETID==unique_targets[conflict_id], 'best redshift'] = 0.8147\n",
    "vi.loc[vi.TARGETID==unique_targets[conflict_id], 'VI_quality'] = 3\n",
    "#vi.loc[vi.TargetID==unique_targets[conflict_id], 'best spectype'] = \n",
    "\n",
    "#add a comment\n",
    "vi.loc[vi.TARGETID==unique_targets[conflict_id], 'merger comment'] = 'Redshift should be secure.'\n",
    "\n",
    "#look at the values again to make sure all is well\n",
    "#display(vi[vi.TARGETID==unique_targets[conflict_id]])\n",
    "print('conflict ID = ', conflict_id)\n",
    "\n"
   ]
  },
  {
   "cell_type": "code",
   "execution_count": 97,
   "metadata": {},
   "outputs": [
    {
     "data": {
      "text/html": [
       "<div>\n",
       "<style scoped>\n",
       "    .dataframe tbody tr th:only-of-type {\n",
       "        vertical-align: middle;\n",
       "    }\n",
       "\n",
       "    .dataframe tbody tr th {\n",
       "        vertical-align: top;\n",
       "    }\n",
       "\n",
       "    .dataframe thead th {\n",
       "        text-align: right;\n",
       "    }\n",
       "</style>\n",
       "<table border=\"1\" class=\"dataframe\">\n",
       "  <thead>\n",
       "    <tr style=\"text-align: right;\">\n",
       "      <th></th>\n",
       "      <th>TARGETID</th>\n",
       "      <th>Redrock_spectype</th>\n",
       "      <th>Redrock_z</th>\n",
       "      <th>VI_scanner</th>\n",
       "      <th>VI_quality</th>\n",
       "      <th>VI_issue</th>\n",
       "      <th>VI_z</th>\n",
       "      <th>VI_spectype</th>\n",
       "      <th>VI_comment</th>\n",
       "      <th>best redshift</th>\n",
       "      <th>best spectype</th>\n",
       "      <th>vi_combined_flag</th>\n",
       "      <th>vi_diff</th>\n",
       "      <th>vi_combined_z</th>\n",
       "      <th>dz</th>\n",
       "      <th>all VI comments</th>\n",
       "      <th>N_VI</th>\n",
       "      <th>merger comment</th>\n",
       "    </tr>\n",
       "  </thead>\n",
       "  <tbody>\n",
       "    <tr>\n",
       "      <th>221</th>\n",
       "      <td>35191291763492016</td>\n",
       "      <td>GALAXY</td>\n",
       "      <td>0.9595</td>\n",
       "      <td>KSD</td>\n",
       "      <td>2</td>\n",
       "      <td>NaN</td>\n",
       "      <td>0.9595</td>\n",
       "      <td>NaN</td>\n",
       "      <td>--</td>\n",
       "      <td>0.9595</td>\n",
       "      <td>GALAXY</td>\n",
       "      <td>3.0</td>\n",
       "      <td>2</td>\n",
       "      <td>0.9595</td>\n",
       "      <td>0.0</td>\n",
       "      <td>--|--</td>\n",
       "      <td>2</td>\n",
       "      <td>none</td>\n",
       "    </tr>\n",
       "    <tr>\n",
       "      <th>243</th>\n",
       "      <td>35191291763492016</td>\n",
       "      <td>GALAXY</td>\n",
       "      <td>0.9595</td>\n",
       "      <td>PNT</td>\n",
       "      <td>4</td>\n",
       "      <td>NaN</td>\n",
       "      <td>0.9595</td>\n",
       "      <td>NaN</td>\n",
       "      <td>--</td>\n",
       "      <td>0.9595</td>\n",
       "      <td>GALAXY</td>\n",
       "      <td>3.0</td>\n",
       "      <td>2</td>\n",
       "      <td>0.9595</td>\n",
       "      <td>0.0</td>\n",
       "      <td>--|--</td>\n",
       "      <td>2</td>\n",
       "      <td>none</td>\n",
       "    </tr>\n",
       "  </tbody>\n",
       "</table>\n",
       "</div>"
      ],
      "text/plain": [
       "              TARGETID Redrock_spectype  Redrock_z VI_scanner  VI_quality  \\\n",
       "221  35191291763492016           GALAXY     0.9595        KSD           2   \n",
       "243  35191291763492016           GALAXY     0.9595        PNT           4   \n",
       "\n",
       "    VI_issue    VI_z VI_spectype VI_comment  best redshift best spectype  \\\n",
       "221      NaN  0.9595         NaN         --         0.9595        GALAXY   \n",
       "243      NaN  0.9595         NaN         --         0.9595        GALAXY   \n",
       "\n",
       "     vi_combined_flag  vi_diff  vi_combined_z   dz all VI comments  N_VI  \\\n",
       "221               3.0        2         0.9595  0.0           --|--     2   \n",
       "243               3.0        2         0.9595  0.0           --|--     2   \n",
       "\n",
       "    merger comment  \n",
       "221           none  \n",
       "243           none  "
      ]
     },
     "metadata": {},
     "output_type": "display_data"
    }
   ],
   "source": [
    "#copy this text to a new cell to display the conflict\n",
    "conflict_id=10\n",
    "display_conflict(conflict_id, show_spectra=show_spectra)"
   ]
  },
  {
   "cell_type": "code",
   "execution_count": 98,
   "metadata": {},
   "outputs": [
    {
     "name": "stdout",
     "output_type": "stream",
     "text": [
      "conflict ID =  10\n"
     ]
    }
   ],
   "source": [
    "#copy this text to a new cell to resolve the conflict\n",
    "#vi.loc[vi.TARGETID==unique_targets[conflict_id], 'best redshift'] = 1.6283\n",
    "vi.loc[vi.TARGETID==unique_targets[conflict_id], 'VI_quality'] = 2\n",
    "#vi.loc[vi.TARGETID==unique_targets[conflict_id], 'best spectype'] = 'GALAXY'\n",
    "\n",
    "#add a comment\n",
    "vi.loc[vi.TARGETID==unique_targets[conflict_id], 'merger comment'] = 'flag disagreement. low S/N. Be conservative.'\n",
    "\n",
    "#look at the values again to make sure all is well\n",
    "#display(vi[vi.TARGETID==unique_targets[conflict_id]])\n",
    "print('conflict ID = ', conflict_id)\n"
   ]
  },
  {
   "cell_type": "code",
   "execution_count": 99,
   "metadata": {},
   "outputs": [
    {
     "data": {
      "text/html": [
       "<div>\n",
       "<style scoped>\n",
       "    .dataframe tbody tr th:only-of-type {\n",
       "        vertical-align: middle;\n",
       "    }\n",
       "\n",
       "    .dataframe tbody tr th {\n",
       "        vertical-align: top;\n",
       "    }\n",
       "\n",
       "    .dataframe thead th {\n",
       "        text-align: right;\n",
       "    }\n",
       "</style>\n",
       "<table border=\"1\" class=\"dataframe\">\n",
       "  <thead>\n",
       "    <tr style=\"text-align: right;\">\n",
       "      <th></th>\n",
       "      <th>TARGETID</th>\n",
       "      <th>Redrock_spectype</th>\n",
       "      <th>Redrock_z</th>\n",
       "      <th>VI_scanner</th>\n",
       "      <th>VI_quality</th>\n",
       "      <th>VI_issue</th>\n",
       "      <th>VI_z</th>\n",
       "      <th>VI_spectype</th>\n",
       "      <th>VI_comment</th>\n",
       "      <th>best redshift</th>\n",
       "      <th>best spectype</th>\n",
       "      <th>vi_combined_flag</th>\n",
       "      <th>vi_diff</th>\n",
       "      <th>vi_combined_z</th>\n",
       "      <th>dz</th>\n",
       "      <th>all VI comments</th>\n",
       "      <th>N_VI</th>\n",
       "      <th>merger comment</th>\n",
       "    </tr>\n",
       "  </thead>\n",
       "  <tbody>\n",
       "    <tr>\n",
       "      <th>205</th>\n",
       "      <td>35191295232180973</td>\n",
       "      <td>GALAXY</td>\n",
       "      <td>1.0391</td>\n",
       "      <td>KSD</td>\n",
       "      <td>2</td>\n",
       "      <td>NaN</td>\n",
       "      <td>1.0391</td>\n",
       "      <td>NaN</td>\n",
       "      <td>OII contaminated by telluric; real?</td>\n",
       "      <td>1.0391</td>\n",
       "      <td>GALAXY</td>\n",
       "      <td>3.0</td>\n",
       "      <td>2</td>\n",
       "      <td>1.0391</td>\n",
       "      <td>0.0</td>\n",
       "      <td>OII contaminated by telluric; real?|--</td>\n",
       "      <td>2</td>\n",
       "      <td>none</td>\n",
       "    </tr>\n",
       "    <tr>\n",
       "      <th>227</th>\n",
       "      <td>35191295232180973</td>\n",
       "      <td>GALAXY</td>\n",
       "      <td>1.0391</td>\n",
       "      <td>PNT</td>\n",
       "      <td>4</td>\n",
       "      <td>NaN</td>\n",
       "      <td>1.0391</td>\n",
       "      <td>NaN</td>\n",
       "      <td>--</td>\n",
       "      <td>1.0391</td>\n",
       "      <td>GALAXY</td>\n",
       "      <td>3.0</td>\n",
       "      <td>2</td>\n",
       "      <td>1.0391</td>\n",
       "      <td>0.0</td>\n",
       "      <td>OII contaminated by telluric; real?|--</td>\n",
       "      <td>2</td>\n",
       "      <td>none</td>\n",
       "    </tr>\n",
       "  </tbody>\n",
       "</table>\n",
       "</div>"
      ],
      "text/plain": [
       "              TARGETID Redrock_spectype  Redrock_z VI_scanner  VI_quality  \\\n",
       "205  35191295232180973           GALAXY     1.0391        KSD           2   \n",
       "227  35191295232180973           GALAXY     1.0391        PNT           4   \n",
       "\n",
       "    VI_issue    VI_z VI_spectype                           VI_comment  \\\n",
       "205      NaN  1.0391         NaN  OII contaminated by telluric; real?   \n",
       "227      NaN  1.0391         NaN                                   --   \n",
       "\n",
       "     best redshift best spectype  vi_combined_flag  vi_diff  vi_combined_z  \\\n",
       "205         1.0391        GALAXY               3.0        2         1.0391   \n",
       "227         1.0391        GALAXY               3.0        2         1.0391   \n",
       "\n",
       "      dz                         all VI comments  N_VI merger comment  \n",
       "205  0.0  OII contaminated by telluric; real?|--     2           none  \n",
       "227  0.0  OII contaminated by telluric; real?|--     2           none  "
      ]
     },
     "metadata": {},
     "output_type": "display_data"
    }
   ],
   "source": [
    "#copy this text to a new cell to display the conflict\n",
    "conflict_id=11\n",
    "display_conflict(conflict_id, show_spectra=show_spectra)"
   ]
  },
  {
   "cell_type": "code",
   "execution_count": 100,
   "metadata": {},
   "outputs": [
    {
     "name": "stdout",
     "output_type": "stream",
     "text": [
      "conflict ID =  11\n"
     ]
    }
   ],
   "source": [
    "#copy this text to a new cell to resolve the conflict\n",
    "#vi.loc[vi.TARGETID==unique_targets[conflict_id], 'best redshift'] = 1.1877\n",
    "vi.loc[vi.TARGETID==unique_targets[conflict_id], 'VI_quality'] = 3\n",
    "#vi.loc[vi.TargetID==unique_targets[conflict_id], 'best spectype'] = \n",
    "\n",
    "#add a comment\n",
    "vi.loc[vi.TARGETID==unique_targets[conflict_id], 'merger comment'] = 'CaII and G band are robust.'\n",
    "#look at the values again to make sure all is well\n",
    "#display(vi[vi.TARGETID==unique_targets[conflict_id]])\n",
    "print('conflict ID = ', conflict_id)\n"
   ]
  },
  {
   "cell_type": "code",
   "execution_count": 101,
   "metadata": {},
   "outputs": [
    {
     "data": {
      "text/html": [
       "<div>\n",
       "<style scoped>\n",
       "    .dataframe tbody tr th:only-of-type {\n",
       "        vertical-align: middle;\n",
       "    }\n",
       "\n",
       "    .dataframe tbody tr th {\n",
       "        vertical-align: top;\n",
       "    }\n",
       "\n",
       "    .dataframe thead th {\n",
       "        text-align: right;\n",
       "    }\n",
       "</style>\n",
       "<table border=\"1\" class=\"dataframe\">\n",
       "  <thead>\n",
       "    <tr style=\"text-align: right;\">\n",
       "      <th></th>\n",
       "      <th>TARGETID</th>\n",
       "      <th>Redrock_spectype</th>\n",
       "      <th>Redrock_z</th>\n",
       "      <th>VI_scanner</th>\n",
       "      <th>VI_quality</th>\n",
       "      <th>VI_issue</th>\n",
       "      <th>VI_z</th>\n",
       "      <th>VI_spectype</th>\n",
       "      <th>VI_comment</th>\n",
       "      <th>best redshift</th>\n",
       "      <th>best spectype</th>\n",
       "      <th>vi_combined_flag</th>\n",
       "      <th>vi_diff</th>\n",
       "      <th>vi_combined_z</th>\n",
       "      <th>dz</th>\n",
       "      <th>all VI comments</th>\n",
       "      <th>N_VI</th>\n",
       "      <th>merger comment</th>\n",
       "    </tr>\n",
       "  </thead>\n",
       "  <tbody>\n",
       "    <tr>\n",
       "      <th>208</th>\n",
       "      <td>35191295232181877</td>\n",
       "      <td>GALAXY</td>\n",
       "      <td>0.198</td>\n",
       "      <td>KSD</td>\n",
       "      <td>3</td>\n",
       "      <td>S</td>\n",
       "      <td>0.594</td>\n",
       "      <td>NaN</td>\n",
       "      <td>corrupted around 8600 AA</td>\n",
       "      <td>0.594</td>\n",
       "      <td>GALAXY</td>\n",
       "      <td>1.5</td>\n",
       "      <td>3</td>\n",
       "      <td>0.198</td>\n",
       "      <td>0.330551</td>\n",
       "      <td>corrupted around 8600 AA|Continuum detected ba...</td>\n",
       "      <td>2</td>\n",
       "      <td>none</td>\n",
       "    </tr>\n",
       "    <tr>\n",
       "      <th>230</th>\n",
       "      <td>35191295232181877</td>\n",
       "      <td>GALAXY</td>\n",
       "      <td>0.198</td>\n",
       "      <td>PNT</td>\n",
       "      <td>0</td>\n",
       "      <td>RCS</td>\n",
       "      <td>NaN</td>\n",
       "      <td>GALAXY</td>\n",
       "      <td>Continuum detected bad sbtraction at lambda=86...</td>\n",
       "      <td>0.198</td>\n",
       "      <td>GALAXY</td>\n",
       "      <td>1.5</td>\n",
       "      <td>3</td>\n",
       "      <td>0.198</td>\n",
       "      <td>0.330551</td>\n",
       "      <td>corrupted around 8600 AA|Continuum detected ba...</td>\n",
       "      <td>2</td>\n",
       "      <td>none</td>\n",
       "    </tr>\n",
       "  </tbody>\n",
       "</table>\n",
       "</div>"
      ],
      "text/plain": [
       "              TARGETID Redrock_spectype  Redrock_z VI_scanner  VI_quality  \\\n",
       "208  35191295232181877           GALAXY      0.198        KSD           3   \n",
       "230  35191295232181877           GALAXY      0.198        PNT           0   \n",
       "\n",
       "    VI_issue   VI_z VI_spectype  \\\n",
       "208        S  0.594         NaN   \n",
       "230      RCS    NaN      GALAXY   \n",
       "\n",
       "                                            VI_comment  best redshift  \\\n",
       "208                           corrupted around 8600 AA          0.594   \n",
       "230  Continuum detected bad sbtraction at lambda=86...          0.198   \n",
       "\n",
       "    best spectype  vi_combined_flag  vi_diff  vi_combined_z        dz  \\\n",
       "208        GALAXY               1.5        3          0.198  0.330551   \n",
       "230        GALAXY               1.5        3          0.198  0.330551   \n",
       "\n",
       "                                       all VI comments  N_VI merger comment  \n",
       "208  corrupted around 8600 AA|Continuum detected ba...     2           none  \n",
       "230  corrupted around 8600 AA|Continuum detected ba...     2           none  "
      ]
     },
     "metadata": {},
     "output_type": "display_data"
    }
   ],
   "source": [
    "#copy this text to a new cell to display the conflict\n",
    "conflict_id=12\n",
    "display_conflict(conflict_id, show_spectra=show_spectra)\n",
    "\n"
   ]
  },
  {
   "cell_type": "code",
   "execution_count": 102,
   "metadata": {},
   "outputs": [
    {
     "name": "stdout",
     "output_type": "stream",
     "text": [
      "conflict ID =  12\n"
     ]
    }
   ],
   "source": [
    "#copy this text to a new cell to resolve the conflict\n",
    "vi.loc[vi.TARGETID==unique_targets[conflict_id], 'best redshift'] = 0.594\n",
    "vi.loc[vi.TARGETID==unique_targets[conflict_id], 'VI_quality'] = 4\n",
    "vi.loc[vi.TARGETID==unique_targets[conflict_id], 'best spectype'] = 'GALAXY'\n",
    "\n",
    "#add a comment\n",
    "vi.loc[vi.TARGETID==unique_targets[conflict_id], 'merger comment'] = 'Bad calibration. Redshift is secure. '\n",
    "\n",
    "#look at the values again to make sure all is well\n",
    "#display(vi[vi.TARGETID==unique_targets[conflict_id]])\n",
    "print('conflict ID = ', conflict_id)\n",
    "\n"
   ]
  },
  {
   "cell_type": "markdown",
   "metadata": {},
   "source": [
    "### and so on...\n",
    "\n",
    "We should now recompute the conflicts, and not find any."
   ]
  },
  {
   "cell_type": "code",
   "execution_count": null,
   "metadata": {},
   "outputs": [],
   "source": []
  },
  {
   "cell_type": "code",
   "execution_count": null,
   "metadata": {},
   "outputs": [],
   "source": []
  },
  {
   "cell_type": "code",
   "execution_count": 55,
   "metadata": {},
   "outputs": [],
   "source": [
    "vi_conflict = VI.find_conflicts(vi_gp)"
   ]
  },
  {
   "cell_type": "code",
   "execution_count": 103,
   "metadata": {},
   "outputs": [
    {
     "name": "stdout",
     "output_type": "stream",
     "text": [
      "Targets with problematic VI:  [35191284712866707 35191284712869404 35191284717062295 35191284717063245\n",
      " 35191284729645604 35191288219305221 35191288240276813 35191291742519598\n",
      " 35191291746717610 35191291750909449 35191291763492016 35191295232180973\n",
      " 35191295232181877]\n",
      "Total number of conflicts to resolve:  13\n"
     ]
    }
   ],
   "source": [
    "unique_targets = np.unique(vi_conflict['TARGETID'].tolist())\n",
    "print('Targets with problematic VI: ', unique_targets)\n",
    "print('Total number of conflicts to resolve: ', len(unique_targets))"
   ]
  },
  {
   "cell_type": "markdown",
   "metadata": {},
   "source": [
    "Display anything that was missed (if \"Total number of conflicts\" isn't zero) and resolve!"
   ]
  },
  {
   "cell_type": "raw",
   "metadata": {
    "jupyter": {
     "outputs_hidden": true
    }
   },
   "source": [
    "for i in range(len(unique_targets)): \n",
    "    display(vi[vi.TargetID==unique_targets[i]])"
   ]
  },
  {
   "cell_type": "markdown",
   "metadata": {},
   "source": [
    "Let's check the number of conflicts again."
   ]
  },
  {
   "cell_type": "code",
   "execution_count": 104,
   "metadata": {},
   "outputs": [],
   "source": [
    "vi_conflict = VI.find_conflicts(vi_gp)"
   ]
  },
  {
   "cell_type": "code",
   "execution_count": 105,
   "metadata": {},
   "outputs": [
    {
     "name": "stdout",
     "output_type": "stream",
     "text": [
      "Targets with problematic VI:  []\n",
      "Total number of conflicts to resolve:  0\n"
     ]
    }
   ],
   "source": [
    "unique_targets = np.unique(vi_conflict['TARGETID'].tolist())\n",
    "print('Targets with problematic VI: ', unique_targets)\n",
    "print('Total number of conflicts to resolve: ', len(unique_targets))"
   ]
  },
  {
   "cell_type": "markdown",
   "metadata": {},
   "source": [
    "## Woohoo!"
   ]
  },
  {
   "cell_type": "code",
   "execution_count": null,
   "metadata": {},
   "outputs": [],
   "source": []
  },
  {
   "cell_type": "code",
   "execution_count": null,
   "metadata": {},
   "outputs": [],
   "source": []
  },
  {
   "cell_type": "code",
   "execution_count": null,
   "metadata": {},
   "outputs": [],
   "source": []
  },
  {
   "cell_type": "markdown",
   "metadata": {},
   "source": [
    "## Finally\n",
    "we need to recompute vi_combined_flag and vi_combined_z, after everything is resolved."
   ]
  },
  {
   "cell_type": "code",
   "execution_count": 106,
   "metadata": {},
   "outputs": [],
   "source": [
    "vi['vi_combined_flag'] = vi.groupby('TARGETID')['VI_quality'].transform('mean')\n",
    "vi['vi_combined_z'] = vi.groupby('TARGETID')['best redshift'].transform('mean')\n"
   ]
  },
  {
   "cell_type": "markdown",
   "metadata": {},
   "source": [
    "## Now we prepare to write to file. \n",
    "\n",
    "### The important columns for the truth table construction are **vi_combined_flag** and **vi_combined_z** \n",
    "\n",
    "The truth table should **take the redhift value in vi_combined_z** for all objects with **vi_combined_flag >= 2.5** (for discussion, but this catches the cases where there is some disagreement on the 2/3 boundary).\n",
    "\n",
    "After the merging process, those two columns will be the same for ALL of the members of each group by TargetID, so it doesn't matter which member we write to file. Taking the 1st one just makes this easy. \n"
   ]
  },
  {
   "cell_type": "code",
   "execution_count": 107,
   "metadata": {},
   "outputs": [
    {
     "data": {
      "text/plain": [
       "Index(['TARGETID', 'EXPID', 'NIGHT', 'TILEID', 'Spec_version',\n",
       "       'Redrock_version', 'Template_version', 'Redrock_spectype', 'Redrock_z',\n",
       "       'VI_scanner', 'VI_quality', 'VI_issue', 'VI_z', 'VI_spectype',\n",
       "       'VI_comment', 'FIBER', 'FLUX_G', 'FLUX_R', 'FLUX_Z', 'FIBERFLUX_G',\n",
       "       'FIBERFLUX_R', 'FIBERFLUX_Z', 'DELTACHI2', 'best redshift',\n",
       "       'best spectype', 'vi_combined_flag', 'vi_diff', 'dz', 'vi_combined_z',\n",
       "       'all VI comments', 'N_VI', 'merger comment'],\n",
       "      dtype='object')"
      ]
     },
     "execution_count": 107,
     "metadata": {},
     "output_type": "execute_result"
    }
   ],
   "source": [
    "vi.keys()"
   ]
  },
  {
   "cell_type": "code",
   "execution_count": 108,
   "metadata": {},
   "outputs": [
    {
     "name": "stdout",
     "output_type": "stream",
     "text": [
      "/global/homes/t/tlan/projects/VI_files/Andes_reinspection/LRG/truth_table_Andes_reinspection_LRG_68001_20200315_4.csv\n"
     ]
    }
   ],
   "source": [
    "print(VI_dir+save_filename)"
   ]
  },
  {
   "cell_type": "code",
   "execution_count": 109,
   "metadata": {},
   "outputs": [
    {
     "name": "stderr",
     "output_type": "stream",
     "text": [
      "<ipython-input-109-2063ed20beca>:1: FutureWarning: Indexing with multiple keys (implicitly converted to a tuple of keys) will be deprecated, use a list instead.\n",
      "  vi_gp['Redrock_z', 'Redrock_spectype', 'best redshift' , 'best spectype', 'vi_combined_flag',\n"
     ]
    }
   ],
   "source": [
    "vi_gp['Redrock_z', 'Redrock_spectype', 'best redshift' , 'best spectype', 'vi_combined_flag',  \n",
    "      'all VI comments', 'merger comment', 'N_VI', 'DELTACHI2','FIBER'].first().to_csv(VI_dir+save_filename)"
   ]
  },
  {
   "cell_type": "markdown",
   "metadata": {},
   "source": [
    "Check that merged file reads in OK - check comments"
   ]
  },
  {
   "cell_type": "code",
   "execution_count": 110,
   "metadata": {},
   "outputs": [],
   "source": [
    "merged_file = pd.read_csv(VI_dir+save_filename)"
   ]
  },
  {
   "cell_type": "code",
   "execution_count": 111,
   "metadata": {},
   "outputs": [
    {
     "data": {
      "text/plain": [
       "Index(['TARGETID', 'Redrock_z', 'Redrock_spectype', 'best redshift',\n",
       "       'best spectype', 'vi_combined_flag', 'all VI comments',\n",
       "       'merger comment', 'N_VI', 'DELTACHI2', 'FIBER'],\n",
       "      dtype='object')"
      ]
     },
     "execution_count": 111,
     "metadata": {},
     "output_type": "execute_result"
    }
   ],
   "source": [
    "merged_file.keys()"
   ]
  },
  {
   "cell_type": "code",
   "execution_count": 112,
   "metadata": {},
   "outputs": [
    {
     "data": {
      "text/plain": [
       "122"
      ]
     },
     "execution_count": 112,
     "metadata": {},
     "output_type": "execute_result"
    }
   ],
   "source": [
    "len(merged_file)"
   ]
  },
  {
   "cell_type": "code",
   "execution_count": 113,
   "metadata": {},
   "outputs": [
    {
     "data": {
      "text/plain": [
       "'/global/homes/t/tlan/projects/VI_files/Andes_reinspection/LRG/'"
      ]
     },
     "execution_count": 113,
     "metadata": {},
     "output_type": "execute_result"
    }
   ],
   "source": [
    "VI_dir"
   ]
  },
  {
   "cell_type": "code",
   "execution_count": null,
   "metadata": {},
   "outputs": [],
   "source": []
  }
 ],
 "metadata": {
  "kernelspec": {
   "display_name": "DESI master",
   "language": "python",
   "name": "desi-master"
  },
  "language_info": {
   "codemirror_mode": {
    "name": "ipython",
    "version": 3
   },
   "file_extension": ".py",
   "mimetype": "text/x-python",
   "name": "python",
   "nbconvert_exporter": "python",
   "pygments_lexer": "ipython3",
   "version": "3.8.3"
  }
 },
 "nbformat": 4,
 "nbformat_minor": 4
}
