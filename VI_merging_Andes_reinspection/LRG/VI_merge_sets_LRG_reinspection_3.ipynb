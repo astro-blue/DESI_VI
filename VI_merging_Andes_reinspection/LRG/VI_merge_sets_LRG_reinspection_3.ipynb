{
 "cells": [
  {
   "cell_type": "markdown",
   "metadata": {},
   "source": [
    "## Identifying and resolving conflicts in a batch of VI files"
   ]
  },
  {
   "cell_type": "markdown",
   "metadata": {},
   "source": [
    "Andes Reinspection \n",
    "LRG\n",
    "Data information can be found at https://data.desi.lbl.gov/desi/spectro/prospect/target-reinspection-andes/\n",
    "\n",
    "/global/cfs/cdirs/desi/spectro/redux/andes\n",
    "\n",
    "\n",
    "448 visual inspections of a total of 150 unique objects\n",
    "\n",
    "32 conflicts"
   ]
  },
  {
   "cell_type": "code",
   "execution_count": 79,
   "metadata": {},
   "outputs": [],
   "source": [
    "save_filename='truth_table_Andes_reinspection_LRG_68001_20200315_3.csv'"
   ]
  },
  {
   "cell_type": "code",
   "execution_count": 80,
   "metadata": {},
   "outputs": [],
   "source": [
    "import os, sys, glob\n",
    "import numpy as np\n",
    "\n",
    "from astropy.io import fits\n",
    "from astropy.table import Table, join, vstack\n",
    "from astropy.io import fits\n",
    "\n",
    "import pandas as pd\n",
    "import fnmatch\n",
    "\n",
    "import desispec.io\n",
    "\n",
    "import VI_utils as VI\n",
    "sys.path.append(\"/global/homes/r/tlan/prospect/prospect/py\")\n",
    "\n",
    "from prospect import utils_specviewer,plotframes\n",
    "#import desispec\n",
    "# library location will change ..\n",
    "sys.path.append(\"/global/u2/t/tlan/python/prospect/py\")\n",
    "from prospect import utils_specviewer,plotframes\n",
    "import matplotlib.pyplot as plt "
   ]
  },
  {
   "cell_type": "code",
   "execution_count": 81,
   "metadata": {},
   "outputs": [],
   "source": [
    "tiledir   = '/global/cfs/cdirs/desi/spectro/redux/andes/tiles/'\n",
    "tiles = ['68001']\n",
    "nights = ['20200315']\n",
    "petals = ['0','1', '2', '3', '4', '5', '6' ,'7', '8', '9']\n",
    "#petals = ['0','3','6','7']\n",
    "obs_db = utils_specviewer.make_targetdict(tiledir, petals=petals, tiles=tiles) # tiles = optional \n",
    "#del obs_db['67230-20200314']\n",
    "#obs_db.keys()"
   ]
  },
  {
   "cell_type": "code",
   "execution_count": 82,
   "metadata": {},
   "outputs": [],
   "source": [
    "pd.set_option('display.max_rows', 10)"
   ]
  },
  {
   "cell_type": "code",
   "execution_count": 83,
   "metadata": {},
   "outputs": [],
   "source": [
    "#set to directory with all the VI files to merge\n",
    "VI_dir = os.environ['HOME']+'/projects/VI_files/Andes_reinspection/LRG/'"
   ]
  },
  {
   "cell_type": "code",
   "execution_count": 84,
   "metadata": {},
   "outputs": [
    {
     "name": "stdout",
     "output_type": "stream",
     "text": [
      "desi*_68001_7_*.csv\n",
      "desi*_68001_8_*.csv\n",
      "desi*_68001_9_*.csv\n",
      "['desi-vi_LRG_reinspection_68001_7_KSD.csv', 'desi-vi_LRG_reinspection_68001_7_PNT.csv', 'desi-vi_LRG_reinspection_68001_8_KSD.csv', 'desi-vi_LRG_reinspection_68001_8_PNT.csv', 'desi-vi_LRG_reinspection_68001_9_KSD.csv', 'desi-vi_LRG_reinspection_68001_9_PNT.csv']\n"
     ]
    }
   ],
   "source": [
    "#read a set of files \n",
    "all_files = os.listdir(VI_dir)\n",
    "vi_files=[]\n",
    "\n",
    "for i in range(7,10):\n",
    "    pattern = \"desi*_\"+str(68001)+\"_\"+str(i)+\"_*.csv\"\n",
    "    print(pattern)\n",
    "    for entry in all_files:\n",
    "        if fnmatch.fnmatch(entry, pattern):\n",
    "            vi_files.append(entry)\n",
    "\n",
    "print(vi_files)"
   ]
  },
  {
   "cell_type": "code",
   "execution_count": null,
   "metadata": {},
   "outputs": [],
   "source": []
  },
  {
   "cell_type": "code",
   "execution_count": 85,
   "metadata": {},
   "outputs": [
    {
     "name": "stdout",
     "output_type": "stream",
     "text": [
      "desi-vi_LRG_reinspection_68001_7_KSD.csv\n",
      "desi-vi_LRG_reinspection_68001_7_PNT.csv\n",
      "desi-vi_LRG_reinspection_68001_8_KSD.csv\n",
      "desi-vi_LRG_reinspection_68001_8_PNT.csv\n",
      "desi-vi_LRG_reinspection_68001_9_KSD.csv\n",
      "desi-vi_LRG_reinspection_68001_9_PNT.csv\n",
      "There are 300 visual inspections of a total of 150 unique objects\n",
      "That gives 2.0 inspections per object.\n"
     ]
    }
   ],
   "source": [
    "vi = pd.read_csv(VI_dir + vi_files[0], delimiter = \",\", engine='python')\n",
    "print(vi_files[0])\n",
    "for i in range(1,len(vi_files)):\n",
    "    print(vi_files[i])\n",
    "    vi2 = pd.read_csv(VI_dir + vi_files[i], delimiter = \",\", engine='python')\n",
    "    vi = vi.append(vi2, ignore_index=True)\n",
    "#print(vi)    \n",
    "#make groups of visual inspections, grouped by unique objects, and state number of single and multiple VIs\n",
    "vi_gp = vi.groupby(['TARGETID'])\n",
    "\n",
    "print('There are ' + str(len(vi)) + ' visual inspections of a total of ' + str(len(vi_gp)) + ' unique objects')\n",
    "print('That gives ' + str(len(vi)/len(vi_gp)) + ' inspections per object.')"
   ]
  },
  {
   "cell_type": "code",
   "execution_count": 86,
   "metadata": {},
   "outputs": [],
   "source": [
    "#vi is a dataframe\n",
    "#display(vi)"
   ]
  },
  {
   "cell_type": "markdown",
   "metadata": {},
   "source": [
    "# Merge with zbest files\n",
    "#Add: fiberID, delta_chi2, flux information,.. anything else?\n"
   ]
  },
  {
   "cell_type": "code",
   "execution_count": 87,
   "metadata": {},
   "outputs": [
    {
     "name": "stdout",
     "output_type": "stream",
     "text": [
      "5000\n",
      "5000\n",
      "300\n"
     ]
    }
   ],
   "source": [
    "\n",
    "#read in fibermap info, loop over the files for all the petals\n",
    "tf = Table.read(tiledir+'/'+tiles[0] + '/'+nights[0]+'/zbest-'+str(petals[0])+'-'+str(tiles[0])+'-'+nights[0]+'.fits',hdu='FIBERMAP')\n",
    "tspec = Table.read(tiledir+'/'+tiles[0] + '/'+nights[0]+'/zbest-'+str(petals[0])+'-'+str(tiles[0])+'-'+nights[0]+'.fits',hdu='ZBEST')\n",
    "\n",
    "for i in range(1,len(petals)):\n",
    "    tn = Table.read(tiledir+'/'+tiles[0] + '/'+nights[0]+'/zbest-'+str(petals[i])+'-'+str(tiles[0])+'-'+nights[0]+'.fits',hdu='ZBEST')\n",
    "    tnf = Table.read(tiledir+'/'+tiles[0] + '/'+nights[0]+'/zbest-'+str(petals[i])+'-'+str(tiles[0])+'-'+nights[0]+'.fits',hdu='FIBERMAP')\n",
    "    tspec = vstack([tspec,tn])\n",
    "    tf = vstack([tf,tnf])\n",
    "\n",
    "#tf['TARGETID','FIBER','FLUX_G','FLUX_R','FLUX_Z','FIBERFLUX_G','FIBERFLUX_R','FIBERFLUX_Z'].to_panda()    \n",
    "EXPID = list(set(tf['EXPID']))[0]\n",
    "tf = tf[tf['EXPID']==EXPID]\n",
    "tspec_df = tspec['TARGETID','DELTACHI2' ].to_pandas()\n",
    "tf_df = tf['TARGETID','FIBER','FLUX_G','FLUX_R','FLUX_Z','FIBERFLUX_G','FIBERFLUX_R','FIBERFLUX_Z'].to_pandas()\n",
    "print(len(tspec_df))\n",
    "print(len(tf_df))\n",
    "#tf_df = tf_df.rename(columns={\"TargetID\": \"TARGETID\"})\n",
    "#tspec_df = tspec_df.rename(columns={\"TargetID\": \"TARGETID\"})\n",
    "#print(len(vi))\n",
    "vi = vi.merge(tf_df, how='left', on='TARGETID')\n",
    "vi = vi.merge(tspec_df, how='left', on='TARGETID')\n",
    "print(len(vi))"
   ]
  },
  {
   "cell_type": "code",
   "execution_count": null,
   "metadata": {},
   "outputs": [],
   "source": []
  },
  {
   "cell_type": "code",
   "execution_count": 88,
   "metadata": {},
   "outputs": [
    {
     "name": "stdout",
     "output_type": "stream",
     "text": [
      "Index(['TARGETID', 'EXPID', 'NIGHT', 'TILEID', 'Spec_version',\n",
      "       'Redrock_version', 'Template_version', 'Redrock_spectype', 'Redrock_z',\n",
      "       'VI_scanner', 'VI_quality', 'VI_issue', 'VI_z', 'VI_spectype',\n",
      "       'VI_comment', 'FIBER', 'FLUX_G', 'FLUX_R', 'FLUX_Z', 'FIBERFLUX_G',\n",
      "       'FIBERFLUX_R', 'FIBERFLUX_Z', 'DELTACHI2'],\n",
      "      dtype='object')\n"
     ]
    }
   ],
   "source": [
    "print(vi.keys())\n",
    "#print(len(vi))\n",
    "#vi['best redshift']=vi['VI_z']"
   ]
  },
  {
   "cell_type": "markdown",
   "metadata": {},
   "source": [
    "### Adding a bunch of useful columns"
   ]
  },
  {
   "cell_type": "code",
   "execution_count": 89,
   "metadata": {},
   "outputs": [],
   "source": [
    "#vi['VI_z']\n",
    "import VI_utils as VI\n",
    "#vi['VI_z']\n",
    "#bad_str = [s is None for s in vi['VI_comment']]\n",
    "#vi['VI_comment'].isnull()\n",
    "#bad_str = [s is None for s in vi['VI_comment']]\n",
    "#print(bad_str)\n",
    "#vi.loc[vi['VI_comment'].isnull(),'VI_comment']='--'\n",
    "#vi['VI_comment']\n",
    "#vi['all VI comments'] = vi.groupby('TARGETID')['VI_comment'].transform(lambda x: '|'.join(x))\n",
    "#print(vi['all VI comments'])\n",
    "vi = VI.prep_new_columns(vi)\n",
    "#vi['best redshift'] = vi['VI_z']\n",
    "#test = vi['VI_z']\n",
    "#vi['best redshift'].isnull()\n",
    "#vi.loc[vi['best redshift'].isnull(), 'best redshift'] = vi.loc[vi['best redshift'].isnull(), 'Redrock_z']\n",
    "#vi['best redshift']"
   ]
  },
  {
   "cell_type": "code",
   "execution_count": 90,
   "metadata": {},
   "outputs": [
    {
     "data": {
      "text/html": [
       "<div>\n",
       "<style scoped>\n",
       "    .dataframe tbody tr th:only-of-type {\n",
       "        vertical-align: middle;\n",
       "    }\n",
       "\n",
       "    .dataframe tbody tr th {\n",
       "        vertical-align: top;\n",
       "    }\n",
       "\n",
       "    .dataframe thead th {\n",
       "        text-align: right;\n",
       "    }\n",
       "</style>\n",
       "<table border=\"1\" class=\"dataframe\">\n",
       "  <thead>\n",
       "    <tr style=\"text-align: right;\">\n",
       "      <th></th>\n",
       "      <th>TARGETID</th>\n",
       "      <th>EXPID</th>\n",
       "      <th>NIGHT</th>\n",
       "      <th>TILEID</th>\n",
       "      <th>Spec_version</th>\n",
       "      <th>Redrock_version</th>\n",
       "      <th>Template_version</th>\n",
       "      <th>Redrock_spectype</th>\n",
       "      <th>Redrock_z</th>\n",
       "      <th>VI_scanner</th>\n",
       "      <th>...</th>\n",
       "      <th>DELTACHI2</th>\n",
       "      <th>best redshift</th>\n",
       "      <th>best spectype</th>\n",
       "      <th>vi_combined_flag</th>\n",
       "      <th>vi_diff</th>\n",
       "      <th>dz</th>\n",
       "      <th>vi_combined_z</th>\n",
       "      <th>all VI comments</th>\n",
       "      <th>N_VI</th>\n",
       "      <th>merger comment</th>\n",
       "    </tr>\n",
       "  </thead>\n",
       "  <tbody>\n",
       "    <tr>\n",
       "      <th>0</th>\n",
       "      <td>35191277557384124</td>\n",
       "      <td>55611</td>\n",
       "      <td>20200315</td>\n",
       "      <td>68001</td>\n",
       "      <td>0.34.4</td>\n",
       "      <td>-1</td>\n",
       "      <td>-1</td>\n",
       "      <td>GALAXY</td>\n",
       "      <td>1.0534</td>\n",
       "      <td>KSD</td>\n",
       "      <td>...</td>\n",
       "      <td>134.008479</td>\n",
       "      <td>1.0534</td>\n",
       "      <td>GALAXY</td>\n",
       "      <td>3.5</td>\n",
       "      <td>1</td>\n",
       "      <td>0.000000e+00</td>\n",
       "      <td>1.0534</td>\n",
       "      <td>--|--</td>\n",
       "      <td>2</td>\n",
       "      <td>none</td>\n",
       "    </tr>\n",
       "    <tr>\n",
       "      <th>1</th>\n",
       "      <td>35191277557385194</td>\n",
       "      <td>55611</td>\n",
       "      <td>20200315</td>\n",
       "      <td>68001</td>\n",
       "      <td>0.34.4</td>\n",
       "      <td>-1</td>\n",
       "      <td>-1</td>\n",
       "      <td>GALAXY</td>\n",
       "      <td>0.7980</td>\n",
       "      <td>KSD</td>\n",
       "      <td>...</td>\n",
       "      <td>154.027289</td>\n",
       "      <td>0.7980</td>\n",
       "      <td>GALAXY</td>\n",
       "      <td>3.5</td>\n",
       "      <td>1</td>\n",
       "      <td>6.174767e-17</td>\n",
       "      <td>0.7980</td>\n",
       "      <td>--|--</td>\n",
       "      <td>2</td>\n",
       "      <td>none</td>\n",
       "    </tr>\n",
       "    <tr>\n",
       "      <th>2</th>\n",
       "      <td>35191277561580179</td>\n",
       "      <td>55611</td>\n",
       "      <td>20200315</td>\n",
       "      <td>68001</td>\n",
       "      <td>0.34.4</td>\n",
       "      <td>-1</td>\n",
       "      <td>-1</td>\n",
       "      <td>GALAXY</td>\n",
       "      <td>0.9798</td>\n",
       "      <td>KSD</td>\n",
       "      <td>...</td>\n",
       "      <td>179.828303</td>\n",
       "      <td>0.9798</td>\n",
       "      <td>GALAXY</td>\n",
       "      <td>3.5</td>\n",
       "      <td>1</td>\n",
       "      <td>0.000000e+00</td>\n",
       "      <td>0.9798</td>\n",
       "      <td>--|--</td>\n",
       "      <td>2</td>\n",
       "      <td>none</td>\n",
       "    </tr>\n",
       "    <tr>\n",
       "      <th>3</th>\n",
       "      <td>35191277565773296</td>\n",
       "      <td>55611</td>\n",
       "      <td>20200315</td>\n",
       "      <td>68001</td>\n",
       "      <td>0.34.4</td>\n",
       "      <td>-1</td>\n",
       "      <td>-1</td>\n",
       "      <td>GALAXY</td>\n",
       "      <td>1.6643</td>\n",
       "      <td>KSD</td>\n",
       "      <td>...</td>\n",
       "      <td>6.163075</td>\n",
       "      <td>0.5143</td>\n",
       "      <td>GALAXY</td>\n",
       "      <td>2.5</td>\n",
       "      <td>1</td>\n",
       "      <td>7.594268e-01</td>\n",
       "      <td>1.6643</td>\n",
       "      <td>possibly a blend; funny continuum|Continuum re...</td>\n",
       "      <td>2</td>\n",
       "      <td>none</td>\n",
       "    </tr>\n",
       "    <tr>\n",
       "      <th>4</th>\n",
       "      <td>35191277565773729</td>\n",
       "      <td>55611</td>\n",
       "      <td>20200315</td>\n",
       "      <td>68001</td>\n",
       "      <td>0.34.4</td>\n",
       "      <td>-1</td>\n",
       "      <td>-1</td>\n",
       "      <td>GALAXY</td>\n",
       "      <td>1.2419</td>\n",
       "      <td>KSD</td>\n",
       "      <td>...</td>\n",
       "      <td>345.014871</td>\n",
       "      <td>1.2419</td>\n",
       "      <td>GALAXY</td>\n",
       "      <td>3.5</td>\n",
       "      <td>1</td>\n",
       "      <td>0.000000e+00</td>\n",
       "      <td>1.2419</td>\n",
       "      <td>--|--</td>\n",
       "      <td>2</td>\n",
       "      <td>none</td>\n",
       "    </tr>\n",
       "    <tr>\n",
       "      <th>...</th>\n",
       "      <td>...</td>\n",
       "      <td>...</td>\n",
       "      <td>...</td>\n",
       "      <td>...</td>\n",
       "      <td>...</td>\n",
       "      <td>...</td>\n",
       "      <td>...</td>\n",
       "      <td>...</td>\n",
       "      <td>...</td>\n",
       "      <td>...</td>\n",
       "      <td>...</td>\n",
       "      <td>...</td>\n",
       "      <td>...</td>\n",
       "      <td>...</td>\n",
       "      <td>...</td>\n",
       "      <td>...</td>\n",
       "      <td>...</td>\n",
       "      <td>...</td>\n",
       "      <td>...</td>\n",
       "      <td>...</td>\n",
       "      <td>...</td>\n",
       "    </tr>\n",
       "    <tr>\n",
       "      <th>295</th>\n",
       "      <td>35191281181263036</td>\n",
       "      <td>55611</td>\n",
       "      <td>20200315</td>\n",
       "      <td>68001</td>\n",
       "      <td>0.34.4</td>\n",
       "      <td>-1</td>\n",
       "      <td>-1</td>\n",
       "      <td>GALAXY</td>\n",
       "      <td>1.1632</td>\n",
       "      <td>NaN</td>\n",
       "      <td>...</td>\n",
       "      <td>127.712819</td>\n",
       "      <td>1.1632</td>\n",
       "      <td>GALAXY</td>\n",
       "      <td>4.0</td>\n",
       "      <td>0</td>\n",
       "      <td>0.000000e+00</td>\n",
       "      <td>1.1632</td>\n",
       "      <td>--|--</td>\n",
       "      <td>2</td>\n",
       "      <td>none</td>\n",
       "    </tr>\n",
       "    <tr>\n",
       "      <th>296</th>\n",
       "      <td>35191281181263268</td>\n",
       "      <td>55611</td>\n",
       "      <td>20200315</td>\n",
       "      <td>68001</td>\n",
       "      <td>0.34.4</td>\n",
       "      <td>-1</td>\n",
       "      <td>-1</td>\n",
       "      <td>GALAXY</td>\n",
       "      <td>0.7820</td>\n",
       "      <td>NaN</td>\n",
       "      <td>...</td>\n",
       "      <td>83.020963</td>\n",
       "      <td>0.7820</td>\n",
       "      <td>GALAXY</td>\n",
       "      <td>4.0</td>\n",
       "      <td>0</td>\n",
       "      <td>0.000000e+00</td>\n",
       "      <td>0.7820</td>\n",
       "      <td>--|--</td>\n",
       "      <td>2</td>\n",
       "      <td>none</td>\n",
       "    </tr>\n",
       "    <tr>\n",
       "      <th>297</th>\n",
       "      <td>35191281181264139</td>\n",
       "      <td>55611</td>\n",
       "      <td>20200315</td>\n",
       "      <td>68001</td>\n",
       "      <td>0.34.4</td>\n",
       "      <td>-1</td>\n",
       "      <td>-1</td>\n",
       "      <td>GALAXY</td>\n",
       "      <td>0.9746</td>\n",
       "      <td>NaN</td>\n",
       "      <td>...</td>\n",
       "      <td>88.901476</td>\n",
       "      <td>0.9746</td>\n",
       "      <td>GALAXY</td>\n",
       "      <td>2.0</td>\n",
       "      <td>2</td>\n",
       "      <td>1.359374e-01</td>\n",
       "      <td>0.9746</td>\n",
       "      <td>--|Continuum is resolved But Very noisy signal...</td>\n",
       "      <td>2</td>\n",
       "      <td>none</td>\n",
       "    </tr>\n",
       "    <tr>\n",
       "      <th>298</th>\n",
       "      <td>35191281181264649</td>\n",
       "      <td>55611</td>\n",
       "      <td>20200315</td>\n",
       "      <td>68001</td>\n",
       "      <td>0.34.4</td>\n",
       "      <td>-1</td>\n",
       "      <td>-1</td>\n",
       "      <td>GALAXY</td>\n",
       "      <td>0.8672</td>\n",
       "      <td>NaN</td>\n",
       "      <td>...</td>\n",
       "      <td>163.699856</td>\n",
       "      <td>0.8672</td>\n",
       "      <td>GALAXY</td>\n",
       "      <td>4.0</td>\n",
       "      <td>0</td>\n",
       "      <td>0.000000e+00</td>\n",
       "      <td>0.8672</td>\n",
       "      <td>--|--</td>\n",
       "      <td>2</td>\n",
       "      <td>none</td>\n",
       "    </tr>\n",
       "    <tr>\n",
       "      <th>299</th>\n",
       "      <td>35191281181264870</td>\n",
       "      <td>55611</td>\n",
       "      <td>20200315</td>\n",
       "      <td>68001</td>\n",
       "      <td>0.34.4</td>\n",
       "      <td>-1</td>\n",
       "      <td>-1</td>\n",
       "      <td>GALAXY</td>\n",
       "      <td>0.7979</td>\n",
       "      <td>NaN</td>\n",
       "      <td>...</td>\n",
       "      <td>181.409848</td>\n",
       "      <td>0.7979</td>\n",
       "      <td>GALAXY</td>\n",
       "      <td>4.0</td>\n",
       "      <td>0</td>\n",
       "      <td>0.000000e+00</td>\n",
       "      <td>0.7979</td>\n",
       "      <td>--|--</td>\n",
       "      <td>2</td>\n",
       "      <td>none</td>\n",
       "    </tr>\n",
       "  </tbody>\n",
       "</table>\n",
       "<p>300 rows × 32 columns</p>\n",
       "</div>"
      ],
      "text/plain": [
       "              TARGETID  EXPID     NIGHT  TILEID Spec_version  Redrock_version  \\\n",
       "0    35191277557384124  55611  20200315   68001       0.34.4               -1   \n",
       "1    35191277557385194  55611  20200315   68001       0.34.4               -1   \n",
       "2    35191277561580179  55611  20200315   68001       0.34.4               -1   \n",
       "3    35191277565773296  55611  20200315   68001       0.34.4               -1   \n",
       "4    35191277565773729  55611  20200315   68001       0.34.4               -1   \n",
       "..                 ...    ...       ...     ...          ...              ...   \n",
       "295  35191281181263036  55611  20200315   68001       0.34.4               -1   \n",
       "296  35191281181263268  55611  20200315   68001       0.34.4               -1   \n",
       "297  35191281181264139  55611  20200315   68001       0.34.4               -1   \n",
       "298  35191281181264649  55611  20200315   68001       0.34.4               -1   \n",
       "299  35191281181264870  55611  20200315   68001       0.34.4               -1   \n",
       "\n",
       "     Template_version Redrock_spectype  Redrock_z VI_scanner  ...   DELTACHI2  \\\n",
       "0                  -1           GALAXY     1.0534        KSD  ...  134.008479   \n",
       "1                  -1           GALAXY     0.7980        KSD  ...  154.027289   \n",
       "2                  -1           GALAXY     0.9798        KSD  ...  179.828303   \n",
       "3                  -1           GALAXY     1.6643        KSD  ...    6.163075   \n",
       "4                  -1           GALAXY     1.2419        KSD  ...  345.014871   \n",
       "..                ...              ...        ...        ...  ...         ...   \n",
       "295                -1           GALAXY     1.1632        NaN  ...  127.712819   \n",
       "296                -1           GALAXY     0.7820        NaN  ...   83.020963   \n",
       "297                -1           GALAXY     0.9746        NaN  ...   88.901476   \n",
       "298                -1           GALAXY     0.8672        NaN  ...  163.699856   \n",
       "299                -1           GALAXY     0.7979        NaN  ...  181.409848   \n",
       "\n",
       "    best redshift  best spectype vi_combined_flag vi_diff            dz  \\\n",
       "0          1.0534         GALAXY              3.5       1  0.000000e+00   \n",
       "1          0.7980         GALAXY              3.5       1  6.174767e-17   \n",
       "2          0.9798         GALAXY              3.5       1  0.000000e+00   \n",
       "3          0.5143         GALAXY              2.5       1  7.594268e-01   \n",
       "4          1.2419         GALAXY              3.5       1  0.000000e+00   \n",
       "..            ...            ...              ...     ...           ...   \n",
       "295        1.1632         GALAXY              4.0       0  0.000000e+00   \n",
       "296        0.7820         GALAXY              4.0       0  0.000000e+00   \n",
       "297        0.9746         GALAXY              2.0       2  1.359374e-01   \n",
       "298        0.8672         GALAXY              4.0       0  0.000000e+00   \n",
       "299        0.7979         GALAXY              4.0       0  0.000000e+00   \n",
       "\n",
       "     vi_combined_z                                    all VI comments  N_VI  \\\n",
       "0           1.0534                                              --|--     2   \n",
       "1           0.7980                                              --|--     2   \n",
       "2           0.9798                                              --|--     2   \n",
       "3           1.6643  possibly a blend; funny continuum|Continuum re...     2   \n",
       "4           1.2419                                              --|--     2   \n",
       "..             ...                                                ...   ...   \n",
       "295         1.1632                                              --|--     2   \n",
       "296         0.7820                                              --|--     2   \n",
       "297         0.9746  --|Continuum is resolved But Very noisy signal...     2   \n",
       "298         0.8672                                              --|--     2   \n",
       "299         0.7979                                              --|--     2   \n",
       "\n",
       "     merger comment  \n",
       "0              none  \n",
       "1              none  \n",
       "2              none  \n",
       "3              none  \n",
       "4              none  \n",
       "..              ...  \n",
       "295            none  \n",
       "296            none  \n",
       "297            none  \n",
       "298            none  \n",
       "299            none  \n",
       "\n",
       "[300 rows x 32 columns]"
      ]
     },
     "metadata": {},
     "output_type": "display_data"
    }
   ],
   "source": [
    "#check all the new columns (keys) have been added correctly\n",
    "display(vi)\n",
    "#print(vi.keys())"
   ]
  },
  {
   "cell_type": "markdown",
   "metadata": {},
   "source": [
    "Get a table that holds only the objects that have been inspected more than once, and for which the individual VI classifications differ by 2 or more, or delta z / (1 + z) > 0.0033, or there is disagreement in best spectype (these are the conflicts to resolve)"
   ]
  },
  {
   "cell_type": "code",
   "execution_count": 91,
   "metadata": {},
   "outputs": [],
   "source": [
    "vi_gp = vi.groupby(['TARGETID'])\n",
    "vi_conflict = VI.find_conflicts(vi_gp)"
   ]
  },
  {
   "cell_type": "code",
   "execution_count": 92,
   "metadata": {},
   "outputs": [
    {
     "data": {
      "text/plain": [
       "150"
      ]
     },
     "execution_count": 92,
     "metadata": {},
     "output_type": "execute_result"
    }
   ],
   "source": [
    "len(vi_gp)"
   ]
  },
  {
   "cell_type": "markdown",
   "metadata": {},
   "source": [
    "Get the target IDs of the problematic objects and display in table form for a quick summary:"
   ]
  },
  {
   "cell_type": "code",
   "execution_count": 93,
   "metadata": {},
   "outputs": [
    {
     "name": "stdout",
     "output_type": "stream",
     "text": [
      "Targets with problematic VI:  [35191274000614197 35191274004808525 35191277565773296 35191277569966650\n",
      " 35191277590937828 35191277590937990 35191277590938241 35191277590938713\n",
      " 35191277595133531 35191277599329412 35191277603523851 35191281143513341\n",
      " 35191281147710346 35191281160292265 35191281177068074 35191281181264139]\n",
      "Total number of conflicts to resolve:  16\n"
     ]
    }
   ],
   "source": [
    "unique_targets = np.unique(vi_conflict['TARGETID'].tolist())\n",
    "print('Targets with problematic VI: ', unique_targets)\n",
    "print('Total number of conflicts to resolve: ', len(unique_targets))"
   ]
  },
  {
   "cell_type": "code",
   "execution_count": 94,
   "metadata": {},
   "outputs": [
    {
     "data": {
      "text/plain": [
       "35191274000614197"
      ]
     },
     "execution_count": 94,
     "metadata": {},
     "output_type": "execute_result"
    }
   ],
   "source": [
    "unique_targets[0]"
   ]
  },
  {
   "cell_type": "raw",
   "metadata": {},
   "source": [
    "for i in range(len(unique_targets)): \n",
    "    display(vi[vi.TargetID==unique_targets[i].astype(float)])"
   ]
  },
  {
   "cell_type": "markdown",
   "metadata": {},
   "source": [
    "## This is where I resolve things manually - with care!!\n",
    "### I think it's better to keep it in a notebook, as typos can be backtracked rather than a single manual edit of a text file\n",
    "\n",
    "We edit either 'VI class', or 'best redshift' to resolve conflict. At the end, we look for conflicts again and we should find none.\n"
   ]
  },
  {
   "cell_type": "code",
   "execution_count": 95,
   "metadata": {},
   "outputs": [],
   "source": [
    "#function to display the conflict in table format and open a prospect window\n",
    "def display_conflict(conflict_id, show_spectra=None):\n",
    "    \n",
    "    #first, remind myself of the problem:\n",
    "    display(vi[vi.TARGETID==unique_targets[conflict_id]][['TARGETID', \n",
    "       'Redrock_spectype', 'Redrock_z', 'VI_scanner', 'VI_quality', 'VI_issue',\n",
    "       'VI_z', 'VI_spectype', 'VI_comment',\n",
    "       'best redshift', 'best spectype', 'vi_combined_flag', 'vi_diff',\n",
    "       'vi_combined_z', 'dz', 'all VI comments', 'N_VI', 'merger comment']])\n",
    "\n",
    "    spectra, zcat= utils_specviewer.load_spectra_zcat_from_targets([unique_targets[conflict_id]], tiledir, obs_db)\n",
    "    # VI interface in notebook\n",
    "    if show_spectra:\n",
    "        plotframes.plotspectra(spectra, zcatalog=zcat, title='Target_select', notebook=True, mask_type='CMX_TARGET',with_vi_widgets=False)"
   ]
  },
  {
   "cell_type": "code",
   "execution_count": 96,
   "metadata": {},
   "outputs": [],
   "source": [
    "#first, keep a safe copy of the original dataframe\n",
    "vi_safe = vi.copy()"
   ]
  },
  {
   "cell_type": "markdown",
   "metadata": {},
   "source": [
    "We will inspect each conflict on a prospect window, and resolve each conflict in turn"
   ]
  },
  {
   "cell_type": "raw",
   "metadata": {},
   "source": [
    "#copy this text to a new cell to display the conflict\n",
    "conflict_id=\n",
    "display_conflict(conflict_id)\n",
    "\n",
    "========\n",
    "#copy this text to a new cell to resolve the conflict\n",
    "vi.loc[vi.TargetID==unique_targets[conflict_id], 'best redshift'] = \n",
    "vi.loc[vi.TargetID==unique_targets[conflict_id], 'VI class'] = \n",
    "vi.loc[vi.TargetID==unique_targets[conflict_id], 'best spectype'] = \n",
    "\n",
    "#add a comment\n",
    "vi.loc[vi.TargetID==unique_targets[conflict_id], 'merger comment'] = \n",
    "\n",
    "#look at the values agbain to make sure all is well\n",
    "print('conflict ID = ', conflict_id)\n",
    "display(vi[vi.TargetID==unique_targets[conflict_id]])"
   ]
  },
  {
   "cell_type": "code",
   "execution_count": 97,
   "metadata": {},
   "outputs": [],
   "source": [
    "show_spectra = False"
   ]
  },
  {
   "cell_type": "code",
   "execution_count": 98,
   "metadata": {},
   "outputs": [
    {
     "data": {
      "text/html": [
       "<div>\n",
       "<style scoped>\n",
       "    .dataframe tbody tr th:only-of-type {\n",
       "        vertical-align: middle;\n",
       "    }\n",
       "\n",
       "    .dataframe tbody tr th {\n",
       "        vertical-align: top;\n",
       "    }\n",
       "\n",
       "    .dataframe thead th {\n",
       "        text-align: right;\n",
       "    }\n",
       "</style>\n",
       "<table border=\"1\" class=\"dataframe\">\n",
       "  <thead>\n",
       "    <tr style=\"text-align: right;\">\n",
       "      <th></th>\n",
       "      <th>TARGETID</th>\n",
       "      <th>Redrock_spectype</th>\n",
       "      <th>Redrock_z</th>\n",
       "      <th>VI_scanner</th>\n",
       "      <th>VI_quality</th>\n",
       "      <th>VI_issue</th>\n",
       "      <th>VI_z</th>\n",
       "      <th>VI_spectype</th>\n",
       "      <th>VI_comment</th>\n",
       "      <th>best redshift</th>\n",
       "      <th>best spectype</th>\n",
       "      <th>vi_combined_flag</th>\n",
       "      <th>vi_diff</th>\n",
       "      <th>vi_combined_z</th>\n",
       "      <th>dz</th>\n",
       "      <th>all VI comments</th>\n",
       "      <th>N_VI</th>\n",
       "      <th>merger comment</th>\n",
       "    </tr>\n",
       "  </thead>\n",
       "  <tbody>\n",
       "    <tr>\n",
       "      <th>38</th>\n",
       "      <td>35191274000614197</td>\n",
       "      <td>GALAXY</td>\n",
       "      <td>0.3792</td>\n",
       "      <td>KSD</td>\n",
       "      <td>3</td>\n",
       "      <td>S</td>\n",
       "      <td>0.4424</td>\n",
       "      <td>NaN</td>\n",
       "      <td>poor sky subraction around 7000 AA; superposit...</td>\n",
       "      <td>0.4424</td>\n",
       "      <td>GALAXY</td>\n",
       "      <td>3.5</td>\n",
       "      <td>1</td>\n",
       "      <td>0.3792</td>\n",
       "      <td>0.045824</td>\n",
       "      <td>poor sky subraction around 7000 AA; superposit...</td>\n",
       "      <td>2</td>\n",
       "      <td>none</td>\n",
       "    </tr>\n",
       "    <tr>\n",
       "      <th>88</th>\n",
       "      <td>35191274000614197</td>\n",
       "      <td>GALAXY</td>\n",
       "      <td>0.3792</td>\n",
       "      <td>PNT</td>\n",
       "      <td>4</td>\n",
       "      <td>S</td>\n",
       "      <td>0.3792</td>\n",
       "      <td>GALAXY</td>\n",
       "      <td>At around lambda=7000A there is a mismatch due...</td>\n",
       "      <td>0.3792</td>\n",
       "      <td>GALAXY</td>\n",
       "      <td>3.5</td>\n",
       "      <td>1</td>\n",
       "      <td>0.3792</td>\n",
       "      <td>0.045824</td>\n",
       "      <td>poor sky subraction around 7000 AA; superposit...</td>\n",
       "      <td>2</td>\n",
       "      <td>none</td>\n",
       "    </tr>\n",
       "  </tbody>\n",
       "</table>\n",
       "</div>"
      ],
      "text/plain": [
       "             TARGETID Redrock_spectype  Redrock_z VI_scanner  VI_quality  \\\n",
       "38  35191274000614197           GALAXY     0.3792        KSD           3   \n",
       "88  35191274000614197           GALAXY     0.3792        PNT           4   \n",
       "\n",
       "   VI_issue    VI_z VI_spectype  \\\n",
       "38        S  0.4424         NaN   \n",
       "88        S  0.3792      GALAXY   \n",
       "\n",
       "                                           VI_comment  best redshift  \\\n",
       "38  poor sky subraction around 7000 AA; superposit...         0.4424   \n",
       "88  At around lambda=7000A there is a mismatch due...         0.3792   \n",
       "\n",
       "   best spectype  vi_combined_flag  vi_diff  vi_combined_z        dz  \\\n",
       "38        GALAXY               3.5        1         0.3792  0.045824   \n",
       "88        GALAXY               3.5        1         0.3792  0.045824   \n",
       "\n",
       "                                      all VI comments  N_VI merger comment  \n",
       "38  poor sky subraction around 7000 AA; superposit...     2           none  \n",
       "88  poor sky subraction around 7000 AA; superposit...     2           none  "
      ]
     },
     "metadata": {},
     "output_type": "display_data"
    }
   ],
   "source": [
    "#Keep track of the conflicts by conflict_id\n",
    "\n",
    "#copy this text to a new cell to display the conflict\n",
    "conflict_id=0\n",
    "display_conflict(conflict_id, show_spectra=show_spectra)"
   ]
  },
  {
   "cell_type": "code",
   "execution_count": 99,
   "metadata": {},
   "outputs": [
    {
     "name": "stdout",
     "output_type": "stream",
     "text": [
      "38    4\n",
      "88    4\n",
      "Name: VI_quality, dtype: int64\n",
      "conflict ID =  0\n"
     ]
    }
   ],
   "source": [
    "#copy this text to a new cell to resolve the conflict\n",
    "vi.loc[vi.TARGETID==unique_targets[conflict_id], 'best redshift'] = 0.4424\n",
    "vi.loc[vi.TARGETID==unique_targets[conflict_id], 'VI_quality'] = 4\n",
    "#vi.loc[vi.TARGETID==unique_targets[conflict_id], 'best spectype'] = 'GALAXY'\n",
    "\n",
    "#add a comment\n",
    "vi.loc[vi.TARGETID==unique_targets[conflict_id], 'merger comment'] = 'Bad sky subtraction. Redshif is robust.'\n",
    "\n",
    "#look at the values again to make sure all is well\n",
    "#display(vi[vi.TARGETID==unique_targets[conflict_id]])\n",
    "print(vi[vi.TARGETID==unique_targets[conflict_id]]['VI_quality'])\n",
    "print('conflict ID = ', conflict_id)"
   ]
  },
  {
   "cell_type": "code",
   "execution_count": 100,
   "metadata": {},
   "outputs": [
    {
     "data": {
      "text/html": [
       "<div>\n",
       "<style scoped>\n",
       "    .dataframe tbody tr th:only-of-type {\n",
       "        vertical-align: middle;\n",
       "    }\n",
       "\n",
       "    .dataframe tbody tr th {\n",
       "        vertical-align: top;\n",
       "    }\n",
       "\n",
       "    .dataframe thead th {\n",
       "        text-align: right;\n",
       "    }\n",
       "</style>\n",
       "<table border=\"1\" class=\"dataframe\">\n",
       "  <thead>\n",
       "    <tr style=\"text-align: right;\">\n",
       "      <th></th>\n",
       "      <th>TARGETID</th>\n",
       "      <th>Redrock_spectype</th>\n",
       "      <th>Redrock_z</th>\n",
       "      <th>VI_scanner</th>\n",
       "      <th>VI_quality</th>\n",
       "      <th>VI_issue</th>\n",
       "      <th>VI_z</th>\n",
       "      <th>VI_spectype</th>\n",
       "      <th>VI_comment</th>\n",
       "      <th>best redshift</th>\n",
       "      <th>best spectype</th>\n",
       "      <th>vi_combined_flag</th>\n",
       "      <th>vi_diff</th>\n",
       "      <th>vi_combined_z</th>\n",
       "      <th>dz</th>\n",
       "      <th>all VI comments</th>\n",
       "      <th>N_VI</th>\n",
       "      <th>merger comment</th>\n",
       "    </tr>\n",
       "  </thead>\n",
       "  <tbody>\n",
       "    <tr>\n",
       "      <th>42</th>\n",
       "      <td>35191274004808525</td>\n",
       "      <td>GALAXY</td>\n",
       "      <td>0.965</td>\n",
       "      <td>KSD</td>\n",
       "      <td>2</td>\n",
       "      <td>NaN</td>\n",
       "      <td>0.965</td>\n",
       "      <td>NaN</td>\n",
       "      <td>possible blend w/z=0.9198</td>\n",
       "      <td>0.965</td>\n",
       "      <td>GALAXY</td>\n",
       "      <td>3.0</td>\n",
       "      <td>2</td>\n",
       "      <td>0.965</td>\n",
       "      <td>0.0</td>\n",
       "      <td>possible blend w/z=0.9198|--</td>\n",
       "      <td>2</td>\n",
       "      <td>none</td>\n",
       "    </tr>\n",
       "    <tr>\n",
       "      <th>92</th>\n",
       "      <td>35191274004808525</td>\n",
       "      <td>GALAXY</td>\n",
       "      <td>0.965</td>\n",
       "      <td>PNT</td>\n",
       "      <td>4</td>\n",
       "      <td>NaN</td>\n",
       "      <td>0.965</td>\n",
       "      <td>GALAXY</td>\n",
       "      <td>--</td>\n",
       "      <td>0.965</td>\n",
       "      <td>GALAXY</td>\n",
       "      <td>3.0</td>\n",
       "      <td>2</td>\n",
       "      <td>0.965</td>\n",
       "      <td>0.0</td>\n",
       "      <td>possible blend w/z=0.9198|--</td>\n",
       "      <td>2</td>\n",
       "      <td>none</td>\n",
       "    </tr>\n",
       "  </tbody>\n",
       "</table>\n",
       "</div>"
      ],
      "text/plain": [
       "             TARGETID Redrock_spectype  Redrock_z VI_scanner  VI_quality  \\\n",
       "42  35191274004808525           GALAXY      0.965        KSD           2   \n",
       "92  35191274004808525           GALAXY      0.965        PNT           4   \n",
       "\n",
       "   VI_issue   VI_z VI_spectype                 VI_comment  best redshift  \\\n",
       "42      NaN  0.965         NaN  possible blend w/z=0.9198          0.965   \n",
       "92      NaN  0.965      GALAXY                         --          0.965   \n",
       "\n",
       "   best spectype  vi_combined_flag  vi_diff  vi_combined_z   dz  \\\n",
       "42        GALAXY               3.0        2          0.965  0.0   \n",
       "92        GALAXY               3.0        2          0.965  0.0   \n",
       "\n",
       "                 all VI comments  N_VI merger comment  \n",
       "42  possible blend w/z=0.9198|--     2           none  \n",
       "92  possible blend w/z=0.9198|--     2           none  "
      ]
     },
     "metadata": {},
     "output_type": "display_data"
    }
   ],
   "source": [
    "#copy this text to a new cell to display the conflict\n",
    "conflict_id=1\n",
    "display_conflict(conflict_id, show_spectra=show_spectra)"
   ]
  },
  {
   "cell_type": "code",
   "execution_count": 101,
   "metadata": {},
   "outputs": [
    {
     "name": "stdout",
     "output_type": "stream",
     "text": [
      "conflict ID =  1\n"
     ]
    }
   ],
   "source": [
    "#copy this text to a new cell to resolve the conflict\n",
    "#vi.loc[vi.TARGETID==unique_targets[conflict_id], 'best redshift'] = 0.8101\n",
    "vi.loc[vi.TARGETID==unique_targets[conflict_id], 'VI_quality'] =3\n",
    "#vi.loc[vi.TargetID==unique_targets[conflict_id], 'best spectype'] = \n",
    "\n",
    "#add a comment\n",
    "vi.loc[vi.TARGETID==unique_targets[conflict_id], 'merger comment'] = 'relative low S/N CaII, but should be robust.'\n",
    "##look at the values again to make sure all is well\n",
    "#display(vi[vi.TARGETID==unique_targets[conflict_id]])\n",
    "#print(vi[vi.TARGETID==unique_targets[conflict_id]]['VI_quality'])\n",
    "print('conflict ID = ', conflict_id)\n",
    "\n"
   ]
  },
  {
   "cell_type": "code",
   "execution_count": 102,
   "metadata": {},
   "outputs": [
    {
     "data": {
      "text/html": [
       "<div>\n",
       "<style scoped>\n",
       "    .dataframe tbody tr th:only-of-type {\n",
       "        vertical-align: middle;\n",
       "    }\n",
       "\n",
       "    .dataframe tbody tr th {\n",
       "        vertical-align: top;\n",
       "    }\n",
       "\n",
       "    .dataframe thead th {\n",
       "        text-align: right;\n",
       "    }\n",
       "</style>\n",
       "<table border=\"1\" class=\"dataframe\">\n",
       "  <thead>\n",
       "    <tr style=\"text-align: right;\">\n",
       "      <th></th>\n",
       "      <th>TARGETID</th>\n",
       "      <th>Redrock_spectype</th>\n",
       "      <th>Redrock_z</th>\n",
       "      <th>VI_scanner</th>\n",
       "      <th>VI_quality</th>\n",
       "      <th>VI_issue</th>\n",
       "      <th>VI_z</th>\n",
       "      <th>VI_spectype</th>\n",
       "      <th>VI_comment</th>\n",
       "      <th>best redshift</th>\n",
       "      <th>best spectype</th>\n",
       "      <th>vi_combined_flag</th>\n",
       "      <th>vi_diff</th>\n",
       "      <th>vi_combined_z</th>\n",
       "      <th>dz</th>\n",
       "      <th>all VI comments</th>\n",
       "      <th>N_VI</th>\n",
       "      <th>merger comment</th>\n",
       "    </tr>\n",
       "  </thead>\n",
       "  <tbody>\n",
       "    <tr>\n",
       "      <th>3</th>\n",
       "      <td>35191277565773296</td>\n",
       "      <td>GALAXY</td>\n",
       "      <td>1.6643</td>\n",
       "      <td>KSD</td>\n",
       "      <td>3</td>\n",
       "      <td>NaN</td>\n",
       "      <td>0.5143</td>\n",
       "      <td>NaN</td>\n",
       "      <td>possibly a blend; funny continuum</td>\n",
       "      <td>0.5143</td>\n",
       "      <td>GALAXY</td>\n",
       "      <td>2.5</td>\n",
       "      <td>1</td>\n",
       "      <td>1.6643</td>\n",
       "      <td>0.759427</td>\n",
       "      <td>possibly a blend; funny continuum|Continuum re...</td>\n",
       "      <td>2</td>\n",
       "      <td>none</td>\n",
       "    </tr>\n",
       "    <tr>\n",
       "      <th>53</th>\n",
       "      <td>35191277565773296</td>\n",
       "      <td>GALAXY</td>\n",
       "      <td>1.6643</td>\n",
       "      <td>PNT</td>\n",
       "      <td>2</td>\n",
       "      <td>NaN</td>\n",
       "      <td>1.6643</td>\n",
       "      <td>GALAXY</td>\n",
       "      <td>Continuum resolved No feature is deteced</td>\n",
       "      <td>1.6643</td>\n",
       "      <td>GALAXY</td>\n",
       "      <td>2.5</td>\n",
       "      <td>1</td>\n",
       "      <td>1.6643</td>\n",
       "      <td>0.759427</td>\n",
       "      <td>possibly a blend; funny continuum|Continuum re...</td>\n",
       "      <td>2</td>\n",
       "      <td>none</td>\n",
       "    </tr>\n",
       "  </tbody>\n",
       "</table>\n",
       "</div>"
      ],
      "text/plain": [
       "             TARGETID Redrock_spectype  Redrock_z VI_scanner  VI_quality  \\\n",
       "3   35191277565773296           GALAXY     1.6643        KSD           3   \n",
       "53  35191277565773296           GALAXY     1.6643        PNT           2   \n",
       "\n",
       "   VI_issue    VI_z VI_spectype                                VI_comment  \\\n",
       "3       NaN  0.5143         NaN         possibly a blend; funny continuum   \n",
       "53      NaN  1.6643      GALAXY  Continuum resolved No feature is deteced   \n",
       "\n",
       "    best redshift best spectype  vi_combined_flag  vi_diff  vi_combined_z  \\\n",
       "3          0.5143        GALAXY               2.5        1         1.6643   \n",
       "53         1.6643        GALAXY               2.5        1         1.6643   \n",
       "\n",
       "          dz                                    all VI comments  N_VI  \\\n",
       "3   0.759427  possibly a blend; funny continuum|Continuum re...     2   \n",
       "53  0.759427  possibly a blend; funny continuum|Continuum re...     2   \n",
       "\n",
       "   merger comment  \n",
       "3            none  \n",
       "53           none  "
      ]
     },
     "metadata": {},
     "output_type": "display_data"
    }
   ],
   "source": [
    "#copy this text to a new cell to display the conflict\n",
    "conflict_id=2\n",
    "display_conflict(conflict_id, show_spectra=show_spectra)"
   ]
  },
  {
   "cell_type": "code",
   "execution_count": 103,
   "metadata": {},
   "outputs": [
    {
     "name": "stdout",
     "output_type": "stream",
     "text": [
      "conflict ID =  2\n"
     ]
    }
   ],
   "source": [
    "#copy this text to a new cell to resolve the conflict\n",
    "vi.loc[vi.TARGETID==unique_targets[conflict_id], 'best redshift'] = 0.5143\n",
    "vi.loc[vi.TARGETID==unique_targets[conflict_id], 'VI_quality'] = 4\n",
    "#vi.loc[vi.TargetID==unique_targets[conflict_id], 'best spectype'] = \n",
    "\n",
    "#add a comment\n",
    "vi.loc[vi.TARGETID==unique_targets[conflict_id], 'merger comment'] = 'disagreement in quality. Redshift is robust. CaII + NaD'\n",
    "\n",
    "#look at the values again to make sure all is well\n",
    "#display(vi[vi.TARGETID==unique_targets[conflict_id]])\n",
    "print('conflict ID = ', conflict_id)\n"
   ]
  },
  {
   "cell_type": "code",
   "execution_count": 104,
   "metadata": {},
   "outputs": [
    {
     "data": {
      "text/html": [
       "<div>\n",
       "<style scoped>\n",
       "    .dataframe tbody tr th:only-of-type {\n",
       "        vertical-align: middle;\n",
       "    }\n",
       "\n",
       "    .dataframe tbody tr th {\n",
       "        vertical-align: top;\n",
       "    }\n",
       "\n",
       "    .dataframe thead th {\n",
       "        text-align: right;\n",
       "    }\n",
       "</style>\n",
       "<table border=\"1\" class=\"dataframe\">\n",
       "  <thead>\n",
       "    <tr style=\"text-align: right;\">\n",
       "      <th></th>\n",
       "      <th>TARGETID</th>\n",
       "      <th>Redrock_spectype</th>\n",
       "      <th>Redrock_z</th>\n",
       "      <th>VI_scanner</th>\n",
       "      <th>VI_quality</th>\n",
       "      <th>VI_issue</th>\n",
       "      <th>VI_z</th>\n",
       "      <th>VI_spectype</th>\n",
       "      <th>VI_comment</th>\n",
       "      <th>best redshift</th>\n",
       "      <th>best spectype</th>\n",
       "      <th>vi_combined_flag</th>\n",
       "      <th>vi_diff</th>\n",
       "      <th>vi_combined_z</th>\n",
       "      <th>dz</th>\n",
       "      <th>all VI comments</th>\n",
       "      <th>N_VI</th>\n",
       "      <th>merger comment</th>\n",
       "    </tr>\n",
       "  </thead>\n",
       "  <tbody>\n",
       "    <tr>\n",
       "      <th>9</th>\n",
       "      <td>35191277569966650</td>\n",
       "      <td>QSO</td>\n",
       "      <td>0.817</td>\n",
       "      <td>KSD</td>\n",
       "      <td>3</td>\n",
       "      <td>NaN</td>\n",
       "      <td>0.8191</td>\n",
       "      <td>NaN</td>\n",
       "      <td>odd template around OIII</td>\n",
       "      <td>0.8191</td>\n",
       "      <td>QSO</td>\n",
       "      <td>3.5</td>\n",
       "      <td>1</td>\n",
       "      <td>0.81805</td>\n",
       "      <td>0.001156</td>\n",
       "      <td>odd template around OIII|--</td>\n",
       "      <td>2</td>\n",
       "      <td>none</td>\n",
       "    </tr>\n",
       "    <tr>\n",
       "      <th>59</th>\n",
       "      <td>35191277569966650</td>\n",
       "      <td>QSO</td>\n",
       "      <td>0.817</td>\n",
       "      <td>PNT</td>\n",
       "      <td>4</td>\n",
       "      <td>NaN</td>\n",
       "      <td>0.8170</td>\n",
       "      <td>GALAXY</td>\n",
       "      <td>--</td>\n",
       "      <td>0.8170</td>\n",
       "      <td>GALAXY</td>\n",
       "      <td>3.5</td>\n",
       "      <td>1</td>\n",
       "      <td>0.81805</td>\n",
       "      <td>0.001156</td>\n",
       "      <td>odd template around OIII|--</td>\n",
       "      <td>2</td>\n",
       "      <td>none</td>\n",
       "    </tr>\n",
       "  </tbody>\n",
       "</table>\n",
       "</div>"
      ],
      "text/plain": [
       "             TARGETID Redrock_spectype  Redrock_z VI_scanner  VI_quality  \\\n",
       "9   35191277569966650              QSO      0.817        KSD           3   \n",
       "59  35191277569966650              QSO      0.817        PNT           4   \n",
       "\n",
       "   VI_issue    VI_z VI_spectype                VI_comment  best redshift  \\\n",
       "9       NaN  0.8191         NaN  odd template around OIII         0.8191   \n",
       "59      NaN  0.8170      GALAXY                        --         0.8170   \n",
       "\n",
       "   best spectype  vi_combined_flag  vi_diff  vi_combined_z        dz  \\\n",
       "9            QSO               3.5        1        0.81805  0.001156   \n",
       "59        GALAXY               3.5        1        0.81805  0.001156   \n",
       "\n",
       "                all VI comments  N_VI merger comment  \n",
       "9   odd template around OIII|--     2           none  \n",
       "59  odd template around OIII|--     2           none  "
      ]
     },
     "metadata": {},
     "output_type": "display_data"
    }
   ],
   "source": [
    "#copy this text to a new cell to display the conflict\n",
    "conflict_id=3\n",
    "display_conflict(conflict_id, show_spectra=show_spectra)\n"
   ]
  },
  {
   "cell_type": "code",
   "execution_count": 105,
   "metadata": {},
   "outputs": [
    {
     "name": "stdout",
     "output_type": "stream",
     "text": [
      "conflict ID =  3\n"
     ]
    }
   ],
   "source": [
    "#copy this text to a new cell to resolve the conflict\n",
    "vi.loc[vi.TARGETID==unique_targets[conflict_id], 'best redshift'] = 0.8191\n",
    "vi.loc[vi.TARGETID==unique_targets[conflict_id], 'VI_quality'] = 4\n",
    "vi.loc[vi.TARGETID==unique_targets[conflict_id], 'best spectype'] = 'GALAXY' \n",
    "\n",
    "#add a comment\n",
    "vi.loc[vi.TARGETID==unique_targets[conflict_id], 'merger comment'] = 'Redshift is robust.'\n",
    "\n",
    "#look at the values again to make sure all is well\n",
    "#display(vi[vi.TARGETID==unique_targets[conflict_id]])\n",
    "#print(vi[vi.TARGETID==unique_targets[conflict_id]]['VI_quality'])\n",
    "print('conflict ID = ', conflict_id)\n"
   ]
  },
  {
   "cell_type": "code",
   "execution_count": 106,
   "metadata": {},
   "outputs": [
    {
     "data": {
      "text/html": [
       "<div>\n",
       "<style scoped>\n",
       "    .dataframe tbody tr th:only-of-type {\n",
       "        vertical-align: middle;\n",
       "    }\n",
       "\n",
       "    .dataframe tbody tr th {\n",
       "        vertical-align: top;\n",
       "    }\n",
       "\n",
       "    .dataframe thead th {\n",
       "        text-align: right;\n",
       "    }\n",
       "</style>\n",
       "<table border=\"1\" class=\"dataframe\">\n",
       "  <thead>\n",
       "    <tr style=\"text-align: right;\">\n",
       "      <th></th>\n",
       "      <th>TARGETID</th>\n",
       "      <th>Redrock_spectype</th>\n",
       "      <th>Redrock_z</th>\n",
       "      <th>VI_scanner</th>\n",
       "      <th>VI_quality</th>\n",
       "      <th>VI_issue</th>\n",
       "      <th>VI_z</th>\n",
       "      <th>VI_spectype</th>\n",
       "      <th>VI_comment</th>\n",
       "      <th>best redshift</th>\n",
       "      <th>best spectype</th>\n",
       "      <th>vi_combined_flag</th>\n",
       "      <th>vi_diff</th>\n",
       "      <th>vi_combined_z</th>\n",
       "      <th>dz</th>\n",
       "      <th>all VI comments</th>\n",
       "      <th>N_VI</th>\n",
       "      <th>merger comment</th>\n",
       "    </tr>\n",
       "  </thead>\n",
       "  <tbody>\n",
       "    <tr>\n",
       "      <th>120</th>\n",
       "      <td>35191277590937828</td>\n",
       "      <td>GALAXY</td>\n",
       "      <td>0.6315</td>\n",
       "      <td>KSD</td>\n",
       "      <td>3</td>\n",
       "      <td>R</td>\n",
       "      <td>0.6369</td>\n",
       "      <td>NaN</td>\n",
       "      <td>spurious signal modeled as negative OIII - coi...</td>\n",
       "      <td>0.6369</td>\n",
       "      <td>GALAXY</td>\n",
       "      <td>3.5</td>\n",
       "      <td>1</td>\n",
       "      <td>0.6315</td>\n",
       "      <td>0.00331</td>\n",
       "      <td>spurious signal modeled as negative OIII - coi...</td>\n",
       "      <td>2</td>\n",
       "      <td>none</td>\n",
       "    </tr>\n",
       "    <tr>\n",
       "      <th>170</th>\n",
       "      <td>35191277590937828</td>\n",
       "      <td>GALAXY</td>\n",
       "      <td>0.6315</td>\n",
       "      <td>PNT</td>\n",
       "      <td>4</td>\n",
       "      <td>NaN</td>\n",
       "      <td>0.6315</td>\n",
       "      <td>GALAXY</td>\n",
       "      <td>Ca(K) missing from the model</td>\n",
       "      <td>0.6315</td>\n",
       "      <td>GALAXY</td>\n",
       "      <td>3.5</td>\n",
       "      <td>1</td>\n",
       "      <td>0.6315</td>\n",
       "      <td>0.00331</td>\n",
       "      <td>spurious signal modeled as negative OIII - coi...</td>\n",
       "      <td>2</td>\n",
       "      <td>none</td>\n",
       "    </tr>\n",
       "  </tbody>\n",
       "</table>\n",
       "</div>"
      ],
      "text/plain": [
       "              TARGETID Redrock_spectype  Redrock_z VI_scanner  VI_quality  \\\n",
       "120  35191277590937828           GALAXY     0.6315        KSD           3   \n",
       "170  35191277590937828           GALAXY     0.6315        PNT           4   \n",
       "\n",
       "    VI_issue    VI_z VI_spectype  \\\n",
       "120        R  0.6369         NaN   \n",
       "170      NaN  0.6315      GALAXY   \n",
       "\n",
       "                                            VI_comment  best redshift  \\\n",
       "120  spurious signal modeled as negative OIII - coi...         0.6369   \n",
       "170                       Ca(K) missing from the model         0.6315   \n",
       "\n",
       "    best spectype  vi_combined_flag  vi_diff  vi_combined_z       dz  \\\n",
       "120        GALAXY               3.5        1         0.6315  0.00331   \n",
       "170        GALAXY               3.5        1         0.6315  0.00331   \n",
       "\n",
       "                                       all VI comments  N_VI merger comment  \n",
       "120  spurious signal modeled as negative OIII - coi...     2           none  \n",
       "170  spurious signal modeled as negative OIII - coi...     2           none  "
      ]
     },
     "metadata": {},
     "output_type": "display_data"
    }
   ],
   "source": [
    "#copy this text to a new cell to display the conflict\n",
    "conflict_id=4\n",
    "display_conflict(conflict_id, show_spectra=show_spectra)\n"
   ]
  },
  {
   "cell_type": "code",
   "execution_count": 107,
   "metadata": {},
   "outputs": [
    {
     "name": "stdout",
     "output_type": "stream",
     "text": [
      "conflict ID =  4\n"
     ]
    }
   ],
   "source": [
    "#copy this text to a new cell to resolve the conflict\n",
    "vi.loc[vi.TARGETID==unique_targets[conflict_id], 'best redshift'] = 0.6360\n",
    "vi.loc[vi.TARGETID==unique_targets[conflict_id], 'VI_quality'] = 3\n",
    "#vi.loc[vi.TargetID==unique_targets[conflict_id], 'best spectype'] = \n",
    "\n",
    "#add a comment\n",
    "vi.loc[vi.TARGETID==unique_targets[conflict_id], 'merger comment'] = 'Very bad calibration.'\n",
    "#look at the values again to make sure all is well\n",
    "#display(vi[vi.TARGETID==unique_targets[conflict_id]])\n",
    "#print(vi[vi.TARGETID==unique_targets[conflict_id]]['VI_quality'])\n",
    "print('conflict ID = ', conflict_id)"
   ]
  },
  {
   "cell_type": "code",
   "execution_count": 108,
   "metadata": {},
   "outputs": [
    {
     "data": {
      "text/html": [
       "<div>\n",
       "<style scoped>\n",
       "    .dataframe tbody tr th:only-of-type {\n",
       "        vertical-align: middle;\n",
       "    }\n",
       "\n",
       "    .dataframe tbody tr th {\n",
       "        vertical-align: top;\n",
       "    }\n",
       "\n",
       "    .dataframe thead th {\n",
       "        text-align: right;\n",
       "    }\n",
       "</style>\n",
       "<table border=\"1\" class=\"dataframe\">\n",
       "  <thead>\n",
       "    <tr style=\"text-align: right;\">\n",
       "      <th></th>\n",
       "      <th>TARGETID</th>\n",
       "      <th>Redrock_spectype</th>\n",
       "      <th>Redrock_z</th>\n",
       "      <th>VI_scanner</th>\n",
       "      <th>VI_quality</th>\n",
       "      <th>VI_issue</th>\n",
       "      <th>VI_z</th>\n",
       "      <th>VI_spectype</th>\n",
       "      <th>VI_comment</th>\n",
       "      <th>best redshift</th>\n",
       "      <th>best spectype</th>\n",
       "      <th>vi_combined_flag</th>\n",
       "      <th>vi_diff</th>\n",
       "      <th>vi_combined_z</th>\n",
       "      <th>dz</th>\n",
       "      <th>all VI comments</th>\n",
       "      <th>N_VI</th>\n",
       "      <th>merger comment</th>\n",
       "    </tr>\n",
       "  </thead>\n",
       "  <tbody>\n",
       "    <tr>\n",
       "      <th>121</th>\n",
       "      <td>35191277590937990</td>\n",
       "      <td>GALAXY</td>\n",
       "      <td>0.5668</td>\n",
       "      <td>KSD</td>\n",
       "      <td>0</td>\n",
       "      <td>NaN</td>\n",
       "      <td>0.5668</td>\n",
       "      <td>NaN</td>\n",
       "      <td>Two objects in spectrum</td>\n",
       "      <td>0.5668</td>\n",
       "      <td>GALAXY</td>\n",
       "      <td>2.0</td>\n",
       "      <td>4</td>\n",
       "      <td>0.5678</td>\n",
       "      <td>0.001276</td>\n",
       "      <td>Two objects in spectrum|Calibration of the red...</td>\n",
       "      <td>2</td>\n",
       "      <td>none</td>\n",
       "    </tr>\n",
       "    <tr>\n",
       "      <th>171</th>\n",
       "      <td>35191277590937990</td>\n",
       "      <td>GALAXY</td>\n",
       "      <td>0.5668</td>\n",
       "      <td>PNT</td>\n",
       "      <td>4</td>\n",
       "      <td>R</td>\n",
       "      <td>0.5688</td>\n",
       "      <td>GALAXY</td>\n",
       "      <td>Calibration of the redshift using Ca(K) and Ca...</td>\n",
       "      <td>0.5688</td>\n",
       "      <td>GALAXY</td>\n",
       "      <td>2.0</td>\n",
       "      <td>4</td>\n",
       "      <td>0.5678</td>\n",
       "      <td>0.001276</td>\n",
       "      <td>Two objects in spectrum|Calibration of the red...</td>\n",
       "      <td>2</td>\n",
       "      <td>none</td>\n",
       "    </tr>\n",
       "  </tbody>\n",
       "</table>\n",
       "</div>"
      ],
      "text/plain": [
       "              TARGETID Redrock_spectype  Redrock_z VI_scanner  VI_quality  \\\n",
       "121  35191277590937990           GALAXY     0.5668        KSD           0   \n",
       "171  35191277590937990           GALAXY     0.5668        PNT           4   \n",
       "\n",
       "    VI_issue    VI_z VI_spectype  \\\n",
       "121      NaN  0.5668         NaN   \n",
       "171        R  0.5688      GALAXY   \n",
       "\n",
       "                                            VI_comment  best redshift  \\\n",
       "121                            Two objects in spectrum         0.5668   \n",
       "171  Calibration of the redshift using Ca(K) and Ca...         0.5688   \n",
       "\n",
       "    best spectype  vi_combined_flag  vi_diff  vi_combined_z        dz  \\\n",
       "121        GALAXY               2.0        4         0.5678  0.001276   \n",
       "171        GALAXY               2.0        4         0.5678  0.001276   \n",
       "\n",
       "                                       all VI comments  N_VI merger comment  \n",
       "121  Two objects in spectrum|Calibration of the red...     2           none  \n",
       "171  Two objects in spectrum|Calibration of the red...     2           none  "
      ]
     },
     "metadata": {},
     "output_type": "display_data"
    }
   ],
   "source": [
    "#copy this text to a new cell to display the conflict\n",
    "conflict_id=5\n",
    "display_conflict(conflict_id, show_spectra=show_spectra)"
   ]
  },
  {
   "cell_type": "code",
   "execution_count": 109,
   "metadata": {},
   "outputs": [
    {
     "name": "stdout",
     "output_type": "stream",
     "text": [
      "conflict ID =  5\n"
     ]
    }
   ],
   "source": [
    "#copy this text to a new cell to resolve the conflict\n",
    "#vi.loc[vi.TargetID==unique_targets[conflict_id], 'best redshift'] = \n",
    "vi.loc[vi.TARGETID==unique_targets[conflict_id], 'VI_quality'] = 0\n",
    "#vi.loc[vi.TARGETID==unique_targets[conflict_id], 'best spectype'] = 'GALAXY'\n",
    "\n",
    "#add a comment\n",
    "vi.loc[vi.TARGETID==unique_targets[conflict_id], 'merger comment'] = 'Two objects in the spectrum'\n",
    "\n",
    "#look at the values again to make sure all is well\n",
    "#display(vi[vi.TARGETID==unique_targets[conflict_id]])\n",
    "print('conflict ID = ', conflict_id)\n",
    "\n"
   ]
  },
  {
   "cell_type": "code",
   "execution_count": 110,
   "metadata": {},
   "outputs": [
    {
     "data": {
      "text/html": [
       "<div>\n",
       "<style scoped>\n",
       "    .dataframe tbody tr th:only-of-type {\n",
       "        vertical-align: middle;\n",
       "    }\n",
       "\n",
       "    .dataframe tbody tr th {\n",
       "        vertical-align: top;\n",
       "    }\n",
       "\n",
       "    .dataframe thead th {\n",
       "        text-align: right;\n",
       "    }\n",
       "</style>\n",
       "<table border=\"1\" class=\"dataframe\">\n",
       "  <thead>\n",
       "    <tr style=\"text-align: right;\">\n",
       "      <th></th>\n",
       "      <th>TARGETID</th>\n",
       "      <th>Redrock_spectype</th>\n",
       "      <th>Redrock_z</th>\n",
       "      <th>VI_scanner</th>\n",
       "      <th>VI_quality</th>\n",
       "      <th>VI_issue</th>\n",
       "      <th>VI_z</th>\n",
       "      <th>VI_spectype</th>\n",
       "      <th>VI_comment</th>\n",
       "      <th>best redshift</th>\n",
       "      <th>best spectype</th>\n",
       "      <th>vi_combined_flag</th>\n",
       "      <th>vi_diff</th>\n",
       "      <th>vi_combined_z</th>\n",
       "      <th>dz</th>\n",
       "      <th>all VI comments</th>\n",
       "      <th>N_VI</th>\n",
       "      <th>merger comment</th>\n",
       "    </tr>\n",
       "  </thead>\n",
       "  <tbody>\n",
       "    <tr>\n",
       "      <th>123</th>\n",
       "      <td>35191277590938241</td>\n",
       "      <td>GALAXY</td>\n",
       "      <td>1.0662</td>\n",
       "      <td>KSD</td>\n",
       "      <td>2</td>\n",
       "      <td>R</td>\n",
       "      <td>1.0662</td>\n",
       "      <td>NaN</td>\n",
       "      <td>negative OII in model</td>\n",
       "      <td>1.0662</td>\n",
       "      <td>GALAXY</td>\n",
       "      <td>3.0</td>\n",
       "      <td>2</td>\n",
       "      <td>1.0662</td>\n",
       "      <td>0.0</td>\n",
       "      <td>negative OII in model|--</td>\n",
       "      <td>2</td>\n",
       "      <td>none</td>\n",
       "    </tr>\n",
       "    <tr>\n",
       "      <th>173</th>\n",
       "      <td>35191277590938241</td>\n",
       "      <td>GALAXY</td>\n",
       "      <td>1.0662</td>\n",
       "      <td>PNT</td>\n",
       "      <td>4</td>\n",
       "      <td>NaN</td>\n",
       "      <td>1.0662</td>\n",
       "      <td>GALAXY</td>\n",
       "      <td>--</td>\n",
       "      <td>1.0662</td>\n",
       "      <td>GALAXY</td>\n",
       "      <td>3.0</td>\n",
       "      <td>2</td>\n",
       "      <td>1.0662</td>\n",
       "      <td>0.0</td>\n",
       "      <td>negative OII in model|--</td>\n",
       "      <td>2</td>\n",
       "      <td>none</td>\n",
       "    </tr>\n",
       "  </tbody>\n",
       "</table>\n",
       "</div>"
      ],
      "text/plain": [
       "              TARGETID Redrock_spectype  Redrock_z VI_scanner  VI_quality  \\\n",
       "123  35191277590938241           GALAXY     1.0662        KSD           2   \n",
       "173  35191277590938241           GALAXY     1.0662        PNT           4   \n",
       "\n",
       "    VI_issue    VI_z VI_spectype             VI_comment  best redshift  \\\n",
       "123        R  1.0662         NaN  negative OII in model         1.0662   \n",
       "173      NaN  1.0662      GALAXY                     --         1.0662   \n",
       "\n",
       "    best spectype  vi_combined_flag  vi_diff  vi_combined_z   dz  \\\n",
       "123        GALAXY               3.0        2         1.0662  0.0   \n",
       "173        GALAXY               3.0        2         1.0662  0.0   \n",
       "\n",
       "              all VI comments  N_VI merger comment  \n",
       "123  negative OII in model|--     2           none  \n",
       "173  negative OII in model|--     2           none  "
      ]
     },
     "metadata": {},
     "output_type": "display_data"
    }
   ],
   "source": [
    "#copy this text to a new cell to display the conflict\n",
    "conflict_id=6\n",
    "display_conflict(conflict_id, show_spectra=show_spectra)\n"
   ]
  },
  {
   "cell_type": "code",
   "execution_count": 111,
   "metadata": {},
   "outputs": [
    {
     "name": "stdout",
     "output_type": "stream",
     "text": [
      "conflict ID =  6\n"
     ]
    }
   ],
   "source": [
    "#copy this text to a new cell to resolve the conflict\n",
    "#vi.loc[vi.TARGETID==unique_targets[conflict_id], 'best redshift'] = 1.5\n",
    "vi.loc[vi.TARGETID==unique_targets[conflict_id], 'VI_quality'] = 3\n",
    "vi.loc[vi.TARGETID==unique_targets[conflict_id], 'best spectype'] = 'GALAXY'\n",
    "\n",
    "#add a comment\n",
    "vi.loc[vi.TARGETID==unique_targets[conflict_id], 'merger comment'] = 'CaII should be robust.'\n",
    "\n",
    "#look at the values again to make sure all is well\n",
    "#display(vi[vi.TARGETID==unique_targets[conflict_id]])\n",
    "print('conflict ID = ', conflict_id)\n"
   ]
  },
  {
   "cell_type": "code",
   "execution_count": 112,
   "metadata": {},
   "outputs": [
    {
     "data": {
      "text/html": [
       "<div>\n",
       "<style scoped>\n",
       "    .dataframe tbody tr th:only-of-type {\n",
       "        vertical-align: middle;\n",
       "    }\n",
       "\n",
       "    .dataframe tbody tr th {\n",
       "        vertical-align: top;\n",
       "    }\n",
       "\n",
       "    .dataframe thead th {\n",
       "        text-align: right;\n",
       "    }\n",
       "</style>\n",
       "<table border=\"1\" class=\"dataframe\">\n",
       "  <thead>\n",
       "    <tr style=\"text-align: right;\">\n",
       "      <th></th>\n",
       "      <th>TARGETID</th>\n",
       "      <th>Redrock_spectype</th>\n",
       "      <th>Redrock_z</th>\n",
       "      <th>VI_scanner</th>\n",
       "      <th>VI_quality</th>\n",
       "      <th>VI_issue</th>\n",
       "      <th>VI_z</th>\n",
       "      <th>VI_spectype</th>\n",
       "      <th>VI_comment</th>\n",
       "      <th>best redshift</th>\n",
       "      <th>best spectype</th>\n",
       "      <th>vi_combined_flag</th>\n",
       "      <th>vi_diff</th>\n",
       "      <th>vi_combined_z</th>\n",
       "      <th>dz</th>\n",
       "      <th>all VI comments</th>\n",
       "      <th>N_VI</th>\n",
       "      <th>merger comment</th>\n",
       "    </tr>\n",
       "  </thead>\n",
       "  <tbody>\n",
       "    <tr>\n",
       "      <th>125</th>\n",
       "      <td>35191277590938713</td>\n",
       "      <td>QSO</td>\n",
       "      <td>0.0767</td>\n",
       "      <td>KSD</td>\n",
       "      <td>2</td>\n",
       "      <td>NaN</td>\n",
       "      <td>0.7532</td>\n",
       "      <td>NaN</td>\n",
       "      <td>--</td>\n",
       "      <td>0.7532</td>\n",
       "      <td>QSO</td>\n",
       "      <td>3.0</td>\n",
       "      <td>2</td>\n",
       "      <td>0.0767</td>\n",
       "      <td>0.613325</td>\n",
       "      <td>--|--</td>\n",
       "      <td>2</td>\n",
       "      <td>none</td>\n",
       "    </tr>\n",
       "    <tr>\n",
       "      <th>175</th>\n",
       "      <td>35191277590938713</td>\n",
       "      <td>QSO</td>\n",
       "      <td>0.0767</td>\n",
       "      <td>PNT</td>\n",
       "      <td>4</td>\n",
       "      <td>C</td>\n",
       "      <td>0.0867</td>\n",
       "      <td>GALAXY</td>\n",
       "      <td>--</td>\n",
       "      <td>0.0867</td>\n",
       "      <td>GALAXY</td>\n",
       "      <td>3.0</td>\n",
       "      <td>2</td>\n",
       "      <td>0.0767</td>\n",
       "      <td>0.613325</td>\n",
       "      <td>--|--</td>\n",
       "      <td>2</td>\n",
       "      <td>none</td>\n",
       "    </tr>\n",
       "  </tbody>\n",
       "</table>\n",
       "</div>"
      ],
      "text/plain": [
       "              TARGETID Redrock_spectype  Redrock_z VI_scanner  VI_quality  \\\n",
       "125  35191277590938713              QSO     0.0767        KSD           2   \n",
       "175  35191277590938713              QSO     0.0767        PNT           4   \n",
       "\n",
       "    VI_issue    VI_z VI_spectype VI_comment  best redshift best spectype  \\\n",
       "125      NaN  0.7532         NaN         --         0.7532           QSO   \n",
       "175        C  0.0867      GALAXY         --         0.0867        GALAXY   \n",
       "\n",
       "     vi_combined_flag  vi_diff  vi_combined_z        dz all VI comments  N_VI  \\\n",
       "125               3.0        2         0.0767  0.613325           --|--     2   \n",
       "175               3.0        2         0.0767  0.613325           --|--     2   \n",
       "\n",
       "    merger comment  \n",
       "125           none  \n",
       "175           none  "
      ]
     },
     "metadata": {},
     "output_type": "display_data"
    }
   ],
   "source": [
    "#copy this text to a new cell to display the conflict\n",
    "conflict_id=7\n",
    "display_conflict(conflict_id, show_spectra=show_spectra)"
   ]
  },
  {
   "cell_type": "code",
   "execution_count": 113,
   "metadata": {},
   "outputs": [
    {
     "name": "stdout",
     "output_type": "stream",
     "text": [
      "conflict ID =  7\n"
     ]
    }
   ],
   "source": [
    "#copy this text to a new cell to resolve the conflict\n",
    "vi.loc[vi.TARGETID==unique_targets[conflict_id], 'best redshift'] = 0.7532\n",
    "vi.loc[vi.TARGETID==unique_targets[conflict_id], 'VI_quality'] = 3\n",
    "vi.loc[vi.TARGETID==unique_targets[conflict_id], 'best spectype'] = 'GALAXY'\n",
    "\n",
    "#add a comment\n",
    "vi.loc[vi.TARGETID==unique_targets[conflict_id], 'merger comment'] = 'disagreement in flag. Reshift should be secure'\n",
    "\n",
    "#look at the values again to make sure all is well\n",
    "#display(vi[vi.TARGETID==unique_targets[conflict_id]])\n",
    "print('conflict ID = ', conflict_id)\n"
   ]
  },
  {
   "cell_type": "code",
   "execution_count": 114,
   "metadata": {},
   "outputs": [
    {
     "data": {
      "text/html": [
       "<div>\n",
       "<style scoped>\n",
       "    .dataframe tbody tr th:only-of-type {\n",
       "        vertical-align: middle;\n",
       "    }\n",
       "\n",
       "    .dataframe tbody tr th {\n",
       "        vertical-align: top;\n",
       "    }\n",
       "\n",
       "    .dataframe thead th {\n",
       "        text-align: right;\n",
       "    }\n",
       "</style>\n",
       "<table border=\"1\" class=\"dataframe\">\n",
       "  <thead>\n",
       "    <tr style=\"text-align: right;\">\n",
       "      <th></th>\n",
       "      <th>TARGETID</th>\n",
       "      <th>Redrock_spectype</th>\n",
       "      <th>Redrock_z</th>\n",
       "      <th>VI_scanner</th>\n",
       "      <th>VI_quality</th>\n",
       "      <th>VI_issue</th>\n",
       "      <th>VI_z</th>\n",
       "      <th>VI_spectype</th>\n",
       "      <th>VI_comment</th>\n",
       "      <th>best redshift</th>\n",
       "      <th>best spectype</th>\n",
       "      <th>vi_combined_flag</th>\n",
       "      <th>vi_diff</th>\n",
       "      <th>vi_combined_z</th>\n",
       "      <th>dz</th>\n",
       "      <th>all VI comments</th>\n",
       "      <th>N_VI</th>\n",
       "      <th>merger comment</th>\n",
       "    </tr>\n",
       "  </thead>\n",
       "  <tbody>\n",
       "    <tr>\n",
       "      <th>128</th>\n",
       "      <td>35191277595133531</td>\n",
       "      <td>GALAXY</td>\n",
       "      <td>0.7773</td>\n",
       "      <td>KSD</td>\n",
       "      <td>2</td>\n",
       "      <td>NaN</td>\n",
       "      <td>0.7773</td>\n",
       "      <td>NaN</td>\n",
       "      <td>--</td>\n",
       "      <td>0.7773</td>\n",
       "      <td>GALAXY</td>\n",
       "      <td>3.0</td>\n",
       "      <td>2</td>\n",
       "      <td>0.7773</td>\n",
       "      <td>0.0</td>\n",
       "      <td>--|--</td>\n",
       "      <td>2</td>\n",
       "      <td>none</td>\n",
       "    </tr>\n",
       "    <tr>\n",
       "      <th>178</th>\n",
       "      <td>35191277595133531</td>\n",
       "      <td>GALAXY</td>\n",
       "      <td>0.7773</td>\n",
       "      <td>PNT</td>\n",
       "      <td>4</td>\n",
       "      <td>NaN</td>\n",
       "      <td>0.7773</td>\n",
       "      <td>GALAXY</td>\n",
       "      <td>--</td>\n",
       "      <td>0.7773</td>\n",
       "      <td>GALAXY</td>\n",
       "      <td>3.0</td>\n",
       "      <td>2</td>\n",
       "      <td>0.7773</td>\n",
       "      <td>0.0</td>\n",
       "      <td>--|--</td>\n",
       "      <td>2</td>\n",
       "      <td>none</td>\n",
       "    </tr>\n",
       "  </tbody>\n",
       "</table>\n",
       "</div>"
      ],
      "text/plain": [
       "              TARGETID Redrock_spectype  Redrock_z VI_scanner  VI_quality  \\\n",
       "128  35191277595133531           GALAXY     0.7773        KSD           2   \n",
       "178  35191277595133531           GALAXY     0.7773        PNT           4   \n",
       "\n",
       "    VI_issue    VI_z VI_spectype VI_comment  best redshift best spectype  \\\n",
       "128      NaN  0.7773         NaN         --         0.7773        GALAXY   \n",
       "178      NaN  0.7773      GALAXY         --         0.7773        GALAXY   \n",
       "\n",
       "     vi_combined_flag  vi_diff  vi_combined_z   dz all VI comments  N_VI  \\\n",
       "128               3.0        2         0.7773  0.0           --|--     2   \n",
       "178               3.0        2         0.7773  0.0           --|--     2   \n",
       "\n",
       "    merger comment  \n",
       "128           none  \n",
       "178           none  "
      ]
     },
     "metadata": {},
     "output_type": "display_data"
    }
   ],
   "source": [
    "#copy this text to a new cell to display the conflict\n",
    "conflict_id=8\n",
    "display_conflict(conflict_id, show_spectra=show_spectra)\n"
   ]
  },
  {
   "cell_type": "code",
   "execution_count": 115,
   "metadata": {},
   "outputs": [
    {
     "name": "stdout",
     "output_type": "stream",
     "text": [
      "conflict ID =  8\n"
     ]
    }
   ],
   "source": [
    "#copy this text to a new cell to resolve the conflict\n",
    "#vi.loc[vi.TARGETID==unique_targets[conflict_id], 'best redshift'] = 0.1920\n",
    "vi.loc[vi.TARGETID==unique_targets[conflict_id], 'VI_quality'] = 4\n",
    "#vi.loc[vi.TargetID==unique_targets[conflict_id], 'best spectype'] = \n",
    "\n",
    "#add a comment\n",
    "vi.loc[vi.TARGETID==unique_targets[conflict_id], 'merger comment'] = \"Redshift is secure.\"\n",
    "\n",
    "#look at the values again to make sure all is well\n",
    "#display(vi[vi.TARGETID==unique_targets[conflict_id]])\n",
    "print('conflict ID = ', conflict_id)\n",
    "\n"
   ]
  },
  {
   "cell_type": "code",
   "execution_count": 116,
   "metadata": {},
   "outputs": [
    {
     "data": {
      "text/html": [
       "<div>\n",
       "<style scoped>\n",
       "    .dataframe tbody tr th:only-of-type {\n",
       "        vertical-align: middle;\n",
       "    }\n",
       "\n",
       "    .dataframe tbody tr th {\n",
       "        vertical-align: top;\n",
       "    }\n",
       "\n",
       "    .dataframe thead th {\n",
       "        text-align: right;\n",
       "    }\n",
       "</style>\n",
       "<table border=\"1\" class=\"dataframe\">\n",
       "  <thead>\n",
       "    <tr style=\"text-align: right;\">\n",
       "      <th></th>\n",
       "      <th>TARGETID</th>\n",
       "      <th>Redrock_spectype</th>\n",
       "      <th>Redrock_z</th>\n",
       "      <th>VI_scanner</th>\n",
       "      <th>VI_quality</th>\n",
       "      <th>VI_issue</th>\n",
       "      <th>VI_z</th>\n",
       "      <th>VI_spectype</th>\n",
       "      <th>VI_comment</th>\n",
       "      <th>best redshift</th>\n",
       "      <th>best spectype</th>\n",
       "      <th>vi_combined_flag</th>\n",
       "      <th>vi_diff</th>\n",
       "      <th>vi_combined_z</th>\n",
       "      <th>dz</th>\n",
       "      <th>all VI comments</th>\n",
       "      <th>N_VI</th>\n",
       "      <th>merger comment</th>\n",
       "    </tr>\n",
       "  </thead>\n",
       "  <tbody>\n",
       "    <tr>\n",
       "      <th>135</th>\n",
       "      <td>35191277599329412</td>\n",
       "      <td>GALAXY</td>\n",
       "      <td>0.8607</td>\n",
       "      <td>KSD</td>\n",
       "      <td>2</td>\n",
       "      <td>NaN</td>\n",
       "      <td>0.8607</td>\n",
       "      <td>NaN</td>\n",
       "      <td>--</td>\n",
       "      <td>0.8607</td>\n",
       "      <td>GALAXY</td>\n",
       "      <td>3.0</td>\n",
       "      <td>2</td>\n",
       "      <td>0.8607</td>\n",
       "      <td>0.0</td>\n",
       "      <td>--|--</td>\n",
       "      <td>2</td>\n",
       "      <td>none</td>\n",
       "    </tr>\n",
       "    <tr>\n",
       "      <th>185</th>\n",
       "      <td>35191277599329412</td>\n",
       "      <td>GALAXY</td>\n",
       "      <td>0.8607</td>\n",
       "      <td>PNT</td>\n",
       "      <td>4</td>\n",
       "      <td>NaN</td>\n",
       "      <td>0.8607</td>\n",
       "      <td>GALAXY</td>\n",
       "      <td>--</td>\n",
       "      <td>0.8607</td>\n",
       "      <td>GALAXY</td>\n",
       "      <td>3.0</td>\n",
       "      <td>2</td>\n",
       "      <td>0.8607</td>\n",
       "      <td>0.0</td>\n",
       "      <td>--|--</td>\n",
       "      <td>2</td>\n",
       "      <td>none</td>\n",
       "    </tr>\n",
       "  </tbody>\n",
       "</table>\n",
       "</div>"
      ],
      "text/plain": [
       "              TARGETID Redrock_spectype  Redrock_z VI_scanner  VI_quality  \\\n",
       "135  35191277599329412           GALAXY     0.8607        KSD           2   \n",
       "185  35191277599329412           GALAXY     0.8607        PNT           4   \n",
       "\n",
       "    VI_issue    VI_z VI_spectype VI_comment  best redshift best spectype  \\\n",
       "135      NaN  0.8607         NaN         --         0.8607        GALAXY   \n",
       "185      NaN  0.8607      GALAXY         --         0.8607        GALAXY   \n",
       "\n",
       "     vi_combined_flag  vi_diff  vi_combined_z   dz all VI comments  N_VI  \\\n",
       "135               3.0        2         0.8607  0.0           --|--     2   \n",
       "185               3.0        2         0.8607  0.0           --|--     2   \n",
       "\n",
       "    merger comment  \n",
       "135           none  \n",
       "185           none  "
      ]
     },
     "metadata": {},
     "output_type": "display_data"
    }
   ],
   "source": [
    "#copy this text to a new cell to display the conflict\n",
    "conflict_id=9\n",
    "display_conflict(conflict_id, show_spectra=show_spectra)\n"
   ]
  },
  {
   "cell_type": "code",
   "execution_count": 117,
   "metadata": {},
   "outputs": [
    {
     "name": "stdout",
     "output_type": "stream",
     "text": [
      "conflict ID =  9\n"
     ]
    }
   ],
   "source": [
    "#copy this text to a new cell to resolve the conflict\n",
    "#vi.loc[vi.TARGETID==unique_targets[conflict_id], 'best redshift'] = 0.7966\n",
    "vi.loc[vi.TARGETID==unique_targets[conflict_id], 'VI_quality'] = 3\n",
    "#vi.loc[vi.TargetID==unique_targets[conflict_id], 'best spectype'] = \n",
    "\n",
    "#add a comment\n",
    "vi.loc[vi.TARGETID==unique_targets[conflict_id], 'merger comment'] = 'Redshift should be secure.'\n",
    "\n",
    "#look at the values again to make sure all is well\n",
    "#display(vi[vi.TARGETID==unique_targets[conflict_id]])\n",
    "print('conflict ID = ', conflict_id)\n",
    "\n"
   ]
  },
  {
   "cell_type": "code",
   "execution_count": 118,
   "metadata": {},
   "outputs": [
    {
     "data": {
      "text/html": [
       "<div>\n",
       "<style scoped>\n",
       "    .dataframe tbody tr th:only-of-type {\n",
       "        vertical-align: middle;\n",
       "    }\n",
       "\n",
       "    .dataframe tbody tr th {\n",
       "        vertical-align: top;\n",
       "    }\n",
       "\n",
       "    .dataframe thead th {\n",
       "        text-align: right;\n",
       "    }\n",
       "</style>\n",
       "<table border=\"1\" class=\"dataframe\">\n",
       "  <thead>\n",
       "    <tr style=\"text-align: right;\">\n",
       "      <th></th>\n",
       "      <th>TARGETID</th>\n",
       "      <th>Redrock_spectype</th>\n",
       "      <th>Redrock_z</th>\n",
       "      <th>VI_scanner</th>\n",
       "      <th>VI_quality</th>\n",
       "      <th>VI_issue</th>\n",
       "      <th>VI_z</th>\n",
       "      <th>VI_spectype</th>\n",
       "      <th>VI_comment</th>\n",
       "      <th>best redshift</th>\n",
       "      <th>best spectype</th>\n",
       "      <th>vi_combined_flag</th>\n",
       "      <th>vi_diff</th>\n",
       "      <th>vi_combined_z</th>\n",
       "      <th>dz</th>\n",
       "      <th>all VI comments</th>\n",
       "      <th>N_VI</th>\n",
       "      <th>merger comment</th>\n",
       "    </tr>\n",
       "  </thead>\n",
       "  <tbody>\n",
       "    <tr>\n",
       "      <th>145</th>\n",
       "      <td>35191277603523851</td>\n",
       "      <td>QSO</td>\n",
       "      <td>1.0445</td>\n",
       "      <td>KSD</td>\n",
       "      <td>3</td>\n",
       "      <td>NaN</td>\n",
       "      <td>1.0445</td>\n",
       "      <td>NaN</td>\n",
       "      <td>--</td>\n",
       "      <td>1.0445</td>\n",
       "      <td>QSO</td>\n",
       "      <td>3.5</td>\n",
       "      <td>1</td>\n",
       "      <td>1.0445</td>\n",
       "      <td>0.0</td>\n",
       "      <td>--|--</td>\n",
       "      <td>2</td>\n",
       "      <td>none</td>\n",
       "    </tr>\n",
       "    <tr>\n",
       "      <th>195</th>\n",
       "      <td>35191277603523851</td>\n",
       "      <td>QSO</td>\n",
       "      <td>1.0445</td>\n",
       "      <td>PNT</td>\n",
       "      <td>4</td>\n",
       "      <td>NaN</td>\n",
       "      <td>1.0445</td>\n",
       "      <td>GALAXY</td>\n",
       "      <td>--</td>\n",
       "      <td>1.0445</td>\n",
       "      <td>GALAXY</td>\n",
       "      <td>3.5</td>\n",
       "      <td>1</td>\n",
       "      <td>1.0445</td>\n",
       "      <td>0.0</td>\n",
       "      <td>--|--</td>\n",
       "      <td>2</td>\n",
       "      <td>none</td>\n",
       "    </tr>\n",
       "  </tbody>\n",
       "</table>\n",
       "</div>"
      ],
      "text/plain": [
       "              TARGETID Redrock_spectype  Redrock_z VI_scanner  VI_quality  \\\n",
       "145  35191277603523851              QSO     1.0445        KSD           3   \n",
       "195  35191277603523851              QSO     1.0445        PNT           4   \n",
       "\n",
       "    VI_issue    VI_z VI_spectype VI_comment  best redshift best spectype  \\\n",
       "145      NaN  1.0445         NaN         --         1.0445           QSO   \n",
       "195      NaN  1.0445      GALAXY         --         1.0445        GALAXY   \n",
       "\n",
       "     vi_combined_flag  vi_diff  vi_combined_z   dz all VI comments  N_VI  \\\n",
       "145               3.5        1         1.0445  0.0           --|--     2   \n",
       "195               3.5        1         1.0445  0.0           --|--     2   \n",
       "\n",
       "    merger comment  \n",
       "145           none  \n",
       "195           none  "
      ]
     },
     "metadata": {},
     "output_type": "display_data"
    }
   ],
   "source": [
    "#copy this text to a new cell to display the conflict\n",
    "conflict_id=10\n",
    "display_conflict(conflict_id, show_spectra=show_spectra)"
   ]
  },
  {
   "cell_type": "code",
   "execution_count": 119,
   "metadata": {},
   "outputs": [
    {
     "name": "stdout",
     "output_type": "stream",
     "text": [
      "conflict ID =  10\n"
     ]
    }
   ],
   "source": [
    "#copy this text to a new cell to resolve the conflict\n",
    "#vi.loc[vi.TARGETID==unique_targets[conflict_id], 'best redshift'] = 1.6283\n",
    "vi.loc[vi.TARGETID==unique_targets[conflict_id], 'VI_quality'] = 4\n",
    "vi.loc[vi.TARGETID==unique_targets[conflict_id], 'best spectype'] = 'GALAXY'\n",
    "\n",
    "#add a comment\n",
    "vi.loc[vi.TARGETID==unique_targets[conflict_id], 'merger comment'] = 'flag disagreement. Redshift is robust. Bad calibration'\n",
    "\n",
    "#look at the values again to make sure all is well\n",
    "#display(vi[vi.TARGETID==unique_targets[conflict_id]])\n",
    "print('conflict ID = ', conflict_id)\n"
   ]
  },
  {
   "cell_type": "code",
   "execution_count": 120,
   "metadata": {},
   "outputs": [
    {
     "data": {
      "text/html": [
       "<div>\n",
       "<style scoped>\n",
       "    .dataframe tbody tr th:only-of-type {\n",
       "        vertical-align: middle;\n",
       "    }\n",
       "\n",
       "    .dataframe tbody tr th {\n",
       "        vertical-align: top;\n",
       "    }\n",
       "\n",
       "    .dataframe thead th {\n",
       "        text-align: right;\n",
       "    }\n",
       "</style>\n",
       "<table border=\"1\" class=\"dataframe\">\n",
       "  <thead>\n",
       "    <tr style=\"text-align: right;\">\n",
       "      <th></th>\n",
       "      <th>TARGETID</th>\n",
       "      <th>Redrock_spectype</th>\n",
       "      <th>Redrock_z</th>\n",
       "      <th>VI_scanner</th>\n",
       "      <th>VI_quality</th>\n",
       "      <th>VI_issue</th>\n",
       "      <th>VI_z</th>\n",
       "      <th>VI_spectype</th>\n",
       "      <th>VI_comment</th>\n",
       "      <th>best redshift</th>\n",
       "      <th>best spectype</th>\n",
       "      <th>vi_combined_flag</th>\n",
       "      <th>vi_diff</th>\n",
       "      <th>vi_combined_z</th>\n",
       "      <th>dz</th>\n",
       "      <th>all VI comments</th>\n",
       "      <th>N_VI</th>\n",
       "      <th>merger comment</th>\n",
       "    </tr>\n",
       "  </thead>\n",
       "  <tbody>\n",
       "    <tr>\n",
       "      <th>109</th>\n",
       "      <td>35191281143513341</td>\n",
       "      <td>GALAXY</td>\n",
       "      <td>0.7841</td>\n",
       "      <td>KSD</td>\n",
       "      <td>2</td>\n",
       "      <td>NaN</td>\n",
       "      <td>0.7841</td>\n",
       "      <td>NaN</td>\n",
       "      <td>--</td>\n",
       "      <td>0.7841</td>\n",
       "      <td>GALAXY</td>\n",
       "      <td>3.0</td>\n",
       "      <td>2</td>\n",
       "      <td>0.7841</td>\n",
       "      <td>0.0</td>\n",
       "      <td>--|--</td>\n",
       "      <td>2</td>\n",
       "      <td>none</td>\n",
       "    </tr>\n",
       "    <tr>\n",
       "      <th>159</th>\n",
       "      <td>35191281143513341</td>\n",
       "      <td>GALAXY</td>\n",
       "      <td>0.7841</td>\n",
       "      <td>PNT</td>\n",
       "      <td>4</td>\n",
       "      <td>NaN</td>\n",
       "      <td>0.7841</td>\n",
       "      <td>GALAXY</td>\n",
       "      <td>--</td>\n",
       "      <td>0.7841</td>\n",
       "      <td>GALAXY</td>\n",
       "      <td>3.0</td>\n",
       "      <td>2</td>\n",
       "      <td>0.7841</td>\n",
       "      <td>0.0</td>\n",
       "      <td>--|--</td>\n",
       "      <td>2</td>\n",
       "      <td>none</td>\n",
       "    </tr>\n",
       "  </tbody>\n",
       "</table>\n",
       "</div>"
      ],
      "text/plain": [
       "              TARGETID Redrock_spectype  Redrock_z VI_scanner  VI_quality  \\\n",
       "109  35191281143513341           GALAXY     0.7841        KSD           2   \n",
       "159  35191281143513341           GALAXY     0.7841        PNT           4   \n",
       "\n",
       "    VI_issue    VI_z VI_spectype VI_comment  best redshift best spectype  \\\n",
       "109      NaN  0.7841         NaN         --         0.7841        GALAXY   \n",
       "159      NaN  0.7841      GALAXY         --         0.7841        GALAXY   \n",
       "\n",
       "     vi_combined_flag  vi_diff  vi_combined_z   dz all VI comments  N_VI  \\\n",
       "109               3.0        2         0.7841  0.0           --|--     2   \n",
       "159               3.0        2         0.7841  0.0           --|--     2   \n",
       "\n",
       "    merger comment  \n",
       "109           none  \n",
       "159           none  "
      ]
     },
     "metadata": {},
     "output_type": "display_data"
    }
   ],
   "source": [
    "#copy this text to a new cell to display the conflict\n",
    "conflict_id=11\n",
    "display_conflict(conflict_id, show_spectra=show_spectra)"
   ]
  },
  {
   "cell_type": "code",
   "execution_count": 121,
   "metadata": {},
   "outputs": [
    {
     "name": "stdout",
     "output_type": "stream",
     "text": [
      "conflict ID =  11\n"
     ]
    }
   ],
   "source": [
    "#copy this text to a new cell to resolve the conflict\n",
    "#vi.loc[vi.TARGETID==unique_targets[conflict_id], 'best redshift'] = 1.1877\n",
    "vi.loc[vi.TARGETID==unique_targets[conflict_id], 'VI_quality'] = 3\n",
    "#vi.loc[vi.TargetID==unique_targets[conflict_id], 'best spectype'] = \n",
    "\n",
    "#add a comment\n",
    "vi.loc[vi.TARGETID==unique_targets[conflict_id], 'merger comment'] = 'CaII and G band'\n",
    "#look at the values again to make sure all is well\n",
    "#display(vi[vi.TARGETID==unique_targets[conflict_id]])\n",
    "print('conflict ID = ', conflict_id)\n"
   ]
  },
  {
   "cell_type": "code",
   "execution_count": 122,
   "metadata": {},
   "outputs": [
    {
     "data": {
      "text/html": [
       "<div>\n",
       "<style scoped>\n",
       "    .dataframe tbody tr th:only-of-type {\n",
       "        vertical-align: middle;\n",
       "    }\n",
       "\n",
       "    .dataframe tbody tr th {\n",
       "        vertical-align: top;\n",
       "    }\n",
       "\n",
       "    .dataframe thead th {\n",
       "        text-align: right;\n",
       "    }\n",
       "</style>\n",
       "<table border=\"1\" class=\"dataframe\">\n",
       "  <thead>\n",
       "    <tr style=\"text-align: right;\">\n",
       "      <th></th>\n",
       "      <th>TARGETID</th>\n",
       "      <th>Redrock_spectype</th>\n",
       "      <th>Redrock_z</th>\n",
       "      <th>VI_scanner</th>\n",
       "      <th>VI_quality</th>\n",
       "      <th>VI_issue</th>\n",
       "      <th>VI_z</th>\n",
       "      <th>VI_spectype</th>\n",
       "      <th>VI_comment</th>\n",
       "      <th>best redshift</th>\n",
       "      <th>best spectype</th>\n",
       "      <th>vi_combined_flag</th>\n",
       "      <th>vi_diff</th>\n",
       "      <th>vi_combined_z</th>\n",
       "      <th>dz</th>\n",
       "      <th>all VI comments</th>\n",
       "      <th>N_VI</th>\n",
       "      <th>merger comment</th>\n",
       "    </tr>\n",
       "  </thead>\n",
       "  <tbody>\n",
       "    <tr>\n",
       "      <th>115</th>\n",
       "      <td>35191281147710346</td>\n",
       "      <td>GALAXY</td>\n",
       "      <td>1.1313</td>\n",
       "      <td>KSD</td>\n",
       "      <td>2</td>\n",
       "      <td>NaN</td>\n",
       "      <td>1.1313</td>\n",
       "      <td>NaN</td>\n",
       "      <td>--</td>\n",
       "      <td>1.1313</td>\n",
       "      <td>GALAXY</td>\n",
       "      <td>3.0</td>\n",
       "      <td>2</td>\n",
       "      <td>1.1313</td>\n",
       "      <td>0.0</td>\n",
       "      <td>--|Ca(K) missing from the model</td>\n",
       "      <td>2</td>\n",
       "      <td>none</td>\n",
       "    </tr>\n",
       "    <tr>\n",
       "      <th>165</th>\n",
       "      <td>35191281147710346</td>\n",
       "      <td>GALAXY</td>\n",
       "      <td>1.1313</td>\n",
       "      <td>PNT</td>\n",
       "      <td>4</td>\n",
       "      <td>NaN</td>\n",
       "      <td>1.1313</td>\n",
       "      <td>GALAXY</td>\n",
       "      <td>Ca(K) missing from the model</td>\n",
       "      <td>1.1313</td>\n",
       "      <td>GALAXY</td>\n",
       "      <td>3.0</td>\n",
       "      <td>2</td>\n",
       "      <td>1.1313</td>\n",
       "      <td>0.0</td>\n",
       "      <td>--|Ca(K) missing from the model</td>\n",
       "      <td>2</td>\n",
       "      <td>none</td>\n",
       "    </tr>\n",
       "  </tbody>\n",
       "</table>\n",
       "</div>"
      ],
      "text/plain": [
       "              TARGETID Redrock_spectype  Redrock_z VI_scanner  VI_quality  \\\n",
       "115  35191281147710346           GALAXY     1.1313        KSD           2   \n",
       "165  35191281147710346           GALAXY     1.1313        PNT           4   \n",
       "\n",
       "    VI_issue    VI_z VI_spectype                    VI_comment  best redshift  \\\n",
       "115      NaN  1.1313         NaN                            --         1.1313   \n",
       "165      NaN  1.1313      GALAXY  Ca(K) missing from the model         1.1313   \n",
       "\n",
       "    best spectype  vi_combined_flag  vi_diff  vi_combined_z   dz  \\\n",
       "115        GALAXY               3.0        2         1.1313  0.0   \n",
       "165        GALAXY               3.0        2         1.1313  0.0   \n",
       "\n",
       "                     all VI comments  N_VI merger comment  \n",
       "115  --|Ca(K) missing from the model     2           none  \n",
       "165  --|Ca(K) missing from the model     2           none  "
      ]
     },
     "metadata": {},
     "output_type": "display_data"
    }
   ],
   "source": [
    "#copy this text to a new cell to display the conflict\n",
    "conflict_id=12\n",
    "display_conflict(conflict_id, show_spectra=show_spectra)\n",
    "\n"
   ]
  },
  {
   "cell_type": "code",
   "execution_count": 123,
   "metadata": {},
   "outputs": [
    {
     "name": "stdout",
     "output_type": "stream",
     "text": [
      "conflict ID =  12\n"
     ]
    }
   ],
   "source": [
    "#copy this text to a new cell to resolve the conflict\n",
    "#vi.loc[vi.TARGETID==unique_targets[conflict_id], 'best redshift'] = 0.8376\n",
    "vi.loc[vi.TARGETID==unique_targets[conflict_id], 'VI_quality'] = 2\n",
    "vi.loc[vi.TARGETID==unique_targets[conflict_id], 'best spectype'] = 'GALAXY'\n",
    "\n",
    "#add a comment\n",
    "vi.loc[vi.TARGETID==unique_targets[conflict_id], 'merger comment'] = 'Bad calibration. Possible broad [OII]. Be conservative'\n",
    "\n",
    "#look at the values again to make sure all is well\n",
    "#display(vi[vi.TARGETID==unique_targets[conflict_id]])\n",
    "print('conflict ID = ', conflict_id)\n",
    "\n"
   ]
  },
  {
   "cell_type": "code",
   "execution_count": 124,
   "metadata": {},
   "outputs": [
    {
     "data": {
      "text/html": [
       "<div>\n",
       "<style scoped>\n",
       "    .dataframe tbody tr th:only-of-type {\n",
       "        vertical-align: middle;\n",
       "    }\n",
       "\n",
       "    .dataframe tbody tr th {\n",
       "        vertical-align: top;\n",
       "    }\n",
       "\n",
       "    .dataframe thead th {\n",
       "        text-align: right;\n",
       "    }\n",
       "</style>\n",
       "<table border=\"1\" class=\"dataframe\">\n",
       "  <thead>\n",
       "    <tr style=\"text-align: right;\">\n",
       "      <th></th>\n",
       "      <th>TARGETID</th>\n",
       "      <th>Redrock_spectype</th>\n",
       "      <th>Redrock_z</th>\n",
       "      <th>VI_scanner</th>\n",
       "      <th>VI_quality</th>\n",
       "      <th>VI_issue</th>\n",
       "      <th>VI_z</th>\n",
       "      <th>VI_spectype</th>\n",
       "      <th>VI_comment</th>\n",
       "      <th>best redshift</th>\n",
       "      <th>best spectype</th>\n",
       "      <th>vi_combined_flag</th>\n",
       "      <th>vi_diff</th>\n",
       "      <th>vi_combined_z</th>\n",
       "      <th>dz</th>\n",
       "      <th>all VI comments</th>\n",
       "      <th>N_VI</th>\n",
       "      <th>merger comment</th>\n",
       "    </tr>\n",
       "  </thead>\n",
       "  <tbody>\n",
       "    <tr>\n",
       "      <th>212</th>\n",
       "      <td>35191281160292265</td>\n",
       "      <td>GALAXY</td>\n",
       "      <td>0.6756</td>\n",
       "      <td>KSD</td>\n",
       "      <td>2</td>\n",
       "      <td>NaN</td>\n",
       "      <td>0.6756</td>\n",
       "      <td>NaN</td>\n",
       "      <td>--</td>\n",
       "      <td>0.6756</td>\n",
       "      <td>GALAXY</td>\n",
       "      <td>3.0</td>\n",
       "      <td>2</td>\n",
       "      <td>0.6756</td>\n",
       "      <td>0.0</td>\n",
       "      <td>--|--</td>\n",
       "      <td>2</td>\n",
       "      <td>none</td>\n",
       "    </tr>\n",
       "    <tr>\n",
       "      <th>262</th>\n",
       "      <td>35191281160292265</td>\n",
       "      <td>GALAXY</td>\n",
       "      <td>0.6756</td>\n",
       "      <td>NaN</td>\n",
       "      <td>4</td>\n",
       "      <td>NaN</td>\n",
       "      <td>0.6756</td>\n",
       "      <td>GALAXY</td>\n",
       "      <td>--</td>\n",
       "      <td>0.6756</td>\n",
       "      <td>GALAXY</td>\n",
       "      <td>3.0</td>\n",
       "      <td>2</td>\n",
       "      <td>0.6756</td>\n",
       "      <td>0.0</td>\n",
       "      <td>--|--</td>\n",
       "      <td>2</td>\n",
       "      <td>none</td>\n",
       "    </tr>\n",
       "  </tbody>\n",
       "</table>\n",
       "</div>"
      ],
      "text/plain": [
       "              TARGETID Redrock_spectype  Redrock_z VI_scanner  VI_quality  \\\n",
       "212  35191281160292265           GALAXY     0.6756        KSD           2   \n",
       "262  35191281160292265           GALAXY     0.6756        NaN           4   \n",
       "\n",
       "    VI_issue    VI_z VI_spectype VI_comment  best redshift best spectype  \\\n",
       "212      NaN  0.6756         NaN         --         0.6756        GALAXY   \n",
       "262      NaN  0.6756      GALAXY         --         0.6756        GALAXY   \n",
       "\n",
       "     vi_combined_flag  vi_diff  vi_combined_z   dz all VI comments  N_VI  \\\n",
       "212               3.0        2         0.6756  0.0           --|--     2   \n",
       "262               3.0        2         0.6756  0.0           --|--     2   \n",
       "\n",
       "    merger comment  \n",
       "212           none  \n",
       "262           none  "
      ]
     },
     "metadata": {},
     "output_type": "display_data"
    }
   ],
   "source": [
    "#copy this text to a new cell to display the conflict\n",
    "conflict_id=13\n",
    "display_conflict(conflict_id, show_spectra=show_spectra)\n"
   ]
  },
  {
   "cell_type": "code",
   "execution_count": 125,
   "metadata": {},
   "outputs": [
    {
     "name": "stdout",
     "output_type": "stream",
     "text": [
      "conflict ID =  13\n"
     ]
    }
   ],
   "source": [
    "#copy this text to a new cell to resolve the conflict\n",
    "#vi.loc[vi.TargetID==unique_targets[conflict_id], 'best redshift'] = \n",
    "vi.loc[vi.TARGETID==unique_targets[conflict_id], 'VI_quality'] = 2\n",
    "#vi.loc[vi.TargetID==unique_targets[conflict_id], 'best spectype'] = \n",
    "\n",
    "#add a comment\n",
    "vi.loc[vi.TARGETID==unique_targets[conflict_id], 'merger comment'] = 'disagreement in flag. Low S/N. Be conservative.'\n",
    "#look at the values again to make sure all is well\n",
    "#display(vi[vi.TARGETID==unique_targets[conflict_id]])\n",
    "print('conflict ID = ', conflict_id)\n",
    "\n"
   ]
  },
  {
   "cell_type": "code",
   "execution_count": 126,
   "metadata": {},
   "outputs": [
    {
     "data": {
      "text/html": [
       "<div>\n",
       "<style scoped>\n",
       "    .dataframe tbody tr th:only-of-type {\n",
       "        vertical-align: middle;\n",
       "    }\n",
       "\n",
       "    .dataframe tbody tr th {\n",
       "        vertical-align: top;\n",
       "    }\n",
       "\n",
       "    .dataframe thead th {\n",
       "        text-align: right;\n",
       "    }\n",
       "</style>\n",
       "<table border=\"1\" class=\"dataframe\">\n",
       "  <thead>\n",
       "    <tr style=\"text-align: right;\">\n",
       "      <th></th>\n",
       "      <th>TARGETID</th>\n",
       "      <th>Redrock_spectype</th>\n",
       "      <th>Redrock_z</th>\n",
       "      <th>VI_scanner</th>\n",
       "      <th>VI_quality</th>\n",
       "      <th>VI_issue</th>\n",
       "      <th>VI_z</th>\n",
       "      <th>VI_spectype</th>\n",
       "      <th>VI_comment</th>\n",
       "      <th>best redshift</th>\n",
       "      <th>best spectype</th>\n",
       "      <th>vi_combined_flag</th>\n",
       "      <th>vi_diff</th>\n",
       "      <th>vi_combined_z</th>\n",
       "      <th>dz</th>\n",
       "      <th>all VI comments</th>\n",
       "      <th>N_VI</th>\n",
       "      <th>merger comment</th>\n",
       "    </tr>\n",
       "  </thead>\n",
       "  <tbody>\n",
       "    <tr>\n",
       "      <th>235</th>\n",
       "      <td>35191281177068074</td>\n",
       "      <td>GALAXY</td>\n",
       "      <td>0.8527</td>\n",
       "      <td>KSD</td>\n",
       "      <td>2</td>\n",
       "      <td>NaN</td>\n",
       "      <td>0.8527</td>\n",
       "      <td>NaN</td>\n",
       "      <td>--</td>\n",
       "      <td>0.8527</td>\n",
       "      <td>GALAXY</td>\n",
       "      <td>3.0</td>\n",
       "      <td>2</td>\n",
       "      <td>0.8527</td>\n",
       "      <td>0.0</td>\n",
       "      <td>--|--</td>\n",
       "      <td>2</td>\n",
       "      <td>none</td>\n",
       "    </tr>\n",
       "    <tr>\n",
       "      <th>285</th>\n",
       "      <td>35191281177068074</td>\n",
       "      <td>GALAXY</td>\n",
       "      <td>0.8527</td>\n",
       "      <td>NaN</td>\n",
       "      <td>4</td>\n",
       "      <td>NaN</td>\n",
       "      <td>0.8527</td>\n",
       "      <td>GALAXY</td>\n",
       "      <td>--</td>\n",
       "      <td>0.8527</td>\n",
       "      <td>GALAXY</td>\n",
       "      <td>3.0</td>\n",
       "      <td>2</td>\n",
       "      <td>0.8527</td>\n",
       "      <td>0.0</td>\n",
       "      <td>--|--</td>\n",
       "      <td>2</td>\n",
       "      <td>none</td>\n",
       "    </tr>\n",
       "  </tbody>\n",
       "</table>\n",
       "</div>"
      ],
      "text/plain": [
       "              TARGETID Redrock_spectype  Redrock_z VI_scanner  VI_quality  \\\n",
       "235  35191281177068074           GALAXY     0.8527        KSD           2   \n",
       "285  35191281177068074           GALAXY     0.8527        NaN           4   \n",
       "\n",
       "    VI_issue    VI_z VI_spectype VI_comment  best redshift best spectype  \\\n",
       "235      NaN  0.8527         NaN         --         0.8527        GALAXY   \n",
       "285      NaN  0.8527      GALAXY         --         0.8527        GALAXY   \n",
       "\n",
       "     vi_combined_flag  vi_diff  vi_combined_z   dz all VI comments  N_VI  \\\n",
       "235               3.0        2         0.8527  0.0           --|--     2   \n",
       "285               3.0        2         0.8527  0.0           --|--     2   \n",
       "\n",
       "    merger comment  \n",
       "235           none  \n",
       "285           none  "
      ]
     },
     "metadata": {},
     "output_type": "display_data"
    }
   ],
   "source": [
    "#copy this text to a new cell to display the conflict\n",
    "conflict_id=14\n",
    "display_conflict(conflict_id, show_spectra=show_spectra)"
   ]
  },
  {
   "cell_type": "code",
   "execution_count": 127,
   "metadata": {},
   "outputs": [
    {
     "name": "stdout",
     "output_type": "stream",
     "text": [
      "conflict ID =  14\n"
     ]
    }
   ],
   "source": [
    "#copy this text to a new cell to resolve the conflict\n",
    "#vi.loc[vi.TargetID==unique_targets[conflict_id], 'best redshift'] = \n",
    "vi.loc[vi.TARGETID==unique_targets[conflict_id], 'VI_quality'] = 2\n",
    "#vi.loc[vi.TargetID==unique_targets[conflict_id], 'best spectype'] = \n",
    "\n",
    "#add a comment\n",
    "vi.loc[vi.TARGETID==unique_targets[conflict_id], 'merger comment'] = 'Possible CaII and  G band. Be conservative'\n",
    "\n",
    "#look at the values again to make sure all is well\n",
    "#display(vi[vi.TARGETID==unique_targets[conflict_id]])\n",
    "print('conflict ID = ', conflict_id)\n",
    "\n"
   ]
  },
  {
   "cell_type": "code",
   "execution_count": 128,
   "metadata": {},
   "outputs": [
    {
     "data": {
      "text/html": [
       "<div>\n",
       "<style scoped>\n",
       "    .dataframe tbody tr th:only-of-type {\n",
       "        vertical-align: middle;\n",
       "    }\n",
       "\n",
       "    .dataframe tbody tr th {\n",
       "        vertical-align: top;\n",
       "    }\n",
       "\n",
       "    .dataframe thead th {\n",
       "        text-align: right;\n",
       "    }\n",
       "</style>\n",
       "<table border=\"1\" class=\"dataframe\">\n",
       "  <thead>\n",
       "    <tr style=\"text-align: right;\">\n",
       "      <th></th>\n",
       "      <th>TARGETID</th>\n",
       "      <th>Redrock_spectype</th>\n",
       "      <th>Redrock_z</th>\n",
       "      <th>VI_scanner</th>\n",
       "      <th>VI_quality</th>\n",
       "      <th>VI_issue</th>\n",
       "      <th>VI_z</th>\n",
       "      <th>VI_spectype</th>\n",
       "      <th>VI_comment</th>\n",
       "      <th>best redshift</th>\n",
       "      <th>best spectype</th>\n",
       "      <th>vi_combined_flag</th>\n",
       "      <th>vi_diff</th>\n",
       "      <th>vi_combined_z</th>\n",
       "      <th>dz</th>\n",
       "      <th>all VI comments</th>\n",
       "      <th>N_VI</th>\n",
       "      <th>merger comment</th>\n",
       "    </tr>\n",
       "  </thead>\n",
       "  <tbody>\n",
       "    <tr>\n",
       "      <th>247</th>\n",
       "      <td>35191281181264139</td>\n",
       "      <td>GALAXY</td>\n",
       "      <td>0.9746</td>\n",
       "      <td>KSD</td>\n",
       "      <td>3</td>\n",
       "      <td>NaN</td>\n",
       "      <td>0.7383</td>\n",
       "      <td>NaN</td>\n",
       "      <td>--</td>\n",
       "      <td>0.7383</td>\n",
       "      <td>GALAXY</td>\n",
       "      <td>2.0</td>\n",
       "      <td>2</td>\n",
       "      <td>0.9746</td>\n",
       "      <td>0.135937</td>\n",
       "      <td>--|Continuum is resolved But Very noisy signal...</td>\n",
       "      <td>2</td>\n",
       "      <td>none</td>\n",
       "    </tr>\n",
       "    <tr>\n",
       "      <th>297</th>\n",
       "      <td>35191281181264139</td>\n",
       "      <td>GALAXY</td>\n",
       "      <td>0.9746</td>\n",
       "      <td>NaN</td>\n",
       "      <td>1</td>\n",
       "      <td>NaN</td>\n",
       "      <td>0.9746</td>\n",
       "      <td>GALAXY</td>\n",
       "      <td>Continuum is resolved But Very noisy signal th...</td>\n",
       "      <td>0.9746</td>\n",
       "      <td>GALAXY</td>\n",
       "      <td>2.0</td>\n",
       "      <td>2</td>\n",
       "      <td>0.9746</td>\n",
       "      <td>0.135937</td>\n",
       "      <td>--|Continuum is resolved But Very noisy signal...</td>\n",
       "      <td>2</td>\n",
       "      <td>none</td>\n",
       "    </tr>\n",
       "  </tbody>\n",
       "</table>\n",
       "</div>"
      ],
      "text/plain": [
       "              TARGETID Redrock_spectype  Redrock_z VI_scanner  VI_quality  \\\n",
       "247  35191281181264139           GALAXY     0.9746        KSD           3   \n",
       "297  35191281181264139           GALAXY     0.9746        NaN           1   \n",
       "\n",
       "    VI_issue    VI_z VI_spectype  \\\n",
       "247      NaN  0.7383         NaN   \n",
       "297      NaN  0.9746      GALAXY   \n",
       "\n",
       "                                            VI_comment  best redshift  \\\n",
       "247                                                 --         0.7383   \n",
       "297  Continuum is resolved But Very noisy signal th...         0.9746   \n",
       "\n",
       "    best spectype  vi_combined_flag  vi_diff  vi_combined_z        dz  \\\n",
       "247        GALAXY               2.0        2         0.9746  0.135937   \n",
       "297        GALAXY               2.0        2         0.9746  0.135937   \n",
       "\n",
       "                                       all VI comments  N_VI merger comment  \n",
       "247  --|Continuum is resolved But Very noisy signal...     2           none  \n",
       "297  --|Continuum is resolved But Very noisy signal...     2           none  "
      ]
     },
     "metadata": {},
     "output_type": "display_data"
    }
   ],
   "source": [
    "#copy this text to a new cell to display the conflict\n",
    "conflict_id=15\n",
    "display_conflict(conflict_id, show_spectra=show_spectra)\n",
    "\n"
   ]
  },
  {
   "cell_type": "code",
   "execution_count": 129,
   "metadata": {},
   "outputs": [
    {
     "name": "stdout",
     "output_type": "stream",
     "text": [
      "conflict ID =  15\n"
     ]
    }
   ],
   "source": [
    "#copy this text to a new cell to resolve the conflict\n",
    "vi.loc[vi.TARGETID==unique_targets[conflict_id], 'best redshift'] = 0.7383\n",
    "vi.loc[vi.TARGETID==unique_targets[conflict_id], 'VI_quality'] = 3\n",
    "#vi.loc[vi.TargetID==unique_targets[conflict_id], 'best spectype'] = 'GALAXY'\n",
    "\n",
    "#add a comment\n",
    "vi.loc[vi.TARGETID==unique_targets[conflict_id], 'merger comment'] = 'Bad calibration drives the best fit'\n",
    "\n",
    "#look at the values again to make sure all is well\n",
    "#display(vi[vi.TARGETID==unique_targets[conflict_id]])\n",
    "print('conflict ID = ', conflict_id)\n",
    "\n"
   ]
  },
  {
   "cell_type": "markdown",
   "metadata": {},
   "source": [
    "### and so on...\n",
    "\n",
    "We should now recompute the conflicts, and not find any."
   ]
  },
  {
   "cell_type": "code",
   "execution_count": null,
   "metadata": {},
   "outputs": [],
   "source": []
  },
  {
   "cell_type": "code",
   "execution_count": null,
   "metadata": {},
   "outputs": [],
   "source": []
  },
  {
   "cell_type": "code",
   "execution_count": 130,
   "metadata": {},
   "outputs": [],
   "source": [
    "vi_conflict = VI.find_conflicts(vi_gp)"
   ]
  },
  {
   "cell_type": "code",
   "execution_count": 131,
   "metadata": {},
   "outputs": [
    {
     "name": "stdout",
     "output_type": "stream",
     "text": [
      "Targets with problematic VI:  []\n",
      "Total number of conflicts to resolve:  0\n"
     ]
    }
   ],
   "source": [
    "unique_targets = np.unique(vi_conflict['TARGETID'].tolist())\n",
    "print('Targets with problematic VI: ', unique_targets)\n",
    "print('Total number of conflicts to resolve: ', len(unique_targets))"
   ]
  },
  {
   "cell_type": "markdown",
   "metadata": {},
   "source": [
    "Display anything that was missed (if \"Total number of conflicts\" isn't zero) and resolve!"
   ]
  },
  {
   "cell_type": "raw",
   "metadata": {
    "jupyter": {
     "outputs_hidden": true
    }
   },
   "source": [
    "for i in range(len(unique_targets)): \n",
    "    display(vi[vi.TargetID==unique_targets[i]])"
   ]
  },
  {
   "cell_type": "markdown",
   "metadata": {},
   "source": [
    "Let's check the number of conflicts again."
   ]
  },
  {
   "cell_type": "code",
   "execution_count": 132,
   "metadata": {},
   "outputs": [],
   "source": [
    "vi_conflict = VI.find_conflicts(vi_gp)"
   ]
  },
  {
   "cell_type": "code",
   "execution_count": 133,
   "metadata": {},
   "outputs": [
    {
     "name": "stdout",
     "output_type": "stream",
     "text": [
      "Targets with problematic VI:  []\n",
      "Total number of conflicts to resolve:  0\n"
     ]
    }
   ],
   "source": [
    "unique_targets = np.unique(vi_conflict['TARGETID'].tolist())\n",
    "print('Targets with problematic VI: ', unique_targets)\n",
    "print('Total number of conflicts to resolve: ', len(unique_targets))"
   ]
  },
  {
   "cell_type": "markdown",
   "metadata": {},
   "source": [
    "## Woohoo!"
   ]
  },
  {
   "cell_type": "code",
   "execution_count": null,
   "metadata": {},
   "outputs": [],
   "source": []
  },
  {
   "cell_type": "code",
   "execution_count": null,
   "metadata": {},
   "outputs": [],
   "source": []
  },
  {
   "cell_type": "code",
   "execution_count": null,
   "metadata": {},
   "outputs": [],
   "source": []
  },
  {
   "cell_type": "markdown",
   "metadata": {},
   "source": [
    "## Finally\n",
    "we need to recompute vi_combined_flag and vi_combined_z, after everything is resolved."
   ]
  },
  {
   "cell_type": "code",
   "execution_count": 134,
   "metadata": {},
   "outputs": [],
   "source": [
    "vi['vi_combined_flag'] = vi.groupby('TARGETID')['VI_quality'].transform('mean')\n",
    "vi['vi_combined_z'] = vi.groupby('TARGETID')['best redshift'].transform('mean')\n"
   ]
  },
  {
   "cell_type": "markdown",
   "metadata": {},
   "source": [
    "## Now we prepare to write to file. \n",
    "\n",
    "### The important columns for the truth table construction are **vi_combined_flag** and **vi_combined_z** \n",
    "\n",
    "The truth table should **take the redhift value in vi_combined_z** for all objects with **vi_combined_flag >= 2.5** (for discussion, but this catches the cases where there is some disagreement on the 2/3 boundary).\n",
    "\n",
    "After the merging process, those two columns will be the same for ALL of the members of each group by TargetID, so it doesn't matter which member we write to file. Taking the 1st one just makes this easy. \n"
   ]
  },
  {
   "cell_type": "code",
   "execution_count": 135,
   "metadata": {},
   "outputs": [
    {
     "data": {
      "text/plain": [
       "Index(['TARGETID', 'EXPID', 'NIGHT', 'TILEID', 'Spec_version',\n",
       "       'Redrock_version', 'Template_version', 'Redrock_spectype', 'Redrock_z',\n",
       "       'VI_scanner', 'VI_quality', 'VI_issue', 'VI_z', 'VI_spectype',\n",
       "       'VI_comment', 'FIBER', 'FLUX_G', 'FLUX_R', 'FLUX_Z', 'FIBERFLUX_G',\n",
       "       'FIBERFLUX_R', 'FIBERFLUX_Z', 'DELTACHI2', 'best redshift',\n",
       "       'best spectype', 'vi_combined_flag', 'vi_diff', 'dz', 'vi_combined_z',\n",
       "       'all VI comments', 'N_VI', 'merger comment'],\n",
       "      dtype='object')"
      ]
     },
     "execution_count": 135,
     "metadata": {},
     "output_type": "execute_result"
    }
   ],
   "source": [
    "vi.keys()"
   ]
  },
  {
   "cell_type": "code",
   "execution_count": 136,
   "metadata": {},
   "outputs": [
    {
     "name": "stdout",
     "output_type": "stream",
     "text": [
      "/global/homes/t/tlan/projects/VI_files/Andes_reinspection/LRG/truth_table_Andes_reinspection_LRG_68001_20200315_3.csv\n"
     ]
    }
   ],
   "source": [
    "print(VI_dir+save_filename)"
   ]
  },
  {
   "cell_type": "code",
   "execution_count": 137,
   "metadata": {},
   "outputs": [
    {
     "name": "stderr",
     "output_type": "stream",
     "text": [
      "<ipython-input-137-2063ed20beca>:1: FutureWarning: Indexing with multiple keys (implicitly converted to a tuple of keys) will be deprecated, use a list instead.\n",
      "  vi_gp['Redrock_z', 'Redrock_spectype', 'best redshift' , 'best spectype', 'vi_combined_flag',\n"
     ]
    }
   ],
   "source": [
    "vi_gp['Redrock_z', 'Redrock_spectype', 'best redshift' , 'best spectype', 'vi_combined_flag',  \n",
    "      'all VI comments', 'merger comment', 'N_VI', 'DELTACHI2','FIBER'].first().to_csv(VI_dir+save_filename)"
   ]
  },
  {
   "cell_type": "markdown",
   "metadata": {},
   "source": [
    "Check that merged file reads in OK - check comments"
   ]
  },
  {
   "cell_type": "code",
   "execution_count": 138,
   "metadata": {},
   "outputs": [],
   "source": [
    "merged_file = pd.read_csv(VI_dir+save_filename)"
   ]
  },
  {
   "cell_type": "code",
   "execution_count": 139,
   "metadata": {},
   "outputs": [
    {
     "data": {
      "text/plain": [
       "Index(['TARGETID', 'Redrock_z', 'Redrock_spectype', 'best redshift',\n",
       "       'best spectype', 'vi_combined_flag', 'all VI comments',\n",
       "       'merger comment', 'N_VI', 'DELTACHI2', 'FIBER'],\n",
       "      dtype='object')"
      ]
     },
     "execution_count": 139,
     "metadata": {},
     "output_type": "execute_result"
    }
   ],
   "source": [
    "merged_file.keys()"
   ]
  },
  {
   "cell_type": "code",
   "execution_count": 140,
   "metadata": {},
   "outputs": [
    {
     "data": {
      "text/plain": [
       "150"
      ]
     },
     "execution_count": 140,
     "metadata": {},
     "output_type": "execute_result"
    }
   ],
   "source": [
    "len(merged_file)"
   ]
  },
  {
   "cell_type": "code",
   "execution_count": 141,
   "metadata": {},
   "outputs": [
    {
     "data": {
      "text/plain": [
       "'/global/homes/t/tlan/projects/VI_files/Andes_reinspection/LRG/'"
      ]
     },
     "execution_count": 141,
     "metadata": {},
     "output_type": "execute_result"
    }
   ],
   "source": [
    "VI_dir"
   ]
  },
  {
   "cell_type": "code",
   "execution_count": null,
   "metadata": {},
   "outputs": [],
   "source": []
  }
 ],
 "metadata": {
  "kernelspec": {
   "display_name": "DESI master",
   "language": "python",
   "name": "desi-master"
  },
  "language_info": {
   "codemirror_mode": {
    "name": "ipython",
    "version": 3
   },
   "file_extension": ".py",
   "mimetype": "text/x-python",
   "name": "python",
   "nbconvert_exporter": "python",
   "pygments_lexer": "ipython3",
   "version": "3.8.3"
  }
 },
 "nbformat": 4,
 "nbformat_minor": 4
}
