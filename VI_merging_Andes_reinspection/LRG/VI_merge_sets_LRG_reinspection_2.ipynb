{
 "cells": [
  {
   "cell_type": "markdown",
   "metadata": {},
   "source": [
    "## Identifying and resolving conflicts in a batch of VI files"
   ]
  },
  {
   "cell_type": "markdown",
   "metadata": {},
   "source": [
    "Andes Reinspection \n",
    "LRG\n",
    "Data information can be found at https://data.desi.lbl.gov/desi/spectro/prospect/target-reinspection-andes/\n",
    "\n",
    "/global/cfs/cdirs/desi/spectro/redux/andes\n",
    "\n",
    "\n",
    "448 visual inspections of a total of 150 unique objects\n",
    "\n",
    "32 conflicts"
   ]
  },
  {
   "cell_type": "code",
   "execution_count": 131,
   "metadata": {},
   "outputs": [],
   "source": [
    "save_filename='truth_table_Andes_reinspection_LRG_68001_20200315_2.csv'"
   ]
  },
  {
   "cell_type": "code",
   "execution_count": 132,
   "metadata": {},
   "outputs": [],
   "source": [
    "import os, sys, glob\n",
    "import numpy as np\n",
    "\n",
    "from astropy.io import fits\n",
    "from astropy.table import Table, join, vstack\n",
    "from astropy.io import fits\n",
    "\n",
    "import pandas as pd\n",
    "import fnmatch\n",
    "\n",
    "import desispec.io\n",
    "\n",
    "import VI_utils as VI\n",
    "sys.path.append(\"/global/homes/r/tlan/prospect/prospect/py\")\n",
    "\n",
    "from prospect import utils_specviewer,plotframes\n",
    "#import desispec\n",
    "# library location will change ..\n",
    "sys.path.append(\"/global/u2/t/tlan/python/prospect/py\")\n",
    "from prospect import utils_specviewer,plotframes\n",
    "import matplotlib.pyplot as plt "
   ]
  },
  {
   "cell_type": "code",
   "execution_count": 133,
   "metadata": {},
   "outputs": [],
   "source": [
    "tiledir   = '/global/cfs/cdirs/desi/spectro/redux/andes/tiles/'\n",
    "tiles = ['68001']\n",
    "nights = ['20200315']\n",
    "petals = ['0','1', '2', '3', '4', '5', '6' ,'7', '8', '9']\n",
    "#petals = ['0','3','6','7']\n",
    "obs_db = utils_specviewer.make_targetdict(tiledir, petals=petals, tiles=tiles) # tiles = optional \n",
    "#del obs_db['67230-20200314']\n",
    "#obs_db.keys()"
   ]
  },
  {
   "cell_type": "code",
   "execution_count": 134,
   "metadata": {},
   "outputs": [],
   "source": [
    "pd.set_option('display.max_rows', 10)"
   ]
  },
  {
   "cell_type": "code",
   "execution_count": 135,
   "metadata": {},
   "outputs": [],
   "source": [
    "#set to directory with all the VI files to merge\n",
    "VI_dir = os.environ['HOME']+'/projects/VI_files/Andes_reinspection/LRG/'"
   ]
  },
  {
   "cell_type": "code",
   "execution_count": 136,
   "metadata": {},
   "outputs": [
    {
     "name": "stdout",
     "output_type": "stream",
     "text": [
      "desi*_68001_4_*.csv\n",
      "desi*_68001_5_*.csv\n",
      "desi*_68001_6_*.csv\n",
      "['desi-vi_LRG_reinspection_68001_4_PNT.csv', 'desi-vi_LRG_reinspection_68001_4_KSD.csv', 'desi-vi_LRG_reinspection_68001_5_PNT.csv', 'desi-vi_LRG_reinspection_68001_5_KSD.csv', 'desi-vi_LRG_reinspection_68001_6_PNT.csv', 'desi-vi_LRG_reinspection_68001_6_KSD.csv']\n"
     ]
    }
   ],
   "source": [
    "#read a set of files \n",
    "all_files = os.listdir(VI_dir)\n",
    "vi_files=[]\n",
    "\n",
    "for i in range(4,7):\n",
    "    pattern = \"desi*_\"+str(68001)+\"_\"+str(i)+\"_*.csv\"\n",
    "    print(pattern)\n",
    "    for entry in all_files:\n",
    "        if fnmatch.fnmatch(entry, pattern):\n",
    "            vi_files.append(entry)\n",
    "\n",
    "print(vi_files)"
   ]
  },
  {
   "cell_type": "code",
   "execution_count": null,
   "metadata": {},
   "outputs": [],
   "source": []
  },
  {
   "cell_type": "code",
   "execution_count": 137,
   "metadata": {},
   "outputs": [
    {
     "name": "stdout",
     "output_type": "stream",
     "text": [
      "desi-vi_LRG_reinspection_68001_4_PNT.csv\n",
      "desi-vi_LRG_reinspection_68001_4_KSD.csv\n",
      "desi-vi_LRG_reinspection_68001_5_PNT.csv\n",
      "desi-vi_LRG_reinspection_68001_5_KSD.csv\n",
      "desi-vi_LRG_reinspection_68001_6_PNT.csv\n",
      "desi-vi_LRG_reinspection_68001_6_KSD.csv\n",
      "There are 299 visual inspections of a total of 150 unique objects\n",
      "That gives 1.9933333333333334 inspections per object.\n"
     ]
    }
   ],
   "source": [
    "vi = pd.read_csv(VI_dir + vi_files[0], delimiter = \",\", engine='python')\n",
    "print(vi_files[0])\n",
    "for i in range(1,len(vi_files)):\n",
    "    print(vi_files[i])\n",
    "    vi2 = pd.read_csv(VI_dir + vi_files[i], delimiter = \",\", engine='python')\n",
    "    vi = vi.append(vi2, ignore_index=True)\n",
    "#print(vi)    \n",
    "#make groups of visual inspections, grouped by unique objects, and state number of single and multiple VIs\n",
    "vi_gp = vi.groupby(['TARGETID'])\n",
    "\n",
    "print('There are ' + str(len(vi)) + ' visual inspections of a total of ' + str(len(vi_gp)) + ' unique objects')\n",
    "print('That gives ' + str(len(vi)/len(vi_gp)) + ' inspections per object.')"
   ]
  },
  {
   "cell_type": "code",
   "execution_count": 138,
   "metadata": {},
   "outputs": [],
   "source": [
    "#vi is a dataframe\n",
    "#display(vi)"
   ]
  },
  {
   "cell_type": "code",
   "execution_count": 139,
   "metadata": {},
   "outputs": [
    {
     "data": {
      "text/plain": [
       "299"
      ]
     },
     "execution_count": 139,
     "metadata": {},
     "output_type": "execute_result"
    }
   ],
   "source": [
    "#vi.keys()\n",
    "len(vi)"
   ]
  },
  {
   "cell_type": "markdown",
   "metadata": {},
   "source": [
    "# Merge with zbest files\n",
    "#Add: fiberID, delta_chi2, flux information,.. anything else?\n"
   ]
  },
  {
   "cell_type": "code",
   "execution_count": 140,
   "metadata": {},
   "outputs": [
    {
     "name": "stdout",
     "output_type": "stream",
     "text": [
      "5000\n",
      "5000\n",
      "299\n"
     ]
    }
   ],
   "source": [
    "\n",
    "#read in fibermap info, loop over the files for all the petals\n",
    "tf = Table.read(tiledir+'/'+tiles[0] + '/'+nights[0]+'/zbest-'+str(petals[0])+'-'+str(tiles[0])+'-'+nights[0]+'.fits',hdu='FIBERMAP')\n",
    "tspec = Table.read(tiledir+'/'+tiles[0] + '/'+nights[0]+'/zbest-'+str(petals[0])+'-'+str(tiles[0])+'-'+nights[0]+'.fits',hdu='ZBEST')\n",
    "\n",
    "for i in range(1,len(petals)):\n",
    "    tn = Table.read(tiledir+'/'+tiles[0] + '/'+nights[0]+'/zbest-'+str(petals[i])+'-'+str(tiles[0])+'-'+nights[0]+'.fits',hdu='ZBEST')\n",
    "    tnf = Table.read(tiledir+'/'+tiles[0] + '/'+nights[0]+'/zbest-'+str(petals[i])+'-'+str(tiles[0])+'-'+nights[0]+'.fits',hdu='FIBERMAP')\n",
    "    tspec = vstack([tspec,tn])\n",
    "    tf = vstack([tf,tnf])\n",
    "\n",
    "#tf['TARGETID','FIBER','FLUX_G','FLUX_R','FLUX_Z','FIBERFLUX_G','FIBERFLUX_R','FIBERFLUX_Z'].to_panda()    \n",
    "EXPID = list(set(tf['EXPID']))[0]\n",
    "tf = tf[tf['EXPID']==EXPID]\n",
    "tspec_df = tspec['TARGETID','DELTACHI2' ].to_pandas()\n",
    "tf_df = tf['TARGETID','FIBER','FLUX_G','FLUX_R','FLUX_Z','FIBERFLUX_G','FIBERFLUX_R','FIBERFLUX_Z'].to_pandas()\n",
    "print(len(tspec_df))\n",
    "print(len(tf_df))\n",
    "#tf_df = tf_df.rename(columns={\"TargetID\": \"TARGETID\"})\n",
    "#tspec_df = tspec_df.rename(columns={\"TargetID\": \"TARGETID\"})\n",
    "#print(len(vi))\n",
    "vi = vi.merge(tf_df, how='left', on='TARGETID')\n",
    "vi = vi.merge(tspec_df, how='left', on='TARGETID')\n",
    "print(len(vi))"
   ]
  },
  {
   "cell_type": "code",
   "execution_count": null,
   "metadata": {},
   "outputs": [],
   "source": []
  },
  {
   "cell_type": "code",
   "execution_count": 141,
   "metadata": {},
   "outputs": [
    {
     "name": "stdout",
     "output_type": "stream",
     "text": [
      "Index(['TARGETID', 'EXPID', 'NIGHT', 'TILEID', 'Spec_version',\n",
      "       'Redrock_version', 'Template_version', 'Redrock_spectype', 'Redrock_z',\n",
      "       'VI_scanner', 'VI_quality', 'VI_issue', 'VI_z', 'VI_spectype',\n",
      "       'VI_comment', 'FIBER', 'FLUX_G', 'FLUX_R', 'FLUX_Z', 'FIBERFLUX_G',\n",
      "       'FIBERFLUX_R', 'FIBERFLUX_Z', 'DELTACHI2'],\n",
      "      dtype='object')\n"
     ]
    }
   ],
   "source": [
    "print(vi.keys())\n",
    "#print(len(vi))\n",
    "#vi['best redshift']=vi['VI_z']"
   ]
  },
  {
   "cell_type": "markdown",
   "metadata": {},
   "source": [
    "### Adding a bunch of useful columns"
   ]
  },
  {
   "cell_type": "code",
   "execution_count": 142,
   "metadata": {},
   "outputs": [],
   "source": [
    "#vi['VI_z']\n",
    "import VI_utils as VI\n",
    "#vi['VI_z']\n",
    "#bad_str = [s is None for s in vi['VI_comment']]\n",
    "#vi['VI_comment'].isnull()\n",
    "#bad_str = [s is None for s in vi['VI_comment']]\n",
    "#print(bad_str)\n",
    "#vi.loc[vi['VI_comment'].isnull(),'VI_comment']='--'\n",
    "#vi['VI_comment']\n",
    "#vi['all VI comments'] = vi.groupby('TARGETID')['VI_comment'].transform(lambda x: '|'.join(x))\n",
    "#print(vi['all VI comments'])\n",
    "vi = VI.prep_new_columns(vi)\n",
    "#vi['best redshift'] = vi['VI_z']\n",
    "#test = vi['VI_z']\n",
    "#vi['best redshift'].isnull()\n",
    "#vi.loc[vi['best redshift'].isnull(), 'best redshift'] = vi.loc[vi['best redshift'].isnull(), 'Redrock_z']\n",
    "#vi['best redshift']"
   ]
  },
  {
   "cell_type": "code",
   "execution_count": 143,
   "metadata": {},
   "outputs": [
    {
     "data": {
      "text/html": [
       "<div>\n",
       "<style scoped>\n",
       "    .dataframe tbody tr th:only-of-type {\n",
       "        vertical-align: middle;\n",
       "    }\n",
       "\n",
       "    .dataframe tbody tr th {\n",
       "        vertical-align: top;\n",
       "    }\n",
       "\n",
       "    .dataframe thead th {\n",
       "        text-align: right;\n",
       "    }\n",
       "</style>\n",
       "<table border=\"1\" class=\"dataframe\">\n",
       "  <thead>\n",
       "    <tr style=\"text-align: right;\">\n",
       "      <th></th>\n",
       "      <th>TARGETID</th>\n",
       "      <th>EXPID</th>\n",
       "      <th>NIGHT</th>\n",
       "      <th>TILEID</th>\n",
       "      <th>Spec_version</th>\n",
       "      <th>Redrock_version</th>\n",
       "      <th>Template_version</th>\n",
       "      <th>Redrock_spectype</th>\n",
       "      <th>Redrock_z</th>\n",
       "      <th>VI_scanner</th>\n",
       "      <th>...</th>\n",
       "      <th>DELTACHI2</th>\n",
       "      <th>best redshift</th>\n",
       "      <th>best spectype</th>\n",
       "      <th>vi_combined_flag</th>\n",
       "      <th>vi_diff</th>\n",
       "      <th>dz</th>\n",
       "      <th>vi_combined_z</th>\n",
       "      <th>all VI comments</th>\n",
       "      <th>N_VI</th>\n",
       "      <th>merger comment</th>\n",
       "    </tr>\n",
       "  </thead>\n",
       "  <tbody>\n",
       "    <tr>\n",
       "      <th>0</th>\n",
       "      <td>35191263070258916</td>\n",
       "      <td>55611</td>\n",
       "      <td>20200315</td>\n",
       "      <td>68001</td>\n",
       "      <td>0.34.4</td>\n",
       "      <td>-1</td>\n",
       "      <td>-1</td>\n",
       "      <td>GALAXY</td>\n",
       "      <td>1.0160</td>\n",
       "      <td>PNT</td>\n",
       "      <td>...</td>\n",
       "      <td>179.033720</td>\n",
       "      <td>1.0160</td>\n",
       "      <td>GALAXY</td>\n",
       "      <td>4.0</td>\n",
       "      <td>0</td>\n",
       "      <td>0.000000</td>\n",
       "      <td>1.0160</td>\n",
       "      <td>--|--</td>\n",
       "      <td>2</td>\n",
       "      <td>none</td>\n",
       "    </tr>\n",
       "    <tr>\n",
       "      <th>1</th>\n",
       "      <td>35191263074452265</td>\n",
       "      <td>55611</td>\n",
       "      <td>20200315</td>\n",
       "      <td>68001</td>\n",
       "      <td>0.34.4</td>\n",
       "      <td>-1</td>\n",
       "      <td>-1</td>\n",
       "      <td>GALAXY</td>\n",
       "      <td>0.0811</td>\n",
       "      <td>PNT</td>\n",
       "      <td>...</td>\n",
       "      <td>25.988930</td>\n",
       "      <td>0.0811</td>\n",
       "      <td>GALAXY</td>\n",
       "      <td>3.0</td>\n",
       "      <td>2</td>\n",
       "      <td>0.433725</td>\n",
       "      <td>0.0811</td>\n",
       "      <td>Continuum and D1 and D2 detected but Halpha de...</td>\n",
       "      <td>2</td>\n",
       "      <td>none</td>\n",
       "    </tr>\n",
       "    <tr>\n",
       "      <th>2</th>\n",
       "      <td>35191263074453893</td>\n",
       "      <td>55611</td>\n",
       "      <td>20200315</td>\n",
       "      <td>68001</td>\n",
       "      <td>0.34.4</td>\n",
       "      <td>-1</td>\n",
       "      <td>-1</td>\n",
       "      <td>GALAXY</td>\n",
       "      <td>0.9841</td>\n",
       "      <td>PNT</td>\n",
       "      <td>...</td>\n",
       "      <td>100.414572</td>\n",
       "      <td>0.9841</td>\n",
       "      <td>GALAXY</td>\n",
       "      <td>4.0</td>\n",
       "      <td>0</td>\n",
       "      <td>0.000000</td>\n",
       "      <td>0.9841</td>\n",
       "      <td>--|--</td>\n",
       "      <td>2</td>\n",
       "      <td>none</td>\n",
       "    </tr>\n",
       "    <tr>\n",
       "      <th>3</th>\n",
       "      <td>35191266727690614</td>\n",
       "      <td>55611</td>\n",
       "      <td>20200315</td>\n",
       "      <td>68001</td>\n",
       "      <td>0.34.4</td>\n",
       "      <td>-1</td>\n",
       "      <td>-1</td>\n",
       "      <td>GALAXY</td>\n",
       "      <td>0.7608</td>\n",
       "      <td>PNT</td>\n",
       "      <td>...</td>\n",
       "      <td>84.293783</td>\n",
       "      <td>0.7608</td>\n",
       "      <td>GALAXY</td>\n",
       "      <td>3.5</td>\n",
       "      <td>1</td>\n",
       "      <td>0.000000</td>\n",
       "      <td>0.7608</td>\n",
       "      <td>--|--</td>\n",
       "      <td>2</td>\n",
       "      <td>none</td>\n",
       "    </tr>\n",
       "    <tr>\n",
       "      <th>4</th>\n",
       "      <td>35191266727691301</td>\n",
       "      <td>55611</td>\n",
       "      <td>20200315</td>\n",
       "      <td>68001</td>\n",
       "      <td>0.34.4</td>\n",
       "      <td>-1</td>\n",
       "      <td>-1</td>\n",
       "      <td>GALAXY</td>\n",
       "      <td>0.7820</td>\n",
       "      <td>PNT</td>\n",
       "      <td>...</td>\n",
       "      <td>117.580083</td>\n",
       "      <td>0.7820</td>\n",
       "      <td>GALAXY</td>\n",
       "      <td>4.0</td>\n",
       "      <td>0</td>\n",
       "      <td>0.000000</td>\n",
       "      <td>0.7820</td>\n",
       "      <td>--|--</td>\n",
       "      <td>2</td>\n",
       "      <td>none</td>\n",
       "    </tr>\n",
       "    <tr>\n",
       "      <th>...</th>\n",
       "      <td>...</td>\n",
       "      <td>...</td>\n",
       "      <td>...</td>\n",
       "      <td>...</td>\n",
       "      <td>...</td>\n",
       "      <td>...</td>\n",
       "      <td>...</td>\n",
       "      <td>...</td>\n",
       "      <td>...</td>\n",
       "      <td>...</td>\n",
       "      <td>...</td>\n",
       "      <td>...</td>\n",
       "      <td>...</td>\n",
       "      <td>...</td>\n",
       "      <td>...</td>\n",
       "      <td>...</td>\n",
       "      <td>...</td>\n",
       "      <td>...</td>\n",
       "      <td>...</td>\n",
       "      <td>...</td>\n",
       "      <td>...</td>\n",
       "    </tr>\n",
       "    <tr>\n",
       "      <th>294</th>\n",
       "      <td>35191270393513564</td>\n",
       "      <td>55611</td>\n",
       "      <td>20200315</td>\n",
       "      <td>68001</td>\n",
       "      <td>0.34.4</td>\n",
       "      <td>-1</td>\n",
       "      <td>-1</td>\n",
       "      <td>GALAXY</td>\n",
       "      <td>1.2318</td>\n",
       "      <td>KSD</td>\n",
       "      <td>...</td>\n",
       "      <td>117.276860</td>\n",
       "      <td>1.2318</td>\n",
       "      <td>GALAXY</td>\n",
       "      <td>4.0</td>\n",
       "      <td>0</td>\n",
       "      <td>0.000000</td>\n",
       "      <td>1.2318</td>\n",
       "      <td>--|--</td>\n",
       "      <td>2</td>\n",
       "      <td>none</td>\n",
       "    </tr>\n",
       "    <tr>\n",
       "      <th>295</th>\n",
       "      <td>35191270393514617</td>\n",
       "      <td>55611</td>\n",
       "      <td>20200315</td>\n",
       "      <td>68001</td>\n",
       "      <td>0.34.4</td>\n",
       "      <td>-1</td>\n",
       "      <td>-1</td>\n",
       "      <td>GALAXY</td>\n",
       "      <td>0.9112</td>\n",
       "      <td>KSD</td>\n",
       "      <td>...</td>\n",
       "      <td>20.049107</td>\n",
       "      <td>0.9112</td>\n",
       "      <td>GALAXY</td>\n",
       "      <td>3.0</td>\n",
       "      <td>2</td>\n",
       "      <td>0.000000</td>\n",
       "      <td>0.9112</td>\n",
       "      <td>--|--</td>\n",
       "      <td>2</td>\n",
       "      <td>none</td>\n",
       "    </tr>\n",
       "    <tr>\n",
       "      <th>296</th>\n",
       "      <td>35191270393515099</td>\n",
       "      <td>55611</td>\n",
       "      <td>20200315</td>\n",
       "      <td>68001</td>\n",
       "      <td>0.34.4</td>\n",
       "      <td>-1</td>\n",
       "      <td>-1</td>\n",
       "      <td>GALAXY</td>\n",
       "      <td>1.5158</td>\n",
       "      <td>KSD</td>\n",
       "      <td>...</td>\n",
       "      <td>3.677688</td>\n",
       "      <td>0.7473</td>\n",
       "      <td>GALAXY</td>\n",
       "      <td>2.0</td>\n",
       "      <td>0</td>\n",
       "      <td>0.439821</td>\n",
       "      <td>1.5158</td>\n",
       "      <td>Continuum detected But OII line and other line...</td>\n",
       "      <td>2</td>\n",
       "      <td>none</td>\n",
       "    </tr>\n",
       "    <tr>\n",
       "      <th>297</th>\n",
       "      <td>35191270397708396</td>\n",
       "      <td>55611</td>\n",
       "      <td>20200315</td>\n",
       "      <td>68001</td>\n",
       "      <td>0.34.4</td>\n",
       "      <td>-1</td>\n",
       "      <td>-1</td>\n",
       "      <td>GALAXY</td>\n",
       "      <td>1.0958</td>\n",
       "      <td>KSD</td>\n",
       "      <td>...</td>\n",
       "      <td>187.587404</td>\n",
       "      <td>1.0958</td>\n",
       "      <td>GALAXY</td>\n",
       "      <td>4.0</td>\n",
       "      <td>0</td>\n",
       "      <td>0.000000</td>\n",
       "      <td>1.0958</td>\n",
       "      <td>--|--</td>\n",
       "      <td>2</td>\n",
       "      <td>none</td>\n",
       "    </tr>\n",
       "    <tr>\n",
       "      <th>298</th>\n",
       "      <td>35191270372542131</td>\n",
       "      <td>55611</td>\n",
       "      <td>20200315</td>\n",
       "      <td>68001</td>\n",
       "      <td>0.34.4</td>\n",
       "      <td>-1</td>\n",
       "      <td>-1</td>\n",
       "      <td>GALAXY</td>\n",
       "      <td>0.7664</td>\n",
       "      <td>KSD</td>\n",
       "      <td>...</td>\n",
       "      <td>54.969280</td>\n",
       "      <td>0.7664</td>\n",
       "      <td>GALAXY</td>\n",
       "      <td>2.5</td>\n",
       "      <td>1</td>\n",
       "      <td>0.000000</td>\n",
       "      <td>0.7664</td>\n",
       "      <td>Low SNR Continuum detected but lines were not ...</td>\n",
       "      <td>2</td>\n",
       "      <td>none</td>\n",
       "    </tr>\n",
       "  </tbody>\n",
       "</table>\n",
       "<p>299 rows × 32 columns</p>\n",
       "</div>"
      ],
      "text/plain": [
       "              TARGETID  EXPID     NIGHT  TILEID Spec_version  Redrock_version  \\\n",
       "0    35191263070258916  55611  20200315   68001       0.34.4               -1   \n",
       "1    35191263074452265  55611  20200315   68001       0.34.4               -1   \n",
       "2    35191263074453893  55611  20200315   68001       0.34.4               -1   \n",
       "3    35191266727690614  55611  20200315   68001       0.34.4               -1   \n",
       "4    35191266727691301  55611  20200315   68001       0.34.4               -1   \n",
       "..                 ...    ...       ...     ...          ...              ...   \n",
       "294  35191270393513564  55611  20200315   68001       0.34.4               -1   \n",
       "295  35191270393514617  55611  20200315   68001       0.34.4               -1   \n",
       "296  35191270393515099  55611  20200315   68001       0.34.4               -1   \n",
       "297  35191270397708396  55611  20200315   68001       0.34.4               -1   \n",
       "298  35191270372542131  55611  20200315   68001       0.34.4               -1   \n",
       "\n",
       "     Template_version Redrock_spectype  Redrock_z VI_scanner  ...   DELTACHI2  \\\n",
       "0                  -1           GALAXY     1.0160        PNT  ...  179.033720   \n",
       "1                  -1           GALAXY     0.0811        PNT  ...   25.988930   \n",
       "2                  -1           GALAXY     0.9841        PNT  ...  100.414572   \n",
       "3                  -1           GALAXY     0.7608        PNT  ...   84.293783   \n",
       "4                  -1           GALAXY     0.7820        PNT  ...  117.580083   \n",
       "..                ...              ...        ...        ...  ...         ...   \n",
       "294                -1           GALAXY     1.2318        KSD  ...  117.276860   \n",
       "295                -1           GALAXY     0.9112        KSD  ...   20.049107   \n",
       "296                -1           GALAXY     1.5158        KSD  ...    3.677688   \n",
       "297                -1           GALAXY     1.0958        KSD  ...  187.587404   \n",
       "298                -1           GALAXY     0.7664        KSD  ...   54.969280   \n",
       "\n",
       "    best redshift  best spectype vi_combined_flag vi_diff        dz  \\\n",
       "0          1.0160         GALAXY              4.0       0  0.000000   \n",
       "1          0.0811         GALAXY              3.0       2  0.433725   \n",
       "2          0.9841         GALAXY              4.0       0  0.000000   \n",
       "3          0.7608         GALAXY              3.5       1  0.000000   \n",
       "4          0.7820         GALAXY              4.0       0  0.000000   \n",
       "..            ...            ...              ...     ...       ...   \n",
       "294        1.2318         GALAXY              4.0       0  0.000000   \n",
       "295        0.9112         GALAXY              3.0       2  0.000000   \n",
       "296        0.7473         GALAXY              2.0       0  0.439821   \n",
       "297        1.0958         GALAXY              4.0       0  0.000000   \n",
       "298        0.7664         GALAXY              2.5       1  0.000000   \n",
       "\n",
       "     vi_combined_z                                    all VI comments  N_VI  \\\n",
       "0           1.0160                                              --|--     2   \n",
       "1           0.0811  Continuum and D1 and D2 detected but Halpha de...     2   \n",
       "2           0.9841                                              --|--     2   \n",
       "3           0.7608                                              --|--     2   \n",
       "4           0.7820                                              --|--     2   \n",
       "..             ...                                                ...   ...   \n",
       "294         1.2318                                              --|--     2   \n",
       "295         0.9112                                              --|--     2   \n",
       "296         1.5158  Continuum detected But OII line and other line...     2   \n",
       "297         1.0958                                              --|--     2   \n",
       "298         0.7664  Low SNR Continuum detected but lines were not ...     2   \n",
       "\n",
       "     merger comment  \n",
       "0              none  \n",
       "1              none  \n",
       "2              none  \n",
       "3              none  \n",
       "4              none  \n",
       "..              ...  \n",
       "294            none  \n",
       "295            none  \n",
       "296            none  \n",
       "297            none  \n",
       "298            none  \n",
       "\n",
       "[299 rows x 32 columns]"
      ]
     },
     "metadata": {},
     "output_type": "display_data"
    }
   ],
   "source": [
    "#check all the new columns (keys) have been added correctly\n",
    "display(vi)\n",
    "#print(vi.keys())"
   ]
  },
  {
   "cell_type": "markdown",
   "metadata": {},
   "source": [
    "Get a table that holds only the objects that have been inspected more than once, and for which the individual VI classifications differ by 2 or more, or delta z / (1 + z) > 0.0033, or there is disagreement in best spectype (these are the conflicts to resolve)"
   ]
  },
  {
   "cell_type": "code",
   "execution_count": 144,
   "metadata": {},
   "outputs": [],
   "source": [
    "vi_gp = vi.groupby(['TARGETID'])\n",
    "vi_conflict = VI.find_conflicts(vi_gp)"
   ]
  },
  {
   "cell_type": "code",
   "execution_count": 145,
   "metadata": {},
   "outputs": [
    {
     "data": {
      "text/plain": [
       "150"
      ]
     },
     "execution_count": 145,
     "metadata": {},
     "output_type": "execute_result"
    }
   ],
   "source": [
    "len(vi_gp)"
   ]
  },
  {
   "cell_type": "markdown",
   "metadata": {},
   "source": [
    "Get the target IDs of the problematic objects and display in table form for a quick summary:"
   ]
  },
  {
   "cell_type": "code",
   "execution_count": 146,
   "metadata": {},
   "outputs": [
    {
     "name": "stdout",
     "output_type": "stream",
     "text": [
      "Targets with problematic VI:  [35191263074452265 35191263078646664 35191263082842426 35191263087037580\n",
      " 35191266723497497 35191266740275158 35191266740275701 35191270385124281\n",
      " 35191270393514617 35191273967059569 35191273975449926]\n",
      "Total number of conflicts to resolve:  11\n"
     ]
    }
   ],
   "source": [
    "unique_targets = np.unique(vi_conflict['TARGETID'].tolist())\n",
    "print('Targets with problematic VI: ', unique_targets)\n",
    "print('Total number of conflicts to resolve: ', len(unique_targets))"
   ]
  },
  {
   "cell_type": "code",
   "execution_count": 147,
   "metadata": {},
   "outputs": [
    {
     "data": {
      "text/plain": [
       "35191263074452265"
      ]
     },
     "execution_count": 147,
     "metadata": {},
     "output_type": "execute_result"
    }
   ],
   "source": [
    "unique_targets[0]"
   ]
  },
  {
   "cell_type": "raw",
   "metadata": {},
   "source": [
    "for i in range(len(unique_targets)): \n",
    "    display(vi[vi.TargetID==unique_targets[i].astype(float)])"
   ]
  },
  {
   "cell_type": "markdown",
   "metadata": {},
   "source": [
    "## This is where I resolve things manually - with care!!\n",
    "### I think it's better to keep it in a notebook, as typos can be backtracked rather than a single manual edit of a text file\n",
    "\n",
    "We edit either 'VI class', or 'best redshift' to resolve conflict. At the end, we look for conflicts again and we should find none.\n"
   ]
  },
  {
   "cell_type": "code",
   "execution_count": 148,
   "metadata": {},
   "outputs": [],
   "source": [
    "#function to display the conflict in table format and open a prospect window\n",
    "def display_conflict(conflict_id, show_spectra=None):\n",
    "    \n",
    "    #first, remind myself of the problem:\n",
    "    display(vi[vi.TARGETID==unique_targets[conflict_id]][['TARGETID', \n",
    "       'Redrock_spectype', 'Redrock_z', 'VI_scanner', 'VI_quality', 'VI_issue',\n",
    "       'VI_z', 'VI_spectype', 'VI_comment',\n",
    "       'best redshift', 'best spectype', 'vi_combined_flag', 'vi_diff',\n",
    "       'vi_combined_z', 'dz', 'all VI comments', 'N_VI', 'merger comment']])\n",
    "\n",
    "    spectra, zcat= utils_specviewer.load_spectra_zcat_from_targets([unique_targets[conflict_id]], tiledir, obs_db)\n",
    "    # VI interface in notebook\n",
    "    if show_spectra:\n",
    "        plotframes.plotspectra(spectra, zcatalog=zcat, title='Target_select', notebook=True, mask_type='CMX_TARGET',with_vi_widgets=False)"
   ]
  },
  {
   "cell_type": "code",
   "execution_count": 149,
   "metadata": {},
   "outputs": [],
   "source": [
    "#first, keep a safe copy of the original dataframe\n",
    "vi_safe = vi.copy()"
   ]
  },
  {
   "cell_type": "markdown",
   "metadata": {},
   "source": [
    "We will inspect each conflict on a prospect window, and resolve each conflict in turn"
   ]
  },
  {
   "cell_type": "raw",
   "metadata": {},
   "source": [
    "#copy this text to a new cell to display the conflict\n",
    "conflict_id=\n",
    "display_conflict(conflict_id)\n",
    "\n",
    "========\n",
    "#copy this text to a new cell to resolve the conflict\n",
    "vi.loc[vi.TargetID==unique_targets[conflict_id], 'best redshift'] = \n",
    "vi.loc[vi.TargetID==unique_targets[conflict_id], 'VI class'] = \n",
    "vi.loc[vi.TargetID==unique_targets[conflict_id], 'best spectype'] = \n",
    "\n",
    "#add a comment\n",
    "vi.loc[vi.TargetID==unique_targets[conflict_id], 'merger comment'] = \n",
    "\n",
    "#look at the values agbain to make sure all is well\n",
    "print('conflict ID = ', conflict_id)\n",
    "display(vi[vi.TargetID==unique_targets[conflict_id]])"
   ]
  },
  {
   "cell_type": "code",
   "execution_count": 150,
   "metadata": {},
   "outputs": [],
   "source": [
    "show_spectra = False"
   ]
  },
  {
   "cell_type": "code",
   "execution_count": 151,
   "metadata": {},
   "outputs": [
    {
     "data": {
      "text/html": [
       "<div>\n",
       "<style scoped>\n",
       "    .dataframe tbody tr th:only-of-type {\n",
       "        vertical-align: middle;\n",
       "    }\n",
       "\n",
       "    .dataframe tbody tr th {\n",
       "        vertical-align: top;\n",
       "    }\n",
       "\n",
       "    .dataframe thead th {\n",
       "        text-align: right;\n",
       "    }\n",
       "</style>\n",
       "<table border=\"1\" class=\"dataframe\">\n",
       "  <thead>\n",
       "    <tr style=\"text-align: right;\">\n",
       "      <th></th>\n",
       "      <th>TARGETID</th>\n",
       "      <th>Redrock_spectype</th>\n",
       "      <th>Redrock_z</th>\n",
       "      <th>VI_scanner</th>\n",
       "      <th>VI_quality</th>\n",
       "      <th>VI_issue</th>\n",
       "      <th>VI_z</th>\n",
       "      <th>VI_spectype</th>\n",
       "      <th>VI_comment</th>\n",
       "      <th>best redshift</th>\n",
       "      <th>best spectype</th>\n",
       "      <th>vi_combined_flag</th>\n",
       "      <th>vi_diff</th>\n",
       "      <th>vi_combined_z</th>\n",
       "      <th>dz</th>\n",
       "      <th>all VI comments</th>\n",
       "      <th>N_VI</th>\n",
       "      <th>merger comment</th>\n",
       "    </tr>\n",
       "  </thead>\n",
       "  <tbody>\n",
       "    <tr>\n",
       "      <th>1</th>\n",
       "      <td>35191263074452265</td>\n",
       "      <td>GALAXY</td>\n",
       "      <td>0.0811</td>\n",
       "      <td>PNT</td>\n",
       "      <td>2</td>\n",
       "      <td>RS</td>\n",
       "      <td>0.0811</td>\n",
       "      <td>GALAXY</td>\n",
       "      <td>Continuum and D1 and D2 detected but Halpha de...</td>\n",
       "      <td>0.0811</td>\n",
       "      <td>GALAXY</td>\n",
       "      <td>3.0</td>\n",
       "      <td>2</td>\n",
       "      <td>0.0811</td>\n",
       "      <td>0.433725</td>\n",
       "      <td>Continuum and D1 and D2 detected but Halpha de...</td>\n",
       "      <td>2</td>\n",
       "      <td>none</td>\n",
       "    </tr>\n",
       "    <tr>\n",
       "      <th>51</th>\n",
       "      <td>35191263074452265</td>\n",
       "      <td>GALAXY</td>\n",
       "      <td>0.0811</td>\n",
       "      <td>KSD</td>\n",
       "      <td>4</td>\n",
       "      <td>R</td>\n",
       "      <td>0.5500</td>\n",
       "      <td>NaN</td>\n",
       "      <td>possible blend</td>\n",
       "      <td>0.5500</td>\n",
       "      <td>GALAXY</td>\n",
       "      <td>3.0</td>\n",
       "      <td>2</td>\n",
       "      <td>0.0811</td>\n",
       "      <td>0.433725</td>\n",
       "      <td>Continuum and D1 and D2 detected but Halpha de...</td>\n",
       "      <td>2</td>\n",
       "      <td>none</td>\n",
       "    </tr>\n",
       "  </tbody>\n",
       "</table>\n",
       "</div>"
      ],
      "text/plain": [
       "             TARGETID Redrock_spectype  Redrock_z VI_scanner  VI_quality  \\\n",
       "1   35191263074452265           GALAXY     0.0811        PNT           2   \n",
       "51  35191263074452265           GALAXY     0.0811        KSD           4   \n",
       "\n",
       "   VI_issue    VI_z VI_spectype  \\\n",
       "1        RS  0.0811      GALAXY   \n",
       "51        R  0.5500         NaN   \n",
       "\n",
       "                                           VI_comment  best redshift  \\\n",
       "1   Continuum and D1 and D2 detected but Halpha de...         0.0811   \n",
       "51                                     possible blend         0.5500   \n",
       "\n",
       "   best spectype  vi_combined_flag  vi_diff  vi_combined_z        dz  \\\n",
       "1         GALAXY               3.0        2         0.0811  0.433725   \n",
       "51        GALAXY               3.0        2         0.0811  0.433725   \n",
       "\n",
       "                                      all VI comments  N_VI merger comment  \n",
       "1   Continuum and D1 and D2 detected but Halpha de...     2           none  \n",
       "51  Continuum and D1 and D2 detected but Halpha de...     2           none  "
      ]
     },
     "metadata": {},
     "output_type": "display_data"
    }
   ],
   "source": [
    "#Keep track of the conflicts by conflict_id\n",
    "\n",
    "#copy this text to a new cell to display the conflict\n",
    "conflict_id=0\n",
    "display_conflict(conflict_id, show_spectra=show_spectra)"
   ]
  },
  {
   "cell_type": "code",
   "execution_count": 152,
   "metadata": {},
   "outputs": [
    {
     "name": "stdout",
     "output_type": "stream",
     "text": [
      "1     4\n",
      "51    4\n",
      "Name: VI_quality, dtype: int64\n",
      "conflict ID =  0\n"
     ]
    }
   ],
   "source": [
    "#copy this text to a new cell to resolve the conflict\n",
    "vi.loc[vi.TARGETID==unique_targets[conflict_id], 'best redshift'] = 0.5500\n",
    "vi.loc[vi.TARGETID==unique_targets[conflict_id], 'VI_quality'] = 4\n",
    "#vi.loc[vi.TARGETID==unique_targets[conflict_id], 'best spectype'] = 'GALAXY'\n",
    "\n",
    "#add a comment\n",
    "vi.loc[vi.TARGETID==unique_targets[conflict_id], 'merger comment'] = 'disagreement in quality. Redshif is robust.'\n",
    "\n",
    "#look at the values again to make sure all is well\n",
    "#display(vi[vi.TARGETID==unique_targets[conflict_id]])\n",
    "print(vi[vi.TARGETID==unique_targets[conflict_id]]['VI_quality'])\n",
    "print('conflict ID = ', conflict_id)"
   ]
  },
  {
   "cell_type": "code",
   "execution_count": 153,
   "metadata": {},
   "outputs": [
    {
     "data": {
      "text/html": [
       "<div>\n",
       "<style scoped>\n",
       "    .dataframe tbody tr th:only-of-type {\n",
       "        vertical-align: middle;\n",
       "    }\n",
       "\n",
       "    .dataframe tbody tr th {\n",
       "        vertical-align: top;\n",
       "    }\n",
       "\n",
       "    .dataframe thead th {\n",
       "        text-align: right;\n",
       "    }\n",
       "</style>\n",
       "<table border=\"1\" class=\"dataframe\">\n",
       "  <thead>\n",
       "    <tr style=\"text-align: right;\">\n",
       "      <th></th>\n",
       "      <th>TARGETID</th>\n",
       "      <th>Redrock_spectype</th>\n",
       "      <th>Redrock_z</th>\n",
       "      <th>VI_scanner</th>\n",
       "      <th>VI_quality</th>\n",
       "      <th>VI_issue</th>\n",
       "      <th>VI_z</th>\n",
       "      <th>VI_spectype</th>\n",
       "      <th>VI_comment</th>\n",
       "      <th>best redshift</th>\n",
       "      <th>best spectype</th>\n",
       "      <th>vi_combined_flag</th>\n",
       "      <th>vi_diff</th>\n",
       "      <th>vi_combined_z</th>\n",
       "      <th>dz</th>\n",
       "      <th>all VI comments</th>\n",
       "      <th>N_VI</th>\n",
       "      <th>merger comment</th>\n",
       "    </tr>\n",
       "  </thead>\n",
       "  <tbody>\n",
       "    <tr>\n",
       "      <th>40</th>\n",
       "      <td>35191263078646664</td>\n",
       "      <td>GALAXY</td>\n",
       "      <td>0.8768</td>\n",
       "      <td>PNT</td>\n",
       "      <td>4</td>\n",
       "      <td>NaN</td>\n",
       "      <td>0.8768</td>\n",
       "      <td>GALAXY</td>\n",
       "      <td>--</td>\n",
       "      <td>0.8768</td>\n",
       "      <td>GALAXY</td>\n",
       "      <td>3.0</td>\n",
       "      <td>2</td>\n",
       "      <td>0.8768</td>\n",
       "      <td>0.0</td>\n",
       "      <td>--|--</td>\n",
       "      <td>2</td>\n",
       "      <td>none</td>\n",
       "    </tr>\n",
       "    <tr>\n",
       "      <th>90</th>\n",
       "      <td>35191263078646664</td>\n",
       "      <td>GALAXY</td>\n",
       "      <td>0.8768</td>\n",
       "      <td>KSD</td>\n",
       "      <td>2</td>\n",
       "      <td>NaN</td>\n",
       "      <td>0.8768</td>\n",
       "      <td>NaN</td>\n",
       "      <td>--</td>\n",
       "      <td>0.8768</td>\n",
       "      <td>GALAXY</td>\n",
       "      <td>3.0</td>\n",
       "      <td>2</td>\n",
       "      <td>0.8768</td>\n",
       "      <td>0.0</td>\n",
       "      <td>--|--</td>\n",
       "      <td>2</td>\n",
       "      <td>none</td>\n",
       "    </tr>\n",
       "  </tbody>\n",
       "</table>\n",
       "</div>"
      ],
      "text/plain": [
       "             TARGETID Redrock_spectype  Redrock_z VI_scanner  VI_quality  \\\n",
       "40  35191263078646664           GALAXY     0.8768        PNT           4   \n",
       "90  35191263078646664           GALAXY     0.8768        KSD           2   \n",
       "\n",
       "   VI_issue    VI_z VI_spectype VI_comment  best redshift best spectype  \\\n",
       "40      NaN  0.8768      GALAXY         --         0.8768        GALAXY   \n",
       "90      NaN  0.8768         NaN         --         0.8768        GALAXY   \n",
       "\n",
       "    vi_combined_flag  vi_diff  vi_combined_z   dz all VI comments  N_VI  \\\n",
       "40               3.0        2         0.8768  0.0           --|--     2   \n",
       "90               3.0        2         0.8768  0.0           --|--     2   \n",
       "\n",
       "   merger comment  \n",
       "40           none  \n",
       "90           none  "
      ]
     },
     "metadata": {},
     "output_type": "display_data"
    }
   ],
   "source": [
    "#copy this text to a new cell to display the conflict\n",
    "conflict_id=1\n",
    "display_conflict(conflict_id, show_spectra=show_spectra)"
   ]
  },
  {
   "cell_type": "code",
   "execution_count": 154,
   "metadata": {},
   "outputs": [
    {
     "name": "stdout",
     "output_type": "stream",
     "text": [
      "conflict ID =  1\n"
     ]
    }
   ],
   "source": [
    "#copy this text to a new cell to resolve the conflict\n",
    "#vi.loc[vi.TARGETID==unique_targets[conflict_id], 'best redshift'] = 0.8101\n",
    "vi.loc[vi.TARGETID==unique_targets[conflict_id], 'VI_quality'] =2\n",
    "#vi.loc[vi.TargetID==unique_targets[conflict_id], 'best spectype'] = \n",
    "\n",
    "#add a comment\n",
    "vi.loc[vi.TARGETID==unique_targets[conflict_id], 'merger comment'] = 'Possible weak CaII. Be conservative.'\n",
    "##look at the values again to make sure all is well\n",
    "#display(vi[vi.TARGETID==unique_targets[conflict_id]])\n",
    "#print(vi[vi.TARGETID==unique_targets[conflict_id]]['VI_quality'])\n",
    "print('conflict ID = ', conflict_id)\n",
    "\n"
   ]
  },
  {
   "cell_type": "code",
   "execution_count": 155,
   "metadata": {},
   "outputs": [
    {
     "data": {
      "text/html": [
       "<div>\n",
       "<style scoped>\n",
       "    .dataframe tbody tr th:only-of-type {\n",
       "        vertical-align: middle;\n",
       "    }\n",
       "\n",
       "    .dataframe tbody tr th {\n",
       "        vertical-align: top;\n",
       "    }\n",
       "\n",
       "    .dataframe thead th {\n",
       "        text-align: right;\n",
       "    }\n",
       "</style>\n",
       "<table border=\"1\" class=\"dataframe\">\n",
       "  <thead>\n",
       "    <tr style=\"text-align: right;\">\n",
       "      <th></th>\n",
       "      <th>TARGETID</th>\n",
       "      <th>Redrock_spectype</th>\n",
       "      <th>Redrock_z</th>\n",
       "      <th>VI_scanner</th>\n",
       "      <th>VI_quality</th>\n",
       "      <th>VI_issue</th>\n",
       "      <th>VI_z</th>\n",
       "      <th>VI_spectype</th>\n",
       "      <th>VI_comment</th>\n",
       "      <th>best redshift</th>\n",
       "      <th>best spectype</th>\n",
       "      <th>vi_combined_flag</th>\n",
       "      <th>vi_diff</th>\n",
       "      <th>vi_combined_z</th>\n",
       "      <th>dz</th>\n",
       "      <th>all VI comments</th>\n",
       "      <th>N_VI</th>\n",
       "      <th>merger comment</th>\n",
       "    </tr>\n",
       "  </thead>\n",
       "  <tbody>\n",
       "    <tr>\n",
       "      <th>48</th>\n",
       "      <td>35191263082842426</td>\n",
       "      <td>GALAXY</td>\n",
       "      <td>0.9126</td>\n",
       "      <td>PNT</td>\n",
       "      <td>4</td>\n",
       "      <td>NaN</td>\n",
       "      <td>0.9126</td>\n",
       "      <td>GALAXY</td>\n",
       "      <td>--</td>\n",
       "      <td>0.9126</td>\n",
       "      <td>GALAXY</td>\n",
       "      <td>3.0</td>\n",
       "      <td>2</td>\n",
       "      <td>0.9126</td>\n",
       "      <td>0.0</td>\n",
       "      <td>--|--</td>\n",
       "      <td>2</td>\n",
       "      <td>none</td>\n",
       "    </tr>\n",
       "    <tr>\n",
       "      <th>98</th>\n",
       "      <td>35191263082842426</td>\n",
       "      <td>GALAXY</td>\n",
       "      <td>0.9126</td>\n",
       "      <td>KSD</td>\n",
       "      <td>2</td>\n",
       "      <td>NaN</td>\n",
       "      <td>0.9126</td>\n",
       "      <td>NaN</td>\n",
       "      <td>--</td>\n",
       "      <td>0.9126</td>\n",
       "      <td>GALAXY</td>\n",
       "      <td>3.0</td>\n",
       "      <td>2</td>\n",
       "      <td>0.9126</td>\n",
       "      <td>0.0</td>\n",
       "      <td>--|--</td>\n",
       "      <td>2</td>\n",
       "      <td>none</td>\n",
       "    </tr>\n",
       "  </tbody>\n",
       "</table>\n",
       "</div>"
      ],
      "text/plain": [
       "             TARGETID Redrock_spectype  Redrock_z VI_scanner  VI_quality  \\\n",
       "48  35191263082842426           GALAXY     0.9126        PNT           4   \n",
       "98  35191263082842426           GALAXY     0.9126        KSD           2   \n",
       "\n",
       "   VI_issue    VI_z VI_spectype VI_comment  best redshift best spectype  \\\n",
       "48      NaN  0.9126      GALAXY         --         0.9126        GALAXY   \n",
       "98      NaN  0.9126         NaN         --         0.9126        GALAXY   \n",
       "\n",
       "    vi_combined_flag  vi_diff  vi_combined_z   dz all VI comments  N_VI  \\\n",
       "48               3.0        2         0.9126  0.0           --|--     2   \n",
       "98               3.0        2         0.9126  0.0           --|--     2   \n",
       "\n",
       "   merger comment  \n",
       "48           none  \n",
       "98           none  "
      ]
     },
     "metadata": {},
     "output_type": "display_data"
    }
   ],
   "source": [
    "#copy this text to a new cell to display the conflict\n",
    "conflict_id=2\n",
    "display_conflict(conflict_id, show_spectra=show_spectra)"
   ]
  },
  {
   "cell_type": "code",
   "execution_count": 156,
   "metadata": {},
   "outputs": [
    {
     "name": "stdout",
     "output_type": "stream",
     "text": [
      "conflict ID =  2\n"
     ]
    }
   ],
   "source": [
    "#copy this text to a new cell to resolve the conflict\n",
    "#vi.loc[vi.TARGETID==unique_targets[conflict_id], 'best redshift'] = 0.2320\n",
    "vi.loc[vi.TARGETID==unique_targets[conflict_id], 'VI_quality'] = 2\n",
    "#vi.loc[vi.TargetID==unique_targets[conflict_id], 'best spectype'] = \n",
    "\n",
    "#add a comment\n",
    "vi.loc[vi.TARGETID==unique_targets[conflict_id], 'merger comment'] = 'disagreement in quality. Low S/N CaII. Be conservative'\n",
    "\n",
    "#look at the values again to make sure all is well\n",
    "#display(vi[vi.TARGETID==unique_targets[conflict_id]])\n",
    "print('conflict ID = ', conflict_id)\n"
   ]
  },
  {
   "cell_type": "code",
   "execution_count": 157,
   "metadata": {},
   "outputs": [
    {
     "data": {
      "text/html": [
       "<div>\n",
       "<style scoped>\n",
       "    .dataframe tbody tr th:only-of-type {\n",
       "        vertical-align: middle;\n",
       "    }\n",
       "\n",
       "    .dataframe tbody tr th {\n",
       "        vertical-align: top;\n",
       "    }\n",
       "\n",
       "    .dataframe thead th {\n",
       "        text-align: right;\n",
       "    }\n",
       "</style>\n",
       "<table border=\"1\" class=\"dataframe\">\n",
       "  <thead>\n",
       "    <tr style=\"text-align: right;\">\n",
       "      <th></th>\n",
       "      <th>TARGETID</th>\n",
       "      <th>Redrock_spectype</th>\n",
       "      <th>Redrock_z</th>\n",
       "      <th>VI_scanner</th>\n",
       "      <th>VI_quality</th>\n",
       "      <th>VI_issue</th>\n",
       "      <th>VI_z</th>\n",
       "      <th>VI_spectype</th>\n",
       "      <th>VI_comment</th>\n",
       "      <th>best redshift</th>\n",
       "      <th>best spectype</th>\n",
       "      <th>vi_combined_flag</th>\n",
       "      <th>vi_diff</th>\n",
       "      <th>vi_combined_z</th>\n",
       "      <th>dz</th>\n",
       "      <th>all VI comments</th>\n",
       "      <th>N_VI</th>\n",
       "      <th>merger comment</th>\n",
       "    </tr>\n",
       "  </thead>\n",
       "  <tbody>\n",
       "    <tr>\n",
       "      <th>23</th>\n",
       "      <td>35191263087037580</td>\n",
       "      <td>GALAXY</td>\n",
       "      <td>0.601</td>\n",
       "      <td>PNT</td>\n",
       "      <td>2</td>\n",
       "      <td>S</td>\n",
       "      <td>0.601</td>\n",
       "      <td>GALAXY</td>\n",
       "      <td>Ca(K) is missing Hdelta is detected as absorption</td>\n",
       "      <td>0.601</td>\n",
       "      <td>GALAXY</td>\n",
       "      <td>3.0</td>\n",
       "      <td>2</td>\n",
       "      <td>0.601</td>\n",
       "      <td>0.0</td>\n",
       "      <td>Ca(K) is missing Hdelta is detected as absorpt...</td>\n",
       "      <td>2</td>\n",
       "      <td>none</td>\n",
       "    </tr>\n",
       "    <tr>\n",
       "      <th>73</th>\n",
       "      <td>35191263087037580</td>\n",
       "      <td>GALAXY</td>\n",
       "      <td>0.601</td>\n",
       "      <td>KSD</td>\n",
       "      <td>4</td>\n",
       "      <td>NaN</td>\n",
       "      <td>0.601</td>\n",
       "      <td>NaN</td>\n",
       "      <td>--</td>\n",
       "      <td>0.601</td>\n",
       "      <td>GALAXY</td>\n",
       "      <td>3.0</td>\n",
       "      <td>2</td>\n",
       "      <td>0.601</td>\n",
       "      <td>0.0</td>\n",
       "      <td>Ca(K) is missing Hdelta is detected as absorpt...</td>\n",
       "      <td>2</td>\n",
       "      <td>none</td>\n",
       "    </tr>\n",
       "  </tbody>\n",
       "</table>\n",
       "</div>"
      ],
      "text/plain": [
       "             TARGETID Redrock_spectype  Redrock_z VI_scanner  VI_quality  \\\n",
       "23  35191263087037580           GALAXY      0.601        PNT           2   \n",
       "73  35191263087037580           GALAXY      0.601        KSD           4   \n",
       "\n",
       "   VI_issue   VI_z VI_spectype  \\\n",
       "23        S  0.601      GALAXY   \n",
       "73      NaN  0.601         NaN   \n",
       "\n",
       "                                           VI_comment  best redshift  \\\n",
       "23  Ca(K) is missing Hdelta is detected as absorption          0.601   \n",
       "73                                                 --          0.601   \n",
       "\n",
       "   best spectype  vi_combined_flag  vi_diff  vi_combined_z   dz  \\\n",
       "23        GALAXY               3.0        2          0.601  0.0   \n",
       "73        GALAXY               3.0        2          0.601  0.0   \n",
       "\n",
       "                                      all VI comments  N_VI merger comment  \n",
       "23  Ca(K) is missing Hdelta is detected as absorpt...     2           none  \n",
       "73  Ca(K) is missing Hdelta is detected as absorpt...     2           none  "
      ]
     },
     "metadata": {},
     "output_type": "display_data"
    }
   ],
   "source": [
    "#copy this text to a new cell to display the conflict\n",
    "conflict_id=3\n",
    "display_conflict(conflict_id, show_spectra=show_spectra)\n"
   ]
  },
  {
   "cell_type": "code",
   "execution_count": 158,
   "metadata": {},
   "outputs": [
    {
     "name": "stdout",
     "output_type": "stream",
     "text": [
      "conflict ID =  3\n"
     ]
    }
   ],
   "source": [
    "#copy this text to a new cell to resolve the conflict\n",
    "#vi.loc[vi.TargetID==unique_targets[conflict_id], 'best redshift'] = 0.5128\n",
    "vi.loc[vi.TARGETID==unique_targets[conflict_id], 'VI_quality'] = 3\n",
    "#vi.loc[vi.TargetID==unique_targets[conflict_id], 'best spectype'] = 'GALAXY' \n",
    "\n",
    "#add a comment\n",
    "vi.loc[vi.TARGETID==unique_targets[conflict_id], 'merger comment'] = 'disagreement in quality.'\n",
    "\n",
    "#look at the values again to make sure all is well\n",
    "#display(vi[vi.TARGETID==unique_targets[conflict_id]])\n",
    "#print(vi[vi.TARGETID==unique_targets[conflict_id]]['VI_quality'])\n",
    "print('conflict ID = ', conflict_id)\n"
   ]
  },
  {
   "cell_type": "code",
   "execution_count": 159,
   "metadata": {},
   "outputs": [
    {
     "data": {
      "text/html": [
       "<div>\n",
       "<style scoped>\n",
       "    .dataframe tbody tr th:only-of-type {\n",
       "        vertical-align: middle;\n",
       "    }\n",
       "\n",
       "    .dataframe tbody tr th {\n",
       "        vertical-align: top;\n",
       "    }\n",
       "\n",
       "    .dataframe thead th {\n",
       "        text-align: right;\n",
       "    }\n",
       "</style>\n",
       "<table border=\"1\" class=\"dataframe\">\n",
       "  <thead>\n",
       "    <tr style=\"text-align: right;\">\n",
       "      <th></th>\n",
       "      <th>TARGETID</th>\n",
       "      <th>Redrock_spectype</th>\n",
       "      <th>Redrock_z</th>\n",
       "      <th>VI_scanner</th>\n",
       "      <th>VI_quality</th>\n",
       "      <th>VI_issue</th>\n",
       "      <th>VI_z</th>\n",
       "      <th>VI_spectype</th>\n",
       "      <th>VI_comment</th>\n",
       "      <th>best redshift</th>\n",
       "      <th>best spectype</th>\n",
       "      <th>vi_combined_flag</th>\n",
       "      <th>vi_diff</th>\n",
       "      <th>vi_combined_z</th>\n",
       "      <th>dz</th>\n",
       "      <th>all VI comments</th>\n",
       "      <th>N_VI</th>\n",
       "      <th>merger comment</th>\n",
       "    </tr>\n",
       "  </thead>\n",
       "  <tbody>\n",
       "    <tr>\n",
       "      <th>7</th>\n",
       "      <td>35191266723497497</td>\n",
       "      <td>GALAXY</td>\n",
       "      <td>0.0255</td>\n",
       "      <td>PNT</td>\n",
       "      <td>2</td>\n",
       "      <td>RS</td>\n",
       "      <td>NaN</td>\n",
       "      <td>GALAXY</td>\n",
       "      <td>Seems like an LRG at small redshift Ha and NII...</td>\n",
       "      <td>0.0255</td>\n",
       "      <td>GALAXY</td>\n",
       "      <td>3.0</td>\n",
       "      <td>2</td>\n",
       "      <td>0.0255</td>\n",
       "      <td>1.345685</td>\n",
       "      <td>Seems like an LRG at small redshift Ha and NII...</td>\n",
       "      <td>2</td>\n",
       "      <td>none</td>\n",
       "    </tr>\n",
       "    <tr>\n",
       "      <th>57</th>\n",
       "      <td>35191266723497497</td>\n",
       "      <td>GALAXY</td>\n",
       "      <td>0.0255</td>\n",
       "      <td>KSD</td>\n",
       "      <td>4</td>\n",
       "      <td>NaN</td>\n",
       "      <td>1.4055</td>\n",
       "      <td>QSO</td>\n",
       "      <td>--</td>\n",
       "      <td>1.4055</td>\n",
       "      <td>QSO</td>\n",
       "      <td>3.0</td>\n",
       "      <td>2</td>\n",
       "      <td>0.0255</td>\n",
       "      <td>1.345685</td>\n",
       "      <td>Seems like an LRG at small redshift Ha and NII...</td>\n",
       "      <td>2</td>\n",
       "      <td>none</td>\n",
       "    </tr>\n",
       "  </tbody>\n",
       "</table>\n",
       "</div>"
      ],
      "text/plain": [
       "             TARGETID Redrock_spectype  Redrock_z VI_scanner  VI_quality  \\\n",
       "7   35191266723497497           GALAXY     0.0255        PNT           2   \n",
       "57  35191266723497497           GALAXY     0.0255        KSD           4   \n",
       "\n",
       "   VI_issue    VI_z VI_spectype  \\\n",
       "7        RS     NaN      GALAXY   \n",
       "57      NaN  1.4055         QSO   \n",
       "\n",
       "                                           VI_comment  best redshift  \\\n",
       "7   Seems like an LRG at small redshift Ha and NII...         0.0255   \n",
       "57                                                 --         1.4055   \n",
       "\n",
       "   best spectype  vi_combined_flag  vi_diff  vi_combined_z        dz  \\\n",
       "7         GALAXY               3.0        2         0.0255  1.345685   \n",
       "57           QSO               3.0        2         0.0255  1.345685   \n",
       "\n",
       "                                      all VI comments  N_VI merger comment  \n",
       "7   Seems like an LRG at small redshift Ha and NII...     2           none  \n",
       "57  Seems like an LRG at small redshift Ha and NII...     2           none  "
      ]
     },
     "metadata": {},
     "output_type": "display_data"
    }
   ],
   "source": [
    "#copy this text to a new cell to display the conflict\n",
    "conflict_id=4\n",
    "display_conflict(conflict_id, show_spectra=show_spectra)\n"
   ]
  },
  {
   "cell_type": "code",
   "execution_count": 160,
   "metadata": {},
   "outputs": [
    {
     "name": "stdout",
     "output_type": "stream",
     "text": [
      "conflict ID =  4\n"
     ]
    }
   ],
   "source": [
    "#copy this text to a new cell to resolve the conflict\n",
    "vi.loc[vi.TARGETID==unique_targets[conflict_id], 'best redshift'] = 1.4055\n",
    "vi.loc[vi.TARGETID==unique_targets[conflict_id], 'VI_quality'] = 4\n",
    "vi.loc[vi.TARGETID==unique_targets[conflict_id], 'best spectype'] = 'QSO'\n",
    "\n",
    "#add a comment\n",
    "vi.loc[vi.TARGETID==unique_targets[conflict_id], 'merger comment'] = 'disagreement in flag. Redshift is robust. red QSO'\n",
    "#look at the values again to make sure all is well\n",
    "#display(vi[vi.TARGETID==unique_targets[conflict_id]])\n",
    "#print(vi[vi.TARGETID==unique_targets[conflict_id]]['VI_quality'])\n",
    "print('conflict ID = ', conflict_id)"
   ]
  },
  {
   "cell_type": "code",
   "execution_count": 161,
   "metadata": {},
   "outputs": [
    {
     "data": {
      "text/html": [
       "<div>\n",
       "<style scoped>\n",
       "    .dataframe tbody tr th:only-of-type {\n",
       "        vertical-align: middle;\n",
       "    }\n",
       "\n",
       "    .dataframe tbody tr th {\n",
       "        vertical-align: top;\n",
       "    }\n",
       "\n",
       "    .dataframe thead th {\n",
       "        text-align: right;\n",
       "    }\n",
       "</style>\n",
       "<table border=\"1\" class=\"dataframe\">\n",
       "  <thead>\n",
       "    <tr style=\"text-align: right;\">\n",
       "      <th></th>\n",
       "      <th>TARGETID</th>\n",
       "      <th>Redrock_spectype</th>\n",
       "      <th>Redrock_z</th>\n",
       "      <th>VI_scanner</th>\n",
       "      <th>VI_quality</th>\n",
       "      <th>VI_issue</th>\n",
       "      <th>VI_z</th>\n",
       "      <th>VI_spectype</th>\n",
       "      <th>VI_comment</th>\n",
       "      <th>best redshift</th>\n",
       "      <th>best spectype</th>\n",
       "      <th>vi_combined_flag</th>\n",
       "      <th>vi_diff</th>\n",
       "      <th>vi_combined_z</th>\n",
       "      <th>dz</th>\n",
       "      <th>all VI comments</th>\n",
       "      <th>N_VI</th>\n",
       "      <th>merger comment</th>\n",
       "    </tr>\n",
       "  </thead>\n",
       "  <tbody>\n",
       "    <tr>\n",
       "      <th>123</th>\n",
       "      <td>35191266740275158</td>\n",
       "      <td>GALAXY</td>\n",
       "      <td>0.9632</td>\n",
       "      <td>PNT</td>\n",
       "      <td>4</td>\n",
       "      <td>NaN</td>\n",
       "      <td>0.9632</td>\n",
       "      <td>GALAXY</td>\n",
       "      <td>--</td>\n",
       "      <td>0.9632</td>\n",
       "      <td>GALAXY</td>\n",
       "      <td>3.0</td>\n",
       "      <td>2</td>\n",
       "      <td>0.9632</td>\n",
       "      <td>0.0</td>\n",
       "      <td>--|--</td>\n",
       "      <td>2</td>\n",
       "      <td>none</td>\n",
       "    </tr>\n",
       "    <tr>\n",
       "      <th>173</th>\n",
       "      <td>35191266740275158</td>\n",
       "      <td>GALAXY</td>\n",
       "      <td>0.9632</td>\n",
       "      <td>KSD</td>\n",
       "      <td>2</td>\n",
       "      <td>NaN</td>\n",
       "      <td>0.9632</td>\n",
       "      <td>NaN</td>\n",
       "      <td>--</td>\n",
       "      <td>0.9632</td>\n",
       "      <td>GALAXY</td>\n",
       "      <td>3.0</td>\n",
       "      <td>2</td>\n",
       "      <td>0.9632</td>\n",
       "      <td>0.0</td>\n",
       "      <td>--|--</td>\n",
       "      <td>2</td>\n",
       "      <td>none</td>\n",
       "    </tr>\n",
       "  </tbody>\n",
       "</table>\n",
       "</div>"
      ],
      "text/plain": [
       "              TARGETID Redrock_spectype  Redrock_z VI_scanner  VI_quality  \\\n",
       "123  35191266740275158           GALAXY     0.9632        PNT           4   \n",
       "173  35191266740275158           GALAXY     0.9632        KSD           2   \n",
       "\n",
       "    VI_issue    VI_z VI_spectype VI_comment  best redshift best spectype  \\\n",
       "123      NaN  0.9632      GALAXY         --         0.9632        GALAXY   \n",
       "173      NaN  0.9632         NaN         --         0.9632        GALAXY   \n",
       "\n",
       "     vi_combined_flag  vi_diff  vi_combined_z   dz all VI comments  N_VI  \\\n",
       "123               3.0        2         0.9632  0.0           --|--     2   \n",
       "173               3.0        2         0.9632  0.0           --|--     2   \n",
       "\n",
       "    merger comment  \n",
       "123           none  \n",
       "173           none  "
      ]
     },
     "metadata": {},
     "output_type": "display_data"
    }
   ],
   "source": [
    "#copy this text to a new cell to display the conflict\n",
    "conflict_id=5\n",
    "display_conflict(conflict_id, show_spectra=show_spectra)"
   ]
  },
  {
   "cell_type": "code",
   "execution_count": 162,
   "metadata": {},
   "outputs": [
    {
     "name": "stdout",
     "output_type": "stream",
     "text": [
      "conflict ID =  5\n"
     ]
    }
   ],
   "source": [
    "#copy this text to a new cell to resolve the conflict\n",
    "#vi.loc[vi.TargetID==unique_targets[conflict_id], 'best redshift'] = \n",
    "vi.loc[vi.TARGETID==unique_targets[conflict_id], 'VI_quality'] = 2\n",
    "#vi.loc[vi.TARGETID==unique_targets[conflict_id], 'best spectype'] = 'GALAXY'\n",
    "\n",
    "#add a comment\n",
    "vi.loc[vi.TARGETID==unique_targets[conflict_id], 'merger comment'] = 'disagreement in flag. Low S/N CaII. Be conservative'\n",
    "\n",
    "#look at the values again to make sure all is well\n",
    "#display(vi[vi.TARGETID==unique_targets[conflict_id]])\n",
    "print('conflict ID = ', conflict_id)\n",
    "\n"
   ]
  },
  {
   "cell_type": "code",
   "execution_count": 163,
   "metadata": {},
   "outputs": [
    {
     "data": {
      "text/html": [
       "<div>\n",
       "<style scoped>\n",
       "    .dataframe tbody tr th:only-of-type {\n",
       "        vertical-align: middle;\n",
       "    }\n",
       "\n",
       "    .dataframe tbody tr th {\n",
       "        vertical-align: top;\n",
       "    }\n",
       "\n",
       "    .dataframe thead th {\n",
       "        text-align: right;\n",
       "    }\n",
       "</style>\n",
       "<table border=\"1\" class=\"dataframe\">\n",
       "  <thead>\n",
       "    <tr style=\"text-align: right;\">\n",
       "      <th></th>\n",
       "      <th>TARGETID</th>\n",
       "      <th>Redrock_spectype</th>\n",
       "      <th>Redrock_z</th>\n",
       "      <th>VI_scanner</th>\n",
       "      <th>VI_quality</th>\n",
       "      <th>VI_issue</th>\n",
       "      <th>VI_z</th>\n",
       "      <th>VI_spectype</th>\n",
       "      <th>VI_comment</th>\n",
       "      <th>best redshift</th>\n",
       "      <th>best spectype</th>\n",
       "      <th>vi_combined_flag</th>\n",
       "      <th>vi_diff</th>\n",
       "      <th>vi_combined_z</th>\n",
       "      <th>dz</th>\n",
       "      <th>all VI comments</th>\n",
       "      <th>N_VI</th>\n",
       "      <th>merger comment</th>\n",
       "    </tr>\n",
       "  </thead>\n",
       "  <tbody>\n",
       "    <tr>\n",
       "      <th>125</th>\n",
       "      <td>35191266740275701</td>\n",
       "      <td>GALAXY</td>\n",
       "      <td>0.9608</td>\n",
       "      <td>PNT</td>\n",
       "      <td>4</td>\n",
       "      <td>NaN</td>\n",
       "      <td>0.9608</td>\n",
       "      <td>GALAXY</td>\n",
       "      <td>--</td>\n",
       "      <td>0.9608</td>\n",
       "      <td>GALAXY</td>\n",
       "      <td>3.0</td>\n",
       "      <td>2</td>\n",
       "      <td>0.9608</td>\n",
       "      <td>0.0</td>\n",
       "      <td>--|--</td>\n",
       "      <td>2</td>\n",
       "      <td>none</td>\n",
       "    </tr>\n",
       "    <tr>\n",
       "      <th>175</th>\n",
       "      <td>35191266740275701</td>\n",
       "      <td>GALAXY</td>\n",
       "      <td>0.9608</td>\n",
       "      <td>KSD</td>\n",
       "      <td>2</td>\n",
       "      <td>NaN</td>\n",
       "      <td>0.9608</td>\n",
       "      <td>NaN</td>\n",
       "      <td>--</td>\n",
       "      <td>0.9608</td>\n",
       "      <td>GALAXY</td>\n",
       "      <td>3.0</td>\n",
       "      <td>2</td>\n",
       "      <td>0.9608</td>\n",
       "      <td>0.0</td>\n",
       "      <td>--|--</td>\n",
       "      <td>2</td>\n",
       "      <td>none</td>\n",
       "    </tr>\n",
       "  </tbody>\n",
       "</table>\n",
       "</div>"
      ],
      "text/plain": [
       "              TARGETID Redrock_spectype  Redrock_z VI_scanner  VI_quality  \\\n",
       "125  35191266740275701           GALAXY     0.9608        PNT           4   \n",
       "175  35191266740275701           GALAXY     0.9608        KSD           2   \n",
       "\n",
       "    VI_issue    VI_z VI_spectype VI_comment  best redshift best spectype  \\\n",
       "125      NaN  0.9608      GALAXY         --         0.9608        GALAXY   \n",
       "175      NaN  0.9608         NaN         --         0.9608        GALAXY   \n",
       "\n",
       "     vi_combined_flag  vi_diff  vi_combined_z   dz all VI comments  N_VI  \\\n",
       "125               3.0        2         0.9608  0.0           --|--     2   \n",
       "175               3.0        2         0.9608  0.0           --|--     2   \n",
       "\n",
       "    merger comment  \n",
       "125           none  \n",
       "175           none  "
      ]
     },
     "metadata": {},
     "output_type": "display_data"
    }
   ],
   "source": [
    "#copy this text to a new cell to display the conflict\n",
    "conflict_id=6\n",
    "display_conflict(conflict_id, show_spectra=show_spectra)\n"
   ]
  },
  {
   "cell_type": "code",
   "execution_count": 164,
   "metadata": {},
   "outputs": [
    {
     "name": "stdout",
     "output_type": "stream",
     "text": [
      "conflict ID =  6\n"
     ]
    }
   ],
   "source": [
    "#copy this text to a new cell to resolve the conflict\n",
    "#vi.loc[vi.TARGETID==unique_targets[conflict_id], 'best redshift'] = 1.5\n",
    "vi.loc[vi.TARGETID==unique_targets[conflict_id], 'VI_quality'] = 3\n",
    "vi.loc[vi.TARGETID==unique_targets[conflict_id], 'best spectype'] = 'GALAXY'\n",
    "\n",
    "#add a comment\n",
    "vi.loc[vi.TARGETID==unique_targets[conflict_id], 'merger comment'] = 'Low S/N Possible CaII and G band'\n",
    "\n",
    "#look at the values again to make sure all is well\n",
    "#display(vi[vi.TARGETID==unique_targets[conflict_id]])\n",
    "print('conflict ID = ', conflict_id)\n"
   ]
  },
  {
   "cell_type": "code",
   "execution_count": 165,
   "metadata": {},
   "outputs": [
    {
     "data": {
      "text/html": [
       "<div>\n",
       "<style scoped>\n",
       "    .dataframe tbody tr th:only-of-type {\n",
       "        vertical-align: middle;\n",
       "    }\n",
       "\n",
       "    .dataframe tbody tr th {\n",
       "        vertical-align: top;\n",
       "    }\n",
       "\n",
       "    .dataframe thead th {\n",
       "        text-align: right;\n",
       "    }\n",
       "</style>\n",
       "<table border=\"1\" class=\"dataframe\">\n",
       "  <thead>\n",
       "    <tr style=\"text-align: right;\">\n",
       "      <th></th>\n",
       "      <th>TARGETID</th>\n",
       "      <th>Redrock_spectype</th>\n",
       "      <th>Redrock_z</th>\n",
       "      <th>VI_scanner</th>\n",
       "      <th>VI_quality</th>\n",
       "      <th>VI_issue</th>\n",
       "      <th>VI_z</th>\n",
       "      <th>VI_spectype</th>\n",
       "      <th>VI_comment</th>\n",
       "      <th>best redshift</th>\n",
       "      <th>best spectype</th>\n",
       "      <th>vi_combined_flag</th>\n",
       "      <th>vi_diff</th>\n",
       "      <th>vi_combined_z</th>\n",
       "      <th>dz</th>\n",
       "      <th>all VI comments</th>\n",
       "      <th>N_VI</th>\n",
       "      <th>merger comment</th>\n",
       "    </tr>\n",
       "  </thead>\n",
       "  <tbody>\n",
       "    <tr>\n",
       "      <th>229</th>\n",
       "      <td>35191270385124281</td>\n",
       "      <td>GALAXY</td>\n",
       "      <td>0.7658</td>\n",
       "      <td>PNT</td>\n",
       "      <td>4</td>\n",
       "      <td>NaN</td>\n",
       "      <td>0.7658</td>\n",
       "      <td>GALAXY</td>\n",
       "      <td>--</td>\n",
       "      <td>0.7658</td>\n",
       "      <td>GALAXY</td>\n",
       "      <td>3.0</td>\n",
       "      <td>2</td>\n",
       "      <td>0.7658</td>\n",
       "      <td>0.0</td>\n",
       "      <td>--|--</td>\n",
       "      <td>2</td>\n",
       "      <td>none</td>\n",
       "    </tr>\n",
       "    <tr>\n",
       "      <th>279</th>\n",
       "      <td>35191270385124281</td>\n",
       "      <td>GALAXY</td>\n",
       "      <td>0.7658</td>\n",
       "      <td>KSD</td>\n",
       "      <td>2</td>\n",
       "      <td>NaN</td>\n",
       "      <td>0.7658</td>\n",
       "      <td>NaN</td>\n",
       "      <td>--</td>\n",
       "      <td>0.7658</td>\n",
       "      <td>GALAXY</td>\n",
       "      <td>3.0</td>\n",
       "      <td>2</td>\n",
       "      <td>0.7658</td>\n",
       "      <td>0.0</td>\n",
       "      <td>--|--</td>\n",
       "      <td>2</td>\n",
       "      <td>none</td>\n",
       "    </tr>\n",
       "  </tbody>\n",
       "</table>\n",
       "</div>"
      ],
      "text/plain": [
       "              TARGETID Redrock_spectype  Redrock_z VI_scanner  VI_quality  \\\n",
       "229  35191270385124281           GALAXY     0.7658        PNT           4   \n",
       "279  35191270385124281           GALAXY     0.7658        KSD           2   \n",
       "\n",
       "    VI_issue    VI_z VI_spectype VI_comment  best redshift best spectype  \\\n",
       "229      NaN  0.7658      GALAXY         --         0.7658        GALAXY   \n",
       "279      NaN  0.7658         NaN         --         0.7658        GALAXY   \n",
       "\n",
       "     vi_combined_flag  vi_diff  vi_combined_z   dz all VI comments  N_VI  \\\n",
       "229               3.0        2         0.7658  0.0           --|--     2   \n",
       "279               3.0        2         0.7658  0.0           --|--     2   \n",
       "\n",
       "    merger comment  \n",
       "229           none  \n",
       "279           none  "
      ]
     },
     "metadata": {},
     "output_type": "display_data"
    }
   ],
   "source": [
    "#copy this text to a new cell to display the conflict\n",
    "conflict_id=7\n",
    "display_conflict(conflict_id, show_spectra=show_spectra)"
   ]
  },
  {
   "cell_type": "code",
   "execution_count": 166,
   "metadata": {},
   "outputs": [
    {
     "name": "stdout",
     "output_type": "stream",
     "text": [
      "conflict ID =  7\n"
     ]
    }
   ],
   "source": [
    "#copy this text to a new cell to resolve the conflict\n",
    "#vi.loc[vi.TARGETID==unique_targets[conflict_id], 'best redshift'] = 0.1847\n",
    "vi.loc[vi.TARGETID==unique_targets[conflict_id], 'VI_quality'] = 3\n",
    "#vi.loc[vi.TargetID==unique_targets[conflict_id], 'best spectype'] = 'GALAXY'\n",
    "\n",
    "#add a comment\n",
    "vi.loc[vi.TARGETID==unique_targets[conflict_id], 'merger comment'] = 'disagreement in flag. Reshift should be secure'\n",
    "\n",
    "#look at the values again to make sure all is well\n",
    "#display(vi[vi.TARGETID==unique_targets[conflict_id]])\n",
    "print('conflict ID = ', conflict_id)\n"
   ]
  },
  {
   "cell_type": "code",
   "execution_count": 167,
   "metadata": {},
   "outputs": [
    {
     "data": {
      "text/html": [
       "<div>\n",
       "<style scoped>\n",
       "    .dataframe tbody tr th:only-of-type {\n",
       "        vertical-align: middle;\n",
       "    }\n",
       "\n",
       "    .dataframe tbody tr th {\n",
       "        vertical-align: top;\n",
       "    }\n",
       "\n",
       "    .dataframe thead th {\n",
       "        text-align: right;\n",
       "    }\n",
       "</style>\n",
       "<table border=\"1\" class=\"dataframe\">\n",
       "  <thead>\n",
       "    <tr style=\"text-align: right;\">\n",
       "      <th></th>\n",
       "      <th>TARGETID</th>\n",
       "      <th>Redrock_spectype</th>\n",
       "      <th>Redrock_z</th>\n",
       "      <th>VI_scanner</th>\n",
       "      <th>VI_quality</th>\n",
       "      <th>VI_issue</th>\n",
       "      <th>VI_z</th>\n",
       "      <th>VI_spectype</th>\n",
       "      <th>VI_comment</th>\n",
       "      <th>best redshift</th>\n",
       "      <th>best spectype</th>\n",
       "      <th>vi_combined_flag</th>\n",
       "      <th>vi_diff</th>\n",
       "      <th>vi_combined_z</th>\n",
       "      <th>dz</th>\n",
       "      <th>all VI comments</th>\n",
       "      <th>N_VI</th>\n",
       "      <th>merger comment</th>\n",
       "    </tr>\n",
       "  </thead>\n",
       "  <tbody>\n",
       "    <tr>\n",
       "      <th>245</th>\n",
       "      <td>35191270393514617</td>\n",
       "      <td>GALAXY</td>\n",
       "      <td>0.9112</td>\n",
       "      <td>PNT</td>\n",
       "      <td>4</td>\n",
       "      <td>NaN</td>\n",
       "      <td>0.9112</td>\n",
       "      <td>GALAXY</td>\n",
       "      <td>--</td>\n",
       "      <td>0.9112</td>\n",
       "      <td>GALAXY</td>\n",
       "      <td>3.0</td>\n",
       "      <td>2</td>\n",
       "      <td>0.9112</td>\n",
       "      <td>0.0</td>\n",
       "      <td>--|--</td>\n",
       "      <td>2</td>\n",
       "      <td>none</td>\n",
       "    </tr>\n",
       "    <tr>\n",
       "      <th>295</th>\n",
       "      <td>35191270393514617</td>\n",
       "      <td>GALAXY</td>\n",
       "      <td>0.9112</td>\n",
       "      <td>KSD</td>\n",
       "      <td>2</td>\n",
       "      <td>NaN</td>\n",
       "      <td>0.9112</td>\n",
       "      <td>NaN</td>\n",
       "      <td>--</td>\n",
       "      <td>0.9112</td>\n",
       "      <td>GALAXY</td>\n",
       "      <td>3.0</td>\n",
       "      <td>2</td>\n",
       "      <td>0.9112</td>\n",
       "      <td>0.0</td>\n",
       "      <td>--|--</td>\n",
       "      <td>2</td>\n",
       "      <td>none</td>\n",
       "    </tr>\n",
       "  </tbody>\n",
       "</table>\n",
       "</div>"
      ],
      "text/plain": [
       "              TARGETID Redrock_spectype  Redrock_z VI_scanner  VI_quality  \\\n",
       "245  35191270393514617           GALAXY     0.9112        PNT           4   \n",
       "295  35191270393514617           GALAXY     0.9112        KSD           2   \n",
       "\n",
       "    VI_issue    VI_z VI_spectype VI_comment  best redshift best spectype  \\\n",
       "245      NaN  0.9112      GALAXY         --         0.9112        GALAXY   \n",
       "295      NaN  0.9112         NaN         --         0.9112        GALAXY   \n",
       "\n",
       "     vi_combined_flag  vi_diff  vi_combined_z   dz all VI comments  N_VI  \\\n",
       "245               3.0        2         0.9112  0.0           --|--     2   \n",
       "295               3.0        2         0.9112  0.0           --|--     2   \n",
       "\n",
       "    merger comment  \n",
       "245           none  \n",
       "295           none  "
      ]
     },
     "metadata": {},
     "output_type": "display_data"
    }
   ],
   "source": [
    "#copy this text to a new cell to display the conflict\n",
    "conflict_id=8\n",
    "display_conflict(conflict_id, show_spectra=show_spectra)\n"
   ]
  },
  {
   "cell_type": "code",
   "execution_count": 168,
   "metadata": {},
   "outputs": [
    {
     "name": "stdout",
     "output_type": "stream",
     "text": [
      "conflict ID =  8\n"
     ]
    }
   ],
   "source": [
    "#copy this text to a new cell to resolve the conflict\n",
    "#vi.loc[vi.TARGETID==unique_targets[conflict_id], 'best redshift'] = 0.1920\n",
    "vi.loc[vi.TARGETID==unique_targets[conflict_id], 'VI_quality'] = 2\n",
    "#vi.loc[vi.TargetID==unique_targets[conflict_id], 'best spectype'] = \n",
    "\n",
    "#add a comment\n",
    "vi.loc[vi.TARGETID==unique_targets[conflict_id], 'merger comment'] = \"CaII in bad spectral region. Be conservative.\"\n",
    "\n",
    "#look at the values again to make sure all is well\n",
    "#display(vi[vi.TARGETID==unique_targets[conflict_id]])\n",
    "print('conflict ID = ', conflict_id)\n",
    "\n"
   ]
  },
  {
   "cell_type": "code",
   "execution_count": 169,
   "metadata": {},
   "outputs": [
    {
     "data": {
      "text/html": [
       "<div>\n",
       "<style scoped>\n",
       "    .dataframe tbody tr th:only-of-type {\n",
       "        vertical-align: middle;\n",
       "    }\n",
       "\n",
       "    .dataframe tbody tr th {\n",
       "        vertical-align: top;\n",
       "    }\n",
       "\n",
       "    .dataframe thead th {\n",
       "        text-align: right;\n",
       "    }\n",
       "</style>\n",
       "<table border=\"1\" class=\"dataframe\">\n",
       "  <thead>\n",
       "    <tr style=\"text-align: right;\">\n",
       "      <th></th>\n",
       "      <th>TARGETID</th>\n",
       "      <th>Redrock_spectype</th>\n",
       "      <th>Redrock_z</th>\n",
       "      <th>VI_scanner</th>\n",
       "      <th>VI_quality</th>\n",
       "      <th>VI_issue</th>\n",
       "      <th>VI_z</th>\n",
       "      <th>VI_spectype</th>\n",
       "      <th>VI_comment</th>\n",
       "      <th>best redshift</th>\n",
       "      <th>best spectype</th>\n",
       "      <th>vi_combined_flag</th>\n",
       "      <th>vi_diff</th>\n",
       "      <th>vi_combined_z</th>\n",
       "      <th>dz</th>\n",
       "      <th>all VI comments</th>\n",
       "      <th>N_VI</th>\n",
       "      <th>merger comment</th>\n",
       "    </tr>\n",
       "  </thead>\n",
       "  <tbody>\n",
       "    <tr>\n",
       "      <th>205</th>\n",
       "      <td>35191273967059569</td>\n",
       "      <td>GALAXY</td>\n",
       "      <td>0.1156</td>\n",
       "      <td>PNT</td>\n",
       "      <td>4</td>\n",
       "      <td>NaN</td>\n",
       "      <td>0.1156</td>\n",
       "      <td>GALAXY</td>\n",
       "      <td>--</td>\n",
       "      <td>0.1156</td>\n",
       "      <td>GALAXY</td>\n",
       "      <td>4.0</td>\n",
       "      <td>0</td>\n",
       "      <td>0.1156</td>\n",
       "      <td>0.324668</td>\n",
       "      <td>--|Two objects in spectrum (z=0.11 + 0.47)</td>\n",
       "      <td>2</td>\n",
       "      <td>none</td>\n",
       "    </tr>\n",
       "    <tr>\n",
       "      <th>254</th>\n",
       "      <td>35191273967059569</td>\n",
       "      <td>GALAXY</td>\n",
       "      <td>0.1156</td>\n",
       "      <td>KSD</td>\n",
       "      <td>4</td>\n",
       "      <td>NaN</td>\n",
       "      <td>0.4778</td>\n",
       "      <td>NaN</td>\n",
       "      <td>Two objects in spectrum (z=0.11 + 0.47)</td>\n",
       "      <td>0.4778</td>\n",
       "      <td>GALAXY</td>\n",
       "      <td>4.0</td>\n",
       "      <td>0</td>\n",
       "      <td>0.1156</td>\n",
       "      <td>0.324668</td>\n",
       "      <td>--|Two objects in spectrum (z=0.11 + 0.47)</td>\n",
       "      <td>2</td>\n",
       "      <td>none</td>\n",
       "    </tr>\n",
       "  </tbody>\n",
       "</table>\n",
       "</div>"
      ],
      "text/plain": [
       "              TARGETID Redrock_spectype  Redrock_z VI_scanner  VI_quality  \\\n",
       "205  35191273967059569           GALAXY     0.1156        PNT           4   \n",
       "254  35191273967059569           GALAXY     0.1156        KSD           4   \n",
       "\n",
       "    VI_issue    VI_z VI_spectype                               VI_comment  \\\n",
       "205      NaN  0.1156      GALAXY                                       --   \n",
       "254      NaN  0.4778         NaN  Two objects in spectrum (z=0.11 + 0.47)   \n",
       "\n",
       "     best redshift best spectype  vi_combined_flag  vi_diff  vi_combined_z  \\\n",
       "205         0.1156        GALAXY               4.0        0         0.1156   \n",
       "254         0.4778        GALAXY               4.0        0         0.1156   \n",
       "\n",
       "           dz                             all VI comments  N_VI merger comment  \n",
       "205  0.324668  --|Two objects in spectrum (z=0.11 + 0.47)     2           none  \n",
       "254  0.324668  --|Two objects in spectrum (z=0.11 + 0.47)     2           none  "
      ]
     },
     "metadata": {},
     "output_type": "display_data"
    }
   ],
   "source": [
    "#copy this text to a new cell to display the conflict\n",
    "conflict_id=9\n",
    "display_conflict(conflict_id, show_spectra=show_spectra)\n"
   ]
  },
  {
   "cell_type": "code",
   "execution_count": 170,
   "metadata": {},
   "outputs": [
    {
     "name": "stdout",
     "output_type": "stream",
     "text": [
      "conflict ID =  9\n"
     ]
    }
   ],
   "source": [
    "#copy this text to a new cell to resolve the conflict\n",
    "vi.loc[vi.TARGETID==unique_targets[conflict_id], 'best redshift'] = 0.4778\n",
    "vi.loc[vi.TARGETID==unique_targets[conflict_id], 'VI_quality'] = 4\n",
    "#vi.loc[vi.TargetID==unique_targets[conflict_id], 'best spectype'] = \n",
    "\n",
    "#add a comment\n",
    "vi.loc[vi.TARGETID==unique_targets[conflict_id], 'merger comment'] = 'Two objects z=0.1156 and z=0.4778'\n",
    "\n",
    "#look at the values again to make sure all is well\n",
    "#display(vi[vi.TARGETID==unique_targets[conflict_id]])\n",
    "print('conflict ID = ', conflict_id)\n",
    "\n"
   ]
  },
  {
   "cell_type": "code",
   "execution_count": 171,
   "metadata": {},
   "outputs": [
    {
     "data": {
      "text/html": [
       "<div>\n",
       "<style scoped>\n",
       "    .dataframe tbody tr th:only-of-type {\n",
       "        vertical-align: middle;\n",
       "    }\n",
       "\n",
       "    .dataframe tbody tr th {\n",
       "        vertical-align: top;\n",
       "    }\n",
       "\n",
       "    .dataframe thead th {\n",
       "        text-align: right;\n",
       "    }\n",
       "</style>\n",
       "<table border=\"1\" class=\"dataframe\">\n",
       "  <thead>\n",
       "    <tr style=\"text-align: right;\">\n",
       "      <th></th>\n",
       "      <th>TARGETID</th>\n",
       "      <th>Redrock_spectype</th>\n",
       "      <th>Redrock_z</th>\n",
       "      <th>VI_scanner</th>\n",
       "      <th>VI_quality</th>\n",
       "      <th>VI_issue</th>\n",
       "      <th>VI_z</th>\n",
       "      <th>VI_spectype</th>\n",
       "      <th>VI_comment</th>\n",
       "      <th>best redshift</th>\n",
       "      <th>best spectype</th>\n",
       "      <th>vi_combined_flag</th>\n",
       "      <th>vi_diff</th>\n",
       "      <th>vi_combined_z</th>\n",
       "      <th>dz</th>\n",
       "      <th>all VI comments</th>\n",
       "      <th>N_VI</th>\n",
       "      <th>merger comment</th>\n",
       "    </tr>\n",
       "  </thead>\n",
       "  <tbody>\n",
       "    <tr>\n",
       "      <th>210</th>\n",
       "      <td>35191273975449926</td>\n",
       "      <td>QSO</td>\n",
       "      <td>0.8088</td>\n",
       "      <td>PNT</td>\n",
       "      <td>4</td>\n",
       "      <td>NaN</td>\n",
       "      <td>0.8088</td>\n",
       "      <td>GALAXY</td>\n",
       "      <td>--</td>\n",
       "      <td>0.8088</td>\n",
       "      <td>GALAXY</td>\n",
       "      <td>4.0</td>\n",
       "      <td>0</td>\n",
       "      <td>0.809</td>\n",
       "      <td>0.000221</td>\n",
       "      <td>--|--</td>\n",
       "      <td>2</td>\n",
       "      <td>none</td>\n",
       "    </tr>\n",
       "    <tr>\n",
       "      <th>260</th>\n",
       "      <td>35191273975449926</td>\n",
       "      <td>QSO</td>\n",
       "      <td>0.8088</td>\n",
       "      <td>KSD</td>\n",
       "      <td>4</td>\n",
       "      <td>NaN</td>\n",
       "      <td>0.8092</td>\n",
       "      <td>NaN</td>\n",
       "      <td>--</td>\n",
       "      <td>0.8092</td>\n",
       "      <td>QSO</td>\n",
       "      <td>4.0</td>\n",
       "      <td>0</td>\n",
       "      <td>0.809</td>\n",
       "      <td>0.000221</td>\n",
       "      <td>--|--</td>\n",
       "      <td>2</td>\n",
       "      <td>none</td>\n",
       "    </tr>\n",
       "  </tbody>\n",
       "</table>\n",
       "</div>"
      ],
      "text/plain": [
       "              TARGETID Redrock_spectype  Redrock_z VI_scanner  VI_quality  \\\n",
       "210  35191273975449926              QSO     0.8088        PNT           4   \n",
       "260  35191273975449926              QSO     0.8088        KSD           4   \n",
       "\n",
       "    VI_issue    VI_z VI_spectype VI_comment  best redshift best spectype  \\\n",
       "210      NaN  0.8088      GALAXY         --         0.8088        GALAXY   \n",
       "260      NaN  0.8092         NaN         --         0.8092           QSO   \n",
       "\n",
       "     vi_combined_flag  vi_diff  vi_combined_z        dz all VI comments  N_VI  \\\n",
       "210               4.0        0          0.809  0.000221           --|--     2   \n",
       "260               4.0        0          0.809  0.000221           --|--     2   \n",
       "\n",
       "    merger comment  \n",
       "210           none  \n",
       "260           none  "
      ]
     },
     "metadata": {},
     "output_type": "display_data"
    }
   ],
   "source": [
    "#copy this text to a new cell to display the conflict\n",
    "conflict_id=10\n",
    "display_conflict(conflict_id, show_spectra=show_spectra)"
   ]
  },
  {
   "cell_type": "code",
   "execution_count": 172,
   "metadata": {},
   "outputs": [
    {
     "name": "stdout",
     "output_type": "stream",
     "text": [
      "conflict ID =  10\n"
     ]
    }
   ],
   "source": [
    "#copy this text to a new cell to resolve the conflict\n",
    "vi.loc[vi.TARGETID==unique_targets[conflict_id], 'best redshift'] = 0.8092\n",
    "vi.loc[vi.TARGETID==unique_targets[conflict_id], 'VI_quality'] = 4\n",
    "vi.loc[vi.TARGETID==unique_targets[conflict_id], 'best spectype'] = 'GALAXY'\n",
    "\n",
    "#add a comment\n",
    "vi.loc[vi.TARGETID==unique_targets[conflict_id], 'merger comment'] = 'Redshift is robust'\n",
    "\n",
    "#look at the values again to make sure all is well\n",
    "#display(vi[vi.TARGETID==unique_targets[conflict_id]])\n",
    "print('conflict ID = ', conflict_id)\n"
   ]
  },
  {
   "cell_type": "markdown",
   "metadata": {},
   "source": [
    "### and so on...\n",
    "\n",
    "We should now recompute the conflicts, and not find any."
   ]
  },
  {
   "cell_type": "code",
   "execution_count": null,
   "metadata": {},
   "outputs": [],
   "source": []
  },
  {
   "cell_type": "code",
   "execution_count": null,
   "metadata": {},
   "outputs": [],
   "source": []
  },
  {
   "cell_type": "code",
   "execution_count": 173,
   "metadata": {},
   "outputs": [],
   "source": [
    "vi_conflict = VI.find_conflicts(vi_gp)"
   ]
  },
  {
   "cell_type": "code",
   "execution_count": 174,
   "metadata": {},
   "outputs": [
    {
     "name": "stdout",
     "output_type": "stream",
     "text": [
      "Targets with problematic VI:  []\n",
      "Total number of conflicts to resolve:  0\n"
     ]
    }
   ],
   "source": [
    "unique_targets = np.unique(vi_conflict['TARGETID'].tolist())\n",
    "print('Targets with problematic VI: ', unique_targets)\n",
    "print('Total number of conflicts to resolve: ', len(unique_targets))"
   ]
  },
  {
   "cell_type": "markdown",
   "metadata": {},
   "source": [
    "Display anything that was missed (if \"Total number of conflicts\" isn't zero) and resolve!"
   ]
  },
  {
   "cell_type": "raw",
   "metadata": {
    "jupyter": {
     "outputs_hidden": true
    }
   },
   "source": [
    "for i in range(len(unique_targets)): \n",
    "    display(vi[vi.TargetID==unique_targets[i]])"
   ]
  },
  {
   "cell_type": "markdown",
   "metadata": {},
   "source": [
    "Let's check the number of conflicts again."
   ]
  },
  {
   "cell_type": "code",
   "execution_count": 175,
   "metadata": {},
   "outputs": [],
   "source": [
    "vi_conflict = VI.find_conflicts(vi_gp)"
   ]
  },
  {
   "cell_type": "code",
   "execution_count": 176,
   "metadata": {},
   "outputs": [
    {
     "name": "stdout",
     "output_type": "stream",
     "text": [
      "Targets with problematic VI:  []\n",
      "Total number of conflicts to resolve:  0\n"
     ]
    }
   ],
   "source": [
    "unique_targets = np.unique(vi_conflict['TARGETID'].tolist())\n",
    "print('Targets with problematic VI: ', unique_targets)\n",
    "print('Total number of conflicts to resolve: ', len(unique_targets))"
   ]
  },
  {
   "cell_type": "markdown",
   "metadata": {},
   "source": [
    "## Woohoo!"
   ]
  },
  {
   "cell_type": "code",
   "execution_count": null,
   "metadata": {},
   "outputs": [],
   "source": []
  },
  {
   "cell_type": "code",
   "execution_count": null,
   "metadata": {},
   "outputs": [],
   "source": []
  },
  {
   "cell_type": "code",
   "execution_count": null,
   "metadata": {},
   "outputs": [],
   "source": []
  },
  {
   "cell_type": "markdown",
   "metadata": {},
   "source": [
    "## Finally\n",
    "we need to recompute vi_combined_flag and vi_combined_z, after everything is resolved."
   ]
  },
  {
   "cell_type": "code",
   "execution_count": 177,
   "metadata": {},
   "outputs": [],
   "source": [
    "vi['vi_combined_flag'] = vi.groupby('TARGETID')['VI_quality'].transform('mean')\n",
    "vi['vi_combined_z'] = vi.groupby('TARGETID')['best redshift'].transform('mean')\n"
   ]
  },
  {
   "cell_type": "markdown",
   "metadata": {},
   "source": [
    "## Now we prepare to write to file. \n",
    "\n",
    "### The important columns for the truth table construction are **vi_combined_flag** and **vi_combined_z** \n",
    "\n",
    "The truth table should **take the redhift value in vi_combined_z** for all objects with **vi_combined_flag >= 2.5** (for discussion, but this catches the cases where there is some disagreement on the 2/3 boundary).\n",
    "\n",
    "After the merging process, those two columns will be the same for ALL of the members of each group by TargetID, so it doesn't matter which member we write to file. Taking the 1st one just makes this easy. \n"
   ]
  },
  {
   "cell_type": "code",
   "execution_count": 178,
   "metadata": {},
   "outputs": [
    {
     "data": {
      "text/plain": [
       "Index(['TARGETID', 'EXPID', 'NIGHT', 'TILEID', 'Spec_version',\n",
       "       'Redrock_version', 'Template_version', 'Redrock_spectype', 'Redrock_z',\n",
       "       'VI_scanner', 'VI_quality', 'VI_issue', 'VI_z', 'VI_spectype',\n",
       "       'VI_comment', 'FIBER', 'FLUX_G', 'FLUX_R', 'FLUX_Z', 'FIBERFLUX_G',\n",
       "       'FIBERFLUX_R', 'FIBERFLUX_Z', 'DELTACHI2', 'best redshift',\n",
       "       'best spectype', 'vi_combined_flag', 'vi_diff', 'dz', 'vi_combined_z',\n",
       "       'all VI comments', 'N_VI', 'merger comment'],\n",
       "      dtype='object')"
      ]
     },
     "execution_count": 178,
     "metadata": {},
     "output_type": "execute_result"
    }
   ],
   "source": [
    "vi.keys()"
   ]
  },
  {
   "cell_type": "code",
   "execution_count": 179,
   "metadata": {},
   "outputs": [
    {
     "name": "stdout",
     "output_type": "stream",
     "text": [
      "/global/homes/t/tlan/projects/VI_files/Andes_reinspection/LRG/truth_table_Andes_reinspection_LRG_68001_20200315_2.csv\n"
     ]
    }
   ],
   "source": [
    "print(VI_dir+save_filename)"
   ]
  },
  {
   "cell_type": "code",
   "execution_count": 180,
   "metadata": {},
   "outputs": [
    {
     "name": "stderr",
     "output_type": "stream",
     "text": [
      "<ipython-input-180-2063ed20beca>:1: FutureWarning: Indexing with multiple keys (implicitly converted to a tuple of keys) will be deprecated, use a list instead.\n",
      "  vi_gp['Redrock_z', 'Redrock_spectype', 'best redshift' , 'best spectype', 'vi_combined_flag',\n"
     ]
    }
   ],
   "source": [
    "vi_gp['Redrock_z', 'Redrock_spectype', 'best redshift' , 'best spectype', 'vi_combined_flag',  \n",
    "      'all VI comments', 'merger comment', 'N_VI', 'DELTACHI2','FIBER'].first().to_csv(VI_dir+save_filename)"
   ]
  },
  {
   "cell_type": "markdown",
   "metadata": {},
   "source": [
    "Check that merged file reads in OK - check comments"
   ]
  },
  {
   "cell_type": "code",
   "execution_count": 181,
   "metadata": {},
   "outputs": [],
   "source": [
    "merged_file = pd.read_csv(VI_dir+save_filename)"
   ]
  },
  {
   "cell_type": "code",
   "execution_count": 182,
   "metadata": {},
   "outputs": [
    {
     "data": {
      "text/plain": [
       "Index(['TARGETID', 'Redrock_z', 'Redrock_spectype', 'best redshift',\n",
       "       'best spectype', 'vi_combined_flag', 'all VI comments',\n",
       "       'merger comment', 'N_VI', 'DELTACHI2', 'FIBER'],\n",
       "      dtype='object')"
      ]
     },
     "execution_count": 182,
     "metadata": {},
     "output_type": "execute_result"
    }
   ],
   "source": [
    "merged_file.keys()"
   ]
  },
  {
   "cell_type": "code",
   "execution_count": 183,
   "metadata": {},
   "outputs": [
    {
     "data": {
      "text/plain": [
       "150"
      ]
     },
     "execution_count": 183,
     "metadata": {},
     "output_type": "execute_result"
    }
   ],
   "source": [
    "len(merged_file)"
   ]
  },
  {
   "cell_type": "code",
   "execution_count": 184,
   "metadata": {},
   "outputs": [
    {
     "data": {
      "text/plain": [
       "'/global/homes/t/tlan/projects/VI_files/Andes_reinspection/LRG/'"
      ]
     },
     "execution_count": 184,
     "metadata": {},
     "output_type": "execute_result"
    }
   ],
   "source": [
    "VI_dir"
   ]
  },
  {
   "cell_type": "code",
   "execution_count": null,
   "metadata": {},
   "outputs": [],
   "source": []
  }
 ],
 "metadata": {
  "kernelspec": {
   "display_name": "DESI master",
   "language": "python",
   "name": "desi-master"
  },
  "language_info": {
   "codemirror_mode": {
    "name": "ipython",
    "version": 3
   },
   "file_extension": ".py",
   "mimetype": "text/x-python",
   "name": "python",
   "nbconvert_exporter": "python",
   "pygments_lexer": "ipython3",
   "version": "3.8.3"
  }
 },
 "nbformat": 4,
 "nbformat_minor": 4
}
