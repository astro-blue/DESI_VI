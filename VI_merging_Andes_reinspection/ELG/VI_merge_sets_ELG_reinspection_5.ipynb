{
 "cells": [
  {
   "cell_type": "markdown",
   "metadata": {},
   "source": [
    "## Identifying and resolving conflicts in a batch of VI files"
   ]
  },
  {
   "cell_type": "markdown",
   "metadata": {},
   "source": [
    "Andes Reinspection \n",
    "ELG\n",
    "Data information can be found at https://data.desi.lbl.gov/desi/spectro/prospect/target-reinspection-andes/\n",
    "\n",
    "/global/cfs/cdirs/desi/spectro/redux/andes\n",
    "\n",
    "\n",
    "448 visual inspections of a total of 150 unique objects\n",
    "\n",
    "32 conflicts"
   ]
  },
  {
   "cell_type": "code",
   "execution_count": 52,
   "metadata": {},
   "outputs": [],
   "source": [
    "save_filename='truth_table_Andes_reinspection_ELG_67230_20200315_5'"
   ]
  },
  {
   "cell_type": "code",
   "execution_count": 53,
   "metadata": {},
   "outputs": [],
   "source": [
    "import os, sys, glob\n",
    "import numpy as np\n",
    "\n",
    "from astropy.io import fits\n",
    "from astropy.table import Table, join, vstack\n",
    "from astropy.io import fits\n",
    "\n",
    "import pandas as pd\n",
    "import fnmatch\n",
    "\n",
    "import desispec.io\n",
    "\n",
    "import VI_utils as VI\n",
    "sys.path.append(\"/global/homes/r/tlan/prospect/prospect/py\")\n",
    "\n",
    "from prospect import utils_specviewer,plotframes\n",
    "#import desispec\n",
    "# library location will change ..\n",
    "sys.path.append(\"/global/u2/t/tlan/python/prospect/py\")\n",
    "from prospect import utils_specviewer,plotframes\n",
    "import matplotlib.pyplot as plt "
   ]
  },
  {
   "cell_type": "code",
   "execution_count": 54,
   "metadata": {},
   "outputs": [
    {
     "data": {
      "text/plain": [
       "dict_keys(['67230-20200315'])"
      ]
     },
     "execution_count": 54,
     "metadata": {},
     "output_type": "execute_result"
    }
   ],
   "source": [
    "tiledir   = '/global/cfs/cdirs/desi/spectro/redux/andes/tiles/'\n",
    "tiles = ['67230']\n",
    "nights = ['20200315']\n",
    "petals = ['0','1', '2', '3', '4', '5', '6' ,'7', '8', '9']\n",
    "#petals = ['0','3','6','7']\n",
    "obs_db = utils_specviewer.make_targetdict(tiledir, petals=petals, tiles=tiles) # tiles = optional \n",
    "del obs_db['67230-20200314']\n",
    "obs_db.keys()"
   ]
  },
  {
   "cell_type": "code",
   "execution_count": 55,
   "metadata": {},
   "outputs": [],
   "source": [
    "pd.set_option('display.max_rows', 10)"
   ]
  },
  {
   "cell_type": "code",
   "execution_count": 56,
   "metadata": {},
   "outputs": [],
   "source": [
    "#set to directory with all the VI files to merge\n",
    "VI_dir = os.environ['HOME']+'/projects/VI_files/Andes_reinspection/ELG/'"
   ]
  },
  {
   "cell_type": "code",
   "execution_count": 57,
   "metadata": {},
   "outputs": [
    {
     "name": "stdout",
     "output_type": "stream",
     "text": [
      "desi*_67230_13_*.csv\n",
      "desi*_67230_14_*.csv\n",
      "['desi-vi_ELG_reinspection_67230_13_MAR.csv', 'desi-vi_ELG_reinspection_67230_13_CGS.csv', 'desi-vi_ELG_reinspection_67230_14_MAR.csv', 'desi-vi_ELG_reinspection_67230_14_CGS.csv']\n"
     ]
    }
   ],
   "source": [
    "#read a set of files \n",
    "all_files = os.listdir(VI_dir)\n",
    "vi_files=[]\n",
    "\n",
    "for i in range(13,15):\n",
    "    pattern = \"desi*_\"+str(67230)+\"_\"+str(i)+\"_*.csv\"\n",
    "    print(pattern)\n",
    "    for entry in all_files:\n",
    "        if fnmatch.fnmatch(entry, pattern):\n",
    "            vi_files.append(entry)\n",
    "\n",
    "print(vi_files)"
   ]
  },
  {
   "cell_type": "code",
   "execution_count": 58,
   "metadata": {},
   "outputs": [
    {
     "name": "stdout",
     "output_type": "stream",
     "text": [
      "desi-vi_ELG_reinspection_67230_13_MAR.csv\n",
      "desi-vi_ELG_reinspection_67230_13_CGS.csv\n",
      "desi-vi_ELG_reinspection_67230_14_MAR.csv\n",
      "desi-vi_ELG_reinspection_67230_14_CGS.csv\n",
      "There are 160 visual inspections of a total of 80 unique objects\n",
      "That gives 2.0 inspections per object.\n"
     ]
    }
   ],
   "source": [
    "vi = pd.read_csv(VI_dir + vi_files[0], delimiter = \",\", engine='python')\n",
    "print(vi_files[0])\n",
    "for i in range(1,len(vi_files)):\n",
    "    print(vi_files[i])\n",
    "    vi2 = pd.read_csv(VI_dir + vi_files[i], delimiter = \",\", engine='python')\n",
    "    vi = vi.append(vi2, ignore_index=True)\n",
    "#print(vi)    \n",
    "#make groups of visual inspections, grouped by unique objects, and state number of single and multiple VIs\n",
    "vi_gp = vi.groupby(['TARGETID'])\n",
    "\n",
    "print('There are ' + str(len(vi)) + ' visual inspections of a total of ' + str(len(vi_gp)) + ' unique objects')\n",
    "print('That gives ' + str(len(vi)/len(vi_gp)) + ' inspections per object.')"
   ]
  },
  {
   "cell_type": "code",
   "execution_count": 59,
   "metadata": {},
   "outputs": [],
   "source": [
    "#vi is a dataframe\n",
    "#display(vi)"
   ]
  },
  {
   "cell_type": "code",
   "execution_count": 60,
   "metadata": {},
   "outputs": [
    {
     "data": {
      "text/plain": [
       "160"
      ]
     },
     "execution_count": 60,
     "metadata": {},
     "output_type": "execute_result"
    }
   ],
   "source": [
    "#vi.keys()\n",
    "len(vi)"
   ]
  },
  {
   "cell_type": "markdown",
   "metadata": {},
   "source": [
    "# Merge with zbest files\n",
    "#Add: fiberID, delta_chi2, flux information,.. anything else?\n"
   ]
  },
  {
   "cell_type": "code",
   "execution_count": 61,
   "metadata": {},
   "outputs": [
    {
     "name": "stdout",
     "output_type": "stream",
     "text": [
      "5000\n",
      "5000\n",
      "160\n"
     ]
    }
   ],
   "source": [
    "\n",
    "#read in fibermap info, loop over the files for all the petals\n",
    "tf = Table.read(tiledir+'/'+tiles[0] + '/'+nights[0]+'/zbest-'+str(petals[0])+'-'+str(tiles[0])+'-'+nights[0]+'.fits',hdu='FIBERMAP')\n",
    "tspec = Table.read(tiledir+'/'+tiles[0] + '/'+nights[0]+'/zbest-'+str(petals[0])+'-'+str(tiles[0])+'-'+nights[0]+'.fits',hdu='ZBEST')\n",
    "\n",
    "for i in range(1,len(petals)):\n",
    "    tn = Table.read(tiledir+'/'+tiles[0] + '/'+nights[0]+'/zbest-'+str(petals[i])+'-'+str(tiles[0])+'-'+nights[0]+'.fits',hdu='ZBEST')\n",
    "    tnf = Table.read(tiledir+'/'+tiles[0] + '/'+nights[0]+'/zbest-'+str(petals[i])+'-'+str(tiles[0])+'-'+nights[0]+'.fits',hdu='FIBERMAP')\n",
    "    tspec = vstack([tspec,tn])\n",
    "    tf = vstack([tf,tnf])\n",
    "\n",
    "#tf['TARGETID','FIBER','FLUX_G','FLUX_R','FLUX_Z','FIBERFLUX_G','FIBERFLUX_R','FIBERFLUX_Z'].to_panda()    \n",
    "EXPID = list(set(tf['EXPID']))[0]\n",
    "tf = tf[tf['EXPID']==EXPID]\n",
    "tspec_df = tspec['TARGETID','DELTACHI2' ].to_pandas()\n",
    "tf_df = tf['TARGETID','FIBER','FLUX_G','FLUX_R','FLUX_Z','FIBERFLUX_G','FIBERFLUX_R','FIBERFLUX_Z'].to_pandas()\n",
    "print(len(tspec_df))\n",
    "print(len(tf_df))\n",
    "#tf_df = tf_df.rename(columns={\"TargetID\": \"TARGETID\"})\n",
    "#tspec_df = tspec_df.rename(columns={\"TargetID\": \"TARGETID\"})\n",
    "#print(len(vi))\n",
    "vi = vi.merge(tf_df, how='left', on='TARGETID')\n",
    "vi = vi.merge(tspec_df, how='left', on='TARGETID')\n",
    "print(len(vi))"
   ]
  },
  {
   "cell_type": "code",
   "execution_count": null,
   "metadata": {},
   "outputs": [],
   "source": []
  },
  {
   "cell_type": "code",
   "execution_count": 62,
   "metadata": {},
   "outputs": [
    {
     "name": "stdout",
     "output_type": "stream",
     "text": [
      "Index(['TARGETID', 'EXPID', 'NIGHT', 'TILEID', 'Spec_version',\n",
      "       'Redrock_version', 'Template_version', 'Redrock_spectype', 'Redrock_z',\n",
      "       'VI_scanner', 'VI_quality', 'VI_issue', 'VI_z', 'VI_spectype',\n",
      "       'VI_comment', 'FIBER', 'FLUX_G', 'FLUX_R', 'FLUX_Z', 'FIBERFLUX_G',\n",
      "       'FIBERFLUX_R', 'FIBERFLUX_Z', 'DELTACHI2'],\n",
      "      dtype='object')\n"
     ]
    }
   ],
   "source": [
    "print(vi.keys())\n",
    "#print(len(vi))\n",
    "#vi['best redshift']=vi['VI_z']"
   ]
  },
  {
   "cell_type": "markdown",
   "metadata": {},
   "source": [
    "### Adding a bunch of useful columns"
   ]
  },
  {
   "cell_type": "code",
   "execution_count": 63,
   "metadata": {},
   "outputs": [],
   "source": [
    "#vi['VI_z']\n",
    "import VI_utils as VI\n",
    "#vi['VI_z']\n",
    "#bad_str = [s is None for s in vi['VI_comment']]\n",
    "#vi['VI_comment'].isnull()\n",
    "#bad_str = [s is None for s in vi['VI_comment']]\n",
    "#print(bad_str)\n",
    "#vi.loc[vi['VI_comment'].isnull(),'VI_comment']='--'\n",
    "#vi['VI_comment']\n",
    "#vi['all VI comments'] = vi.groupby('TARGETID')['VI_comment'].transform(lambda x: '|'.join(x))\n",
    "#print(vi['all VI comments'])\n",
    "vi = VI.prep_new_columns(vi)\n",
    "#vi['best redshift'] = vi['VI_z']\n",
    "#test = vi['VI_z']\n",
    "#vi['best redshift'].isnull()\n",
    "#vi.loc[vi['best redshift'].isnull(), 'best redshift'] = vi.loc[vi['best redshift'].isnull(), 'Redrock_z']\n",
    "#vi['best redshift']"
   ]
  },
  {
   "cell_type": "code",
   "execution_count": 64,
   "metadata": {},
   "outputs": [
    {
     "data": {
      "text/html": [
       "<div>\n",
       "<style scoped>\n",
       "    .dataframe tbody tr th:only-of-type {\n",
       "        vertical-align: middle;\n",
       "    }\n",
       "\n",
       "    .dataframe tbody tr th {\n",
       "        vertical-align: top;\n",
       "    }\n",
       "\n",
       "    .dataframe thead th {\n",
       "        text-align: right;\n",
       "    }\n",
       "</style>\n",
       "<table border=\"1\" class=\"dataframe\">\n",
       "  <thead>\n",
       "    <tr style=\"text-align: right;\">\n",
       "      <th></th>\n",
       "      <th>TARGETID</th>\n",
       "      <th>EXPID</th>\n",
       "      <th>NIGHT</th>\n",
       "      <th>TILEID</th>\n",
       "      <th>Spec_version</th>\n",
       "      <th>Redrock_version</th>\n",
       "      <th>Template_version</th>\n",
       "      <th>Redrock_spectype</th>\n",
       "      <th>Redrock_z</th>\n",
       "      <th>VI_scanner</th>\n",
       "      <th>...</th>\n",
       "      <th>DELTACHI2</th>\n",
       "      <th>best redshift</th>\n",
       "      <th>best spectype</th>\n",
       "      <th>vi_combined_flag</th>\n",
       "      <th>vi_diff</th>\n",
       "      <th>dz</th>\n",
       "      <th>vi_combined_z</th>\n",
       "      <th>all VI comments</th>\n",
       "      <th>N_VI</th>\n",
       "      <th>merger comment</th>\n",
       "    </tr>\n",
       "  </thead>\n",
       "  <tbody>\n",
       "    <tr>\n",
       "      <th>0</th>\n",
       "      <td>35185802342302085</td>\n",
       "      <td>55587</td>\n",
       "      <td>20200315</td>\n",
       "      <td>67230</td>\n",
       "      <td>0.34.4</td>\n",
       "      <td>-1</td>\n",
       "      <td>-1</td>\n",
       "      <td>GALAXY</td>\n",
       "      <td>0.8196</td>\n",
       "      <td>MAR</td>\n",
       "      <td>...</td>\n",
       "      <td>23.448356</td>\n",
       "      <td>1.4451</td>\n",
       "      <td>GALAXY</td>\n",
       "      <td>2.0</td>\n",
       "      <td>0</td>\n",
       "      <td>0.000368</td>\n",
       "      <td>1.44465</td>\n",
       "      <td>--|step/jump in the last channel</td>\n",
       "      <td>2</td>\n",
       "      <td>none</td>\n",
       "    </tr>\n",
       "    <tr>\n",
       "      <th>1</th>\n",
       "      <td>35185802342302092</td>\n",
       "      <td>55587</td>\n",
       "      <td>20200315</td>\n",
       "      <td>67230</td>\n",
       "      <td>0.34.4</td>\n",
       "      <td>-1</td>\n",
       "      <td>-1</td>\n",
       "      <td>GALAXY</td>\n",
       "      <td>0.8388</td>\n",
       "      <td>MAR</td>\n",
       "      <td>...</td>\n",
       "      <td>263.361098</td>\n",
       "      <td>0.8388</td>\n",
       "      <td>GALAXY</td>\n",
       "      <td>4.0</td>\n",
       "      <td>0</td>\n",
       "      <td>0.000000</td>\n",
       "      <td>0.83880</td>\n",
       "      <td>--|--</td>\n",
       "      <td>2</td>\n",
       "      <td>none</td>\n",
       "    </tr>\n",
       "    <tr>\n",
       "      <th>2</th>\n",
       "      <td>35185802342302740</td>\n",
       "      <td>55587</td>\n",
       "      <td>20200315</td>\n",
       "      <td>67230</td>\n",
       "      <td>0.34.4</td>\n",
       "      <td>-1</td>\n",
       "      <td>-1</td>\n",
       "      <td>GALAXY</td>\n",
       "      <td>0.7619</td>\n",
       "      <td>MAR</td>\n",
       "      <td>...</td>\n",
       "      <td>106.914634</td>\n",
       "      <td>0.7622</td>\n",
       "      <td>GALAXY</td>\n",
       "      <td>3.0</td>\n",
       "      <td>2</td>\n",
       "      <td>0.000170</td>\n",
       "      <td>0.76205</td>\n",
       "      <td>--|--</td>\n",
       "      <td>2</td>\n",
       "      <td>none</td>\n",
       "    </tr>\n",
       "    <tr>\n",
       "      <th>3</th>\n",
       "      <td>35185802342303829</td>\n",
       "      <td>55587</td>\n",
       "      <td>20200315</td>\n",
       "      <td>67230</td>\n",
       "      <td>0.34.4</td>\n",
       "      <td>-1</td>\n",
       "      <td>-1</td>\n",
       "      <td>GALAXY</td>\n",
       "      <td>1.2497</td>\n",
       "      <td>MAR</td>\n",
       "      <td>...</td>\n",
       "      <td>119.537663</td>\n",
       "      <td>1.2497</td>\n",
       "      <td>GALAXY</td>\n",
       "      <td>4.0</td>\n",
       "      <td>0</td>\n",
       "      <td>0.000000</td>\n",
       "      <td>1.24970</td>\n",
       "      <td>--|--</td>\n",
       "      <td>2</td>\n",
       "      <td>none</td>\n",
       "    </tr>\n",
       "    <tr>\n",
       "      <th>4</th>\n",
       "      <td>35185802342303898</td>\n",
       "      <td>55587</td>\n",
       "      <td>20200315</td>\n",
       "      <td>67230</td>\n",
       "      <td>0.34.4</td>\n",
       "      <td>-1</td>\n",
       "      <td>-1</td>\n",
       "      <td>GALAXY</td>\n",
       "      <td>0.1905</td>\n",
       "      <td>MAR</td>\n",
       "      <td>...</td>\n",
       "      <td>67.733652</td>\n",
       "      <td>0.1905</td>\n",
       "      <td>GALAXY</td>\n",
       "      <td>2.5</td>\n",
       "      <td>1</td>\n",
       "      <td>0.000000</td>\n",
       "      <td>0.19050</td>\n",
       "      <td>--|--</td>\n",
       "      <td>2</td>\n",
       "      <td>none</td>\n",
       "    </tr>\n",
       "    <tr>\n",
       "      <th>...</th>\n",
       "      <td>...</td>\n",
       "      <td>...</td>\n",
       "      <td>...</td>\n",
       "      <td>...</td>\n",
       "      <td>...</td>\n",
       "      <td>...</td>\n",
       "      <td>...</td>\n",
       "      <td>...</td>\n",
       "      <td>...</td>\n",
       "      <td>...</td>\n",
       "      <td>...</td>\n",
       "      <td>...</td>\n",
       "      <td>...</td>\n",
       "      <td>...</td>\n",
       "      <td>...</td>\n",
       "      <td>...</td>\n",
       "      <td>...</td>\n",
       "      <td>...</td>\n",
       "      <td>...</td>\n",
       "      <td>...</td>\n",
       "      <td>...</td>\n",
       "    </tr>\n",
       "    <tr>\n",
       "      <th>155</th>\n",
       "      <td>35185802371667169</td>\n",
       "      <td>55587</td>\n",
       "      <td>20200315</td>\n",
       "      <td>67230</td>\n",
       "      <td>0.34.4</td>\n",
       "      <td>-1</td>\n",
       "      <td>-1</td>\n",
       "      <td>QSO</td>\n",
       "      <td>2.3077</td>\n",
       "      <td>CGS</td>\n",
       "      <td>...</td>\n",
       "      <td>24.301832</td>\n",
       "      <td>2.3077</td>\n",
       "      <td>QSO</td>\n",
       "      <td>0.5</td>\n",
       "      <td>1</td>\n",
       "      <td>0.000000</td>\n",
       "      <td>2.30770</td>\n",
       "      <td>--|--</td>\n",
       "      <td>2</td>\n",
       "      <td>none</td>\n",
       "    </tr>\n",
       "    <tr>\n",
       "      <th>156</th>\n",
       "      <td>35185802375856417</td>\n",
       "      <td>55587</td>\n",
       "      <td>20200315</td>\n",
       "      <td>67230</td>\n",
       "      <td>0.34.4</td>\n",
       "      <td>-1</td>\n",
       "      <td>-1</td>\n",
       "      <td>GALAXY</td>\n",
       "      <td>1.6065</td>\n",
       "      <td>CGS</td>\n",
       "      <td>...</td>\n",
       "      <td>16.259349</td>\n",
       "      <td>1.6071</td>\n",
       "      <td>GALAXY</td>\n",
       "      <td>1.5</td>\n",
       "      <td>1</td>\n",
       "      <td>0.000230</td>\n",
       "      <td>1.60680</td>\n",
       "      <td>--|--</td>\n",
       "      <td>2</td>\n",
       "      <td>none</td>\n",
       "    </tr>\n",
       "    <tr>\n",
       "      <th>157</th>\n",
       "      <td>35185802375856933</td>\n",
       "      <td>55587</td>\n",
       "      <td>20200315</td>\n",
       "      <td>67230</td>\n",
       "      <td>0.34.4</td>\n",
       "      <td>-1</td>\n",
       "      <td>-1</td>\n",
       "      <td>GALAXY</td>\n",
       "      <td>1.5982</td>\n",
       "      <td>CGS</td>\n",
       "      <td>...</td>\n",
       "      <td>168.899621</td>\n",
       "      <td>1.5982</td>\n",
       "      <td>GALAXY</td>\n",
       "      <td>2.0</td>\n",
       "      <td>0</td>\n",
       "      <td>0.000038</td>\n",
       "      <td>1.59815</td>\n",
       "      <td>--|--</td>\n",
       "      <td>2</td>\n",
       "      <td>none</td>\n",
       "    </tr>\n",
       "    <tr>\n",
       "      <th>158</th>\n",
       "      <td>35185802375857132</td>\n",
       "      <td>55587</td>\n",
       "      <td>20200315</td>\n",
       "      <td>67230</td>\n",
       "      <td>0.34.4</td>\n",
       "      <td>-1</td>\n",
       "      <td>-1</td>\n",
       "      <td>GALAXY</td>\n",
       "      <td>0.7850</td>\n",
       "      <td>CGS</td>\n",
       "      <td>...</td>\n",
       "      <td>16.580985</td>\n",
       "      <td>0.7850</td>\n",
       "      <td>GALAXY</td>\n",
       "      <td>0.5</td>\n",
       "      <td>1</td>\n",
       "      <td>0.000000</td>\n",
       "      <td>0.78500</td>\n",
       "      <td>--|--</td>\n",
       "      <td>2</td>\n",
       "      <td>none</td>\n",
       "    </tr>\n",
       "    <tr>\n",
       "      <th>159</th>\n",
       "      <td>35185802375857926</td>\n",
       "      <td>55587</td>\n",
       "      <td>20200315</td>\n",
       "      <td>67230</td>\n",
       "      <td>0.34.4</td>\n",
       "      <td>-1</td>\n",
       "      <td>-1</td>\n",
       "      <td>GALAXY</td>\n",
       "      <td>1.4156</td>\n",
       "      <td>CGS</td>\n",
       "      <td>...</td>\n",
       "      <td>40.982959</td>\n",
       "      <td>1.2689</td>\n",
       "      <td>GALAXY</td>\n",
       "      <td>3.0</td>\n",
       "      <td>2</td>\n",
       "      <td>0.064657</td>\n",
       "      <td>1.41560</td>\n",
       "      <td>--|--</td>\n",
       "      <td>2</td>\n",
       "      <td>none</td>\n",
       "    </tr>\n",
       "  </tbody>\n",
       "</table>\n",
       "<p>160 rows × 32 columns</p>\n",
       "</div>"
      ],
      "text/plain": [
       "              TARGETID  EXPID     NIGHT  TILEID Spec_version  Redrock_version  \\\n",
       "0    35185802342302085  55587  20200315   67230       0.34.4               -1   \n",
       "1    35185802342302092  55587  20200315   67230       0.34.4               -1   \n",
       "2    35185802342302740  55587  20200315   67230       0.34.4               -1   \n",
       "3    35185802342303829  55587  20200315   67230       0.34.4               -1   \n",
       "4    35185802342303898  55587  20200315   67230       0.34.4               -1   \n",
       "..                 ...    ...       ...     ...          ...              ...   \n",
       "155  35185802371667169  55587  20200315   67230       0.34.4               -1   \n",
       "156  35185802375856417  55587  20200315   67230       0.34.4               -1   \n",
       "157  35185802375856933  55587  20200315   67230       0.34.4               -1   \n",
       "158  35185802375857132  55587  20200315   67230       0.34.4               -1   \n",
       "159  35185802375857926  55587  20200315   67230       0.34.4               -1   \n",
       "\n",
       "     Template_version Redrock_spectype  Redrock_z VI_scanner  ...   DELTACHI2  \\\n",
       "0                  -1           GALAXY     0.8196        MAR  ...   23.448356   \n",
       "1                  -1           GALAXY     0.8388        MAR  ...  263.361098   \n",
       "2                  -1           GALAXY     0.7619        MAR  ...  106.914634   \n",
       "3                  -1           GALAXY     1.2497        MAR  ...  119.537663   \n",
       "4                  -1           GALAXY     0.1905        MAR  ...   67.733652   \n",
       "..                ...              ...        ...        ...  ...         ...   \n",
       "155                -1              QSO     2.3077        CGS  ...   24.301832   \n",
       "156                -1           GALAXY     1.6065        CGS  ...   16.259349   \n",
       "157                -1           GALAXY     1.5982        CGS  ...  168.899621   \n",
       "158                -1           GALAXY     0.7850        CGS  ...   16.580985   \n",
       "159                -1           GALAXY     1.4156        CGS  ...   40.982959   \n",
       "\n",
       "    best redshift  best spectype vi_combined_flag vi_diff        dz  \\\n",
       "0          1.4451         GALAXY              2.0       0  0.000368   \n",
       "1          0.8388         GALAXY              4.0       0  0.000000   \n",
       "2          0.7622         GALAXY              3.0       2  0.000170   \n",
       "3          1.2497         GALAXY              4.0       0  0.000000   \n",
       "4          0.1905         GALAXY              2.5       1  0.000000   \n",
       "..            ...            ...              ...     ...       ...   \n",
       "155        2.3077            QSO              0.5       1  0.000000   \n",
       "156        1.6071         GALAXY              1.5       1  0.000230   \n",
       "157        1.5982         GALAXY              2.0       0  0.000038   \n",
       "158        0.7850         GALAXY              0.5       1  0.000000   \n",
       "159        1.2689         GALAXY              3.0       2  0.064657   \n",
       "\n",
       "     vi_combined_z                   all VI comments  N_VI  merger comment  \n",
       "0          1.44465  --|step/jump in the last channel     2            none  \n",
       "1          0.83880                             --|--     2            none  \n",
       "2          0.76205                             --|--     2            none  \n",
       "3          1.24970                             --|--     2            none  \n",
       "4          0.19050                             --|--     2            none  \n",
       "..             ...                               ...   ...             ...  \n",
       "155        2.30770                             --|--     2            none  \n",
       "156        1.60680                             --|--     2            none  \n",
       "157        1.59815                             --|--     2            none  \n",
       "158        0.78500                             --|--     2            none  \n",
       "159        1.41560                             --|--     2            none  \n",
       "\n",
       "[160 rows x 32 columns]"
      ]
     },
     "metadata": {},
     "output_type": "display_data"
    }
   ],
   "source": [
    "#check all the new columns (keys) have been added correctly\n",
    "display(vi)\n",
    "#print(vi.keys())"
   ]
  },
  {
   "cell_type": "markdown",
   "metadata": {},
   "source": [
    "Get a table that holds only the objects that have been inspected more than once, and for which the individual VI classifications differ by 2 or more, or delta z / (1 + z) > 0.0033, or there is disagreement in best spectype (these are the conflicts to resolve)"
   ]
  },
  {
   "cell_type": "code",
   "execution_count": 65,
   "metadata": {},
   "outputs": [],
   "source": [
    "vi_gp = vi.groupby(['TARGETID'])\n",
    "vi_conflict = VI.find_conflicts(vi_gp)"
   ]
  },
  {
   "cell_type": "code",
   "execution_count": 66,
   "metadata": {},
   "outputs": [
    {
     "data": {
      "text/plain": [
       "80"
      ]
     },
     "execution_count": 66,
     "metadata": {},
     "output_type": "execute_result"
    }
   ],
   "source": [
    "len(vi_gp)"
   ]
  },
  {
   "cell_type": "markdown",
   "metadata": {},
   "source": [
    "Get the target IDs of the problematic objects and display in table form for a quick summary:"
   ]
  },
  {
   "cell_type": "code",
   "execution_count": 67,
   "metadata": {},
   "outputs": [
    {
     "name": "stdout",
     "output_type": "stream",
     "text": [
      "Targets with problematic VI:  [35185796336062284 35185796340253548 35185796340255905 35185796344449049\n",
      " 35185802342302740 35185802359080077 35185802363276778 35185802363277027\n",
      " 35185802367473057 35185802371662064 35185802371663154 35185802371666288\n",
      " 35185802371666973 35185802375857926]\n",
      "Total number of conflicts to resolve:  14\n"
     ]
    }
   ],
   "source": [
    "unique_targets = np.unique(vi_conflict['TARGETID'].tolist())\n",
    "print('Targets with problematic VI: ', unique_targets)\n",
    "print('Total number of conflicts to resolve: ', len(unique_targets))"
   ]
  },
  {
   "cell_type": "code",
   "execution_count": 68,
   "metadata": {},
   "outputs": [
    {
     "data": {
      "text/plain": [
       "35185796336062284"
      ]
     },
     "execution_count": 68,
     "metadata": {},
     "output_type": "execute_result"
    }
   ],
   "source": [
    "unique_targets[0]"
   ]
  },
  {
   "cell_type": "raw",
   "metadata": {},
   "source": [
    "for i in range(len(unique_targets)): \n",
    "    display(vi[vi.TargetID==unique_targets[i].astype(float)])"
   ]
  },
  {
   "cell_type": "markdown",
   "metadata": {},
   "source": [
    "## This is where I resolve things manually - with care!!\n",
    "### I think it's better to keep it in a notebook, as typos can be backtracked rather than a single manual edit of a text file\n",
    "\n",
    "We edit either 'VI class', or 'best redshift' to resolve conflict. At the end, we look for conflicts again and we should find none.\n"
   ]
  },
  {
   "cell_type": "code",
   "execution_count": 69,
   "metadata": {},
   "outputs": [],
   "source": [
    "#function to display the conflict in table format and open a prospect window\n",
    "def display_conflict(conflict_id, show_spectra=None):\n",
    "    \n",
    "    #first, remind myself of the problem:\n",
    "    display(vi[vi.TARGETID==unique_targets[conflict_id]][['TARGETID', \n",
    "       'Redrock_spectype', 'Redrock_z', 'VI_scanner', 'VI_quality', 'VI_issue',\n",
    "       'VI_z', 'VI_spectype', 'VI_comment',\n",
    "       'best redshift', 'best spectype', 'vi_combined_flag', 'vi_diff',\n",
    "       'vi_combined_z', 'dz', 'all VI comments', 'N_VI', 'merger comment']])\n",
    "\n",
    "    spectra, zcat= utils_specviewer.load_spectra_zcat_from_targets([unique_targets[conflict_id]], tiledir, obs_db)\n",
    "    # VI interface in notebook\n",
    "    if show_spectra:\n",
    "        plotframes.plotspectra(spectra, zcatalog=zcat, title='Target_select', notebook=True, mask_type='CMX_TARGET',with_vi_widgets=False)"
   ]
  },
  {
   "cell_type": "code",
   "execution_count": 70,
   "metadata": {},
   "outputs": [],
   "source": [
    "#first, keep a safe copy of the original dataframe\n",
    "vi_safe = vi.copy()"
   ]
  },
  {
   "cell_type": "markdown",
   "metadata": {},
   "source": [
    "We will inspect each conflict on a prospect window, and resolve each conflict in turn"
   ]
  },
  {
   "cell_type": "raw",
   "metadata": {},
   "source": [
    "#copy this text to a new cell to display the conflict\n",
    "conflict_id=\n",
    "display_conflict(conflict_id)\n",
    "\n",
    "========\n",
    "#copy this text to a new cell to resolve the conflict\n",
    "vi.loc[vi.TargetID==unique_targets[conflict_id], 'best redshift'] = \n",
    "vi.loc[vi.TargetID==unique_targets[conflict_id], 'VI class'] = \n",
    "vi.loc[vi.TargetID==unique_targets[conflict_id], 'best spectype'] = \n",
    "\n",
    "#add a comment\n",
    "vi.loc[vi.TargetID==unique_targets[conflict_id], 'merger comment'] = \n",
    "\n",
    "#look at the values agbain to make sure all is well\n",
    "print('conflict ID = ', conflict_id)\n",
    "display(vi[vi.TargetID==unique_targets[conflict_id]])"
   ]
  },
  {
   "cell_type": "code",
   "execution_count": 71,
   "metadata": {},
   "outputs": [],
   "source": [
    "show_spectra = False"
   ]
  },
  {
   "cell_type": "code",
   "execution_count": 72,
   "metadata": {},
   "outputs": [
    {
     "data": {
      "text/html": [
       "<div>\n",
       "<style scoped>\n",
       "    .dataframe tbody tr th:only-of-type {\n",
       "        vertical-align: middle;\n",
       "    }\n",
       "\n",
       "    .dataframe tbody tr th {\n",
       "        vertical-align: top;\n",
       "    }\n",
       "\n",
       "    .dataframe thead th {\n",
       "        text-align: right;\n",
       "    }\n",
       "</style>\n",
       "<table border=\"1\" class=\"dataframe\">\n",
       "  <thead>\n",
       "    <tr style=\"text-align: right;\">\n",
       "      <th></th>\n",
       "      <th>TARGETID</th>\n",
       "      <th>Redrock_spectype</th>\n",
       "      <th>Redrock_z</th>\n",
       "      <th>VI_scanner</th>\n",
       "      <th>VI_quality</th>\n",
       "      <th>VI_issue</th>\n",
       "      <th>VI_z</th>\n",
       "      <th>VI_spectype</th>\n",
       "      <th>VI_comment</th>\n",
       "      <th>best redshift</th>\n",
       "      <th>best spectype</th>\n",
       "      <th>vi_combined_flag</th>\n",
       "      <th>vi_diff</th>\n",
       "      <th>vi_combined_z</th>\n",
       "      <th>dz</th>\n",
       "      <th>all VI comments</th>\n",
       "      <th>N_VI</th>\n",
       "      <th>merger comment</th>\n",
       "    </tr>\n",
       "  </thead>\n",
       "  <tbody>\n",
       "    <tr>\n",
       "      <th>42</th>\n",
       "      <td>35185796336062284</td>\n",
       "      <td>GALAXY</td>\n",
       "      <td>1.3336</td>\n",
       "      <td>MAR</td>\n",
       "      <td>0</td>\n",
       "      <td>NaN</td>\n",
       "      <td>NaN</td>\n",
       "      <td>NaN</td>\n",
       "      <td>--</td>\n",
       "      <td>1.3336</td>\n",
       "      <td>GALAXY</td>\n",
       "      <td>1.5</td>\n",
       "      <td>3</td>\n",
       "      <td>1.3336</td>\n",
       "      <td>0.0</td>\n",
       "      <td>--|--</td>\n",
       "      <td>2</td>\n",
       "      <td>none</td>\n",
       "    </tr>\n",
       "    <tr>\n",
       "      <th>92</th>\n",
       "      <td>35185796336062284</td>\n",
       "      <td>GALAXY</td>\n",
       "      <td>1.3336</td>\n",
       "      <td>CGS</td>\n",
       "      <td>3</td>\n",
       "      <td>NaN</td>\n",
       "      <td>NaN</td>\n",
       "      <td>NaN</td>\n",
       "      <td>--</td>\n",
       "      <td>1.3336</td>\n",
       "      <td>GALAXY</td>\n",
       "      <td>1.5</td>\n",
       "      <td>3</td>\n",
       "      <td>1.3336</td>\n",
       "      <td>0.0</td>\n",
       "      <td>--|--</td>\n",
       "      <td>2</td>\n",
       "      <td>none</td>\n",
       "    </tr>\n",
       "  </tbody>\n",
       "</table>\n",
       "</div>"
      ],
      "text/plain": [
       "             TARGETID Redrock_spectype  Redrock_z VI_scanner  VI_quality  \\\n",
       "42  35185796336062284           GALAXY     1.3336        MAR           0   \n",
       "92  35185796336062284           GALAXY     1.3336        CGS           3   \n",
       "\n",
       "   VI_issue  VI_z VI_spectype VI_comment  best redshift best spectype  \\\n",
       "42      NaN   NaN         NaN         --         1.3336        GALAXY   \n",
       "92      NaN   NaN         NaN         --         1.3336        GALAXY   \n",
       "\n",
       "    vi_combined_flag  vi_diff  vi_combined_z   dz all VI comments  N_VI  \\\n",
       "42               1.5        3         1.3336  0.0           --|--     2   \n",
       "92               1.5        3         1.3336  0.0           --|--     2   \n",
       "\n",
       "   merger comment  \n",
       "42           none  \n",
       "92           none  "
      ]
     },
     "metadata": {},
     "output_type": "display_data"
    }
   ],
   "source": [
    "#Keep track of the conflicts by conflict_id\n",
    "\n",
    "#copy this text to a new cell to display the conflict\n",
    "conflict_id=0\n",
    "display_conflict(conflict_id, show_spectra=show_spectra)"
   ]
  },
  {
   "cell_type": "code",
   "execution_count": 73,
   "metadata": {},
   "outputs": [
    {
     "name": "stdout",
     "output_type": "stream",
     "text": [
      "42    3\n",
      "92    3\n",
      "Name: VI_quality, dtype: int64\n",
      "conflict ID =  0\n"
     ]
    }
   ],
   "source": [
    "#copy this text to a new cell to resolve the conflict\n",
    "#vi.loc[vi.TARGETID==unique_targets[conflict_id], 'best redshift'] = 0.0885\n",
    "vi.loc[vi.TARGETID==unique_targets[conflict_id], 'VI_quality'] = 3\n",
    "vi.loc[vi.TARGETID==unique_targets[conflict_id], 'best spectype'] = 'GALAXY'\n",
    "\n",
    "#add a comment\n",
    "vi.loc[vi.TARGETID==unique_targets[conflict_id], 'merger comment'] = 'disagreement in quality. Broad [OII] with continuum'\n",
    "\n",
    "#look at the values again to make sure all is well\n",
    "#display(vi[vi.TARGETID==unique_targets[conflict_id]])\n",
    "print(vi[vi.TARGETID==unique_targets[conflict_id]]['VI_quality'])\n",
    "print('conflict ID = ', conflict_id)"
   ]
  },
  {
   "cell_type": "code",
   "execution_count": 74,
   "metadata": {},
   "outputs": [
    {
     "data": {
      "text/html": [
       "<div>\n",
       "<style scoped>\n",
       "    .dataframe tbody tr th:only-of-type {\n",
       "        vertical-align: middle;\n",
       "    }\n",
       "\n",
       "    .dataframe tbody tr th {\n",
       "        vertical-align: top;\n",
       "    }\n",
       "\n",
       "    .dataframe thead th {\n",
       "        text-align: right;\n",
       "    }\n",
       "</style>\n",
       "<table border=\"1\" class=\"dataframe\">\n",
       "  <thead>\n",
       "    <tr style=\"text-align: right;\">\n",
       "      <th></th>\n",
       "      <th>TARGETID</th>\n",
       "      <th>Redrock_spectype</th>\n",
       "      <th>Redrock_z</th>\n",
       "      <th>VI_scanner</th>\n",
       "      <th>VI_quality</th>\n",
       "      <th>VI_issue</th>\n",
       "      <th>VI_z</th>\n",
       "      <th>VI_spectype</th>\n",
       "      <th>VI_comment</th>\n",
       "      <th>best redshift</th>\n",
       "      <th>best spectype</th>\n",
       "      <th>vi_combined_flag</th>\n",
       "      <th>vi_diff</th>\n",
       "      <th>vi_combined_z</th>\n",
       "      <th>dz</th>\n",
       "      <th>all VI comments</th>\n",
       "      <th>N_VI</th>\n",
       "      <th>merger comment</th>\n",
       "    </tr>\n",
       "  </thead>\n",
       "  <tbody>\n",
       "    <tr>\n",
       "      <th>46</th>\n",
       "      <td>35185796340253548</td>\n",
       "      <td>GALAXY</td>\n",
       "      <td>1.6349</td>\n",
       "      <td>MAR</td>\n",
       "      <td>1</td>\n",
       "      <td>NaN</td>\n",
       "      <td>NaN</td>\n",
       "      <td>NaN</td>\n",
       "      <td>--</td>\n",
       "      <td>1.6349</td>\n",
       "      <td>GALAXY</td>\n",
       "      <td>2.5</td>\n",
       "      <td>3</td>\n",
       "      <td>1.6349</td>\n",
       "      <td>0.169559</td>\n",
       "      <td>--|--</td>\n",
       "      <td>2</td>\n",
       "      <td>none</td>\n",
       "    </tr>\n",
       "    <tr>\n",
       "      <th>96</th>\n",
       "      <td>35185796340253548</td>\n",
       "      <td>GALAXY</td>\n",
       "      <td>1.6349</td>\n",
       "      <td>CGS</td>\n",
       "      <td>4</td>\n",
       "      <td>RS</td>\n",
       "      <td>1.2529</td>\n",
       "      <td>NaN</td>\n",
       "      <td>--</td>\n",
       "      <td>1.2529</td>\n",
       "      <td>GALAXY</td>\n",
       "      <td>2.5</td>\n",
       "      <td>3</td>\n",
       "      <td>1.6349</td>\n",
       "      <td>0.169559</td>\n",
       "      <td>--|--</td>\n",
       "      <td>2</td>\n",
       "      <td>none</td>\n",
       "    </tr>\n",
       "  </tbody>\n",
       "</table>\n",
       "</div>"
      ],
      "text/plain": [
       "             TARGETID Redrock_spectype  Redrock_z VI_scanner  VI_quality  \\\n",
       "46  35185796340253548           GALAXY     1.6349        MAR           1   \n",
       "96  35185796340253548           GALAXY     1.6349        CGS           4   \n",
       "\n",
       "   VI_issue    VI_z VI_spectype VI_comment  best redshift best spectype  \\\n",
       "46      NaN     NaN         NaN         --         1.6349        GALAXY   \n",
       "96       RS  1.2529         NaN         --         1.2529        GALAXY   \n",
       "\n",
       "    vi_combined_flag  vi_diff  vi_combined_z        dz all VI comments  N_VI  \\\n",
       "46               2.5        3         1.6349  0.169559           --|--     2   \n",
       "96               2.5        3         1.6349  0.169559           --|--     2   \n",
       "\n",
       "   merger comment  \n",
       "46           none  \n",
       "96           none  "
      ]
     },
     "metadata": {},
     "output_type": "display_data"
    }
   ],
   "source": [
    "#copy this text to a new cell to display the conflict\n",
    "conflict_id=1\n",
    "display_conflict(conflict_id, show_spectra=show_spectra)"
   ]
  },
  {
   "cell_type": "code",
   "execution_count": 75,
   "metadata": {},
   "outputs": [
    {
     "name": "stdout",
     "output_type": "stream",
     "text": [
      "46    4\n",
      "96    4\n",
      "Name: VI_quality, dtype: int64\n",
      "conflict ID =  1\n"
     ]
    }
   ],
   "source": [
    "#copy this text to a new cell to resolve the conflict\n",
    "vi.loc[vi.TARGETID==unique_targets[conflict_id], 'best redshift'] = 1.2529\n",
    "vi.loc[vi.TARGETID==unique_targets[conflict_id], 'VI_quality'] =4\n",
    "#vi.loc[vi.TargetID==unique_targets[conflict_id], 'best spectype'] = \n",
    "\n",
    "#add a comment\n",
    "vi.loc[vi.TARGETID==unique_targets[conflict_id], 'merger comment'] = 'Quality disagreement. Redshift is secure. Bad calibration'\n",
    "\n",
    "#look at the values again to make sure all is well\n",
    "#display(vi[vi.TARGETID==unique_targets[conflict_id]])\n",
    "print(vi[vi.TARGETID==unique_targets[conflict_id]]['VI_quality'])\n",
    "print('conflict ID = ', conflict_id)\n",
    "\n"
   ]
  },
  {
   "cell_type": "code",
   "execution_count": 76,
   "metadata": {},
   "outputs": [
    {
     "data": {
      "text/html": [
       "<div>\n",
       "<style scoped>\n",
       "    .dataframe tbody tr th:only-of-type {\n",
       "        vertical-align: middle;\n",
       "    }\n",
       "\n",
       "    .dataframe tbody tr th {\n",
       "        vertical-align: top;\n",
       "    }\n",
       "\n",
       "    .dataframe thead th {\n",
       "        text-align: right;\n",
       "    }\n",
       "</style>\n",
       "<table border=\"1\" class=\"dataframe\">\n",
       "  <thead>\n",
       "    <tr style=\"text-align: right;\">\n",
       "      <th></th>\n",
       "      <th>TARGETID</th>\n",
       "      <th>Redrock_spectype</th>\n",
       "      <th>Redrock_z</th>\n",
       "      <th>VI_scanner</th>\n",
       "      <th>VI_quality</th>\n",
       "      <th>VI_issue</th>\n",
       "      <th>VI_z</th>\n",
       "      <th>VI_spectype</th>\n",
       "      <th>VI_comment</th>\n",
       "      <th>best redshift</th>\n",
       "      <th>best spectype</th>\n",
       "      <th>vi_combined_flag</th>\n",
       "      <th>vi_diff</th>\n",
       "      <th>vi_combined_z</th>\n",
       "      <th>dz</th>\n",
       "      <th>all VI comments</th>\n",
       "      <th>N_VI</th>\n",
       "      <th>merger comment</th>\n",
       "    </tr>\n",
       "  </thead>\n",
       "  <tbody>\n",
       "    <tr>\n",
       "      <th>44</th>\n",
       "      <td>35185796340255905</td>\n",
       "      <td>GALAXY</td>\n",
       "      <td>0.9413</td>\n",
       "      <td>MAR</td>\n",
       "      <td>0</td>\n",
       "      <td>NaN</td>\n",
       "      <td>NaN</td>\n",
       "      <td>NaN</td>\n",
       "      <td>--</td>\n",
       "      <td>0.9413</td>\n",
       "      <td>GALAXY</td>\n",
       "      <td>2.0</td>\n",
       "      <td>4</td>\n",
       "      <td>0.9413</td>\n",
       "      <td>0.343121</td>\n",
       "      <td>--|--</td>\n",
       "      <td>2</td>\n",
       "      <td>none</td>\n",
       "    </tr>\n",
       "    <tr>\n",
       "      <th>94</th>\n",
       "      <td>35185796340255905</td>\n",
       "      <td>GALAXY</td>\n",
       "      <td>0.9413</td>\n",
       "      <td>CGS</td>\n",
       "      <td>4</td>\n",
       "      <td>R</td>\n",
       "      <td>1.6074</td>\n",
       "      <td>NaN</td>\n",
       "      <td>--</td>\n",
       "      <td>1.6074</td>\n",
       "      <td>GALAXY</td>\n",
       "      <td>2.0</td>\n",
       "      <td>4</td>\n",
       "      <td>0.9413</td>\n",
       "      <td>0.343121</td>\n",
       "      <td>--|--</td>\n",
       "      <td>2</td>\n",
       "      <td>none</td>\n",
       "    </tr>\n",
       "  </tbody>\n",
       "</table>\n",
       "</div>"
      ],
      "text/plain": [
       "             TARGETID Redrock_spectype  Redrock_z VI_scanner  VI_quality  \\\n",
       "44  35185796340255905           GALAXY     0.9413        MAR           0   \n",
       "94  35185796340255905           GALAXY     0.9413        CGS           4   \n",
       "\n",
       "   VI_issue    VI_z VI_spectype VI_comment  best redshift best spectype  \\\n",
       "44      NaN     NaN         NaN         --         0.9413        GALAXY   \n",
       "94        R  1.6074         NaN         --         1.6074        GALAXY   \n",
       "\n",
       "    vi_combined_flag  vi_diff  vi_combined_z        dz all VI comments  N_VI  \\\n",
       "44               2.0        4         0.9413  0.343121           --|--     2   \n",
       "94               2.0        4         0.9413  0.343121           --|--     2   \n",
       "\n",
       "   merger comment  \n",
       "44           none  \n",
       "94           none  "
      ]
     },
     "metadata": {},
     "output_type": "display_data"
    }
   ],
   "source": [
    "#copy this text to a new cell to display the conflict\n",
    "conflict_id=2\n",
    "display_conflict(conflict_id, show_spectra=show_spectra)"
   ]
  },
  {
   "cell_type": "code",
   "execution_count": 77,
   "metadata": {},
   "outputs": [
    {
     "name": "stdout",
     "output_type": "stream",
     "text": [
      "conflict ID =  2\n"
     ]
    }
   ],
   "source": [
    "#copy this text to a new cell to resolve the conflict\n",
    "vi.loc[vi.TARGETID==unique_targets[conflict_id], 'best redshift'] = 1.6074\n",
    "vi.loc[vi.TARGETID==unique_targets[conflict_id], 'VI_quality'] = 4\n",
    "#vi.loc[vi.TargetID==unique_targets[conflict_id], 'best spectype'] = \n",
    "\n",
    "#add a comment\n",
    "vi.loc[vi.TARGETID==unique_targets[conflict_id], 'merger comment'] = 'disagreement in quality. [OII] is secure.'\n",
    "\n",
    "#look at the values again to make sure all is well\n",
    "#display(vi[vi.TARGETID==unique_targets[conflict_id]])\n",
    "print('conflict ID = ', conflict_id)\n"
   ]
  },
  {
   "cell_type": "code",
   "execution_count": 78,
   "metadata": {},
   "outputs": [
    {
     "data": {
      "text/html": [
       "<div>\n",
       "<style scoped>\n",
       "    .dataframe tbody tr th:only-of-type {\n",
       "        vertical-align: middle;\n",
       "    }\n",
       "\n",
       "    .dataframe tbody tr th {\n",
       "        vertical-align: top;\n",
       "    }\n",
       "\n",
       "    .dataframe thead th {\n",
       "        text-align: right;\n",
       "    }\n",
       "</style>\n",
       "<table border=\"1\" class=\"dataframe\">\n",
       "  <thead>\n",
       "    <tr style=\"text-align: right;\">\n",
       "      <th></th>\n",
       "      <th>TARGETID</th>\n",
       "      <th>Redrock_spectype</th>\n",
       "      <th>Redrock_z</th>\n",
       "      <th>VI_scanner</th>\n",
       "      <th>VI_quality</th>\n",
       "      <th>VI_issue</th>\n",
       "      <th>VI_z</th>\n",
       "      <th>VI_spectype</th>\n",
       "      <th>VI_comment</th>\n",
       "      <th>best redshift</th>\n",
       "      <th>best spectype</th>\n",
       "      <th>vi_combined_flag</th>\n",
       "      <th>vi_diff</th>\n",
       "      <th>vi_combined_z</th>\n",
       "      <th>dz</th>\n",
       "      <th>all VI comments</th>\n",
       "      <th>N_VI</th>\n",
       "      <th>merger comment</th>\n",
       "    </tr>\n",
       "  </thead>\n",
       "  <tbody>\n",
       "    <tr>\n",
       "      <th>49</th>\n",
       "      <td>35185796344449049</td>\n",
       "      <td>GALAXY</td>\n",
       "      <td>0.5039</td>\n",
       "      <td>MAR</td>\n",
       "      <td>0</td>\n",
       "      <td>NaN</td>\n",
       "      <td>NaN</td>\n",
       "      <td>NaN</td>\n",
       "      <td>--</td>\n",
       "      <td>0.5039</td>\n",
       "      <td>GALAXY</td>\n",
       "      <td>2.0</td>\n",
       "      <td>4</td>\n",
       "      <td>0.5039</td>\n",
       "      <td>0.293171</td>\n",
       "      <td>--|--</td>\n",
       "      <td>2</td>\n",
       "      <td>none</td>\n",
       "    </tr>\n",
       "    <tr>\n",
       "      <th>99</th>\n",
       "      <td>35185796344449049</td>\n",
       "      <td>GALAXY</td>\n",
       "      <td>0.5039</td>\n",
       "      <td>CGS</td>\n",
       "      <td>4</td>\n",
       "      <td>RS</td>\n",
       "      <td>0.9448</td>\n",
       "      <td>NaN</td>\n",
       "      <td>--</td>\n",
       "      <td>0.9448</td>\n",
       "      <td>GALAXY</td>\n",
       "      <td>2.0</td>\n",
       "      <td>4</td>\n",
       "      <td>0.5039</td>\n",
       "      <td>0.293171</td>\n",
       "      <td>--|--</td>\n",
       "      <td>2</td>\n",
       "      <td>none</td>\n",
       "    </tr>\n",
       "  </tbody>\n",
       "</table>\n",
       "</div>"
      ],
      "text/plain": [
       "             TARGETID Redrock_spectype  Redrock_z VI_scanner  VI_quality  \\\n",
       "49  35185796344449049           GALAXY     0.5039        MAR           0   \n",
       "99  35185796344449049           GALAXY     0.5039        CGS           4   \n",
       "\n",
       "   VI_issue    VI_z VI_spectype VI_comment  best redshift best spectype  \\\n",
       "49      NaN     NaN         NaN         --         0.5039        GALAXY   \n",
       "99       RS  0.9448         NaN         --         0.9448        GALAXY   \n",
       "\n",
       "    vi_combined_flag  vi_diff  vi_combined_z        dz all VI comments  N_VI  \\\n",
       "49               2.0        4         0.5039  0.293171           --|--     2   \n",
       "99               2.0        4         0.5039  0.293171           --|--     2   \n",
       "\n",
       "   merger comment  \n",
       "49           none  \n",
       "99           none  "
      ]
     },
     "metadata": {},
     "output_type": "display_data"
    }
   ],
   "source": [
    "#copy this text to a new cell to display the conflict\n",
    "conflict_id=3\n",
    "display_conflict(conflict_id, show_spectra=show_spectra)\n"
   ]
  },
  {
   "cell_type": "code",
   "execution_count": 79,
   "metadata": {},
   "outputs": [
    {
     "name": "stdout",
     "output_type": "stream",
     "text": [
      "49    4\n",
      "99    4\n",
      "Name: VI_quality, dtype: int64\n",
      "conflict ID =  3\n"
     ]
    }
   ],
   "source": [
    "#copy this text to a new cell to resolve the conflict\n",
    "vi.loc[vi.TARGETID==unique_targets[conflict_id], 'best redshift'] = 0.9448\n",
    "vi.loc[vi.TARGETID==unique_targets[conflict_id], 'VI_quality'] = 4\n",
    "#vi.loc[vi.TargetID==unique_targets[conflict_id], 'best spectype'] = 'GALAXY' \n",
    "\n",
    "#add a comment\n",
    "vi.loc[vi.TARGETID==unique_targets[conflict_id], 'merger comment'] = 'disagreement in quality. Redshift is secure. Bad calibration'\n",
    "\n",
    "#look at the values again to make sure all is well\n",
    "#display(vi[vi.TARGETID==unique_targets[conflict_id]])\n",
    "print(vi[vi.TARGETID==unique_targets[conflict_id]]['VI_quality'])\n",
    "print('conflict ID = ', conflict_id)\n"
   ]
  },
  {
   "cell_type": "code",
   "execution_count": 80,
   "metadata": {},
   "outputs": [
    {
     "data": {
      "text/html": [
       "<div>\n",
       "<style scoped>\n",
       "    .dataframe tbody tr th:only-of-type {\n",
       "        vertical-align: middle;\n",
       "    }\n",
       "\n",
       "    .dataframe tbody tr th {\n",
       "        vertical-align: top;\n",
       "    }\n",
       "\n",
       "    .dataframe thead th {\n",
       "        text-align: right;\n",
       "    }\n",
       "</style>\n",
       "<table border=\"1\" class=\"dataframe\">\n",
       "  <thead>\n",
       "    <tr style=\"text-align: right;\">\n",
       "      <th></th>\n",
       "      <th>TARGETID</th>\n",
       "      <th>Redrock_spectype</th>\n",
       "      <th>Redrock_z</th>\n",
       "      <th>VI_scanner</th>\n",
       "      <th>VI_quality</th>\n",
       "      <th>VI_issue</th>\n",
       "      <th>VI_z</th>\n",
       "      <th>VI_spectype</th>\n",
       "      <th>VI_comment</th>\n",
       "      <th>best redshift</th>\n",
       "      <th>best spectype</th>\n",
       "      <th>vi_combined_flag</th>\n",
       "      <th>vi_diff</th>\n",
       "      <th>vi_combined_z</th>\n",
       "      <th>dz</th>\n",
       "      <th>all VI comments</th>\n",
       "      <th>N_VI</th>\n",
       "      <th>merger comment</th>\n",
       "    </tr>\n",
       "  </thead>\n",
       "  <tbody>\n",
       "    <tr>\n",
       "      <th>2</th>\n",
       "      <td>35185802342302740</td>\n",
       "      <td>GALAXY</td>\n",
       "      <td>0.7619</td>\n",
       "      <td>MAR</td>\n",
       "      <td>2</td>\n",
       "      <td>NaN</td>\n",
       "      <td>0.7622</td>\n",
       "      <td>NaN</td>\n",
       "      <td>--</td>\n",
       "      <td>0.7622</td>\n",
       "      <td>GALAXY</td>\n",
       "      <td>3.0</td>\n",
       "      <td>2</td>\n",
       "      <td>0.76205</td>\n",
       "      <td>0.00017</td>\n",
       "      <td>--|--</td>\n",
       "      <td>2</td>\n",
       "      <td>none</td>\n",
       "    </tr>\n",
       "    <tr>\n",
       "      <th>52</th>\n",
       "      <td>35185802342302740</td>\n",
       "      <td>GALAXY</td>\n",
       "      <td>0.7619</td>\n",
       "      <td>CGS</td>\n",
       "      <td>4</td>\n",
       "      <td>NaN</td>\n",
       "      <td>NaN</td>\n",
       "      <td>NaN</td>\n",
       "      <td>--</td>\n",
       "      <td>0.7619</td>\n",
       "      <td>GALAXY</td>\n",
       "      <td>3.0</td>\n",
       "      <td>2</td>\n",
       "      <td>0.76205</td>\n",
       "      <td>0.00017</td>\n",
       "      <td>--|--</td>\n",
       "      <td>2</td>\n",
       "      <td>none</td>\n",
       "    </tr>\n",
       "  </tbody>\n",
       "</table>\n",
       "</div>"
      ],
      "text/plain": [
       "             TARGETID Redrock_spectype  Redrock_z VI_scanner  VI_quality  \\\n",
       "2   35185802342302740           GALAXY     0.7619        MAR           2   \n",
       "52  35185802342302740           GALAXY     0.7619        CGS           4   \n",
       "\n",
       "   VI_issue    VI_z VI_spectype VI_comment  best redshift best spectype  \\\n",
       "2       NaN  0.7622         NaN         --         0.7622        GALAXY   \n",
       "52      NaN     NaN         NaN         --         0.7619        GALAXY   \n",
       "\n",
       "    vi_combined_flag  vi_diff  vi_combined_z       dz all VI comments  N_VI  \\\n",
       "2                3.0        2        0.76205  0.00017           --|--     2   \n",
       "52               3.0        2        0.76205  0.00017           --|--     2   \n",
       "\n",
       "   merger comment  \n",
       "2            none  \n",
       "52           none  "
      ]
     },
     "metadata": {},
     "output_type": "display_data"
    }
   ],
   "source": [
    "#copy this text to a new cell to display the conflict\n",
    "conflict_id=4\n",
    "display_conflict(conflict_id, show_spectra=show_spectra)\n"
   ]
  },
  {
   "cell_type": "code",
   "execution_count": 81,
   "metadata": {},
   "outputs": [
    {
     "name": "stdout",
     "output_type": "stream",
     "text": [
      "2     4\n",
      "52    4\n",
      "Name: VI_quality, dtype: int64\n",
      "conflict ID =  4\n"
     ]
    }
   ],
   "source": [
    "#copy this text to a new cell to resolve the conflict\n",
    "vi.loc[vi.TARGETID==unique_targets[conflict_id], 'best redshift'] = 0.7622\n",
    "vi.loc[vi.TARGETID==unique_targets[conflict_id], 'VI_quality'] = 4\n",
    "#vi.loc[vi.TargetID==unique_targets[conflict_id], 'best spectype'] = \n",
    "\n",
    "#add a comment\n",
    "vi.loc[vi.TARGETID==unique_targets[conflict_id], 'merger comment'] = 'disagreement in flag. Redshift is secure'\n",
    "\n",
    "#look at the values again to make sure all is well\n",
    "#display(vi[vi.TARGETID==unique_targets[conflict_id]])\n",
    "print(vi[vi.TARGETID==unique_targets[conflict_id]]['VI_quality'])\n",
    "print('conflict ID = ', conflict_id)"
   ]
  },
  {
   "cell_type": "code",
   "execution_count": 82,
   "metadata": {},
   "outputs": [
    {
     "data": {
      "text/html": [
       "<div>\n",
       "<style scoped>\n",
       "    .dataframe tbody tr th:only-of-type {\n",
       "        vertical-align: middle;\n",
       "    }\n",
       "\n",
       "    .dataframe tbody tr th {\n",
       "        vertical-align: top;\n",
       "    }\n",
       "\n",
       "    .dataframe thead th {\n",
       "        text-align: right;\n",
       "    }\n",
       "</style>\n",
       "<table border=\"1\" class=\"dataframe\">\n",
       "  <thead>\n",
       "    <tr style=\"text-align: right;\">\n",
       "      <th></th>\n",
       "      <th>TARGETID</th>\n",
       "      <th>Redrock_spectype</th>\n",
       "      <th>Redrock_z</th>\n",
       "      <th>VI_scanner</th>\n",
       "      <th>VI_quality</th>\n",
       "      <th>VI_issue</th>\n",
       "      <th>VI_z</th>\n",
       "      <th>VI_spectype</th>\n",
       "      <th>VI_comment</th>\n",
       "      <th>best redshift</th>\n",
       "      <th>best spectype</th>\n",
       "      <th>vi_combined_flag</th>\n",
       "      <th>vi_diff</th>\n",
       "      <th>vi_combined_z</th>\n",
       "      <th>dz</th>\n",
       "      <th>all VI comments</th>\n",
       "      <th>N_VI</th>\n",
       "      <th>merger comment</th>\n",
       "    </tr>\n",
       "  </thead>\n",
       "  <tbody>\n",
       "    <tr>\n",
       "      <th>37</th>\n",
       "      <td>35185802359080077</td>\n",
       "      <td>GALAXY</td>\n",
       "      <td>0.9747</td>\n",
       "      <td>MAR</td>\n",
       "      <td>3</td>\n",
       "      <td>NaN</td>\n",
       "      <td>1.0403</td>\n",
       "      <td>NaN</td>\n",
       "      <td>--</td>\n",
       "      <td>1.0403</td>\n",
       "      <td>GALAXY</td>\n",
       "      <td>1.5</td>\n",
       "      <td>3</td>\n",
       "      <td>0.9747</td>\n",
       "      <td>0.03322</td>\n",
       "      <td>--|--</td>\n",
       "      <td>2</td>\n",
       "      <td>none</td>\n",
       "    </tr>\n",
       "    <tr>\n",
       "      <th>87</th>\n",
       "      <td>35185802359080077</td>\n",
       "      <td>GALAXY</td>\n",
       "      <td>0.9747</td>\n",
       "      <td>CGS</td>\n",
       "      <td>0</td>\n",
       "      <td>NaN</td>\n",
       "      <td>NaN</td>\n",
       "      <td>NaN</td>\n",
       "      <td>--</td>\n",
       "      <td>0.9747</td>\n",
       "      <td>GALAXY</td>\n",
       "      <td>1.5</td>\n",
       "      <td>3</td>\n",
       "      <td>0.9747</td>\n",
       "      <td>0.03322</td>\n",
       "      <td>--|--</td>\n",
       "      <td>2</td>\n",
       "      <td>none</td>\n",
       "    </tr>\n",
       "  </tbody>\n",
       "</table>\n",
       "</div>"
      ],
      "text/plain": [
       "             TARGETID Redrock_spectype  Redrock_z VI_scanner  VI_quality  \\\n",
       "37  35185802359080077           GALAXY     0.9747        MAR           3   \n",
       "87  35185802359080077           GALAXY     0.9747        CGS           0   \n",
       "\n",
       "   VI_issue    VI_z VI_spectype VI_comment  best redshift best spectype  \\\n",
       "37      NaN  1.0403         NaN         --         1.0403        GALAXY   \n",
       "87      NaN     NaN         NaN         --         0.9747        GALAXY   \n",
       "\n",
       "    vi_combined_flag  vi_diff  vi_combined_z       dz all VI comments  N_VI  \\\n",
       "37               1.5        3         0.9747  0.03322           --|--     2   \n",
       "87               1.5        3         0.9747  0.03322           --|--     2   \n",
       "\n",
       "   merger comment  \n",
       "37           none  \n",
       "87           none  "
      ]
     },
     "metadata": {},
     "output_type": "display_data"
    }
   ],
   "source": [
    "#copy this text to a new cell to display the conflict\n",
    "conflict_id=5\n",
    "display_conflict(conflict_id, show_spectra=show_spectra)"
   ]
  },
  {
   "cell_type": "code",
   "execution_count": 83,
   "metadata": {},
   "outputs": [
    {
     "name": "stdout",
     "output_type": "stream",
     "text": [
      "conflict ID =  5\n"
     ]
    }
   ],
   "source": [
    "#copy this text to a new cell to resolve the conflict\n",
    "#vi.loc[vi.TargetID==unique_targets[conflict_id], 'best redshift'] = \n",
    "vi.loc[vi.TARGETID==unique_targets[conflict_id], 'VI_quality'] = 1\n",
    "vi.loc[vi.TARGETID==unique_targets[conflict_id], 'best spectype'] = 'GALAXY'\n",
    "\n",
    "#add a comment\n",
    "vi.loc[vi.TARGETID==unique_targets[conflict_id], 'merger comment'] = 'disagreement in type.  Not obviou features'\n",
    "\n",
    "#look at the values again to make sure all is well\n",
    "#display(vi[vi.TARGETID==unique_targets[conflict_id]])\n",
    "print('conflict ID = ', conflict_id)\n",
    "\n"
   ]
  },
  {
   "cell_type": "code",
   "execution_count": 84,
   "metadata": {},
   "outputs": [
    {
     "data": {
      "text/html": [
       "<div>\n",
       "<style scoped>\n",
       "    .dataframe tbody tr th:only-of-type {\n",
       "        vertical-align: middle;\n",
       "    }\n",
       "\n",
       "    .dataframe tbody tr th {\n",
       "        vertical-align: top;\n",
       "    }\n",
       "\n",
       "    .dataframe thead th {\n",
       "        text-align: right;\n",
       "    }\n",
       "</style>\n",
       "<table border=\"1\" class=\"dataframe\">\n",
       "  <thead>\n",
       "    <tr style=\"text-align: right;\">\n",
       "      <th></th>\n",
       "      <th>TARGETID</th>\n",
       "      <th>Redrock_spectype</th>\n",
       "      <th>Redrock_z</th>\n",
       "      <th>VI_scanner</th>\n",
       "      <th>VI_quality</th>\n",
       "      <th>VI_issue</th>\n",
       "      <th>VI_z</th>\n",
       "      <th>VI_spectype</th>\n",
       "      <th>VI_comment</th>\n",
       "      <th>best redshift</th>\n",
       "      <th>best spectype</th>\n",
       "      <th>vi_combined_flag</th>\n",
       "      <th>vi_diff</th>\n",
       "      <th>vi_combined_z</th>\n",
       "      <th>dz</th>\n",
       "      <th>all VI comments</th>\n",
       "      <th>N_VI</th>\n",
       "      <th>merger comment</th>\n",
       "    </tr>\n",
       "  </thead>\n",
       "  <tbody>\n",
       "    <tr>\n",
       "      <th>107</th>\n",
       "      <td>35185802363276778</td>\n",
       "      <td>GALAXY</td>\n",
       "      <td>1.0694</td>\n",
       "      <td>MAR</td>\n",
       "      <td>2</td>\n",
       "      <td>NaN</td>\n",
       "      <td>NaN</td>\n",
       "      <td>NaN</td>\n",
       "      <td>--</td>\n",
       "      <td>1.0694</td>\n",
       "      <td>GALAXY</td>\n",
       "      <td>3.0</td>\n",
       "      <td>2</td>\n",
       "      <td>1.0694</td>\n",
       "      <td>0.0</td>\n",
       "      <td>--|--</td>\n",
       "      <td>2</td>\n",
       "      <td>none</td>\n",
       "    </tr>\n",
       "    <tr>\n",
       "      <th>137</th>\n",
       "      <td>35185802363276778</td>\n",
       "      <td>GALAXY</td>\n",
       "      <td>1.0694</td>\n",
       "      <td>CGS</td>\n",
       "      <td>4</td>\n",
       "      <td>S</td>\n",
       "      <td>NaN</td>\n",
       "      <td>NaN</td>\n",
       "      <td>--</td>\n",
       "      <td>1.0694</td>\n",
       "      <td>GALAXY</td>\n",
       "      <td>3.0</td>\n",
       "      <td>2</td>\n",
       "      <td>1.0694</td>\n",
       "      <td>0.0</td>\n",
       "      <td>--|--</td>\n",
       "      <td>2</td>\n",
       "      <td>none</td>\n",
       "    </tr>\n",
       "  </tbody>\n",
       "</table>\n",
       "</div>"
      ],
      "text/plain": [
       "              TARGETID Redrock_spectype  Redrock_z VI_scanner  VI_quality  \\\n",
       "107  35185802363276778           GALAXY     1.0694        MAR           2   \n",
       "137  35185802363276778           GALAXY     1.0694        CGS           4   \n",
       "\n",
       "    VI_issue  VI_z VI_spectype VI_comment  best redshift best spectype  \\\n",
       "107      NaN   NaN         NaN         --         1.0694        GALAXY   \n",
       "137        S   NaN         NaN         --         1.0694        GALAXY   \n",
       "\n",
       "     vi_combined_flag  vi_diff  vi_combined_z   dz all VI comments  N_VI  \\\n",
       "107               3.0        2         1.0694  0.0           --|--     2   \n",
       "137               3.0        2         1.0694  0.0           --|--     2   \n",
       "\n",
       "    merger comment  \n",
       "107           none  \n",
       "137           none  "
      ]
     },
     "metadata": {},
     "output_type": "display_data"
    }
   ],
   "source": [
    "#copy this text to a new cell to display the conflict\n",
    "conflict_id=6\n",
    "display_conflict(conflict_id, show_spectra=show_spectra)\n"
   ]
  },
  {
   "cell_type": "code",
   "execution_count": 85,
   "metadata": {},
   "outputs": [
    {
     "name": "stdout",
     "output_type": "stream",
     "text": [
      "conflict ID =  6\n"
     ]
    }
   ],
   "source": [
    "#copy this text to a new cell to resolve the conflict\n",
    "#vi.loc[vi.TARGETID==unique_targets[conflict_id], 'best redshift'] = 1.5\n",
    "vi.loc[vi.TARGETID==unique_targets[conflict_id], 'VI_quality'] = 4\n",
    "#vi.loc[vi.TargetID==unique_targets[conflict_id], 'best spectype'] = \n",
    "\n",
    "#add a comment\n",
    "vi.loc[vi.TARGETID==unique_targets[conflict_id], 'merger comment'] = 'Bad calibration. Redshift is secure'\n",
    "\n",
    "#look at the values again to make sure all is well\n",
    "#display(vi[vi.TARGETID==unique_targets[conflict_id]])\n",
    "print('conflict ID = ', conflict_id)\n"
   ]
  },
  {
   "cell_type": "code",
   "execution_count": 86,
   "metadata": {},
   "outputs": [
    {
     "data": {
      "text/html": [
       "<div>\n",
       "<style scoped>\n",
       "    .dataframe tbody tr th:only-of-type {\n",
       "        vertical-align: middle;\n",
       "    }\n",
       "\n",
       "    .dataframe tbody tr th {\n",
       "        vertical-align: top;\n",
       "    }\n",
       "\n",
       "    .dataframe thead th {\n",
       "        text-align: right;\n",
       "    }\n",
       "</style>\n",
       "<table border=\"1\" class=\"dataframe\">\n",
       "  <thead>\n",
       "    <tr style=\"text-align: right;\">\n",
       "      <th></th>\n",
       "      <th>TARGETID</th>\n",
       "      <th>Redrock_spectype</th>\n",
       "      <th>Redrock_z</th>\n",
       "      <th>VI_scanner</th>\n",
       "      <th>VI_quality</th>\n",
       "      <th>VI_issue</th>\n",
       "      <th>VI_z</th>\n",
       "      <th>VI_spectype</th>\n",
       "      <th>VI_comment</th>\n",
       "      <th>best redshift</th>\n",
       "      <th>best spectype</th>\n",
       "      <th>vi_combined_flag</th>\n",
       "      <th>vi_diff</th>\n",
       "      <th>vi_combined_z</th>\n",
       "      <th>dz</th>\n",
       "      <th>all VI comments</th>\n",
       "      <th>N_VI</th>\n",
       "      <th>merger comment</th>\n",
       "    </tr>\n",
       "  </thead>\n",
       "  <tbody>\n",
       "    <tr>\n",
       "      <th>108</th>\n",
       "      <td>35185802363277027</td>\n",
       "      <td>GALAXY</td>\n",
       "      <td>0.5654</td>\n",
       "      <td>MAR</td>\n",
       "      <td>2</td>\n",
       "      <td>NaN</td>\n",
       "      <td>1.0406</td>\n",
       "      <td>NaN</td>\n",
       "      <td>--</td>\n",
       "      <td>1.0406</td>\n",
       "      <td>GALAXY</td>\n",
       "      <td>2.5</td>\n",
       "      <td>1</td>\n",
       "      <td>0.5654</td>\n",
       "      <td>0.303565</td>\n",
       "      <td>--|--</td>\n",
       "      <td>2</td>\n",
       "      <td>none</td>\n",
       "    </tr>\n",
       "    <tr>\n",
       "      <th>138</th>\n",
       "      <td>35185802363277027</td>\n",
       "      <td>GALAXY</td>\n",
       "      <td>0.5654</td>\n",
       "      <td>CGS</td>\n",
       "      <td>3</td>\n",
       "      <td>S</td>\n",
       "      <td>NaN</td>\n",
       "      <td>NaN</td>\n",
       "      <td>--</td>\n",
       "      <td>0.5654</td>\n",
       "      <td>GALAXY</td>\n",
       "      <td>2.5</td>\n",
       "      <td>1</td>\n",
       "      <td>0.5654</td>\n",
       "      <td>0.303565</td>\n",
       "      <td>--|--</td>\n",
       "      <td>2</td>\n",
       "      <td>none</td>\n",
       "    </tr>\n",
       "  </tbody>\n",
       "</table>\n",
       "</div>"
      ],
      "text/plain": [
       "              TARGETID Redrock_spectype  Redrock_z VI_scanner  VI_quality  \\\n",
       "108  35185802363277027           GALAXY     0.5654        MAR           2   \n",
       "138  35185802363277027           GALAXY     0.5654        CGS           3   \n",
       "\n",
       "    VI_issue    VI_z VI_spectype VI_comment  best redshift best spectype  \\\n",
       "108      NaN  1.0406         NaN         --         1.0406        GALAXY   \n",
       "138        S     NaN         NaN         --         0.5654        GALAXY   \n",
       "\n",
       "     vi_combined_flag  vi_diff  vi_combined_z        dz all VI comments  N_VI  \\\n",
       "108               2.5        1         0.5654  0.303565           --|--     2   \n",
       "138               2.5        1         0.5654  0.303565           --|--     2   \n",
       "\n",
       "    merger comment  \n",
       "108           none  \n",
       "138           none  "
      ]
     },
     "metadata": {},
     "output_type": "display_data"
    }
   ],
   "source": [
    "#copy this text to a new cell to display the conflict\n",
    "conflict_id=7\n",
    "display_conflict(conflict_id, show_spectra=show_spectra)"
   ]
  },
  {
   "cell_type": "code",
   "execution_count": 87,
   "metadata": {},
   "outputs": [
    {
     "name": "stdout",
     "output_type": "stream",
     "text": [
      "conflict ID =  7\n"
     ]
    }
   ],
   "source": [
    "#copy this text to a new cell to resolve the conflict\n",
    "#vi.loc[vi.TARGETID==unique_targets[conflict_id], 'best redshift'] = 0.1847\n",
    "vi.loc[vi.TARGETID==unique_targets[conflict_id], 'VI_quality'] = 1\n",
    "#vi.loc[vi.TargetID==unique_targets[conflict_id], 'best spectype'] = 'GALAXY'\n",
    "\n",
    "#add a comment\n",
    "vi.loc[vi.TARGETID==unique_targets[conflict_id], 'merger comment'] = 'disagreement in flag. Reshift is not secure. Bad calibration'\n",
    "\n",
    "##look at the values again to make sure all is well\n",
    "#display(vi[vi.TARGETID==unique_targets[conflict_id]])\n",
    "print('conflict ID = ', conflict_id)\n"
   ]
  },
  {
   "cell_type": "code",
   "execution_count": 88,
   "metadata": {},
   "outputs": [
    {
     "data": {
      "text/html": [
       "<div>\n",
       "<style scoped>\n",
       "    .dataframe tbody tr th:only-of-type {\n",
       "        vertical-align: middle;\n",
       "    }\n",
       "\n",
       "    .dataframe tbody tr th {\n",
       "        vertical-align: top;\n",
       "    }\n",
       "\n",
       "    .dataframe thead th {\n",
       "        text-align: right;\n",
       "    }\n",
       "</style>\n",
       "<table border=\"1\" class=\"dataframe\">\n",
       "  <thead>\n",
       "    <tr style=\"text-align: right;\">\n",
       "      <th></th>\n",
       "      <th>TARGETID</th>\n",
       "      <th>Redrock_spectype</th>\n",
       "      <th>Redrock_z</th>\n",
       "      <th>VI_scanner</th>\n",
       "      <th>VI_quality</th>\n",
       "      <th>VI_issue</th>\n",
       "      <th>VI_z</th>\n",
       "      <th>VI_spectype</th>\n",
       "      <th>VI_comment</th>\n",
       "      <th>best redshift</th>\n",
       "      <th>best spectype</th>\n",
       "      <th>vi_combined_flag</th>\n",
       "      <th>vi_diff</th>\n",
       "      <th>vi_combined_z</th>\n",
       "      <th>dz</th>\n",
       "      <th>all VI comments</th>\n",
       "      <th>N_VI</th>\n",
       "      <th>merger comment</th>\n",
       "    </tr>\n",
       "  </thead>\n",
       "  <tbody>\n",
       "    <tr>\n",
       "      <th>111</th>\n",
       "      <td>35185802367473057</td>\n",
       "      <td>GALAXY</td>\n",
       "      <td>0.9837</td>\n",
       "      <td>MAR</td>\n",
       "      <td>2</td>\n",
       "      <td>NaN</td>\n",
       "      <td>NaN</td>\n",
       "      <td>NaN</td>\n",
       "      <td>--</td>\n",
       "      <td>0.9837</td>\n",
       "      <td>GALAXY</td>\n",
       "      <td>3.0</td>\n",
       "      <td>2</td>\n",
       "      <td>0.9837</td>\n",
       "      <td>0.0</td>\n",
       "      <td>--|--</td>\n",
       "      <td>2</td>\n",
       "      <td>none</td>\n",
       "    </tr>\n",
       "    <tr>\n",
       "      <th>141</th>\n",
       "      <td>35185802367473057</td>\n",
       "      <td>GALAXY</td>\n",
       "      <td>0.9837</td>\n",
       "      <td>CGS</td>\n",
       "      <td>4</td>\n",
       "      <td>NaN</td>\n",
       "      <td>NaN</td>\n",
       "      <td>NaN</td>\n",
       "      <td>--</td>\n",
       "      <td>0.9837</td>\n",
       "      <td>GALAXY</td>\n",
       "      <td>3.0</td>\n",
       "      <td>2</td>\n",
       "      <td>0.9837</td>\n",
       "      <td>0.0</td>\n",
       "      <td>--|--</td>\n",
       "      <td>2</td>\n",
       "      <td>none</td>\n",
       "    </tr>\n",
       "  </tbody>\n",
       "</table>\n",
       "</div>"
      ],
      "text/plain": [
       "              TARGETID Redrock_spectype  Redrock_z VI_scanner  VI_quality  \\\n",
       "111  35185802367473057           GALAXY     0.9837        MAR           2   \n",
       "141  35185802367473057           GALAXY     0.9837        CGS           4   \n",
       "\n",
       "    VI_issue  VI_z VI_spectype VI_comment  best redshift best spectype  \\\n",
       "111      NaN   NaN         NaN         --         0.9837        GALAXY   \n",
       "141      NaN   NaN         NaN         --         0.9837        GALAXY   \n",
       "\n",
       "     vi_combined_flag  vi_diff  vi_combined_z   dz all VI comments  N_VI  \\\n",
       "111               3.0        2         0.9837  0.0           --|--     2   \n",
       "141               3.0        2         0.9837  0.0           --|--     2   \n",
       "\n",
       "    merger comment  \n",
       "111           none  \n",
       "141           none  "
      ]
     },
     "metadata": {},
     "output_type": "display_data"
    }
   ],
   "source": [
    "#copy this text to a new cell to display the conflict\n",
    "conflict_id=8\n",
    "display_conflict(conflict_id, show_spectra=show_spectra)\n"
   ]
  },
  {
   "cell_type": "code",
   "execution_count": 89,
   "metadata": {},
   "outputs": [
    {
     "name": "stdout",
     "output_type": "stream",
     "text": [
      "conflict ID =  8\n"
     ]
    }
   ],
   "source": [
    "#copy this text to a new cell to resolve the conflict\n",
    "#vi.loc[vi.TARGETID==unique_targets[conflict_id], 'best redshift'] = 0.1920\n",
    "vi.loc[vi.TARGETID==unique_targets[conflict_id], 'VI_quality'] = 3\n",
    "#vi.loc[vi.TargetID==unique_targets[conflict_id], 'best spectype'] = \n",
    "\n",
    "#add a comment\n",
    "vi.loc[vi.TARGETID==unique_targets[conflict_id], 'merger comment'] = \"Broad [OII]. Calibration features\"\n",
    "\n",
    "#look at the values again to make sure all is well\n",
    "#display(vi[vi.TARGETID==unique_targets[conflict_id]])\n",
    "print('conflict ID = ', conflict_id)\n",
    "\n"
   ]
  },
  {
   "cell_type": "code",
   "execution_count": 90,
   "metadata": {},
   "outputs": [
    {
     "data": {
      "text/html": [
       "<div>\n",
       "<style scoped>\n",
       "    .dataframe tbody tr th:only-of-type {\n",
       "        vertical-align: middle;\n",
       "    }\n",
       "\n",
       "    .dataframe tbody tr th {\n",
       "        vertical-align: top;\n",
       "    }\n",
       "\n",
       "    .dataframe thead th {\n",
       "        text-align: right;\n",
       "    }\n",
       "</style>\n",
       "<table border=\"1\" class=\"dataframe\">\n",
       "  <thead>\n",
       "    <tr style=\"text-align: right;\">\n",
       "      <th></th>\n",
       "      <th>TARGETID</th>\n",
       "      <th>Redrock_spectype</th>\n",
       "      <th>Redrock_z</th>\n",
       "      <th>VI_scanner</th>\n",
       "      <th>VI_quality</th>\n",
       "      <th>VI_issue</th>\n",
       "      <th>VI_z</th>\n",
       "      <th>VI_spectype</th>\n",
       "      <th>VI_comment</th>\n",
       "      <th>best redshift</th>\n",
       "      <th>best spectype</th>\n",
       "      <th>vi_combined_flag</th>\n",
       "      <th>vi_diff</th>\n",
       "      <th>vi_combined_z</th>\n",
       "      <th>dz</th>\n",
       "      <th>all VI comments</th>\n",
       "      <th>N_VI</th>\n",
       "      <th>merger comment</th>\n",
       "    </tr>\n",
       "  </thead>\n",
       "  <tbody>\n",
       "    <tr>\n",
       "      <th>115</th>\n",
       "      <td>35185802371662064</td>\n",
       "      <td>GALAXY</td>\n",
       "      <td>1.4108</td>\n",
       "      <td>MAR</td>\n",
       "      <td>2</td>\n",
       "      <td>NaN</td>\n",
       "      <td>NaN</td>\n",
       "      <td>NaN</td>\n",
       "      <td>--</td>\n",
       "      <td>1.4108</td>\n",
       "      <td>GALAXY</td>\n",
       "      <td>3.0</td>\n",
       "      <td>2</td>\n",
       "      <td>1.4108</td>\n",
       "      <td>0.0</td>\n",
       "      <td>--|--</td>\n",
       "      <td>2</td>\n",
       "      <td>none</td>\n",
       "    </tr>\n",
       "    <tr>\n",
       "      <th>145</th>\n",
       "      <td>35185802371662064</td>\n",
       "      <td>GALAXY</td>\n",
       "      <td>1.4108</td>\n",
       "      <td>CGS</td>\n",
       "      <td>4</td>\n",
       "      <td>NaN</td>\n",
       "      <td>NaN</td>\n",
       "      <td>NaN</td>\n",
       "      <td>--</td>\n",
       "      <td>1.4108</td>\n",
       "      <td>GALAXY</td>\n",
       "      <td>3.0</td>\n",
       "      <td>2</td>\n",
       "      <td>1.4108</td>\n",
       "      <td>0.0</td>\n",
       "      <td>--|--</td>\n",
       "      <td>2</td>\n",
       "      <td>none</td>\n",
       "    </tr>\n",
       "  </tbody>\n",
       "</table>\n",
       "</div>"
      ],
      "text/plain": [
       "              TARGETID Redrock_spectype  Redrock_z VI_scanner  VI_quality  \\\n",
       "115  35185802371662064           GALAXY     1.4108        MAR           2   \n",
       "145  35185802371662064           GALAXY     1.4108        CGS           4   \n",
       "\n",
       "    VI_issue  VI_z VI_spectype VI_comment  best redshift best spectype  \\\n",
       "115      NaN   NaN         NaN         --         1.4108        GALAXY   \n",
       "145      NaN   NaN         NaN         --         1.4108        GALAXY   \n",
       "\n",
       "     vi_combined_flag  vi_diff  vi_combined_z   dz all VI comments  N_VI  \\\n",
       "115               3.0        2         1.4108  0.0           --|--     2   \n",
       "145               3.0        2         1.4108  0.0           --|--     2   \n",
       "\n",
       "    merger comment  \n",
       "115           none  \n",
       "145           none  "
      ]
     },
     "metadata": {},
     "output_type": "display_data"
    }
   ],
   "source": [
    "#copy this text to a new cell to display the conflict\n",
    "conflict_id=9\n",
    "display_conflict(conflict_id, show_spectra=show_spectra)\n"
   ]
  },
  {
   "cell_type": "code",
   "execution_count": 91,
   "metadata": {},
   "outputs": [
    {
     "name": "stdout",
     "output_type": "stream",
     "text": [
      "conflict ID =  9\n"
     ]
    }
   ],
   "source": [
    "#copy this text to a new cell to resolve the conflict\n",
    "#vi.loc[vi.TARGETID==unique_targets[conflict_id], 'best redshift'] = 0.1327\n",
    "vi.loc[vi.TARGETID==unique_targets[conflict_id], 'VI_quality'] = 3\n",
    "#vi.loc[vi.TargetID==unique_targets[conflict_id], 'best spectype'] = \n",
    "\n",
    "#add a comment\n",
    "vi.loc[vi.TARGETID==unique_targets[conflict_id], 'merger comment'] = 'disagreement in flag. [OII] on sky lines. Should be robust.'\n",
    "\n",
    "#look at the values again to make sure all is well\n",
    "#display(vi[vi.TARGETID==unique_targets[conflict_id]])\n",
    "print('conflict ID = ', conflict_id)\n",
    "\n"
   ]
  },
  {
   "cell_type": "code",
   "execution_count": 92,
   "metadata": {},
   "outputs": [
    {
     "data": {
      "text/html": [
       "<div>\n",
       "<style scoped>\n",
       "    .dataframe tbody tr th:only-of-type {\n",
       "        vertical-align: middle;\n",
       "    }\n",
       "\n",
       "    .dataframe tbody tr th {\n",
       "        vertical-align: top;\n",
       "    }\n",
       "\n",
       "    .dataframe thead th {\n",
       "        text-align: right;\n",
       "    }\n",
       "</style>\n",
       "<table border=\"1\" class=\"dataframe\">\n",
       "  <thead>\n",
       "    <tr style=\"text-align: right;\">\n",
       "      <th></th>\n",
       "      <th>TARGETID</th>\n",
       "      <th>Redrock_spectype</th>\n",
       "      <th>Redrock_z</th>\n",
       "      <th>VI_scanner</th>\n",
       "      <th>VI_quality</th>\n",
       "      <th>VI_issue</th>\n",
       "      <th>VI_z</th>\n",
       "      <th>VI_spectype</th>\n",
       "      <th>VI_comment</th>\n",
       "      <th>best redshift</th>\n",
       "      <th>best spectype</th>\n",
       "      <th>vi_combined_flag</th>\n",
       "      <th>vi_diff</th>\n",
       "      <th>vi_combined_z</th>\n",
       "      <th>dz</th>\n",
       "      <th>all VI comments</th>\n",
       "      <th>N_VI</th>\n",
       "      <th>merger comment</th>\n",
       "    </tr>\n",
       "  </thead>\n",
       "  <tbody>\n",
       "    <tr>\n",
       "      <th>116</th>\n",
       "      <td>35185802371663154</td>\n",
       "      <td>GALAXY</td>\n",
       "      <td>1.0381</td>\n",
       "      <td>MAR</td>\n",
       "      <td>2</td>\n",
       "      <td>NaN</td>\n",
       "      <td>NaN</td>\n",
       "      <td>NaN</td>\n",
       "      <td>--</td>\n",
       "      <td>1.0381</td>\n",
       "      <td>GALAXY</td>\n",
       "      <td>3.0</td>\n",
       "      <td>2</td>\n",
       "      <td>1.03795</td>\n",
       "      <td>0.000147</td>\n",
       "      <td>--|--</td>\n",
       "      <td>2</td>\n",
       "      <td>none</td>\n",
       "    </tr>\n",
       "    <tr>\n",
       "      <th>146</th>\n",
       "      <td>35185802371663154</td>\n",
       "      <td>GALAXY</td>\n",
       "      <td>1.0381</td>\n",
       "      <td>CGS</td>\n",
       "      <td>4</td>\n",
       "      <td>R</td>\n",
       "      <td>1.0378</td>\n",
       "      <td>NaN</td>\n",
       "      <td>--</td>\n",
       "      <td>1.0378</td>\n",
       "      <td>GALAXY</td>\n",
       "      <td>3.0</td>\n",
       "      <td>2</td>\n",
       "      <td>1.03795</td>\n",
       "      <td>0.000147</td>\n",
       "      <td>--|--</td>\n",
       "      <td>2</td>\n",
       "      <td>none</td>\n",
       "    </tr>\n",
       "  </tbody>\n",
       "</table>\n",
       "</div>"
      ],
      "text/plain": [
       "              TARGETID Redrock_spectype  Redrock_z VI_scanner  VI_quality  \\\n",
       "116  35185802371663154           GALAXY     1.0381        MAR           2   \n",
       "146  35185802371663154           GALAXY     1.0381        CGS           4   \n",
       "\n",
       "    VI_issue    VI_z VI_spectype VI_comment  best redshift best spectype  \\\n",
       "116      NaN     NaN         NaN         --         1.0381        GALAXY   \n",
       "146        R  1.0378         NaN         --         1.0378        GALAXY   \n",
       "\n",
       "     vi_combined_flag  vi_diff  vi_combined_z        dz all VI comments  N_VI  \\\n",
       "116               3.0        2        1.03795  0.000147           --|--     2   \n",
       "146               3.0        2        1.03795  0.000147           --|--     2   \n",
       "\n",
       "    merger comment  \n",
       "116           none  \n",
       "146           none  "
      ]
     },
     "metadata": {},
     "output_type": "display_data"
    }
   ],
   "source": [
    "#copy this text to a new cell to display the conflict\n",
    "conflict_id=10\n",
    "display_conflict(conflict_id, show_spectra=show_spectra)"
   ]
  },
  {
   "cell_type": "code",
   "execution_count": 93,
   "metadata": {},
   "outputs": [
    {
     "name": "stdout",
     "output_type": "stream",
     "text": [
      "conflict ID =  10\n"
     ]
    }
   ],
   "source": [
    "#copy this text to a new cell to resolve the conflict\n",
    "#vi.loc[vi.TARGETID==unique_targets[conflict_id], 'best redshift'] = 1.6283\n",
    "vi.loc[vi.TARGETID==unique_targets[conflict_id], 'VI_quality'] = 4\n",
    "#vi.loc[vi.TARGETID==unique_targets[conflict_id], 'best spectype'] = 'GALAXY'\n",
    "\n",
    "#add a comment\n",
    "vi.loc[vi.TARGETID==unique_targets[conflict_id], 'merger comment'] = 'Broad [OII]. flag disagreement.'\n",
    "\n",
    "#look at the values again to make sure all is well\n",
    "#display(vi[vi.TARGETID==unique_targets[conflict_id]])\n",
    "print('conflict ID = ', conflict_id)\n"
   ]
  },
  {
   "cell_type": "code",
   "execution_count": 94,
   "metadata": {},
   "outputs": [
    {
     "data": {
      "text/html": [
       "<div>\n",
       "<style scoped>\n",
       "    .dataframe tbody tr th:only-of-type {\n",
       "        vertical-align: middle;\n",
       "    }\n",
       "\n",
       "    .dataframe tbody tr th {\n",
       "        vertical-align: top;\n",
       "    }\n",
       "\n",
       "    .dataframe thead th {\n",
       "        text-align: right;\n",
       "    }\n",
       "</style>\n",
       "<table border=\"1\" class=\"dataframe\">\n",
       "  <thead>\n",
       "    <tr style=\"text-align: right;\">\n",
       "      <th></th>\n",
       "      <th>TARGETID</th>\n",
       "      <th>Redrock_spectype</th>\n",
       "      <th>Redrock_z</th>\n",
       "      <th>VI_scanner</th>\n",
       "      <th>VI_quality</th>\n",
       "      <th>VI_issue</th>\n",
       "      <th>VI_z</th>\n",
       "      <th>VI_spectype</th>\n",
       "      <th>VI_comment</th>\n",
       "      <th>best redshift</th>\n",
       "      <th>best spectype</th>\n",
       "      <th>vi_combined_flag</th>\n",
       "      <th>vi_diff</th>\n",
       "      <th>vi_combined_z</th>\n",
       "      <th>dz</th>\n",
       "      <th>all VI comments</th>\n",
       "      <th>N_VI</th>\n",
       "      <th>merger comment</th>\n",
       "    </tr>\n",
       "  </thead>\n",
       "  <tbody>\n",
       "    <tr>\n",
       "      <th>123</th>\n",
       "      <td>35185802371666288</td>\n",
       "      <td>GALAXY</td>\n",
       "      <td>1.1385</td>\n",
       "      <td>MAR</td>\n",
       "      <td>2</td>\n",
       "      <td>NaN</td>\n",
       "      <td>1.139</td>\n",
       "      <td>NaN</td>\n",
       "      <td>--</td>\n",
       "      <td>1.1390</td>\n",
       "      <td>GALAXY</td>\n",
       "      <td>3.0</td>\n",
       "      <td>2</td>\n",
       "      <td>1.13875</td>\n",
       "      <td>0.000234</td>\n",
       "      <td>--|--</td>\n",
       "      <td>2</td>\n",
       "      <td>none</td>\n",
       "    </tr>\n",
       "    <tr>\n",
       "      <th>153</th>\n",
       "      <td>35185802371666288</td>\n",
       "      <td>GALAXY</td>\n",
       "      <td>1.1385</td>\n",
       "      <td>CGS</td>\n",
       "      <td>4</td>\n",
       "      <td>NaN</td>\n",
       "      <td>NaN</td>\n",
       "      <td>NaN</td>\n",
       "      <td>--</td>\n",
       "      <td>1.1385</td>\n",
       "      <td>GALAXY</td>\n",
       "      <td>3.0</td>\n",
       "      <td>2</td>\n",
       "      <td>1.13875</td>\n",
       "      <td>0.000234</td>\n",
       "      <td>--|--</td>\n",
       "      <td>2</td>\n",
       "      <td>none</td>\n",
       "    </tr>\n",
       "  </tbody>\n",
       "</table>\n",
       "</div>"
      ],
      "text/plain": [
       "              TARGETID Redrock_spectype  Redrock_z VI_scanner  VI_quality  \\\n",
       "123  35185802371666288           GALAXY     1.1385        MAR           2   \n",
       "153  35185802371666288           GALAXY     1.1385        CGS           4   \n",
       "\n",
       "    VI_issue   VI_z VI_spectype VI_comment  best redshift best spectype  \\\n",
       "123      NaN  1.139         NaN         --         1.1390        GALAXY   \n",
       "153      NaN    NaN         NaN         --         1.1385        GALAXY   \n",
       "\n",
       "     vi_combined_flag  vi_diff  vi_combined_z        dz all VI comments  N_VI  \\\n",
       "123               3.0        2        1.13875  0.000234           --|--     2   \n",
       "153               3.0        2        1.13875  0.000234           --|--     2   \n",
       "\n",
       "    merger comment  \n",
       "123           none  \n",
       "153           none  "
      ]
     },
     "metadata": {},
     "output_type": "display_data"
    }
   ],
   "source": [
    "#copy this text to a new cell to display the conflict\n",
    "conflict_id=11\n",
    "display_conflict(conflict_id, show_spectra=show_spectra)"
   ]
  },
  {
   "cell_type": "code",
   "execution_count": 95,
   "metadata": {},
   "outputs": [
    {
     "name": "stdout",
     "output_type": "stream",
     "text": [
      "conflict ID =  11\n"
     ]
    }
   ],
   "source": [
    "#copy this text to a new cell to resolve the conflict\n",
    "#vi.loc[vi.TARGETID==unique_targets[conflict_id], 'best redshift'] = 0.0662\n",
    "vi.loc[vi.TARGETID==unique_targets[conflict_id], 'VI_quality'] = 2\n",
    "#vi.loc[vi.TargetID==unique_targets[conflict_id], 'best spectype'] = \n",
    "\n",
    "#add a comment\n",
    "vi.loc[vi.TARGETID==unique_targets[conflict_id], 'merger comment'] = 'Possibe weak OII. Be conservative. Could be 3'\n",
    "#look at the values again to make sure all is well\n",
    "#display(vi[vi.TARGETID==unique_targets[conflict_id]])\n",
    "print('conflict ID = ', conflict_id)\n"
   ]
  },
  {
   "cell_type": "code",
   "execution_count": 96,
   "metadata": {},
   "outputs": [
    {
     "data": {
      "text/html": [
       "<div>\n",
       "<style scoped>\n",
       "    .dataframe tbody tr th:only-of-type {\n",
       "        vertical-align: middle;\n",
       "    }\n",
       "\n",
       "    .dataframe tbody tr th {\n",
       "        vertical-align: top;\n",
       "    }\n",
       "\n",
       "    .dataframe thead th {\n",
       "        text-align: right;\n",
       "    }\n",
       "</style>\n",
       "<table border=\"1\" class=\"dataframe\">\n",
       "  <thead>\n",
       "    <tr style=\"text-align: right;\">\n",
       "      <th></th>\n",
       "      <th>TARGETID</th>\n",
       "      <th>Redrock_spectype</th>\n",
       "      <th>Redrock_z</th>\n",
       "      <th>VI_scanner</th>\n",
       "      <th>VI_quality</th>\n",
       "      <th>VI_issue</th>\n",
       "      <th>VI_z</th>\n",
       "      <th>VI_spectype</th>\n",
       "      <th>VI_comment</th>\n",
       "      <th>best redshift</th>\n",
       "      <th>best spectype</th>\n",
       "      <th>vi_combined_flag</th>\n",
       "      <th>vi_diff</th>\n",
       "      <th>vi_combined_z</th>\n",
       "      <th>dz</th>\n",
       "      <th>all VI comments</th>\n",
       "      <th>N_VI</th>\n",
       "      <th>merger comment</th>\n",
       "    </tr>\n",
       "  </thead>\n",
       "  <tbody>\n",
       "    <tr>\n",
       "      <th>124</th>\n",
       "      <td>35185802371666973</td>\n",
       "      <td>GALAXY</td>\n",
       "      <td>0.6206</td>\n",
       "      <td>MAR</td>\n",
       "      <td>2</td>\n",
       "      <td>NaN</td>\n",
       "      <td>1.177</td>\n",
       "      <td>NaN</td>\n",
       "      <td>--</td>\n",
       "      <td>1.1770</td>\n",
       "      <td>GALAXY</td>\n",
       "      <td>2.5</td>\n",
       "      <td>1</td>\n",
       "      <td>0.6206</td>\n",
       "      <td>0.34333</td>\n",
       "      <td>--|--</td>\n",
       "      <td>2</td>\n",
       "      <td>none</td>\n",
       "    </tr>\n",
       "    <tr>\n",
       "      <th>154</th>\n",
       "      <td>35185802371666973</td>\n",
       "      <td>GALAXY</td>\n",
       "      <td>0.6206</td>\n",
       "      <td>CGS</td>\n",
       "      <td>3</td>\n",
       "      <td>NaN</td>\n",
       "      <td>NaN</td>\n",
       "      <td>NaN</td>\n",
       "      <td>--</td>\n",
       "      <td>0.6206</td>\n",
       "      <td>GALAXY</td>\n",
       "      <td>2.5</td>\n",
       "      <td>1</td>\n",
       "      <td>0.6206</td>\n",
       "      <td>0.34333</td>\n",
       "      <td>--|--</td>\n",
       "      <td>2</td>\n",
       "      <td>none</td>\n",
       "    </tr>\n",
       "  </tbody>\n",
       "</table>\n",
       "</div>"
      ],
      "text/plain": [
       "              TARGETID Redrock_spectype  Redrock_z VI_scanner  VI_quality  \\\n",
       "124  35185802371666973           GALAXY     0.6206        MAR           2   \n",
       "154  35185802371666973           GALAXY     0.6206        CGS           3   \n",
       "\n",
       "    VI_issue   VI_z VI_spectype VI_comment  best redshift best spectype  \\\n",
       "124      NaN  1.177         NaN         --         1.1770        GALAXY   \n",
       "154      NaN    NaN         NaN         --         0.6206        GALAXY   \n",
       "\n",
       "     vi_combined_flag  vi_diff  vi_combined_z       dz all VI comments  N_VI  \\\n",
       "124               2.5        1         0.6206  0.34333           --|--     2   \n",
       "154               2.5        1         0.6206  0.34333           --|--     2   \n",
       "\n",
       "    merger comment  \n",
       "124           none  \n",
       "154           none  "
      ]
     },
     "metadata": {},
     "output_type": "display_data"
    }
   ],
   "source": [
    "#copy this text to a new cell to display the conflict\n",
    "conflict_id=12\n",
    "display_conflict(conflict_id, show_spectra=show_spectra)\n",
    "\n"
   ]
  },
  {
   "cell_type": "code",
   "execution_count": 97,
   "metadata": {},
   "outputs": [
    {
     "name": "stdout",
     "output_type": "stream",
     "text": [
      "conflict ID =  12\n"
     ]
    }
   ],
   "source": [
    "#copy this text to a new cell to resolve the conflict\n",
    "#vi.loc[vi.TARGETID==unique_targets[conflict_id], 'best redshift'] = 0.0810\n",
    "vi.loc[vi.TARGETID==unique_targets[conflict_id], 'VI_quality'] = 2\n",
    "vi.loc[vi.TARGETID==unique_targets[conflict_id], 'best spectype'] = 'GALAXY'\n",
    "\n",
    "#add a comment\n",
    "vi.loc[vi.TARGETID==unique_targets[conflict_id], 'merger comment'] = 'Broad [OII]. Not sure 3 or 2. Be conservative'\n",
    "\n",
    "#look at the values again to make sure all is well\n",
    "#display(vi[vi.TARGETID==unique_targets[conflict_id]])\n",
    "print('conflict ID = ', conflict_id)\n",
    "\n"
   ]
  },
  {
   "cell_type": "code",
   "execution_count": 98,
   "metadata": {},
   "outputs": [
    {
     "data": {
      "text/html": [
       "<div>\n",
       "<style scoped>\n",
       "    .dataframe tbody tr th:only-of-type {\n",
       "        vertical-align: middle;\n",
       "    }\n",
       "\n",
       "    .dataframe tbody tr th {\n",
       "        vertical-align: top;\n",
       "    }\n",
       "\n",
       "    .dataframe thead th {\n",
       "        text-align: right;\n",
       "    }\n",
       "</style>\n",
       "<table border=\"1\" class=\"dataframe\">\n",
       "  <thead>\n",
       "    <tr style=\"text-align: right;\">\n",
       "      <th></th>\n",
       "      <th>TARGETID</th>\n",
       "      <th>Redrock_spectype</th>\n",
       "      <th>Redrock_z</th>\n",
       "      <th>VI_scanner</th>\n",
       "      <th>VI_quality</th>\n",
       "      <th>VI_issue</th>\n",
       "      <th>VI_z</th>\n",
       "      <th>VI_spectype</th>\n",
       "      <th>VI_comment</th>\n",
       "      <th>best redshift</th>\n",
       "      <th>best spectype</th>\n",
       "      <th>vi_combined_flag</th>\n",
       "      <th>vi_diff</th>\n",
       "      <th>vi_combined_z</th>\n",
       "      <th>dz</th>\n",
       "      <th>all VI comments</th>\n",
       "      <th>N_VI</th>\n",
       "      <th>merger comment</th>\n",
       "    </tr>\n",
       "  </thead>\n",
       "  <tbody>\n",
       "    <tr>\n",
       "      <th>129</th>\n",
       "      <td>35185802375857926</td>\n",
       "      <td>GALAXY</td>\n",
       "      <td>1.4156</td>\n",
       "      <td>MAR</td>\n",
       "      <td>2</td>\n",
       "      <td>NaN</td>\n",
       "      <td>NaN</td>\n",
       "      <td>NaN</td>\n",
       "      <td>--</td>\n",
       "      <td>1.4156</td>\n",
       "      <td>GALAXY</td>\n",
       "      <td>3.0</td>\n",
       "      <td>2</td>\n",
       "      <td>1.4156</td>\n",
       "      <td>0.064657</td>\n",
       "      <td>--|--</td>\n",
       "      <td>2</td>\n",
       "      <td>none</td>\n",
       "    </tr>\n",
       "    <tr>\n",
       "      <th>159</th>\n",
       "      <td>35185802375857926</td>\n",
       "      <td>GALAXY</td>\n",
       "      <td>1.4156</td>\n",
       "      <td>CGS</td>\n",
       "      <td>4</td>\n",
       "      <td>R</td>\n",
       "      <td>1.2689</td>\n",
       "      <td>NaN</td>\n",
       "      <td>--</td>\n",
       "      <td>1.2689</td>\n",
       "      <td>GALAXY</td>\n",
       "      <td>3.0</td>\n",
       "      <td>2</td>\n",
       "      <td>1.4156</td>\n",
       "      <td>0.064657</td>\n",
       "      <td>--|--</td>\n",
       "      <td>2</td>\n",
       "      <td>none</td>\n",
       "    </tr>\n",
       "  </tbody>\n",
       "</table>\n",
       "</div>"
      ],
      "text/plain": [
       "              TARGETID Redrock_spectype  Redrock_z VI_scanner  VI_quality  \\\n",
       "129  35185802375857926           GALAXY     1.4156        MAR           2   \n",
       "159  35185802375857926           GALAXY     1.4156        CGS           4   \n",
       "\n",
       "    VI_issue    VI_z VI_spectype VI_comment  best redshift best spectype  \\\n",
       "129      NaN     NaN         NaN         --         1.4156        GALAXY   \n",
       "159        R  1.2689         NaN         --         1.2689        GALAXY   \n",
       "\n",
       "     vi_combined_flag  vi_diff  vi_combined_z        dz all VI comments  N_VI  \\\n",
       "129               3.0        2         1.4156  0.064657           --|--     2   \n",
       "159               3.0        2         1.4156  0.064657           --|--     2   \n",
       "\n",
       "    merger comment  \n",
       "129           none  \n",
       "159           none  "
      ]
     },
     "metadata": {},
     "output_type": "display_data"
    }
   ],
   "source": [
    "#copy this text to a new cell to display the conflict\n",
    "conflict_id=13\n",
    "display_conflict(conflict_id, show_spectra=show_spectra)\n"
   ]
  },
  {
   "cell_type": "code",
   "execution_count": 99,
   "metadata": {},
   "outputs": [
    {
     "name": "stdout",
     "output_type": "stream",
     "text": [
      "conflict ID =  13\n"
     ]
    }
   ],
   "source": [
    "#copy this text to a new cell to resolve the conflict\n",
    "#vi.loc[vi.TargetID==unique_targets[conflict_id], 'best redshift'] = \n",
    "vi.loc[vi.TARGETID==unique_targets[conflict_id], 'VI_quality'] = 2\n",
    "#vi.loc[vi.TargetID==unique_targets[conflict_id], 'best spectype'] = \n",
    "\n",
    "#add a comment\n",
    "vi.loc[vi.TARGETID==unique_targets[conflict_id], 'merger comment'] = 'disagreement in flag. Two emission line peaks can not explain.'\n",
    "\n",
    "#look at the values again to make sure all is well\n",
    "#display(vi[vi.TARGETID==unique_targets[conflict_id]])\n",
    "print('conflict ID = ', conflict_id)\n",
    "\n"
   ]
  },
  {
   "cell_type": "markdown",
   "metadata": {},
   "source": [
    "### and so on...\n",
    "\n",
    "We should now recompute the conflicts, and not find any."
   ]
  },
  {
   "cell_type": "code",
   "execution_count": null,
   "metadata": {},
   "outputs": [],
   "source": []
  },
  {
   "cell_type": "code",
   "execution_count": null,
   "metadata": {},
   "outputs": [],
   "source": []
  },
  {
   "cell_type": "code",
   "execution_count": 100,
   "metadata": {},
   "outputs": [],
   "source": [
    "vi_conflict = VI.find_conflicts(vi_gp)"
   ]
  },
  {
   "cell_type": "code",
   "execution_count": 101,
   "metadata": {},
   "outputs": [
    {
     "name": "stdout",
     "output_type": "stream",
     "text": [
      "Targets with problematic VI:  []\n",
      "Total number of conflicts to resolve:  0\n"
     ]
    }
   ],
   "source": [
    "unique_targets = np.unique(vi_conflict['TARGETID'].tolist())\n",
    "print('Targets with problematic VI: ', unique_targets)\n",
    "print('Total number of conflicts to resolve: ', len(unique_targets))"
   ]
  },
  {
   "cell_type": "markdown",
   "metadata": {},
   "source": [
    "Display anything that was missed (if \"Total number of conflicts\" isn't zero) and resolve!"
   ]
  },
  {
   "cell_type": "raw",
   "metadata": {
    "jupyter": {
     "outputs_hidden": true
    }
   },
   "source": [
    "for i in range(len(unique_targets)): \n",
    "    display(vi[vi.TargetID==unique_targets[i]])"
   ]
  },
  {
   "cell_type": "markdown",
   "metadata": {},
   "source": [
    "Let's check the number of conflicts again."
   ]
  },
  {
   "cell_type": "code",
   "execution_count": 102,
   "metadata": {},
   "outputs": [],
   "source": [
    "vi_conflict = VI.find_conflicts(vi_gp)"
   ]
  },
  {
   "cell_type": "code",
   "execution_count": 103,
   "metadata": {},
   "outputs": [
    {
     "name": "stdout",
     "output_type": "stream",
     "text": [
      "Targets with problematic VI:  []\n",
      "Total number of conflicts to resolve:  0\n"
     ]
    }
   ],
   "source": [
    "unique_targets = np.unique(vi_conflict['TARGETID'].tolist())\n",
    "print('Targets with problematic VI: ', unique_targets)\n",
    "print('Total number of conflicts to resolve: ', len(unique_targets))"
   ]
  },
  {
   "cell_type": "markdown",
   "metadata": {},
   "source": [
    "## Woohoo!"
   ]
  },
  {
   "cell_type": "code",
   "execution_count": null,
   "metadata": {},
   "outputs": [],
   "source": []
  },
  {
   "cell_type": "code",
   "execution_count": null,
   "metadata": {},
   "outputs": [],
   "source": []
  },
  {
   "cell_type": "code",
   "execution_count": null,
   "metadata": {},
   "outputs": [],
   "source": []
  },
  {
   "cell_type": "markdown",
   "metadata": {},
   "source": [
    "## Finally\n",
    "we need to recompute vi_combined_flag and vi_combined_z, after everything is resolved."
   ]
  },
  {
   "cell_type": "code",
   "execution_count": 104,
   "metadata": {},
   "outputs": [],
   "source": [
    "vi['vi_combined_flag'] = vi.groupby('TARGETID')['VI_quality'].transform('mean')\n",
    "vi['vi_combined_z'] = vi.groupby('TARGETID')['best redshift'].transform('mean')\n"
   ]
  },
  {
   "cell_type": "markdown",
   "metadata": {},
   "source": [
    "## Now we prepare to write to file. \n",
    "\n",
    "### The important columns for the truth table construction are **vi_combined_flag** and **vi_combined_z** \n",
    "\n",
    "The truth table should **take the redhift value in vi_combined_z** for all objects with **vi_combined_flag >= 2.5** (for discussion, but this catches the cases where there is some disagreement on the 2/3 boundary).\n",
    "\n",
    "After the merging process, those two columns will be the same for ALL of the members of each group by TargetID, so it doesn't matter which member we write to file. Taking the 1st one just makes this easy. \n"
   ]
  },
  {
   "cell_type": "code",
   "execution_count": 246,
   "metadata": {},
   "outputs": [
    {
     "data": {
      "text/plain": [
       "Index(['TARGETID', 'EXPID', 'NIGHT', 'TILEID', 'Spec_version',\n",
       "       'Redrock_version', 'Template_version', 'Redrock_spectype', 'Redrock_z',\n",
       "       'VI_scanner', 'VI_quality', 'VI_issue', 'VI_z', 'VI_spectype',\n",
       "       'VI_comment', 'FIBER', 'FLUX_G', 'FLUX_R', 'FLUX_Z', 'FIBERFLUX_G',\n",
       "       'FIBERFLUX_R', 'FIBERFLUX_Z', 'DELTACHI2', 'best redshift',\n",
       "       'best spectype', 'vi_combined_flag', 'vi_diff', 'dz', 'vi_combined_z',\n",
       "       'all VI comments', 'N_VI', 'merger comment'],\n",
       "      dtype='object')"
      ]
     },
     "execution_count": 246,
     "metadata": {},
     "output_type": "execute_result"
    }
   ],
   "source": [
    "vi.keys()"
   ]
  },
  {
   "cell_type": "code",
   "execution_count": 105,
   "metadata": {},
   "outputs": [
    {
     "name": "stdout",
     "output_type": "stream",
     "text": [
      "/global/homes/t/tlan/projects/VI_files/Andes_reinspection/ELG/truth_table_Andes_reinspection_ELG_67230_20200315_5\n"
     ]
    }
   ],
   "source": [
    "print(VI_dir+save_filename)"
   ]
  },
  {
   "cell_type": "code",
   "execution_count": 106,
   "metadata": {},
   "outputs": [
    {
     "name": "stderr",
     "output_type": "stream",
     "text": [
      "<ipython-input-106-2063ed20beca>:1: FutureWarning: Indexing with multiple keys (implicitly converted to a tuple of keys) will be deprecated, use a list instead.\n",
      "  vi_gp['Redrock_z', 'Redrock_spectype', 'best redshift' , 'best spectype', 'vi_combined_flag',\n"
     ]
    }
   ],
   "source": [
    "vi_gp['Redrock_z', 'Redrock_spectype', 'best redshift' , 'best spectype', 'vi_combined_flag',  \n",
    "      'all VI comments', 'merger comment', 'N_VI', 'DELTACHI2','FIBER'].first().to_csv(VI_dir+save_filename)"
   ]
  },
  {
   "cell_type": "markdown",
   "metadata": {},
   "source": [
    "Check that merged file reads in OK - check comments"
   ]
  },
  {
   "cell_type": "code",
   "execution_count": 107,
   "metadata": {},
   "outputs": [],
   "source": [
    "merged_file = pd.read_csv(VI_dir+save_filename)"
   ]
  },
  {
   "cell_type": "code",
   "execution_count": 108,
   "metadata": {},
   "outputs": [
    {
     "data": {
      "text/plain": [
       "Index(['TARGETID', 'Redrock_z', 'Redrock_spectype', 'best redshift',\n",
       "       'best spectype', 'vi_combined_flag', 'all VI comments',\n",
       "       'merger comment', 'N_VI', 'DELTACHI2', 'FIBER'],\n",
       "      dtype='object')"
      ]
     },
     "execution_count": 108,
     "metadata": {},
     "output_type": "execute_result"
    }
   ],
   "source": [
    "merged_file.keys()"
   ]
  },
  {
   "cell_type": "code",
   "execution_count": 109,
   "metadata": {},
   "outputs": [
    {
     "data": {
      "text/plain": [
       "80"
      ]
     },
     "execution_count": 109,
     "metadata": {},
     "output_type": "execute_result"
    }
   ],
   "source": [
    "len(merged_file)"
   ]
  },
  {
   "cell_type": "code",
   "execution_count": 110,
   "metadata": {},
   "outputs": [
    {
     "data": {
      "text/plain": [
       "'/global/homes/t/tlan/projects/VI_files/Andes_reinspection/ELG/'"
      ]
     },
     "execution_count": 110,
     "metadata": {},
     "output_type": "execute_result"
    }
   ],
   "source": [
    "VI_dir"
   ]
  },
  {
   "cell_type": "code",
   "execution_count": null,
   "metadata": {},
   "outputs": [],
   "source": []
  }
 ],
 "metadata": {
  "kernelspec": {
   "display_name": "DESI master",
   "language": "python",
   "name": "desi-master"
  },
  "language_info": {
   "codemirror_mode": {
    "name": "ipython",
    "version": 3
   },
   "file_extension": ".py",
   "mimetype": "text/x-python",
   "name": "python",
   "nbconvert_exporter": "python",
   "pygments_lexer": "ipython3",
   "version": "3.8.3"
  }
 },
 "nbformat": 4,
 "nbformat_minor": 4
}
