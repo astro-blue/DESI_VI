{
 "cells": [
  {
   "cell_type": "markdown",
   "metadata": {},
   "source": [
    "## Identifying and resolving conflicts in a batch of VI files"
   ]
  },
  {
   "cell_type": "markdown",
   "metadata": {},
   "source": [
    "Andes Reinspection \n",
    "ELG\n",
    "Data information can be found at https://data.desi.lbl.gov/desi/spectro/prospect/target-reinspection-andes/\n",
    "\n",
    "/global/cfs/cdirs/desi/spectro/redux/andes\n",
    "\n",
    "\n",
    "448 visual inspections of a total of 150 unique objects\n",
    "\n",
    "32 conflicts"
   ]
  },
  {
   "cell_type": "code",
   "execution_count": 48,
   "metadata": {},
   "outputs": [],
   "source": [
    "save_filename='truth_table_Andes_reinspection_ELG_67230_20200315_3'"
   ]
  },
  {
   "cell_type": "code",
   "execution_count": 49,
   "metadata": {},
   "outputs": [],
   "source": [
    "import os, sys, glob\n",
    "import numpy as np\n",
    "\n",
    "from astropy.io import fits\n",
    "from astropy.table import Table, join, vstack\n",
    "from astropy.io import fits\n",
    "\n",
    "import pandas as pd\n",
    "import fnmatch\n",
    "\n",
    "import desispec.io\n",
    "\n",
    "import VI_utils as VI\n",
    "sys.path.append(\"/global/homes/r/tlan/prospect/prospect/py\")\n",
    "\n",
    "from prospect import utils_specviewer,plotframes\n",
    "#import desispec\n",
    "# library location will change ..\n",
    "sys.path.append(\"/global/u2/t/tlan/python/prospect/py\")\n",
    "from prospect import utils_specviewer,plotframes\n",
    "import matplotlib.pyplot as plt "
   ]
  },
  {
   "cell_type": "code",
   "execution_count": 50,
   "metadata": {},
   "outputs": [
    {
     "data": {
      "text/plain": [
       "dict_keys(['67230-20200315'])"
      ]
     },
     "execution_count": 50,
     "metadata": {},
     "output_type": "execute_result"
    }
   ],
   "source": [
    "tiledir   = '/global/cfs/cdirs/desi/spectro/redux/andes/tiles/'\n",
    "tiles = ['67230']\n",
    "nights = ['20200315']\n",
    "petals = ['0','1', '2', '3', '4', '5', '6' ,'7', '8', '9']\n",
    "#petals = ['0','3','6','7']\n",
    "obs_db = utils_specviewer.make_targetdict(tiledir, petals=petals, tiles=tiles) # tiles = optional \n",
    "del obs_db['67230-20200314']\n",
    "obs_db.keys()"
   ]
  },
  {
   "cell_type": "code",
   "execution_count": 51,
   "metadata": {},
   "outputs": [],
   "source": [
    "pd.set_option('display.max_rows', 10)"
   ]
  },
  {
   "cell_type": "code",
   "execution_count": 52,
   "metadata": {},
   "outputs": [],
   "source": [
    "#set to directory with all the VI files to merge\n",
    "VI_dir = os.environ['HOME']+'/projects/VI_files/Andes_reinspection/ELG/'"
   ]
  },
  {
   "cell_type": "code",
   "execution_count": 53,
   "metadata": {},
   "outputs": [
    {
     "name": "stdout",
     "output_type": "stream",
     "text": [
      "desi*_67230_7_*.csv\n",
      "desi*_67230_8_*.csv\n",
      "desi*_67230_9_*.csv\n",
      "['desi-vi_ELG_reinspection_67230_7_VRK.csv', 'desi-vi_ELG_reinspection_67230_7_CGS.csv', 'desi-vi_ELG_reinspection_67230_8_CGS.csv', 'desi-vi_ELG_reinspection_67230_8_VRK.csv', 'desi-vi_ELG_reinspection_67230_9_CGS.csv', 'desi-vi_ELG_reinspection_67230_9_VRK.csv']\n"
     ]
    }
   ],
   "source": [
    "#read a set of files \n",
    "all_files = os.listdir(VI_dir)\n",
    "vi_files=[]\n",
    "\n",
    "for i in range(7,10):\n",
    "    pattern = \"desi*_\"+str(67230)+\"_\"+str(i)+\"_*.csv\"\n",
    "    print(pattern)\n",
    "    for entry in all_files:\n",
    "        if fnmatch.fnmatch(entry, pattern):\n",
    "            vi_files.append(entry)\n",
    "\n",
    "print(vi_files)"
   ]
  },
  {
   "cell_type": "code",
   "execution_count": 54,
   "metadata": {},
   "outputs": [
    {
     "name": "stdout",
     "output_type": "stream",
     "text": [
      "desi-vi_ELG_reinspection_67230_7_VRK.csv\n",
      "desi-vi_ELG_reinspection_67230_7_CGS.csv\n",
      "desi-vi_ELG_reinspection_67230_8_CGS.csv\n",
      "desi-vi_ELG_reinspection_67230_8_VRK.csv\n",
      "desi-vi_ELG_reinspection_67230_9_CGS.csv\n",
      "desi-vi_ELG_reinspection_67230_9_VRK.csv\n",
      "There are 300 visual inspections of a total of 150 unique objects\n",
      "That gives 2.0 inspections per object.\n"
     ]
    }
   ],
   "source": [
    "vi = pd.read_csv(VI_dir + vi_files[0], delimiter = \",\", engine='python')\n",
    "print(vi_files[0])\n",
    "for i in range(1,len(vi_files)):\n",
    "    print(vi_files[i])\n",
    "    vi2 = pd.read_csv(VI_dir + vi_files[i], delimiter = \",\", engine='python')\n",
    "    vi = vi.append(vi2, ignore_index=True)\n",
    "#print(vi)    \n",
    "#make groups of visual inspections, grouped by unique objects, and state number of single and multiple VIs\n",
    "vi_gp = vi.groupby(['TARGETID'])\n",
    "\n",
    "print('There are ' + str(len(vi)) + ' visual inspections of a total of ' + str(len(vi_gp)) + ' unique objects')\n",
    "print('That gives ' + str(len(vi)/len(vi_gp)) + ' inspections per object.')"
   ]
  },
  {
   "cell_type": "code",
   "execution_count": 55,
   "metadata": {},
   "outputs": [],
   "source": [
    "#vi is a dataframe\n",
    "#display(vi)"
   ]
  },
  {
   "cell_type": "code",
   "execution_count": 56,
   "metadata": {},
   "outputs": [
    {
     "data": {
      "text/plain": [
       "300"
      ]
     },
     "execution_count": 56,
     "metadata": {},
     "output_type": "execute_result"
    }
   ],
   "source": [
    "#vi.keys()\n",
    "len(vi)"
   ]
  },
  {
   "cell_type": "markdown",
   "metadata": {},
   "source": [
    "# Merge with zbest files\n",
    "#Add: fiberID, delta_chi2, flux information,.. anything else?\n"
   ]
  },
  {
   "cell_type": "code",
   "execution_count": 57,
   "metadata": {},
   "outputs": [
    {
     "name": "stdout",
     "output_type": "stream",
     "text": [
      "5000\n",
      "5000\n",
      "300\n"
     ]
    }
   ],
   "source": [
    "\n",
    "#read in fibermap info, loop over the files for all the petals\n",
    "tf = Table.read(tiledir+'/'+tiles[0] + '/'+nights[0]+'/zbest-'+str(petals[0])+'-'+str(tiles[0])+'-'+nights[0]+'.fits',hdu='FIBERMAP')\n",
    "tspec = Table.read(tiledir+'/'+tiles[0] + '/'+nights[0]+'/zbest-'+str(petals[0])+'-'+str(tiles[0])+'-'+nights[0]+'.fits',hdu='ZBEST')\n",
    "\n",
    "for i in range(1,len(petals)):\n",
    "    tn = Table.read(tiledir+'/'+tiles[0] + '/'+nights[0]+'/zbest-'+str(petals[i])+'-'+str(tiles[0])+'-'+nights[0]+'.fits',hdu='ZBEST')\n",
    "    tnf = Table.read(tiledir+'/'+tiles[0] + '/'+nights[0]+'/zbest-'+str(petals[i])+'-'+str(tiles[0])+'-'+nights[0]+'.fits',hdu='FIBERMAP')\n",
    "    tspec = vstack([tspec,tn])\n",
    "    tf = vstack([tf,tnf])\n",
    "\n",
    "#tf['TARGETID','FIBER','FLUX_G','FLUX_R','FLUX_Z','FIBERFLUX_G','FIBERFLUX_R','FIBERFLUX_Z'].to_panda()    \n",
    "EXPID = list(set(tf['EXPID']))[0]\n",
    "tf = tf[tf['EXPID']==EXPID]\n",
    "tspec_df = tspec['TARGETID','DELTACHI2' ].to_pandas()\n",
    "tf_df = tf['TARGETID','FIBER','FLUX_G','FLUX_R','FLUX_Z','FIBERFLUX_G','FIBERFLUX_R','FIBERFLUX_Z'].to_pandas()\n",
    "print(len(tspec_df))\n",
    "print(len(tf_df))\n",
    "#tf_df = tf_df.rename(columns={\"TargetID\": \"TARGETID\"})\n",
    "#tspec_df = tspec_df.rename(columns={\"TargetID\": \"TARGETID\"})\n",
    "#print(len(vi))\n",
    "vi = vi.merge(tf_df, how='left', on='TARGETID')\n",
    "vi = vi.merge(tspec_df, how='left', on='TARGETID')\n",
    "print(len(vi))"
   ]
  },
  {
   "cell_type": "code",
   "execution_count": null,
   "metadata": {},
   "outputs": [],
   "source": []
  },
  {
   "cell_type": "code",
   "execution_count": 58,
   "metadata": {},
   "outputs": [
    {
     "name": "stdout",
     "output_type": "stream",
     "text": [
      "Index(['TARGETID', 'EXPID', 'NIGHT', 'TILEID', 'Spec_version',\n",
      "       'Redrock_version', 'Template_version', 'Redrock_spectype', 'Redrock_z',\n",
      "       'VI_scanner', 'VI_quality', 'VI_issue', 'VI_z', 'VI_spectype',\n",
      "       'VI_comment', 'FIBER', 'FLUX_G', 'FLUX_R', 'FLUX_Z', 'FIBERFLUX_G',\n",
      "       'FIBERFLUX_R', 'FIBERFLUX_Z', 'DELTACHI2'],\n",
      "      dtype='object')\n"
     ]
    }
   ],
   "source": [
    "print(vi.keys())\n",
    "#print(len(vi))\n",
    "#vi['best redshift']=vi['VI_z']"
   ]
  },
  {
   "cell_type": "markdown",
   "metadata": {},
   "source": [
    "### Adding a bunch of useful columns"
   ]
  },
  {
   "cell_type": "code",
   "execution_count": 59,
   "metadata": {},
   "outputs": [],
   "source": [
    "#vi['VI_z']\n",
    "import VI_utils as VI\n",
    "#vi['VI_z']\n",
    "#bad_str = [s is None for s in vi['VI_comment']]\n",
    "#vi['VI_comment'].isnull()\n",
    "#bad_str = [s is None for s in vi['VI_comment']]\n",
    "#print(bad_str)\n",
    "#vi.loc[vi['VI_comment'].isnull(),'VI_comment']='--'\n",
    "#vi['VI_comment']\n",
    "#vi['all VI comments'] = vi.groupby('TARGETID')['VI_comment'].transform(lambda x: '|'.join(x))\n",
    "#print(vi['all VI comments'])\n",
    "vi = VI.prep_new_columns(vi)\n",
    "#vi['best redshift'] = vi['VI_z']\n",
    "#test = vi['VI_z']\n",
    "#vi['best redshift'].isnull()\n",
    "#vi.loc[vi['best redshift'].isnull(), 'best redshift'] = vi.loc[vi['best redshift'].isnull(), 'Redrock_z']\n",
    "#vi['best redshift']"
   ]
  },
  {
   "cell_type": "code",
   "execution_count": 60,
   "metadata": {},
   "outputs": [
    {
     "data": {
      "text/html": [
       "<div>\n",
       "<style scoped>\n",
       "    .dataframe tbody tr th:only-of-type {\n",
       "        vertical-align: middle;\n",
       "    }\n",
       "\n",
       "    .dataframe tbody tr th {\n",
       "        vertical-align: top;\n",
       "    }\n",
       "\n",
       "    .dataframe thead th {\n",
       "        text-align: right;\n",
       "    }\n",
       "</style>\n",
       "<table border=\"1\" class=\"dataframe\">\n",
       "  <thead>\n",
       "    <tr style=\"text-align: right;\">\n",
       "      <th></th>\n",
       "      <th>TARGETID</th>\n",
       "      <th>EXPID</th>\n",
       "      <th>NIGHT</th>\n",
       "      <th>TILEID</th>\n",
       "      <th>Spec_version</th>\n",
       "      <th>Redrock_version</th>\n",
       "      <th>Template_version</th>\n",
       "      <th>Redrock_spectype</th>\n",
       "      <th>Redrock_z</th>\n",
       "      <th>VI_scanner</th>\n",
       "      <th>...</th>\n",
       "      <th>DELTACHI2</th>\n",
       "      <th>best redshift</th>\n",
       "      <th>best spectype</th>\n",
       "      <th>vi_combined_flag</th>\n",
       "      <th>vi_diff</th>\n",
       "      <th>dz</th>\n",
       "      <th>vi_combined_z</th>\n",
       "      <th>all VI comments</th>\n",
       "      <th>N_VI</th>\n",
       "      <th>merger comment</th>\n",
       "    </tr>\n",
       "  </thead>\n",
       "  <tbody>\n",
       "    <tr>\n",
       "      <th>0</th>\n",
       "      <td>35185772160090388</td>\n",
       "      <td>55587</td>\n",
       "      <td>20200315</td>\n",
       "      <td>67230</td>\n",
       "      <td>0.34.4</td>\n",
       "      <td>-1</td>\n",
       "      <td>-1</td>\n",
       "      <td>GALAXY</td>\n",
       "      <td>0.7811</td>\n",
       "      <td>VRK</td>\n",
       "      <td>...</td>\n",
       "      <td>19.433248</td>\n",
       "      <td>0.7811</td>\n",
       "      <td>GALAXY</td>\n",
       "      <td>1.0</td>\n",
       "      <td>2</td>\n",
       "      <td>0.074570</td>\n",
       "      <td>0.78110</td>\n",
       "      <td>dubious fit (negative doublet and OIII); 2nd b...</td>\n",
       "      <td>2</td>\n",
       "      <td>none</td>\n",
       "    </tr>\n",
       "    <tr>\n",
       "      <th>1</th>\n",
       "      <td>35185772160091680</td>\n",
       "      <td>55587</td>\n",
       "      <td>20200315</td>\n",
       "      <td>67230</td>\n",
       "      <td>0.34.4</td>\n",
       "      <td>-1</td>\n",
       "      <td>-1</td>\n",
       "      <td>GALAXY</td>\n",
       "      <td>1.3426</td>\n",
       "      <td>VRK</td>\n",
       "      <td>...</td>\n",
       "      <td>56.076392</td>\n",
       "      <td>1.3426</td>\n",
       "      <td>GALAXY</td>\n",
       "      <td>3.5</td>\n",
       "      <td>1</td>\n",
       "      <td>0.000000</td>\n",
       "      <td>1.34260</td>\n",
       "      <td>resolved doublet; plausible Balmer region|--</td>\n",
       "      <td>2</td>\n",
       "      <td>none</td>\n",
       "    </tr>\n",
       "    <tr>\n",
       "      <th>2</th>\n",
       "      <td>35185772160092167</td>\n",
       "      <td>55587</td>\n",
       "      <td>20200315</td>\n",
       "      <td>67230</td>\n",
       "      <td>0.34.4</td>\n",
       "      <td>-1</td>\n",
       "      <td>-1</td>\n",
       "      <td>GALAXY</td>\n",
       "      <td>0.0941</td>\n",
       "      <td>VRK</td>\n",
       "      <td>...</td>\n",
       "      <td>2303.503495</td>\n",
       "      <td>0.8458</td>\n",
       "      <td>GALAXY</td>\n",
       "      <td>4.0</td>\n",
       "      <td>0</td>\n",
       "      <td>0.000000</td>\n",
       "      <td>0.84580</td>\n",
       "      <td>10AA wide spike at 5480AA; dubious best fit; 2...</td>\n",
       "      <td>2</td>\n",
       "      <td>none</td>\n",
       "    </tr>\n",
       "    <tr>\n",
       "      <th>3</th>\n",
       "      <td>35185772147509695</td>\n",
       "      <td>55587</td>\n",
       "      <td>20200315</td>\n",
       "      <td>67230</td>\n",
       "      <td>0.34.4</td>\n",
       "      <td>-1</td>\n",
       "      <td>-1</td>\n",
       "      <td>GALAXY</td>\n",
       "      <td>1.6135</td>\n",
       "      <td>VRK</td>\n",
       "      <td>...</td>\n",
       "      <td>97.047665</td>\n",
       "      <td>1.6135</td>\n",
       "      <td>GALAXY</td>\n",
       "      <td>1.0</td>\n",
       "      <td>2</td>\n",
       "      <td>0.000000</td>\n",
       "      <td>1.61350</td>\n",
       "      <td>noise|--</td>\n",
       "      <td>2</td>\n",
       "      <td>none</td>\n",
       "    </tr>\n",
       "    <tr>\n",
       "      <th>4</th>\n",
       "      <td>35185772147510282</td>\n",
       "      <td>55587</td>\n",
       "      <td>20200315</td>\n",
       "      <td>67230</td>\n",
       "      <td>0.34.4</td>\n",
       "      <td>-1</td>\n",
       "      <td>-1</td>\n",
       "      <td>GALAXY</td>\n",
       "      <td>1.6644</td>\n",
       "      <td>VRK</td>\n",
       "      <td>...</td>\n",
       "      <td>135.242988</td>\n",
       "      <td>0.6964</td>\n",
       "      <td>GALAXY</td>\n",
       "      <td>1.5</td>\n",
       "      <td>1</td>\n",
       "      <td>0.343315</td>\n",
       "      <td>1.66440</td>\n",
       "      <td>feature at 8500AA does not correspond to any e...</td>\n",
       "      <td>2</td>\n",
       "      <td>none</td>\n",
       "    </tr>\n",
       "    <tr>\n",
       "      <th>...</th>\n",
       "      <td>...</td>\n",
       "      <td>...</td>\n",
       "      <td>...</td>\n",
       "      <td>...</td>\n",
       "      <td>...</td>\n",
       "      <td>...</td>\n",
       "      <td>...</td>\n",
       "      <td>...</td>\n",
       "      <td>...</td>\n",
       "      <td>...</td>\n",
       "      <td>...</td>\n",
       "      <td>...</td>\n",
       "      <td>...</td>\n",
       "      <td>...</td>\n",
       "      <td>...</td>\n",
       "      <td>...</td>\n",
       "      <td>...</td>\n",
       "      <td>...</td>\n",
       "      <td>...</td>\n",
       "      <td>...</td>\n",
       "      <td>...</td>\n",
       "    </tr>\n",
       "    <tr>\n",
       "      <th>295</th>\n",
       "      <td>35185778220864310</td>\n",
       "      <td>55587</td>\n",
       "      <td>20200315</td>\n",
       "      <td>67230</td>\n",
       "      <td>0.34.4</td>\n",
       "      <td>-1</td>\n",
       "      <td>-1</td>\n",
       "      <td>QSO</td>\n",
       "      <td>1.0777</td>\n",
       "      <td>VRK</td>\n",
       "      <td>...</td>\n",
       "      <td>62.953804</td>\n",
       "      <td>1.0777</td>\n",
       "      <td>QSO</td>\n",
       "      <td>3.0</td>\n",
       "      <td>0</td>\n",
       "      <td>0.000000</td>\n",
       "      <td>1.07770</td>\n",
       "      <td>--|weak partly resolved doublet; plausible Bal...</td>\n",
       "      <td>2</td>\n",
       "      <td>none</td>\n",
       "    </tr>\n",
       "    <tr>\n",
       "      <th>296</th>\n",
       "      <td>35185778225053791</td>\n",
       "      <td>55587</td>\n",
       "      <td>20200315</td>\n",
       "      <td>67230</td>\n",
       "      <td>0.34.4</td>\n",
       "      <td>-1</td>\n",
       "      <td>-1</td>\n",
       "      <td>QSO</td>\n",
       "      <td>1.5109</td>\n",
       "      <td>VRK</td>\n",
       "      <td>...</td>\n",
       "      <td>106.440110</td>\n",
       "      <td>1.5114</td>\n",
       "      <td>GALAXY</td>\n",
       "      <td>2.0</td>\n",
       "      <td>0</td>\n",
       "      <td>0.000199</td>\n",
       "      <td>1.51115</td>\n",
       "      <td>--|specific QSO features (CIV; CIII; Mg absopr...</td>\n",
       "      <td>2</td>\n",
       "      <td>none</td>\n",
       "    </tr>\n",
       "    <tr>\n",
       "      <th>297</th>\n",
       "      <td>35185778225055329</td>\n",
       "      <td>55587</td>\n",
       "      <td>20200315</td>\n",
       "      <td>67230</td>\n",
       "      <td>0.34.4</td>\n",
       "      <td>-1</td>\n",
       "      <td>-1</td>\n",
       "      <td>QSO</td>\n",
       "      <td>1.0701</td>\n",
       "      <td>VRK</td>\n",
       "      <td>...</td>\n",
       "      <td>14.981712</td>\n",
       "      <td>1.0701</td>\n",
       "      <td>QSO</td>\n",
       "      <td>0.5</td>\n",
       "      <td>1</td>\n",
       "      <td>0.000000</td>\n",
       "      <td>1.07010</td>\n",
       "      <td>--|QSO features not convincing</td>\n",
       "      <td>2</td>\n",
       "      <td>none</td>\n",
       "    </tr>\n",
       "    <tr>\n",
       "      <th>298</th>\n",
       "      <td>35185778225056780</td>\n",
       "      <td>55587</td>\n",
       "      <td>20200315</td>\n",
       "      <td>67230</td>\n",
       "      <td>0.34.4</td>\n",
       "      <td>-1</td>\n",
       "      <td>-1</td>\n",
       "      <td>GALAXY</td>\n",
       "      <td>1.0205</td>\n",
       "      <td>VRK</td>\n",
       "      <td>...</td>\n",
       "      <td>19.649990</td>\n",
       "      <td>1.0205</td>\n",
       "      <td>GALAXY</td>\n",
       "      <td>0.0</td>\n",
       "      <td>0</td>\n",
       "      <td>0.000000</td>\n",
       "      <td>1.02050</td>\n",
       "      <td>--|noise spectrum</td>\n",
       "      <td>2</td>\n",
       "      <td>none</td>\n",
       "    </tr>\n",
       "    <tr>\n",
       "      <th>299</th>\n",
       "      <td>35185778225058241</td>\n",
       "      <td>55587</td>\n",
       "      <td>20200315</td>\n",
       "      <td>67230</td>\n",
       "      <td>0.34.4</td>\n",
       "      <td>-1</td>\n",
       "      <td>-1</td>\n",
       "      <td>GALAXY</td>\n",
       "      <td>1.0113</td>\n",
       "      <td>VRK</td>\n",
       "      <td>...</td>\n",
       "      <td>11.436167</td>\n",
       "      <td>1.0113</td>\n",
       "      <td>GALAXY</td>\n",
       "      <td>0.0</td>\n",
       "      <td>0</td>\n",
       "      <td>0.000000</td>\n",
       "      <td>1.01130</td>\n",
       "      <td>--|noise spectrum</td>\n",
       "      <td>2</td>\n",
       "      <td>none</td>\n",
       "    </tr>\n",
       "  </tbody>\n",
       "</table>\n",
       "<p>300 rows × 32 columns</p>\n",
       "</div>"
      ],
      "text/plain": [
       "              TARGETID  EXPID     NIGHT  TILEID Spec_version  Redrock_version  \\\n",
       "0    35185772160090388  55587  20200315   67230       0.34.4               -1   \n",
       "1    35185772160091680  55587  20200315   67230       0.34.4               -1   \n",
       "2    35185772160092167  55587  20200315   67230       0.34.4               -1   \n",
       "3    35185772147509695  55587  20200315   67230       0.34.4               -1   \n",
       "4    35185772147510282  55587  20200315   67230       0.34.4               -1   \n",
       "..                 ...    ...       ...     ...          ...              ...   \n",
       "295  35185778220864310  55587  20200315   67230       0.34.4               -1   \n",
       "296  35185778225053791  55587  20200315   67230       0.34.4               -1   \n",
       "297  35185778225055329  55587  20200315   67230       0.34.4               -1   \n",
       "298  35185778225056780  55587  20200315   67230       0.34.4               -1   \n",
       "299  35185778225058241  55587  20200315   67230       0.34.4               -1   \n",
       "\n",
       "     Template_version Redrock_spectype  Redrock_z VI_scanner  ...  \\\n",
       "0                  -1           GALAXY     0.7811        VRK  ...   \n",
       "1                  -1           GALAXY     1.3426        VRK  ...   \n",
       "2                  -1           GALAXY     0.0941        VRK  ...   \n",
       "3                  -1           GALAXY     1.6135        VRK  ...   \n",
       "4                  -1           GALAXY     1.6644        VRK  ...   \n",
       "..                ...              ...        ...        ...  ...   \n",
       "295                -1              QSO     1.0777        VRK  ...   \n",
       "296                -1              QSO     1.5109        VRK  ...   \n",
       "297                -1              QSO     1.0701        VRK  ...   \n",
       "298                -1           GALAXY     1.0205        VRK  ...   \n",
       "299                -1           GALAXY     1.0113        VRK  ...   \n",
       "\n",
       "       DELTACHI2 best redshift  best spectype vi_combined_flag vi_diff  \\\n",
       "0      19.433248        0.7811         GALAXY              1.0       2   \n",
       "1      56.076392        1.3426         GALAXY              3.5       1   \n",
       "2    2303.503495        0.8458         GALAXY              4.0       0   \n",
       "3      97.047665        1.6135         GALAXY              1.0       2   \n",
       "4     135.242988        0.6964         GALAXY              1.5       1   \n",
       "..           ...           ...            ...              ...     ...   \n",
       "295    62.953804        1.0777            QSO              3.0       0   \n",
       "296   106.440110        1.5114         GALAXY              2.0       0   \n",
       "297    14.981712        1.0701            QSO              0.5       1   \n",
       "298    19.649990        1.0205         GALAXY              0.0       0   \n",
       "299    11.436167        1.0113         GALAXY              0.0       0   \n",
       "\n",
       "           dz  vi_combined_z  \\\n",
       "0    0.074570        0.78110   \n",
       "1    0.000000        1.34260   \n",
       "2    0.000000        0.84580   \n",
       "3    0.000000        1.61350   \n",
       "4    0.343315        1.66440   \n",
       "..        ...            ...   \n",
       "295  0.000000        1.07770   \n",
       "296  0.000199        1.51115   \n",
       "297  0.000000        1.07010   \n",
       "298  0.000000        1.02050   \n",
       "299  0.000000        1.01130   \n",
       "\n",
       "                                       all VI comments  N_VI  merger comment  \n",
       "0    dubious fit (negative doublet and OIII); 2nd b...     2            none  \n",
       "1         resolved doublet; plausible Balmer region|--     2            none  \n",
       "2    10AA wide spike at 5480AA; dubious best fit; 2...     2            none  \n",
       "3                                             noise|--     2            none  \n",
       "4    feature at 8500AA does not correspond to any e...     2            none  \n",
       "..                                                 ...   ...             ...  \n",
       "295  --|weak partly resolved doublet; plausible Bal...     2            none  \n",
       "296  --|specific QSO features (CIV; CIII; Mg absopr...     2            none  \n",
       "297                     --|QSO features not convincing     2            none  \n",
       "298                                  --|noise spectrum     2            none  \n",
       "299                                  --|noise spectrum     2            none  \n",
       "\n",
       "[300 rows x 32 columns]"
      ]
     },
     "metadata": {},
     "output_type": "display_data"
    }
   ],
   "source": [
    "#check all the new columns (keys) have been added correctly\n",
    "display(vi)\n",
    "#print(vi.keys())"
   ]
  },
  {
   "cell_type": "markdown",
   "metadata": {},
   "source": [
    "Get a table that holds only the objects that have been inspected more than once, and for which the individual VI classifications differ by 2 or more, or delta z / (1 + z) > 0.0033, or there is disagreement in best spectype (these are the conflicts to resolve)"
   ]
  },
  {
   "cell_type": "code",
   "execution_count": 61,
   "metadata": {},
   "outputs": [],
   "source": [
    "vi_gp = vi.groupby(['TARGETID'])\n",
    "vi_conflict = VI.find_conflicts(vi_gp)"
   ]
  },
  {
   "cell_type": "code",
   "execution_count": 62,
   "metadata": {},
   "outputs": [
    {
     "data": {
      "text/plain": [
       "150"
      ]
     },
     "execution_count": 62,
     "metadata": {},
     "output_type": "execute_result"
    }
   ],
   "source": [
    "len(vi_gp)"
   ]
  },
  {
   "cell_type": "markdown",
   "metadata": {},
   "source": [
    "Get the target IDs of the problematic objects and display in table form for a quick summary:"
   ]
  },
  {
   "cell_type": "code",
   "execution_count": 63,
   "metadata": {},
   "outputs": [
    {
     "name": "stdout",
     "output_type": "stream",
     "text": [
      "Targets with problematic VI:  [35185772155896628 35185772155900426 35185772164286546 35185772172673676\n",
      " 35185772172676812 35185772176870778 35185772176871722 35185772189451229\n",
      " 35185778187305121 35185778208278601 35185778216665338 35185778220861973\n",
      " 35185784222909926]\n",
      "Total number of conflicts to resolve:  13\n"
     ]
    }
   ],
   "source": [
    "unique_targets = np.unique(vi_conflict['TARGETID'].tolist())\n",
    "print('Targets with problematic VI: ', unique_targets)\n",
    "print('Total number of conflicts to resolve: ', len(unique_targets))"
   ]
  },
  {
   "cell_type": "code",
   "execution_count": 64,
   "metadata": {},
   "outputs": [
    {
     "data": {
      "text/plain": [
       "35185772155896628"
      ]
     },
     "execution_count": 64,
     "metadata": {},
     "output_type": "execute_result"
    }
   ],
   "source": [
    "unique_targets[0]"
   ]
  },
  {
   "cell_type": "raw",
   "metadata": {},
   "source": [
    "for i in range(len(unique_targets)): \n",
    "    display(vi[vi.TargetID==unique_targets[i].astype(float)])"
   ]
  },
  {
   "cell_type": "markdown",
   "metadata": {},
   "source": [
    "## This is where I resolve things manually - with care!!\n",
    "### I think it's better to keep it in a notebook, as typos can be backtracked rather than a single manual edit of a text file\n",
    "\n",
    "We edit either 'VI class', or 'best redshift' to resolve conflict. At the end, we look for conflicts again and we should find none.\n"
   ]
  },
  {
   "cell_type": "code",
   "execution_count": 65,
   "metadata": {},
   "outputs": [],
   "source": [
    "#function to display the conflict in table format and open a prospect window\n",
    "def display_conflict(conflict_id, show_spectra=None):\n",
    "    \n",
    "    #first, remind myself of the problem:\n",
    "    display(vi[vi.TARGETID==unique_targets[conflict_id]][['TARGETID', \n",
    "       'Redrock_spectype', 'Redrock_z', 'VI_scanner', 'VI_quality', 'VI_issue',\n",
    "       'VI_z', 'VI_spectype', 'VI_comment',\n",
    "       'best redshift', 'best spectype', 'vi_combined_flag', 'vi_diff',\n",
    "       'vi_combined_z', 'dz', 'all VI comments', 'N_VI', 'merger comment']])\n",
    "\n",
    "    spectra, zcat= utils_specviewer.load_spectra_zcat_from_targets([unique_targets[conflict_id]], tiledir, obs_db)\n",
    "    # VI interface in notebook\n",
    "    if show_spectra:\n",
    "        plotframes.plotspectra(spectra, zcatalog=zcat, title='Target_select', notebook=True, mask_type='CMX_TARGET',with_vi_widgets=False)"
   ]
  },
  {
   "cell_type": "code",
   "execution_count": 66,
   "metadata": {},
   "outputs": [],
   "source": [
    "#first, keep a safe copy of the original dataframe\n",
    "vi_safe = vi.copy()"
   ]
  },
  {
   "cell_type": "markdown",
   "metadata": {},
   "source": [
    "We will inspect each conflict on a prospect window, and resolve each conflict in turn"
   ]
  },
  {
   "cell_type": "raw",
   "metadata": {},
   "source": [
    "#copy this text to a new cell to display the conflict\n",
    "conflict_id=\n",
    "display_conflict(conflict_id)\n",
    "\n",
    "========\n",
    "#copy this text to a new cell to resolve the conflict\n",
    "vi.loc[vi.TargetID==unique_targets[conflict_id], 'best redshift'] = \n",
    "vi.loc[vi.TargetID==unique_targets[conflict_id], 'VI class'] = \n",
    "vi.loc[vi.TargetID==unique_targets[conflict_id], 'best spectype'] = \n",
    "\n",
    "#add a comment\n",
    "vi.loc[vi.TargetID==unique_targets[conflict_id], 'merger comment'] = \n",
    "\n",
    "#look at the values agbain to make sure all is well\n",
    "print('conflict ID = ', conflict_id)\n",
    "display(vi[vi.TargetID==unique_targets[conflict_id]])"
   ]
  },
  {
   "cell_type": "code",
   "execution_count": 67,
   "metadata": {},
   "outputs": [],
   "source": [
    "show_spectra = False"
   ]
  },
  {
   "cell_type": "code",
   "execution_count": 68,
   "metadata": {},
   "outputs": [
    {
     "data": {
      "text/html": [
       "<div>\n",
       "<style scoped>\n",
       "    .dataframe tbody tr th:only-of-type {\n",
       "        vertical-align: middle;\n",
       "    }\n",
       "\n",
       "    .dataframe tbody tr th {\n",
       "        vertical-align: top;\n",
       "    }\n",
       "\n",
       "    .dataframe thead th {\n",
       "        text-align: right;\n",
       "    }\n",
       "</style>\n",
       "<table border=\"1\" class=\"dataframe\">\n",
       "  <thead>\n",
       "    <tr style=\"text-align: right;\">\n",
       "      <th></th>\n",
       "      <th>TARGETID</th>\n",
       "      <th>Redrock_spectype</th>\n",
       "      <th>Redrock_z</th>\n",
       "      <th>VI_scanner</th>\n",
       "      <th>VI_quality</th>\n",
       "      <th>VI_issue</th>\n",
       "      <th>VI_z</th>\n",
       "      <th>VI_spectype</th>\n",
       "      <th>VI_comment</th>\n",
       "      <th>best redshift</th>\n",
       "      <th>best spectype</th>\n",
       "      <th>vi_combined_flag</th>\n",
       "      <th>vi_diff</th>\n",
       "      <th>vi_combined_z</th>\n",
       "      <th>dz</th>\n",
       "      <th>all VI comments</th>\n",
       "      <th>N_VI</th>\n",
       "      <th>merger comment</th>\n",
       "    </tr>\n",
       "  </thead>\n",
       "  <tbody>\n",
       "    <tr>\n",
       "      <th>15</th>\n",
       "      <td>35185772155896628</td>\n",
       "      <td>GALAXY</td>\n",
       "      <td>0.4541</td>\n",
       "      <td>VRK</td>\n",
       "      <td>0</td>\n",
       "      <td>S</td>\n",
       "      <td>NaN</td>\n",
       "      <td>NaN</td>\n",
       "      <td>interslicing issue (red vs nir); noise spectrum</td>\n",
       "      <td>0.4541</td>\n",
       "      <td>GALAXY</td>\n",
       "      <td>1.5</td>\n",
       "      <td>3</td>\n",
       "      <td>0.4541</td>\n",
       "      <td>0.0</td>\n",
       "      <td>interslicing issue (red vs nir); noise spectru...</td>\n",
       "      <td>2</td>\n",
       "      <td>none</td>\n",
       "    </tr>\n",
       "    <tr>\n",
       "      <th>65</th>\n",
       "      <td>35185772155896628</td>\n",
       "      <td>GALAXY</td>\n",
       "      <td>0.4541</td>\n",
       "      <td>CGS</td>\n",
       "      <td>3</td>\n",
       "      <td>RS</td>\n",
       "      <td>NaN</td>\n",
       "      <td>NaN</td>\n",
       "      <td>--</td>\n",
       "      <td>0.4541</td>\n",
       "      <td>GALAXY</td>\n",
       "      <td>1.5</td>\n",
       "      <td>3</td>\n",
       "      <td>0.4541</td>\n",
       "      <td>0.0</td>\n",
       "      <td>interslicing issue (red vs nir); noise spectru...</td>\n",
       "      <td>2</td>\n",
       "      <td>none</td>\n",
       "    </tr>\n",
       "  </tbody>\n",
       "</table>\n",
       "</div>"
      ],
      "text/plain": [
       "             TARGETID Redrock_spectype  Redrock_z VI_scanner  VI_quality  \\\n",
       "15  35185772155896628           GALAXY     0.4541        VRK           0   \n",
       "65  35185772155896628           GALAXY     0.4541        CGS           3   \n",
       "\n",
       "   VI_issue  VI_z VI_spectype  \\\n",
       "15        S   NaN         NaN   \n",
       "65       RS   NaN         NaN   \n",
       "\n",
       "                                          VI_comment  best redshift  \\\n",
       "15  interslicing issue (red vs nir); noise spectrum          0.4541   \n",
       "65                                                --         0.4541   \n",
       "\n",
       "   best spectype  vi_combined_flag  vi_diff  vi_combined_z   dz  \\\n",
       "15        GALAXY               1.5        3         0.4541  0.0   \n",
       "65        GALAXY               1.5        3         0.4541  0.0   \n",
       "\n",
       "                                      all VI comments  N_VI merger comment  \n",
       "15  interslicing issue (red vs nir); noise spectru...     2           none  \n",
       "65  interslicing issue (red vs nir); noise spectru...     2           none  "
      ]
     },
     "metadata": {},
     "output_type": "display_data"
    }
   ],
   "source": [
    "#Keep track of the conflicts by conflict_id\n",
    "\n",
    "#copy this text to a new cell to display the conflict\n",
    "conflict_id=0\n",
    "display_conflict(conflict_id, show_spectra=show_spectra)"
   ]
  },
  {
   "cell_type": "code",
   "execution_count": 69,
   "metadata": {},
   "outputs": [
    {
     "name": "stdout",
     "output_type": "stream",
     "text": [
      "15    3\n",
      "65    3\n",
      "Name: VI_quality, dtype: int64\n",
      "conflict ID =  0\n"
     ]
    }
   ],
   "source": [
    "#copy this text to a new cell to resolve the conflict\n",
    "vi.loc[vi.TARGETID==unique_targets[conflict_id], 'best redshift'] = 1.5602\n",
    "vi.loc[vi.TARGETID==unique_targets[conflict_id], 'VI_quality'] = 3\n",
    "vi.loc[vi.TARGETID==unique_targets[conflict_id], 'best spectype'] = 'GALAXY'\n",
    "\n",
    "#add a comment\n",
    "vi.loc[vi.TARGETID==unique_targets[conflict_id], 'merger comment'] = 'disagreement in quality. [OII] at 1.5602. Bad calibration'\n",
    "\n",
    "#look at the values again to make sure all is well\n",
    "#display(vi[vi.TARGETID==unique_targets[conflict_id]])\n",
    "print(vi[vi.TARGETID==unique_targets[conflict_id]]['VI_quality'])\n",
    "print('conflict ID = ', conflict_id)"
   ]
  },
  {
   "cell_type": "code",
   "execution_count": 70,
   "metadata": {},
   "outputs": [
    {
     "data": {
      "text/html": [
       "<div>\n",
       "<style scoped>\n",
       "    .dataframe tbody tr th:only-of-type {\n",
       "        vertical-align: middle;\n",
       "    }\n",
       "\n",
       "    .dataframe tbody tr th {\n",
       "        vertical-align: top;\n",
       "    }\n",
       "\n",
       "    .dataframe thead th {\n",
       "        text-align: right;\n",
       "    }\n",
       "</style>\n",
       "<table border=\"1\" class=\"dataframe\">\n",
       "  <thead>\n",
       "    <tr style=\"text-align: right;\">\n",
       "      <th></th>\n",
       "      <th>TARGETID</th>\n",
       "      <th>Redrock_spectype</th>\n",
       "      <th>Redrock_z</th>\n",
       "      <th>VI_scanner</th>\n",
       "      <th>VI_quality</th>\n",
       "      <th>VI_issue</th>\n",
       "      <th>VI_z</th>\n",
       "      <th>VI_spectype</th>\n",
       "      <th>VI_comment</th>\n",
       "      <th>best redshift</th>\n",
       "      <th>best spectype</th>\n",
       "      <th>vi_combined_flag</th>\n",
       "      <th>vi_diff</th>\n",
       "      <th>vi_combined_z</th>\n",
       "      <th>dz</th>\n",
       "      <th>all VI comments</th>\n",
       "      <th>N_VI</th>\n",
       "      <th>merger comment</th>\n",
       "    </tr>\n",
       "  </thead>\n",
       "  <tbody>\n",
       "    <tr>\n",
       "      <th>21</th>\n",
       "      <td>35185772155900426</td>\n",
       "      <td>GALAXY</td>\n",
       "      <td>1.4637</td>\n",
       "      <td>VRK</td>\n",
       "      <td>2</td>\n",
       "      <td>S</td>\n",
       "      <td>NaN</td>\n",
       "      <td>NaN</td>\n",
       "      <td>weak broad doublet and nothing else; flux drop...</td>\n",
       "      <td>1.4637</td>\n",
       "      <td>GALAXY</td>\n",
       "      <td>3.0</td>\n",
       "      <td>2</td>\n",
       "      <td>1.4637</td>\n",
       "      <td>0.0</td>\n",
       "      <td>weak broad doublet and nothing else; flux drop...</td>\n",
       "      <td>2</td>\n",
       "      <td>none</td>\n",
       "    </tr>\n",
       "    <tr>\n",
       "      <th>71</th>\n",
       "      <td>35185772155900426</td>\n",
       "      <td>GALAXY</td>\n",
       "      <td>1.4637</td>\n",
       "      <td>CGS</td>\n",
       "      <td>4</td>\n",
       "      <td>NaN</td>\n",
       "      <td>NaN</td>\n",
       "      <td>NaN</td>\n",
       "      <td>--</td>\n",
       "      <td>1.4637</td>\n",
       "      <td>GALAXY</td>\n",
       "      <td>3.0</td>\n",
       "      <td>2</td>\n",
       "      <td>1.4637</td>\n",
       "      <td>0.0</td>\n",
       "      <td>weak broad doublet and nothing else; flux drop...</td>\n",
       "      <td>2</td>\n",
       "      <td>none</td>\n",
       "    </tr>\n",
       "  </tbody>\n",
       "</table>\n",
       "</div>"
      ],
      "text/plain": [
       "             TARGETID Redrock_spectype  Redrock_z VI_scanner  VI_quality  \\\n",
       "21  35185772155900426           GALAXY     1.4637        VRK           2   \n",
       "71  35185772155900426           GALAXY     1.4637        CGS           4   \n",
       "\n",
       "   VI_issue  VI_z VI_spectype  \\\n",
       "21        S   NaN         NaN   \n",
       "71      NaN   NaN         NaN   \n",
       "\n",
       "                                           VI_comment  best redshift  \\\n",
       "21  weak broad doublet and nothing else; flux drop...         1.4637   \n",
       "71                                                 --         1.4637   \n",
       "\n",
       "   best spectype  vi_combined_flag  vi_diff  vi_combined_z   dz  \\\n",
       "21        GALAXY               3.0        2         1.4637  0.0   \n",
       "71        GALAXY               3.0        2         1.4637  0.0   \n",
       "\n",
       "                                      all VI comments  N_VI merger comment  \n",
       "21  weak broad doublet and nothing else; flux drop...     2           none  \n",
       "71  weak broad doublet and nothing else; flux drop...     2           none  "
      ]
     },
     "metadata": {},
     "output_type": "display_data"
    }
   ],
   "source": [
    "#copy this text to a new cell to display the conflict\n",
    "conflict_id=1\n",
    "display_conflict(conflict_id, show_spectra=show_spectra)"
   ]
  },
  {
   "cell_type": "code",
   "execution_count": 71,
   "metadata": {},
   "outputs": [
    {
     "name": "stdout",
     "output_type": "stream",
     "text": [
      "21    3\n",
      "71    3\n",
      "Name: VI_quality, dtype: int64\n",
      "conflict ID =  1\n"
     ]
    }
   ],
   "source": [
    "#copy this text to a new cell to resolve the conflict\n",
    "#vi.loc[vi.TargetID==unique_targets[conflict_id], 'best redshift'] = \n",
    "vi.loc[vi.TARGETID==unique_targets[conflict_id], 'VI_quality'] =3\n",
    "#vi.loc[vi.TargetID==unique_targets[conflict_id], 'best spectype'] = \n",
    "\n",
    "#add a comment\n",
    "vi.loc[vi.TARGETID==unique_targets[conflict_id], 'merger comment'] = 'Quality disagreement.  Broad [OII] emission'\n",
    "\n",
    "#look at the values again to make sure all is well\n",
    "#display(vi[vi.TARGETID==unique_targets[conflict_id]])\n",
    "print(vi[vi.TARGETID==unique_targets[conflict_id]]['VI_quality'])\n",
    "print('conflict ID = ', conflict_id)\n",
    "\n"
   ]
  },
  {
   "cell_type": "code",
   "execution_count": 72,
   "metadata": {},
   "outputs": [
    {
     "data": {
      "text/html": [
       "<div>\n",
       "<style scoped>\n",
       "    .dataframe tbody tr th:only-of-type {\n",
       "        vertical-align: middle;\n",
       "    }\n",
       "\n",
       "    .dataframe tbody tr th {\n",
       "        vertical-align: top;\n",
       "    }\n",
       "\n",
       "    .dataframe thead th {\n",
       "        text-align: right;\n",
       "    }\n",
       "</style>\n",
       "<table border=\"1\" class=\"dataframe\">\n",
       "  <thead>\n",
       "    <tr style=\"text-align: right;\">\n",
       "      <th></th>\n",
       "      <th>TARGETID</th>\n",
       "      <th>Redrock_spectype</th>\n",
       "      <th>Redrock_z</th>\n",
       "      <th>VI_scanner</th>\n",
       "      <th>VI_quality</th>\n",
       "      <th>VI_issue</th>\n",
       "      <th>VI_z</th>\n",
       "      <th>VI_spectype</th>\n",
       "      <th>VI_comment</th>\n",
       "      <th>best redshift</th>\n",
       "      <th>best spectype</th>\n",
       "      <th>vi_combined_flag</th>\n",
       "      <th>vi_diff</th>\n",
       "      <th>vi_combined_z</th>\n",
       "      <th>dz</th>\n",
       "      <th>all VI comments</th>\n",
       "      <th>N_VI</th>\n",
       "      <th>merger comment</th>\n",
       "    </tr>\n",
       "  </thead>\n",
       "  <tbody>\n",
       "    <tr>\n",
       "      <th>27</th>\n",
       "      <td>35185772164286546</td>\n",
       "      <td>GALAXY</td>\n",
       "      <td>1.508</td>\n",
       "      <td>VRK</td>\n",
       "      <td>2</td>\n",
       "      <td>NaN</td>\n",
       "      <td>NaN</td>\n",
       "      <td>NaN</td>\n",
       "      <td>moderate noisy doublet in skyline region and n...</td>\n",
       "      <td>1.508</td>\n",
       "      <td>GALAXY</td>\n",
       "      <td>3.0</td>\n",
       "      <td>2</td>\n",
       "      <td>1.508</td>\n",
       "      <td>0.0</td>\n",
       "      <td>moderate noisy doublet in skyline region and n...</td>\n",
       "      <td>2</td>\n",
       "      <td>none</td>\n",
       "    </tr>\n",
       "    <tr>\n",
       "      <th>77</th>\n",
       "      <td>35185772164286546</td>\n",
       "      <td>GALAXY</td>\n",
       "      <td>1.508</td>\n",
       "      <td>CGS</td>\n",
       "      <td>4</td>\n",
       "      <td>NaN</td>\n",
       "      <td>NaN</td>\n",
       "      <td>NaN</td>\n",
       "      <td>--</td>\n",
       "      <td>1.508</td>\n",
       "      <td>GALAXY</td>\n",
       "      <td>3.0</td>\n",
       "      <td>2</td>\n",
       "      <td>1.508</td>\n",
       "      <td>0.0</td>\n",
       "      <td>moderate noisy doublet in skyline region and n...</td>\n",
       "      <td>2</td>\n",
       "      <td>none</td>\n",
       "    </tr>\n",
       "  </tbody>\n",
       "</table>\n",
       "</div>"
      ],
      "text/plain": [
       "             TARGETID Redrock_spectype  Redrock_z VI_scanner  VI_quality  \\\n",
       "27  35185772164286546           GALAXY      1.508        VRK           2   \n",
       "77  35185772164286546           GALAXY      1.508        CGS           4   \n",
       "\n",
       "   VI_issue  VI_z VI_spectype  \\\n",
       "27      NaN   NaN         NaN   \n",
       "77      NaN   NaN         NaN   \n",
       "\n",
       "                                           VI_comment  best redshift  \\\n",
       "27  moderate noisy doublet in skyline region and n...          1.508   \n",
       "77                                                 --          1.508   \n",
       "\n",
       "   best spectype  vi_combined_flag  vi_diff  vi_combined_z   dz  \\\n",
       "27        GALAXY               3.0        2          1.508  0.0   \n",
       "77        GALAXY               3.0        2          1.508  0.0   \n",
       "\n",
       "                                      all VI comments  N_VI merger comment  \n",
       "27  moderate noisy doublet in skyline region and n...     2           none  \n",
       "77  moderate noisy doublet in skyline region and n...     2           none  "
      ]
     },
     "metadata": {},
     "output_type": "display_data"
    }
   ],
   "source": [
    "#copy this text to a new cell to display the conflict\n",
    "conflict_id=2\n",
    "display_conflict(conflict_id, show_spectra=show_spectra)"
   ]
  },
  {
   "cell_type": "code",
   "execution_count": 73,
   "metadata": {},
   "outputs": [
    {
     "name": "stdout",
     "output_type": "stream",
     "text": [
      "conflict ID =  2\n"
     ]
    }
   ],
   "source": [
    "#copy this text to a new cell to resolve the conflict\n",
    "#vi.loc[vi.TARGETID==unique_targets[conflict_id], 'best redshift'] = 0.2320\n",
    "vi.loc[vi.TARGETID==unique_targets[conflict_id], 'VI_quality'] = 2\n",
    "#vi.loc[vi.TargetID==unique_targets[conflict_id], 'best spectype'] = \n",
    "\n",
    "#add a comment\n",
    "vi.loc[vi.TARGETID==unique_targets[conflict_id], 'merger comment'] = 'disagreement in quality. possible [OII] on sky lines. Be conservative. VI 2'\n",
    "\n",
    "#look at the values again to make sure all is well\n",
    "#display(vi[vi.TARGETID==unique_targets[conflict_id]])\n",
    "print('conflict ID = ', conflict_id)\n"
   ]
  },
  {
   "cell_type": "code",
   "execution_count": 74,
   "metadata": {},
   "outputs": [
    {
     "data": {
      "text/html": [
       "<div>\n",
       "<style scoped>\n",
       "    .dataframe tbody tr th:only-of-type {\n",
       "        vertical-align: middle;\n",
       "    }\n",
       "\n",
       "    .dataframe tbody tr th {\n",
       "        vertical-align: top;\n",
       "    }\n",
       "\n",
       "    .dataframe thead th {\n",
       "        text-align: right;\n",
       "    }\n",
       "</style>\n",
       "<table border=\"1\" class=\"dataframe\">\n",
       "  <thead>\n",
       "    <tr style=\"text-align: right;\">\n",
       "      <th></th>\n",
       "      <th>TARGETID</th>\n",
       "      <th>Redrock_spectype</th>\n",
       "      <th>Redrock_z</th>\n",
       "      <th>VI_scanner</th>\n",
       "      <th>VI_quality</th>\n",
       "      <th>VI_issue</th>\n",
       "      <th>VI_z</th>\n",
       "      <th>VI_spectype</th>\n",
       "      <th>VI_comment</th>\n",
       "      <th>best redshift</th>\n",
       "      <th>best spectype</th>\n",
       "      <th>vi_combined_flag</th>\n",
       "      <th>vi_diff</th>\n",
       "      <th>vi_combined_z</th>\n",
       "      <th>dz</th>\n",
       "      <th>all VI comments</th>\n",
       "      <th>N_VI</th>\n",
       "      <th>merger comment</th>\n",
       "    </tr>\n",
       "  </thead>\n",
       "  <tbody>\n",
       "    <tr>\n",
       "      <th>32</th>\n",
       "      <td>35185772172673676</td>\n",
       "      <td>GALAXY</td>\n",
       "      <td>1.0391</td>\n",
       "      <td>VRK</td>\n",
       "      <td>2</td>\n",
       "      <td>NaN</td>\n",
       "      <td>NaN</td>\n",
       "      <td>NaN</td>\n",
       "      <td>moderate noisy doublet in inter-arm region; pl...</td>\n",
       "      <td>1.0391</td>\n",
       "      <td>GALAXY</td>\n",
       "      <td>3.0</td>\n",
       "      <td>2</td>\n",
       "      <td>1.0391</td>\n",
       "      <td>0.0</td>\n",
       "      <td>moderate noisy doublet in inter-arm region; pl...</td>\n",
       "      <td>2</td>\n",
       "      <td>none</td>\n",
       "    </tr>\n",
       "    <tr>\n",
       "      <th>82</th>\n",
       "      <td>35185772172673676</td>\n",
       "      <td>GALAXY</td>\n",
       "      <td>1.0391</td>\n",
       "      <td>CGS</td>\n",
       "      <td>4</td>\n",
       "      <td>NaN</td>\n",
       "      <td>NaN</td>\n",
       "      <td>NaN</td>\n",
       "      <td>--</td>\n",
       "      <td>1.0391</td>\n",
       "      <td>GALAXY</td>\n",
       "      <td>3.0</td>\n",
       "      <td>2</td>\n",
       "      <td>1.0391</td>\n",
       "      <td>0.0</td>\n",
       "      <td>moderate noisy doublet in inter-arm region; pl...</td>\n",
       "      <td>2</td>\n",
       "      <td>none</td>\n",
       "    </tr>\n",
       "  </tbody>\n",
       "</table>\n",
       "</div>"
      ],
      "text/plain": [
       "             TARGETID Redrock_spectype  Redrock_z VI_scanner  VI_quality  \\\n",
       "32  35185772172673676           GALAXY     1.0391        VRK           2   \n",
       "82  35185772172673676           GALAXY     1.0391        CGS           4   \n",
       "\n",
       "   VI_issue  VI_z VI_spectype  \\\n",
       "32      NaN   NaN         NaN   \n",
       "82      NaN   NaN         NaN   \n",
       "\n",
       "                                           VI_comment  best redshift  \\\n",
       "32  moderate noisy doublet in inter-arm region; pl...         1.0391   \n",
       "82                                                 --         1.0391   \n",
       "\n",
       "   best spectype  vi_combined_flag  vi_diff  vi_combined_z   dz  \\\n",
       "32        GALAXY               3.0        2         1.0391  0.0   \n",
       "82        GALAXY               3.0        2         1.0391  0.0   \n",
       "\n",
       "                                      all VI comments  N_VI merger comment  \n",
       "32  moderate noisy doublet in inter-arm region; pl...     2           none  \n",
       "82  moderate noisy doublet in inter-arm region; pl...     2           none  "
      ]
     },
     "metadata": {},
     "output_type": "display_data"
    }
   ],
   "source": [
    "#copy this text to a new cell to display the conflict\n",
    "conflict_id=3\n",
    "display_conflict(conflict_id, show_spectra=show_spectra)\n"
   ]
  },
  {
   "cell_type": "code",
   "execution_count": 75,
   "metadata": {},
   "outputs": [
    {
     "name": "stdout",
     "output_type": "stream",
     "text": [
      "32    3\n",
      "82    3\n",
      "Name: VI_quality, dtype: int64\n",
      "conflict ID =  3\n"
     ]
    }
   ],
   "source": [
    "#copy this text to a new cell to resolve the conflict\n",
    "#vi.loc[vi.TargetID==unique_targets[conflict_id], 'best redshift'] = 0.5128\n",
    "vi.loc[vi.TARGETID==unique_targets[conflict_id], 'VI_quality'] = 3\n",
    "#vi.loc[vi.TargetID==unique_targets[conflict_id], 'best spectype'] = 'GALAXY' \n",
    "\n",
    "#add a comment\n",
    "vi.loc[vi.TARGETID==unique_targets[conflict_id], 'merger comment'] = 'disagreement in quality. strong [OII] on sky lines'\n",
    "\n",
    "#look at the values again to make sure all is well\n",
    "#display(vi[vi.TARGETID==unique_targets[conflict_id]])\n",
    "print(vi[vi.TARGETID==unique_targets[conflict_id]]['VI_quality'])\n",
    "print('conflict ID = ', conflict_id)\n"
   ]
  },
  {
   "cell_type": "code",
   "execution_count": 76,
   "metadata": {},
   "outputs": [
    {
     "data": {
      "text/html": [
       "<div>\n",
       "<style scoped>\n",
       "    .dataframe tbody tr th:only-of-type {\n",
       "        vertical-align: middle;\n",
       "    }\n",
       "\n",
       "    .dataframe tbody tr th {\n",
       "        vertical-align: top;\n",
       "    }\n",
       "\n",
       "    .dataframe thead th {\n",
       "        text-align: right;\n",
       "    }\n",
       "</style>\n",
       "<table border=\"1\" class=\"dataframe\">\n",
       "  <thead>\n",
       "    <tr style=\"text-align: right;\">\n",
       "      <th></th>\n",
       "      <th>TARGETID</th>\n",
       "      <th>Redrock_spectype</th>\n",
       "      <th>Redrock_z</th>\n",
       "      <th>VI_scanner</th>\n",
       "      <th>VI_quality</th>\n",
       "      <th>VI_issue</th>\n",
       "      <th>VI_z</th>\n",
       "      <th>VI_spectype</th>\n",
       "      <th>VI_comment</th>\n",
       "      <th>best redshift</th>\n",
       "      <th>best spectype</th>\n",
       "      <th>vi_combined_flag</th>\n",
       "      <th>vi_diff</th>\n",
       "      <th>vi_combined_z</th>\n",
       "      <th>dz</th>\n",
       "      <th>all VI comments</th>\n",
       "      <th>N_VI</th>\n",
       "      <th>merger comment</th>\n",
       "    </tr>\n",
       "  </thead>\n",
       "  <tbody>\n",
       "    <tr>\n",
       "      <th>35</th>\n",
       "      <td>35185772172676812</td>\n",
       "      <td>GALAXY</td>\n",
       "      <td>1.0468</td>\n",
       "      <td>VRK</td>\n",
       "      <td>2</td>\n",
       "      <td>NaN</td>\n",
       "      <td>NaN</td>\n",
       "      <td>NaN</td>\n",
       "      <td>weak noisy doublet in inter-arm region; plausi...</td>\n",
       "      <td>1.0468</td>\n",
       "      <td>GALAXY</td>\n",
       "      <td>3.0</td>\n",
       "      <td>2</td>\n",
       "      <td>1.0468</td>\n",
       "      <td>0.0</td>\n",
       "      <td>weak noisy doublet in inter-arm region; plausi...</td>\n",
       "      <td>2</td>\n",
       "      <td>none</td>\n",
       "    </tr>\n",
       "    <tr>\n",
       "      <th>85</th>\n",
       "      <td>35185772172676812</td>\n",
       "      <td>GALAXY</td>\n",
       "      <td>1.0468</td>\n",
       "      <td>CGS</td>\n",
       "      <td>4</td>\n",
       "      <td>NaN</td>\n",
       "      <td>NaN</td>\n",
       "      <td>NaN</td>\n",
       "      <td>--</td>\n",
       "      <td>1.0468</td>\n",
       "      <td>GALAXY</td>\n",
       "      <td>3.0</td>\n",
       "      <td>2</td>\n",
       "      <td>1.0468</td>\n",
       "      <td>0.0</td>\n",
       "      <td>weak noisy doublet in inter-arm region; plausi...</td>\n",
       "      <td>2</td>\n",
       "      <td>none</td>\n",
       "    </tr>\n",
       "  </tbody>\n",
       "</table>\n",
       "</div>"
      ],
      "text/plain": [
       "             TARGETID Redrock_spectype  Redrock_z VI_scanner  VI_quality  \\\n",
       "35  35185772172676812           GALAXY     1.0468        VRK           2   \n",
       "85  35185772172676812           GALAXY     1.0468        CGS           4   \n",
       "\n",
       "   VI_issue  VI_z VI_spectype  \\\n",
       "35      NaN   NaN         NaN   \n",
       "85      NaN   NaN         NaN   \n",
       "\n",
       "                                           VI_comment  best redshift  \\\n",
       "35  weak noisy doublet in inter-arm region; plausi...         1.0468   \n",
       "85                                                 --         1.0468   \n",
       "\n",
       "   best spectype  vi_combined_flag  vi_diff  vi_combined_z   dz  \\\n",
       "35        GALAXY               3.0        2         1.0468  0.0   \n",
       "85        GALAXY               3.0        2         1.0468  0.0   \n",
       "\n",
       "                                      all VI comments  N_VI merger comment  \n",
       "35  weak noisy doublet in inter-arm region; plausi...     2           none  \n",
       "85  weak noisy doublet in inter-arm region; plausi...     2           none  "
      ]
     },
     "metadata": {},
     "output_type": "display_data"
    }
   ],
   "source": [
    "#copy this text to a new cell to display the conflict\n",
    "conflict_id=4\n",
    "display_conflict(conflict_id, show_spectra=show_spectra)\n"
   ]
  },
  {
   "cell_type": "code",
   "execution_count": 77,
   "metadata": {},
   "outputs": [
    {
     "name": "stdout",
     "output_type": "stream",
     "text": [
      "35    2\n",
      "85    2\n",
      "Name: VI_quality, dtype: int64\n",
      "conflict ID =  4\n"
     ]
    }
   ],
   "source": [
    "#copy this text to a new cell to resolve the conflict\n",
    "#vi.loc[vi.TargetID==unique_targets[conflict_id], 'best redshift'] = 1.3210\n",
    "vi.loc[vi.TARGETID==unique_targets[conflict_id], 'VI_quality'] = 2\n",
    "#vi.loc[vi.TargetID==unique_targets[conflict_id], 'best spectype'] = \n",
    "\n",
    "#add a comment\n",
    "vi.loc[vi.TARGETID==unique_targets[conflict_id], 'merger comment'] = 'disagreement in flag. possible [OII] features in problematic region. Be conservative'\n",
    "\n",
    "#look at the values again to make sure all is well\n",
    "#display(vi[vi.TARGETID==unique_targets[conflict_id]])\n",
    "print(vi[vi.TARGETID==unique_targets[conflict_id]]['VI_quality'])\n",
    "print('conflict ID = ', conflict_id)"
   ]
  },
  {
   "cell_type": "code",
   "execution_count": 78,
   "metadata": {},
   "outputs": [
    {
     "data": {
      "text/html": [
       "<div>\n",
       "<style scoped>\n",
       "    .dataframe tbody tr th:only-of-type {\n",
       "        vertical-align: middle;\n",
       "    }\n",
       "\n",
       "    .dataframe tbody tr th {\n",
       "        vertical-align: top;\n",
       "    }\n",
       "\n",
       "    .dataframe thead th {\n",
       "        text-align: right;\n",
       "    }\n",
       "</style>\n",
       "<table border=\"1\" class=\"dataframe\">\n",
       "  <thead>\n",
       "    <tr style=\"text-align: right;\">\n",
       "      <th></th>\n",
       "      <th>TARGETID</th>\n",
       "      <th>Redrock_spectype</th>\n",
       "      <th>Redrock_z</th>\n",
       "      <th>VI_scanner</th>\n",
       "      <th>VI_quality</th>\n",
       "      <th>VI_issue</th>\n",
       "      <th>VI_z</th>\n",
       "      <th>VI_spectype</th>\n",
       "      <th>VI_comment</th>\n",
       "      <th>best redshift</th>\n",
       "      <th>best spectype</th>\n",
       "      <th>vi_combined_flag</th>\n",
       "      <th>vi_diff</th>\n",
       "      <th>vi_combined_z</th>\n",
       "      <th>dz</th>\n",
       "      <th>all VI comments</th>\n",
       "      <th>N_VI</th>\n",
       "      <th>merger comment</th>\n",
       "    </tr>\n",
       "  </thead>\n",
       "  <tbody>\n",
       "    <tr>\n",
       "      <th>36</th>\n",
       "      <td>35185772176870778</td>\n",
       "      <td>GALAXY</td>\n",
       "      <td>1.1539</td>\n",
       "      <td>VRK</td>\n",
       "      <td>0</td>\n",
       "      <td>NaN</td>\n",
       "      <td>NaN</td>\n",
       "      <td>NaN</td>\n",
       "      <td>doublet consistent with noise; no other signif...</td>\n",
       "      <td>1.1539</td>\n",
       "      <td>GALAXY</td>\n",
       "      <td>1.5</td>\n",
       "      <td>3</td>\n",
       "      <td>1.1539</td>\n",
       "      <td>0.0</td>\n",
       "      <td>doublet consistent with noise; no other signif...</td>\n",
       "      <td>2</td>\n",
       "      <td>none</td>\n",
       "    </tr>\n",
       "    <tr>\n",
       "      <th>86</th>\n",
       "      <td>35185772176870778</td>\n",
       "      <td>GALAXY</td>\n",
       "      <td>1.1539</td>\n",
       "      <td>CGS</td>\n",
       "      <td>3</td>\n",
       "      <td>NaN</td>\n",
       "      <td>NaN</td>\n",
       "      <td>NaN</td>\n",
       "      <td>--</td>\n",
       "      <td>1.1539</td>\n",
       "      <td>GALAXY</td>\n",
       "      <td>1.5</td>\n",
       "      <td>3</td>\n",
       "      <td>1.1539</td>\n",
       "      <td>0.0</td>\n",
       "      <td>doublet consistent with noise; no other signif...</td>\n",
       "      <td>2</td>\n",
       "      <td>none</td>\n",
       "    </tr>\n",
       "  </tbody>\n",
       "</table>\n",
       "</div>"
      ],
      "text/plain": [
       "             TARGETID Redrock_spectype  Redrock_z VI_scanner  VI_quality  \\\n",
       "36  35185772176870778           GALAXY     1.1539        VRK           0   \n",
       "86  35185772176870778           GALAXY     1.1539        CGS           3   \n",
       "\n",
       "   VI_issue  VI_z VI_spectype  \\\n",
       "36      NaN   NaN         NaN   \n",
       "86      NaN   NaN         NaN   \n",
       "\n",
       "                                           VI_comment  best redshift  \\\n",
       "36  doublet consistent with noise; no other signif...         1.1539   \n",
       "86                                                 --         1.1539   \n",
       "\n",
       "   best spectype  vi_combined_flag  vi_diff  vi_combined_z   dz  \\\n",
       "36        GALAXY               1.5        3         1.1539  0.0   \n",
       "86        GALAXY               1.5        3         1.1539  0.0   \n",
       "\n",
       "                                      all VI comments  N_VI merger comment  \n",
       "36  doublet consistent with noise; no other signif...     2           none  \n",
       "86  doublet consistent with noise; no other signif...     2           none  "
      ]
     },
     "metadata": {},
     "output_type": "display_data"
    }
   ],
   "source": [
    "#copy this text to a new cell to display the conflict\n",
    "conflict_id=5\n",
    "display_conflict(conflict_id, show_spectra=show_spectra)"
   ]
  },
  {
   "cell_type": "code",
   "execution_count": 79,
   "metadata": {},
   "outputs": [
    {
     "name": "stdout",
     "output_type": "stream",
     "text": [
      "conflict ID =  5\n"
     ]
    }
   ],
   "source": [
    "#copy this text to a new cell to resolve the conflict\n",
    "#vi.loc[vi.TargetID==unique_targets[conflict_id], 'best redshift'] = \n",
    "vi.loc[vi.TARGETID==unique_targets[conflict_id], 'VI_quality'] = 2\n",
    "vi.loc[vi.TARGETID==unique_targets[conflict_id], 'best spectype'] = 'GALAXY'\n",
    "\n",
    "#add a comment\n",
    "vi.loc[vi.TARGETID==unique_targets[conflict_id], 'merger comment'] = 'disagreement in type.  Possible low S/N OII'\n",
    "\n",
    "#look at the values again to make sure all is well\n",
    "#display(vi[vi.TARGETID==unique_targets[conflict_id]])\n",
    "print('conflict ID = ', conflict_id)\n",
    "\n"
   ]
  },
  {
   "cell_type": "code",
   "execution_count": 80,
   "metadata": {},
   "outputs": [
    {
     "data": {
      "text/html": [
       "<div>\n",
       "<style scoped>\n",
       "    .dataframe tbody tr th:only-of-type {\n",
       "        vertical-align: middle;\n",
       "    }\n",
       "\n",
       "    .dataframe tbody tr th {\n",
       "        vertical-align: top;\n",
       "    }\n",
       "\n",
       "    .dataframe thead th {\n",
       "        text-align: right;\n",
       "    }\n",
       "</style>\n",
       "<table border=\"1\" class=\"dataframe\">\n",
       "  <thead>\n",
       "    <tr style=\"text-align: right;\">\n",
       "      <th></th>\n",
       "      <th>TARGETID</th>\n",
       "      <th>Redrock_spectype</th>\n",
       "      <th>Redrock_z</th>\n",
       "      <th>VI_scanner</th>\n",
       "      <th>VI_quality</th>\n",
       "      <th>VI_issue</th>\n",
       "      <th>VI_z</th>\n",
       "      <th>VI_spectype</th>\n",
       "      <th>VI_comment</th>\n",
       "      <th>best redshift</th>\n",
       "      <th>best spectype</th>\n",
       "      <th>vi_combined_flag</th>\n",
       "      <th>vi_diff</th>\n",
       "      <th>vi_combined_z</th>\n",
       "      <th>dz</th>\n",
       "      <th>all VI comments</th>\n",
       "      <th>N_VI</th>\n",
       "      <th>merger comment</th>\n",
       "    </tr>\n",
       "  </thead>\n",
       "  <tbody>\n",
       "    <tr>\n",
       "      <th>25</th>\n",
       "      <td>35185772176871722</td>\n",
       "      <td>QSO</td>\n",
       "      <td>4.8054</td>\n",
       "      <td>VRK</td>\n",
       "      <td>1</td>\n",
       "      <td>NaN</td>\n",
       "      <td>NaN</td>\n",
       "      <td>NaN</td>\n",
       "      <td>broad absorption at 7000AA; taken as negative ...</td>\n",
       "      <td>4.8054</td>\n",
       "      <td>QSO</td>\n",
       "      <td>2.0</td>\n",
       "      <td>2</td>\n",
       "      <td>4.8054</td>\n",
       "      <td>1.617521</td>\n",
       "      <td>broad absorption at 7000AA; taken as negative ...</td>\n",
       "      <td>2</td>\n",
       "      <td>none</td>\n",
       "    </tr>\n",
       "    <tr>\n",
       "      <th>75</th>\n",
       "      <td>35185772176871722</td>\n",
       "      <td>QSO</td>\n",
       "      <td>4.8054</td>\n",
       "      <td>CGS</td>\n",
       "      <td>3</td>\n",
       "      <td>RCS</td>\n",
       "      <td>1.2179</td>\n",
       "      <td>NaN</td>\n",
       "      <td>strange dip around 7000A</td>\n",
       "      <td>1.2179</td>\n",
       "      <td>QSO</td>\n",
       "      <td>2.0</td>\n",
       "      <td>2</td>\n",
       "      <td>4.8054</td>\n",
       "      <td>1.617521</td>\n",
       "      <td>broad absorption at 7000AA; taken as negative ...</td>\n",
       "      <td>2</td>\n",
       "      <td>none</td>\n",
       "    </tr>\n",
       "  </tbody>\n",
       "</table>\n",
       "</div>"
      ],
      "text/plain": [
       "             TARGETID Redrock_spectype  Redrock_z VI_scanner  VI_quality  \\\n",
       "25  35185772176871722              QSO     4.8054        VRK           1   \n",
       "75  35185772176871722              QSO     4.8054        CGS           3   \n",
       "\n",
       "   VI_issue    VI_z VI_spectype  \\\n",
       "25      NaN     NaN         NaN   \n",
       "75      RCS  1.2179         NaN   \n",
       "\n",
       "                                           VI_comment  best redshift  \\\n",
       "25  broad absorption at 7000AA; taken as negative ...         4.8054   \n",
       "75                           strange dip around 7000A         1.2179   \n",
       "\n",
       "   best spectype  vi_combined_flag  vi_diff  vi_combined_z        dz  \\\n",
       "25           QSO               2.0        2         4.8054  1.617521   \n",
       "75           QSO               2.0        2         4.8054  1.617521   \n",
       "\n",
       "                                      all VI comments  N_VI merger comment  \n",
       "25  broad absorption at 7000AA; taken as negative ...     2           none  \n",
       "75  broad absorption at 7000AA; taken as negative ...     2           none  "
      ]
     },
     "metadata": {},
     "output_type": "display_data"
    }
   ],
   "source": [
    "#copy this text to a new cell to display the conflict\n",
    "conflict_id=6\n",
    "display_conflict(conflict_id, show_spectra=show_spectra)\n"
   ]
  },
  {
   "cell_type": "code",
   "execution_count": 81,
   "metadata": {},
   "outputs": [
    {
     "name": "stdout",
     "output_type": "stream",
     "text": [
      "conflict ID =  6\n"
     ]
    }
   ],
   "source": [
    "#copy this text to a new cell to resolve the conflict\n",
    "vi.loc[vi.TARGETID==unique_targets[conflict_id], 'best redshift'] = 1.2179\n",
    "vi.loc[vi.TARGETID==unique_targets[conflict_id], 'VI_quality'] = 4\n",
    "vi.loc[vi.TARGETID==unique_targets[conflict_id], 'best spectype'] = 'GALAXY'\n",
    "\n",
    "#add a comment\n",
    "vi.loc[vi.TARGETID==unique_targets[conflict_id], 'merger comment'] = 'Very bad calibration at 7000 A'\n",
    "\n",
    "#look at the values again to make sure all is well\n",
    "#display(vi[vi.TARGETID==unique_targets[conflict_id]])\n",
    "print('conflict ID = ', conflict_id)\n"
   ]
  },
  {
   "cell_type": "code",
   "execution_count": 82,
   "metadata": {},
   "outputs": [
    {
     "data": {
      "text/html": [
       "<div>\n",
       "<style scoped>\n",
       "    .dataframe tbody tr th:only-of-type {\n",
       "        vertical-align: middle;\n",
       "    }\n",
       "\n",
       "    .dataframe tbody tr th {\n",
       "        vertical-align: top;\n",
       "    }\n",
       "\n",
       "    .dataframe thead th {\n",
       "        text-align: right;\n",
       "    }\n",
       "</style>\n",
       "<table border=\"1\" class=\"dataframe\">\n",
       "  <thead>\n",
       "    <tr style=\"text-align: right;\">\n",
       "      <th></th>\n",
       "      <th>TARGETID</th>\n",
       "      <th>Redrock_spectype</th>\n",
       "      <th>Redrock_z</th>\n",
       "      <th>VI_scanner</th>\n",
       "      <th>VI_quality</th>\n",
       "      <th>VI_issue</th>\n",
       "      <th>VI_z</th>\n",
       "      <th>VI_spectype</th>\n",
       "      <th>VI_comment</th>\n",
       "      <th>best redshift</th>\n",
       "      <th>best spectype</th>\n",
       "      <th>vi_combined_flag</th>\n",
       "      <th>vi_diff</th>\n",
       "      <th>vi_combined_z</th>\n",
       "      <th>dz</th>\n",
       "      <th>all VI comments</th>\n",
       "      <th>N_VI</th>\n",
       "      <th>merger comment</th>\n",
       "    </tr>\n",
       "  </thead>\n",
       "  <tbody>\n",
       "    <tr>\n",
       "      <th>49</th>\n",
       "      <td>35185772189451229</td>\n",
       "      <td>GALAXY</td>\n",
       "      <td>1.2596</td>\n",
       "      <td>VRK</td>\n",
       "      <td>2</td>\n",
       "      <td>NaN</td>\n",
       "      <td>NaN</td>\n",
       "      <td>NaN</td>\n",
       "      <td>strong broad but noisy doublet; region above d...</td>\n",
       "      <td>1.2596</td>\n",
       "      <td>GALAXY</td>\n",
       "      <td>3.0</td>\n",
       "      <td>2</td>\n",
       "      <td>1.2596</td>\n",
       "      <td>0.0</td>\n",
       "      <td>strong broad but noisy doublet; region above d...</td>\n",
       "      <td>2</td>\n",
       "      <td>none</td>\n",
       "    </tr>\n",
       "    <tr>\n",
       "      <th>99</th>\n",
       "      <td>35185772189451229</td>\n",
       "      <td>GALAXY</td>\n",
       "      <td>1.2596</td>\n",
       "      <td>CGS</td>\n",
       "      <td>4</td>\n",
       "      <td>NaN</td>\n",
       "      <td>NaN</td>\n",
       "      <td>NaN</td>\n",
       "      <td>--</td>\n",
       "      <td>1.2596</td>\n",
       "      <td>GALAXY</td>\n",
       "      <td>3.0</td>\n",
       "      <td>2</td>\n",
       "      <td>1.2596</td>\n",
       "      <td>0.0</td>\n",
       "      <td>strong broad but noisy doublet; region above d...</td>\n",
       "      <td>2</td>\n",
       "      <td>none</td>\n",
       "    </tr>\n",
       "  </tbody>\n",
       "</table>\n",
       "</div>"
      ],
      "text/plain": [
       "             TARGETID Redrock_spectype  Redrock_z VI_scanner  VI_quality  \\\n",
       "49  35185772189451229           GALAXY     1.2596        VRK           2   \n",
       "99  35185772189451229           GALAXY     1.2596        CGS           4   \n",
       "\n",
       "   VI_issue  VI_z VI_spectype  \\\n",
       "49      NaN   NaN         NaN   \n",
       "99      NaN   NaN         NaN   \n",
       "\n",
       "                                           VI_comment  best redshift  \\\n",
       "49  strong broad but noisy doublet; region above d...         1.2596   \n",
       "99                                                 --         1.2596   \n",
       "\n",
       "   best spectype  vi_combined_flag  vi_diff  vi_combined_z   dz  \\\n",
       "49        GALAXY               3.0        2         1.2596  0.0   \n",
       "99        GALAXY               3.0        2         1.2596  0.0   \n",
       "\n",
       "                                      all VI comments  N_VI merger comment  \n",
       "49  strong broad but noisy doublet; region above d...     2           none  \n",
       "99  strong broad but noisy doublet; region above d...     2           none  "
      ]
     },
     "metadata": {},
     "output_type": "display_data"
    }
   ],
   "source": [
    "#copy this text to a new cell to display the conflict\n",
    "conflict_id=7\n",
    "display_conflict(conflict_id, show_spectra=show_spectra)"
   ]
  },
  {
   "cell_type": "code",
   "execution_count": 83,
   "metadata": {},
   "outputs": [
    {
     "name": "stdout",
     "output_type": "stream",
     "text": [
      "conflict ID =  7\n"
     ]
    }
   ],
   "source": [
    "#copy this text to a new cell to resolve the conflict\n",
    "#vi.loc[vi.TARGETID==unique_targets[conflict_id], 'best redshift'] = 0.1847\n",
    "vi.loc[vi.TARGETID==unique_targets[conflict_id], 'VI_quality'] = 3\n",
    "#vi.loc[vi.TargetID==unique_targets[conflict_id], 'best spectype'] = 'GALAXY'\n",
    "\n",
    "#add a comment\n",
    "vi.loc[vi.TARGETID==unique_targets[conflict_id], 'merger comment'] = 'disagreement in flag. Broad [OII]'\n",
    "\n",
    "#look at the values again to make sure all is well\n",
    "#display(vi[vi.TARGETID==unique_targets[conflict_id]])\n",
    "print('conflict ID = ', conflict_id)\n"
   ]
  },
  {
   "cell_type": "code",
   "execution_count": 84,
   "metadata": {},
   "outputs": [
    {
     "data": {
      "text/html": [
       "<div>\n",
       "<style scoped>\n",
       "    .dataframe tbody tr th:only-of-type {\n",
       "        vertical-align: middle;\n",
       "    }\n",
       "\n",
       "    .dataframe tbody tr th {\n",
       "        vertical-align: top;\n",
       "    }\n",
       "\n",
       "    .dataframe thead th {\n",
       "        text-align: right;\n",
       "    }\n",
       "</style>\n",
       "<table border=\"1\" class=\"dataframe\">\n",
       "  <thead>\n",
       "    <tr style=\"text-align: right;\">\n",
       "      <th></th>\n",
       "      <th>TARGETID</th>\n",
       "      <th>Redrock_spectype</th>\n",
       "      <th>Redrock_z</th>\n",
       "      <th>VI_scanner</th>\n",
       "      <th>VI_quality</th>\n",
       "      <th>VI_issue</th>\n",
       "      <th>VI_z</th>\n",
       "      <th>VI_spectype</th>\n",
       "      <th>VI_comment</th>\n",
       "      <th>best redshift</th>\n",
       "      <th>best spectype</th>\n",
       "      <th>vi_combined_flag</th>\n",
       "      <th>vi_diff</th>\n",
       "      <th>vi_combined_z</th>\n",
       "      <th>dz</th>\n",
       "      <th>all VI comments</th>\n",
       "      <th>N_VI</th>\n",
       "      <th>merger comment</th>\n",
       "    </tr>\n",
       "  </thead>\n",
       "  <tbody>\n",
       "    <tr>\n",
       "      <th>103</th>\n",
       "      <td>35185778187305121</td>\n",
       "      <td>GALAXY</td>\n",
       "      <td>1.2621</td>\n",
       "      <td>CGS</td>\n",
       "      <td>4</td>\n",
       "      <td>NaN</td>\n",
       "      <td>NaN</td>\n",
       "      <td>NaN</td>\n",
       "      <td>--</td>\n",
       "      <td>1.2621</td>\n",
       "      <td>GALAXY</td>\n",
       "      <td>3.5</td>\n",
       "      <td>1</td>\n",
       "      <td>1.26165</td>\n",
       "      <td>0.000398</td>\n",
       "      <td>--|broad noisy doublet; strong Balmer continuu...</td>\n",
       "      <td>2</td>\n",
       "      <td>none</td>\n",
       "    </tr>\n",
       "    <tr>\n",
       "      <th>153</th>\n",
       "      <td>35185778187305121</td>\n",
       "      <td>GALAXY</td>\n",
       "      <td>1.2621</td>\n",
       "      <td>VRK</td>\n",
       "      <td>3</td>\n",
       "      <td>RC</td>\n",
       "      <td>1.2612</td>\n",
       "      <td>QSO</td>\n",
       "      <td>broad noisy doublet; strong Balmer continuum a...</td>\n",
       "      <td>1.2612</td>\n",
       "      <td>QSO</td>\n",
       "      <td>3.5</td>\n",
       "      <td>1</td>\n",
       "      <td>1.26165</td>\n",
       "      <td>0.000398</td>\n",
       "      <td>--|broad noisy doublet; strong Balmer continuu...</td>\n",
       "      <td>2</td>\n",
       "      <td>none</td>\n",
       "    </tr>\n",
       "  </tbody>\n",
       "</table>\n",
       "</div>"
      ],
      "text/plain": [
       "              TARGETID Redrock_spectype  Redrock_z VI_scanner  VI_quality  \\\n",
       "103  35185778187305121           GALAXY     1.2621        CGS           4   \n",
       "153  35185778187305121           GALAXY     1.2621        VRK           3   \n",
       "\n",
       "    VI_issue    VI_z VI_spectype  \\\n",
       "103      NaN     NaN         NaN   \n",
       "153       RC  1.2612         QSO   \n",
       "\n",
       "                                            VI_comment  best redshift  \\\n",
       "103                                                 --         1.2621   \n",
       "153  broad noisy doublet; strong Balmer continuum a...         1.2612   \n",
       "\n",
       "    best spectype  vi_combined_flag  vi_diff  vi_combined_z        dz  \\\n",
       "103        GALAXY               3.5        1        1.26165  0.000398   \n",
       "153           QSO               3.5        1        1.26165  0.000398   \n",
       "\n",
       "                                       all VI comments  N_VI merger comment  \n",
       "103  --|broad noisy doublet; strong Balmer continuu...     2           none  \n",
       "153  --|broad noisy doublet; strong Balmer continuu...     2           none  "
      ]
     },
     "metadata": {},
     "output_type": "display_data"
    }
   ],
   "source": [
    "#copy this text to a new cell to display the conflict\n",
    "conflict_id=8\n",
    "display_conflict(conflict_id, show_spectra=show_spectra)\n"
   ]
  },
  {
   "cell_type": "code",
   "execution_count": 85,
   "metadata": {},
   "outputs": [
    {
     "name": "stdout",
     "output_type": "stream",
     "text": [
      "conflict ID =  8\n"
     ]
    }
   ],
   "source": [
    "#copy this text to a new cell to resolve the conflict\n",
    "#vi.loc[vi.TARGETID==unique_targets[conflict_id], 'best redshift'] = 0.1920\n",
    "vi.loc[vi.TARGETID==unique_targets[conflict_id], 'VI_quality'] = 4\n",
    "vi.loc[vi.TARGETID==unique_targets[conflict_id], 'best spectype'] = 'GALAXY'\n",
    "\n",
    "#add a comment\n",
    "vi.loc[vi.TARGETID==unique_targets[conflict_id], 'merger comment'] = \"AGN with MgII\"\n",
    "\n",
    "#look at the values again to make sure all is well\n",
    "#display(vi[vi.TARGETID==unique_targets[conflict_id]])\n",
    "print('conflict ID = ', conflict_id)\n",
    "\n"
   ]
  },
  {
   "cell_type": "code",
   "execution_count": 86,
   "metadata": {},
   "outputs": [
    {
     "data": {
      "text/html": [
       "<div>\n",
       "<style scoped>\n",
       "    .dataframe tbody tr th:only-of-type {\n",
       "        vertical-align: middle;\n",
       "    }\n",
       "\n",
       "    .dataframe tbody tr th {\n",
       "        vertical-align: top;\n",
       "    }\n",
       "\n",
       "    .dataframe thead th {\n",
       "        text-align: right;\n",
       "    }\n",
       "</style>\n",
       "<table border=\"1\" class=\"dataframe\">\n",
       "  <thead>\n",
       "    <tr style=\"text-align: right;\">\n",
       "      <th></th>\n",
       "      <th>TARGETID</th>\n",
       "      <th>Redrock_spectype</th>\n",
       "      <th>Redrock_z</th>\n",
       "      <th>VI_scanner</th>\n",
       "      <th>VI_quality</th>\n",
       "      <th>VI_issue</th>\n",
       "      <th>VI_z</th>\n",
       "      <th>VI_spectype</th>\n",
       "      <th>VI_comment</th>\n",
       "      <th>best redshift</th>\n",
       "      <th>best spectype</th>\n",
       "      <th>vi_combined_flag</th>\n",
       "      <th>vi_diff</th>\n",
       "      <th>vi_combined_z</th>\n",
       "      <th>dz</th>\n",
       "      <th>all VI comments</th>\n",
       "      <th>N_VI</th>\n",
       "      <th>merger comment</th>\n",
       "    </tr>\n",
       "  </thead>\n",
       "  <tbody>\n",
       "    <tr>\n",
       "      <th>149</th>\n",
       "      <td>35185778208278601</td>\n",
       "      <td>GALAXY</td>\n",
       "      <td>0.7943</td>\n",
       "      <td>CGS</td>\n",
       "      <td>4</td>\n",
       "      <td>NaN</td>\n",
       "      <td>NaN</td>\n",
       "      <td>NaN</td>\n",
       "      <td>--</td>\n",
       "      <td>0.7943</td>\n",
       "      <td>GALAXY</td>\n",
       "      <td>3.5</td>\n",
       "      <td>1</td>\n",
       "      <td>0.7943</td>\n",
       "      <td>0.343086</td>\n",
       "      <td>--|unconvincing best fit (no doublet; 1st OIII...</td>\n",
       "      <td>2</td>\n",
       "      <td>none</td>\n",
       "    </tr>\n",
       "    <tr>\n",
       "      <th>199</th>\n",
       "      <td>35185778208278601</td>\n",
       "      <td>GALAXY</td>\n",
       "      <td>0.7943</td>\n",
       "      <td>VRK</td>\n",
       "      <td>3</td>\n",
       "      <td>R</td>\n",
       "      <td>1.4099</td>\n",
       "      <td>NaN</td>\n",
       "      <td>unconvincing best fit (no doublet; 1st OIII li...</td>\n",
       "      <td>1.4099</td>\n",
       "      <td>GALAXY</td>\n",
       "      <td>3.5</td>\n",
       "      <td>1</td>\n",
       "      <td>0.7943</td>\n",
       "      <td>0.343086</td>\n",
       "      <td>--|unconvincing best fit (no doublet; 1st OIII...</td>\n",
       "      <td>2</td>\n",
       "      <td>none</td>\n",
       "    </tr>\n",
       "  </tbody>\n",
       "</table>\n",
       "</div>"
      ],
      "text/plain": [
       "              TARGETID Redrock_spectype  Redrock_z VI_scanner  VI_quality  \\\n",
       "149  35185778208278601           GALAXY     0.7943        CGS           4   \n",
       "199  35185778208278601           GALAXY     0.7943        VRK           3   \n",
       "\n",
       "    VI_issue    VI_z VI_spectype  \\\n",
       "149      NaN     NaN         NaN   \n",
       "199        R  1.4099         NaN   \n",
       "\n",
       "                                            VI_comment  best redshift  \\\n",
       "149                                                 --         0.7943   \n",
       "199  unconvincing best fit (no doublet; 1st OIII li...         1.4099   \n",
       "\n",
       "    best spectype  vi_combined_flag  vi_diff  vi_combined_z        dz  \\\n",
       "149        GALAXY               3.5        1         0.7943  0.343086   \n",
       "199        GALAXY               3.5        1         0.7943  0.343086   \n",
       "\n",
       "                                       all VI comments  N_VI merger comment  \n",
       "149  --|unconvincing best fit (no doublet; 1st OIII...     2           none  \n",
       "199  --|unconvincing best fit (no doublet; 1st OIII...     2           none  "
      ]
     },
     "metadata": {},
     "output_type": "display_data"
    }
   ],
   "source": [
    "#copy this text to a new cell to display the conflict\n",
    "conflict_id=9\n",
    "display_conflict(conflict_id, show_spectra=show_spectra)\n"
   ]
  },
  {
   "cell_type": "code",
   "execution_count": 87,
   "metadata": {},
   "outputs": [
    {
     "name": "stdout",
     "output_type": "stream",
     "text": [
      "conflict ID =  9\n"
     ]
    }
   ],
   "source": [
    "#copy this text to a new cell to resolve the conflict\n",
    "vi.loc[vi.TARGETID==unique_targets[conflict_id], 'best redshift'] = 1.4099\n",
    "vi.loc[vi.TARGETID==unique_targets[conflict_id], 'VI_quality'] = 3\n",
    "#vi.loc[vi.TargetID==unique_targets[conflict_id], 'best spectype'] = \n",
    "\n",
    "#add a comment\n",
    "vi.loc[vi.TARGETID==unique_targets[conflict_id], 'merger comment'] = 'OII doublet at 1.4099'\n",
    "\n",
    "#look at the values again to make sure all is well\n",
    "#display(vi[vi.TARGETID==unique_targets[conflict_id]])\n",
    "print('conflict ID = ', conflict_id)\n",
    "\n"
   ]
  },
  {
   "cell_type": "code",
   "execution_count": 88,
   "metadata": {},
   "outputs": [
    {
     "data": {
      "text/html": [
       "<div>\n",
       "<style scoped>\n",
       "    .dataframe tbody tr th:only-of-type {\n",
       "        vertical-align: middle;\n",
       "    }\n",
       "\n",
       "    .dataframe tbody tr th {\n",
       "        vertical-align: top;\n",
       "    }\n",
       "\n",
       "    .dataframe thead th {\n",
       "        text-align: right;\n",
       "    }\n",
       "</style>\n",
       "<table border=\"1\" class=\"dataframe\">\n",
       "  <thead>\n",
       "    <tr style=\"text-align: right;\">\n",
       "      <th></th>\n",
       "      <th>TARGETID</th>\n",
       "      <th>Redrock_spectype</th>\n",
       "      <th>Redrock_z</th>\n",
       "      <th>VI_scanner</th>\n",
       "      <th>VI_quality</th>\n",
       "      <th>VI_issue</th>\n",
       "      <th>VI_z</th>\n",
       "      <th>VI_spectype</th>\n",
       "      <th>VI_comment</th>\n",
       "      <th>best redshift</th>\n",
       "      <th>best spectype</th>\n",
       "      <th>vi_combined_flag</th>\n",
       "      <th>vi_diff</th>\n",
       "      <th>vi_combined_z</th>\n",
       "      <th>dz</th>\n",
       "      <th>all VI comments</th>\n",
       "      <th>N_VI</th>\n",
       "      <th>merger comment</th>\n",
       "    </tr>\n",
       "  </thead>\n",
       "  <tbody>\n",
       "    <tr>\n",
       "      <th>233</th>\n",
       "      <td>35185778216665338</td>\n",
       "      <td>GALAXY</td>\n",
       "      <td>0.4628</td>\n",
       "      <td>CGS</td>\n",
       "      <td>2</td>\n",
       "      <td>R</td>\n",
       "      <td>0.9648</td>\n",
       "      <td>NaN</td>\n",
       "      <td>--</td>\n",
       "      <td>0.9648</td>\n",
       "      <td>GALAXY</td>\n",
       "      <td>2.5</td>\n",
       "      <td>1</td>\n",
       "      <td>0.4628</td>\n",
       "      <td>0.343177</td>\n",
       "      <td>--|2nd best fit is a better option (strong res...</td>\n",
       "      <td>2</td>\n",
       "      <td>none</td>\n",
       "    </tr>\n",
       "    <tr>\n",
       "      <th>283</th>\n",
       "      <td>35185778216665338</td>\n",
       "      <td>GALAXY</td>\n",
       "      <td>0.4628</td>\n",
       "      <td>VRK</td>\n",
       "      <td>3</td>\n",
       "      <td>S</td>\n",
       "      <td>NaN</td>\n",
       "      <td>NaN</td>\n",
       "      <td>2nd best fit is a better option (strong resolv...</td>\n",
       "      <td>0.4628</td>\n",
       "      <td>GALAXY</td>\n",
       "      <td>2.5</td>\n",
       "      <td>1</td>\n",
       "      <td>0.4628</td>\n",
       "      <td>0.343177</td>\n",
       "      <td>--|2nd best fit is a better option (strong res...</td>\n",
       "      <td>2</td>\n",
       "      <td>none</td>\n",
       "    </tr>\n",
       "  </tbody>\n",
       "</table>\n",
       "</div>"
      ],
      "text/plain": [
       "              TARGETID Redrock_spectype  Redrock_z VI_scanner  VI_quality  \\\n",
       "233  35185778216665338           GALAXY     0.4628        CGS           2   \n",
       "283  35185778216665338           GALAXY     0.4628        VRK           3   \n",
       "\n",
       "    VI_issue    VI_z VI_spectype  \\\n",
       "233        R  0.9648         NaN   \n",
       "283        S     NaN         NaN   \n",
       "\n",
       "                                            VI_comment  best redshift  \\\n",
       "233                                                 --         0.9648   \n",
       "283  2nd best fit is a better option (strong resolv...         0.4628   \n",
       "\n",
       "    best spectype  vi_combined_flag  vi_diff  vi_combined_z        dz  \\\n",
       "233        GALAXY               2.5        1         0.4628  0.343177   \n",
       "283        GALAXY               2.5        1         0.4628  0.343177   \n",
       "\n",
       "                                       all VI comments  N_VI merger comment  \n",
       "233  --|2nd best fit is a better option (strong res...     2           none  \n",
       "283  --|2nd best fit is a better option (strong res...     2           none  "
      ]
     },
     "metadata": {},
     "output_type": "display_data"
    }
   ],
   "source": [
    "#copy this text to a new cell to display the conflict\n",
    "conflict_id=10\n",
    "display_conflict(conflict_id, show_spectra=show_spectra)"
   ]
  },
  {
   "cell_type": "code",
   "execution_count": 89,
   "metadata": {},
   "outputs": [
    {
     "name": "stdout",
     "output_type": "stream",
     "text": [
      "conflict ID =  10\n"
     ]
    }
   ],
   "source": [
    "#copy this text to a new cell to resolve the conflict\n",
    "vi.loc[vi.TARGETID==unique_targets[conflict_id], 'best redshift'] = 0.9648\n",
    "vi.loc[vi.TARGETID==unique_targets[conflict_id], 'VI_quality'] = 4\n",
    "#vi.loc[vi.TARGETID==unique_targets[conflict_id], 'best spectype'] = 'GALAXY'\n",
    "\n",
    "#add a comment\n",
    "vi.loc[vi.TARGETID==unique_targets[conflict_id], 'merger comment'] = 'OII doublet at 0.9648. Bad calibration'\n",
    "\n",
    "#look at the values again to make sure all is well\n",
    "#\n",
    "#display(vi[vi.TARGETID==unique_targets[conflict_id]])\n",
    "print('conflict ID = ', conflict_id)\n"
   ]
  },
  {
   "cell_type": "code",
   "execution_count": 90,
   "metadata": {},
   "outputs": [
    {
     "data": {
      "text/html": [
       "<div>\n",
       "<style scoped>\n",
       "    .dataframe tbody tr th:only-of-type {\n",
       "        vertical-align: middle;\n",
       "    }\n",
       "\n",
       "    .dataframe tbody tr th {\n",
       "        vertical-align: top;\n",
       "    }\n",
       "\n",
       "    .dataframe thead th {\n",
       "        text-align: right;\n",
       "    }\n",
       "</style>\n",
       "<table border=\"1\" class=\"dataframe\">\n",
       "  <thead>\n",
       "    <tr style=\"text-align: right;\">\n",
       "      <th></th>\n",
       "      <th>TARGETID</th>\n",
       "      <th>Redrock_spectype</th>\n",
       "      <th>Redrock_z</th>\n",
       "      <th>VI_scanner</th>\n",
       "      <th>VI_quality</th>\n",
       "      <th>VI_issue</th>\n",
       "      <th>VI_z</th>\n",
       "      <th>VI_spectype</th>\n",
       "      <th>VI_comment</th>\n",
       "      <th>best redshift</th>\n",
       "      <th>best spectype</th>\n",
       "      <th>vi_combined_flag</th>\n",
       "      <th>vi_diff</th>\n",
       "      <th>vi_combined_z</th>\n",
       "      <th>dz</th>\n",
       "      <th>all VI comments</th>\n",
       "      <th>N_VI</th>\n",
       "      <th>merger comment</th>\n",
       "    </tr>\n",
       "  </thead>\n",
       "  <tbody>\n",
       "    <tr>\n",
       "      <th>243</th>\n",
       "      <td>35185778220861973</td>\n",
       "      <td>GALAXY</td>\n",
       "      <td>1.5498</td>\n",
       "      <td>CGS</td>\n",
       "      <td>1</td>\n",
       "      <td>NaN</td>\n",
       "      <td>NaN</td>\n",
       "      <td>NaN</td>\n",
       "      <td>--</td>\n",
       "      <td>1.5498</td>\n",
       "      <td>GALAXY</td>\n",
       "      <td>2.0</td>\n",
       "      <td>2</td>\n",
       "      <td>1.5498</td>\n",
       "      <td>0.0</td>\n",
       "      <td>--|convincing doublet despite skyline region</td>\n",
       "      <td>2</td>\n",
       "      <td>none</td>\n",
       "    </tr>\n",
       "    <tr>\n",
       "      <th>293</th>\n",
       "      <td>35185778220861973</td>\n",
       "      <td>GALAXY</td>\n",
       "      <td>1.5498</td>\n",
       "      <td>VRK</td>\n",
       "      <td>3</td>\n",
       "      <td>NaN</td>\n",
       "      <td>NaN</td>\n",
       "      <td>NaN</td>\n",
       "      <td>convincing doublet despite skyline region</td>\n",
       "      <td>1.5498</td>\n",
       "      <td>GALAXY</td>\n",
       "      <td>2.0</td>\n",
       "      <td>2</td>\n",
       "      <td>1.5498</td>\n",
       "      <td>0.0</td>\n",
       "      <td>--|convincing doublet despite skyline region</td>\n",
       "      <td>2</td>\n",
       "      <td>none</td>\n",
       "    </tr>\n",
       "  </tbody>\n",
       "</table>\n",
       "</div>"
      ],
      "text/plain": [
       "              TARGETID Redrock_spectype  Redrock_z VI_scanner  VI_quality  \\\n",
       "243  35185778220861973           GALAXY     1.5498        CGS           1   \n",
       "293  35185778220861973           GALAXY     1.5498        VRK           3   \n",
       "\n",
       "    VI_issue  VI_z VI_spectype                                 VI_comment  \\\n",
       "243      NaN   NaN         NaN                                         --   \n",
       "293      NaN   NaN         NaN  convincing doublet despite skyline region   \n",
       "\n",
       "     best redshift best spectype  vi_combined_flag  vi_diff  vi_combined_z  \\\n",
       "243         1.5498        GALAXY               2.0        2         1.5498   \n",
       "293         1.5498        GALAXY               2.0        2         1.5498   \n",
       "\n",
       "      dz                               all VI comments  N_VI merger comment  \n",
       "243  0.0  --|convincing doublet despite skyline region     2           none  \n",
       "293  0.0  --|convincing doublet despite skyline region     2           none  "
      ]
     },
     "metadata": {},
     "output_type": "display_data"
    }
   ],
   "source": [
    "#copy this text to a new cell to display the conflict\n",
    "conflict_id=11\n",
    "display_conflict(conflict_id, show_spectra=show_spectra)"
   ]
  },
  {
   "cell_type": "code",
   "execution_count": 91,
   "metadata": {},
   "outputs": [
    {
     "name": "stdout",
     "output_type": "stream",
     "text": [
      "conflict ID =  11\n"
     ]
    }
   ],
   "source": [
    "#copy this text to a new cell to resolve the conflict\n",
    "#vi.loc[vi.TARGETID==unique_targets[conflict_id], 'best redshift'] = 0.0662\n",
    "vi.loc[vi.TARGETID==unique_targets[conflict_id], 'VI_quality'] = 3\n",
    "#vi.loc[vi.TargetID==unique_targets[conflict_id], 'best spectype'] = \n",
    "\n",
    "#add a comment\n",
    "vi.loc[vi.TARGETID==unique_targets[conflict_id], 'merger comment'] = 'Possibe OII on sky line regions. '\n",
    "#look at the values again to make sure all is well\n",
    "#display(vi[vi.TARGETID==unique_targets[conflict_id]])\n",
    "print('conflict ID = ', conflict_id)\n"
   ]
  },
  {
   "cell_type": "code",
   "execution_count": 92,
   "metadata": {},
   "outputs": [
    {
     "data": {
      "text/html": [
       "<div>\n",
       "<style scoped>\n",
       "    .dataframe tbody tr th:only-of-type {\n",
       "        vertical-align: middle;\n",
       "    }\n",
       "\n",
       "    .dataframe tbody tr th {\n",
       "        vertical-align: top;\n",
       "    }\n",
       "\n",
       "    .dataframe thead th {\n",
       "        text-align: right;\n",
       "    }\n",
       "</style>\n",
       "<table border=\"1\" class=\"dataframe\">\n",
       "  <thead>\n",
       "    <tr style=\"text-align: right;\">\n",
       "      <th></th>\n",
       "      <th>TARGETID</th>\n",
       "      <th>Redrock_spectype</th>\n",
       "      <th>Redrock_z</th>\n",
       "      <th>VI_scanner</th>\n",
       "      <th>VI_quality</th>\n",
       "      <th>VI_issue</th>\n",
       "      <th>VI_z</th>\n",
       "      <th>VI_spectype</th>\n",
       "      <th>VI_comment</th>\n",
       "      <th>best redshift</th>\n",
       "      <th>best spectype</th>\n",
       "      <th>vi_combined_flag</th>\n",
       "      <th>vi_diff</th>\n",
       "      <th>vi_combined_z</th>\n",
       "      <th>dz</th>\n",
       "      <th>all VI comments</th>\n",
       "      <th>N_VI</th>\n",
       "      <th>merger comment</th>\n",
       "    </tr>\n",
       "  </thead>\n",
       "  <tbody>\n",
       "    <tr>\n",
       "      <th>208</th>\n",
       "      <td>35185784222909926</td>\n",
       "      <td>GALAXY</td>\n",
       "      <td>0.7575</td>\n",
       "      <td>CGS</td>\n",
       "      <td>4</td>\n",
       "      <td>NaN</td>\n",
       "      <td>NaN</td>\n",
       "      <td>NaN</td>\n",
       "      <td>--</td>\n",
       "      <td>0.7575</td>\n",
       "      <td>GALAXY</td>\n",
       "      <td>3.5</td>\n",
       "      <td>1</td>\n",
       "      <td>0.75745</td>\n",
       "      <td>0.000057</td>\n",
       "      <td>--|2nd best fit accounts for broad emission at...</td>\n",
       "      <td>2</td>\n",
       "      <td>none</td>\n",
       "    </tr>\n",
       "    <tr>\n",
       "      <th>258</th>\n",
       "      <td>35185784222909926</td>\n",
       "      <td>GALAXY</td>\n",
       "      <td>0.7575</td>\n",
       "      <td>VRK</td>\n",
       "      <td>3</td>\n",
       "      <td>RC</td>\n",
       "      <td>0.7574</td>\n",
       "      <td>QSO</td>\n",
       "      <td>2nd best fit accounts for broad emission at 49...</td>\n",
       "      <td>0.7574</td>\n",
       "      <td>QSO</td>\n",
       "      <td>3.5</td>\n",
       "      <td>1</td>\n",
       "      <td>0.75745</td>\n",
       "      <td>0.000057</td>\n",
       "      <td>--|2nd best fit accounts for broad emission at...</td>\n",
       "      <td>2</td>\n",
       "      <td>none</td>\n",
       "    </tr>\n",
       "  </tbody>\n",
       "</table>\n",
       "</div>"
      ],
      "text/plain": [
       "              TARGETID Redrock_spectype  Redrock_z VI_scanner  VI_quality  \\\n",
       "208  35185784222909926           GALAXY     0.7575        CGS           4   \n",
       "258  35185784222909926           GALAXY     0.7575        VRK           3   \n",
       "\n",
       "    VI_issue    VI_z VI_spectype  \\\n",
       "208      NaN     NaN         NaN   \n",
       "258       RC  0.7574         QSO   \n",
       "\n",
       "                                            VI_comment  best redshift  \\\n",
       "208                                                 --         0.7575   \n",
       "258  2nd best fit accounts for broad emission at 49...         0.7574   \n",
       "\n",
       "    best spectype  vi_combined_flag  vi_diff  vi_combined_z        dz  \\\n",
       "208        GALAXY               3.5        1        0.75745  0.000057   \n",
       "258           QSO               3.5        1        0.75745  0.000057   \n",
       "\n",
       "                                       all VI comments  N_VI merger comment  \n",
       "208  --|2nd best fit accounts for broad emission at...     2           none  \n",
       "258  --|2nd best fit accounts for broad emission at...     2           none  "
      ]
     },
     "metadata": {},
     "output_type": "display_data"
    }
   ],
   "source": [
    "#copy this text to a new cell to display the conflict\n",
    "conflict_id=12\n",
    "display_conflict(conflict_id, show_spectra=show_spectra)\n",
    "\n"
   ]
  },
  {
   "cell_type": "code",
   "execution_count": 93,
   "metadata": {},
   "outputs": [
    {
     "name": "stdout",
     "output_type": "stream",
     "text": [
      "conflict ID =  12\n"
     ]
    }
   ],
   "source": [
    "#copy this text to a new cell to resolve the conflict\n",
    "#vi.loc[vi.TARGETID==unique_targets[conflict_id], 'best redshift'] = 0.0810\n",
    "vi.loc[vi.TARGETID==unique_targets[conflict_id], 'VI_quality'] = 4\n",
    "vi.loc[vi.TARGETID==unique_targets[conflict_id], 'best spectype'] = 'GALAXY'\n",
    "\n",
    "#add a comment\n",
    "vi.loc[vi.TARGETID==unique_targets[conflict_id], 'merger comment'] = 'AGN. Extended source'\n",
    "\n",
    "#look at the values again to make sure all is well\n",
    "#display(vi[vi.TARGETID==unique_targets[conflict_id]])\n",
    "print('conflict ID = ', conflict_id)\n",
    "\n"
   ]
  },
  {
   "cell_type": "markdown",
   "metadata": {},
   "source": [
    "### and so on...\n",
    "\n",
    "We should now recompute the conflicts, and not find any."
   ]
  },
  {
   "cell_type": "code",
   "execution_count": null,
   "metadata": {},
   "outputs": [],
   "source": []
  },
  {
   "cell_type": "code",
   "execution_count": null,
   "metadata": {},
   "outputs": [],
   "source": []
  },
  {
   "cell_type": "code",
   "execution_count": 94,
   "metadata": {},
   "outputs": [],
   "source": [
    "vi_conflict = VI.find_conflicts(vi_gp)"
   ]
  },
  {
   "cell_type": "code",
   "execution_count": 95,
   "metadata": {},
   "outputs": [
    {
     "name": "stdout",
     "output_type": "stream",
     "text": [
      "Targets with problematic VI:  []\n",
      "Total number of conflicts to resolve:  0\n"
     ]
    }
   ],
   "source": [
    "unique_targets = np.unique(vi_conflict['TARGETID'].tolist())\n",
    "print('Targets with problematic VI: ', unique_targets)\n",
    "print('Total number of conflicts to resolve: ', len(unique_targets))"
   ]
  },
  {
   "cell_type": "markdown",
   "metadata": {},
   "source": [
    "Display anything that was missed (if \"Total number of conflicts\" isn't zero) and resolve!"
   ]
  },
  {
   "cell_type": "raw",
   "metadata": {
    "jupyter": {
     "outputs_hidden": true
    }
   },
   "source": [
    "for i in range(len(unique_targets)): \n",
    "    display(vi[vi.TargetID==unique_targets[i]])"
   ]
  },
  {
   "cell_type": "code",
   "execution_count": 96,
   "metadata": {},
   "outputs": [],
   "source": [
    "vi_conflict = VI.find_conflicts(vi_gp)"
   ]
  },
  {
   "cell_type": "code",
   "execution_count": 97,
   "metadata": {},
   "outputs": [
    {
     "name": "stdout",
     "output_type": "stream",
     "text": [
      "Targets with problematic VI:  []\n",
      "Total number of conflicts to resolve:  0\n"
     ]
    }
   ],
   "source": [
    "unique_targets = np.unique(vi_conflict['TARGETID'].tolist())\n",
    "print('Targets with problematic VI: ', unique_targets)\n",
    "print('Total number of conflicts to resolve: ', len(unique_targets))"
   ]
  },
  {
   "cell_type": "markdown",
   "metadata": {},
   "source": [
    "## Woohoo!"
   ]
  },
  {
   "cell_type": "code",
   "execution_count": null,
   "metadata": {},
   "outputs": [],
   "source": []
  },
  {
   "cell_type": "code",
   "execution_count": null,
   "metadata": {},
   "outputs": [],
   "source": []
  },
  {
   "cell_type": "code",
   "execution_count": null,
   "metadata": {},
   "outputs": [],
   "source": []
  },
  {
   "cell_type": "markdown",
   "metadata": {},
   "source": [
    "## Finally\n",
    "we need to recompute vi_combined_flag and vi_combined_z, after everything is resolved."
   ]
  },
  {
   "cell_type": "code",
   "execution_count": 98,
   "metadata": {},
   "outputs": [],
   "source": [
    "vi['vi_combined_flag'] = vi.groupby('TARGETID')['VI_quality'].transform('mean')\n",
    "vi['vi_combined_z'] = vi.groupby('TARGETID')['best redshift'].transform('mean')\n"
   ]
  },
  {
   "cell_type": "markdown",
   "metadata": {},
   "source": [
    "## Now we prepare to write to file. \n",
    "\n",
    "### The important columns for the truth table construction are **vi_combined_flag** and **vi_combined_z** \n",
    "\n",
    "The truth table should **take the redhift value in vi_combined_z** for all objects with **vi_combined_flag >= 2.5** (for discussion, but this catches the cases where there is some disagreement on the 2/3 boundary).\n",
    "\n",
    "After the merging process, those two columns will be the same for ALL of the members of each group by TargetID, so it doesn't matter which member we write to file. Taking the 1st one just makes this easy. \n"
   ]
  },
  {
   "cell_type": "code",
   "execution_count": 99,
   "metadata": {},
   "outputs": [
    {
     "data": {
      "text/plain": [
       "Index(['TARGETID', 'EXPID', 'NIGHT', 'TILEID', 'Spec_version',\n",
       "       'Redrock_version', 'Template_version', 'Redrock_spectype', 'Redrock_z',\n",
       "       'VI_scanner', 'VI_quality', 'VI_issue', 'VI_z', 'VI_spectype',\n",
       "       'VI_comment', 'FIBER', 'FLUX_G', 'FLUX_R', 'FLUX_Z', 'FIBERFLUX_G',\n",
       "       'FIBERFLUX_R', 'FIBERFLUX_Z', 'DELTACHI2', 'best redshift',\n",
       "       'best spectype', 'vi_combined_flag', 'vi_diff', 'dz', 'vi_combined_z',\n",
       "       'all VI comments', 'N_VI', 'merger comment'],\n",
       "      dtype='object')"
      ]
     },
     "execution_count": 99,
     "metadata": {},
     "output_type": "execute_result"
    }
   ],
   "source": [
    "vi.keys()"
   ]
  },
  {
   "cell_type": "code",
   "execution_count": 100,
   "metadata": {},
   "outputs": [
    {
     "name": "stdout",
     "output_type": "stream",
     "text": [
      "/global/homes/t/tlan/projects/VI_files/Andes_reinspection/ELG/truth_table_Andes_reinspection_ELG_67230_20200315_3\n"
     ]
    }
   ],
   "source": [
    "print(VI_dir+save_filename)"
   ]
  },
  {
   "cell_type": "code",
   "execution_count": 101,
   "metadata": {},
   "outputs": [
    {
     "name": "stderr",
     "output_type": "stream",
     "text": [
      "<ipython-input-101-2063ed20beca>:1: FutureWarning: Indexing with multiple keys (implicitly converted to a tuple of keys) will be deprecated, use a list instead.\n",
      "  vi_gp['Redrock_z', 'Redrock_spectype', 'best redshift' , 'best spectype', 'vi_combined_flag',\n"
     ]
    }
   ],
   "source": [
    "vi_gp['Redrock_z', 'Redrock_spectype', 'best redshift' , 'best spectype', 'vi_combined_flag',  \n",
    "      'all VI comments', 'merger comment', 'N_VI', 'DELTACHI2','FIBER'].first().to_csv(VI_dir+save_filename)"
   ]
  },
  {
   "cell_type": "markdown",
   "metadata": {},
   "source": [
    "Check that merged file reads in OK - check comments"
   ]
  },
  {
   "cell_type": "code",
   "execution_count": 102,
   "metadata": {},
   "outputs": [],
   "source": [
    "merged_file = pd.read_csv(VI_dir+save_filename)"
   ]
  },
  {
   "cell_type": "code",
   "execution_count": 103,
   "metadata": {},
   "outputs": [
    {
     "data": {
      "text/plain": [
       "Index(['TARGETID', 'Redrock_z', 'Redrock_spectype', 'best redshift',\n",
       "       'best spectype', 'vi_combined_flag', 'all VI comments',\n",
       "       'merger comment', 'N_VI', 'DELTACHI2', 'FIBER'],\n",
       "      dtype='object')"
      ]
     },
     "execution_count": 103,
     "metadata": {},
     "output_type": "execute_result"
    }
   ],
   "source": [
    "merged_file.keys()"
   ]
  },
  {
   "cell_type": "code",
   "execution_count": 104,
   "metadata": {},
   "outputs": [
    {
     "data": {
      "text/plain": [
       "150"
      ]
     },
     "execution_count": 104,
     "metadata": {},
     "output_type": "execute_result"
    }
   ],
   "source": [
    "len(merged_file)"
   ]
  },
  {
   "cell_type": "code",
   "execution_count": 105,
   "metadata": {},
   "outputs": [
    {
     "data": {
      "text/plain": [
       "'/global/homes/t/tlan/projects/VI_files/Andes_reinspection/ELG/'"
      ]
     },
     "execution_count": 105,
     "metadata": {},
     "output_type": "execute_result"
    }
   ],
   "source": [
    "VI_dir"
   ]
  },
  {
   "cell_type": "code",
   "execution_count": null,
   "metadata": {},
   "outputs": [],
   "source": []
  }
 ],
 "metadata": {
  "kernelspec": {
   "display_name": "DESI master",
   "language": "python",
   "name": "desi-master"
  },
  "language_info": {
   "codemirror_mode": {
    "name": "ipython",
    "version": 3
   },
   "file_extension": ".py",
   "mimetype": "text/x-python",
   "name": "python",
   "nbconvert_exporter": "python",
   "pygments_lexer": "ipython3",
   "version": "3.8.3"
  }
 },
 "nbformat": 4,
 "nbformat_minor": 4
}
