{
 "cells": [
  {
   "cell_type": "code",
   "execution_count": 2,
   "metadata": {},
   "outputs": [],
   "source": [
    "import pandas as pd\n",
    "import matplotlib.pyplot as plt\n",
    "import numpy as np\n",
    "from astropy.table import Table, vstack\n",
    "#from desi_retriever.denali import get_specs\n",
    "import matplotlib.cm as cm\n",
    "import scipy.ndimage as sn"
   ]
  },
  {
   "cell_type": "code",
   "execution_count": 82,
   "metadata": {},
   "outputs": [],
   "source": [
    "# The filenames are tentative. We will change the filenames.\n",
    "on_nersc=True\n",
    "if on_nersc==True:\n",
    "    dir = '/global/cfs/cdirs/desi/sv/vi/TruthTables/Cascades/'\n",
    "    BGS = pd.read_csv(dir+'BGS/'+'desi-vi_SV_cascades_combination_BGS_all_210521.csv')\n",
    "    BGS['DELTACHI2']=BGS['Redrock_deltachi2']\n",
    "    LRG = pd.read_csv(dir+'LRG/'+'desi-vi_SV_cascades_combination_LRG_all_210521.csv')\n",
    "    LRG['DELTACHI2']=LRG['Redrock_deltachi2']\n",
    "    ELG = pd.read_csv(dir+'ELG/'+'desi-vi_SV_cascades_combination_ELG_all_210521.csv')\n",
    "    ELG['DELTACHI2']=ELG['Redrock_deltachi2']\n",
    "    #ELG_80606 = pd.read_csv(dir+'ELG/'+'desi-vi_ELG_tile80606_nightdeep_merged_all_210218.csv')\n",
    "    QSO = pd.read_csv(dir+'QSO/'+'desi-vi_SV_cascades_combination_QSO_all_210611.csv')\n",
    "else:\n",
    "    #dir = '/Users/tlan/Dropbox/Astro_Research/Projects_plots_notes/2020_DESI_visual_inspect/SV1/Truth_tables/'\n",
    "    BGS = pd.read_csv('/Users/blue/Dropbox/Astro_Research/Projects_plots_notes/2020_DESI_visual_inspect/SV_VI_cascades/Cascades/BGS/output/desi-vi_SV_cascades_combination_BGS_all_210521.csv')\n",
    "    BGS['DELTACHI2']=BGS['Redrock_deltachi2']\n",
    "    #LRG = pd.read_csv(dir+'desi-vi_LRG_tile80609_nightdeep_merged_all_210130.csv')\n",
    "   "
   ]
  },
  {
   "cell_type": "code",
   "execution_count": 86,
   "metadata": {},
   "outputs": [],
   "source": [
    "cas_all = Table.read('/global/cfs/cdirs/desi/spectro/redux/cascades/zcatalog-cascades-deep.fits')\n",
    "#denali_all = denali_all[denali_all['subset']=='cumulative']"
   ]
  },
  {
   "cell_type": "code",
   "execution_count": 87,
   "metadata": {},
   "outputs": [],
   "source": [
    "new_catalog_cas = cas_all['TARGETID','Z','TILEID','TARGET_RA','TARGET_DEC','DELTACHI2',\n",
    "                              'FIBERFLUX_R','FLUX_R','FIBERFLUX_Z','FLUX_W1','FLUX_G','FLUX_Z','EBV','ZWARN','FIBER'].to_pandas()\n",
    "\n",
    "#new_catalog_denali['']"
   ]
  },
  {
   "cell_type": "code",
   "execution_count": 76,
   "metadata": {},
   "outputs": [
    {
     "name": "stdout",
     "output_type": "stream",
     "text": [
      "1374 1374\n"
     ]
    }
   ],
   "source": [
    "catalog_match = ELG.merge(new_catalog_cas,on='TARGETID',how='left',suffixes=(\"\",\"_cascades\"))\n",
    "final_match_catalog = catalog_match[catalog_match['TILEID']==catalog_match['TILEID_cascades']]\n",
    "print(len(ELG),len(final_match_catalog))\n",
    "\n",
    "output_filename = '_object_properties.csv'\n",
    "final_match_catalog.to_csv(dir+'ELG/desi-vi_SV_cascades_combination_ELG_all_210521_with'+output_filename,index=False)\n"
   ]
  },
  {
   "cell_type": "code",
   "execution_count": 77,
   "metadata": {},
   "outputs": [
    {
     "name": "stdout",
     "output_type": "stream",
     "text": [
      "1852 1852\n"
     ]
    }
   ],
   "source": [
    "catalog_match = BGS.merge(new_catalog_cas,on='TARGETID',how='left',suffixes=(\"\",\"_cascades\"))\n",
    "final_match_catalog = catalog_match[catalog_match['TILEID']==catalog_match['TILEID_cascades']]\n",
    "print(len(BGS),len(final_match_catalog))\n",
    "\n",
    "output_filename = '_object_properties.csv'\n",
    "final_match_catalog.to_csv(dir+'BGS/desi-vi_SV_cascades_combination_BGS_all_210521_with'+output_filename,index=False)\n"
   ]
  },
  {
   "cell_type": "code",
   "execution_count": 80,
   "metadata": {},
   "outputs": [
    {
     "name": "stdout",
     "output_type": "stream",
     "text": [
      "947 947\n"
     ]
    }
   ],
   "source": [
    "catalog_match = LRG.merge(new_catalog_cas,on='TARGETID',how='left',suffixes=(\"\",\"_cascades\"))\n",
    "final_match_catalog = catalog_match[catalog_match['TILEID']==catalog_match['TILEID_cascades']]\n",
    "print(len(LRG),len(final_match_catalog))\n",
    "\n",
    "output_filename = '_object_properties.csv'\n",
    "final_match_catalog.to_csv(dir+'LRG/desi-vi_SV_cascades_combination_LRG_all_210521_with'+output_filename,index=False)\n"
   ]
  },
  {
   "cell_type": "code",
   "execution_count": 132,
   "metadata": {},
   "outputs": [
    {
     "name": "stdout",
     "output_type": "stream",
     "text": [
      "2392 2460\n"
     ]
    }
   ],
   "source": [
    "catalog_match = QSO.merge(new_catalog_cas,on='TARGETID',how='left',suffixes=(\"\",\"_cascades\"))\n",
    "final_match_catalog = catalog_match#[abs(catalog_match['Redrock_z']-catalog_match['Z'])/(1+catalog_match['Redrock_z'])<0.0000447]\n",
    "print(len(QSO),len(final_match_catalog))\n",
    "\n",
    "output_filename = '_object_properties.csv'\n",
    "final_match_catalog.to_csv(dir+'QSO/desi-vi_SV_cascades_combination_QSO_all_210611_with'+output_filename,index=False)\n"
   ]
  },
  {
   "cell_type": "code",
   "execution_count": null,
   "metadata": {},
   "outputs": [],
   "source": []
  }
 ],
 "metadata": {
  "kernelspec": {
   "display_name": "Python 3",
   "language": "python",
   "name": "python3"
  },
  "language_info": {
   "codemirror_mode": {
    "name": "ipython",
    "version": 3
   },
   "file_extension": ".py",
   "mimetype": "text/x-python",
   "name": "python",
   "nbconvert_exporter": "python",
   "pygments_lexer": "ipython3",
   "version": "3.7.4"
  }
 },
 "nbformat": 4,
 "nbformat_minor": 4
}
