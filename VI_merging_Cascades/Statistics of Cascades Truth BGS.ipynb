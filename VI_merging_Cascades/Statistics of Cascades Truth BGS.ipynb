{
 "cells": [
  {
   "cell_type": "code",
   "execution_count": 2,
   "metadata": {},
   "outputs": [],
   "source": [
    "import pandas as pd\n",
    "import matplotlib.pyplot as plt\n",
    "import numpy as np\n",
    "from astropy.table import Table, vstack\n",
    "import matplotlib.cm as cm"
   ]
  },
  {
   "cell_type": "code",
   "execution_count": 3,
   "metadata": {},
   "outputs": [],
   "source": [
    "def print_simple_number(truth_table,object_type):\n",
    "    total_N = len(truth_table)\n",
    "    good_N = len(truth_table[truth_table['best_quality']>=2.5])\n",
    "    very_good_N = len(truth_table[truth_table['best_quality']==4])\n",
    "    tmp_table = truth_table.loc[truth_table['best_quality']>=2.5]\n",
    "    number_of_consistent_z = len(tmp_table.loc[abs(tmp_table['best_z']-tmp_table['Redrock_z'])/(1+tmp_table['best_z'])<0.0033])\n",
    "    \n",
    "    print('Number of',object_type,':',total_N)\n",
    "    print('Number of ',object_type,'with quality>=2.5:',good_N, ' | fration=',good_N*1.0/total_N)\n",
    "    print('Number of ',object_type,'with quality==4:',very_good_N, ' | fration=',very_good_N*1.0/total_N)\n",
    "    print('Number of ',object_type,'with consistent z (with quality>=2.5):',number_of_consistent_z, '| fraction=',number_of_consistent_z/total_N)\n",
    "   \n",
    "    number_star = len(tmp_table.loc[tmp_table['best_spectype']=='STAR'])\n",
    "    number_galaxy = len(tmp_table.loc[tmp_table['best_spectype']=='GALAXY'])\n",
    "    number_qso = len(tmp_table.loc[tmp_table['best_spectype']=='QSO'])\n",
    "    print('---------')  \n",
    "    print('Fraction of objects with quality>=2.5')\n",
    "    print('Star:',number_star*1.0/good_N)\n",
    "    print('Galaxy:',number_galaxy*1.0/good_N)    \n",
    "    print('QSO:',number_qso*1.0/good_N)\n",
    "\n",
    "    plt.hist(truth_table['best_quality'],bins=8,range=(0,4))\n",
    "    plt.ylabel('Number')\n",
    "    plt.xlabel('Quality')\n",
    "    plt.yscale('log')\n",
    "    plt.xlim(0,4)\n",
    "  "
   ]
  },
  {
   "cell_type": "code",
   "execution_count": 4,
   "metadata": {},
   "outputs": [],
   "source": [
    "def plot_redshift_distribution(truth_table,object_type):\n",
    "    plt.figure(figsize=(15,5))\n",
    "    plt.subplot(1,2,1)\n",
    "    x_range = [0,max(truth_table.loc[truth_table['best_quality']>=2.5]['best_z'])]\n",
    "    plt.hist(truth_table['best_z'],range=(x_range[0],x_range[1]),bins=20,color='b',label='All')\n",
    "    plt.hist(truth_table.loc[truth_table['best_quality']>=2.5]['best_z'],range=(x_range[0],x_range[1]),bins=20,color='orange',label='quality>=2.5')\n",
    "    plt.hist(truth_table.loc[truth_table['best_quality']==4]['best_z'],range=(x_range[0],x_range[1]),bins=20,color='g',label='quality=4')\n",
    "    plt.yscale('log')\n",
    "    plt.xlabel('Best z')\n",
    "    plt.ylabel('Number')\n",
    "    plt.legend()\n",
    "    plt.title(object_type)\n",
    "    \n",
    "    plt.subplot(1,2,2)\n",
    "    plt.scatter(truth_table.loc[truth_table['best_quality']>=2.5]['best_z'],truth_table.loc[truth_table['best_quality']>=2.5]['Redrock_z'],\n",
    "                \n",
    "                c=truth_table.loc[truth_table['best_quality']>=2.5]['best_quality'],cmap=cm.jet)\n",
    "    plt.xlabel('Best z')\n",
    "    plt.ylabel('Redrock z')\n",
    "    plt.colorbar()"
   ]
  },
  {
   "cell_type": "code",
   "execution_count": 5,
   "metadata": {},
   "outputs": [],
   "source": [
    "def plot_chi2_quality_distribution(truth_table):\n",
    "    #plt.scatter(truth_table['best_quality'],truth_table['DELTACHI2'])\n",
    "    #plt.ylim(1,100000)\n",
    "    #plt.yscale('log')\n",
    "    plt.figure(figsize=(15,5))\n",
    "    plt.subplot(1,2,1)\n",
    "    plt.hist(np.log10(truth_table['DELTACHI2']),label='All',bins=8,range=(0,5),color='b')\n",
    "    plt.hist(np.log10(truth_table.loc[truth_table['best_quality']>=2.5]['DELTACHI2']),color='orange',label='flag>=2.5',bins=8,range=(0,5))\n",
    "    plt.hist(np.log10(truth_table.loc[truth_table['best_quality']==4]['DELTACHI2']),color='g',label='flag=4',bins=8,range=(0,5),)\n",
    "    plt.xlabel('$log_{10}$ delta chi$^{2}$')\n",
    "    plt.ylabel('Number')\n",
    "    plt.yscale('log')\n",
    "    plt.legend()\n",
    "    plt.subplot(1,2,2)\n",
    "    \n",
    "    plt.hist(np.log10(truth_table.loc[truth_table['best_quality']<2.5]['DELTACHI2']),color='grey',label='flag<2.5',bins=8,range=(0,5),histtype='step',lw=4)\n",
    "    plt.hist(np.log10(truth_table.loc[truth_table['best_quality']>=2.5]['DELTACHI2']),color='orange',label='flag>=2.5',bins=8,range=(0,5),histtype='step',lw=4)\n",
    "    #plt.hist(np.log10(truth_table.loc[truth_table['best_quality']==4]['DELTACHI2']),color='g',label='flag=4',bins=8,range=(0,5),histtype='step',lw=4)\n",
    "\n",
    "    plt.xlabel('$log_{10}$ delta chi$^{2}$')\n",
    "    plt.ylabel('Number')\n",
    "    plt.yscale('log')\n",
    "    plt.legend()    \n",
    "    \n",
    "    \n",
    "    \n",
    "    "
   ]
  },
  {
   "cell_type": "code",
   "execution_count": 6,
   "metadata": {},
   "outputs": [],
   "source": [
    "def give_me_ra_dec_object_with_property_cut(truth_table, property_name, cut, if_print=True):\n",
    "    tmp_table = truth_table.loc[(truth_table[property_name]>=cut[0]) & (truth_table[property_name]<cut[1])]\n",
    "    if if_print==True:\n",
    "        for i_object in range(0,len(tmp_table)):\n",
    "            print(tmp_table['TARGET_RA'].values[i_object],tmp_table['TARGET_DEC'].values[i_object])\n",
    "    \n",
    "    return tmp_table"
   ]
  },
  {
   "cell_type": "code",
   "execution_count": 7,
   "metadata": {},
   "outputs": [],
   "source": [
    "# The filenames are tentative. We will change the filenames.\n",
    "on_nersc=True\n",
    "if on_nersc==True:\n",
    "    dir = '/global/cfs/cdirs/desi/sv/vi/TruthTables/Cascades/'\n",
    "    BGS = pd.read_csv(dir+'BGS/'+'desi-vi_SV_cascades_combination_BGS_all_210521.csv')\n",
    "    BGS['DELTACHI2']=BGS['Redrock_deltachi2']\n",
    "    LRG = pd.read_csv(dir+'LRG/'+'desi-vi_SV_cascades_combination_LRG_all_210521.csv')\n",
    "    LRG['DELTACHI2']=LRG['Redrock_deltachi2']\n",
    "    ELG = pd.read_csv(dir+'ELG/'+'desi-vi_SV_cascades_combination_ELG_all_210521.csv')\n",
    "    ELG['DELTACHI2']=ELG['Redrock_deltachi2']\n",
    "    #ELG_80606 = pd.read_csv(dir+'ELG/'+'desi-vi_ELG_tile80606_nightdeep_merged_all_210218.csv')\n",
    "else:\n",
    "    dir = '/Users/tlan/Dropbox/Astro_Research/Projects_plots_notes/2020_DESI_visual_inspect/SV1/Truth_tables/'\n",
    "    BGS = pd.read_csv(dir+'desi-vi_BGS_tile80613_nightdeep_merged_all_210202.csv')\n",
    "    LRG = pd.read_csv(dir+'desi-vi_LRG_tile80609_nightdeep_merged_all_210130.csv')\n",
    "    ELG_80606 = pd.read_csv(dir+'desi-vi_ELG_tile80606_nightdeep_merged_all_210218.csv')\n",
    "    ELG_80608 = pd.read_csv(dir+'desi-vi_ELG_tile80608_nightdeep_merged_all_210208.csv')\n",
    "    ELG_80610 = pd.read_csv(dir+'desi-vi_ELG_tile80610_nightdeep_merged_all_210308.csv')\n",
    "    #QSO = pd.read_csv('desi-vi_QSO_tile80609_nightdeep_merged_all_210202_ADDING_object_info.csv')"
   ]
  },
  {
   "cell_type": "code",
   "execution_count": 8,
   "metadata": {},
   "outputs": [],
   "source": [
    "#BGS"
   ]
  },
  {
   "cell_type": "code",
   "execution_count": 9,
   "metadata": {},
   "outputs": [
    {
     "data": {
      "text/html": [
       "<div>\n",
       "<style scoped>\n",
       "    .dataframe tbody tr th:only-of-type {\n",
       "        vertical-align: middle;\n",
       "    }\n",
       "\n",
       "    .dataframe tbody tr th {\n",
       "        vertical-align: top;\n",
       "    }\n",
       "\n",
       "    .dataframe thead th {\n",
       "        text-align: right;\n",
       "    }\n",
       "</style>\n",
       "<table border=\"1\" class=\"dataframe\">\n",
       "  <thead>\n",
       "    <tr style=\"text-align: right;\">\n",
       "      <th></th>\n",
       "      <th>TARGETID</th>\n",
       "      <th>Redrock_z</th>\n",
       "      <th>best_z</th>\n",
       "      <th>best_quality</th>\n",
       "      <th>Redrock_spectype</th>\n",
       "      <th>best_spectype</th>\n",
       "      <th>all_VI_issues</th>\n",
       "      <th>all_VI_comments</th>\n",
       "      <th>merger_comment</th>\n",
       "      <th>N_VI</th>\n",
       "      <th>Redrock_deltachi2</th>\n",
       "      <th>TILEID</th>\n",
       "      <th>setting_name</th>\n",
       "      <th>DELTACHI2</th>\n",
       "    </tr>\n",
       "  </thead>\n",
       "  <tbody>\n",
       "    <tr>\n",
       "      <td>0</td>\n",
       "      <td>39628422510544676</td>\n",
       "      <td>0.1950</td>\n",
       "      <td>0.19500</td>\n",
       "      <td>4.0</td>\n",
       "      <td>GALAXY</td>\n",
       "      <td>GALAXY</td>\n",
       "      <td>NaN</td>\n",
       "      <td>NaN</td>\n",
       "      <td>none</td>\n",
       "      <td>2</td>\n",
       "      <td>1934.6</td>\n",
       "      <td>80664</td>\n",
       "      <td>sel0</td>\n",
       "      <td>1934.6</td>\n",
       "    </tr>\n",
       "    <tr>\n",
       "      <td>1</td>\n",
       "      <td>39628422514741841</td>\n",
       "      <td>0.2579</td>\n",
       "      <td>0.25790</td>\n",
       "      <td>4.0</td>\n",
       "      <td>GALAXY</td>\n",
       "      <td>GALAXY</td>\n",
       "      <td>NaN</td>\n",
       "      <td>NaN</td>\n",
       "      <td>none</td>\n",
       "      <td>2</td>\n",
       "      <td>641.2</td>\n",
       "      <td>80664</td>\n",
       "      <td>sel0</td>\n",
       "      <td>641.2</td>\n",
       "    </tr>\n",
       "    <tr>\n",
       "      <td>2</td>\n",
       "      <td>39628422518932837</td>\n",
       "      <td>0.1867</td>\n",
       "      <td>0.18670</td>\n",
       "      <td>4.0</td>\n",
       "      <td>GALAXY</td>\n",
       "      <td>GALAXY</td>\n",
       "      <td>NaN</td>\n",
       "      <td>NaN</td>\n",
       "      <td>none</td>\n",
       "      <td>2</td>\n",
       "      <td>575.6</td>\n",
       "      <td>80664</td>\n",
       "      <td>sel0</td>\n",
       "      <td>575.6</td>\n",
       "    </tr>\n",
       "    <tr>\n",
       "      <td>3</td>\n",
       "      <td>39628422518933551</td>\n",
       "      <td>0.2084</td>\n",
       "      <td>0.20840</td>\n",
       "      <td>4.0</td>\n",
       "      <td>GALAXY</td>\n",
       "      <td>GALAXY</td>\n",
       "      <td>NaN</td>\n",
       "      <td>NaN</td>\n",
       "      <td>none</td>\n",
       "      <td>2</td>\n",
       "      <td>731.9</td>\n",
       "      <td>80664</td>\n",
       "      <td>sel0</td>\n",
       "      <td>731.9</td>\n",
       "    </tr>\n",
       "    <tr>\n",
       "      <td>4</td>\n",
       "      <td>39628422518935473</td>\n",
       "      <td>0.4163</td>\n",
       "      <td>0.41630</td>\n",
       "      <td>3.5</td>\n",
       "      <td>GALAXY</td>\n",
       "      <td>GALAXY</td>\n",
       "      <td>NaN</td>\n",
       "      <td>NaN</td>\n",
       "      <td>none</td>\n",
       "      <td>2</td>\n",
       "      <td>1242.7</td>\n",
       "      <td>80664</td>\n",
       "      <td>sel0</td>\n",
       "      <td>1242.7</td>\n",
       "    </tr>\n",
       "    <tr>\n",
       "      <td>...</td>\n",
       "      <td>...</td>\n",
       "      <td>...</td>\n",
       "      <td>...</td>\n",
       "      <td>...</td>\n",
       "      <td>...</td>\n",
       "      <td>...</td>\n",
       "      <td>...</td>\n",
       "      <td>...</td>\n",
       "      <td>...</td>\n",
       "      <td>...</td>\n",
       "      <td>...</td>\n",
       "      <td>...</td>\n",
       "      <td>...</td>\n",
       "      <td>...</td>\n",
       "    </tr>\n",
       "    <tr>\n",
       "      <td>1847</td>\n",
       "      <td>39628516131604165</td>\n",
       "      <td>1.1046</td>\n",
       "      <td>0.16880</td>\n",
       "      <td>4.0</td>\n",
       "      <td>QSO</td>\n",
       "      <td>GALAXY</td>\n",
       "      <td>SCR</td>\n",
       "      <td>a strange flux trough at 6200A&lt;\\lambda&lt;9200A O...</td>\n",
       "      <td>none</td>\n",
       "      <td>2</td>\n",
       "      <td>1198.1</td>\n",
       "      <td>80643</td>\n",
       "      <td>sel1</td>\n",
       "      <td>1198.1</td>\n",
       "    </tr>\n",
       "    <tr>\n",
       "      <td>1848</td>\n",
       "      <td>39628516131604442</td>\n",
       "      <td>1.1044</td>\n",
       "      <td>0.19575</td>\n",
       "      <td>4.0</td>\n",
       "      <td>QSO</td>\n",
       "      <td>GALAXY</td>\n",
       "      <td>SCR</td>\n",
       "      <td>Oscillation pattern</td>\n",
       "      <td>none</td>\n",
       "      <td>2</td>\n",
       "      <td>2000.9</td>\n",
       "      <td>80643</td>\n",
       "      <td>sel1</td>\n",
       "      <td>2000.9</td>\n",
       "    </tr>\n",
       "    <tr>\n",
       "      <td>1849</td>\n",
       "      <td>39628516131604880</td>\n",
       "      <td>1.1044</td>\n",
       "      <td>0.19500</td>\n",
       "      <td>4.0</td>\n",
       "      <td>QSO</td>\n",
       "      <td>GALAXY</td>\n",
       "      <td>SCR</td>\n",
       "      <td>Oscillation pattern</td>\n",
       "      <td>none</td>\n",
       "      <td>2</td>\n",
       "      <td>227.2</td>\n",
       "      <td>80643</td>\n",
       "      <td>sel1</td>\n",
       "      <td>227.2</td>\n",
       "    </tr>\n",
       "    <tr>\n",
       "      <td>1850</td>\n",
       "      <td>39628516131604896</td>\n",
       "      <td>1.1117</td>\n",
       "      <td>0.16775</td>\n",
       "      <td>4.0</td>\n",
       "      <td>QSO</td>\n",
       "      <td>GALAXY</td>\n",
       "      <td>SCR</td>\n",
       "      <td>Oscillation pattern</td>\n",
       "      <td>none</td>\n",
       "      <td>2</td>\n",
       "      <td>70.0</td>\n",
       "      <td>80643</td>\n",
       "      <td>sel1</td>\n",
       "      <td>70.0</td>\n",
       "    </tr>\n",
       "    <tr>\n",
       "      <td>1851</td>\n",
       "      <td>39628516131606576</td>\n",
       "      <td>1.1046</td>\n",
       "      <td>0.19550</td>\n",
       "      <td>4.0</td>\n",
       "      <td>QSO</td>\n",
       "      <td>GALAXY</td>\n",
       "      <td>SCR</td>\n",
       "      <td>Oscillation pattern</td>\n",
       "      <td>none</td>\n",
       "      <td>2</td>\n",
       "      <td>64.8</td>\n",
       "      <td>80643</td>\n",
       "      <td>sel1</td>\n",
       "      <td>64.8</td>\n",
       "    </tr>\n",
       "  </tbody>\n",
       "</table>\n",
       "<p>1852 rows × 14 columns</p>\n",
       "</div>"
      ],
      "text/plain": [
       "               TARGETID  Redrock_z   best_z  best_quality Redrock_spectype  \\\n",
       "0     39628422510544676     0.1950  0.19500           4.0           GALAXY   \n",
       "1     39628422514741841     0.2579  0.25790           4.0           GALAXY   \n",
       "2     39628422518932837     0.1867  0.18670           4.0           GALAXY   \n",
       "3     39628422518933551     0.2084  0.20840           4.0           GALAXY   \n",
       "4     39628422518935473     0.4163  0.41630           3.5           GALAXY   \n",
       "...                 ...        ...      ...           ...              ...   \n",
       "1847  39628516131604165     1.1046  0.16880           4.0              QSO   \n",
       "1848  39628516131604442     1.1044  0.19575           4.0              QSO   \n",
       "1849  39628516131604880     1.1044  0.19500           4.0              QSO   \n",
       "1850  39628516131604896     1.1117  0.16775           4.0              QSO   \n",
       "1851  39628516131606576     1.1046  0.19550           4.0              QSO   \n",
       "\n",
       "     best_spectype all_VI_issues  \\\n",
       "0           GALAXY           NaN   \n",
       "1           GALAXY           NaN   \n",
       "2           GALAXY           NaN   \n",
       "3           GALAXY           NaN   \n",
       "4           GALAXY           NaN   \n",
       "...            ...           ...   \n",
       "1847        GALAXY           SCR   \n",
       "1848        GALAXY           SCR   \n",
       "1849        GALAXY           SCR   \n",
       "1850        GALAXY           SCR   \n",
       "1851        GALAXY           SCR   \n",
       "\n",
       "                                        all_VI_comments merger_comment  N_VI  \\\n",
       "0                                                   NaN           none     2   \n",
       "1                                                   NaN           none     2   \n",
       "2                                                   NaN           none     2   \n",
       "3                                                   NaN           none     2   \n",
       "4                                                   NaN           none     2   \n",
       "...                                                 ...            ...   ...   \n",
       "1847  a strange flux trough at 6200A<\\lambda<9200A O...           none     2   \n",
       "1848                                Oscillation pattern           none     2   \n",
       "1849                                Oscillation pattern           none     2   \n",
       "1850                                Oscillation pattern           none     2   \n",
       "1851                                Oscillation pattern           none     2   \n",
       "\n",
       "      Redrock_deltachi2  TILEID setting_name  DELTACHI2  \n",
       "0                1934.6   80664         sel0     1934.6  \n",
       "1                 641.2   80664         sel0      641.2  \n",
       "2                 575.6   80664         sel0      575.6  \n",
       "3                 731.9   80664         sel0      731.9  \n",
       "4                1242.7   80664         sel0     1242.7  \n",
       "...                 ...     ...          ...        ...  \n",
       "1847             1198.1   80643         sel1     1198.1  \n",
       "1848             2000.9   80643         sel1     2000.9  \n",
       "1849              227.2   80643         sel1      227.2  \n",
       "1850               70.0   80643         sel1       70.0  \n",
       "1851               64.8   80643         sel1       64.8  \n",
       "\n",
       "[1852 rows x 14 columns]"
      ]
     },
     "execution_count": 9,
     "metadata": {},
     "output_type": "execute_result"
    }
   ],
   "source": [
    "BGS"
   ]
  },
  {
   "cell_type": "markdown",
   "metadata": {},
   "source": [
    "# BGS main z_deep<0.9 and non-repeatable redshifts"
   ]
  },
  {
   "cell_type": "code",
   "execution_count": 10,
   "metadata": {},
   "outputs": [
    {
     "name": "stdout",
     "output_type": "stream",
     "text": [
      "Number of BGS : 1424\n",
      "Number of  BGS with quality>=2.5: 1412  | fration= 0.9915730337078652\n",
      "Number of  BGS with quality==4: 1325  | fration= 0.9304775280898876\n",
      "Number of  BGS with consistent z (with quality>=2.5): 1361 | fraction= 0.9557584269662921\n",
      "---------\n",
      "Fraction of objects with quality>=2.5\n",
      "Star: 0.09490084985835694\n",
      "Galaxy: 0.8937677053824362\n",
      "QSO: 0.0113314447592068\n"
     ]
    },
    {
     "data": {
      "image/png": "[encoded data removed]",
      "text/plain": [
       "<Figure size 432x288 with 1 Axes>"
      ]
     },
     "metadata": {
      "needs_background": "light"
     },
     "output_type": "display_data"
    },
    {
     "data": {
      "image/png": "[encoded data removed]",
      "text/plain": [
       "<Figure size 1080x360 with 3 Axes>"
      ]
     },
     "metadata": {
      "needs_background": "light"
     },
     "output_type": "display_data"
    },
    {
     "data": {
      "image/png": "[encoded data removed]",
      "text/plain": [
       "<Figure size 1080x360 with 2 Axes>"
      ]
     },
     "metadata": {
      "needs_background": "light"
     },
     "output_type": "display_data"
    }
   ],
   "source": [
    "BGS_main = BGS[BGS['setting_name']=='sel0']\n",
    "print_simple_number(BGS_main,'BGS')\n",
    "plot_redshift_distribution(BGS_main,'BGS')\n",
    "plot_chi2_quality_distribution(BGS_main)"
   ]
  },
  {
   "cell_type": "markdown",
   "metadata": {},
   "source": [
    "# BGS with z_deep>0.9"
   ]
  },
  {
   "cell_type": "code",
   "execution_count": 13,
   "metadata": {},
   "outputs": [
    {
     "name": "stdout",
     "output_type": "stream",
     "text": [
      "Number of BGS : 428\n",
      "Number of  BGS with quality>=2.5: 411  | fration= 0.9602803738317757\n",
      "Number of  BGS with quality==4: 373  | fration= 0.8714953271028038\n",
      "Number of  BGS with consistent z (with quality>=2.5): 90 | fraction= 0.2102803738317757\n",
      "---------\n",
      "Fraction of objects with quality>=2.5\n",
      "Star: 0.12895377128953772\n",
      "Galaxy: 0.6423357664233577\n",
      "QSO: 0.22871046228710462\n"
     ]
    },
    {
     "data": {
      "image/png": "[encoded data removed]",
      "text/plain": [
       "<Figure size 432x288 with 1 Axes>"
      ]
     },
     "metadata": {
      "needs_background": "light"
     },
     "output_type": "display_data"
    },
    {
     "data": {
      "image/png": "[encoded data removed]",
      "text/plain": [
       "<Figure size 1080x360 with 3 Axes>"
      ]
     },
     "metadata": {
      "needs_background": "light"
     },
     "output_type": "display_data"
    },
    {
     "data": {
      "image/png": "[encoded data removed]",
      "text/plain": [
       "<Figure size 1080x360 with 2 Axes>"
      ]
     },
     "metadata": {
      "needs_background": "light"
     },
     "output_type": "display_data"
    }
   ],
   "source": [
    "BGS_highz = BGS[BGS['setting_name']=='sel1']\n",
    "print_simple_number(BGS_highz,'BGS')\n",
    "plot_redshift_distribution(BGS_highz,'BGS')\n",
    "plot_chi2_quality_distribution(BGS_highz)"
   ]
  },
  {
   "cell_type": "code",
   "execution_count": 14,
   "metadata": {},
   "outputs": [],
   "source": [
    "denali_all = Table.read('/global/cfs/cdirs/desi/survey/catalogs/SV1/redshift_comps/denali/testdenali/All/alltiles_Allzinfo.fits')"
   ]
  },
  {
   "cell_type": "code",
   "execution_count": 15,
   "metadata": {},
   "outputs": [],
   "source": [
    "denali_all = denali_all[denali_all['coadd_type']=='cumulative']"
   ]
  },
  {
   "cell_type": "code",
   "execution_count": 43,
   "metadata": {},
   "outputs": [],
   "source": [
    "new_catalog_denali = denali_all['TARGETID','Z','subset','TILEID','DELTACHI2','TARGET_RA','TARGET_DEC',\n",
    "                              'EFFTIME_BRIGHT','FIBERFLUX_R','FLUX_R','FIBERFLUX_Z','FLUX_W1','FLUX_G','FLUX_Z','EBV','ZWARN','FIBER'].to_pandas()"
   ]
  },
  {
   "cell_type": "code",
   "execution_count": 44,
   "metadata": {},
   "outputs": [],
   "source": [
    "catalog_BGS_match = BGS_highz.merge(new_catalog_denali,on='TARGETID',how='left',suffixes=(\"_cascades\",\"_denali\"))"
   ]
  },
  {
   "cell_type": "code",
   "execution_count": 45,
   "metadata": {},
   "outputs": [],
   "source": [
    "final_match_catalog = catalog_BGS_match[catalog_BGS_match['TILEID_cascades']==catalog_BGS_match['TILEID_denali']]"
   ]
  },
  {
   "cell_type": "markdown",
   "metadata": {},
   "source": [
    "### Comparing the Denali redshift and the best z\n",
    "\n",
    "The consistency increases from 20% to 70%!!"
   ]
  },
  {
   "cell_type": "code",
   "execution_count": 46,
   "metadata": {},
   "outputs": [
    {
     "name": "stderr",
     "output_type": "stream",
     "text": [
      "/usr/common/software/python/3.7-anaconda-2019.10/lib/python3.7/site-packages/ipykernel_launcher.py:1: SettingWithCopyWarning: \n",
      "A value is trying to be set on a copy of a slice from a DataFrame.\n",
      "Try using .loc[row_indexer,col_indexer] = value instead\n",
      "\n",
      "See the caveats in the documentation: http://pandas.pydata.org/pandas-docs/stable/user_guide/indexing.html#returning-a-view-versus-a-copy\n",
      "  \"\"\"Entry point for launching an IPython kernel.\n"
     ]
    },
    {
     "name": "stdout",
     "output_type": "stream",
     "text": [
      "Number of BGS : 408\n",
      "Number of  BGS with quality>=2.5: 391  | fration= 0.9583333333333334\n",
      "Number of  BGS with quality==4: 355  | fration= 0.8700980392156863\n",
      "Number of  BGS with consistent z (with quality>=2.5): 279 | fraction= 0.6838235294117647\n",
      "---------\n",
      "Fraction of objects with quality>=2.5\n",
      "Star: 0.1278772378516624\n",
      "Galaxy: 0.639386189258312\n",
      "QSO: 0.23273657289002558\n"
     ]
    },
    {
     "data": {
      "image/png": "[encoded data removed]",
      "text/plain": [
       "<Figure size 432x288 with 1 Axes>"
      ]
     },
     "metadata": {
      "needs_background": "light"
     },
     "output_type": "display_data"
    }
   ],
   "source": [
    "final_match_catalog['Redrock_z']=final_match_catalog['Z']\n",
    "print_simple_number(final_match_catalog,'BGS')"
   ]
  },
  {
   "cell_type": "code",
   "execution_count": 47,
   "metadata": {},
   "outputs": [
    {
     "name": "stderr",
     "output_type": "stream",
     "text": [
      "/usr/common/software/python/3.7-anaconda-2019.10/lib/python3.7/site-packages/ipykernel_launcher.py:1: SettingWithCopyWarning: \n",
      "A value is trying to be set on a copy of a slice from a DataFrame.\n",
      "Try using .loc[row_indexer,col_indexer] = value instead\n",
      "\n",
      "See the caveats in the documentation: http://pandas.pydata.org/pandas-docs/stable/user_guide/indexing.html#returning-a-view-versus-a-copy\n",
      "  \"\"\"Entry point for launching an IPython kernel.\n"
     ]
    }
   ],
   "source": [
    "final_match_catalog['dz']=abs(final_match_catalog['Z']-final_match_catalog['best_z'])/(1.+final_match_catalog['best_z'])"
   ]
  },
  {
   "cell_type": "code",
   "execution_count": 49,
   "metadata": {},
   "outputs": [],
   "source": [
    "cut_catalog = final_match_catalog[(final_match_catalog['dz']>0.0033) & (final_match_catalog['best_quality']>=2.5)]"
   ]
  },
  {
   "cell_type": "code",
   "execution_count": 51,
   "metadata": {},
   "outputs": [
    {
     "name": "stdout",
     "output_type": "stream",
     "text": [
      "99.68770745687613 45.71175486995044\n",
      "97.96785729594103 45.94121523059481\n",
      "95.59853690966847 46.76216979925484\n",
      "97.54823604105081 48.70152865778377\n",
      "167.11219959618535 51.372931857977505\n",
      "168.22887181297628 51.981545027347416\n",
      "214.97038490130757 52.021379596780946\n",
      "259.8192382498188 57.113060242168565\n",
      "142.78246388469557 64.14859047506995\n",
      "140.99191619792376 64.39673028673056\n",
      "141.99552288124084 64.50520730172542\n",
      "144.4905089883057 65.47523791917281\n",
      "145.9093560304236 65.52531822411372\n",
      "147.3446135558291 65.49591617504936\n",
      "161.98374512430775 81.70633775741342\n",
      "127.71442914555834 82.15277691997778\n",
      "137.33955601755483 82.16409128050981\n",
      "158.91821689318704 82.26270224065615\n",
      "163.89934082371994 -26.72779787387846\n",
      "88.20827247018286 -22.73313094011425\n",
      "66.54640138655705 -6.3364359122691605\n",
      "31.037631724539814 -5.752029525410941\n",
      "31.146942843466103 -5.707699103646304\n",
      "31.801593030899017 -5.771401499492254\n",
      "31.905840649647924 -5.4706375909811324\n",
      "65.20700308084606 -4.723586280579886\n",
      "31.436110491412684 -3.9502539467637883\n",
      "31.487722700824165 -3.8852897043044274\n",
      "66.49549585013091 -4.018721872205196\n",
      "66.57056535478782 -3.7209842316771558\n",
      "29.490188716070257 -3.060368455067738\n",
      "28.813897159021124 -1.7699171168772492\n",
      "28.90108900443231 -1.4894238444944816\n",
      "37.86730757415686 -1.310774984157306\n",
      "38.13955630417773 -1.2338990458156274\n",
      "149.94091590811192 0.8428913964669236\n",
      "149.55459636098993 0.8880502041082536\n",
      "115.906957849979 17.017976452245154\n",
      "101.64343794177638 37.77364731068563\n",
      "101.8430089639837 38.00060708768206\n",
      "102.18959646592448 37.92685719024522\n",
      "102.54222843036311 38.46770745028378\n",
      "118.72981934405308 39.106379480891306\n",
      "121.6149103328685 39.43578149472809\n",
      "154.31250075526282 40.11810044004386\n",
      "153.58000412835383 40.84036730150124\n",
      "119.51746289248399 41.254993497013\n",
      "119.75332163990375 41.21885360012267\n",
      "151.1071415995782 41.26025337579421\n",
      "152.30453764631997 41.52915557505434\n",
      "97.34506199314008 43.19992362999645\n",
      "98.91626640634165 43.18704123421237\n",
      "98.98130631262356 43.13617329122565\n",
      "99.51370730152756 43.325806235231894\n",
      "99.24779763810854 43.4997326556879\n",
      "96.6214677487434 43.76892464427125\n",
      "98.96340853175481 43.67431163593279\n",
      "157.16416204272514 43.86708930508344\n",
      "99.49945254829579 44.17781005425944\n",
      "100.34952303353826 44.326198517761455\n",
      "99.47901556179406 44.59801188306752\n",
      "154.86615525187975 44.613981795667975\n",
      "155.89404525552513 44.80075511352097\n",
      "155.97775996926526 44.86439854921537\n",
      "97.83992664644624 45.05562796062326\n",
      "97.63447830372016 45.233594195202585\n",
      "139.13499663858101 82.97217298531602\n",
      "141.99718430439364 83.50662119554308\n",
      "161.92626467249548 83.50372377027882\n",
      "124.64269233118831 84.11028233701856\n",
      "153.1490839515817 84.22192176712402\n",
      "134.01927660287794 84.54385372285192\n",
      "113.4323274601222 31.808376304047613\n",
      "114.65756645573938 31.658668354649205\n",
      "126.0262138872347 31.720679886454086\n",
      "114.93008826295384 32.55033526356105\n",
      "113.51921268784199 32.68829421856544\n",
      "155.93007005960936 32.92222194861509\n",
      "144.5705944733051 33.630554690700976\n",
      "154.58437429992506 33.63775178876844\n",
      "113.87084013885595 33.898759110313044\n",
      "113.91449795694923 33.92867849640347\n",
      "125.04143724437658 33.92588472209423\n",
      "134.87285448833575 33.90030870123795\n",
      "101.63049151169858 35.16350643481054\n",
      "103.13833643603742 35.31006459480891\n",
      "123.76746735865873 35.51486905839541\n",
      "250.33672844764067 35.71651745796632\n",
      "100.14463114450014 36.07140427535344\n",
      "101.14446751567763 37.11827231741465\n",
      "101.73026982474398 37.00183671576423\n",
      "102.94945296260671 36.99147085317001\n",
      "100.87050554333102 37.475579277776845\n",
      "102.63786763993241 37.547830644885856\n",
      "191.45386175484197 27.037206469260227\n",
      "191.5654900247954 26.881864293113978\n",
      "193.7599820154271 27.665834652911126\n",
      "356.85219746348434 27.804805406184876\n",
      "356.89474136264744 27.766352761493152\n",
      "356.78614700594784 27.882403131354543\n",
      "357.0452311814642 27.998845541455573\n",
      "192.46764644879144 28.373681482846944\n",
      "192.82674762089152 28.669843085848115\n",
      "5.377502936438869 29.29746384964221\n",
      "5.155203880615529 29.57107889657887\n",
      "356.90491333474756 29.534878535810034\n",
      "355.74316584502105 30.33518368374837\n",
      "355.9567430357054 30.57060157551506\n",
      "356.16272445297693 30.564643685116604\n",
      "125.49278156564776 30.896868086091274\n",
      "112.95169235928131 31.571250884417356\n",
      "114.30263810558033 31.54486475775457\n"
     ]
    }
   ],
   "source": [
    "for i in range(0,112):\n",
    "    print(np.array(cut_catalog['TARGET_RA'])[i],np.array(cut_catalog['TARGET_DEC'])[i])"
   ]
  },
  {
   "cell_type": "code",
   "execution_count": null,
   "metadata": {},
   "outputs": [],
   "source": []
  }
 ],
 "metadata": {
  "kernelspec": {
   "display_name": "Python 3",
   "language": "python",
   "name": "python3"
  },
  "language_info": {
   "codemirror_mode": {
    "name": "ipython",
    "version": 3
   },
   "file_extension": ".py",
   "mimetype": "text/x-python",
   "name": "python",
   "nbconvert_exporter": "python",
   "pygments_lexer": "ipython3",
   "version": "3.7.4"
  }
 },
 "nbformat": 4,
 "nbformat_minor": 4
}
